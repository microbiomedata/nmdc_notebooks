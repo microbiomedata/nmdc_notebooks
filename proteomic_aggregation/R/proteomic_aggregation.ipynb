{
 "cells": [
  {
   "cell_type": "markdown",
   "metadata": {},
   "source": [
    "# Proteomic Data Aggregation and Visualization\n",
    "\n",
    "\n",
    "This notebook demonstrates aggregation of proteomic data via the National Microbiome Data Collaborative (NMDC)'s [Runtime API](https://api.microbiomedata.org/docs). It highlights how the NMDC's schema can be used to overcome some of the numerous challenges associated with this type of aggregation. Please note that this notebook is intended for individuals with experience performing mass spectrometry based proteomic analyses and that various parameter and processing choices were made for this example use case. They are not broadly applicable and should be adjusted as needed. \n",
    "\n",
    "\n",
    "Notebook Steps:\n",
    "\n",
    "1) Assess background information and collect datasets for an example study of riverbed sediment along the Columbia River\n",
    "\n",
    "2) Apply a spectral probability filter across the data that optimizes the number of identifications for an FDR of 0.05\n",
    "\n",
    "3) Collapse to unique peptides and normalize quantification\n",
    "\n",
    "4) Extract functional gene annotations for proteins\n",
    "\n",
    "5) Generate annotation and protein mappings for peptides using \"razor protein\" parsimony strategy\n",
    "\n",
    "6) Perform protein rollup using the \"razor protein\" results and summarize into an aggregated table of relative protein abundance"
   ]
  },
  {
   "cell_type": "markdown",
   "metadata": {},
   "source": [
    "Import libraries and R scripts containing functions necessary to run this notebook. `aggregation_functions.R` (also in this folder) includes spectral probability filtering and protein mapping functions. `utility_functions.R` (located in the base directory) includes functions for API traversal of the collections endpoint."
   ]
  },
  {
   "cell_type": "code",
   "execution_count": null,
   "metadata": {
    "vscode": {
     "languageId": "r"
    }
   },
   "outputs": [],
   "source": [
    "# Setup \n",
    "# Add renv project library to R environment variable libPaths()\n",
    ".libPaths(c(.libPaths(), \"../../renv/library/*/R-*/*\"))\n",
    "\n",
    "# Load required packages\n",
    "suppressPackageStartupMessages({\n",
    "  library(dplyr, warn.conflicts = FALSE)\n",
    "  library(tidyr, warn.conflicts = FALSE)\n",
    "  library(stringr, warn.conflicts = FALSE)\n",
    "  library(readr, warn.conflicts = FALSE)\n",
    "  library(ggplot2, warn.conflicts = FALSE)\n",
    "  library(jsonlite, warn.conflicts = FALSE)\n",
    "  library(grid, warn.conflicts = FALSE)\n",
    "  })\n",
    "\n",
    "# Load NMDC API and protein aggregation functions from this repo\n",
    "if(Sys.getenv(\"COLAB_BACKEND_VERSION\") == \"\") {\n",
    "  source(\"../../utility_functions.R\")\n",
    "  source(\"aggregation_functions.R\")\n",
    "}\n",
    "\n",
    "if(Sys.getenv(\"COLAB_BACKEND_VERSION\") != \"\") {\n",
    "  source(\"http://raw.githubusercontent.com/microbiomedata/nmdc_notebooks/refs/heads/main/utility_functions.R\")\n",
    "  source(\"http://raw.githubusercontent.com/microbiomedata/nmdc_notebooks/refs/heads/96-translate-proteomic-aggregation-notebook-into-r/proteomic_aggregation/R/aggregation_functions.R\")\n",
    "}"
   ]
  },
  {
   "cell_type": "markdown",
   "metadata": {},
   "source": [
    "## 1) Assess background information and collect data for an example study of riverbed sediment along the Columbia River"
   ]
  },
  {
   "cell_type": "markdown",
   "metadata": {},
   "source": [
    "Review the example study on the [NMDC data portal](https://data.microbiomedata.org/details/study/nmdc:sty-11-aygzgv51). Use the study `id` embedded in the url (`nmdc:sty-11-aygzgv51`) to collect all related data objects via the [NMDC Runtime API](https://api.microbiomedata.org/docs) and reformat the JSON output into a Pandas dataframe. These data objects reference both input files (i.e. raw instrument data, GFF) and output files (i.e. metaproteomic results) for the NMDC workflows."
   ]
  },
  {
   "cell_type": "code",
   "execution_count": 2,
   "metadata": {
    "vscode": {
     "languageId": "r"
    }
   },
   "outputs": [],
   "source": [
    "data_objects <- get_data_objects_for_study(\"nmdc:sty-11-aygzgv51\") %>%\n",
    "  # Remove unnecessary columns for simpler dataframe\n",
    "  select(id, name, data_object_type, url, biosample_id, in_manifest) %>%\n",
    "  # Flatten in_manifest\n",
    "  mutate(in_manifest = as.character(in_manifest))"
   ]
  },
  {
   "cell_type": "markdown",
   "metadata": {},
   "source": [
    "Subset the data objects to 'Unfiltered Metaproteomic Results'. These files contain the proteomic workflow outputs that will be used for proteomic aggregation."
   ]
  },
  {
   "cell_type": "code",
   "execution_count": 3,
   "metadata": {
    "vscode": {
     "languageId": "r"
    }
   },
   "outputs": [
    {
     "data": {
      "text/html": [
       "<table class=\"dataframe\">\n",
       "<caption>A tibble: 6 × 6</caption>\n",
       "<thead>\n",
       "\t<tr><th scope=col>processed_dobj_id</th><th scope=col>name</th><th scope=col>data_object_type</th><th scope=col>url</th><th scope=col>biosample_id</th><th scope=col>in_manifest</th></tr>\n",
       "\t<tr><th scope=col>&lt;chr&gt;</th><th scope=col>&lt;chr&gt;</th><th scope=col>&lt;chr&gt;</th><th scope=col>&lt;chr&gt;</th><th scope=col>&lt;chr&gt;</th><th scope=col>&lt;chr&gt;</th></tr>\n",
       "</thead>\n",
       "<tbody>\n",
       "\t<tr><td>nmdc:dobj-11-wcn69x37</td><td>nmdc_dobj-11-rrmg7w64_nmdc_dobj-11-532pnk74_msgfplus_syn_PlusSICStats.txt</td><td>Unfiltered Metaproteomics Results</td><td>https://nmdcdemo.emsl.pnnl.gov/proteomics/results/nmdc_dobj-11-rrmg7w64_nmdc_dobj-11-532pnk74_msgfplus_syn_PlusSICStats.txt</td><td>nmdc:bsm-13-kcdh3w94</td><td>nmdc:manif-11-7796sg87</td></tr>\n",
       "\t<tr><td>nmdc:dobj-11-bxyvx506</td><td>nmdc_dobj-11-xvmb4058_nmdc_dobj-11-bvya7a43_msgfplus_syn_PlusSICStats.txt</td><td>Unfiltered Metaproteomics Results</td><td>https://nmdcdemo.emsl.pnnl.gov/proteomics/results/nmdc_dobj-11-xvmb4058_nmdc_dobj-11-bvya7a43_msgfplus_syn_PlusSICStats.txt</td><td>nmdc:bsm-13-1p0tct86</td><td>nmdc:manif-11-7796sg87</td></tr>\n",
       "\t<tr><td>nmdc:dobj-11-z8hc0j30</td><td>nmdc_dobj-11-hp2vmj63_nmdc_dobj-11-716e7y35_msgfplus_syn_PlusSICStats.txt</td><td>Unfiltered Metaproteomics Results</td><td>https://nmdcdemo.emsl.pnnl.gov/proteomics/results/nmdc_dobj-11-hp2vmj63_nmdc_dobj-11-716e7y35_msgfplus_syn_PlusSICStats.txt</td><td>nmdc:bsm-13-2fw5j754</td><td>nmdc:manif-11-7796sg87</td></tr>\n",
       "\t<tr><td>nmdc:dobj-11-7r5yea49</td><td>nmdc_dobj-11-qtxceg35_nmdc_dobj-11-feg1eb37_msgfplus_syn_PlusSICStats.txt</td><td>Unfiltered Metaproteomics Results</td><td>https://nmdcdemo.emsl.pnnl.gov/proteomics/results/nmdc_dobj-11-qtxceg35_nmdc_dobj-11-feg1eb37_msgfplus_syn_PlusSICStats.txt</td><td>nmdc:bsm-13-peafgc08</td><td>nmdc:manif-11-7796sg87</td></tr>\n",
       "\t<tr><td>nmdc:dobj-11-ta8dx369</td><td>nmdc_dobj-11-rqssmk98_nmdc_dobj-11-43ewsd57_msgfplus_syn_PlusSICStats.txt</td><td>Unfiltered Metaproteomics Results</td><td>https://nmdcdemo.emsl.pnnl.gov/proteomics/results/nmdc_dobj-11-rqssmk98_nmdc_dobj-11-43ewsd57_msgfplus_syn_PlusSICStats.txt</td><td>nmdc:bsm-13-kem2v355</td><td>nmdc:manif-11-7796sg87</td></tr>\n",
       "\t<tr><td>nmdc:dobj-11-k3sz7e40</td><td>nmdc_dobj-11-t07ryb39_nmdc_dobj-11-6vry3s86_msgfplus_syn_PlusSICStats.txt</td><td>Unfiltered Metaproteomics Results</td><td>https://nmdcdemo.emsl.pnnl.gov/proteomics/results/nmdc_dobj-11-t07ryb39_nmdc_dobj-11-6vry3s86_msgfplus_syn_PlusSICStats.txt</td><td>nmdc:bsm-13-drp3nj25</td><td>nmdc:manif-11-7796sg87</td></tr>\n",
       "</tbody>\n",
       "</table>\n"
      ],
      "text/latex": [
       "A tibble: 6 × 6\n",
       "\\begin{tabular}{llllll}\n",
       " processed\\_dobj\\_id & name & data\\_object\\_type & url & biosample\\_id & in\\_manifest\\\\\n",
       " <chr> & <chr> & <chr> & <chr> & <chr> & <chr>\\\\\n",
       "\\hline\n",
       "\t nmdc:dobj-11-wcn69x37 & nmdc\\_dobj-11-rrmg7w64\\_nmdc\\_dobj-11-532pnk74\\_msgfplus\\_syn\\_PlusSICStats.txt & Unfiltered Metaproteomics Results & https://nmdcdemo.emsl.pnnl.gov/proteomics/results/nmdc\\_dobj-11-rrmg7w64\\_nmdc\\_dobj-11-532pnk74\\_msgfplus\\_syn\\_PlusSICStats.txt & nmdc:bsm-13-kcdh3w94 & nmdc:manif-11-7796sg87\\\\\n",
       "\t nmdc:dobj-11-bxyvx506 & nmdc\\_dobj-11-xvmb4058\\_nmdc\\_dobj-11-bvya7a43\\_msgfplus\\_syn\\_PlusSICStats.txt & Unfiltered Metaproteomics Results & https://nmdcdemo.emsl.pnnl.gov/proteomics/results/nmdc\\_dobj-11-xvmb4058\\_nmdc\\_dobj-11-bvya7a43\\_msgfplus\\_syn\\_PlusSICStats.txt & nmdc:bsm-13-1p0tct86 & nmdc:manif-11-7796sg87\\\\\n",
       "\t nmdc:dobj-11-z8hc0j30 & nmdc\\_dobj-11-hp2vmj63\\_nmdc\\_dobj-11-716e7y35\\_msgfplus\\_syn\\_PlusSICStats.txt & Unfiltered Metaproteomics Results & https://nmdcdemo.emsl.pnnl.gov/proteomics/results/nmdc\\_dobj-11-hp2vmj63\\_nmdc\\_dobj-11-716e7y35\\_msgfplus\\_syn\\_PlusSICStats.txt & nmdc:bsm-13-2fw5j754 & nmdc:manif-11-7796sg87\\\\\n",
       "\t nmdc:dobj-11-7r5yea49 & nmdc\\_dobj-11-qtxceg35\\_nmdc\\_dobj-11-feg1eb37\\_msgfplus\\_syn\\_PlusSICStats.txt & Unfiltered Metaproteomics Results & https://nmdcdemo.emsl.pnnl.gov/proteomics/results/nmdc\\_dobj-11-qtxceg35\\_nmdc\\_dobj-11-feg1eb37\\_msgfplus\\_syn\\_PlusSICStats.txt & nmdc:bsm-13-peafgc08 & nmdc:manif-11-7796sg87\\\\\n",
       "\t nmdc:dobj-11-ta8dx369 & nmdc\\_dobj-11-rqssmk98\\_nmdc\\_dobj-11-43ewsd57\\_msgfplus\\_syn\\_PlusSICStats.txt & Unfiltered Metaproteomics Results & https://nmdcdemo.emsl.pnnl.gov/proteomics/results/nmdc\\_dobj-11-rqssmk98\\_nmdc\\_dobj-11-43ewsd57\\_msgfplus\\_syn\\_PlusSICStats.txt & nmdc:bsm-13-kem2v355 & nmdc:manif-11-7796sg87\\\\\n",
       "\t nmdc:dobj-11-k3sz7e40 & nmdc\\_dobj-11-t07ryb39\\_nmdc\\_dobj-11-6vry3s86\\_msgfplus\\_syn\\_PlusSICStats.txt & Unfiltered Metaproteomics Results & https://nmdcdemo.emsl.pnnl.gov/proteomics/results/nmdc\\_dobj-11-t07ryb39\\_nmdc\\_dobj-11-6vry3s86\\_msgfplus\\_syn\\_PlusSICStats.txt & nmdc:bsm-13-drp3nj25 & nmdc:manif-11-7796sg87\\\\\n",
       "\\end{tabular}\n"
      ],
      "text/markdown": [
       "\n",
       "A tibble: 6 × 6\n",
       "\n",
       "| processed_dobj_id &lt;chr&gt; | name &lt;chr&gt; | data_object_type &lt;chr&gt; | url &lt;chr&gt; | biosample_id &lt;chr&gt; | in_manifest &lt;chr&gt; |\n",
       "|---|---|---|---|---|---|\n",
       "| nmdc:dobj-11-wcn69x37 | nmdc_dobj-11-rrmg7w64_nmdc_dobj-11-532pnk74_msgfplus_syn_PlusSICStats.txt | Unfiltered Metaproteomics Results | https://nmdcdemo.emsl.pnnl.gov/proteomics/results/nmdc_dobj-11-rrmg7w64_nmdc_dobj-11-532pnk74_msgfplus_syn_PlusSICStats.txt | nmdc:bsm-13-kcdh3w94 | nmdc:manif-11-7796sg87 |\n",
       "| nmdc:dobj-11-bxyvx506 | nmdc_dobj-11-xvmb4058_nmdc_dobj-11-bvya7a43_msgfplus_syn_PlusSICStats.txt | Unfiltered Metaproteomics Results | https://nmdcdemo.emsl.pnnl.gov/proteomics/results/nmdc_dobj-11-xvmb4058_nmdc_dobj-11-bvya7a43_msgfplus_syn_PlusSICStats.txt | nmdc:bsm-13-1p0tct86 | nmdc:manif-11-7796sg87 |\n",
       "| nmdc:dobj-11-z8hc0j30 | nmdc_dobj-11-hp2vmj63_nmdc_dobj-11-716e7y35_msgfplus_syn_PlusSICStats.txt | Unfiltered Metaproteomics Results | https://nmdcdemo.emsl.pnnl.gov/proteomics/results/nmdc_dobj-11-hp2vmj63_nmdc_dobj-11-716e7y35_msgfplus_syn_PlusSICStats.txt | nmdc:bsm-13-2fw5j754 | nmdc:manif-11-7796sg87 |\n",
       "| nmdc:dobj-11-7r5yea49 | nmdc_dobj-11-qtxceg35_nmdc_dobj-11-feg1eb37_msgfplus_syn_PlusSICStats.txt | Unfiltered Metaproteomics Results | https://nmdcdemo.emsl.pnnl.gov/proteomics/results/nmdc_dobj-11-qtxceg35_nmdc_dobj-11-feg1eb37_msgfplus_syn_PlusSICStats.txt | nmdc:bsm-13-peafgc08 | nmdc:manif-11-7796sg87 |\n",
       "| nmdc:dobj-11-ta8dx369 | nmdc_dobj-11-rqssmk98_nmdc_dobj-11-43ewsd57_msgfplus_syn_PlusSICStats.txt | Unfiltered Metaproteomics Results | https://nmdcdemo.emsl.pnnl.gov/proteomics/results/nmdc_dobj-11-rqssmk98_nmdc_dobj-11-43ewsd57_msgfplus_syn_PlusSICStats.txt | nmdc:bsm-13-kem2v355 | nmdc:manif-11-7796sg87 |\n",
       "| nmdc:dobj-11-k3sz7e40 | nmdc_dobj-11-t07ryb39_nmdc_dobj-11-6vry3s86_msgfplus_syn_PlusSICStats.txt | Unfiltered Metaproteomics Results | https://nmdcdemo.emsl.pnnl.gov/proteomics/results/nmdc_dobj-11-t07ryb39_nmdc_dobj-11-6vry3s86_msgfplus_syn_PlusSICStats.txt | nmdc:bsm-13-drp3nj25 | nmdc:manif-11-7796sg87 |\n",
       "\n"
      ],
      "text/plain": [
       "  processed_dobj_id    \n",
       "1 nmdc:dobj-11-wcn69x37\n",
       "2 nmdc:dobj-11-bxyvx506\n",
       "3 nmdc:dobj-11-z8hc0j30\n",
       "4 nmdc:dobj-11-7r5yea49\n",
       "5 nmdc:dobj-11-ta8dx369\n",
       "6 nmdc:dobj-11-k3sz7e40\n",
       "  name                                                                     \n",
       "1 nmdc_dobj-11-rrmg7w64_nmdc_dobj-11-532pnk74_msgfplus_syn_PlusSICStats.txt\n",
       "2 nmdc_dobj-11-xvmb4058_nmdc_dobj-11-bvya7a43_msgfplus_syn_PlusSICStats.txt\n",
       "3 nmdc_dobj-11-hp2vmj63_nmdc_dobj-11-716e7y35_msgfplus_syn_PlusSICStats.txt\n",
       "4 nmdc_dobj-11-qtxceg35_nmdc_dobj-11-feg1eb37_msgfplus_syn_PlusSICStats.txt\n",
       "5 nmdc_dobj-11-rqssmk98_nmdc_dobj-11-43ewsd57_msgfplus_syn_PlusSICStats.txt\n",
       "6 nmdc_dobj-11-t07ryb39_nmdc_dobj-11-6vry3s86_msgfplus_syn_PlusSICStats.txt\n",
       "  data_object_type                 \n",
       "1 Unfiltered Metaproteomics Results\n",
       "2 Unfiltered Metaproteomics Results\n",
       "3 Unfiltered Metaproteomics Results\n",
       "4 Unfiltered Metaproteomics Results\n",
       "5 Unfiltered Metaproteomics Results\n",
       "6 Unfiltered Metaproteomics Results\n",
       "  url                                                                                                                        \n",
       "1 https://nmdcdemo.emsl.pnnl.gov/proteomics/results/nmdc_dobj-11-rrmg7w64_nmdc_dobj-11-532pnk74_msgfplus_syn_PlusSICStats.txt\n",
       "2 https://nmdcdemo.emsl.pnnl.gov/proteomics/results/nmdc_dobj-11-xvmb4058_nmdc_dobj-11-bvya7a43_msgfplus_syn_PlusSICStats.txt\n",
       "3 https://nmdcdemo.emsl.pnnl.gov/proteomics/results/nmdc_dobj-11-hp2vmj63_nmdc_dobj-11-716e7y35_msgfplus_syn_PlusSICStats.txt\n",
       "4 https://nmdcdemo.emsl.pnnl.gov/proteomics/results/nmdc_dobj-11-qtxceg35_nmdc_dobj-11-feg1eb37_msgfplus_syn_PlusSICStats.txt\n",
       "5 https://nmdcdemo.emsl.pnnl.gov/proteomics/results/nmdc_dobj-11-rqssmk98_nmdc_dobj-11-43ewsd57_msgfplus_syn_PlusSICStats.txt\n",
       "6 https://nmdcdemo.emsl.pnnl.gov/proteomics/results/nmdc_dobj-11-t07ryb39_nmdc_dobj-11-6vry3s86_msgfplus_syn_PlusSICStats.txt\n",
       "  biosample_id         in_manifest           \n",
       "1 nmdc:bsm-13-kcdh3w94 nmdc:manif-11-7796sg87\n",
       "2 nmdc:bsm-13-1p0tct86 nmdc:manif-11-7796sg87\n",
       "3 nmdc:bsm-13-2fw5j754 nmdc:manif-11-7796sg87\n",
       "4 nmdc:bsm-13-peafgc08 nmdc:manif-11-7796sg87\n",
       "5 nmdc:bsm-13-kem2v355 nmdc:manif-11-7796sg87\n",
       "6 nmdc:bsm-13-drp3nj25 nmdc:manif-11-7796sg87"
      ]
     },
     "metadata": {},
     "output_type": "display_data"
    }
   ],
   "source": [
    "proteomic_output_df <- data_objects %>%\n",
    "  filter(data_object_type == \"Unfiltered Metaproteomics Results\") %>%\n",
    "  dplyr::rename(processed_dobj_id = \"id\")\n",
    "\n",
    "head(proteomic_output_df)"
   ]
  },
  {
   "cell_type": "markdown",
   "metadata": {},
   "source": [
    "There are various requirements that enable mass spectrometry runs to be aggregated and analyzed together. For example, runs need to be performed in succession, on the same instrument. The NMDC schema can make it easier to find these proteomic results by linking them via a slot called `in_manifest`.\n",
    "\n",
    "Look at the `in_manifest` id on these proteomic outputs to confirm that all runs are in the same manifest record, and pull that record. If that manifest record's `manifest_category` value is 'instrument_run', then it confirms that these are LC-MS/MS runs that were performed in succession on the same instrument. Proteomic outputs from different manifest records should not be aggregated."
   ]
  },
  {
   "cell_type": "code",
   "execution_count": 4,
   "metadata": {
    "vscode": {
     "languageId": "r"
    }
   },
   "outputs": [
    {
     "data": {
      "text/html": [
       "'nmdc:manif-11-7796sg87'"
      ],
      "text/latex": [
       "'nmdc:manif-11-7796sg87'"
      ],
      "text/markdown": [
       "'nmdc:manif-11-7796sg87'"
      ],
      "text/plain": [
       "[1] \"nmdc:manif-11-7796sg87\""
      ]
     },
     "metadata": {},
     "output_type": "display_data"
    }
   ],
   "source": [
    "# Display manifest IDs for the records in proteomic_output_df\n",
    "manifest_id <- unique(proteomic_output_df$in_manifest)\n",
    "manifest_id"
   ]
  },
  {
   "cell_type": "code",
   "execution_count": 5,
   "metadata": {
    "vscode": {
     "languageId": "r"
    }
   },
   "outputs": [
    {
     "data": {
      "text/html": [
       "<table class=\"dataframe\">\n",
       "<caption>A data.frame: 1 × 4</caption>\n",
       "<thead>\n",
       "\t<tr><th scope=col>id</th><th scope=col>manifest_category</th><th scope=col>type</th><th scope=col>description</th></tr>\n",
       "\t<tr><th scope=col>&lt;chr&gt;</th><th scope=col>&lt;chr&gt;</th><th scope=col>&lt;chr&gt;</th><th scope=col>&lt;chr&gt;</th></tr>\n",
       "</thead>\n",
       "<tbody>\n",
       "\t<tr><td>nmdc:manif-11-7796sg87</td><td>instrument_run</td><td>nmdc:Manifest</td><td>collection of metaproteomic analyses from the same instrument run nmdc:sty-11-aygzgv51</td></tr>\n",
       "</tbody>\n",
       "</table>\n"
      ],
      "text/latex": [
       "A data.frame: 1 × 4\n",
       "\\begin{tabular}{llll}\n",
       " id & manifest\\_category & type & description\\\\\n",
       " <chr> & <chr> & <chr> & <chr>\\\\\n",
       "\\hline\n",
       "\t nmdc:manif-11-7796sg87 & instrument\\_run & nmdc:Manifest & collection of metaproteomic analyses from the same instrument run nmdc:sty-11-aygzgv51\\\\\n",
       "\\end{tabular}\n"
      ],
      "text/markdown": [
       "\n",
       "A data.frame: 1 × 4\n",
       "\n",
       "| id &lt;chr&gt; | manifest_category &lt;chr&gt; | type &lt;chr&gt; | description &lt;chr&gt; |\n",
       "|---|---|---|---|\n",
       "| nmdc:manif-11-7796sg87 | instrument_run | nmdc:Manifest | collection of metaproteomic analyses from the same instrument run nmdc:sty-11-aygzgv51 |\n",
       "\n"
      ],
      "text/plain": [
       "  id                     manifest_category type         \n",
       "1 nmdc:manif-11-7796sg87 instrument_run    nmdc:Manifest\n",
       "  description                                                                           \n",
       "1 collection of metaproteomic analyses from the same instrument run nmdc:sty-11-aygzgv51"
      ]
     },
     "metadata": {},
     "output_type": "display_data"
    }
   ],
   "source": [
    "# In this case there is only one, print manifest information\n",
    "manifest <- get_results_by_id(collection = \"manifest_set\", \n",
    "                              match_id_field = \"id\", \n",
    "                              id_list = manifest_id, \n",
    "                              fields = \"\")\n",
    "manifest"
   ]
  },
  {
   "cell_type": "markdown",
   "metadata": {},
   "source": [
    "Look at an example of the information in 'Unfiltered Metaproteomics Results', which contains peptide identification and relative abundance information."
   ]
  },
  {
   "cell_type": "code",
   "execution_count": 6,
   "metadata": {
    "vscode": {
     "languageId": "r"
    }
   },
   "outputs": [
    {
     "data": {
      "text/html": [
       "'Reading file from https://nmdcdemo.emsl.pnnl.gov/proteomics/results/nmdc_dobj-11-rrmg7w64_nmdc_dobj-11-532pnk74_msgfplus_syn_PlusSICStats.txt'"
      ],
      "text/latex": [
       "'Reading file from https://nmdcdemo.emsl.pnnl.gov/proteomics/results/nmdc\\_dobj-11-rrmg7w64\\_nmdc\\_dobj-11-532pnk74\\_msgfplus\\_syn\\_PlusSICStats.txt'"
      ],
      "text/markdown": [
       "'Reading file from https://nmdcdemo.emsl.pnnl.gov/proteomics/results/nmdc_dobj-11-rrmg7w64_nmdc_dobj-11-532pnk74_msgfplus_syn_PlusSICStats.txt'"
      ],
      "text/plain": [
       "[1] \"Reading file from https://nmdcdemo.emsl.pnnl.gov/proteomics/results/nmdc_dobj-11-rrmg7w64_nmdc_dobj-11-532pnk74_msgfplus_syn_PlusSICStats.txt\""
      ]
     },
     "metadata": {},
     "output_type": "display_data"
    },
    {
     "data": {
      "text/html": [
       "<table class=\"dataframe\">\n",
       "<caption>A tibble: 6 × 36</caption>\n",
       "<thead>\n",
       "\t<tr><th scope=col>ResultID</th><th scope=col>Scan</th><th scope=col>FragMethod</th><th scope=col>SpecIndex</th><th scope=col>Charge</th><th scope=col>PrecursorMZ</th><th scope=col>DelM</th><th scope=col>DelM_PPM</th><th scope=col>MH</th><th scope=col>Peptide</th><th scope=col>⋯</th><th scope=col>PeakMaxIntensity</th><th scope=col>PeakSignalToNoiseRatio</th><th scope=col>FWHMInScans</th><th scope=col>PeakArea</th><th scope=col>ParentIonIntensity</th><th scope=col>ParentIonMZ</th><th scope=col>StatMomentsArea</th><th scope=col>PeakScanStart</th><th scope=col>PeakScanEnd</th><th scope=col>PeakWidthMinutes</th></tr>\n",
       "\t<tr><th scope=col>&lt;dbl&gt;</th><th scope=col>&lt;dbl&gt;</th><th scope=col>&lt;chr&gt;</th><th scope=col>&lt;dbl&gt;</th><th scope=col>&lt;dbl&gt;</th><th scope=col>&lt;dbl&gt;</th><th scope=col>&lt;dbl&gt;</th><th scope=col>&lt;dbl&gt;</th><th scope=col>&lt;dbl&gt;</th><th scope=col>&lt;chr&gt;</th><th scope=col>⋯</th><th scope=col>&lt;dbl&gt;</th><th scope=col>&lt;dbl&gt;</th><th scope=col>&lt;dbl&gt;</th><th scope=col>&lt;dbl&gt;</th><th scope=col>&lt;dbl&gt;</th><th scope=col>&lt;dbl&gt;</th><th scope=col>&lt;dbl&gt;</th><th scope=col>&lt;dbl&gt;</th><th scope=col>&lt;dbl&gt;</th><th scope=col>&lt;dbl&gt;</th></tr>\n",
       "</thead>\n",
       "<tbody>\n",
       "\t<tr><td>1</td><td>36395</td><td>HCD</td><td>1</td><td>2</td><td>1098.004</td><td> 0.00318</td><td> 1.44939</td><td>2193.994</td><td>K.SAYPGQITSNMFCAGYLEGGK.D</td><td>⋯</td><td>   242049</td><td> 85.520</td><td>268</td><td>1.6413e+07</td><td>  85675</td><td>1098.00</td><td>8.9992e+06</td><td>36001</td><td>36752</td><td>0</td></tr>\n",
       "\t<tr><td>2</td><td>23937</td><td>HCD</td><td>2</td><td>3</td><td> 721.689</td><td>-0.00384</td><td>-1.77602</td><td>2163.056</td><td>R.LGEDNINVVEGNEQFISASK.S </td><td>⋯</td><td>223900000</td><td>903.800</td><td> 81</td><td>1.9892e+10</td><td>2994700</td><td> 721.69</td><td>1.8237e+10</td><td>23819</td><td>24330</td><td>0</td></tr>\n",
       "\t<tr><td>3</td><td>45758</td><td>HCD</td><td>3</td><td>2</td><td>1082.528</td><td>-0.01067</td><td>-4.93472</td><td>2163.056</td><td>R.LGEDNINVVEGNEQFISASK.S </td><td>⋯</td><td>  1841600</td><td>  5.298</td><td>334</td><td>5.9488e+08</td><td>1279900</td><td>1082.53</td><td>4.0779e+08</td><td>45649</td><td>46197</td><td>0</td></tr>\n",
       "\t<tr><td>4</td><td>46000</td><td>HCD</td><td>4</td><td>2</td><td>1082.528</td><td>-0.01189</td><td>-5.49880</td><td>2163.056</td><td>R.LGEDNINVVEGNEQFISASK.S </td><td>⋯</td><td>  1841600</td><td>  5.298</td><td>334</td><td>5.9488e+08</td><td> 682061</td><td>1082.53</td><td>4.0779e+08</td><td>45649</td><td>46197</td><td>0</td></tr>\n",
       "\t<tr><td>5</td><td>23740</td><td>HCD</td><td>5</td><td>2</td><td>1082.531</td><td>-0.00530</td><td>-2.45277</td><td>2163.056</td><td>R.LGEDNINVVEGNEQFISASK.S </td><td>⋯</td><td>226900000</td><td>715.700</td><td> 76</td><td>2.1020e+10</td><td> 689025</td><td>1082.53</td><td>1.9427e+10</td><td>23735</td><td>24344</td><td>0</td></tr>\n",
       "\t<tr><td>6</td><td>45501</td><td>HCD</td><td>6</td><td>2</td><td>1082.536</td><td> 0.00410</td><td> 1.89494</td><td>2163.056</td><td>R.LGEDNINVVEGNEQFISASK.S </td><td>⋯</td><td>  5783000</td><td> 28.900</td><td>116</td><td>7.7383e+08</td><td>1078100</td><td>1082.54</td><td>7.0673e+08</td><td>45259</td><td>45619</td><td>0</td></tr>\n",
       "</tbody>\n",
       "</table>\n"
      ],
      "text/latex": [
       "A tibble: 6 × 36\n",
       "\\begin{tabular}{lllllllllllllllllllll}\n",
       " ResultID & Scan & FragMethod & SpecIndex & Charge & PrecursorMZ & DelM & DelM\\_PPM & MH & Peptide & ⋯ & PeakMaxIntensity & PeakSignalToNoiseRatio & FWHMInScans & PeakArea & ParentIonIntensity & ParentIonMZ & StatMomentsArea & PeakScanStart & PeakScanEnd & PeakWidthMinutes\\\\\n",
       " <dbl> & <dbl> & <chr> & <dbl> & <dbl> & <dbl> & <dbl> & <dbl> & <dbl> & <chr> & ⋯ & <dbl> & <dbl> & <dbl> & <dbl> & <dbl> & <dbl> & <dbl> & <dbl> & <dbl> & <dbl>\\\\\n",
       "\\hline\n",
       "\t 1 & 36395 & HCD & 1 & 2 & 1098.004 &  0.00318 &  1.44939 & 2193.994 & K.SAYPGQITSNMFCAGYLEGGK.D & ⋯ &    242049 &  85.520 & 268 & 1.6413e+07 &   85675 & 1098.00 & 8.9992e+06 & 36001 & 36752 & 0\\\\\n",
       "\t 2 & 23937 & HCD & 2 & 3 &  721.689 & -0.00384 & -1.77602 & 2163.056 & R.LGEDNINVVEGNEQFISASK.S  & ⋯ & 223900000 & 903.800 &  81 & 1.9892e+10 & 2994700 &  721.69 & 1.8237e+10 & 23819 & 24330 & 0\\\\\n",
       "\t 3 & 45758 & HCD & 3 & 2 & 1082.528 & -0.01067 & -4.93472 & 2163.056 & R.LGEDNINVVEGNEQFISASK.S  & ⋯ &   1841600 &   5.298 & 334 & 5.9488e+08 & 1279900 & 1082.53 & 4.0779e+08 & 45649 & 46197 & 0\\\\\n",
       "\t 4 & 46000 & HCD & 4 & 2 & 1082.528 & -0.01189 & -5.49880 & 2163.056 & R.LGEDNINVVEGNEQFISASK.S  & ⋯ &   1841600 &   5.298 & 334 & 5.9488e+08 &  682061 & 1082.53 & 4.0779e+08 & 45649 & 46197 & 0\\\\\n",
       "\t 5 & 23740 & HCD & 5 & 2 & 1082.531 & -0.00530 & -2.45277 & 2163.056 & R.LGEDNINVVEGNEQFISASK.S  & ⋯ & 226900000 & 715.700 &  76 & 2.1020e+10 &  689025 & 1082.53 & 1.9427e+10 & 23735 & 24344 & 0\\\\\n",
       "\t 6 & 45501 & HCD & 6 & 2 & 1082.536 &  0.00410 &  1.89494 & 2163.056 & R.LGEDNINVVEGNEQFISASK.S  & ⋯ &   5783000 &  28.900 & 116 & 7.7383e+08 & 1078100 & 1082.54 & 7.0673e+08 & 45259 & 45619 & 0\\\\\n",
       "\\end{tabular}\n"
      ],
      "text/markdown": [
       "\n",
       "A tibble: 6 × 36\n",
       "\n",
       "| ResultID &lt;dbl&gt; | Scan &lt;dbl&gt; | FragMethod &lt;chr&gt; | SpecIndex &lt;dbl&gt; | Charge &lt;dbl&gt; | PrecursorMZ &lt;dbl&gt; | DelM &lt;dbl&gt; | DelM_PPM &lt;dbl&gt; | MH &lt;dbl&gt; | Peptide &lt;chr&gt; | ⋯ ⋯ | PeakMaxIntensity &lt;dbl&gt; | PeakSignalToNoiseRatio &lt;dbl&gt; | FWHMInScans &lt;dbl&gt; | PeakArea &lt;dbl&gt; | ParentIonIntensity &lt;dbl&gt; | ParentIonMZ &lt;dbl&gt; | StatMomentsArea &lt;dbl&gt; | PeakScanStart &lt;dbl&gt; | PeakScanEnd &lt;dbl&gt; | PeakWidthMinutes &lt;dbl&gt; |\n",
       "|---|---|---|---|---|---|---|---|---|---|---|---|---|---|---|---|---|---|---|---|---|\n",
       "| 1 | 36395 | HCD | 1 | 2 | 1098.004 |  0.00318 |  1.44939 | 2193.994 | K.SAYPGQITSNMFCAGYLEGGK.D | ⋯ |    242049 |  85.520 | 268 | 1.6413e+07 |   85675 | 1098.00 | 8.9992e+06 | 36001 | 36752 | 0 |\n",
       "| 2 | 23937 | HCD | 2 | 3 |  721.689 | -0.00384 | -1.77602 | 2163.056 | R.LGEDNINVVEGNEQFISASK.S  | ⋯ | 223900000 | 903.800 |  81 | 1.9892e+10 | 2994700 |  721.69 | 1.8237e+10 | 23819 | 24330 | 0 |\n",
       "| 3 | 45758 | HCD | 3 | 2 | 1082.528 | -0.01067 | -4.93472 | 2163.056 | R.LGEDNINVVEGNEQFISASK.S  | ⋯ |   1841600 |   5.298 | 334 | 5.9488e+08 | 1279900 | 1082.53 | 4.0779e+08 | 45649 | 46197 | 0 |\n",
       "| 4 | 46000 | HCD | 4 | 2 | 1082.528 | -0.01189 | -5.49880 | 2163.056 | R.LGEDNINVVEGNEQFISASK.S  | ⋯ |   1841600 |   5.298 | 334 | 5.9488e+08 |  682061 | 1082.53 | 4.0779e+08 | 45649 | 46197 | 0 |\n",
       "| 5 | 23740 | HCD | 5 | 2 | 1082.531 | -0.00530 | -2.45277 | 2163.056 | R.LGEDNINVVEGNEQFISASK.S  | ⋯ | 226900000 | 715.700 |  76 | 2.1020e+10 |  689025 | 1082.53 | 1.9427e+10 | 23735 | 24344 | 0 |\n",
       "| 6 | 45501 | HCD | 6 | 2 | 1082.536 |  0.00410 |  1.89494 | 2163.056 | R.LGEDNINVVEGNEQFISASK.S  | ⋯ |   5783000 |  28.900 | 116 | 7.7383e+08 | 1078100 | 1082.54 | 7.0673e+08 | 45259 | 45619 | 0 |\n",
       "\n"
      ],
      "text/plain": [
       "  ResultID Scan  FragMethod SpecIndex Charge PrecursorMZ DelM     DelM_PPM\n",
       "1 1        36395 HCD        1         2      1098.004     0.00318  1.44939\n",
       "2 2        23937 HCD        2         3       721.689    -0.00384 -1.77602\n",
       "3 3        45758 HCD        3         2      1082.528    -0.01067 -4.93472\n",
       "4 4        46000 HCD        4         2      1082.528    -0.01189 -5.49880\n",
       "5 5        23740 HCD        5         2      1082.531    -0.00530 -2.45277\n",
       "6 6        45501 HCD        6         2      1082.536     0.00410  1.89494\n",
       "  MH       Peptide                   ⋯ PeakMaxIntensity PeakSignalToNoiseRatio\n",
       "1 2193.994 K.SAYPGQITSNMFCAGYLEGGK.D ⋯    242049         85.520               \n",
       "2 2163.056 R.LGEDNINVVEGNEQFISASK.S  ⋯ 223900000        903.800               \n",
       "3 2163.056 R.LGEDNINVVEGNEQFISASK.S  ⋯   1841600          5.298               \n",
       "4 2163.056 R.LGEDNINVVEGNEQFISASK.S  ⋯   1841600          5.298               \n",
       "5 2163.056 R.LGEDNINVVEGNEQFISASK.S  ⋯ 226900000        715.700               \n",
       "6 2163.056 R.LGEDNINVVEGNEQFISASK.S  ⋯   5783000         28.900               \n",
       "  FWHMInScans PeakArea   ParentIonIntensity ParentIonMZ StatMomentsArea\n",
       "1 268         1.6413e+07   85675            1098.00     8.9992e+06     \n",
       "2  81         1.9892e+10 2994700             721.69     1.8237e+10     \n",
       "3 334         5.9488e+08 1279900            1082.53     4.0779e+08     \n",
       "4 334         5.9488e+08  682061            1082.53     4.0779e+08     \n",
       "5  76         2.1020e+10  689025            1082.53     1.9427e+10     \n",
       "6 116         7.7383e+08 1078100            1082.54     7.0673e+08     \n",
       "  PeakScanStart PeakScanEnd PeakWidthMinutes\n",
       "1 36001         36752       0               \n",
       "2 23819         24330       0               \n",
       "3 45649         46197       0               \n",
       "4 45649         46197       0               \n",
       "5 23735         24344       0               \n",
       "6 45259         45619       0               "
      ]
     },
     "metadata": {},
     "output_type": "display_data"
    }
   ],
   "source": [
    "paste(\"Reading file from\", proteomic_output_df$url[1])\n",
    "\n",
    "head(read_tsv(proteomic_output_df$url[1], show_col_types = FALSE, progress = FALSE))"
   ]
  },
  {
   "cell_type": "markdown",
   "metadata": {},
   "source": [
    "Extract information from all proteomic results via the function `iterate_file_extract()` in `aggregation_functions.R`, and put them into a single dataframe, where each scan in each dataset has the unique identifier `SpecID`. \n",
    "\n",
    "Clean prefix and suffix off of each peptide sequence. \n",
    "\n",
    "Since this data was processed using a target-decoy approach, determine the type of protein being matched to each peptide: contaminant, reverse (false positive match to the reversed amino acid sequence of a protein), or forward (match to the true, forward amino acid sequence of a protein). The presence of forward and reverse matches enables FDR estimation in the next step."
   ]
  },
  {
   "cell_type": "code",
   "execution_count": 7,
   "metadata": {
    "vscode": {
     "languageId": "r"
    }
   },
   "outputs": [
    {
     "data": {
      "text/html": [
       "<table class=\"dataframe\">\n",
       "<caption>A tibble: 6 × 10</caption>\n",
       "<thead>\n",
       "\t<tr><th scope=col>Charge</th><th scope=col>Scan</th><th scope=col>Peptide</th><th scope=col>Protein</th><th scope=col>MSGFDB_SpecEValue</th><th scope=col>StatMomentsArea</th><th scope=col>id</th><th scope=col>SpecID</th><th scope=col>Peptide_Sequence_with_Mods</th><th scope=col>Protein_Type</th></tr>\n",
       "\t<tr><th scope=col>&lt;dbl&gt;</th><th scope=col>&lt;dbl&gt;</th><th scope=col>&lt;chr&gt;</th><th scope=col>&lt;chr&gt;</th><th scope=col>&lt;dbl&gt;</th><th scope=col>&lt;dbl&gt;</th><th scope=col>&lt;chr&gt;</th><th scope=col>&lt;chr&gt;</th><th scope=col>&lt;chr&gt;</th><th scope=col>&lt;chr&gt;</th></tr>\n",
       "</thead>\n",
       "<tbody>\n",
       "\t<tr><td>2</td><td>36395</td><td>K.SAYPGQITSNMFCAGYLEGGK.D</td><td>Contaminant_TRYP_BOVIN</td><td>1.7542e-23</td><td>8.9992e+06</td><td>nmdc:dobj-11-wcn69x37</td><td>nmdc:dobj-11-wcn69x37_36395</td><td>SAYPGQITSNMFCAGYLEGGK</td><td>None</td></tr>\n",
       "\t<tr><td>3</td><td>23937</td><td>R.LGEDNINVVEGNEQFISASK.S </td><td>Contaminant_TRYP_BOVIN</td><td>1.3225e-22</td><td>1.8237e+10</td><td>nmdc:dobj-11-wcn69x37</td><td>nmdc:dobj-11-wcn69x37_23937</td><td>LGEDNINVVEGNEQFISASK </td><td>None</td></tr>\n",
       "\t<tr><td>2</td><td>45758</td><td>R.LGEDNINVVEGNEQFISASK.S </td><td>Contaminant_TRYP_BOVIN</td><td>2.0227e-22</td><td>4.0779e+08</td><td>nmdc:dobj-11-wcn69x37</td><td>nmdc:dobj-11-wcn69x37_45758</td><td>LGEDNINVVEGNEQFISASK </td><td>None</td></tr>\n",
       "\t<tr><td>2</td><td>46000</td><td>R.LGEDNINVVEGNEQFISASK.S </td><td>Contaminant_TRYP_BOVIN</td><td>3.8106e-22</td><td>4.0779e+08</td><td>nmdc:dobj-11-wcn69x37</td><td>nmdc:dobj-11-wcn69x37_46000</td><td>LGEDNINVVEGNEQFISASK </td><td>None</td></tr>\n",
       "\t<tr><td>2</td><td>23740</td><td>R.LGEDNINVVEGNEQFISASK.S </td><td>Contaminant_TRYP_BOVIN</td><td>4.3118e-22</td><td>1.9427e+10</td><td>nmdc:dobj-11-wcn69x37</td><td>nmdc:dobj-11-wcn69x37_23740</td><td>LGEDNINVVEGNEQFISASK </td><td>None</td></tr>\n",
       "\t<tr><td>2</td><td>45501</td><td>R.LGEDNINVVEGNEQFISASK.S </td><td>Contaminant_TRYP_BOVIN</td><td>4.4073e-22</td><td>7.0673e+08</td><td>nmdc:dobj-11-wcn69x37</td><td>nmdc:dobj-11-wcn69x37_45501</td><td>LGEDNINVVEGNEQFISASK </td><td>None</td></tr>\n",
       "</tbody>\n",
       "</table>\n"
      ],
      "text/latex": [
       "A tibble: 6 × 10\n",
       "\\begin{tabular}{llllllllll}\n",
       " Charge & Scan & Peptide & Protein & MSGFDB\\_SpecEValue & StatMomentsArea & id & SpecID & Peptide\\_Sequence\\_with\\_Mods & Protein\\_Type\\\\\n",
       " <dbl> & <dbl> & <chr> & <chr> & <dbl> & <dbl> & <chr> & <chr> & <chr> & <chr>\\\\\n",
       "\\hline\n",
       "\t 2 & 36395 & K.SAYPGQITSNMFCAGYLEGGK.D & Contaminant\\_TRYP\\_BOVIN & 1.7542e-23 & 8.9992e+06 & nmdc:dobj-11-wcn69x37 & nmdc:dobj-11-wcn69x37\\_36395 & SAYPGQITSNMFCAGYLEGGK & None\\\\\n",
       "\t 3 & 23937 & R.LGEDNINVVEGNEQFISASK.S  & Contaminant\\_TRYP\\_BOVIN & 1.3225e-22 & 1.8237e+10 & nmdc:dobj-11-wcn69x37 & nmdc:dobj-11-wcn69x37\\_23937 & LGEDNINVVEGNEQFISASK  & None\\\\\n",
       "\t 2 & 45758 & R.LGEDNINVVEGNEQFISASK.S  & Contaminant\\_TRYP\\_BOVIN & 2.0227e-22 & 4.0779e+08 & nmdc:dobj-11-wcn69x37 & nmdc:dobj-11-wcn69x37\\_45758 & LGEDNINVVEGNEQFISASK  & None\\\\\n",
       "\t 2 & 46000 & R.LGEDNINVVEGNEQFISASK.S  & Contaminant\\_TRYP\\_BOVIN & 3.8106e-22 & 4.0779e+08 & nmdc:dobj-11-wcn69x37 & nmdc:dobj-11-wcn69x37\\_46000 & LGEDNINVVEGNEQFISASK  & None\\\\\n",
       "\t 2 & 23740 & R.LGEDNINVVEGNEQFISASK.S  & Contaminant\\_TRYP\\_BOVIN & 4.3118e-22 & 1.9427e+10 & nmdc:dobj-11-wcn69x37 & nmdc:dobj-11-wcn69x37\\_23740 & LGEDNINVVEGNEQFISASK  & None\\\\\n",
       "\t 2 & 45501 & R.LGEDNINVVEGNEQFISASK.S  & Contaminant\\_TRYP\\_BOVIN & 4.4073e-22 & 7.0673e+08 & nmdc:dobj-11-wcn69x37 & nmdc:dobj-11-wcn69x37\\_45501 & LGEDNINVVEGNEQFISASK  & None\\\\\n",
       "\\end{tabular}\n"
      ],
      "text/markdown": [
       "\n",
       "A tibble: 6 × 10\n",
       "\n",
       "| Charge &lt;dbl&gt; | Scan &lt;dbl&gt; | Peptide &lt;chr&gt; | Protein &lt;chr&gt; | MSGFDB_SpecEValue &lt;dbl&gt; | StatMomentsArea &lt;dbl&gt; | id &lt;chr&gt; | SpecID &lt;chr&gt; | Peptide_Sequence_with_Mods &lt;chr&gt; | Protein_Type &lt;chr&gt; |\n",
       "|---|---|---|---|---|---|---|---|---|---|\n",
       "| 2 | 36395 | K.SAYPGQITSNMFCAGYLEGGK.D | Contaminant_TRYP_BOVIN | 1.7542e-23 | 8.9992e+06 | nmdc:dobj-11-wcn69x37 | nmdc:dobj-11-wcn69x37_36395 | SAYPGQITSNMFCAGYLEGGK | None |\n",
       "| 3 | 23937 | R.LGEDNINVVEGNEQFISASK.S  | Contaminant_TRYP_BOVIN | 1.3225e-22 | 1.8237e+10 | nmdc:dobj-11-wcn69x37 | nmdc:dobj-11-wcn69x37_23937 | LGEDNINVVEGNEQFISASK  | None |\n",
       "| 2 | 45758 | R.LGEDNINVVEGNEQFISASK.S  | Contaminant_TRYP_BOVIN | 2.0227e-22 | 4.0779e+08 | nmdc:dobj-11-wcn69x37 | nmdc:dobj-11-wcn69x37_45758 | LGEDNINVVEGNEQFISASK  | None |\n",
       "| 2 | 46000 | R.LGEDNINVVEGNEQFISASK.S  | Contaminant_TRYP_BOVIN | 3.8106e-22 | 4.0779e+08 | nmdc:dobj-11-wcn69x37 | nmdc:dobj-11-wcn69x37_46000 | LGEDNINVVEGNEQFISASK  | None |\n",
       "| 2 | 23740 | R.LGEDNINVVEGNEQFISASK.S  | Contaminant_TRYP_BOVIN | 4.3118e-22 | 1.9427e+10 | nmdc:dobj-11-wcn69x37 | nmdc:dobj-11-wcn69x37_23740 | LGEDNINVVEGNEQFISASK  | None |\n",
       "| 2 | 45501 | R.LGEDNINVVEGNEQFISASK.S  | Contaminant_TRYP_BOVIN | 4.4073e-22 | 7.0673e+08 | nmdc:dobj-11-wcn69x37 | nmdc:dobj-11-wcn69x37_45501 | LGEDNINVVEGNEQFISASK  | None |\n",
       "\n"
      ],
      "text/plain": [
       "  Charge Scan  Peptide                   Protein               \n",
       "1 2      36395 K.SAYPGQITSNMFCAGYLEGGK.D Contaminant_TRYP_BOVIN\n",
       "2 3      23937 R.LGEDNINVVEGNEQFISASK.S  Contaminant_TRYP_BOVIN\n",
       "3 2      45758 R.LGEDNINVVEGNEQFISASK.S  Contaminant_TRYP_BOVIN\n",
       "4 2      46000 R.LGEDNINVVEGNEQFISASK.S  Contaminant_TRYP_BOVIN\n",
       "5 2      23740 R.LGEDNINVVEGNEQFISASK.S  Contaminant_TRYP_BOVIN\n",
       "6 2      45501 R.LGEDNINVVEGNEQFISASK.S  Contaminant_TRYP_BOVIN\n",
       "  MSGFDB_SpecEValue StatMomentsArea id                   \n",
       "1 1.7542e-23        8.9992e+06      nmdc:dobj-11-wcn69x37\n",
       "2 1.3225e-22        1.8237e+10      nmdc:dobj-11-wcn69x37\n",
       "3 2.0227e-22        4.0779e+08      nmdc:dobj-11-wcn69x37\n",
       "4 3.8106e-22        4.0779e+08      nmdc:dobj-11-wcn69x37\n",
       "5 4.3118e-22        1.9427e+10      nmdc:dobj-11-wcn69x37\n",
       "6 4.4073e-22        7.0673e+08      nmdc:dobj-11-wcn69x37\n",
       "  SpecID                      Peptide_Sequence_with_Mods Protein_Type\n",
       "1 nmdc:dobj-11-wcn69x37_36395 SAYPGQITSNMFCAGYLEGGK      None        \n",
       "2 nmdc:dobj-11-wcn69x37_23937 LGEDNINVVEGNEQFISASK       None        \n",
       "3 nmdc:dobj-11-wcn69x37_45758 LGEDNINVVEGNEQFISASK       None        \n",
       "4 nmdc:dobj-11-wcn69x37_46000 LGEDNINVVEGNEQFISASK       None        \n",
       "5 nmdc:dobj-11-wcn69x37_23740 LGEDNINVVEGNEQFISASK       None        \n",
       "6 nmdc:dobj-11-wcn69x37_45501 LGEDNINVVEGNEQFISASK       None        "
      ]
     },
     "metadata": {},
     "output_type": "display_data"
    }
   ],
   "source": [
    "unfiltered_results <- iterate_file_extract(\n",
    "  input_df = proteomic_output_df,\n",
    "  identifier_col = \"processed_dobj_id\",\n",
    "  url_col = \"url\", \n",
    "  extract_cols = c(\"Charge\", \"Scan\", \"Peptide\", \"Protein\", \"MSGFDB_SpecEValue\", \"StatMomentsArea\"),\n",
    "  file_type = \"tsv\") %>%\n",
    "                                           \n",
    "  # Create identifier for each scan in each dataset\n",
    "  mutate(SpecID = paste(id, Scan, sep = \"_\")) %>%\n",
    "\n",
    "  # Trim the prefix and suffix from the peptide sequence, but retain modifications\n",
    "  mutate(Peptide_Sequence_with_Mods = trim_peptide_sequence(Peptide)) %>%\n",
    "  \n",
    "  # Label protein type (contaminant, reverse, forward)\n",
    "  mutate(Protein_Type = case_when(\n",
    "    str_detect(Protein, \"Contaminant\") ~ \"None\",\n",
    "    str_detect(Protein, \"^XXX_\") ~ \"Reversed\",\n",
    "    TRUE ~ \"Forward\"))\n",
    "    \n",
    "head(unfiltered_results)"
   ]
  },
  {
   "cell_type": "markdown",
   "metadata": {},
   "source": [
    "## 2) Apply a spectral probability filter across the data that optimizes the number of identifications for an FDR of 0.05\n",
    "\n",
    "A challenge associated with aggregating mass spectrometry data is that there are always false identifications, which can be mitigated by imposing a spectral probability filter on the data being analyzed. The same spectral probability filter needs to be applied across datasets when they are being compared. The filter value itself is chosen by weighing the number of 'true' identifications retained with the proximity of the data to a chosen false discovery rate (FDR) (usually 0.05 or 0.01). NMDC's metaproteomic workflow provides 'true' and 'false' identifications for FDR estimation in the 'Unfiltered Metaproteomic Result' files."
   ]
  },
  {
   "cell_type": "markdown",
   "metadata": {},
   "source": [
    "Create a dataframe of peptide identifications (ignoring protein mapping). Filter identifications to the peptide sequence with the smallest SpecEValue for each SpecID, so there is a single, highest probability identification for each scan."
   ]
  },
  {
   "cell_type": "code",
   "execution_count": 17,
   "metadata": {
    "vscode": {
     "languageId": "r"
    }
   },
   "outputs": [
    {
     "data": {
      "text/html": [
       "<table class=\"dataframe\">\n",
       "<caption>A tibble: 6 × 6</caption>\n",
       "<thead>\n",
       "\t<tr><th scope=col>SpecID</th><th scope=col>Peptide_Sequence_with_Mods</th><th scope=col>MSGFDB_SpecEValue</th><th scope=col>Protein_Type</th><th scope=col>StatMomentsArea</th><th scope=col>processed_dobj_id</th></tr>\n",
       "\t<tr><th scope=col>&lt;chr&gt;</th><th scope=col>&lt;chr&gt;</th><th scope=col>&lt;dbl&gt;</th><th scope=col>&lt;chr&gt;</th><th scope=col>&lt;dbl&gt;</th><th scope=col>&lt;chr&gt;</th></tr>\n",
       "</thead>\n",
       "<tbody>\n",
       "\t<tr><td>nmdc:dobj-11-2k6s1505_10005</td><td>PPDERERSEEAEKRDEERDRVRDELLAGAEEGEPR</td><td>4.9943e-07</td><td>Forward </td><td>1238500000</td><td>nmdc:dobj-11-2k6s1505</td></tr>\n",
       "\t<tr><td>nmdc:dobj-11-2k6s1505_10008</td><td>LRAGSEPR                           </td><td>1.1726e-07</td><td>Forward </td><td> 123460000</td><td>nmdc:dobj-11-2k6s1505</td></tr>\n",
       "\t<tr><td>nmdc:dobj-11-2k6s1505_10009</td><td>WAKEIENQK                          </td><td>2.4739e-07</td><td>Forward </td><td>  57316000</td><td>nmdc:dobj-11-2k6s1505</td></tr>\n",
       "\t<tr><td>nmdc:dobj-11-2k6s1505_10011</td><td>CWRYLISN                           </td><td>4.1349e-07</td><td>Forward </td><td>6632300000</td><td>nmdc:dobj-11-2k6s1505</td></tr>\n",
       "\t<tr><td>nmdc:dobj-11-2k6s1505_10013</td><td>EFVDIISYMENENHSDIEYPLLYKWDSKSTVINR </td><td>1.0215e-07</td><td>Reversed</td><td> 737140000</td><td>nmdc:dobj-11-2k6s1505</td></tr>\n",
       "\t<tr><td>nmdc:dobj-11-2k6s1505_10014</td><td>WLIKELDDTK                         </td><td>3.5021e-07</td><td>Forward </td><td>  82751000</td><td>nmdc:dobj-11-2k6s1505</td></tr>\n",
       "</tbody>\n",
       "</table>\n"
      ],
      "text/latex": [
       "A tibble: 6 × 6\n",
       "\\begin{tabular}{llllll}\n",
       " SpecID & Peptide\\_Sequence\\_with\\_Mods & MSGFDB\\_SpecEValue & Protein\\_Type & StatMomentsArea & processed\\_dobj\\_id\\\\\n",
       " <chr> & <chr> & <dbl> & <chr> & <dbl> & <chr>\\\\\n",
       "\\hline\n",
       "\t nmdc:dobj-11-2k6s1505\\_10005 & PPDERERSEEAEKRDEERDRVRDELLAGAEEGEPR & 4.9943e-07 & Forward  & 1238500000 & nmdc:dobj-11-2k6s1505\\\\\n",
       "\t nmdc:dobj-11-2k6s1505\\_10008 & LRAGSEPR                            & 1.1726e-07 & Forward  &  123460000 & nmdc:dobj-11-2k6s1505\\\\\n",
       "\t nmdc:dobj-11-2k6s1505\\_10009 & WAKEIENQK                           & 2.4739e-07 & Forward  &   57316000 & nmdc:dobj-11-2k6s1505\\\\\n",
       "\t nmdc:dobj-11-2k6s1505\\_10011 & CWRYLISN                            & 4.1349e-07 & Forward  & 6632300000 & nmdc:dobj-11-2k6s1505\\\\\n",
       "\t nmdc:dobj-11-2k6s1505\\_10013 & EFVDIISYMENENHSDIEYPLLYKWDSKSTVINR  & 1.0215e-07 & Reversed &  737140000 & nmdc:dobj-11-2k6s1505\\\\\n",
       "\t nmdc:dobj-11-2k6s1505\\_10014 & WLIKELDDTK                          & 3.5021e-07 & Forward  &   82751000 & nmdc:dobj-11-2k6s1505\\\\\n",
       "\\end{tabular}\n"
      ],
      "text/markdown": [
       "\n",
       "A tibble: 6 × 6\n",
       "\n",
       "| SpecID &lt;chr&gt; | Peptide_Sequence_with_Mods &lt;chr&gt; | MSGFDB_SpecEValue &lt;dbl&gt; | Protein_Type &lt;chr&gt; | StatMomentsArea &lt;dbl&gt; | processed_dobj_id &lt;chr&gt; |\n",
       "|---|---|---|---|---|---|\n",
       "| nmdc:dobj-11-2k6s1505_10005 | PPDERERSEEAEKRDEERDRVRDELLAGAEEGEPR | 4.9943e-07 | Forward  | 1238500000 | nmdc:dobj-11-2k6s1505 |\n",
       "| nmdc:dobj-11-2k6s1505_10008 | LRAGSEPR                            | 1.1726e-07 | Forward  |  123460000 | nmdc:dobj-11-2k6s1505 |\n",
       "| nmdc:dobj-11-2k6s1505_10009 | WAKEIENQK                           | 2.4739e-07 | Forward  |   57316000 | nmdc:dobj-11-2k6s1505 |\n",
       "| nmdc:dobj-11-2k6s1505_10011 | CWRYLISN                            | 4.1349e-07 | Forward  | 6632300000 | nmdc:dobj-11-2k6s1505 |\n",
       "| nmdc:dobj-11-2k6s1505_10013 | EFVDIISYMENENHSDIEYPLLYKWDSKSTVINR  | 1.0215e-07 | Reversed |  737140000 | nmdc:dobj-11-2k6s1505 |\n",
       "| nmdc:dobj-11-2k6s1505_10014 | WLIKELDDTK                          | 3.5021e-07 | Forward  |   82751000 | nmdc:dobj-11-2k6s1505 |\n",
       "\n"
      ],
      "text/plain": [
       "  SpecID                      Peptide_Sequence_with_Mods         \n",
       "1 nmdc:dobj-11-2k6s1505_10005 PPDERERSEEAEKRDEERDRVRDELLAGAEEGEPR\n",
       "2 nmdc:dobj-11-2k6s1505_10008 LRAGSEPR                           \n",
       "3 nmdc:dobj-11-2k6s1505_10009 WAKEIENQK                          \n",
       "4 nmdc:dobj-11-2k6s1505_10011 CWRYLISN                           \n",
       "5 nmdc:dobj-11-2k6s1505_10013 EFVDIISYMENENHSDIEYPLLYKWDSKSTVINR \n",
       "6 nmdc:dobj-11-2k6s1505_10014 WLIKELDDTK                         \n",
       "  MSGFDB_SpecEValue Protein_Type StatMomentsArea processed_dobj_id    \n",
       "1 4.9943e-07        Forward      1238500000      nmdc:dobj-11-2k6s1505\n",
       "2 1.1726e-07        Forward       123460000      nmdc:dobj-11-2k6s1505\n",
       "3 2.4739e-07        Forward        57316000      nmdc:dobj-11-2k6s1505\n",
       "4 4.1349e-07        Forward      6632300000      nmdc:dobj-11-2k6s1505\n",
       "5 1.0215e-07        Reversed      737140000      nmdc:dobj-11-2k6s1505\n",
       "6 3.5021e-07        Forward        82751000      nmdc:dobj-11-2k6s1505"
      ]
     },
     "metadata": {},
     "output_type": "display_data"
    }
   ],
   "source": [
    "edata <- distinct(unfiltered_results, SpecID, Peptide_Sequence_with_Mods, \n",
    "                  MSGFDB_SpecEValue, Protein_Type, StatMomentsArea, id) %>%\n",
    "\n",
    "  dplyr::rename(processed_dobj_id = \"id\") %>%\n",
    "  # For each SpecID (unique scan), select the peptide-spectrum match with the smallest MSGFDB_SpecEValue\n",
    "  group_by(SpecID) %>% \n",
    "  slice_min(MSGFDB_SpecEValue, with_ties = FALSE, n = 1) %>% \n",
    "  ungroup()\n",
    "\n",
    "head(edata)\n",
    "\n",
    "# Confirm that there is a single peptide identification per scan\n",
    "stopifnot(\"Still more than one identification per scan\" = length(unique(edata$SpecID)) == length(edata$SpecID))"
   ]
  },
  {
   "cell_type": "markdown",
   "metadata": {},
   "source": [
    "Create separate dataframes of forward and reverse peptide spectrum matches."
   ]
  },
  {
   "cell_type": "code",
   "execution_count": 18,
   "metadata": {
    "vscode": {
     "languageId": "r"
    }
   },
   "outputs": [
    {
     "data": {
      "text/html": [
       "<table class=\"dataframe\">\n",
       "<caption>A tibble: 6 × 5</caption>\n",
       "<thead>\n",
       "\t<tr><th scope=col>SpecID</th><th scope=col>Peptide_Sequence_with_Mods</th><th scope=col>MSGFDB_SpecEValue</th><th scope=col>StatMomentsArea</th><th scope=col>processed_dobj_id</th></tr>\n",
       "\t<tr><th scope=col>&lt;chr&gt;</th><th scope=col>&lt;chr&gt;</th><th scope=col>&lt;dbl&gt;</th><th scope=col>&lt;dbl&gt;</th><th scope=col>&lt;chr&gt;</th></tr>\n",
       "</thead>\n",
       "<tbody>\n",
       "\t<tr><td>nmdc:dobj-11-2k6s1505_10005</td><td>PPDERERSEEAEKRDEERDRVRDELLAGAEEGEPR</td><td>4.9943e-07</td><td>1238500000</td><td>nmdc:dobj-11-2k6s1505</td></tr>\n",
       "\t<tr><td>nmdc:dobj-11-2k6s1505_10008</td><td>LRAGSEPR                           </td><td>1.1726e-07</td><td> 123460000</td><td>nmdc:dobj-11-2k6s1505</td></tr>\n",
       "\t<tr><td>nmdc:dobj-11-2k6s1505_10009</td><td>WAKEIENQK                          </td><td>2.4739e-07</td><td>  57316000</td><td>nmdc:dobj-11-2k6s1505</td></tr>\n",
       "\t<tr><td>nmdc:dobj-11-2k6s1505_10011</td><td>CWRYLISN                           </td><td>4.1349e-07</td><td>6632300000</td><td>nmdc:dobj-11-2k6s1505</td></tr>\n",
       "\t<tr><td>nmdc:dobj-11-2k6s1505_10014</td><td>WLIKELDDTK                         </td><td>3.5021e-07</td><td>  82751000</td><td>nmdc:dobj-11-2k6s1505</td></tr>\n",
       "\t<tr><td>nmdc:dobj-11-2k6s1505_10022</td><td>IDGIDDVK                           </td><td>1.4727e-07</td><td> 230150000</td><td>nmdc:dobj-11-2k6s1505</td></tr>\n",
       "</tbody>\n",
       "</table>\n"
      ],
      "text/latex": [
       "A tibble: 6 × 5\n",
       "\\begin{tabular}{lllll}\n",
       " SpecID & Peptide\\_Sequence\\_with\\_Mods & MSGFDB\\_SpecEValue & StatMomentsArea & processed\\_dobj\\_id\\\\\n",
       " <chr> & <chr> & <dbl> & <dbl> & <chr>\\\\\n",
       "\\hline\n",
       "\t nmdc:dobj-11-2k6s1505\\_10005 & PPDERERSEEAEKRDEERDRVRDELLAGAEEGEPR & 4.9943e-07 & 1238500000 & nmdc:dobj-11-2k6s1505\\\\\n",
       "\t nmdc:dobj-11-2k6s1505\\_10008 & LRAGSEPR                            & 1.1726e-07 &  123460000 & nmdc:dobj-11-2k6s1505\\\\\n",
       "\t nmdc:dobj-11-2k6s1505\\_10009 & WAKEIENQK                           & 2.4739e-07 &   57316000 & nmdc:dobj-11-2k6s1505\\\\\n",
       "\t nmdc:dobj-11-2k6s1505\\_10011 & CWRYLISN                            & 4.1349e-07 & 6632300000 & nmdc:dobj-11-2k6s1505\\\\\n",
       "\t nmdc:dobj-11-2k6s1505\\_10014 & WLIKELDDTK                          & 3.5021e-07 &   82751000 & nmdc:dobj-11-2k6s1505\\\\\n",
       "\t nmdc:dobj-11-2k6s1505\\_10022 & IDGIDDVK                            & 1.4727e-07 &  230150000 & nmdc:dobj-11-2k6s1505\\\\\n",
       "\\end{tabular}\n"
      ],
      "text/markdown": [
       "\n",
       "A tibble: 6 × 5\n",
       "\n",
       "| SpecID &lt;chr&gt; | Peptide_Sequence_with_Mods &lt;chr&gt; | MSGFDB_SpecEValue &lt;dbl&gt; | StatMomentsArea &lt;dbl&gt; | processed_dobj_id &lt;chr&gt; |\n",
       "|---|---|---|---|---|\n",
       "| nmdc:dobj-11-2k6s1505_10005 | PPDERERSEEAEKRDEERDRVRDELLAGAEEGEPR | 4.9943e-07 | 1238500000 | nmdc:dobj-11-2k6s1505 |\n",
       "| nmdc:dobj-11-2k6s1505_10008 | LRAGSEPR                            | 1.1726e-07 |  123460000 | nmdc:dobj-11-2k6s1505 |\n",
       "| nmdc:dobj-11-2k6s1505_10009 | WAKEIENQK                           | 2.4739e-07 |   57316000 | nmdc:dobj-11-2k6s1505 |\n",
       "| nmdc:dobj-11-2k6s1505_10011 | CWRYLISN                            | 4.1349e-07 | 6632300000 | nmdc:dobj-11-2k6s1505 |\n",
       "| nmdc:dobj-11-2k6s1505_10014 | WLIKELDDTK                          | 3.5021e-07 |   82751000 | nmdc:dobj-11-2k6s1505 |\n",
       "| nmdc:dobj-11-2k6s1505_10022 | IDGIDDVK                            | 1.4727e-07 |  230150000 | nmdc:dobj-11-2k6s1505 |\n",
       "\n"
      ],
      "text/plain": [
       "  SpecID                      Peptide_Sequence_with_Mods         \n",
       "1 nmdc:dobj-11-2k6s1505_10005 PPDERERSEEAEKRDEERDRVRDELLAGAEEGEPR\n",
       "2 nmdc:dobj-11-2k6s1505_10008 LRAGSEPR                           \n",
       "3 nmdc:dobj-11-2k6s1505_10009 WAKEIENQK                          \n",
       "4 nmdc:dobj-11-2k6s1505_10011 CWRYLISN                           \n",
       "5 nmdc:dobj-11-2k6s1505_10014 WLIKELDDTK                         \n",
       "6 nmdc:dobj-11-2k6s1505_10022 IDGIDDVK                           \n",
       "  MSGFDB_SpecEValue StatMomentsArea processed_dobj_id    \n",
       "1 4.9943e-07        1238500000      nmdc:dobj-11-2k6s1505\n",
       "2 1.1726e-07         123460000      nmdc:dobj-11-2k6s1505\n",
       "3 2.4739e-07          57316000      nmdc:dobj-11-2k6s1505\n",
       "4 4.1349e-07        6632300000      nmdc:dobj-11-2k6s1505\n",
       "5 3.5021e-07          82751000      nmdc:dobj-11-2k6s1505\n",
       "6 1.4727e-07         230150000      nmdc:dobj-11-2k6s1505"
      ]
     },
     "metadata": {},
     "output_type": "display_data"
    }
   ],
   "source": [
    "forward_peptides <- filter(edata, Protein_Type == \"Forward\") %>% select(-Protein_Type)\n",
    "\n",
    "head(forward_peptides)"
   ]
  },
  {
   "cell_type": "code",
   "execution_count": 19,
   "metadata": {
    "vscode": {
     "languageId": "r"
    }
   },
   "outputs": [
    {
     "data": {
      "text/html": [
       "<table class=\"dataframe\">\n",
       "<caption>A tibble: 6 × 5</caption>\n",
       "<thead>\n",
       "\t<tr><th scope=col>SpecID</th><th scope=col>Peptide_Sequence_with_Mods</th><th scope=col>MSGFDB_SpecEValue</th><th scope=col>StatMomentsArea</th><th scope=col>processed_dobj_id</th></tr>\n",
       "\t<tr><th scope=col>&lt;chr&gt;</th><th scope=col>&lt;chr&gt;</th><th scope=col>&lt;dbl&gt;</th><th scope=col>&lt;dbl&gt;</th><th scope=col>&lt;chr&gt;</th></tr>\n",
       "</thead>\n",
       "<tbody>\n",
       "\t<tr><td>nmdc:dobj-11-2k6s1505_10013</td><td>EFVDIISYMENENHSDIEYPLLYKWDSKSTVINR</td><td>1.0215e-07</td><td> 737140000</td><td>nmdc:dobj-11-2k6s1505</td></tr>\n",
       "\t<tr><td>nmdc:dobj-11-2k6s1505_10019</td><td>QWHPNFLR                          </td><td>3.4485e-07</td><td>3220300000</td><td>nmdc:dobj-11-2k6s1505</td></tr>\n",
       "\t<tr><td>nmdc:dobj-11-2k6s1505_10026</td><td>LAEREGGAR                         </td><td>1.4512e-08</td><td> 960480000</td><td>nmdc:dobj-11-2k6s1505</td></tr>\n",
       "\t<tr><td>nmdc:dobj-11-2k6s1505_10028</td><td>ISTYIDEK                          </td><td>6.8431e-09</td><td> 125230000</td><td>nmdc:dobj-11-2k6s1505</td></tr>\n",
       "\t<tr><td>nmdc:dobj-11-2k6s1505_10029</td><td>AIEEFFNMHCAFFFSVR                 </td><td>2.4556e-07</td><td>  65250000</td><td>nmdc:dobj-11-2k6s1505</td></tr>\n",
       "\t<tr><td>nmdc:dobj-11-2k6s1505_10030</td><td>NFFGGMPRGK                        </td><td>3.3443e-07</td><td>  54785000</td><td>nmdc:dobj-11-2k6s1505</td></tr>\n",
       "</tbody>\n",
       "</table>\n"
      ],
      "text/latex": [
       "A tibble: 6 × 5\n",
       "\\begin{tabular}{lllll}\n",
       " SpecID & Peptide\\_Sequence\\_with\\_Mods & MSGFDB\\_SpecEValue & StatMomentsArea & processed\\_dobj\\_id\\\\\n",
       " <chr> & <chr> & <dbl> & <dbl> & <chr>\\\\\n",
       "\\hline\n",
       "\t nmdc:dobj-11-2k6s1505\\_10013 & EFVDIISYMENENHSDIEYPLLYKWDSKSTVINR & 1.0215e-07 &  737140000 & nmdc:dobj-11-2k6s1505\\\\\n",
       "\t nmdc:dobj-11-2k6s1505\\_10019 & QWHPNFLR                           & 3.4485e-07 & 3220300000 & nmdc:dobj-11-2k6s1505\\\\\n",
       "\t nmdc:dobj-11-2k6s1505\\_10026 & LAEREGGAR                          & 1.4512e-08 &  960480000 & nmdc:dobj-11-2k6s1505\\\\\n",
       "\t nmdc:dobj-11-2k6s1505\\_10028 & ISTYIDEK                           & 6.8431e-09 &  125230000 & nmdc:dobj-11-2k6s1505\\\\\n",
       "\t nmdc:dobj-11-2k6s1505\\_10029 & AIEEFFNMHCAFFFSVR                  & 2.4556e-07 &   65250000 & nmdc:dobj-11-2k6s1505\\\\\n",
       "\t nmdc:dobj-11-2k6s1505\\_10030 & NFFGGMPRGK                         & 3.3443e-07 &   54785000 & nmdc:dobj-11-2k6s1505\\\\\n",
       "\\end{tabular}\n"
      ],
      "text/markdown": [
       "\n",
       "A tibble: 6 × 5\n",
       "\n",
       "| SpecID &lt;chr&gt; | Peptide_Sequence_with_Mods &lt;chr&gt; | MSGFDB_SpecEValue &lt;dbl&gt; | StatMomentsArea &lt;dbl&gt; | processed_dobj_id &lt;chr&gt; |\n",
       "|---|---|---|---|---|\n",
       "| nmdc:dobj-11-2k6s1505_10013 | EFVDIISYMENENHSDIEYPLLYKWDSKSTVINR | 1.0215e-07 |  737140000 | nmdc:dobj-11-2k6s1505 |\n",
       "| nmdc:dobj-11-2k6s1505_10019 | QWHPNFLR                           | 3.4485e-07 | 3220300000 | nmdc:dobj-11-2k6s1505 |\n",
       "| nmdc:dobj-11-2k6s1505_10026 | LAEREGGAR                          | 1.4512e-08 |  960480000 | nmdc:dobj-11-2k6s1505 |\n",
       "| nmdc:dobj-11-2k6s1505_10028 | ISTYIDEK                           | 6.8431e-09 |  125230000 | nmdc:dobj-11-2k6s1505 |\n",
       "| nmdc:dobj-11-2k6s1505_10029 | AIEEFFNMHCAFFFSVR                  | 2.4556e-07 |   65250000 | nmdc:dobj-11-2k6s1505 |\n",
       "| nmdc:dobj-11-2k6s1505_10030 | NFFGGMPRGK                         | 3.3443e-07 |   54785000 | nmdc:dobj-11-2k6s1505 |\n",
       "\n"
      ],
      "text/plain": [
       "  SpecID                      Peptide_Sequence_with_Mods        \n",
       "1 nmdc:dobj-11-2k6s1505_10013 EFVDIISYMENENHSDIEYPLLYKWDSKSTVINR\n",
       "2 nmdc:dobj-11-2k6s1505_10019 QWHPNFLR                          \n",
       "3 nmdc:dobj-11-2k6s1505_10026 LAEREGGAR                         \n",
       "4 nmdc:dobj-11-2k6s1505_10028 ISTYIDEK                          \n",
       "5 nmdc:dobj-11-2k6s1505_10029 AIEEFFNMHCAFFFSVR                 \n",
       "6 nmdc:dobj-11-2k6s1505_10030 NFFGGMPRGK                        \n",
       "  MSGFDB_SpecEValue StatMomentsArea processed_dobj_id    \n",
       "1 1.0215e-07         737140000      nmdc:dobj-11-2k6s1505\n",
       "2 3.4485e-07        3220300000      nmdc:dobj-11-2k6s1505\n",
       "3 1.4512e-08         960480000      nmdc:dobj-11-2k6s1505\n",
       "4 6.8431e-09         125230000      nmdc:dobj-11-2k6s1505\n",
       "5 2.4556e-07          65250000      nmdc:dobj-11-2k6s1505\n",
       "6 3.3443e-07          54785000      nmdc:dobj-11-2k6s1505"
      ]
     },
     "metadata": {},
     "output_type": "display_data"
    }
   ],
   "source": [
    "reversed_peptides <- filter(edata, Protein_Type == \"Reversed\") %>% select(-Protein_Type)\n",
    "\n",
    "head(reversed_peptides)"
   ]
  },
  {
   "cell_type": "markdown",
   "metadata": {},
   "source": [
    "Use the function `optimize_spec_filt()` in `aggregation_functions.R` to find a log10 spectral probability filter that weighs the number of forward peptides retained with the proximity of the dataset to a 0.05 spectral FDR. "
   ]
  },
  {
   "cell_type": "code",
   "execution_count": 20,
   "metadata": {
    "vscode": {
     "languageId": "r"
    }
   },
   "outputs": [
    {
     "data": {
      "text/html": [
       "'Optimal log10 filter value: -10.0132264970865'"
      ],
      "text/latex": [
       "'Optimal log10 filter value: -10.0132264970865'"
      ],
      "text/markdown": [
       "'Optimal log10 filter value: -10.0132264970865'"
      ],
      "text/plain": [
       "[1] \"Optimal log10 filter value: -10.0132264970865\""
      ]
     },
     "metadata": {},
     "output_type": "display_data"
    }
   ],
   "source": [
    "# Take an initial guess at a log10 spectral probability filter value\n",
    "initial_specprob_filter = -15\n",
    "\n",
    "optimized_filter <- optimize_spec_filt(initial_specprob_filter, forward_peptides, reversed_peptides)$par\n",
    "\n",
    "paste(\"Optimal log10 filter value:\", optimized_filter)"
   ]
  },
  {
   "cell_type": "markdown",
   "metadata": {},
   "source": [
    "Visualize the impact of the spectral probability filter by plotting the number of forward and reverse peptides retained. "
   ]
  },
  {
   "cell_type": "code",
   "execution_count": 21,
   "metadata": {
    "vscode": {
     "languageId": "r"
    }
   },
   "outputs": [
    {
     "data": {
      "image/png": "[encoded data removed]",
      "text/plain": [
       "plot without title"
      ]
     },
     "metadata": {
      "image/png": {
       "height": 420,
       "width": 420
      }
     },
     "output_type": "display_data"
    }
   ],
   "source": [
    "peps_for_plot <- bind_rows(forward_peptides, reversed_peptides, .id = \"direction\") %>%\n",
    "  mutate(direction = case_when(direction == 1 ~ \"forward\", direction == 2 ~ \"reverse\"),\n",
    "         direction = factor(direction))\n",
    "\n",
    "main_plot <- ggplot(peps_for_plot) +\n",
    "  geom_histogram(aes(x = MSGFDB_SpecEValue, fill = direction), bins = 50, alpha = 0.5, position = \"identity\") + \n",
    "  geom_vline(xintercept = 10 ^ optimized_filter) +\n",
    "  scale_fill_manual(values = c(\"forward\" = \"seagreen\", \"reverse\" = \"orangered\")) +\n",
    "  ylab(\"Number of peptide-spectrum matches\") +\n",
    "  ggtitle(\"Impact of spectral probability filter\")\n",
    "\n",
    "zoom_plot <- peps_for_plot %>%\n",
    "  # subset data - zoom in \n",
    "  filter(MSGFDB_SpecEValue < 2e-9) %>%\n",
    "  ggplot() +\n",
    "    geom_histogram(aes(x = MSGFDB_SpecEValue, fill = direction), bins = 30, alpha = 0.5, position = \"identity\") + \n",
    "    geom_vline(xintercept = 10 ^ optimized_filter) +\n",
    "    scale_fill_manual(values = c(\"forward\" = \"seagreen\", \"reverse\" = \"orangered\")) +\n",
    "    theme(legend.position = \"none\", axis.title.x = element_blank(), axis.title.y = element_blank())\n",
    "    \n",
    "vp <- viewport(width = 0.4, height = 0.45, x = 0.6, y = 0.65)\n",
    "\n",
    "main_plot\n",
    "print(zoom_plot, vp = vp)"
   ]
  },
  {
   "cell_type": "markdown",
   "metadata": {},
   "source": [
    "The main plot above is a histogram of forward and reverse peptides across all spectral probability values. \n",
    "\n",
    "The inset within this plot depicts a subset of the smallest spectral probabililty values (the same information as the main plot, zoomed in). The red bar to the left of the dashed line represents the estimated number of false identifications that will be included in this analysis. "
   ]
  },
  {
   "cell_type": "markdown",
   "metadata": {},
   "source": [
    "Apply the filter to the dataset and recalculate peptide and spectral FDR."
   ]
  },
  {
   "cell_type": "code",
   "execution_count": 22,
   "metadata": {
    "vscode": {
     "languageId": "r"
    }
   },
   "outputs": [
    {
     "data": {
      "text/html": [
       "'Spectral FDR: 0.0499265785609398'"
      ],
      "text/latex": [
       "'Spectral FDR: 0.0499265785609398'"
      ],
      "text/markdown": [
       "'Spectral FDR: 0.0499265785609398'"
      ],
      "text/plain": [
       "[1] \"Spectral FDR: 0.0499265785609398\""
      ]
     },
     "metadata": {},
     "output_type": "display_data"
    },
    {
     "data": {
      "text/html": [
       "'Peptide FDR: 0.0557613931085587'"
      ],
      "text/latex": [
       "'Peptide FDR: 0.0557613931085587'"
      ],
      "text/markdown": [
       "'Peptide FDR: 0.0557613931085587'"
      ],
      "text/plain": [
       "[1] \"Peptide FDR: 0.0557613931085587\""
      ]
     },
     "metadata": {},
     "output_type": "display_data"
    }
   ],
   "source": [
    "forward_peptides <- filter(forward_peptides, MSGFDB_SpecEValue < 10 ^ optimized_filter)\n",
    "\n",
    "reversed_peptides <- filter(reversed_peptides, MSGFDB_SpecEValue < 10 ^ optimized_filter)\n",
    "\n",
    "# Calculate spectral FDR\n",
    "f_spec <- length(unique(forward_peptides$SpecID))\n",
    "r_spec <- length(unique(reversed_peptides$SpecID))\n",
    "\n",
    "fdr_spec <- ifelse(f_spec == 0 & r_spec == 0,\n",
    "                   1,\n",
    "                   (2 * r_spec) / (f_spec + r_spec))\n",
    "\n",
    "# Calculate peptide FDR\n",
    "f_pep <- length(unique(forward_peptides$Peptide_Sequence_with_Mods))\n",
    "r_pep <- length(unique(reversed_peptides$Peptide_Sequence_with_Mods))\n",
    "\n",
    "fdr_pep <- ifelse(f_pep == 0 & r_pep == 0,\n",
    "                  1,\n",
    "                  r_pep / (f_pep + r_pep))\n",
    "\n",
    "paste(\"Spectral FDR:\", fdr_spec)\n",
    "paste(\"Peptide FDR:\", fdr_pep)\n"
   ]
  },
  {
   "cell_type": "markdown",
   "metadata": {},
   "source": [
    "## 3) Collapse to unique peptides and normalize their relative abundance"
   ]
  },
  {
   "cell_type": "markdown",
   "metadata": {},
   "source": [
    "At this point in analysis the data has been filtered to only high probability peptide identifications, but more than one scan within a dataset can have the same peptide identification. This can be due to the peptide eluting into the mass spectrometer over the course of multiple scans or a peptide eluting as multiple charge states. \n",
    "\n",
    "Sum the relative abundance for peptide sequences detected more than once in a dataset, leaving a total relative abundance value for each peptide in each dataset."
   ]
  },
  {
   "cell_type": "code",
   "execution_count": 23,
   "metadata": {
    "vscode": {
     "languageId": "r"
    }
   },
   "outputs": [
    {
     "data": {
      "text/html": [
       "<table class=\"dataframe\">\n",
       "<caption>A tibble: 6 × 3</caption>\n",
       "<thead>\n",
       "\t<tr><th scope=col>processed_dobj_id</th><th scope=col>Peptide_Sequence_with_Mods</th><th scope=col>StatMomentsArea</th></tr>\n",
       "\t<tr><th scope=col>&lt;chr&gt;</th><th scope=col>&lt;chr&gt;</th><th scope=col>&lt;dbl&gt;</th></tr>\n",
       "</thead>\n",
       "<tbody>\n",
       "\t<tr><td>nmdc:dobj-11-2k6s1505</td><td>VYLGAETTR           </td><td> 323402000</td></tr>\n",
       "\t<tr><td>nmdc:dobj-11-2k6s1505</td><td>DTLPHTVTSGTGPTDPNSAK</td><td>  52891000</td></tr>\n",
       "\t<tr><td>nmdc:dobj-11-2k6s1505</td><td>SQVSEGSSLADGVK      </td><td>1259380000</td></tr>\n",
       "\t<tr><td>nmdc:dobj-11-2k6s1505</td><td>TLSDYNIQK           </td><td> 250540000</td></tr>\n",
       "\t<tr><td>nmdc:dobj-11-2k6s1505</td><td>SALQNAASIAK         </td><td> 155670000</td></tr>\n",
       "\t<tr><td>nmdc:dobj-11-2k6s1505</td><td>IETGELAGYK          </td><td>  43413000</td></tr>\n",
       "</tbody>\n",
       "</table>\n"
      ],
      "text/latex": [
       "A tibble: 6 × 3\n",
       "\\begin{tabular}{lll}\n",
       " processed\\_dobj\\_id & Peptide\\_Sequence\\_with\\_Mods & StatMomentsArea\\\\\n",
       " <chr> & <chr> & <dbl>\\\\\n",
       "\\hline\n",
       "\t nmdc:dobj-11-2k6s1505 & VYLGAETTR            &  323402000\\\\\n",
       "\t nmdc:dobj-11-2k6s1505 & DTLPHTVTSGTGPTDPNSAK &   52891000\\\\\n",
       "\t nmdc:dobj-11-2k6s1505 & SQVSEGSSLADGVK       & 1259380000\\\\\n",
       "\t nmdc:dobj-11-2k6s1505 & TLSDYNIQK            &  250540000\\\\\n",
       "\t nmdc:dobj-11-2k6s1505 & SALQNAASIAK          &  155670000\\\\\n",
       "\t nmdc:dobj-11-2k6s1505 & IETGELAGYK           &   43413000\\\\\n",
       "\\end{tabular}\n"
      ],
      "text/markdown": [
       "\n",
       "A tibble: 6 × 3\n",
       "\n",
       "| processed_dobj_id &lt;chr&gt; | Peptide_Sequence_with_Mods &lt;chr&gt; | StatMomentsArea &lt;dbl&gt; |\n",
       "|---|---|---|\n",
       "| nmdc:dobj-11-2k6s1505 | VYLGAETTR            |  323402000 |\n",
       "| nmdc:dobj-11-2k6s1505 | DTLPHTVTSGTGPTDPNSAK |   52891000 |\n",
       "| nmdc:dobj-11-2k6s1505 | SQVSEGSSLADGVK       | 1259380000 |\n",
       "| nmdc:dobj-11-2k6s1505 | TLSDYNIQK            |  250540000 |\n",
       "| nmdc:dobj-11-2k6s1505 | SALQNAASIAK          |  155670000 |\n",
       "| nmdc:dobj-11-2k6s1505 | IETGELAGYK           |   43413000 |\n",
       "\n"
      ],
      "text/plain": [
       "  processed_dobj_id     Peptide_Sequence_with_Mods StatMomentsArea\n",
       "1 nmdc:dobj-11-2k6s1505 VYLGAETTR                   323402000     \n",
       "2 nmdc:dobj-11-2k6s1505 DTLPHTVTSGTGPTDPNSAK         52891000     \n",
       "3 nmdc:dobj-11-2k6s1505 SQVSEGSSLADGVK             1259380000     \n",
       "4 nmdc:dobj-11-2k6s1505 TLSDYNIQK                   250540000     \n",
       "5 nmdc:dobj-11-2k6s1505 SALQNAASIAK                 155670000     \n",
       "6 nmdc:dobj-11-2k6s1505 IETGELAGYK                   43413000     "
      ]
     },
     "metadata": {},
     "output_type": "display_data"
    }
   ],
   "source": [
    "forward_peptides <- forward_peptides %>%\n",
    "  select(-c(SpecID, MSGFDB_SpecEValue)) %>%\n",
    "  group_by(processed_dobj_id, Peptide_Sequence_with_Mods) %>%\n",
    "  mutate(StatMomentsArea = sum(StatMomentsArea)) %>% \n",
    "  ungroup() %>%\n",
    "  distinct(processed_dobj_id, Peptide_Sequence_with_Mods, StatMomentsArea)\n",
    "\n",
    "head(forward_peptides)"
   ]
  },
  {
   "cell_type": "markdown",
   "metadata": {},
   "source": [
    "Visualize the untransformed and un-normalized relative abundances."
   ]
  },
  {
   "cell_type": "code",
   "execution_count": 24,
   "metadata": {
    "vscode": {
     "languageId": "r"
    }
   },
   "outputs": [
    {
     "data": {
      "image/png": "[encoded data removed]",
      "text/plain": [
       "plot without title"
      ]
     },
     "metadata": {
      "image/png": {
       "height": 420,
       "width": 420
      }
     },
     "output_type": "display_data"
    }
   ],
   "source": [
    "ggplot(forward_peptides) +\n",
    "  geom_boxplot(aes(x = processed_dobj_id, y = StatMomentsArea)) +\n",
    "  labs(x = \"Samples\", y = \"Relative Peptide Abundance (Not Normalized)\", title = \"Peptide relative abundances by sample\") +\n",
    "  theme(axis.text.x = element_blank())"
   ]
  },
  {
   "cell_type": "markdown",
   "metadata": {},
   "source": [
    "Apply log2 transformation and median normalize peptide abundances."
   ]
  },
  {
   "cell_type": "code",
   "execution_count": 29,
   "metadata": {
    "vscode": {
     "languageId": "r"
    }
   },
   "outputs": [
    {
     "data": {
      "image/png": "[encoded data removed]",
      "text/plain": [
       "plot without title"
      ]
     },
     "metadata": {
      "image/png": {
       "height": 420,
       "width": 420
      }
     },
     "output_type": "display_data"
    }
   ],
   "source": [
    "forward_peptides <- forward_peptides %>%\n",
    "  mutate(StatMomentsAreaLog2 = log2(StatMomentsArea)) %>%\n",
    "  group_by(processed_dobj_id) %>%\n",
    "  mutate(group_medians = median(StatMomentsAreaLog2)) %>%\n",
    "  ungroup() %>%\n",
    "  distinct()\n",
    "\n",
    "# Calculate data wide median\n",
    "all_data_median <- median(forward_peptides$StatMomentsAreaLog2)\n",
    "\n",
    "forward_peptides <- forward_peptides %>%\n",
    "  # Subtract the sample wise median from each value within its group,\n",
    "  # then add back in the data wide median to avoid negative abundances\n",
    "  mutate(StatMomentsAreaLogNorm = StatMomentsAreaLog2 - group_medians + all_data_median)\n",
    "\n",
    "ggplot(forward_peptides) +\n",
    "  geom_boxplot(aes(x = processed_dobj_id, y = StatMomentsAreaLogNorm)) +\n",
    "  labs(x = \"Samples\", y = \"Relative Peptide Abundance (Normalized)\", title = \"Peptide relative abundances by sample\") +\n",
    "  theme(axis.text.x = element_blank())"
   ]
  },
  {
   "cell_type": "markdown",
   "metadata": {},
   "source": [
    "## 4) Extract functional gene annotations for proteins"
   ]
  },
  {
   "cell_type": "markdown",
   "metadata": {},
   "source": [
    "Collect peptide to protein mapping information for the passing peptide sequences."
   ]
  },
  {
   "cell_type": "code",
   "execution_count": 30,
   "metadata": {
    "vscode": {
     "languageId": "r"
    }
   },
   "outputs": [
    {
     "data": {
      "text/html": [
       "<table class=\"dataframe\">\n",
       "<caption>A tibble: 6 × 2</caption>\n",
       "<thead>\n",
       "\t<tr><th scope=col>Peptide_Sequence_with_Mods</th><th scope=col>Protein</th></tr>\n",
       "\t<tr><th scope=col>&lt;chr&gt;</th><th scope=col>&lt;chr&gt;</th></tr>\n",
       "</thead>\n",
       "<tbody>\n",
       "\t<tr><td>NLTTGPGSAQEAIFNR</td><td>nmdc:wfmgan-11-z0q72297.1_004752_2_691   </td></tr>\n",
       "\t<tr><td>TYTLRPGAVAEFEER </td><td>nmdc:wfmgan-11-z0q72297.1_013275_1_561   </td></tr>\n",
       "\t<tr><td>ELASSAAYTTIQTVK </td><td>nmdc:wfmgan-11-z0q72297.1_056571_1_339   </td></tr>\n",
       "\t<tr><td>FEGSSTEQQVVPR   </td><td>nmdc:wfmgan-11-z0q72297.1_001858_911_1354</td></tr>\n",
       "\t<tr><td>QQQAQQQFDGYVR   </td><td>nmdc:wfmgan-11-z0q72297.1_020100_2_334   </td></tr>\n",
       "\t<tr><td>TAVVAGTATAVSGR  </td><td>nmdc:wfmgan-11-z0q72297.1_024452_3_281   </td></tr>\n",
       "</tbody>\n",
       "</table>\n"
      ],
      "text/latex": [
       "A tibble: 6 × 2\n",
       "\\begin{tabular}{ll}\n",
       " Peptide\\_Sequence\\_with\\_Mods & Protein\\\\\n",
       " <chr> & <chr>\\\\\n",
       "\\hline\n",
       "\t NLTTGPGSAQEAIFNR & nmdc:wfmgan-11-z0q72297.1\\_004752\\_2\\_691   \\\\\n",
       "\t TYTLRPGAVAEFEER  & nmdc:wfmgan-11-z0q72297.1\\_013275\\_1\\_561   \\\\\n",
       "\t ELASSAAYTTIQTVK  & nmdc:wfmgan-11-z0q72297.1\\_056571\\_1\\_339   \\\\\n",
       "\t FEGSSTEQQVVPR    & nmdc:wfmgan-11-z0q72297.1\\_001858\\_911\\_1354\\\\\n",
       "\t QQQAQQQFDGYVR    & nmdc:wfmgan-11-z0q72297.1\\_020100\\_2\\_334   \\\\\n",
       "\t TAVVAGTATAVSGR   & nmdc:wfmgan-11-z0q72297.1\\_024452\\_3\\_281   \\\\\n",
       "\\end{tabular}\n"
      ],
      "text/markdown": [
       "\n",
       "A tibble: 6 × 2\n",
       "\n",
       "| Peptide_Sequence_with_Mods &lt;chr&gt; | Protein &lt;chr&gt; |\n",
       "|---|---|\n",
       "| NLTTGPGSAQEAIFNR | nmdc:wfmgan-11-z0q72297.1_004752_2_691    |\n",
       "| TYTLRPGAVAEFEER  | nmdc:wfmgan-11-z0q72297.1_013275_1_561    |\n",
       "| ELASSAAYTTIQTVK  | nmdc:wfmgan-11-z0q72297.1_056571_1_339    |\n",
       "| FEGSSTEQQVVPR    | nmdc:wfmgan-11-z0q72297.1_001858_911_1354 |\n",
       "| QQQAQQQFDGYVR    | nmdc:wfmgan-11-z0q72297.1_020100_2_334    |\n",
       "| TAVVAGTATAVSGR   | nmdc:wfmgan-11-z0q72297.1_024452_3_281    |\n",
       "\n"
      ],
      "text/plain": [
       "  Peptide_Sequence_with_Mods Protein                                  \n",
       "1 NLTTGPGSAQEAIFNR           nmdc:wfmgan-11-z0q72297.1_004752_2_691   \n",
       "2 TYTLRPGAVAEFEER            nmdc:wfmgan-11-z0q72297.1_013275_1_561   \n",
       "3 ELASSAAYTTIQTVK            nmdc:wfmgan-11-z0q72297.1_056571_1_339   \n",
       "4 FEGSSTEQQVVPR              nmdc:wfmgan-11-z0q72297.1_001858_911_1354\n",
       "5 QQQAQQQFDGYVR              nmdc:wfmgan-11-z0q72297.1_020100_2_334   \n",
       "6 TAVVAGTATAVSGR             nmdc:wfmgan-11-z0q72297.1_024452_3_281   "
      ]
     },
     "metadata": {},
     "output_type": "display_data"
    }
   ],
   "source": [
    "peptide_protein_mapping <- unfiltered_results %>%\n",
    "  filter(Peptide_Sequence_with_Mods %in% forward_peptides$Peptide_Sequence_with_Mods) %>%\n",
    "  distinct(Peptide_Sequence_with_Mods, Protein)\n",
    "\n",
    "head(peptide_protein_mapping)"
   ]
  },
  {
   "cell_type": "markdown",
   "metadata": {},
   "source": [
    "Annotation information for these proteins can be found in `Functional Annotation GFF` files.\n",
    "\n",
    "Since the `data_objects` dataframe contains all objects associated with our study id, it also contains the relevant `Functional Annotation GFF` files. Subset this dataframe to GFF files associated with the 33 biosample ids that have a proteomic output in `proteomic_output_df`."
   ]
  },
  {
   "cell_type": "code",
   "execution_count": 31,
   "metadata": {
    "vscode": {
     "languageId": "r"
    }
   },
   "outputs": [
    {
     "data": {
      "text/html": [
       "<table class=\"dataframe\">\n",
       "<caption>A tibble: 6 × 4</caption>\n",
       "<thead>\n",
       "\t<tr><th scope=col>biosample_id</th><th scope=col>id</th><th scope=col>data_object_type</th><th scope=col>url</th></tr>\n",
       "\t<tr><th scope=col>&lt;chr&gt;</th><th scope=col>&lt;chr&gt;</th><th scope=col>&lt;chr&gt;</th><th scope=col>&lt;chr&gt;</th></tr>\n",
       "</thead>\n",
       "<tbody>\n",
       "\t<tr><td>nmdc:bsm-13-kcdh3w94</td><td>nmdc:dobj-11-cncace51</td><td>Functional Annotation GFF</td><td>https://data.microbiomedata.org/data/nmdc:omprc-13-z37b9193/nmdc:wfmgan-11-z0q72297.1/nmdc_wfmgan-11-z0q72297.1_functional_annotation.gff</td></tr>\n",
       "\t<tr><td>nmdc:bsm-13-1p0tct86</td><td>nmdc:dobj-11-c24s6186</td><td>Functional Annotation GFF</td><td>https://data.microbiomedata.org/data/nmdc:omprc-13-eyz5jj82/nmdc:wfmgan-11-ewrwts75.1/nmdc_wfmgan-11-ewrwts75.1_functional_annotation.gff</td></tr>\n",
       "\t<tr><td>nmdc:bsm-13-2fw5j754</td><td>nmdc:dobj-11-p55wx268</td><td>Functional Annotation GFF</td><td>https://data.microbiomedata.org/data/nmdc:omprc-13-f4jg2r75/nmdc:wfmgan-11-vcrp9p47.1/nmdc_wfmgan-11-vcrp9p47.1_functional_annotation.gff</td></tr>\n",
       "\t<tr><td>nmdc:bsm-13-peafgc08</td><td>nmdc:dobj-11-tvxks221</td><td>Functional Annotation GFF</td><td>https://data.microbiomedata.org/data/nmdc:omprc-13-7cjcyw62/nmdc:wfmgan-11-ddkkwt71.1/nmdc_wfmgan-11-ddkkwt71.1_functional_annotation.gff</td></tr>\n",
       "\t<tr><td>nmdc:bsm-13-kem2v355</td><td>nmdc:dobj-11-p6q5bh29</td><td>Functional Annotation GFF</td><td>https://data.microbiomedata.org/data/nmdc:omprc-13-9c3xvg35/nmdc:wfmgan-11-qb4s5g41.1/nmdc_wfmgan-11-qb4s5g41.1_functional_annotation.gff</td></tr>\n",
       "\t<tr><td>nmdc:bsm-13-drp3nj25</td><td>nmdc:dobj-11-s4q56q60</td><td>Functional Annotation GFF</td><td>https://data.microbiomedata.org/data/nmdc:omprc-13-sfj8me20/nmdc:wfmgan-11-afrz5241.1/nmdc_wfmgan-11-afrz5241.1_functional_annotation.gff</td></tr>\n",
       "</tbody>\n",
       "</table>\n"
      ],
      "text/latex": [
       "A tibble: 6 × 4\n",
       "\\begin{tabular}{llll}\n",
       " biosample\\_id & id & data\\_object\\_type & url\\\\\n",
       " <chr> & <chr> & <chr> & <chr>\\\\\n",
       "\\hline\n",
       "\t nmdc:bsm-13-kcdh3w94 & nmdc:dobj-11-cncace51 & Functional Annotation GFF & https://data.microbiomedata.org/data/nmdc:omprc-13-z37b9193/nmdc:wfmgan-11-z0q72297.1/nmdc\\_wfmgan-11-z0q72297.1\\_functional\\_annotation.gff\\\\\n",
       "\t nmdc:bsm-13-1p0tct86 & nmdc:dobj-11-c24s6186 & Functional Annotation GFF & https://data.microbiomedata.org/data/nmdc:omprc-13-eyz5jj82/nmdc:wfmgan-11-ewrwts75.1/nmdc\\_wfmgan-11-ewrwts75.1\\_functional\\_annotation.gff\\\\\n",
       "\t nmdc:bsm-13-2fw5j754 & nmdc:dobj-11-p55wx268 & Functional Annotation GFF & https://data.microbiomedata.org/data/nmdc:omprc-13-f4jg2r75/nmdc:wfmgan-11-vcrp9p47.1/nmdc\\_wfmgan-11-vcrp9p47.1\\_functional\\_annotation.gff\\\\\n",
       "\t nmdc:bsm-13-peafgc08 & nmdc:dobj-11-tvxks221 & Functional Annotation GFF & https://data.microbiomedata.org/data/nmdc:omprc-13-7cjcyw62/nmdc:wfmgan-11-ddkkwt71.1/nmdc\\_wfmgan-11-ddkkwt71.1\\_functional\\_annotation.gff\\\\\n",
       "\t nmdc:bsm-13-kem2v355 & nmdc:dobj-11-p6q5bh29 & Functional Annotation GFF & https://data.microbiomedata.org/data/nmdc:omprc-13-9c3xvg35/nmdc:wfmgan-11-qb4s5g41.1/nmdc\\_wfmgan-11-qb4s5g41.1\\_functional\\_annotation.gff\\\\\n",
       "\t nmdc:bsm-13-drp3nj25 & nmdc:dobj-11-s4q56q60 & Functional Annotation GFF & https://data.microbiomedata.org/data/nmdc:omprc-13-sfj8me20/nmdc:wfmgan-11-afrz5241.1/nmdc\\_wfmgan-11-afrz5241.1\\_functional\\_annotation.gff\\\\\n",
       "\\end{tabular}\n"
      ],
      "text/markdown": [
       "\n",
       "A tibble: 6 × 4\n",
       "\n",
       "| biosample_id &lt;chr&gt; | id &lt;chr&gt; | data_object_type &lt;chr&gt; | url &lt;chr&gt; |\n",
       "|---|---|---|---|\n",
       "| nmdc:bsm-13-kcdh3w94 | nmdc:dobj-11-cncace51 | Functional Annotation GFF | https://data.microbiomedata.org/data/nmdc:omprc-13-z37b9193/nmdc:wfmgan-11-z0q72297.1/nmdc_wfmgan-11-z0q72297.1_functional_annotation.gff |\n",
       "| nmdc:bsm-13-1p0tct86 | nmdc:dobj-11-c24s6186 | Functional Annotation GFF | https://data.microbiomedata.org/data/nmdc:omprc-13-eyz5jj82/nmdc:wfmgan-11-ewrwts75.1/nmdc_wfmgan-11-ewrwts75.1_functional_annotation.gff |\n",
       "| nmdc:bsm-13-2fw5j754 | nmdc:dobj-11-p55wx268 | Functional Annotation GFF | https://data.microbiomedata.org/data/nmdc:omprc-13-f4jg2r75/nmdc:wfmgan-11-vcrp9p47.1/nmdc_wfmgan-11-vcrp9p47.1_functional_annotation.gff |\n",
       "| nmdc:bsm-13-peafgc08 | nmdc:dobj-11-tvxks221 | Functional Annotation GFF | https://data.microbiomedata.org/data/nmdc:omprc-13-7cjcyw62/nmdc:wfmgan-11-ddkkwt71.1/nmdc_wfmgan-11-ddkkwt71.1_functional_annotation.gff |\n",
       "| nmdc:bsm-13-kem2v355 | nmdc:dobj-11-p6q5bh29 | Functional Annotation GFF | https://data.microbiomedata.org/data/nmdc:omprc-13-9c3xvg35/nmdc:wfmgan-11-qb4s5g41.1/nmdc_wfmgan-11-qb4s5g41.1_functional_annotation.gff |\n",
       "| nmdc:bsm-13-drp3nj25 | nmdc:dobj-11-s4q56q60 | Functional Annotation GFF | https://data.microbiomedata.org/data/nmdc:omprc-13-sfj8me20/nmdc:wfmgan-11-afrz5241.1/nmdc_wfmgan-11-afrz5241.1_functional_annotation.gff |\n",
       "\n"
      ],
      "text/plain": [
       "  biosample_id         id                    data_object_type         \n",
       "1 nmdc:bsm-13-kcdh3w94 nmdc:dobj-11-cncace51 Functional Annotation GFF\n",
       "2 nmdc:bsm-13-1p0tct86 nmdc:dobj-11-c24s6186 Functional Annotation GFF\n",
       "3 nmdc:bsm-13-2fw5j754 nmdc:dobj-11-p55wx268 Functional Annotation GFF\n",
       "4 nmdc:bsm-13-peafgc08 nmdc:dobj-11-tvxks221 Functional Annotation GFF\n",
       "5 nmdc:bsm-13-kem2v355 nmdc:dobj-11-p6q5bh29 Functional Annotation GFF\n",
       "6 nmdc:bsm-13-drp3nj25 nmdc:dobj-11-s4q56q60 Functional Annotation GFF\n",
       "  url                                                                                                                                      \n",
       "1 https://data.microbiomedata.org/data/nmdc:omprc-13-z37b9193/nmdc:wfmgan-11-z0q72297.1/nmdc_wfmgan-11-z0q72297.1_functional_annotation.gff\n",
       "2 https://data.microbiomedata.org/data/nmdc:omprc-13-eyz5jj82/nmdc:wfmgan-11-ewrwts75.1/nmdc_wfmgan-11-ewrwts75.1_functional_annotation.gff\n",
       "3 https://data.microbiomedata.org/data/nmdc:omprc-13-f4jg2r75/nmdc:wfmgan-11-vcrp9p47.1/nmdc_wfmgan-11-vcrp9p47.1_functional_annotation.gff\n",
       "4 https://data.microbiomedata.org/data/nmdc:omprc-13-7cjcyw62/nmdc:wfmgan-11-ddkkwt71.1/nmdc_wfmgan-11-ddkkwt71.1_functional_annotation.gff\n",
       "5 https://data.microbiomedata.org/data/nmdc:omprc-13-9c3xvg35/nmdc:wfmgan-11-qb4s5g41.1/nmdc_wfmgan-11-qb4s5g41.1_functional_annotation.gff\n",
       "6 https://data.microbiomedata.org/data/nmdc:omprc-13-sfj8me20/nmdc:wfmgan-11-afrz5241.1/nmdc_wfmgan-11-afrz5241.1_functional_annotation.gff"
      ]
     },
     "metadata": {},
     "output_type": "display_data"
    }
   ],
   "source": [
    "annotation_input_df <- data_objects %>%\n",
    "  filter(data_object_type == \"Functional Annotation GFF\") %>%\n",
    "  filter(biosample_id %in% proteomic_output_df$biosample_id) %>%\n",
    "  distinct(biosample_id, id, data_object_type, url)\n",
    "\n",
    "head(annotation_input_df)"
   ]
  },
  {
   "cell_type": "markdown",
   "metadata": {},
   "source": [
    "Preview the `Functional Annotation GFF` files and determine a subset of gene annotation information that should be pulled from all 33 files."
   ]
  },
  {
   "cell_type": "code",
   "execution_count": 32,
   "metadata": {
    "vscode": {
     "languageId": "r"
    }
   },
   "outputs": [
    {
     "data": {
      "text/html": [
       "'Reading from https://data.microbiomedata.org/data/nmdc:omprc-13-eyz5jj82/nmdc:wfmgan-11-ewrwts75.1/nmdc_wfmgan-11-ewrwts75.1_functional_annotation.gff'"
      ],
      "text/latex": [
       "'Reading from https://data.microbiomedata.org/data/nmdc:omprc-13-eyz5jj82/nmdc:wfmgan-11-ewrwts75.1/nmdc\\_wfmgan-11-ewrwts75.1\\_functional\\_annotation.gff'"
      ],
      "text/markdown": [
       "'Reading from https://data.microbiomedata.org/data/nmdc:omprc-13-eyz5jj82/nmdc:wfmgan-11-ewrwts75.1/nmdc_wfmgan-11-ewrwts75.1_functional_annotation.gff'"
      ],
      "text/plain": [
       "[1] \"Reading from https://data.microbiomedata.org/data/nmdc:omprc-13-eyz5jj82/nmdc:wfmgan-11-ewrwts75.1/nmdc_wfmgan-11-ewrwts75.1_functional_annotation.gff\""
      ]
     },
     "metadata": {},
     "output_type": "display_data"
    },
    {
     "data": {
      "text/html": [
       "<table class=\"dataframe\">\n",
       "<caption>A data.frame: 6 × 33</caption>\n",
       "<thead>\n",
       "\t<tr><th></th><th scope=col>ID</th><th scope=col>translation_table</th><th scope=col>partial</th><th scope=col>start_type</th><th scope=col>product</th><th scope=col>product_source</th><th scope=col>cath_funfam</th><th scope=col>cog</th><th scope=col>ko</th><th scope=col>pfam</th><th scope=col>⋯</th><th scope=col>intron_end</th><th scope=col>regulatory_class</th><th scope=col>bound_moiety</th><th scope=col>ncRNA_class</th><th scope=col>number_of_repeats</th><th scope=col>average_repeat_length</th><th scope=col>median_repeat_length</th><th scope=col>average_spacer_length</th><th scope=col>median_spacer_length</th><th scope=col>Parent</th></tr>\n",
       "\t<tr><th></th><th scope=col>&lt;chr&gt;</th><th scope=col>&lt;chr&gt;</th><th scope=col>&lt;chr&gt;</th><th scope=col>&lt;chr&gt;</th><th scope=col>&lt;chr&gt;</th><th scope=col>&lt;chr&gt;</th><th scope=col>&lt;chr&gt;</th><th scope=col>&lt;chr&gt;</th><th scope=col>&lt;chr&gt;</th><th scope=col>&lt;chr&gt;</th><th scope=col>⋯</th><th scope=col>&lt;chr&gt;</th><th scope=col>&lt;chr&gt;</th><th scope=col>&lt;chr&gt;</th><th scope=col>&lt;chr&gt;</th><th scope=col>&lt;chr&gt;</th><th scope=col>&lt;chr&gt;</th><th scope=col>&lt;chr&gt;</th><th scope=col>&lt;chr&gt;</th><th scope=col>&lt;chr&gt;</th><th scope=col>&lt;chr&gt;</th></tr>\n",
       "</thead>\n",
       "<tbody>\n",
       "\t<tr><th scope=row>1</th><td>nmdc:wfmgan-11-ewrwts75.1_000001_3_296    </td><td>11</td><td>5'</td><td>Edge</td><td>protein pelota                                                                                            </td><td>KO:K06965</td><td>3.30.1330.30            </td><td>COG1537</td><td>KO:K06965</td><td>PF03465        </td><td>⋯</td><td>NA</td><td>NA</td><td>NA</td><td>NA</td><td>NA</td><td>NA</td><td>NA</td><td>NA</td><td>NA</td><td>NA</td></tr>\n",
       "\t<tr><th scope=row>2</th><td>nmdc:wfmgan-11-ewrwts75.1_000001_319_654  </td><td>11</td><td>NA</td><td>ATG </td><td>periplasmic divalent cation tolerance protein                                                             </td><td>KO:K03926</td><td>3.30.70.120             </td><td>COG1324</td><td>KO:K03926</td><td>PF03091        </td><td>⋯</td><td>NA</td><td>NA</td><td>NA</td><td>NA</td><td>NA</td><td>NA</td><td>NA</td><td>NA</td><td>NA</td><td>NA</td></tr>\n",
       "\t<tr><th scope=row>3</th><td>nmdc:wfmgan-11-ewrwts75.1_000001_709_1365 </td><td>11</td><td>NA</td><td>ATG </td><td>division protein CdvB (Snf7/Vps24/ESCRT-III family)                                                       </td><td>COG5491  </td><td>1.20.58.60              </td><td>COG5491</td><td>NA       </td><td>NA             </td><td>⋯</td><td>NA</td><td>NA</td><td>NA</td><td>NA</td><td>NA</td><td>NA</td><td>NA</td><td>NA</td><td>NA</td><td>NA</td></tr>\n",
       "\t<tr><th scope=row>4</th><td>nmdc:wfmgan-11-ewrwts75.1_000001_1509_2738</td><td>11</td><td>NA</td><td>ATG </td><td>integrase                                                                                                 </td><td>COG0582  </td><td>1.10.150.130,1.10.443.10</td><td>COG0582</td><td>NA       </td><td>PF00589,PF13495</td><td>⋯</td><td>NA</td><td>NA</td><td>NA</td><td>NA</td><td>NA</td><td>NA</td><td>NA</td><td>NA</td><td>NA</td><td>NA</td></tr>\n",
       "\t<tr><th scope=row>5</th><td>nmdc:wfmgan-11-ewrwts75.1_000001_2721_3707</td><td>11</td><td>NA</td><td>TTG </td><td>Zn finger protein HypA/HybF involved in hydrogenase expression                                            </td><td>COG0375  </td><td>NA                      </td><td>COG0375</td><td>NA       </td><td>NA             </td><td>⋯</td><td>NA</td><td>NA</td><td>NA</td><td>NA</td><td>NA</td><td>NA</td><td>NA</td><td>NA</td><td>NA</td><td>NA</td></tr>\n",
       "\t<tr><th scope=row>6</th><td>nmdc:wfmgan-11-ewrwts75.1_000001_3763_3936</td><td>11</td><td>NA</td><td>TTG </td><td>bifunctional DNA-binding transcriptional regulator/antitoxin component of YhaV-PrlF toxin-antitoxin module</td><td>COG2002  </td><td>2.10.260.10             </td><td>COG2002</td><td>NA       </td><td>NA             </td><td>⋯</td><td>NA</td><td>NA</td><td>NA</td><td>NA</td><td>NA</td><td>NA</td><td>NA</td><td>NA</td><td>NA</td><td>NA</td></tr>\n",
       "</tbody>\n",
       "</table>\n"
      ],
      "text/latex": [
       "A data.frame: 6 × 33\n",
       "\\begin{tabular}{r|lllllllllllllllllllll}\n",
       "  & ID & translation\\_table & partial & start\\_type & product & product\\_source & cath\\_funfam & cog & ko & pfam & ⋯ & intron\\_end & regulatory\\_class & bound\\_moiety & ncRNA\\_class & number\\_of\\_repeats & average\\_repeat\\_length & median\\_repeat\\_length & average\\_spacer\\_length & median\\_spacer\\_length & Parent\\\\\n",
       "  & <chr> & <chr> & <chr> & <chr> & <chr> & <chr> & <chr> & <chr> & <chr> & <chr> & ⋯ & <chr> & <chr> & <chr> & <chr> & <chr> & <chr> & <chr> & <chr> & <chr> & <chr>\\\\\n",
       "\\hline\n",
       "\t1 & nmdc:wfmgan-11-ewrwts75.1\\_000001\\_3\\_296     & 11 & 5' & Edge & protein pelota                                                                                             & KO:K06965 & 3.30.1330.30             & COG1537 & KO:K06965 & PF03465         & ⋯ & NA & NA & NA & NA & NA & NA & NA & NA & NA & NA\\\\\n",
       "\t2 & nmdc:wfmgan-11-ewrwts75.1\\_000001\\_319\\_654   & 11 & NA & ATG  & periplasmic divalent cation tolerance protein                                                              & KO:K03926 & 3.30.70.120              & COG1324 & KO:K03926 & PF03091         & ⋯ & NA & NA & NA & NA & NA & NA & NA & NA & NA & NA\\\\\n",
       "\t3 & nmdc:wfmgan-11-ewrwts75.1\\_000001\\_709\\_1365  & 11 & NA & ATG  & division protein CdvB (Snf7/Vps24/ESCRT-III family)                                                        & COG5491   & 1.20.58.60               & COG5491 & NA        & NA              & ⋯ & NA & NA & NA & NA & NA & NA & NA & NA & NA & NA\\\\\n",
       "\t4 & nmdc:wfmgan-11-ewrwts75.1\\_000001\\_1509\\_2738 & 11 & NA & ATG  & integrase                                                                                                  & COG0582   & 1.10.150.130,1.10.443.10 & COG0582 & NA        & PF00589,PF13495 & ⋯ & NA & NA & NA & NA & NA & NA & NA & NA & NA & NA\\\\\n",
       "\t5 & nmdc:wfmgan-11-ewrwts75.1\\_000001\\_2721\\_3707 & 11 & NA & TTG  & Zn finger protein HypA/HybF involved in hydrogenase expression                                             & COG0375   & NA                       & COG0375 & NA        & NA              & ⋯ & NA & NA & NA & NA & NA & NA & NA & NA & NA & NA\\\\\n",
       "\t6 & nmdc:wfmgan-11-ewrwts75.1\\_000001\\_3763\\_3936 & 11 & NA & TTG  & bifunctional DNA-binding transcriptional regulator/antitoxin component of YhaV-PrlF toxin-antitoxin module & COG2002   & 2.10.260.10              & COG2002 & NA        & NA              & ⋯ & NA & NA & NA & NA & NA & NA & NA & NA & NA & NA\\\\\n",
       "\\end{tabular}\n"
      ],
      "text/markdown": [
       "\n",
       "A data.frame: 6 × 33\n",
       "\n",
       "| <!--/--> | ID &lt;chr&gt; | translation_table &lt;chr&gt; | partial &lt;chr&gt; | start_type &lt;chr&gt; | product &lt;chr&gt; | product_source &lt;chr&gt; | cath_funfam &lt;chr&gt; | cog &lt;chr&gt; | ko &lt;chr&gt; | pfam &lt;chr&gt; | ⋯ ⋯ | intron_end &lt;chr&gt; | regulatory_class &lt;chr&gt; | bound_moiety &lt;chr&gt; | ncRNA_class &lt;chr&gt; | number_of_repeats &lt;chr&gt; | average_repeat_length &lt;chr&gt; | median_repeat_length &lt;chr&gt; | average_spacer_length &lt;chr&gt; | median_spacer_length &lt;chr&gt; | Parent &lt;chr&gt; |\n",
       "|---|---|---|---|---|---|---|---|---|---|---|---|---|---|---|---|---|---|---|---|---|---|\n",
       "| 1 | nmdc:wfmgan-11-ewrwts75.1_000001_3_296     | 11 | 5' | Edge | protein pelota                                                                                             | KO:K06965 | 3.30.1330.30             | COG1537 | KO:K06965 | PF03465         | ⋯ | NA | NA | NA | NA | NA | NA | NA | NA | NA | NA |\n",
       "| 2 | nmdc:wfmgan-11-ewrwts75.1_000001_319_654   | 11 | NA | ATG  | periplasmic divalent cation tolerance protein                                                              | KO:K03926 | 3.30.70.120              | COG1324 | KO:K03926 | PF03091         | ⋯ | NA | NA | NA | NA | NA | NA | NA | NA | NA | NA |\n",
       "| 3 | nmdc:wfmgan-11-ewrwts75.1_000001_709_1365  | 11 | NA | ATG  | division protein CdvB (Snf7/Vps24/ESCRT-III family)                                                        | COG5491   | 1.20.58.60               | COG5491 | NA        | NA              | ⋯ | NA | NA | NA | NA | NA | NA | NA | NA | NA | NA |\n",
       "| 4 | nmdc:wfmgan-11-ewrwts75.1_000001_1509_2738 | 11 | NA | ATG  | integrase                                                                                                  | COG0582   | 1.10.150.130,1.10.443.10 | COG0582 | NA        | PF00589,PF13495 | ⋯ | NA | NA | NA | NA | NA | NA | NA | NA | NA | NA |\n",
       "| 5 | nmdc:wfmgan-11-ewrwts75.1_000001_2721_3707 | 11 | NA | TTG  | Zn finger protein HypA/HybF involved in hydrogenase expression                                             | COG0375   | NA                       | COG0375 | NA        | NA              | ⋯ | NA | NA | NA | NA | NA | NA | NA | NA | NA | NA |\n",
       "| 6 | nmdc:wfmgan-11-ewrwts75.1_000001_3763_3936 | 11 | NA | TTG  | bifunctional DNA-binding transcriptional regulator/antitoxin component of YhaV-PrlF toxin-antitoxin module | COG2002   | 2.10.260.10              | COG2002 | NA        | NA              | ⋯ | NA | NA | NA | NA | NA | NA | NA | NA | NA | NA |\n",
       "\n"
      ],
      "text/plain": [
       "  ID                                         translation_table partial\n",
       "1 nmdc:wfmgan-11-ewrwts75.1_000001_3_296     11                5'     \n",
       "2 nmdc:wfmgan-11-ewrwts75.1_000001_319_654   11                NA     \n",
       "3 nmdc:wfmgan-11-ewrwts75.1_000001_709_1365  11                NA     \n",
       "4 nmdc:wfmgan-11-ewrwts75.1_000001_1509_2738 11                NA     \n",
       "5 nmdc:wfmgan-11-ewrwts75.1_000001_2721_3707 11                NA     \n",
       "6 nmdc:wfmgan-11-ewrwts75.1_000001_3763_3936 11                NA     \n",
       "  start_type\n",
       "1 Edge      \n",
       "2 ATG       \n",
       "3 ATG       \n",
       "4 ATG       \n",
       "5 TTG       \n",
       "6 TTG       \n",
       "  product                                                                                                   \n",
       "1 protein pelota                                                                                            \n",
       "2 periplasmic divalent cation tolerance protein                                                             \n",
       "3 division protein CdvB (Snf7/Vps24/ESCRT-III family)                                                       \n",
       "4 integrase                                                                                                 \n",
       "5 Zn finger protein HypA/HybF involved in hydrogenase expression                                            \n",
       "6 bifunctional DNA-binding transcriptional regulator/antitoxin component of YhaV-PrlF toxin-antitoxin module\n",
       "  product_source cath_funfam              cog     ko        pfam            ⋯\n",
       "1 KO:K06965      3.30.1330.30             COG1537 KO:K06965 PF03465         ⋯\n",
       "2 KO:K03926      3.30.70.120              COG1324 KO:K03926 PF03091         ⋯\n",
       "3 COG5491        1.20.58.60               COG5491 NA        NA              ⋯\n",
       "4 COG0582        1.10.150.130,1.10.443.10 COG0582 NA        PF00589,PF13495 ⋯\n",
       "5 COG0375        NA                       COG0375 NA        NA              ⋯\n",
       "6 COG2002        2.10.260.10              COG2002 NA        NA              ⋯\n",
       "  intron_end regulatory_class bound_moiety ncRNA_class number_of_repeats\n",
       "1 NA         NA               NA           NA          NA               \n",
       "2 NA         NA               NA           NA          NA               \n",
       "3 NA         NA               NA           NA          NA               \n",
       "4 NA         NA               NA           NA          NA               \n",
       "5 NA         NA               NA           NA          NA               \n",
       "6 NA         NA               NA           NA          NA               \n",
       "  average_repeat_length median_repeat_length average_spacer_length\n",
       "1 NA                    NA                   NA                   \n",
       "2 NA                    NA                   NA                   \n",
       "3 NA                    NA                   NA                   \n",
       "4 NA                    NA                   NA                   \n",
       "5 NA                    NA                   NA                   \n",
       "6 NA                    NA                   NA                   \n",
       "  median_spacer_length Parent\n",
       "1 NA                   NA    \n",
       "2 NA                   NA    \n",
       "3 NA                   NA    \n",
       "4 NA                   NA    \n",
       "5 NA                   NA    \n",
       "6 NA                   NA    "
      ]
     },
     "metadata": {},
     "output_type": "display_data"
    }
   ],
   "source": [
    "paste(\"Reading from\", annotation_input_df$url[2])\n",
    "\n",
    "head(gff_extract_features(annotation_input_df$url[2]))"
   ]
  },
  {
   "cell_type": "markdown",
   "metadata": {},
   "source": [
    "Extract information from all 33 annotation files (this takes a while to run) and merge with `peptide_protein_mapping` so there is a final table of peptide-protein-annotation mapping (`annotation_mapping`)."
   ]
  },
  {
   "cell_type": "code",
   "execution_count": null,
   "metadata": {
    "vscode": {
     "languageId": "r"
    }
   },
   "outputs": [],
   "source": [
    "gene_mapping <- distinct(annotation_input_df, id, url)\n",
    "\n",
    "gene_mapping <- iterate_file_extract(\n",
    "  input_df = gene_mapping,\n",
    "  identifier_col = \"id\",\n",
    "  url_col = \"url\",\n",
    "  extract_cols = c(\"ID\", \"product\", \"product_source\"),\n",
    "  filter_col = \"ID\",\n",
    "  filter_values = unique(peptide_protein_mapping$Protein),\n",
    "  file_type = \"gff\"\n",
    ")"
   ]
  },
  {
   "cell_type": "code",
   "execution_count": 38,
   "metadata": {
    "vscode": {
     "languageId": "r"
    }
   },
   "outputs": [
    {
     "data": {
      "text/html": [
       "<table class=\"dataframe\">\n",
       "<caption>A data.frame: 6 × 4</caption>\n",
       "<thead>\n",
       "\t<tr><th></th><th scope=col>Peptide_Sequence_with_Mods</th><th scope=col>Protein</th><th scope=col>product</th><th scope=col>product_source</th></tr>\n",
       "\t<tr><th></th><th scope=col>&lt;chr&gt;</th><th scope=col>&lt;chr&gt;</th><th scope=col>&lt;chr&gt;</th><th scope=col>&lt;chr&gt;</th></tr>\n",
       "</thead>\n",
       "<tbody>\n",
       "\t<tr><th scope=row>1</th><td>AMERGETYVNVHTEKNPNGEIR</td><td>nmdc:wfmgan-11-z0q72297.1_000027_1367_1870</td><td>hypothetical protein                                                   </td><td>Hypo-rule applied</td></tr>\n",
       "\t<tr><th scope=row>2</th><td>GVGHAFANPSGENYAPK     </td><td>nmdc:wfmgan-11-z0q72297.1_000043_2237_3076</td><td>carboxymethylenebutenolidase                                           </td><td>KO:K01061        </td></tr>\n",
       "\t<tr><th scope=row>3</th><td>LLSDNPDLVLTNGMAHK     </td><td>nmdc:wfmgan-11-z0q72297.1_000048_1_840    </td><td>nitrite reductase (NO-forming)                                         </td><td>KO:K00368        </td></tr>\n",
       "\t<tr><th scope=row>4</th><td>AGGGSLSGAFTK          </td><td>nmdc:wfmgan-11-z0q72297.1_000136_2790_3482</td><td>hypothetical protein                                                   </td><td>Hypo-rule applied</td></tr>\n",
       "\t<tr><th scope=row>5</th><td>FTADLQPR              </td><td>nmdc:wfmgan-11-z0q72297.1_000355_1580_2155</td><td>hypothetical protein                                                   </td><td>Hypo-rule applied</td></tr>\n",
       "\t<tr><th scope=row>6</th><td>QNYTESQVKK            </td><td>nmdc:wfmgan-11-z0q72297.1_000442_620_2068 </td><td>tRNA-splicing ligase RtcB (3'-phosphate/5'-hydroxy nucleic acid ligase)</td><td>KO:K14415        </td></tr>\n",
       "</tbody>\n",
       "</table>\n"
      ],
      "text/latex": [
       "A data.frame: 6 × 4\n",
       "\\begin{tabular}{r|llll}\n",
       "  & Peptide\\_Sequence\\_with\\_Mods & Protein & product & product\\_source\\\\\n",
       "  & <chr> & <chr> & <chr> & <chr>\\\\\n",
       "\\hline\n",
       "\t1 & AMERGETYVNVHTEKNPNGEIR & nmdc:wfmgan-11-z0q72297.1\\_000027\\_1367\\_1870 & hypothetical protein                                                    & Hypo-rule applied\\\\\n",
       "\t2 & GVGHAFANPSGENYAPK      & nmdc:wfmgan-11-z0q72297.1\\_000043\\_2237\\_3076 & carboxymethylenebutenolidase                                            & KO:K01061        \\\\\n",
       "\t3 & LLSDNPDLVLTNGMAHK      & nmdc:wfmgan-11-z0q72297.1\\_000048\\_1\\_840     & nitrite reductase (NO-forming)                                          & KO:K00368        \\\\\n",
       "\t4 & AGGGSLSGAFTK           & nmdc:wfmgan-11-z0q72297.1\\_000136\\_2790\\_3482 & hypothetical protein                                                    & Hypo-rule applied\\\\\n",
       "\t5 & FTADLQPR               & nmdc:wfmgan-11-z0q72297.1\\_000355\\_1580\\_2155 & hypothetical protein                                                    & Hypo-rule applied\\\\\n",
       "\t6 & QNYTESQVKK             & nmdc:wfmgan-11-z0q72297.1\\_000442\\_620\\_2068  & tRNA-splicing ligase RtcB (3'-phosphate/5'-hydroxy nucleic acid ligase) & KO:K14415        \\\\\n",
       "\\end{tabular}\n"
      ],
      "text/markdown": [
       "\n",
       "A data.frame: 6 × 4\n",
       "\n",
       "| <!--/--> | Peptide_Sequence_with_Mods &lt;chr&gt; | Protein &lt;chr&gt; | product &lt;chr&gt; | product_source &lt;chr&gt; |\n",
       "|---|---|---|---|---|\n",
       "| 1 | AMERGETYVNVHTEKNPNGEIR | nmdc:wfmgan-11-z0q72297.1_000027_1367_1870 | hypothetical protein                                                    | Hypo-rule applied |\n",
       "| 2 | GVGHAFANPSGENYAPK      | nmdc:wfmgan-11-z0q72297.1_000043_2237_3076 | carboxymethylenebutenolidase                                            | KO:K01061         |\n",
       "| 3 | LLSDNPDLVLTNGMAHK      | nmdc:wfmgan-11-z0q72297.1_000048_1_840     | nitrite reductase (NO-forming)                                          | KO:K00368         |\n",
       "| 4 | AGGGSLSGAFTK           | nmdc:wfmgan-11-z0q72297.1_000136_2790_3482 | hypothetical protein                                                    | Hypo-rule applied |\n",
       "| 5 | FTADLQPR               | nmdc:wfmgan-11-z0q72297.1_000355_1580_2155 | hypothetical protein                                                    | Hypo-rule applied |\n",
       "| 6 | QNYTESQVKK             | nmdc:wfmgan-11-z0q72297.1_000442_620_2068  | tRNA-splicing ligase RtcB (3'-phosphate/5'-hydroxy nucleic acid ligase) | KO:K14415         |\n",
       "\n"
      ],
      "text/plain": [
       "  Peptide_Sequence_with_Mods Protein                                   \n",
       "1 AMERGETYVNVHTEKNPNGEIR     nmdc:wfmgan-11-z0q72297.1_000027_1367_1870\n",
       "2 GVGHAFANPSGENYAPK          nmdc:wfmgan-11-z0q72297.1_000043_2237_3076\n",
       "3 LLSDNPDLVLTNGMAHK          nmdc:wfmgan-11-z0q72297.1_000048_1_840    \n",
       "4 AGGGSLSGAFTK               nmdc:wfmgan-11-z0q72297.1_000136_2790_3482\n",
       "5 FTADLQPR                   nmdc:wfmgan-11-z0q72297.1_000355_1580_2155\n",
       "6 QNYTESQVKK                 nmdc:wfmgan-11-z0q72297.1_000442_620_2068 \n",
       "  product                                                                \n",
       "1 hypothetical protein                                                   \n",
       "2 carboxymethylenebutenolidase                                           \n",
       "3 nitrite reductase (NO-forming)                                         \n",
       "4 hypothetical protein                                                   \n",
       "5 hypothetical protein                                                   \n",
       "6 tRNA-splicing ligase RtcB (3'-phosphate/5'-hydroxy nucleic acid ligase)\n",
       "  product_source   \n",
       "1 Hypo-rule applied\n",
       "2 KO:K01061        \n",
       "3 KO:K00368        \n",
       "4 Hypo-rule applied\n",
       "5 Hypo-rule applied\n",
       "6 KO:K14415        "
      ]
     },
     "metadata": {},
     "output_type": "display_data"
    }
   ],
   "source": [
    "# Merge with protein mapping information\n",
    "# Drop data object ID since mappings are not dataset specific\n",
    "annotation_mapping <- inner_join(gene_mapping, peptide_protein_mapping, by = join_by(ID == Protein)) %>%\n",
    "  dplyr::rename(Protein = \"ID\") %>%\n",
    "  distinct(Peptide_Sequence_with_Mods, Protein, product, product_source)\n",
    "\n",
    "head(annotation_mapping)"
   ]
  },
  {
   "cell_type": "markdown",
   "metadata": {},
   "source": [
    "## 5) Generate annotation and protein mappings for peptides using \"Razor\" strategy"
   ]
  },
  {
   "cell_type": "markdown",
   "metadata": {},
   "source": [
    "Identify the razor protein, which is a method of limiting the assignment of degenerate peptides (i.e., peptides that map to more than one forward protein) to a most likely matched protein. 'Razor' references the principle Occam's razor, also known as the law of parsimony.\n",
    "\n",
    "The rules are as follows:\n",
    "- If a peptide is unique to a protein, then that protein is the razor\n",
    "- Else, if a peptide belongs to more than one protein, but one of those proteins has a unique peptide, then that protein is the razor\n",
    "- Else, if a peptide belongs to more than one protein and one of those proteins has the maximal number of peptides, then that protein is the razor\n",
    "- Else, if a peptide belongs to more than one protein and more than one of those proteins has the maximal number of peptides, then collapse the proteins and gene annotations into single strings\n",
    "- Else, if a peptide belongs to more than one protein and more than one of those proteins has a unique peptide, then the peptide is removed from analysis because its mapping is inconclusive\n",
    "\n",
    "Use `annotation_mapping` as the input to the function `get_razor_protein()` from `aggregation_functions.R`. This will return protein and gene annotation information for each peptide, according to the above rules. "
   ]
  },
  {
   "cell_type": "code",
   "execution_count": 39,
   "metadata": {
    "vscode": {
     "languageId": "r"
    }
   },
   "outputs": [
    {
     "data": {
      "text/html": [
       "<table class=\"dataframe\">\n",
       "<caption>A tibble: 6 × 7</caption>\n",
       "<thead>\n",
       "\t<tr><th scope=col>Peptide_Sequence_with_Mods</th><th scope=col>Protein</th><th scope=col>product</th><th scope=col>product_source</th><th scope=col>prot_count</th><th scope=col>redundant_pep_count</th><th scope=col>unique_pep_count</th></tr>\n",
       "\t<tr><th scope=col>&lt;chr&gt;</th><th scope=col>&lt;chr&gt;</th><th scope=col>&lt;chr&gt;</th><th scope=col>&lt;chr&gt;</th><th scope=col>&lt;int&gt;</th><th scope=col>&lt;int&gt;</th><th scope=col>&lt;int&gt;</th></tr>\n",
       "</thead>\n",
       "<tbody>\n",
       "\t<tr><td>AMERGETYVNVHTEKNPNGEIR</td><td>nmdc:wfmgan-11-z0q72297.1_000027_1367_1870</td><td>hypothetical protein                                                   </td><td>Hypo-rule applied</td><td>18</td><td>1</td><td>0</td></tr>\n",
       "\t<tr><td>GVGHAFANPSGENYAPK     </td><td>nmdc:wfmgan-11-z0q72297.1_000043_2237_3076</td><td>carboxymethylenebutenolidase                                           </td><td>KO:K01061        </td><td> 6</td><td>1</td><td>0</td></tr>\n",
       "\t<tr><td>LLSDNPDLVLTNGMAHK     </td><td>nmdc:wfmgan-11-z0q72297.1_000048_1_840    </td><td>nitrite reductase (NO-forming)                                         </td><td>KO:K00368        </td><td>29</td><td>1</td><td>0</td></tr>\n",
       "\t<tr><td>AGGGSLSGAFTK          </td><td>nmdc:wfmgan-11-z0q72297.1_000136_2790_3482</td><td>hypothetical protein                                                   </td><td>Hypo-rule applied</td><td> 9</td><td>1</td><td>0</td></tr>\n",
       "\t<tr><td>FTADLQPR              </td><td>nmdc:wfmgan-11-z0q72297.1_000355_1580_2155</td><td>hypothetical protein                                                   </td><td>Hypo-rule applied</td><td>32</td><td>1</td><td>0</td></tr>\n",
       "\t<tr><td>QNYTESQVKK            </td><td>nmdc:wfmgan-11-z0q72297.1_000442_620_2068 </td><td>tRNA-splicing ligase RtcB (3'-phosphate/5'-hydroxy nucleic acid ligase)</td><td>KO:K14415        </td><td> 2</td><td>1</td><td>0</td></tr>\n",
       "</tbody>\n",
       "</table>\n"
      ],
      "text/latex": [
       "A tibble: 6 × 7\n",
       "\\begin{tabular}{lllllll}\n",
       " Peptide\\_Sequence\\_with\\_Mods & Protein & product & product\\_source & prot\\_count & redundant\\_pep\\_count & unique\\_pep\\_count\\\\\n",
       " <chr> & <chr> & <chr> & <chr> & <int> & <int> & <int>\\\\\n",
       "\\hline\n",
       "\t AMERGETYVNVHTEKNPNGEIR & nmdc:wfmgan-11-z0q72297.1\\_000027\\_1367\\_1870 & hypothetical protein                                                    & Hypo-rule applied & 18 & 1 & 0\\\\\n",
       "\t GVGHAFANPSGENYAPK      & nmdc:wfmgan-11-z0q72297.1\\_000043\\_2237\\_3076 & carboxymethylenebutenolidase                                            & KO:K01061         &  6 & 1 & 0\\\\\n",
       "\t LLSDNPDLVLTNGMAHK      & nmdc:wfmgan-11-z0q72297.1\\_000048\\_1\\_840     & nitrite reductase (NO-forming)                                          & KO:K00368         & 29 & 1 & 0\\\\\n",
       "\t AGGGSLSGAFTK           & nmdc:wfmgan-11-z0q72297.1\\_000136\\_2790\\_3482 & hypothetical protein                                                    & Hypo-rule applied &  9 & 1 & 0\\\\\n",
       "\t FTADLQPR               & nmdc:wfmgan-11-z0q72297.1\\_000355\\_1580\\_2155 & hypothetical protein                                                    & Hypo-rule applied & 32 & 1 & 0\\\\\n",
       "\t QNYTESQVKK             & nmdc:wfmgan-11-z0q72297.1\\_000442\\_620\\_2068  & tRNA-splicing ligase RtcB (3'-phosphate/5'-hydroxy nucleic acid ligase) & KO:K14415         &  2 & 1 & 0\\\\\n",
       "\\end{tabular}\n"
      ],
      "text/markdown": [
       "\n",
       "A tibble: 6 × 7\n",
       "\n",
       "| Peptide_Sequence_with_Mods &lt;chr&gt; | Protein &lt;chr&gt; | product &lt;chr&gt; | product_source &lt;chr&gt; | prot_count &lt;int&gt; | redundant_pep_count &lt;int&gt; | unique_pep_count &lt;int&gt; |\n",
       "|---|---|---|---|---|---|---|\n",
       "| AMERGETYVNVHTEKNPNGEIR | nmdc:wfmgan-11-z0q72297.1_000027_1367_1870 | hypothetical protein                                                    | Hypo-rule applied | 18 | 1 | 0 |\n",
       "| GVGHAFANPSGENYAPK      | nmdc:wfmgan-11-z0q72297.1_000043_2237_3076 | carboxymethylenebutenolidase                                            | KO:K01061         |  6 | 1 | 0 |\n",
       "| LLSDNPDLVLTNGMAHK      | nmdc:wfmgan-11-z0q72297.1_000048_1_840     | nitrite reductase (NO-forming)                                          | KO:K00368         | 29 | 1 | 0 |\n",
       "| AGGGSLSGAFTK           | nmdc:wfmgan-11-z0q72297.1_000136_2790_3482 | hypothetical protein                                                    | Hypo-rule applied |  9 | 1 | 0 |\n",
       "| FTADLQPR               | nmdc:wfmgan-11-z0q72297.1_000355_1580_2155 | hypothetical protein                                                    | Hypo-rule applied | 32 | 1 | 0 |\n",
       "| QNYTESQVKK             | nmdc:wfmgan-11-z0q72297.1_000442_620_2068  | tRNA-splicing ligase RtcB (3'-phosphate/5'-hydroxy nucleic acid ligase) | KO:K14415         |  2 | 1 | 0 |\n",
       "\n"
      ],
      "text/plain": [
       "  Peptide_Sequence_with_Mods Protein                                   \n",
       "1 AMERGETYVNVHTEKNPNGEIR     nmdc:wfmgan-11-z0q72297.1_000027_1367_1870\n",
       "2 GVGHAFANPSGENYAPK          nmdc:wfmgan-11-z0q72297.1_000043_2237_3076\n",
       "3 LLSDNPDLVLTNGMAHK          nmdc:wfmgan-11-z0q72297.1_000048_1_840    \n",
       "4 AGGGSLSGAFTK               nmdc:wfmgan-11-z0q72297.1_000136_2790_3482\n",
       "5 FTADLQPR                   nmdc:wfmgan-11-z0q72297.1_000355_1580_2155\n",
       "6 QNYTESQVKK                 nmdc:wfmgan-11-z0q72297.1_000442_620_2068 \n",
       "  product                                                                \n",
       "1 hypothetical protein                                                   \n",
       "2 carboxymethylenebutenolidase                                           \n",
       "3 nitrite reductase (NO-forming)                                         \n",
       "4 hypothetical protein                                                   \n",
       "5 hypothetical protein                                                   \n",
       "6 tRNA-splicing ligase RtcB (3'-phosphate/5'-hydroxy nucleic acid ligase)\n",
       "  product_source    prot_count redundant_pep_count unique_pep_count\n",
       "1 Hypo-rule applied 18         1                   0               \n",
       "2 KO:K01061          6         1                   0               \n",
       "3 KO:K00368         29         1                   0               \n",
       "4 Hypo-rule applied  9         1                   0               \n",
       "5 Hypo-rule applied 32         1                   0               \n",
       "6 KO:K14415          2         1                   0               "
      ]
     },
     "metadata": {},
     "output_type": "display_data"
    }
   ],
   "source": [
    "# Add counts for use in razor logic function\n",
    "# annotation_mapping has already been through distinct() so pairs (rows) are unique\n",
    "annotation_mapping <- annotation_mapping %>%\n",
    "\n",
    "  # Count the number of proteins that each peptide maps to\n",
    "  group_by(Peptide_Sequence_with_Mods) %>%\n",
    "  mutate(prot_count = n()) %>%\n",
    "  ungroup() %>%\n",
    "  \n",
    "  # Count the number of REDUNDANT and UNIQUE peptides that each protein maps to\n",
    "  group_by(Protein) %>%\n",
    "  mutate(redundant_pep_count = sum(prot_count > 1),\n",
    "         unique_pep_count = sum(prot_count == 1)) %>%\n",
    "  ungroup()\n",
    "\n",
    "head(annotation_mapping)"
   ]
  },
  {
   "cell_type": "code",
   "execution_count": null,
   "metadata": {
    "vscode": {
     "languageId": "r"
    }
   },
   "outputs": [
    {
     "data": {
      "text/html": [
       "<table class=\"dataframe\">\n",
       "<caption>A tibble: 6 × 4</caption>\n",
       "<thead>\n",
       "\t<tr><th scope=col>Peptide</th><th scope=col>Razor_Protein</th><th scope=col>product</th><th scope=col>product_source</th></tr>\n",
       "\t<tr><th scope=col>&lt;chr&gt;</th><th scope=col>&lt;chr&gt;</th><th scope=col>&lt;chr&gt;</th><th scope=col>&lt;chr&gt;</th></tr>\n",
       "</thead>\n",
       "<tbody>\n",
       "\t<tr><td>AMERGETYVNVHTEKNPNGEIR</td><td>nmdc:wfmgan-11-ewrwts75.1_000578_1764_2267                                                                                      </td><td>hypothetical protein                                                                                                                            </td><td>Hypo-rule applied                                      </td></tr>\n",
       "\t<tr><td>GVGHAFANPSGENYAPK     </td><td>nmdc:wfmgan-11-7j1ws791.1_000090_459_1295                                                                                       </td><td>carboxymethylenebutenolidase                                                                                                                    </td><td>KO:K01061                                              </td></tr>\n",
       "\t<tr><td>AGGGSLSGAFTK          </td><td>nmdc:wfmgan-11-awd7ke72.1_00644_1_630                                                                                           </td><td>hypothetical protein                                                                                                                            </td><td>Hypo-rule applied                                      </td></tr>\n",
       "\t<tr><td>FTADLQPR              </td><td>nmdc:wfmgan-11-ewrwts75.1_001504_1742_2281, nmdc:wfmgan-11-qb4s5g41.1_000241_3630_4166, nmdc:wfmgan-11-awd7ke72.1_01435_551_1090</td><td>hypothetical protein, hypothetical protein, hypothetical protein                                                                                </td><td>Hypo-rule applied, Hypo-rule applied, Hypo-rule applied</td></tr>\n",
       "\t<tr><td>QNYTESQVKK            </td><td>nmdc:wfmgan-11-z0q72297.1_000442_620_2068, nmdc:wfmgan-11-dvvh0237.1_016553_1_858                                               </td><td>tRNA-splicing ligase RtcB (3'-phosphate/5'-hydroxy nucleic acid ligase), tRNA-splicing ligase RtcB (3'-phosphate/5'-hydroxy nucleic acid ligase)</td><td>KO:K14415, KO:K14415                                   </td></tr>\n",
       "\t<tr><td>GFGSAGGSGGTSADVER     </td><td>nmdc:wfmgan-11-z0q72297.1_000725_873_1235, nmdc:wfmgan-11-afrz5241.1_000377_2137_2499                                           </td><td>hypothetical protein, hypothetical protein                                                                                                      </td><td>Hypo-rule applied, Hypo-rule applied                   </td></tr>\n",
       "</tbody>\n",
       "</table>\n"
      ],
      "text/latex": [
       "A tibble: 6 × 4\n",
       "\\begin{tabular}{llll}\n",
       " Peptide & Razor\\_Protein & product & product\\_source\\\\\n",
       " <chr> & <chr> & <chr> & <chr>\\\\\n",
       "\\hline\n",
       "\t AMERGETYVNVHTEKNPNGEIR & nmdc:wfmgan-11-ewrwts75.1\\_000578\\_1764\\_2267                                                                                       & hypothetical protein                                                                                                                             & Hypo-rule applied                                      \\\\\n",
       "\t GVGHAFANPSGENYAPK      & nmdc:wfmgan-11-7j1ws791.1\\_000090\\_459\\_1295                                                                                        & carboxymethylenebutenolidase                                                                                                                     & KO:K01061                                              \\\\\n",
       "\t AGGGSLSGAFTK           & nmdc:wfmgan-11-awd7ke72.1\\_00644\\_1\\_630                                                                                            & hypothetical protein                                                                                                                             & Hypo-rule applied                                      \\\\\n",
       "\t FTADLQPR               & nmdc:wfmgan-11-ewrwts75.1\\_001504\\_1742\\_2281, nmdc:wfmgan-11-qb4s5g41.1\\_000241\\_3630\\_4166, nmdc:wfmgan-11-awd7ke72.1\\_01435\\_551\\_1090 & hypothetical protein, hypothetical protein, hypothetical protein                                                                                 & Hypo-rule applied, Hypo-rule applied, Hypo-rule applied\\\\\n",
       "\t QNYTESQVKK             & nmdc:wfmgan-11-z0q72297.1\\_000442\\_620\\_2068, nmdc:wfmgan-11-dvvh0237.1\\_016553\\_1\\_858                                                & tRNA-splicing ligase RtcB (3'-phosphate/5'-hydroxy nucleic acid ligase), tRNA-splicing ligase RtcB (3'-phosphate/5'-hydroxy nucleic acid ligase) & KO:K14415, KO:K14415                                   \\\\\n",
       "\t GFGSAGGSGGTSADVER      & nmdc:wfmgan-11-z0q72297.1\\_000725\\_873\\_1235, nmdc:wfmgan-11-afrz5241.1\\_000377\\_2137\\_2499                                            & hypothetical protein, hypothetical protein                                                                                                       & Hypo-rule applied, Hypo-rule applied                   \\\\\n",
       "\\end{tabular}\n"
      ],
      "text/markdown": [
       "\n",
       "A tibble: 6 × 4\n",
       "\n",
       "| Peptide &lt;chr&gt; | Razor_Protein &lt;chr&gt; | product &lt;chr&gt; | product_source &lt;chr&gt; |\n",
       "|---|---|---|---|\n",
       "| AMERGETYVNVHTEKNPNGEIR | nmdc:wfmgan-11-ewrwts75.1_000578_1764_2267                                                                                       | hypothetical protein                                                                                                                             | Hypo-rule applied                                       |\n",
       "| GVGHAFANPSGENYAPK      | nmdc:wfmgan-11-7j1ws791.1_000090_459_1295                                                                                        | carboxymethylenebutenolidase                                                                                                                     | KO:K01061                                               |\n",
       "| AGGGSLSGAFTK           | nmdc:wfmgan-11-awd7ke72.1_00644_1_630                                                                                            | hypothetical protein                                                                                                                             | Hypo-rule applied                                       |\n",
       "| FTADLQPR               | nmdc:wfmgan-11-ewrwts75.1_001504_1742_2281, nmdc:wfmgan-11-qb4s5g41.1_000241_3630_4166, nmdc:wfmgan-11-awd7ke72.1_01435_551_1090 | hypothetical protein, hypothetical protein, hypothetical protein                                                                                 | Hypo-rule applied, Hypo-rule applied, Hypo-rule applied |\n",
       "| QNYTESQVKK             | nmdc:wfmgan-11-z0q72297.1_000442_620_2068, nmdc:wfmgan-11-dvvh0237.1_016553_1_858                                                | tRNA-splicing ligase RtcB (3'-phosphate/5'-hydroxy nucleic acid ligase), tRNA-splicing ligase RtcB (3'-phosphate/5'-hydroxy nucleic acid ligase) | KO:K14415, KO:K14415                                    |\n",
       "| GFGSAGGSGGTSADVER      | nmdc:wfmgan-11-z0q72297.1_000725_873_1235, nmdc:wfmgan-11-afrz5241.1_000377_2137_2499                                            | hypothetical protein, hypothetical protein                                                                                                       | Hypo-rule applied, Hypo-rule applied                    |\n",
       "\n"
      ],
      "text/plain": [
       "  Peptide               \n",
       "1 AMERGETYVNVHTEKNPNGEIR\n",
       "2 GVGHAFANPSGENYAPK     \n",
       "3 AGGGSLSGAFTK          \n",
       "4 FTADLQPR              \n",
       "5 QNYTESQVKK            \n",
       "6 GFGSAGGSGGTSADVER     \n",
       "  Razor_Protein                                                                                                                   \n",
       "1 nmdc:wfmgan-11-ewrwts75.1_000578_1764_2267                                                                                      \n",
       "2 nmdc:wfmgan-11-7j1ws791.1_000090_459_1295                                                                                       \n",
       "3 nmdc:wfmgan-11-awd7ke72.1_00644_1_630                                                                                           \n",
       "4 nmdc:wfmgan-11-ewrwts75.1_001504_1742_2281, nmdc:wfmgan-11-qb4s5g41.1_000241_3630_4166, nmdc:wfmgan-11-awd7ke72.1_01435_551_1090\n",
       "5 nmdc:wfmgan-11-z0q72297.1_000442_620_2068, nmdc:wfmgan-11-dvvh0237.1_016553_1_858                                               \n",
       "6 nmdc:wfmgan-11-z0q72297.1_000725_873_1235, nmdc:wfmgan-11-afrz5241.1_000377_2137_2499                                           \n",
       "  product                                                                                                                                         \n",
       "1 hypothetical protein                                                                                                                            \n",
       "2 carboxymethylenebutenolidase                                                                                                                    \n",
       "3 hypothetical protein                                                                                                                            \n",
       "4 hypothetical protein, hypothetical protein, hypothetical protein                                                                                \n",
       "5 tRNA-splicing ligase RtcB (3'-phosphate/5'-hydroxy nucleic acid ligase), tRNA-splicing ligase RtcB (3'-phosphate/5'-hydroxy nucleic acid ligase)\n",
       "6 hypothetical protein, hypothetical protein                                                                                                      \n",
       "  product_source                                         \n",
       "1 Hypo-rule applied                                      \n",
       "2 KO:K01061                                              \n",
       "3 Hypo-rule applied                                      \n",
       "4 Hypo-rule applied, Hypo-rule applied, Hypo-rule applied\n",
       "5 KO:K14415, KO:K14415                                   \n",
       "6 Hypo-rule applied, Hypo-rule applied                   "
      ]
     },
     "metadata": {},
     "output_type": "display_data"
    }
   ],
   "source": [
    "# Get razor mappings (long format)\n",
    "razor_mapping <- get_razor_protein(annotation_mapping)\n",
    "\n",
    "# Roll up - concatenate razor protein results (one row per peptide)\n",
    "razor_mapping <- razor_mapping %>%\n",
    "  group_by(Peptide) %>%\n",
    "  mutate(Razor_Protein  = paste(Razor_Protein, collapse = \", \"),\n",
    "         product        = paste(product, collapse = \", \"),\n",
    "         product_source = paste(product_source, collapse = \", \")) %>%\n",
    "  ungroup() %>%\n",
    "  distinct()\n",
    "\n",
    "head(razor_mapping)"
   ]
  },
  {
   "cell_type": "markdown",
   "metadata": {},
   "source": [
    "## 6) Perform protein rollup and summarize into a final aggregated table of relative protein abundance"
   ]
  },
  {
   "cell_type": "markdown",
   "metadata": {},
   "source": [
    "Combine razor information with relative abundance values."
   ]
  },
  {
   "cell_type": "code",
   "execution_count": null,
   "metadata": {
    "vscode": {
     "languageId": "r"
    }
   },
   "outputs": [
    {
     "data": {
      "text/html": [
       "<table class=\"dataframe\">\n",
       "<caption>A tibble: 6 × 9</caption>\n",
       "<thead>\n",
       "\t<tr><th scope=col>processed_dobj_id</th><th scope=col>Peptide_Sequence_with_Mods</th><th scope=col>StatMomentsArea</th><th scope=col>StatMomentsAreaLog2</th><th scope=col>group_medians</th><th scope=col>StatMomentsAreaLogNorm</th><th scope=col>Razor_Protein</th><th scope=col>product</th><th scope=col>product_source</th></tr>\n",
       "\t<tr><th scope=col>&lt;chr&gt;</th><th scope=col>&lt;chr&gt;</th><th scope=col>&lt;dbl&gt;</th><th scope=col>&lt;dbl&gt;</th><th scope=col>&lt;dbl&gt;</th><th scope=col>&lt;dbl&gt;</th><th scope=col>&lt;chr&gt;</th><th scope=col>&lt;chr&gt;</th><th scope=col>&lt;chr&gt;</th></tr>\n",
       "</thead>\n",
       "<tbody>\n",
       "\t<tr><td>nmdc:dobj-11-2k6s1505</td><td>VYLGAETTR           </td><td> 323402000</td><td>28.26875</td><td>26.78594</td><td>29.18732</td><td>nmdc:wfmgan-11-afrz5241.1_046285_72_317, nmdc:wfmgan-11-a71gkg84.1_094425_166_282                                                                                                                                                                                                                                                                                                                                                                                                                                                                                                                                                                                                                                                                                                                                                                                                                                                                                                                                                                                                                                                                                                                                                                                                                                                                                                                                                                                                                                                                                                                                                                                                                                                         </td><td>photosystem I subunit VII, photosystem I subunit VII                                                                                                                                                                                                                                                                                                                                                                                                                                                                                                                                                                                                                                                                                                                                                                                                                                                                                                                                                                    </td><td>KO:K02691, KO:K02691                                                                                                                                                                                                                                                                                                                                                                                                        </td></tr>\n",
       "\t<tr><td>nmdc:dobj-11-2k6s1505</td><td>DTLPHTVTSGTGPTDPNSAK</td><td>  52891000</td><td>25.65652</td><td>26.78594</td><td>26.57509</td><td>nmdc:wfmgan-11-ewrwts75.1_001323_2787_3257, nmdc:wfmgan-11-ewrwts75.1_005119_1004_1810, nmdc:wfmgan-11-ewrwts75.1_009192_213_1403, nmdc:wfmgan-11-ewrwts75.1_019478_415_1116, nmdc:wfmgan-11-vcrp9p47.1_000448_1955_2434, nmdc:wfmgan-11-vcrp9p47.1_000463_36_842, nmdc:wfmgan-11-vcrp9p47.1_000531_2_1216, nmdc:wfmgan-11-vcrp9p47.1_008560_3_299, nmdc:wfmgan-11-qb4s5g41.1_017412_316_1002, nmdc:wfmgan-11-yjeh0m30.1_000695_2938_3477, nmdc:wfmgan-11-yjeh0m30.1_002652_494_1570, nmdc:wfmgan-11-yjeh0m30.1_003114_1313_1996, nmdc:wfmgan-11-yjeh0m30.1_024470_1_642, nmdc:wfmgan-11-yjeh0m30.1_033010_271_651, nmdc:wfmgan-11-yjeh0m30.1_034616_189_635, nmdc:wfmgan-11-yjeh0m30.1_100025_1_366, nmdc:wfmgan-11-yjeh0m30.1_203262_2_277, nmdc:wfmgan-11-awd7ke72.1_00183_134_940, nmdc:wfmgan-11-awd7ke72.1_00488_1024_1959, nmdc:wfmgan-11-awd7ke72.1_17875_2_196, nmdc:wfmgan-11-7j1ws791.1_000438_1906_2712, nmdc:wfmgan-11-7j1ws791.1_005543_105_1136, nmdc:wfmgan-11-7j1ws791.1_007059_1_312, nmdc:wfmgan-11-7j1ws791.1_025414_3_587, nmdc:wfmgan-11-7j1ws791.1_035592_2_505, nmdc:wfmgan-11-7j1ws791.1_069894_2_379, nmdc:wfmgan-11-b6sp3q07.1_001955_161_967, nmdc:wfmgan-11-b6sp3q07.1_004515_1424_1825, nmdc:wfmgan-11-b6sp3q07.1_004671_928_1584, nmdc:wfmgan-11-b6sp3q07.1_016631_2_535, nmdc:wfmgan-11-b6sp3q07.1_174030_2_295, nmdc:wfmgan-11-8zxjs882.1_000386_1779_2495, nmdc:wfmgan-11-8zxjs882.1_000482_1879_2190, nmdc:wfmgan-11-8zxjs882.1_009381_1_510, nmdc:wfmgan-11-8zxjs882.1_029454_2_358, nmdc:wfmgan-11-a71gkg84.1_000507_1580_2041, nmdc:wfmgan-11-a71gkg84.1_005396_2_430, nmdc:wfmgan-11-a71gkg84.1_104278_2_277, nmdc:wfmgan-11-9mdyy902.1_000322_3078_3443, nmdc:wfmgan-11-9mdyy902.1_002777_624_1232</td><td>plastocyanin, cytochrome c oxidase subunit II, plastocyanin, cytochrome c oxidase subunit II, cytochrome c oxidase subunit II, cytochrome c oxidase subunit II, plastocyanin, cytochrome c oxidase subunit II, cytochrome c oxidase subunit II, cytochrome c oxidase subunit II, plastocyanin, plastocyanin, cytochrome c oxidase subunit II, plastocyanin, cytochrome c oxidase subunit II, hypothetical protein, cytochrome c oxidase subunit II, cytochrome c oxidase subunit II, plastocyanin, cytochrome c oxidase subunit II, cytochrome c oxidase subunit II, plastocyanin, plastocyanin, plastocyanin, cytochrome c oxidase subunit II, plastocyanin, cytochrome c oxidase subunit II, cytochrome c oxidase subunit II, plastocyanin, plastocyanin, cytochrome c oxidase subunit II, cytochrome c oxidase subunit II, plastocyanin, plastocyanin, cytochrome c oxidase subunit II, cytochrome c oxidase subunit II, plastocyanin, cytochrome c oxidase subunit II, plastocyanin, cytochrome c oxidase subunit II</td><td>COG3794, KO:K02275, COG3794, KO:K02275, KO:K02275, KO:K02275, COG3794, KO:K02275, KO:K02275, KO:K02275, COG3794, COG3794, KO:K02275, COG3794, KO:K02275, Hypo-rule applied, KO:K02275, KO:K02275, COG3794, KO:K02275, KO:K02275, COG3794, COG3794, COG3794, KO:K02275, COG3794, KO:K02275, KO:K02275, COG3794, COG3794, KO:K02275, KO:K02275, COG3794, COG3794, KO:K02275, KO:K02275, COG3794, KO:K02275, COG3794, KO:K02275</td></tr>\n",
       "\t<tr><td>nmdc:dobj-11-2k6s1505</td><td>SQVSEGSSLADGVK      </td><td>1259380000</td><td>30.23007</td><td>26.78594</td><td>31.14864</td><td>nmdc:wfmgan-11-a71gkg84.1_103783_2_277                                                                                                                                                                                                                                                                                                                                                                                                                                                                                                                                                                                                                                                                                                                                                                                                                                                                                                                                                                                                                                                                                                                                                                                                                                                                                                                                                                                                                                                                                                                                                                                                                                                                                                    </td><td>type IV pilus assembly protein PilA                                                                                                                                                                                                                                                                                                                                                                                                                                                                                                                                                                                                                                                                                                                                                                                                                                                                                                                                                                                     </td><td>KO:K02650                                                                                                                                                                                                                                                                                                                                                                                                                   </td></tr>\n",
       "\t<tr><td>nmdc:dobj-11-2k6s1505</td><td>TLSDYNIQK           </td><td> 250540000</td><td>27.90047</td><td>26.78594</td><td>28.81904</td><td>nmdc:wfmgan-11-a71gkg84.1_104452_3_278                                                                                                                                                                                                                                                                                                                                                                                                                                                                                                                                                                                                                                                                                                                                                                                                                                                                                                                                                                                                                                                                                                                                                                                                                                                                                                                                                                                                                                                                                                                                                                                                                                                                                                    </td><td>ubiquitin C                                                                                                                                                                                                                                                                                                                                                                                                                                                                                                                                                                                                                                                                                                                                                                                                                                                                                                                                                                                                             </td><td>KO:K08770                                                                                                                                                                                                                                                                                                                                                                                                                   </td></tr>\n",
       "\t<tr><td>nmdc:dobj-11-2k6s1505</td><td>SALQNAASIAK         </td><td> 155670000</td><td>27.21392</td><td>26.78594</td><td>28.13249</td><td>nmdc:wfmgan-11-p3dkkz54.1_018834_2_562                                                                                                                                                                                                                                                                                                                                                                                                                                                                                                                                                                                                                                                                                                                                                                                                                                                                                                                                                                                                                                                                                                                                                                                                                                                                                                                                                                                                                                                                                                                                                                                                                                                                                                    </td><td>chaperonin GroEL                                                                                                                                                                                                                                                                                                                                                                                                                                                                                                                                                                                                                                                                                                                                                                                                                                                                                                                                                                                                        </td><td>KO:K04077                                                                                                                                                                                                                                                                                                                                                                                                                   </td></tr>\n",
       "\t<tr><td>nmdc:dobj-11-2k6s1505</td><td>IETGELAGYK          </td><td>  43413000</td><td>25.37162</td><td>26.78594</td><td>26.29020</td><td>nmdc:wfmgan-11-b6sp3q07.1_053672_1_546                                                                                                                                                                                                                                                                                                                                                                                                                                                                                                                                                                                                                                                                                                                                                                                                                                                                                                                                                                                                                                                                                                                                                                                                                                                                                                                                                                                                                                                                                                                                                                                                                                                                                                    </td><td>hypothetical protein                                                                                                                                                                                                                                                                                                                                                                                                                                                                                                                                                                                                                                                                                                                                                                                                                                                                                                                                                                                                    </td><td>Hypo-rule applied                                                                                                                                                                                                                                                                                                                                                                                                           </td></tr>\n",
       "</tbody>\n",
       "</table>\n"
      ],
      "text/latex": [
       "A tibble: 6 × 9\n",
       "\\begin{tabular}{lllllllll}\n",
       " processed\\_dobj\\_id & Peptide\\_Sequence\\_with\\_Mods & StatMomentsArea & StatMomentsAreaLog2 & group\\_medians & StatMomentsAreaLogNorm & Razor\\_Protein & product & product\\_source\\\\\n",
       " <chr> & <chr> & <dbl> & <dbl> & <dbl> & <dbl> & <chr> & <chr> & <chr>\\\\\n",
       "\\hline\n",
       "\t nmdc:dobj-11-2k6s1505 & VYLGAETTR            &  323402000 & 28.26875 & 26.78594 & 29.18732 & nmdc:wfmgan-11-afrz5241.1\\_046285\\_72\\_317, nmdc:wfmgan-11-a71gkg84.1\\_094425\\_166\\_282                                                                                                                                                                                                                                                                                                                                                                                                                                                                                                                                                                                                                                                                                                                                                                                                                                                                                                                                                                                                                                                                                                                                                                                                                                                                                                                                                                                                                                                                                                                                                                                                                                                          & photosystem I subunit VII, photosystem I subunit VII                                                                                                                                                                                                                                                                                                                                                                                                                                                                                                                                                                                                                                                                                                                                                                                                                                                                                                                                                                     & KO:K02691, KO:K02691                                                                                                                                                                                                                                                                                                                                                                                                        \\\\\n",
       "\t nmdc:dobj-11-2k6s1505 & DTLPHTVTSGTGPTDPNSAK &   52891000 & 25.65652 & 26.78594 & 26.57509 & nmdc:wfmgan-11-ewrwts75.1\\_001323\\_2787\\_3257, nmdc:wfmgan-11-ewrwts75.1\\_005119\\_1004\\_1810, nmdc:wfmgan-11-ewrwts75.1\\_009192\\_213\\_1403, nmdc:wfmgan-11-ewrwts75.1\\_019478\\_415\\_1116, nmdc:wfmgan-11-vcrp9p47.1\\_000448\\_1955\\_2434, nmdc:wfmgan-11-vcrp9p47.1\\_000463\\_36\\_842, nmdc:wfmgan-11-vcrp9p47.1\\_000531\\_2\\_1216, nmdc:wfmgan-11-vcrp9p47.1\\_008560\\_3\\_299, nmdc:wfmgan-11-qb4s5g41.1\\_017412\\_316\\_1002, nmdc:wfmgan-11-yjeh0m30.1\\_000695\\_2938\\_3477, nmdc:wfmgan-11-yjeh0m30.1\\_002652\\_494\\_1570, nmdc:wfmgan-11-yjeh0m30.1\\_003114\\_1313\\_1996, nmdc:wfmgan-11-yjeh0m30.1\\_024470\\_1\\_642, nmdc:wfmgan-11-yjeh0m30.1\\_033010\\_271\\_651, nmdc:wfmgan-11-yjeh0m30.1\\_034616\\_189\\_635, nmdc:wfmgan-11-yjeh0m30.1\\_100025\\_1\\_366, nmdc:wfmgan-11-yjeh0m30.1\\_203262\\_2\\_277, nmdc:wfmgan-11-awd7ke72.1\\_00183\\_134\\_940, nmdc:wfmgan-11-awd7ke72.1\\_00488\\_1024\\_1959, nmdc:wfmgan-11-awd7ke72.1\\_17875\\_2\\_196, nmdc:wfmgan-11-7j1ws791.1\\_000438\\_1906\\_2712, nmdc:wfmgan-11-7j1ws791.1\\_005543\\_105\\_1136, nmdc:wfmgan-11-7j1ws791.1\\_007059\\_1\\_312, nmdc:wfmgan-11-7j1ws791.1\\_025414\\_3\\_587, nmdc:wfmgan-11-7j1ws791.1\\_035592\\_2\\_505, nmdc:wfmgan-11-7j1ws791.1\\_069894\\_2\\_379, nmdc:wfmgan-11-b6sp3q07.1\\_001955\\_161\\_967, nmdc:wfmgan-11-b6sp3q07.1\\_004515\\_1424\\_1825, nmdc:wfmgan-11-b6sp3q07.1\\_004671\\_928\\_1584, nmdc:wfmgan-11-b6sp3q07.1\\_016631\\_2\\_535, nmdc:wfmgan-11-b6sp3q07.1\\_174030\\_2\\_295, nmdc:wfmgan-11-8zxjs882.1\\_000386\\_1779\\_2495, nmdc:wfmgan-11-8zxjs882.1\\_000482\\_1879\\_2190, nmdc:wfmgan-11-8zxjs882.1\\_009381\\_1\\_510, nmdc:wfmgan-11-8zxjs882.1\\_029454\\_2\\_358, nmdc:wfmgan-11-a71gkg84.1\\_000507\\_1580\\_2041, nmdc:wfmgan-11-a71gkg84.1\\_005396\\_2\\_430, nmdc:wfmgan-11-a71gkg84.1\\_104278\\_2\\_277, nmdc:wfmgan-11-9mdyy902.1\\_000322\\_3078\\_3443, nmdc:wfmgan-11-9mdyy902.1\\_002777\\_624\\_1232 & plastocyanin, cytochrome c oxidase subunit II, plastocyanin, cytochrome c oxidase subunit II, cytochrome c oxidase subunit II, cytochrome c oxidase subunit II, plastocyanin, cytochrome c oxidase subunit II, cytochrome c oxidase subunit II, cytochrome c oxidase subunit II, plastocyanin, plastocyanin, cytochrome c oxidase subunit II, plastocyanin, cytochrome c oxidase subunit II, hypothetical protein, cytochrome c oxidase subunit II, cytochrome c oxidase subunit II, plastocyanin, cytochrome c oxidase subunit II, cytochrome c oxidase subunit II, plastocyanin, plastocyanin, plastocyanin, cytochrome c oxidase subunit II, plastocyanin, cytochrome c oxidase subunit II, cytochrome c oxidase subunit II, plastocyanin, plastocyanin, cytochrome c oxidase subunit II, cytochrome c oxidase subunit II, plastocyanin, plastocyanin, cytochrome c oxidase subunit II, cytochrome c oxidase subunit II, plastocyanin, cytochrome c oxidase subunit II, plastocyanin, cytochrome c oxidase subunit II & COG3794, KO:K02275, COG3794, KO:K02275, KO:K02275, KO:K02275, COG3794, KO:K02275, KO:K02275, KO:K02275, COG3794, COG3794, KO:K02275, COG3794, KO:K02275, Hypo-rule applied, KO:K02275, KO:K02275, COG3794, KO:K02275, KO:K02275, COG3794, COG3794, COG3794, KO:K02275, COG3794, KO:K02275, KO:K02275, COG3794, COG3794, KO:K02275, KO:K02275, COG3794, COG3794, KO:K02275, KO:K02275, COG3794, KO:K02275, COG3794, KO:K02275\\\\\n",
       "\t nmdc:dobj-11-2k6s1505 & SQVSEGSSLADGVK       & 1259380000 & 30.23007 & 26.78594 & 31.14864 & nmdc:wfmgan-11-a71gkg84.1\\_103783\\_2\\_277                                                                                                                                                                                                                                                                                                                                                                                                                                                                                                                                                                                                                                                                                                                                                                                                                                                                                                                                                                                                                                                                                                                                                                                                                                                                                                                                                                                                                                                                                                                                                                                                                                                                                                     & type IV pilus assembly protein PilA                                                                                                                                                                                                                                                                                                                                                                                                                                                                                                                                                                                                                                                                                                                                                                                                                                                                                                                                                                                      & KO:K02650                                                                                                                                                                                                                                                                                                                                                                                                                   \\\\\n",
       "\t nmdc:dobj-11-2k6s1505 & TLSDYNIQK            &  250540000 & 27.90047 & 26.78594 & 28.81904 & nmdc:wfmgan-11-a71gkg84.1\\_104452\\_3\\_278                                                                                                                                                                                                                                                                                                                                                                                                                                                                                                                                                                                                                                                                                                                                                                                                                                                                                                                                                                                                                                                                                                                                                                                                                                                                                                                                                                                                                                                                                                                                                                                                                                                                                                     & ubiquitin C                                                                                                                                                                                                                                                                                                                                                                                                                                                                                                                                                                                                                                                                                                                                                                                                                                                                                                                                                                                                              & KO:K08770                                                                                                                                                                                                                                                                                                                                                                                                                   \\\\\n",
       "\t nmdc:dobj-11-2k6s1505 & SALQNAASIAK          &  155670000 & 27.21392 & 26.78594 & 28.13249 & nmdc:wfmgan-11-p3dkkz54.1\\_018834\\_2\\_562                                                                                                                                                                                                                                                                                                                                                                                                                                                                                                                                                                                                                                                                                                                                                                                                                                                                                                                                                                                                                                                                                                                                                                                                                                                                                                                                                                                                                                                                                                                                                                                                                                                                                                     & chaperonin GroEL                                                                                                                                                                                                                                                                                                                                                                                                                                                                                                                                                                                                                                                                                                                                                                                                                                                                                                                                                                                                         & KO:K04077                                                                                                                                                                                                                                                                                                                                                                                                                   \\\\\n",
       "\t nmdc:dobj-11-2k6s1505 & IETGELAGYK           &   43413000 & 25.37162 & 26.78594 & 26.29020 & nmdc:wfmgan-11-b6sp3q07.1\\_053672\\_1\\_546                                                                                                                                                                                                                                                                                                                                                                                                                                                                                                                                                                                                                                                                                                                                                                                                                                                                                                                                                                                                                                                                                                                                                                                                                                                                                                                                                                                                                                                                                                                                                                                                                                                                                                     & hypothetical protein                                                                                                                                                                                                                                                                                                                                                                                                                                                                                                                                                                                                                                                                                                                                                                                                                                                                                                                                                                                                     & Hypo-rule applied                                                                                                                                                                                                                                                                                                                                                                                                           \\\\\n",
       "\\end{tabular}\n"
      ],
      "text/markdown": [
       "\n",
       "A tibble: 6 × 9\n",
       "\n",
       "| processed_dobj_id &lt;chr&gt; | Peptide_Sequence_with_Mods &lt;chr&gt; | StatMomentsArea &lt;dbl&gt; | StatMomentsAreaLog2 &lt;dbl&gt; | group_medians &lt;dbl&gt; | StatMomentsAreaLogNorm &lt;dbl&gt; | Razor_Protein &lt;chr&gt; | product &lt;chr&gt; | product_source &lt;chr&gt; |\n",
       "|---|---|---|---|---|---|---|---|---|\n",
       "| nmdc:dobj-11-2k6s1505 | VYLGAETTR            |  323402000 | 28.26875 | 26.78594 | 29.18732 | nmdc:wfmgan-11-afrz5241.1_046285_72_317, nmdc:wfmgan-11-a71gkg84.1_094425_166_282                                                                                                                                                                                                                                                                                                                                                                                                                                                                                                                                                                                                                                                                                                                                                                                                                                                                                                                                                                                                                                                                                                                                                                                                                                                                                                                                                                                                                                                                                                                                                                                                                                                          | photosystem I subunit VII, photosystem I subunit VII                                                                                                                                                                                                                                                                                                                                                                                                                                                                                                                                                                                                                                                                                                                                                                                                                                                                                                                                                                     | KO:K02691, KO:K02691                                                                                                                                                                                                                                                                                                                                                                                                         |\n",
       "| nmdc:dobj-11-2k6s1505 | DTLPHTVTSGTGPTDPNSAK |   52891000 | 25.65652 | 26.78594 | 26.57509 | nmdc:wfmgan-11-ewrwts75.1_001323_2787_3257, nmdc:wfmgan-11-ewrwts75.1_005119_1004_1810, nmdc:wfmgan-11-ewrwts75.1_009192_213_1403, nmdc:wfmgan-11-ewrwts75.1_019478_415_1116, nmdc:wfmgan-11-vcrp9p47.1_000448_1955_2434, nmdc:wfmgan-11-vcrp9p47.1_000463_36_842, nmdc:wfmgan-11-vcrp9p47.1_000531_2_1216, nmdc:wfmgan-11-vcrp9p47.1_008560_3_299, nmdc:wfmgan-11-qb4s5g41.1_017412_316_1002, nmdc:wfmgan-11-yjeh0m30.1_000695_2938_3477, nmdc:wfmgan-11-yjeh0m30.1_002652_494_1570, nmdc:wfmgan-11-yjeh0m30.1_003114_1313_1996, nmdc:wfmgan-11-yjeh0m30.1_024470_1_642, nmdc:wfmgan-11-yjeh0m30.1_033010_271_651, nmdc:wfmgan-11-yjeh0m30.1_034616_189_635, nmdc:wfmgan-11-yjeh0m30.1_100025_1_366, nmdc:wfmgan-11-yjeh0m30.1_203262_2_277, nmdc:wfmgan-11-awd7ke72.1_00183_134_940, nmdc:wfmgan-11-awd7ke72.1_00488_1024_1959, nmdc:wfmgan-11-awd7ke72.1_17875_2_196, nmdc:wfmgan-11-7j1ws791.1_000438_1906_2712, nmdc:wfmgan-11-7j1ws791.1_005543_105_1136, nmdc:wfmgan-11-7j1ws791.1_007059_1_312, nmdc:wfmgan-11-7j1ws791.1_025414_3_587, nmdc:wfmgan-11-7j1ws791.1_035592_2_505, nmdc:wfmgan-11-7j1ws791.1_069894_2_379, nmdc:wfmgan-11-b6sp3q07.1_001955_161_967, nmdc:wfmgan-11-b6sp3q07.1_004515_1424_1825, nmdc:wfmgan-11-b6sp3q07.1_004671_928_1584, nmdc:wfmgan-11-b6sp3q07.1_016631_2_535, nmdc:wfmgan-11-b6sp3q07.1_174030_2_295, nmdc:wfmgan-11-8zxjs882.1_000386_1779_2495, nmdc:wfmgan-11-8zxjs882.1_000482_1879_2190, nmdc:wfmgan-11-8zxjs882.1_009381_1_510, nmdc:wfmgan-11-8zxjs882.1_029454_2_358, nmdc:wfmgan-11-a71gkg84.1_000507_1580_2041, nmdc:wfmgan-11-a71gkg84.1_005396_2_430, nmdc:wfmgan-11-a71gkg84.1_104278_2_277, nmdc:wfmgan-11-9mdyy902.1_000322_3078_3443, nmdc:wfmgan-11-9mdyy902.1_002777_624_1232 | plastocyanin, cytochrome c oxidase subunit II, plastocyanin, cytochrome c oxidase subunit II, cytochrome c oxidase subunit II, cytochrome c oxidase subunit II, plastocyanin, cytochrome c oxidase subunit II, cytochrome c oxidase subunit II, cytochrome c oxidase subunit II, plastocyanin, plastocyanin, cytochrome c oxidase subunit II, plastocyanin, cytochrome c oxidase subunit II, hypothetical protein, cytochrome c oxidase subunit II, cytochrome c oxidase subunit II, plastocyanin, cytochrome c oxidase subunit II, cytochrome c oxidase subunit II, plastocyanin, plastocyanin, plastocyanin, cytochrome c oxidase subunit II, plastocyanin, cytochrome c oxidase subunit II, cytochrome c oxidase subunit II, plastocyanin, plastocyanin, cytochrome c oxidase subunit II, cytochrome c oxidase subunit II, plastocyanin, plastocyanin, cytochrome c oxidase subunit II, cytochrome c oxidase subunit II, plastocyanin, cytochrome c oxidase subunit II, plastocyanin, cytochrome c oxidase subunit II | COG3794, KO:K02275, COG3794, KO:K02275, KO:K02275, KO:K02275, COG3794, KO:K02275, KO:K02275, KO:K02275, COG3794, COG3794, KO:K02275, COG3794, KO:K02275, Hypo-rule applied, KO:K02275, KO:K02275, COG3794, KO:K02275, KO:K02275, COG3794, COG3794, COG3794, KO:K02275, COG3794, KO:K02275, KO:K02275, COG3794, COG3794, KO:K02275, KO:K02275, COG3794, COG3794, KO:K02275, KO:K02275, COG3794, KO:K02275, COG3794, KO:K02275 |\n",
       "| nmdc:dobj-11-2k6s1505 | SQVSEGSSLADGVK       | 1259380000 | 30.23007 | 26.78594 | 31.14864 | nmdc:wfmgan-11-a71gkg84.1_103783_2_277                                                                                                                                                                                                                                                                                                                                                                                                                                                                                                                                                                                                                                                                                                                                                                                                                                                                                                                                                                                                                                                                                                                                                                                                                                                                                                                                                                                                                                                                                                                                                                                                                                                                                                     | type IV pilus assembly protein PilA                                                                                                                                                                                                                                                                                                                                                                                                                                                                                                                                                                                                                                                                                                                                                                                                                                                                                                                                                                                      | KO:K02650                                                                                                                                                                                                                                                                                                                                                                                                                    |\n",
       "| nmdc:dobj-11-2k6s1505 | TLSDYNIQK            |  250540000 | 27.90047 | 26.78594 | 28.81904 | nmdc:wfmgan-11-a71gkg84.1_104452_3_278                                                                                                                                                                                                                                                                                                                                                                                                                                                                                                                                                                                                                                                                                                                                                                                                                                                                                                                                                                                                                                                                                                                                                                                                                                                                                                                                                                                                                                                                                                                                                                                                                                                                                                     | ubiquitin C                                                                                                                                                                                                                                                                                                                                                                                                                                                                                                                                                                                                                                                                                                                                                                                                                                                                                                                                                                                                              | KO:K08770                                                                                                                                                                                                                                                                                                                                                                                                                    |\n",
       "| nmdc:dobj-11-2k6s1505 | SALQNAASIAK          |  155670000 | 27.21392 | 26.78594 | 28.13249 | nmdc:wfmgan-11-p3dkkz54.1_018834_2_562                                                                                                                                                                                                                                                                                                                                                                                                                                                                                                                                                                                                                                                                                                                                                                                                                                                                                                                                                                                                                                                                                                                                                                                                                                                                                                                                                                                                                                                                                                                                                                                                                                                                                                     | chaperonin GroEL                                                                                                                                                                                                                                                                                                                                                                                                                                                                                                                                                                                                                                                                                                                                                                                                                                                                                                                                                                                                         | KO:K04077                                                                                                                                                                                                                                                                                                                                                                                                                    |\n",
       "| nmdc:dobj-11-2k6s1505 | IETGELAGYK           |   43413000 | 25.37162 | 26.78594 | 26.29020 | nmdc:wfmgan-11-b6sp3q07.1_053672_1_546                                                                                                                                                                                                                                                                                                                                                                                                                                                                                                                                                                                                                                                                                                                                                                                                                                                                                                                                                                                                                                                                                                                                                                                                                                                                                                                                                                                                                                                                                                                                                                                                                                                                                                     | hypothetical protein                                                                                                                                                                                                                                                                                                                                                                                                                                                                                                                                                                                                                                                                                                                                                                                                                                                                                                                                                                                                     | Hypo-rule applied                                                                                                                                                                                                                                                                                                                                                                                                            |\n",
       "\n"
      ],
      "text/plain": [
       "  processed_dobj_id     Peptide_Sequence_with_Mods StatMomentsArea\n",
       "1 nmdc:dobj-11-2k6s1505 VYLGAETTR                   323402000     \n",
       "2 nmdc:dobj-11-2k6s1505 DTLPHTVTSGTGPTDPNSAK         52891000     \n",
       "3 nmdc:dobj-11-2k6s1505 SQVSEGSSLADGVK             1259380000     \n",
       "4 nmdc:dobj-11-2k6s1505 TLSDYNIQK                   250540000     \n",
       "5 nmdc:dobj-11-2k6s1505 SALQNAASIAK                 155670000     \n",
       "6 nmdc:dobj-11-2k6s1505 IETGELAGYK                   43413000     \n",
       "  StatMomentsAreaLog2 group_medians StatMomentsAreaLogNorm\n",
       "1 28.26875            26.78594      29.18732              \n",
       "2 25.65652            26.78594      26.57509              \n",
       "3 30.23007            26.78594      31.14864              \n",
       "4 27.90047            26.78594      28.81904              \n",
       "5 27.21392            26.78594      28.13249              \n",
       "6 25.37162            26.78594      26.29020              \n",
       "  Razor_Protein                                                                                                                                                                                                                                                                                                                                                                                                                                                                                                                                                                                                                                                                                                                                                                                                                                                                                                                                                                                                                                                                                                                                                                                                                                                                                                                                                                                                                                                                                                                                                                                                                                                                                                                             \n",
       "1 nmdc:wfmgan-11-afrz5241.1_046285_72_317, nmdc:wfmgan-11-a71gkg84.1_094425_166_282                                                                                                                                                                                                                                                                                                                                                                                                                                                                                                                                                                                                                                                                                                                                                                                                                                                                                                                                                                                                                                                                                                                                                                                                                                                                                                                                                                                                                                                                                                                                                                                                                                                         \n",
       "2 nmdc:wfmgan-11-ewrwts75.1_001323_2787_3257, nmdc:wfmgan-11-ewrwts75.1_005119_1004_1810, nmdc:wfmgan-11-ewrwts75.1_009192_213_1403, nmdc:wfmgan-11-ewrwts75.1_019478_415_1116, nmdc:wfmgan-11-vcrp9p47.1_000448_1955_2434, nmdc:wfmgan-11-vcrp9p47.1_000463_36_842, nmdc:wfmgan-11-vcrp9p47.1_000531_2_1216, nmdc:wfmgan-11-vcrp9p47.1_008560_3_299, nmdc:wfmgan-11-qb4s5g41.1_017412_316_1002, nmdc:wfmgan-11-yjeh0m30.1_000695_2938_3477, nmdc:wfmgan-11-yjeh0m30.1_002652_494_1570, nmdc:wfmgan-11-yjeh0m30.1_003114_1313_1996, nmdc:wfmgan-11-yjeh0m30.1_024470_1_642, nmdc:wfmgan-11-yjeh0m30.1_033010_271_651, nmdc:wfmgan-11-yjeh0m30.1_034616_189_635, nmdc:wfmgan-11-yjeh0m30.1_100025_1_366, nmdc:wfmgan-11-yjeh0m30.1_203262_2_277, nmdc:wfmgan-11-awd7ke72.1_00183_134_940, nmdc:wfmgan-11-awd7ke72.1_00488_1024_1959, nmdc:wfmgan-11-awd7ke72.1_17875_2_196, nmdc:wfmgan-11-7j1ws791.1_000438_1906_2712, nmdc:wfmgan-11-7j1ws791.1_005543_105_1136, nmdc:wfmgan-11-7j1ws791.1_007059_1_312, nmdc:wfmgan-11-7j1ws791.1_025414_3_587, nmdc:wfmgan-11-7j1ws791.1_035592_2_505, nmdc:wfmgan-11-7j1ws791.1_069894_2_379, nmdc:wfmgan-11-b6sp3q07.1_001955_161_967, nmdc:wfmgan-11-b6sp3q07.1_004515_1424_1825, nmdc:wfmgan-11-b6sp3q07.1_004671_928_1584, nmdc:wfmgan-11-b6sp3q07.1_016631_2_535, nmdc:wfmgan-11-b6sp3q07.1_174030_2_295, nmdc:wfmgan-11-8zxjs882.1_000386_1779_2495, nmdc:wfmgan-11-8zxjs882.1_000482_1879_2190, nmdc:wfmgan-11-8zxjs882.1_009381_1_510, nmdc:wfmgan-11-8zxjs882.1_029454_2_358, nmdc:wfmgan-11-a71gkg84.1_000507_1580_2041, nmdc:wfmgan-11-a71gkg84.1_005396_2_430, nmdc:wfmgan-11-a71gkg84.1_104278_2_277, nmdc:wfmgan-11-9mdyy902.1_000322_3078_3443, nmdc:wfmgan-11-9mdyy902.1_002777_624_1232\n",
       "3 nmdc:wfmgan-11-a71gkg84.1_103783_2_277                                                                                                                                                                                                                                                                                                                                                                                                                                                                                                                                                                                                                                                                                                                                                                                                                                                                                                                                                                                                                                                                                                                                                                                                                                                                                                                                                                                                                                                                                                                                                                                                                                                                                                    \n",
       "4 nmdc:wfmgan-11-a71gkg84.1_104452_3_278                                                                                                                                                                                                                                                                                                                                                                                                                                                                                                                                                                                                                                                                                                                                                                                                                                                                                                                                                                                                                                                                                                                                                                                                                                                                                                                                                                                                                                                                                                                                                                                                                                                                                                    \n",
       "5 nmdc:wfmgan-11-p3dkkz54.1_018834_2_562                                                                                                                                                                                                                                                                                                                                                                                                                                                                                                                                                                                                                                                                                                                                                                                                                                                                                                                                                                                                                                                                                                                                                                                                                                                                                                                                                                                                                                                                                                                                                                                                                                                                                                    \n",
       "6 nmdc:wfmgan-11-b6sp3q07.1_053672_1_546                                                                                                                                                                                                                                                                                                                                                                                                                                                                                                                                                                                                                                                                                                                                                                                                                                                                                                                                                                                                                                                                                                                                                                                                                                                                                                                                                                                                                                                                                                                                                                                                                                                                                                    \n",
       "  product                                                                                                                                                                                                                                                                                                                                                                                                                                                                                                                                                                                                                                                                                                                                                                                                                                                                                                                                                                                                                 \n",
       "1 photosystem I subunit VII, photosystem I subunit VII                                                                                                                                                                                                                                                                                                                                                                                                                                                                                                                                                                                                                                                                                                                                                                                                                                                                                                                                                                    \n",
       "2 plastocyanin, cytochrome c oxidase subunit II, plastocyanin, cytochrome c oxidase subunit II, cytochrome c oxidase subunit II, cytochrome c oxidase subunit II, plastocyanin, cytochrome c oxidase subunit II, cytochrome c oxidase subunit II, cytochrome c oxidase subunit II, plastocyanin, plastocyanin, cytochrome c oxidase subunit II, plastocyanin, cytochrome c oxidase subunit II, hypothetical protein, cytochrome c oxidase subunit II, cytochrome c oxidase subunit II, plastocyanin, cytochrome c oxidase subunit II, cytochrome c oxidase subunit II, plastocyanin, plastocyanin, plastocyanin, cytochrome c oxidase subunit II, plastocyanin, cytochrome c oxidase subunit II, cytochrome c oxidase subunit II, plastocyanin, plastocyanin, cytochrome c oxidase subunit II, cytochrome c oxidase subunit II, plastocyanin, plastocyanin, cytochrome c oxidase subunit II, cytochrome c oxidase subunit II, plastocyanin, cytochrome c oxidase subunit II, plastocyanin, cytochrome c oxidase subunit II\n",
       "3 type IV pilus assembly protein PilA                                                                                                                                                                                                                                                                                                                                                                                                                                                                                                                                                                                                                                                                                                                                                                                                                                                                                                                                                                                     \n",
       "4 ubiquitin C                                                                                                                                                                                                                                                                                                                                                                                                                                                                                                                                                                                                                                                                                                                                                                                                                                                                                                                                                                                                             \n",
       "5 chaperonin GroEL                                                                                                                                                                                                                                                                                                                                                                                                                                                                                                                                                                                                                                                                                                                                                                                                                                                                                                                                                                                                        \n",
       "6 hypothetical protein                                                                                                                                                                                                                                                                                                                                                                                                                                                                                                                                                                                                                                                                                                                                                                                                                                                                                                                                                                                                    \n",
       "  product_source                                                                                                                                                                                                                                                                                                                                                                                                              \n",
       "1 KO:K02691, KO:K02691                                                                                                                                                                                                                                                                                                                                                                                                        \n",
       "2 COG3794, KO:K02275, COG3794, KO:K02275, KO:K02275, KO:K02275, COG3794, KO:K02275, KO:K02275, KO:K02275, COG3794, COG3794, KO:K02275, COG3794, KO:K02275, Hypo-rule applied, KO:K02275, KO:K02275, COG3794, KO:K02275, KO:K02275, COG3794, COG3794, COG3794, KO:K02275, COG3794, KO:K02275, KO:K02275, COG3794, COG3794, KO:K02275, KO:K02275, COG3794, COG3794, KO:K02275, KO:K02275, COG3794, KO:K02275, COG3794, KO:K02275\n",
       "3 KO:K02650                                                                                                                                                                                                                                                                                                                                                                                                                   \n",
       "4 KO:K08770                                                                                                                                                                                                                                                                                                                                                                                                                   \n",
       "5 KO:K04077                                                                                                                                                                                                                                                                                                                                                                                                                   \n",
       "6 Hypo-rule applied                                                                                                                                                                                                                                                                                                                                                                                                           "
      ]
     },
     "metadata": {},
     "output_type": "display_data"
    }
   ],
   "source": [
    "forward_peptides <- forward_peptides %>%\n",
    "  right_join(razor_mapping, by = join_by(Peptide_Sequence_with_Mods == Peptide)) %>%\n",
    "  distinct()\n",
    "\n",
    "head(forward_peptides)"
   ]
  },
  {
   "cell_type": "markdown",
   "metadata": {},
   "source": [
    "De-log the peptide abundances, sum the abundances for each razor protein and log transform the rolled up protein abundances."
   ]
  },
  {
   "cell_type": "code",
   "execution_count": 42,
   "metadata": {
    "vscode": {
     "languageId": "r"
    }
   },
   "outputs": [
    {
     "data": {
      "text/html": [
       "<table class=\"dataframe\">\n",
       "<caption>A tibble: 6 × 5</caption>\n",
       "<thead>\n",
       "\t<tr><th scope=col>processed_dobj_id</th><th scope=col>product</th><th scope=col>product_source</th><th scope=col>Razor_Protein</th><th scope=col>StatMomentsAreaLogNormSum</th></tr>\n",
       "\t<tr><th scope=col>&lt;chr&gt;</th><th scope=col>&lt;chr&gt;</th><th scope=col>&lt;chr&gt;</th><th scope=col>&lt;chr&gt;</th><th scope=col>&lt;dbl&gt;</th></tr>\n",
       "</thead>\n",
       "<tbody>\n",
       "\t<tr><td>nmdc:dobj-11-2k6s1505</td><td>photosystem I subunit VII, photosystem I subunit VII                                                                                                                                                                                                                                                                                                                                                                                                                                                                                                                                                                                                                                                                                                                                                                                                                                                                                                                                                                    </td><td>KO:K02691, KO:K02691                                                                                                                                                                                                                                                                                                                                                                                                        </td><td>nmdc:wfmgan-11-afrz5241.1_046285_72_317, nmdc:wfmgan-11-a71gkg84.1_094425_166_282                                                                                                                                                                                                                                                                                                                                                                                                                                                                                                                                                                                                                                                                                                                                                                                                                                                                                                                                                                                                                                                                                                                                                                                                                                                                                                                                                                                                                                                                                                                                                                                                                                                         </td><td>29.18732</td></tr>\n",
       "\t<tr><td>nmdc:dobj-11-2k6s1505</td><td>plastocyanin, cytochrome c oxidase subunit II, plastocyanin, cytochrome c oxidase subunit II, cytochrome c oxidase subunit II, cytochrome c oxidase subunit II, plastocyanin, cytochrome c oxidase subunit II, cytochrome c oxidase subunit II, cytochrome c oxidase subunit II, plastocyanin, plastocyanin, cytochrome c oxidase subunit II, plastocyanin, cytochrome c oxidase subunit II, hypothetical protein, cytochrome c oxidase subunit II, cytochrome c oxidase subunit II, plastocyanin, cytochrome c oxidase subunit II, cytochrome c oxidase subunit II, plastocyanin, plastocyanin, plastocyanin, cytochrome c oxidase subunit II, plastocyanin, cytochrome c oxidase subunit II, cytochrome c oxidase subunit II, plastocyanin, plastocyanin, cytochrome c oxidase subunit II, cytochrome c oxidase subunit II, plastocyanin, plastocyanin, cytochrome c oxidase subunit II, cytochrome c oxidase subunit II, plastocyanin, cytochrome c oxidase subunit II, plastocyanin, cytochrome c oxidase subunit II</td><td>COG3794, KO:K02275, COG3794, KO:K02275, KO:K02275, KO:K02275, COG3794, KO:K02275, KO:K02275, KO:K02275, COG3794, COG3794, KO:K02275, COG3794, KO:K02275, Hypo-rule applied, KO:K02275, KO:K02275, COG3794, KO:K02275, KO:K02275, COG3794, COG3794, COG3794, KO:K02275, COG3794, KO:K02275, KO:K02275, COG3794, COG3794, KO:K02275, KO:K02275, COG3794, COG3794, KO:K02275, KO:K02275, COG3794, KO:K02275, COG3794, KO:K02275</td><td>nmdc:wfmgan-11-ewrwts75.1_001323_2787_3257, nmdc:wfmgan-11-ewrwts75.1_005119_1004_1810, nmdc:wfmgan-11-ewrwts75.1_009192_213_1403, nmdc:wfmgan-11-ewrwts75.1_019478_415_1116, nmdc:wfmgan-11-vcrp9p47.1_000448_1955_2434, nmdc:wfmgan-11-vcrp9p47.1_000463_36_842, nmdc:wfmgan-11-vcrp9p47.1_000531_2_1216, nmdc:wfmgan-11-vcrp9p47.1_008560_3_299, nmdc:wfmgan-11-qb4s5g41.1_017412_316_1002, nmdc:wfmgan-11-yjeh0m30.1_000695_2938_3477, nmdc:wfmgan-11-yjeh0m30.1_002652_494_1570, nmdc:wfmgan-11-yjeh0m30.1_003114_1313_1996, nmdc:wfmgan-11-yjeh0m30.1_024470_1_642, nmdc:wfmgan-11-yjeh0m30.1_033010_271_651, nmdc:wfmgan-11-yjeh0m30.1_034616_189_635, nmdc:wfmgan-11-yjeh0m30.1_100025_1_366, nmdc:wfmgan-11-yjeh0m30.1_203262_2_277, nmdc:wfmgan-11-awd7ke72.1_00183_134_940, nmdc:wfmgan-11-awd7ke72.1_00488_1024_1959, nmdc:wfmgan-11-awd7ke72.1_17875_2_196, nmdc:wfmgan-11-7j1ws791.1_000438_1906_2712, nmdc:wfmgan-11-7j1ws791.1_005543_105_1136, nmdc:wfmgan-11-7j1ws791.1_007059_1_312, nmdc:wfmgan-11-7j1ws791.1_025414_3_587, nmdc:wfmgan-11-7j1ws791.1_035592_2_505, nmdc:wfmgan-11-7j1ws791.1_069894_2_379, nmdc:wfmgan-11-b6sp3q07.1_001955_161_967, nmdc:wfmgan-11-b6sp3q07.1_004515_1424_1825, nmdc:wfmgan-11-b6sp3q07.1_004671_928_1584, nmdc:wfmgan-11-b6sp3q07.1_016631_2_535, nmdc:wfmgan-11-b6sp3q07.1_174030_2_295, nmdc:wfmgan-11-8zxjs882.1_000386_1779_2495, nmdc:wfmgan-11-8zxjs882.1_000482_1879_2190, nmdc:wfmgan-11-8zxjs882.1_009381_1_510, nmdc:wfmgan-11-8zxjs882.1_029454_2_358, nmdc:wfmgan-11-a71gkg84.1_000507_1580_2041, nmdc:wfmgan-11-a71gkg84.1_005396_2_430, nmdc:wfmgan-11-a71gkg84.1_104278_2_277, nmdc:wfmgan-11-9mdyy902.1_000322_3078_3443, nmdc:wfmgan-11-9mdyy902.1_002777_624_1232</td><td>26.57509</td></tr>\n",
       "\t<tr><td>nmdc:dobj-11-2k6s1505</td><td>type IV pilus assembly protein PilA                                                                                                                                                                                                                                                                                                                                                                                                                                                                                                                                                                                                                                                                                                                                                                                                                                                                                                                                                                                     </td><td>KO:K02650                                                                                                                                                                                                                                                                                                                                                                                                                   </td><td>nmdc:wfmgan-11-a71gkg84.1_103783_2_277                                                                                                                                                                                                                                                                                                                                                                                                                                                                                                                                                                                                                                                                                                                                                                                                                                                                                                                                                                                                                                                                                                                                                                                                                                                                                                                                                                                                                                                                                                                                                                                                                                                                                                    </td><td>31.14864</td></tr>\n",
       "\t<tr><td>nmdc:dobj-11-2k6s1505</td><td>ubiquitin C                                                                                                                                                                                                                                                                                                                                                                                                                                                                                                                                                                                                                                                                                                                                                                                                                                                                                                                                                                                                             </td><td>KO:K08770                                                                                                                                                                                                                                                                                                                                                                                                                   </td><td>nmdc:wfmgan-11-a71gkg84.1_104452_3_278                                                                                                                                                                                                                                                                                                                                                                                                                                                                                                                                                                                                                                                                                                                                                                                                                                                                                                                                                                                                                                                                                                                                                                                                                                                                                                                                                                                                                                                                                                                                                                                                                                                                                                    </td><td>28.81904</td></tr>\n",
       "\t<tr><td>nmdc:dobj-11-2k6s1505</td><td>chaperonin GroEL                                                                                                                                                                                                                                                                                                                                                                                                                                                                                                                                                                                                                                                                                                                                                                                                                                                                                                                                                                                                        </td><td>KO:K04077                                                                                                                                                                                                                                                                                                                                                                                                                   </td><td>nmdc:wfmgan-11-p3dkkz54.1_018834_2_562                                                                                                                                                                                                                                                                                                                                                                                                                                                                                                                                                                                                                                                                                                                                                                                                                                                                                                                                                                                                                                                                                                                                                                                                                                                                                                                                                                                                                                                                                                                                                                                                                                                                                                    </td><td>28.13249</td></tr>\n",
       "\t<tr><td>nmdc:dobj-11-2k6s1505</td><td>hypothetical protein                                                                                                                                                                                                                                                                                                                                                                                                                                                                                                                                                                                                                                                                                                                                                                                                                                                                                                                                                                                                    </td><td>Hypo-rule applied                                                                                                                                                                                                                                                                                                                                                                                                           </td><td>nmdc:wfmgan-11-b6sp3q07.1_053672_1_546                                                                                                                                                                                                                                                                                                                                                                                                                                                                                                                                                                                                                                                                                                                                                                                                                                                                                                                                                                                                                                                                                                                                                                                                                                                                                                                                                                                                                                                                                                                                                                                                                                                                                                    </td><td>26.29020</td></tr>\n",
       "</tbody>\n",
       "</table>\n"
      ],
      "text/latex": [
       "A tibble: 6 × 5\n",
       "\\begin{tabular}{lllll}\n",
       " processed\\_dobj\\_id & product & product\\_source & Razor\\_Protein & StatMomentsAreaLogNormSum\\\\\n",
       " <chr> & <chr> & <chr> & <chr> & <dbl>\\\\\n",
       "\\hline\n",
       "\t nmdc:dobj-11-2k6s1505 & photosystem I subunit VII, photosystem I subunit VII                                                                                                                                                                                                                                                                                                                                                                                                                                                                                                                                                                                                                                                                                                                                                                                                                                                                                                                                                                     & KO:K02691, KO:K02691                                                                                                                                                                                                                                                                                                                                                                                                         & nmdc:wfmgan-11-afrz5241.1\\_046285\\_72\\_317, nmdc:wfmgan-11-a71gkg84.1\\_094425\\_166\\_282                                                                                                                                                                                                                                                                                                                                                                                                                                                                                                                                                                                                                                                                                                                                                                                                                                                                                                                                                                                                                                                                                                                                                                                                                                                                                                                                                                                                                                                                                                                                                                                                                                                          & 29.18732\\\\\n",
       "\t nmdc:dobj-11-2k6s1505 & plastocyanin, cytochrome c oxidase subunit II, plastocyanin, cytochrome c oxidase subunit II, cytochrome c oxidase subunit II, cytochrome c oxidase subunit II, plastocyanin, cytochrome c oxidase subunit II, cytochrome c oxidase subunit II, cytochrome c oxidase subunit II, plastocyanin, plastocyanin, cytochrome c oxidase subunit II, plastocyanin, cytochrome c oxidase subunit II, hypothetical protein, cytochrome c oxidase subunit II, cytochrome c oxidase subunit II, plastocyanin, cytochrome c oxidase subunit II, cytochrome c oxidase subunit II, plastocyanin, plastocyanin, plastocyanin, cytochrome c oxidase subunit II, plastocyanin, cytochrome c oxidase subunit II, cytochrome c oxidase subunit II, plastocyanin, plastocyanin, cytochrome c oxidase subunit II, cytochrome c oxidase subunit II, plastocyanin, plastocyanin, cytochrome c oxidase subunit II, cytochrome c oxidase subunit II, plastocyanin, cytochrome c oxidase subunit II, plastocyanin, cytochrome c oxidase subunit II & COG3794, KO:K02275, COG3794, KO:K02275, KO:K02275, KO:K02275, COG3794, KO:K02275, KO:K02275, KO:K02275, COG3794, COG3794, KO:K02275, COG3794, KO:K02275, Hypo-rule applied, KO:K02275, KO:K02275, COG3794, KO:K02275, KO:K02275, COG3794, COG3794, COG3794, KO:K02275, COG3794, KO:K02275, KO:K02275, COG3794, COG3794, KO:K02275, KO:K02275, COG3794, COG3794, KO:K02275, KO:K02275, COG3794, KO:K02275, COG3794, KO:K02275 & nmdc:wfmgan-11-ewrwts75.1\\_001323\\_2787\\_3257, nmdc:wfmgan-11-ewrwts75.1\\_005119\\_1004\\_1810, nmdc:wfmgan-11-ewrwts75.1\\_009192\\_213\\_1403, nmdc:wfmgan-11-ewrwts75.1\\_019478\\_415\\_1116, nmdc:wfmgan-11-vcrp9p47.1\\_000448\\_1955\\_2434, nmdc:wfmgan-11-vcrp9p47.1\\_000463\\_36\\_842, nmdc:wfmgan-11-vcrp9p47.1\\_000531\\_2\\_1216, nmdc:wfmgan-11-vcrp9p47.1\\_008560\\_3\\_299, nmdc:wfmgan-11-qb4s5g41.1\\_017412\\_316\\_1002, nmdc:wfmgan-11-yjeh0m30.1\\_000695\\_2938\\_3477, nmdc:wfmgan-11-yjeh0m30.1\\_002652\\_494\\_1570, nmdc:wfmgan-11-yjeh0m30.1\\_003114\\_1313\\_1996, nmdc:wfmgan-11-yjeh0m30.1\\_024470\\_1\\_642, nmdc:wfmgan-11-yjeh0m30.1\\_033010\\_271\\_651, nmdc:wfmgan-11-yjeh0m30.1\\_034616\\_189\\_635, nmdc:wfmgan-11-yjeh0m30.1\\_100025\\_1\\_366, nmdc:wfmgan-11-yjeh0m30.1\\_203262\\_2\\_277, nmdc:wfmgan-11-awd7ke72.1\\_00183\\_134\\_940, nmdc:wfmgan-11-awd7ke72.1\\_00488\\_1024\\_1959, nmdc:wfmgan-11-awd7ke72.1\\_17875\\_2\\_196, nmdc:wfmgan-11-7j1ws791.1\\_000438\\_1906\\_2712, nmdc:wfmgan-11-7j1ws791.1\\_005543\\_105\\_1136, nmdc:wfmgan-11-7j1ws791.1\\_007059\\_1\\_312, nmdc:wfmgan-11-7j1ws791.1\\_025414\\_3\\_587, nmdc:wfmgan-11-7j1ws791.1\\_035592\\_2\\_505, nmdc:wfmgan-11-7j1ws791.1\\_069894\\_2\\_379, nmdc:wfmgan-11-b6sp3q07.1\\_001955\\_161\\_967, nmdc:wfmgan-11-b6sp3q07.1\\_004515\\_1424\\_1825, nmdc:wfmgan-11-b6sp3q07.1\\_004671\\_928\\_1584, nmdc:wfmgan-11-b6sp3q07.1\\_016631\\_2\\_535, nmdc:wfmgan-11-b6sp3q07.1\\_174030\\_2\\_295, nmdc:wfmgan-11-8zxjs882.1\\_000386\\_1779\\_2495, nmdc:wfmgan-11-8zxjs882.1\\_000482\\_1879\\_2190, nmdc:wfmgan-11-8zxjs882.1\\_009381\\_1\\_510, nmdc:wfmgan-11-8zxjs882.1\\_029454\\_2\\_358, nmdc:wfmgan-11-a71gkg84.1\\_000507\\_1580\\_2041, nmdc:wfmgan-11-a71gkg84.1\\_005396\\_2\\_430, nmdc:wfmgan-11-a71gkg84.1\\_104278\\_2\\_277, nmdc:wfmgan-11-9mdyy902.1\\_000322\\_3078\\_3443, nmdc:wfmgan-11-9mdyy902.1\\_002777\\_624\\_1232 & 26.57509\\\\\n",
       "\t nmdc:dobj-11-2k6s1505 & type IV pilus assembly protein PilA                                                                                                                                                                                                                                                                                                                                                                                                                                                                                                                                                                                                                                                                                                                                                                                                                                                                                                                                                                                      & KO:K02650                                                                                                                                                                                                                                                                                                                                                                                                                    & nmdc:wfmgan-11-a71gkg84.1\\_103783\\_2\\_277                                                                                                                                                                                                                                                                                                                                                                                                                                                                                                                                                                                                                                                                                                                                                                                                                                                                                                                                                                                                                                                                                                                                                                                                                                                                                                                                                                                                                                                                                                                                                                                                                                                                                                     & 31.14864\\\\\n",
       "\t nmdc:dobj-11-2k6s1505 & ubiquitin C                                                                                                                                                                                                                                                                                                                                                                                                                                                                                                                                                                                                                                                                                                                                                                                                                                                                                                                                                                                                              & KO:K08770                                                                                                                                                                                                                                                                                                                                                                                                                    & nmdc:wfmgan-11-a71gkg84.1\\_104452\\_3\\_278                                                                                                                                                                                                                                                                                                                                                                                                                                                                                                                                                                                                                                                                                                                                                                                                                                                                                                                                                                                                                                                                                                                                                                                                                                                                                                                                                                                                                                                                                                                                                                                                                                                                                                     & 28.81904\\\\\n",
       "\t nmdc:dobj-11-2k6s1505 & chaperonin GroEL                                                                                                                                                                                                                                                                                                                                                                                                                                                                                                                                                                                                                                                                                                                                                                                                                                                                                                                                                                                                         & KO:K04077                                                                                                                                                                                                                                                                                                                                                                                                                    & nmdc:wfmgan-11-p3dkkz54.1\\_018834\\_2\\_562                                                                                                                                                                                                                                                                                                                                                                                                                                                                                                                                                                                                                                                                                                                                                                                                                                                                                                                                                                                                                                                                                                                                                                                                                                                                                                                                                                                                                                                                                                                                                                                                                                                                                                     & 28.13249\\\\\n",
       "\t nmdc:dobj-11-2k6s1505 & hypothetical protein                                                                                                                                                                                                                                                                                                                                                                                                                                                                                                                                                                                                                                                                                                                                                                                                                                                                                                                                                                                                     & Hypo-rule applied                                                                                                                                                                                                                                                                                                                                                                                                            & nmdc:wfmgan-11-b6sp3q07.1\\_053672\\_1\\_546                                                                                                                                                                                                                                                                                                                                                                                                                                                                                                                                                                                                                                                                                                                                                                                                                                                                                                                                                                                                                                                                                                                                                                                                                                                                                                                                                                                                                                                                                                                                                                                                                                                                                                     & 26.29020\\\\\n",
       "\\end{tabular}\n"
      ],
      "text/markdown": [
       "\n",
       "A tibble: 6 × 5\n",
       "\n",
       "| processed_dobj_id &lt;chr&gt; | product &lt;chr&gt; | product_source &lt;chr&gt; | Razor_Protein &lt;chr&gt; | StatMomentsAreaLogNormSum &lt;dbl&gt; |\n",
       "|---|---|---|---|---|\n",
       "| nmdc:dobj-11-2k6s1505 | photosystem I subunit VII, photosystem I subunit VII                                                                                                                                                                                                                                                                                                                                                                                                                                                                                                                                                                                                                                                                                                                                                                                                                                                                                                                                                                     | KO:K02691, KO:K02691                                                                                                                                                                                                                                                                                                                                                                                                         | nmdc:wfmgan-11-afrz5241.1_046285_72_317, nmdc:wfmgan-11-a71gkg84.1_094425_166_282                                                                                                                                                                                                                                                                                                                                                                                                                                                                                                                                                                                                                                                                                                                                                                                                                                                                                                                                                                                                                                                                                                                                                                                                                                                                                                                                                                                                                                                                                                                                                                                                                                                          | 29.18732 |\n",
       "| nmdc:dobj-11-2k6s1505 | plastocyanin, cytochrome c oxidase subunit II, plastocyanin, cytochrome c oxidase subunit II, cytochrome c oxidase subunit II, cytochrome c oxidase subunit II, plastocyanin, cytochrome c oxidase subunit II, cytochrome c oxidase subunit II, cytochrome c oxidase subunit II, plastocyanin, plastocyanin, cytochrome c oxidase subunit II, plastocyanin, cytochrome c oxidase subunit II, hypothetical protein, cytochrome c oxidase subunit II, cytochrome c oxidase subunit II, plastocyanin, cytochrome c oxidase subunit II, cytochrome c oxidase subunit II, plastocyanin, plastocyanin, plastocyanin, cytochrome c oxidase subunit II, plastocyanin, cytochrome c oxidase subunit II, cytochrome c oxidase subunit II, plastocyanin, plastocyanin, cytochrome c oxidase subunit II, cytochrome c oxidase subunit II, plastocyanin, plastocyanin, cytochrome c oxidase subunit II, cytochrome c oxidase subunit II, plastocyanin, cytochrome c oxidase subunit II, plastocyanin, cytochrome c oxidase subunit II | COG3794, KO:K02275, COG3794, KO:K02275, KO:K02275, KO:K02275, COG3794, KO:K02275, KO:K02275, KO:K02275, COG3794, COG3794, KO:K02275, COG3794, KO:K02275, Hypo-rule applied, KO:K02275, KO:K02275, COG3794, KO:K02275, KO:K02275, COG3794, COG3794, COG3794, KO:K02275, COG3794, KO:K02275, KO:K02275, COG3794, COG3794, KO:K02275, KO:K02275, COG3794, COG3794, KO:K02275, KO:K02275, COG3794, KO:K02275, COG3794, KO:K02275 | nmdc:wfmgan-11-ewrwts75.1_001323_2787_3257, nmdc:wfmgan-11-ewrwts75.1_005119_1004_1810, nmdc:wfmgan-11-ewrwts75.1_009192_213_1403, nmdc:wfmgan-11-ewrwts75.1_019478_415_1116, nmdc:wfmgan-11-vcrp9p47.1_000448_1955_2434, nmdc:wfmgan-11-vcrp9p47.1_000463_36_842, nmdc:wfmgan-11-vcrp9p47.1_000531_2_1216, nmdc:wfmgan-11-vcrp9p47.1_008560_3_299, nmdc:wfmgan-11-qb4s5g41.1_017412_316_1002, nmdc:wfmgan-11-yjeh0m30.1_000695_2938_3477, nmdc:wfmgan-11-yjeh0m30.1_002652_494_1570, nmdc:wfmgan-11-yjeh0m30.1_003114_1313_1996, nmdc:wfmgan-11-yjeh0m30.1_024470_1_642, nmdc:wfmgan-11-yjeh0m30.1_033010_271_651, nmdc:wfmgan-11-yjeh0m30.1_034616_189_635, nmdc:wfmgan-11-yjeh0m30.1_100025_1_366, nmdc:wfmgan-11-yjeh0m30.1_203262_2_277, nmdc:wfmgan-11-awd7ke72.1_00183_134_940, nmdc:wfmgan-11-awd7ke72.1_00488_1024_1959, nmdc:wfmgan-11-awd7ke72.1_17875_2_196, nmdc:wfmgan-11-7j1ws791.1_000438_1906_2712, nmdc:wfmgan-11-7j1ws791.1_005543_105_1136, nmdc:wfmgan-11-7j1ws791.1_007059_1_312, nmdc:wfmgan-11-7j1ws791.1_025414_3_587, nmdc:wfmgan-11-7j1ws791.1_035592_2_505, nmdc:wfmgan-11-7j1ws791.1_069894_2_379, nmdc:wfmgan-11-b6sp3q07.1_001955_161_967, nmdc:wfmgan-11-b6sp3q07.1_004515_1424_1825, nmdc:wfmgan-11-b6sp3q07.1_004671_928_1584, nmdc:wfmgan-11-b6sp3q07.1_016631_2_535, nmdc:wfmgan-11-b6sp3q07.1_174030_2_295, nmdc:wfmgan-11-8zxjs882.1_000386_1779_2495, nmdc:wfmgan-11-8zxjs882.1_000482_1879_2190, nmdc:wfmgan-11-8zxjs882.1_009381_1_510, nmdc:wfmgan-11-8zxjs882.1_029454_2_358, nmdc:wfmgan-11-a71gkg84.1_000507_1580_2041, nmdc:wfmgan-11-a71gkg84.1_005396_2_430, nmdc:wfmgan-11-a71gkg84.1_104278_2_277, nmdc:wfmgan-11-9mdyy902.1_000322_3078_3443, nmdc:wfmgan-11-9mdyy902.1_002777_624_1232 | 26.57509 |\n",
       "| nmdc:dobj-11-2k6s1505 | type IV pilus assembly protein PilA                                                                                                                                                                                                                                                                                                                                                                                                                                                                                                                                                                                                                                                                                                                                                                                                                                                                                                                                                                                      | KO:K02650                                                                                                                                                                                                                                                                                                                                                                                                                    | nmdc:wfmgan-11-a71gkg84.1_103783_2_277                                                                                                                                                                                                                                                                                                                                                                                                                                                                                                                                                                                                                                                                                                                                                                                                                                                                                                                                                                                                                                                                                                                                                                                                                                                                                                                                                                                                                                                                                                                                                                                                                                                                                                     | 31.14864 |\n",
       "| nmdc:dobj-11-2k6s1505 | ubiquitin C                                                                                                                                                                                                                                                                                                                                                                                                                                                                                                                                                                                                                                                                                                                                                                                                                                                                                                                                                                                                              | KO:K08770                                                                                                                                                                                                                                                                                                                                                                                                                    | nmdc:wfmgan-11-a71gkg84.1_104452_3_278                                                                                                                                                                                                                                                                                                                                                                                                                                                                                                                                                                                                                                                                                                                                                                                                                                                                                                                                                                                                                                                                                                                                                                                                                                                                                                                                                                                                                                                                                                                                                                                                                                                                                                     | 28.81904 |\n",
       "| nmdc:dobj-11-2k6s1505 | chaperonin GroEL                                                                                                                                                                                                                                                                                                                                                                                                                                                                                                                                                                                                                                                                                                                                                                                                                                                                                                                                                                                                         | KO:K04077                                                                                                                                                                                                                                                                                                                                                                                                                    | nmdc:wfmgan-11-p3dkkz54.1_018834_2_562                                                                                                                                                                                                                                                                                                                                                                                                                                                                                                                                                                                                                                                                                                                                                                                                                                                                                                                                                                                                                                                                                                                                                                                                                                                                                                                                                                                                                                                                                                                                                                                                                                                                                                     | 28.13249 |\n",
       "| nmdc:dobj-11-2k6s1505 | hypothetical protein                                                                                                                                                                                                                                                                                                                                                                                                                                                                                                                                                                                                                                                                                                                                                                                                                                                                                                                                                                                                     | Hypo-rule applied                                                                                                                                                                                                                                                                                                                                                                                                            | nmdc:wfmgan-11-b6sp3q07.1_053672_1_546                                                                                                                                                                                                                                                                                                                                                                                                                                                                                                                                                                                                                                                                                                                                                                                                                                                                                                                                                                                                                                                                                                                                                                                                                                                                                                                                                                                                                                                                                                                                                                                                                                                                                                     | 26.29020 |\n",
       "\n"
      ],
      "text/plain": [
       "  processed_dobj_id    \n",
       "1 nmdc:dobj-11-2k6s1505\n",
       "2 nmdc:dobj-11-2k6s1505\n",
       "3 nmdc:dobj-11-2k6s1505\n",
       "4 nmdc:dobj-11-2k6s1505\n",
       "5 nmdc:dobj-11-2k6s1505\n",
       "6 nmdc:dobj-11-2k6s1505\n",
       "  product                                                                                                                                                                                                                                                                                                                                                                                                                                                                                                                                                                                                                                                                                                                                                                                                                                                                                                                                                                                                                 \n",
       "1 photosystem I subunit VII, photosystem I subunit VII                                                                                                                                                                                                                                                                                                                                                                                                                                                                                                                                                                                                                                                                                                                                                                                                                                                                                                                                                                    \n",
       "2 plastocyanin, cytochrome c oxidase subunit II, plastocyanin, cytochrome c oxidase subunit II, cytochrome c oxidase subunit II, cytochrome c oxidase subunit II, plastocyanin, cytochrome c oxidase subunit II, cytochrome c oxidase subunit II, cytochrome c oxidase subunit II, plastocyanin, plastocyanin, cytochrome c oxidase subunit II, plastocyanin, cytochrome c oxidase subunit II, hypothetical protein, cytochrome c oxidase subunit II, cytochrome c oxidase subunit II, plastocyanin, cytochrome c oxidase subunit II, cytochrome c oxidase subunit II, plastocyanin, plastocyanin, plastocyanin, cytochrome c oxidase subunit II, plastocyanin, cytochrome c oxidase subunit II, cytochrome c oxidase subunit II, plastocyanin, plastocyanin, cytochrome c oxidase subunit II, cytochrome c oxidase subunit II, plastocyanin, plastocyanin, cytochrome c oxidase subunit II, cytochrome c oxidase subunit II, plastocyanin, cytochrome c oxidase subunit II, plastocyanin, cytochrome c oxidase subunit II\n",
       "3 type IV pilus assembly protein PilA                                                                                                                                                                                                                                                                                                                                                                                                                                                                                                                                                                                                                                                                                                                                                                                                                                                                                                                                                                                     \n",
       "4 ubiquitin C                                                                                                                                                                                                                                                                                                                                                                                                                                                                                                                                                                                                                                                                                                                                                                                                                                                                                                                                                                                                             \n",
       "5 chaperonin GroEL                                                                                                                                                                                                                                                                                                                                                                                                                                                                                                                                                                                                                                                                                                                                                                                                                                                                                                                                                                                                        \n",
       "6 hypothetical protein                                                                                                                                                                                                                                                                                                                                                                                                                                                                                                                                                                                                                                                                                                                                                                                                                                                                                                                                                                                                    \n",
       "  product_source                                                                                                                                                                                                                                                                                                                                                                                                              \n",
       "1 KO:K02691, KO:K02691                                                                                                                                                                                                                                                                                                                                                                                                        \n",
       "2 COG3794, KO:K02275, COG3794, KO:K02275, KO:K02275, KO:K02275, COG3794, KO:K02275, KO:K02275, KO:K02275, COG3794, COG3794, KO:K02275, COG3794, KO:K02275, Hypo-rule applied, KO:K02275, KO:K02275, COG3794, KO:K02275, KO:K02275, COG3794, COG3794, COG3794, KO:K02275, COG3794, KO:K02275, KO:K02275, COG3794, COG3794, KO:K02275, KO:K02275, COG3794, COG3794, KO:K02275, KO:K02275, COG3794, KO:K02275, COG3794, KO:K02275\n",
       "3 KO:K02650                                                                                                                                                                                                                                                                                                                                                                                                                   \n",
       "4 KO:K08770                                                                                                                                                                                                                                                                                                                                                                                                                   \n",
       "5 KO:K04077                                                                                                                                                                                                                                                                                                                                                                                                                   \n",
       "6 Hypo-rule applied                                                                                                                                                                                                                                                                                                                                                                                                           \n",
       "  Razor_Protein                                                                                                                                                                                                                                                                                                                                                                                                                                                                                                                                                                                                                                                                                                                                                                                                                                                                                                                                                                                                                                                                                                                                                                                                                                                                                                                                                                                                                                                                                                                                                                                                                                                                                                                             \n",
       "1 nmdc:wfmgan-11-afrz5241.1_046285_72_317, nmdc:wfmgan-11-a71gkg84.1_094425_166_282                                                                                                                                                                                                                                                                                                                                                                                                                                                                                                                                                                                                                                                                                                                                                                                                                                                                                                                                                                                                                                                                                                                                                                                                                                                                                                                                                                                                                                                                                                                                                                                                                                                         \n",
       "2 nmdc:wfmgan-11-ewrwts75.1_001323_2787_3257, nmdc:wfmgan-11-ewrwts75.1_005119_1004_1810, nmdc:wfmgan-11-ewrwts75.1_009192_213_1403, nmdc:wfmgan-11-ewrwts75.1_019478_415_1116, nmdc:wfmgan-11-vcrp9p47.1_000448_1955_2434, nmdc:wfmgan-11-vcrp9p47.1_000463_36_842, nmdc:wfmgan-11-vcrp9p47.1_000531_2_1216, nmdc:wfmgan-11-vcrp9p47.1_008560_3_299, nmdc:wfmgan-11-qb4s5g41.1_017412_316_1002, nmdc:wfmgan-11-yjeh0m30.1_000695_2938_3477, nmdc:wfmgan-11-yjeh0m30.1_002652_494_1570, nmdc:wfmgan-11-yjeh0m30.1_003114_1313_1996, nmdc:wfmgan-11-yjeh0m30.1_024470_1_642, nmdc:wfmgan-11-yjeh0m30.1_033010_271_651, nmdc:wfmgan-11-yjeh0m30.1_034616_189_635, nmdc:wfmgan-11-yjeh0m30.1_100025_1_366, nmdc:wfmgan-11-yjeh0m30.1_203262_2_277, nmdc:wfmgan-11-awd7ke72.1_00183_134_940, nmdc:wfmgan-11-awd7ke72.1_00488_1024_1959, nmdc:wfmgan-11-awd7ke72.1_17875_2_196, nmdc:wfmgan-11-7j1ws791.1_000438_1906_2712, nmdc:wfmgan-11-7j1ws791.1_005543_105_1136, nmdc:wfmgan-11-7j1ws791.1_007059_1_312, nmdc:wfmgan-11-7j1ws791.1_025414_3_587, nmdc:wfmgan-11-7j1ws791.1_035592_2_505, nmdc:wfmgan-11-7j1ws791.1_069894_2_379, nmdc:wfmgan-11-b6sp3q07.1_001955_161_967, nmdc:wfmgan-11-b6sp3q07.1_004515_1424_1825, nmdc:wfmgan-11-b6sp3q07.1_004671_928_1584, nmdc:wfmgan-11-b6sp3q07.1_016631_2_535, nmdc:wfmgan-11-b6sp3q07.1_174030_2_295, nmdc:wfmgan-11-8zxjs882.1_000386_1779_2495, nmdc:wfmgan-11-8zxjs882.1_000482_1879_2190, nmdc:wfmgan-11-8zxjs882.1_009381_1_510, nmdc:wfmgan-11-8zxjs882.1_029454_2_358, nmdc:wfmgan-11-a71gkg84.1_000507_1580_2041, nmdc:wfmgan-11-a71gkg84.1_005396_2_430, nmdc:wfmgan-11-a71gkg84.1_104278_2_277, nmdc:wfmgan-11-9mdyy902.1_000322_3078_3443, nmdc:wfmgan-11-9mdyy902.1_002777_624_1232\n",
       "3 nmdc:wfmgan-11-a71gkg84.1_103783_2_277                                                                                                                                                                                                                                                                                                                                                                                                                                                                                                                                                                                                                                                                                                                                                                                                                                                                                                                                                                                                                                                                                                                                                                                                                                                                                                                                                                                                                                                                                                                                                                                                                                                                                                    \n",
       "4 nmdc:wfmgan-11-a71gkg84.1_104452_3_278                                                                                                                                                                                                                                                                                                                                                                                                                                                                                                                                                                                                                                                                                                                                                                                                                                                                                                                                                                                                                                                                                                                                                                                                                                                                                                                                                                                                                                                                                                                                                                                                                                                                                                    \n",
       "5 nmdc:wfmgan-11-p3dkkz54.1_018834_2_562                                                                                                                                                                                                                                                                                                                                                                                                                                                                                                                                                                                                                                                                                                                                                                                                                                                                                                                                                                                                                                                                                                                                                                                                                                                                                                                                                                                                                                                                                                                                                                                                                                                                                                    \n",
       "6 nmdc:wfmgan-11-b6sp3q07.1_053672_1_546                                                                                                                                                                                                                                                                                                                                                                                                                                                                                                                                                                                                                                                                                                                                                                                                                                                                                                                                                                                                                                                                                                                                                                                                                                                                                                                                                                                                                                                                                                                                                                                                                                                                                                    \n",
       "  StatMomentsAreaLogNormSum\n",
       "1 29.18732                 \n",
       "2 26.57509                 \n",
       "3 31.14864                 \n",
       "4 28.81904                 \n",
       "5 28.13249                 \n",
       "6 26.29020                 "
      ]
     },
     "metadata": {},
     "output_type": "display_data"
    }
   ],
   "source": [
    "protein_abundances <- forward_peptides %>%\n",
    "\n",
    "  # De-log transform the peptide abundances\n",
    "  mutate(StatMomentsAreaNorm = 2 ^ StatMomentsAreaLogNorm) %>%\n",
    "\n",
    "  # Sum peptide abundances for each protein\n",
    "  group_by(processed_dobj_id, Razor_Protein) %>%\n",
    "  mutate(StatMomentsAreaNormSum = sum(StatMomentsAreaNorm)) %>%\n",
    "  ungroup() %>%\n",
    "\n",
    "  # Log transform the rolled up protein abundances (final result - StatMomentsAreaLogNormSum)\n",
    "  distinct(processed_dobj_id, product, product_source, Razor_Protein, StatMomentsAreaNormSum) %>%\n",
    "  mutate(StatMomentsAreaLogNormSum = log2(StatMomentsAreaNormSum)) %>%\n",
    "  select(-StatMomentsAreaNormSum)\n",
    "\n",
    "head(protein_abundances)"
   ]
  },
  {
   "cell_type": "markdown",
   "metadata": {},
   "source": [
    "## Final aggregated table of relative protein abundance"
   ]
  },
  {
   "cell_type": "markdown",
   "metadata": {},
   "source": [
    "Reformat these results into a proteomic table, where each row indicates a protein and each column indicates a sample/dataset. The values within are log transformed, median normalized relative abundance values. This table or the longform version above can be used in further proteomic analyses."
   ]
  },
  {
   "cell_type": "code",
   "execution_count": 43,
   "metadata": {
    "vscode": {
     "languageId": "r"
    }
   },
   "outputs": [
    {
     "data": {
      "text/html": [
       "<table class=\"dataframe\">\n",
       "<caption>A tibble: 6 × 32</caption>\n",
       "<thead>\n",
       "\t<tr><th scope=col>Razor_Protein</th><th scope=col>nmdc:dobj-11-2k6s1505</th><th scope=col>nmdc:dobj-11-2szyc560</th><th scope=col>nmdc:dobj-11-301yh759</th><th scope=col>nmdc:dobj-11-3378mg86</th><th scope=col>nmdc:dobj-11-3ak2bc31</th><th scope=col>nmdc:dobj-11-4bwzhs42</th><th scope=col>nmdc:dobj-11-7psagy79</th><th scope=col>nmdc:dobj-11-7r5yea49</th><th scope=col>nmdc:dobj-11-7x21d450</th><th scope=col>⋯</th><th scope=col>nmdc:dobj-11-tk9hc081</th><th scope=col>nmdc:dobj-11-vjmd5h28</th><th scope=col>nmdc:dobj-11-wcn69x37</th><th scope=col>nmdc:dobj-11-xm1yjv87</th><th scope=col>nmdc:dobj-11-y2aefn18</th><th scope=col>nmdc:dobj-11-yrbs4v96</th><th scope=col>nmdc:dobj-11-z47wnf07</th><th scope=col>nmdc:dobj-11-z8hc0j30</th><th scope=col>nmdc:dobj-11-zhz66007</th><th scope=col>nmdc:dobj-11-zn9eyg46</th></tr>\n",
       "\t<tr><th scope=col>&lt;chr&gt;</th><th scope=col>&lt;dbl&gt;</th><th scope=col>&lt;dbl&gt;</th><th scope=col>&lt;dbl&gt;</th><th scope=col>&lt;dbl&gt;</th><th scope=col>&lt;dbl&gt;</th><th scope=col>&lt;dbl&gt;</th><th scope=col>&lt;dbl&gt;</th><th scope=col>&lt;dbl&gt;</th><th scope=col>&lt;dbl&gt;</th><th scope=col>⋯</th><th scope=col>&lt;dbl&gt;</th><th scope=col>&lt;dbl&gt;</th><th scope=col>&lt;dbl&gt;</th><th scope=col>&lt;dbl&gt;</th><th scope=col>&lt;dbl&gt;</th><th scope=col>&lt;dbl&gt;</th><th scope=col>&lt;dbl&gt;</th><th scope=col>&lt;dbl&gt;</th><th scope=col>&lt;dbl&gt;</th><th scope=col>&lt;dbl&gt;</th></tr>\n",
       "</thead>\n",
       "<tbody>\n",
       "\t<tr><td>nmdc:wfmgan-11-afrz5241.1_046285_72_317, nmdc:wfmgan-11-a71gkg84.1_094425_166_282                                                                                                                                                                                                                                                                                                                                                                                                                                                                                                                                                                                                                                                                                                                                                                                                                                                                                                                                                                                                                                                                                                                                                                                                                                                                                                                                                                                                                                                                                                                                                                                                                                                         </td><td>29.18732</td><td>NA</td><td>      NA</td><td>NA</td><td>     NA</td><td>      NA</td><td>      NA</td><td>NA</td><td>NA</td><td>⋯</td><td>NA</td><td>NA</td><td>      NA</td><td>NA</td><td>      NA</td><td>NA</td><td>      NA</td><td>      NA</td><td>NA</td><td>NA</td></tr>\n",
       "\t<tr><td>nmdc:wfmgan-11-ewrwts75.1_001323_2787_3257, nmdc:wfmgan-11-ewrwts75.1_005119_1004_1810, nmdc:wfmgan-11-ewrwts75.1_009192_213_1403, nmdc:wfmgan-11-ewrwts75.1_019478_415_1116, nmdc:wfmgan-11-vcrp9p47.1_000448_1955_2434, nmdc:wfmgan-11-vcrp9p47.1_000463_36_842, nmdc:wfmgan-11-vcrp9p47.1_000531_2_1216, nmdc:wfmgan-11-vcrp9p47.1_008560_3_299, nmdc:wfmgan-11-qb4s5g41.1_017412_316_1002, nmdc:wfmgan-11-yjeh0m30.1_000695_2938_3477, nmdc:wfmgan-11-yjeh0m30.1_002652_494_1570, nmdc:wfmgan-11-yjeh0m30.1_003114_1313_1996, nmdc:wfmgan-11-yjeh0m30.1_024470_1_642, nmdc:wfmgan-11-yjeh0m30.1_033010_271_651, nmdc:wfmgan-11-yjeh0m30.1_034616_189_635, nmdc:wfmgan-11-yjeh0m30.1_100025_1_366, nmdc:wfmgan-11-yjeh0m30.1_203262_2_277, nmdc:wfmgan-11-awd7ke72.1_00183_134_940, nmdc:wfmgan-11-awd7ke72.1_00488_1024_1959, nmdc:wfmgan-11-awd7ke72.1_17875_2_196, nmdc:wfmgan-11-7j1ws791.1_000438_1906_2712, nmdc:wfmgan-11-7j1ws791.1_005543_105_1136, nmdc:wfmgan-11-7j1ws791.1_007059_1_312, nmdc:wfmgan-11-7j1ws791.1_025414_3_587, nmdc:wfmgan-11-7j1ws791.1_035592_2_505, nmdc:wfmgan-11-7j1ws791.1_069894_2_379, nmdc:wfmgan-11-b6sp3q07.1_001955_161_967, nmdc:wfmgan-11-b6sp3q07.1_004515_1424_1825, nmdc:wfmgan-11-b6sp3q07.1_004671_928_1584, nmdc:wfmgan-11-b6sp3q07.1_016631_2_535, nmdc:wfmgan-11-b6sp3q07.1_174030_2_295, nmdc:wfmgan-11-8zxjs882.1_000386_1779_2495, nmdc:wfmgan-11-8zxjs882.1_000482_1879_2190, nmdc:wfmgan-11-8zxjs882.1_009381_1_510, nmdc:wfmgan-11-8zxjs882.1_029454_2_358, nmdc:wfmgan-11-a71gkg84.1_000507_1580_2041, nmdc:wfmgan-11-a71gkg84.1_005396_2_430, nmdc:wfmgan-11-a71gkg84.1_104278_2_277, nmdc:wfmgan-11-9mdyy902.1_000322_3078_3443, nmdc:wfmgan-11-9mdyy902.1_002777_624_1232</td><td>26.57509</td><td>NA</td><td>27.57740</td><td>NA</td><td>     NA</td><td>27.88671</td><td>      NA</td><td>NA</td><td>NA</td><td>⋯</td><td>NA</td><td>NA</td><td>      NA</td><td>NA</td><td>      NA</td><td>NA</td><td>27.01618</td><td>26.88819</td><td>NA</td><td>NA</td></tr>\n",
       "\t<tr><td>nmdc:wfmgan-11-a71gkg84.1_103783_2_277                                                                                                                                                                                                                                                                                                                                                                                                                                                                                                                                                                                                                                                                                                                                                                                                                                                                                                                                                                                                                                                                                                                                                                                                                                                                                                                                                                                                                                                                                                                                                                                                                                                                                                    </td><td>31.14864</td><td>NA</td><td>      NA</td><td>NA</td><td>     NA</td><td>      NA</td><td>      NA</td><td>NA</td><td>NA</td><td>⋯</td><td>NA</td><td>NA</td><td>      NA</td><td>NA</td><td>      NA</td><td>NA</td><td>      NA</td><td>      NA</td><td>NA</td><td>NA</td></tr>\n",
       "\t<tr><td>nmdc:wfmgan-11-a71gkg84.1_104452_3_278                                                                                                                                                                                                                                                                                                                                                                                                                                                                                                                                                                                                                                                                                                                                                                                                                                                                                                                                                                                                                                                                                                                                                                                                                                                                                                                                                                                                                                                                                                                                                                                                                                                                                                    </td><td>28.81904</td><td>NA</td><td>      NA</td><td>NA</td><td>     NA</td><td>      NA</td><td>      NA</td><td>NA</td><td>NA</td><td>⋯</td><td>NA</td><td>NA</td><td>      NA</td><td>NA</td><td>      NA</td><td>NA</td><td>      NA</td><td>      NA</td><td>NA</td><td>NA</td></tr>\n",
       "\t<tr><td>nmdc:wfmgan-11-p3dkkz54.1_018834_2_562                                                                                                                                                                                                                                                                                                                                                                                                                                                                                                                                                                                                                                                                                                                                                                                                                                                                                                                                                                                                                                                                                                                                                                                                                                                                                                                                                                                                                                                                                                                                                                                                                                                                                                    </td><td>28.13249</td><td>NA</td><td>29.01038</td><td>NA</td><td>30.0706</td><td>      NA</td><td>28.55662</td><td>NA</td><td>NA</td><td>⋯</td><td>NA</td><td>NA</td><td>28.79139</td><td>NA</td><td>31.35701</td><td>NA</td><td>      NA</td><td>      NA</td><td>NA</td><td>NA</td></tr>\n",
       "\t<tr><td>nmdc:wfmgan-11-b6sp3q07.1_053672_1_546                                                                                                                                                                                                                                                                                                                                                                                                                                                                                                                                                                                                                                                                                                                                                                                                                                                                                                                                                                                                                                                                                                                                                                                                                                                                                                                                                                                                                                                                                                                                                                                                                                                                                                    </td><td>26.29020</td><td>NA</td><td>      NA</td><td>NA</td><td>     NA</td><td>      NA</td><td>29.51453</td><td>NA</td><td>NA</td><td>⋯</td><td>NA</td><td>NA</td><td>      NA</td><td>NA</td><td>      NA</td><td>NA</td><td>28.65492</td><td>      NA</td><td>NA</td><td>NA</td></tr>\n",
       "</tbody>\n",
       "</table>\n"
      ],
      "text/latex": [
       "A tibble: 6 × 32\n",
       "\\begin{tabular}{lllllllllllllllllllll}\n",
       " Razor\\_Protein & nmdc:dobj-11-2k6s1505 & nmdc:dobj-11-2szyc560 & nmdc:dobj-11-301yh759 & nmdc:dobj-11-3378mg86 & nmdc:dobj-11-3ak2bc31 & nmdc:dobj-11-4bwzhs42 & nmdc:dobj-11-7psagy79 & nmdc:dobj-11-7r5yea49 & nmdc:dobj-11-7x21d450 & ⋯ & nmdc:dobj-11-tk9hc081 & nmdc:dobj-11-vjmd5h28 & nmdc:dobj-11-wcn69x37 & nmdc:dobj-11-xm1yjv87 & nmdc:dobj-11-y2aefn18 & nmdc:dobj-11-yrbs4v96 & nmdc:dobj-11-z47wnf07 & nmdc:dobj-11-z8hc0j30 & nmdc:dobj-11-zhz66007 & nmdc:dobj-11-zn9eyg46\\\\\n",
       " <chr> & <dbl> & <dbl> & <dbl> & <dbl> & <dbl> & <dbl> & <dbl> & <dbl> & <dbl> & ⋯ & <dbl> & <dbl> & <dbl> & <dbl> & <dbl> & <dbl> & <dbl> & <dbl> & <dbl> & <dbl>\\\\\n",
       "\\hline\n",
       "\t nmdc:wfmgan-11-afrz5241.1\\_046285\\_72\\_317, nmdc:wfmgan-11-a71gkg84.1\\_094425\\_166\\_282                                                                                                                                                                                                                                                                                                                                                                                                                                                                                                                                                                                                                                                                                                                                                                                                                                                                                                                                                                                                                                                                                                                                                                                                                                                                                                                                                                                                                                                                                                                                                                                                                                                          & 29.18732 & NA &       NA & NA &      NA &       NA &       NA & NA & NA & ⋯ & NA & NA &       NA & NA &       NA & NA &       NA &       NA & NA & NA\\\\\n",
       "\t nmdc:wfmgan-11-ewrwts75.1\\_001323\\_2787\\_3257, nmdc:wfmgan-11-ewrwts75.1\\_005119\\_1004\\_1810, nmdc:wfmgan-11-ewrwts75.1\\_009192\\_213\\_1403, nmdc:wfmgan-11-ewrwts75.1\\_019478\\_415\\_1116, nmdc:wfmgan-11-vcrp9p47.1\\_000448\\_1955\\_2434, nmdc:wfmgan-11-vcrp9p47.1\\_000463\\_36\\_842, nmdc:wfmgan-11-vcrp9p47.1\\_000531\\_2\\_1216, nmdc:wfmgan-11-vcrp9p47.1\\_008560\\_3\\_299, nmdc:wfmgan-11-qb4s5g41.1\\_017412\\_316\\_1002, nmdc:wfmgan-11-yjeh0m30.1\\_000695\\_2938\\_3477, nmdc:wfmgan-11-yjeh0m30.1\\_002652\\_494\\_1570, nmdc:wfmgan-11-yjeh0m30.1\\_003114\\_1313\\_1996, nmdc:wfmgan-11-yjeh0m30.1\\_024470\\_1\\_642, nmdc:wfmgan-11-yjeh0m30.1\\_033010\\_271\\_651, nmdc:wfmgan-11-yjeh0m30.1\\_034616\\_189\\_635, nmdc:wfmgan-11-yjeh0m30.1\\_100025\\_1\\_366, nmdc:wfmgan-11-yjeh0m30.1\\_203262\\_2\\_277, nmdc:wfmgan-11-awd7ke72.1\\_00183\\_134\\_940, nmdc:wfmgan-11-awd7ke72.1\\_00488\\_1024\\_1959, nmdc:wfmgan-11-awd7ke72.1\\_17875\\_2\\_196, nmdc:wfmgan-11-7j1ws791.1\\_000438\\_1906\\_2712, nmdc:wfmgan-11-7j1ws791.1\\_005543\\_105\\_1136, nmdc:wfmgan-11-7j1ws791.1\\_007059\\_1\\_312, nmdc:wfmgan-11-7j1ws791.1\\_025414\\_3\\_587, nmdc:wfmgan-11-7j1ws791.1\\_035592\\_2\\_505, nmdc:wfmgan-11-7j1ws791.1\\_069894\\_2\\_379, nmdc:wfmgan-11-b6sp3q07.1\\_001955\\_161\\_967, nmdc:wfmgan-11-b6sp3q07.1\\_004515\\_1424\\_1825, nmdc:wfmgan-11-b6sp3q07.1\\_004671\\_928\\_1584, nmdc:wfmgan-11-b6sp3q07.1\\_016631\\_2\\_535, nmdc:wfmgan-11-b6sp3q07.1\\_174030\\_2\\_295, nmdc:wfmgan-11-8zxjs882.1\\_000386\\_1779\\_2495, nmdc:wfmgan-11-8zxjs882.1\\_000482\\_1879\\_2190, nmdc:wfmgan-11-8zxjs882.1\\_009381\\_1\\_510, nmdc:wfmgan-11-8zxjs882.1\\_029454\\_2\\_358, nmdc:wfmgan-11-a71gkg84.1\\_000507\\_1580\\_2041, nmdc:wfmgan-11-a71gkg84.1\\_005396\\_2\\_430, nmdc:wfmgan-11-a71gkg84.1\\_104278\\_2\\_277, nmdc:wfmgan-11-9mdyy902.1\\_000322\\_3078\\_3443, nmdc:wfmgan-11-9mdyy902.1\\_002777\\_624\\_1232 & 26.57509 & NA & 27.57740 & NA &      NA & 27.88671 &       NA & NA & NA & ⋯ & NA & NA &       NA & NA &       NA & NA & 27.01618 & 26.88819 & NA & NA\\\\\n",
       "\t nmdc:wfmgan-11-a71gkg84.1\\_103783\\_2\\_277                                                                                                                                                                                                                                                                                                                                                                                                                                                                                                                                                                                                                                                                                                                                                                                                                                                                                                                                                                                                                                                                                                                                                                                                                                                                                                                                                                                                                                                                                                                                                                                                                                                                                                     & 31.14864 & NA &       NA & NA &      NA &       NA &       NA & NA & NA & ⋯ & NA & NA &       NA & NA &       NA & NA &       NA &       NA & NA & NA\\\\\n",
       "\t nmdc:wfmgan-11-a71gkg84.1\\_104452\\_3\\_278                                                                                                                                                                                                                                                                                                                                                                                                                                                                                                                                                                                                                                                                                                                                                                                                                                                                                                                                                                                                                                                                                                                                                                                                                                                                                                                                                                                                                                                                                                                                                                                                                                                                                                     & 28.81904 & NA &       NA & NA &      NA &       NA &       NA & NA & NA & ⋯ & NA & NA &       NA & NA &       NA & NA &       NA &       NA & NA & NA\\\\\n",
       "\t nmdc:wfmgan-11-p3dkkz54.1\\_018834\\_2\\_562                                                                                                                                                                                                                                                                                                                                                                                                                                                                                                                                                                                                                                                                                                                                                                                                                                                                                                                                                                                                                                                                                                                                                                                                                                                                                                                                                                                                                                                                                                                                                                                                                                                                                                     & 28.13249 & NA & 29.01038 & NA & 30.0706 &       NA & 28.55662 & NA & NA & ⋯ & NA & NA & 28.79139 & NA & 31.35701 & NA &       NA &       NA & NA & NA\\\\\n",
       "\t nmdc:wfmgan-11-b6sp3q07.1\\_053672\\_1\\_546                                                                                                                                                                                                                                                                                                                                                                                                                                                                                                                                                                                                                                                                                                                                                                                                                                                                                                                                                                                                                                                                                                                                                                                                                                                                                                                                                                                                                                                                                                                                                                                                                                                                                                     & 26.29020 & NA &       NA & NA &      NA &       NA & 29.51453 & NA & NA & ⋯ & NA & NA &       NA & NA &       NA & NA & 28.65492 &       NA & NA & NA\\\\\n",
       "\\end{tabular}\n"
      ],
      "text/markdown": [
       "\n",
       "A tibble: 6 × 32\n",
       "\n",
       "| Razor_Protein &lt;chr&gt; | nmdc:dobj-11-2k6s1505 &lt;dbl&gt; | nmdc:dobj-11-2szyc560 &lt;dbl&gt; | nmdc:dobj-11-301yh759 &lt;dbl&gt; | nmdc:dobj-11-3378mg86 &lt;dbl&gt; | nmdc:dobj-11-3ak2bc31 &lt;dbl&gt; | nmdc:dobj-11-4bwzhs42 &lt;dbl&gt; | nmdc:dobj-11-7psagy79 &lt;dbl&gt; | nmdc:dobj-11-7r5yea49 &lt;dbl&gt; | nmdc:dobj-11-7x21d450 &lt;dbl&gt; | ⋯ ⋯ | nmdc:dobj-11-tk9hc081 &lt;dbl&gt; | nmdc:dobj-11-vjmd5h28 &lt;dbl&gt; | nmdc:dobj-11-wcn69x37 &lt;dbl&gt; | nmdc:dobj-11-xm1yjv87 &lt;dbl&gt; | nmdc:dobj-11-y2aefn18 &lt;dbl&gt; | nmdc:dobj-11-yrbs4v96 &lt;dbl&gt; | nmdc:dobj-11-z47wnf07 &lt;dbl&gt; | nmdc:dobj-11-z8hc0j30 &lt;dbl&gt; | nmdc:dobj-11-zhz66007 &lt;dbl&gt; | nmdc:dobj-11-zn9eyg46 &lt;dbl&gt; |\n",
       "|---|---|---|---|---|---|---|---|---|---|---|---|---|---|---|---|---|---|---|---|---|\n",
       "| nmdc:wfmgan-11-afrz5241.1_046285_72_317, nmdc:wfmgan-11-a71gkg84.1_094425_166_282                                                                                                                                                                                                                                                                                                                                                                                                                                                                                                                                                                                                                                                                                                                                                                                                                                                                                                                                                                                                                                                                                                                                                                                                                                                                                                                                                                                                                                                                                                                                                                                                                                                          | 29.18732 | NA |       NA | NA |      NA |       NA |       NA | NA | NA | ⋯ | NA | NA |       NA | NA |       NA | NA |       NA |       NA | NA | NA |\n",
       "| nmdc:wfmgan-11-ewrwts75.1_001323_2787_3257, nmdc:wfmgan-11-ewrwts75.1_005119_1004_1810, nmdc:wfmgan-11-ewrwts75.1_009192_213_1403, nmdc:wfmgan-11-ewrwts75.1_019478_415_1116, nmdc:wfmgan-11-vcrp9p47.1_000448_1955_2434, nmdc:wfmgan-11-vcrp9p47.1_000463_36_842, nmdc:wfmgan-11-vcrp9p47.1_000531_2_1216, nmdc:wfmgan-11-vcrp9p47.1_008560_3_299, nmdc:wfmgan-11-qb4s5g41.1_017412_316_1002, nmdc:wfmgan-11-yjeh0m30.1_000695_2938_3477, nmdc:wfmgan-11-yjeh0m30.1_002652_494_1570, nmdc:wfmgan-11-yjeh0m30.1_003114_1313_1996, nmdc:wfmgan-11-yjeh0m30.1_024470_1_642, nmdc:wfmgan-11-yjeh0m30.1_033010_271_651, nmdc:wfmgan-11-yjeh0m30.1_034616_189_635, nmdc:wfmgan-11-yjeh0m30.1_100025_1_366, nmdc:wfmgan-11-yjeh0m30.1_203262_2_277, nmdc:wfmgan-11-awd7ke72.1_00183_134_940, nmdc:wfmgan-11-awd7ke72.1_00488_1024_1959, nmdc:wfmgan-11-awd7ke72.1_17875_2_196, nmdc:wfmgan-11-7j1ws791.1_000438_1906_2712, nmdc:wfmgan-11-7j1ws791.1_005543_105_1136, nmdc:wfmgan-11-7j1ws791.1_007059_1_312, nmdc:wfmgan-11-7j1ws791.1_025414_3_587, nmdc:wfmgan-11-7j1ws791.1_035592_2_505, nmdc:wfmgan-11-7j1ws791.1_069894_2_379, nmdc:wfmgan-11-b6sp3q07.1_001955_161_967, nmdc:wfmgan-11-b6sp3q07.1_004515_1424_1825, nmdc:wfmgan-11-b6sp3q07.1_004671_928_1584, nmdc:wfmgan-11-b6sp3q07.1_016631_2_535, nmdc:wfmgan-11-b6sp3q07.1_174030_2_295, nmdc:wfmgan-11-8zxjs882.1_000386_1779_2495, nmdc:wfmgan-11-8zxjs882.1_000482_1879_2190, nmdc:wfmgan-11-8zxjs882.1_009381_1_510, nmdc:wfmgan-11-8zxjs882.1_029454_2_358, nmdc:wfmgan-11-a71gkg84.1_000507_1580_2041, nmdc:wfmgan-11-a71gkg84.1_005396_2_430, nmdc:wfmgan-11-a71gkg84.1_104278_2_277, nmdc:wfmgan-11-9mdyy902.1_000322_3078_3443, nmdc:wfmgan-11-9mdyy902.1_002777_624_1232 | 26.57509 | NA | 27.57740 | NA |      NA | 27.88671 |       NA | NA | NA | ⋯ | NA | NA |       NA | NA |       NA | NA | 27.01618 | 26.88819 | NA | NA |\n",
       "| nmdc:wfmgan-11-a71gkg84.1_103783_2_277                                                                                                                                                                                                                                                                                                                                                                                                                                                                                                                                                                                                                                                                                                                                                                                                                                                                                                                                                                                                                                                                                                                                                                                                                                                                                                                                                                                                                                                                                                                                                                                                                                                                                                     | 31.14864 | NA |       NA | NA |      NA |       NA |       NA | NA | NA | ⋯ | NA | NA |       NA | NA |       NA | NA |       NA |       NA | NA | NA |\n",
       "| nmdc:wfmgan-11-a71gkg84.1_104452_3_278                                                                                                                                                                                                                                                                                                                                                                                                                                                                                                                                                                                                                                                                                                                                                                                                                                                                                                                                                                                                                                                                                                                                                                                                                                                                                                                                                                                                                                                                                                                                                                                                                                                                                                     | 28.81904 | NA |       NA | NA |      NA |       NA |       NA | NA | NA | ⋯ | NA | NA |       NA | NA |       NA | NA |       NA |       NA | NA | NA |\n",
       "| nmdc:wfmgan-11-p3dkkz54.1_018834_2_562                                                                                                                                                                                                                                                                                                                                                                                                                                                                                                                                                                                                                                                                                                                                                                                                                                                                                                                                                                                                                                                                                                                                                                                                                                                                                                                                                                                                                                                                                                                                                                                                                                                                                                     | 28.13249 | NA | 29.01038 | NA | 30.0706 |       NA | 28.55662 | NA | NA | ⋯ | NA | NA | 28.79139 | NA | 31.35701 | NA |       NA |       NA | NA | NA |\n",
       "| nmdc:wfmgan-11-b6sp3q07.1_053672_1_546                                                                                                                                                                                                                                                                                                                                                                                                                                                                                                                                                                                                                                                                                                                                                                                                                                                                                                                                                                                                                                                                                                                                                                                                                                                                                                                                                                                                                                                                                                                                                                                                                                                                                                     | 26.29020 | NA |       NA | NA |      NA |       NA | 29.51453 | NA | NA | ⋯ | NA | NA |       NA | NA |       NA | NA | 28.65492 |       NA | NA | NA |\n",
       "\n"
      ],
      "text/plain": [
       "  Razor_Protein                                                                                                                                                                                                                                                                                                                                                                                                                                                                                                                                                                                                                                                                                                                                                                                                                                                                                                                                                                                                                                                                                                                                                                                                                                                                                                                                                                                                                                                                                                                                                                                                                                                                                                                             \n",
       "1 nmdc:wfmgan-11-afrz5241.1_046285_72_317, nmdc:wfmgan-11-a71gkg84.1_094425_166_282                                                                                                                                                                                                                                                                                                                                                                                                                                                                                                                                                                                                                                                                                                                                                                                                                                                                                                                                                                                                                                                                                                                                                                                                                                                                                                                                                                                                                                                                                                                                                                                                                                                         \n",
       "2 nmdc:wfmgan-11-ewrwts75.1_001323_2787_3257, nmdc:wfmgan-11-ewrwts75.1_005119_1004_1810, nmdc:wfmgan-11-ewrwts75.1_009192_213_1403, nmdc:wfmgan-11-ewrwts75.1_019478_415_1116, nmdc:wfmgan-11-vcrp9p47.1_000448_1955_2434, nmdc:wfmgan-11-vcrp9p47.1_000463_36_842, nmdc:wfmgan-11-vcrp9p47.1_000531_2_1216, nmdc:wfmgan-11-vcrp9p47.1_008560_3_299, nmdc:wfmgan-11-qb4s5g41.1_017412_316_1002, nmdc:wfmgan-11-yjeh0m30.1_000695_2938_3477, nmdc:wfmgan-11-yjeh0m30.1_002652_494_1570, nmdc:wfmgan-11-yjeh0m30.1_003114_1313_1996, nmdc:wfmgan-11-yjeh0m30.1_024470_1_642, nmdc:wfmgan-11-yjeh0m30.1_033010_271_651, nmdc:wfmgan-11-yjeh0m30.1_034616_189_635, nmdc:wfmgan-11-yjeh0m30.1_100025_1_366, nmdc:wfmgan-11-yjeh0m30.1_203262_2_277, nmdc:wfmgan-11-awd7ke72.1_00183_134_940, nmdc:wfmgan-11-awd7ke72.1_00488_1024_1959, nmdc:wfmgan-11-awd7ke72.1_17875_2_196, nmdc:wfmgan-11-7j1ws791.1_000438_1906_2712, nmdc:wfmgan-11-7j1ws791.1_005543_105_1136, nmdc:wfmgan-11-7j1ws791.1_007059_1_312, nmdc:wfmgan-11-7j1ws791.1_025414_3_587, nmdc:wfmgan-11-7j1ws791.1_035592_2_505, nmdc:wfmgan-11-7j1ws791.1_069894_2_379, nmdc:wfmgan-11-b6sp3q07.1_001955_161_967, nmdc:wfmgan-11-b6sp3q07.1_004515_1424_1825, nmdc:wfmgan-11-b6sp3q07.1_004671_928_1584, nmdc:wfmgan-11-b6sp3q07.1_016631_2_535, nmdc:wfmgan-11-b6sp3q07.1_174030_2_295, nmdc:wfmgan-11-8zxjs882.1_000386_1779_2495, nmdc:wfmgan-11-8zxjs882.1_000482_1879_2190, nmdc:wfmgan-11-8zxjs882.1_009381_1_510, nmdc:wfmgan-11-8zxjs882.1_029454_2_358, nmdc:wfmgan-11-a71gkg84.1_000507_1580_2041, nmdc:wfmgan-11-a71gkg84.1_005396_2_430, nmdc:wfmgan-11-a71gkg84.1_104278_2_277, nmdc:wfmgan-11-9mdyy902.1_000322_3078_3443, nmdc:wfmgan-11-9mdyy902.1_002777_624_1232\n",
       "3 nmdc:wfmgan-11-a71gkg84.1_103783_2_277                                                                                                                                                                                                                                                                                                                                                                                                                                                                                                                                                                                                                                                                                                                                                                                                                                                                                                                                                                                                                                                                                                                                                                                                                                                                                                                                                                                                                                                                                                                                                                                                                                                                                                    \n",
       "4 nmdc:wfmgan-11-a71gkg84.1_104452_3_278                                                                                                                                                                                                                                                                                                                                                                                                                                                                                                                                                                                                                                                                                                                                                                                                                                                                                                                                                                                                                                                                                                                                                                                                                                                                                                                                                                                                                                                                                                                                                                                                                                                                                                    \n",
       "5 nmdc:wfmgan-11-p3dkkz54.1_018834_2_562                                                                                                                                                                                                                                                                                                                                                                                                                                                                                                                                                                                                                                                                                                                                                                                                                                                                                                                                                                                                                                                                                                                                                                                                                                                                                                                                                                                                                                                                                                                                                                                                                                                                                                    \n",
       "6 nmdc:wfmgan-11-b6sp3q07.1_053672_1_546                                                                                                                                                                                                                                                                                                                                                                                                                                                                                                                                                                                                                                                                                                                                                                                                                                                                                                                                                                                                                                                                                                                                                                                                                                                                                                                                                                                                                                                                                                                                                                                                                                                                                                    \n",
       "  nmdc:dobj-11-2k6s1505 nmdc:dobj-11-2szyc560 nmdc:dobj-11-301yh759\n",
       "1 29.18732              NA                          NA             \n",
       "2 26.57509              NA                    27.57740             \n",
       "3 31.14864              NA                          NA             \n",
       "4 28.81904              NA                          NA             \n",
       "5 28.13249              NA                    29.01038             \n",
       "6 26.29020              NA                          NA             \n",
       "  nmdc:dobj-11-3378mg86 nmdc:dobj-11-3ak2bc31 nmdc:dobj-11-4bwzhs42\n",
       "1 NA                         NA                     NA             \n",
       "2 NA                         NA               27.88671             \n",
       "3 NA                         NA                     NA             \n",
       "4 NA                         NA                     NA             \n",
       "5 NA                    30.0706                     NA             \n",
       "6 NA                         NA                     NA             \n",
       "  nmdc:dobj-11-7psagy79 nmdc:dobj-11-7r5yea49 nmdc:dobj-11-7x21d450 ⋯\n",
       "1       NA              NA                    NA                    ⋯\n",
       "2       NA              NA                    NA                    ⋯\n",
       "3       NA              NA                    NA                    ⋯\n",
       "4       NA              NA                    NA                    ⋯\n",
       "5 28.55662              NA                    NA                    ⋯\n",
       "6 29.51453              NA                    NA                    ⋯\n",
       "  nmdc:dobj-11-tk9hc081 nmdc:dobj-11-vjmd5h28 nmdc:dobj-11-wcn69x37\n",
       "1 NA                    NA                          NA             \n",
       "2 NA                    NA                          NA             \n",
       "3 NA                    NA                          NA             \n",
       "4 NA                    NA                          NA             \n",
       "5 NA                    NA                    28.79139             \n",
       "6 NA                    NA                          NA             \n",
       "  nmdc:dobj-11-xm1yjv87 nmdc:dobj-11-y2aefn18 nmdc:dobj-11-yrbs4v96\n",
       "1 NA                          NA              NA                   \n",
       "2 NA                          NA              NA                   \n",
       "3 NA                          NA              NA                   \n",
       "4 NA                          NA              NA                   \n",
       "5 NA                    31.35701              NA                   \n",
       "6 NA                          NA              NA                   \n",
       "  nmdc:dobj-11-z47wnf07 nmdc:dobj-11-z8hc0j30 nmdc:dobj-11-zhz66007\n",
       "1       NA                    NA              NA                   \n",
       "2 27.01618              26.88819              NA                   \n",
       "3       NA                    NA              NA                   \n",
       "4       NA                    NA              NA                   \n",
       "5       NA                    NA              NA                   \n",
       "6 28.65492                    NA              NA                   \n",
       "  nmdc:dobj-11-zn9eyg46\n",
       "1 NA                   \n",
       "2 NA                   \n",
       "3 NA                   \n",
       "4 NA                   \n",
       "5 NA                   \n",
       "6 NA                   "
      ]
     },
     "metadata": {},
     "output_type": "display_data"
    }
   ],
   "source": [
    "aggregated_proteomic_output <- protein_abundances %>%\n",
    "  select(processed_dobj_id, Razor_Protein, StatMomentsAreaLogNormSum) %>%\n",
    "  pivot_wider(names_from = \"processed_dobj_id\", values_from = \"StatMomentsAreaLogNormSum\")\n",
    "\n",
    "head(aggregated_proteomic_output)"
   ]
  },
  {
   "cell_type": "markdown",
   "metadata": {},
   "source": [
    "The generated protein table can be used as input to the software [pmartR](https://shinyproxy.emsl.pnnl.gov/app/pmart), which performs statistical analyses such as ANOVA and independence of missing data (IMD) tests. In this case, the aggregated proteomics table (`aggregated_proteomic_output`) would be equivalent to pmartR's `e_data` and the peptide to protein to gene mappings (`razor_mapping`) would be equivalent to pmartR's `e_meta`.\n",
    "\n",
    "<img src=\"../pmartR_logo_final.jpg\" width=\"25%\"/>"
   ]
  },
  {
   "cell_type": "markdown",
   "metadata": {},
   "source": [
    "pmartR requires sample metadata to parameterize analyses and interpret the data. For this example dataset, an API call will capture the biosample metadata (`biosample_metadata`) that would be equivalent to pmartR's `f_data`.\n",
    "\n",
    "Gather biosample metadata via the NMDC API `collection` endpoint, using the function `get_results_by_id()` in `utility_functions.R` and searching for the `biosample_id`s associated with each output in `proteomic_output_df`."
   ]
  },
  {
   "cell_type": "code",
   "execution_count": 44,
   "metadata": {
    "vscode": {
     "languageId": "r"
    }
   },
   "outputs": [
    {
     "data": {
      "text/html": [
       "<table class=\"dataframe\">\n",
       "<caption>A tibble: 6 × 3</caption>\n",
       "<thead>\n",
       "\t<tr><th scope=col>biosample_id</th><th scope=col>depth_m</th><th scope=col>processed_dobj_id</th></tr>\n",
       "\t<tr><th scope=col>&lt;chr&gt;</th><th scope=col>&lt;dbl&gt;</th><th scope=col>&lt;chr&gt;</th></tr>\n",
       "</thead>\n",
       "<tbody>\n",
       "\t<tr><td>nmdc:bsm-13-0jw5n594</td><td>0.0</td><td>nmdc:dobj-11-pxnhdj84</td></tr>\n",
       "\t<tr><td>nmdc:bsm-13-13145k83</td><td>0.2</td><td>nmdc:dobj-11-xm1yjv87</td></tr>\n",
       "\t<tr><td>nmdc:bsm-13-1p0tct86</td><td>0.2</td><td>nmdc:dobj-11-bxyvx506</td></tr>\n",
       "\t<tr><td>nmdc:bsm-13-2fw5j754</td><td>0.4</td><td>nmdc:dobj-11-z8hc0j30</td></tr>\n",
       "\t<tr><td>nmdc:bsm-13-2yga6857</td><td>0.1</td><td>nmdc:dobj-11-y2aefn18</td></tr>\n",
       "\t<tr><td>nmdc:bsm-13-3dt9xs73</td><td>0.5</td><td>nmdc:dobj-11-c85nc786</td></tr>\n",
       "</tbody>\n",
       "</table>\n"
      ],
      "text/latex": [
       "A tibble: 6 × 3\n",
       "\\begin{tabular}{lll}\n",
       " biosample\\_id & depth\\_m & processed\\_dobj\\_id\\\\\n",
       " <chr> & <dbl> & <chr>\\\\\n",
       "\\hline\n",
       "\t nmdc:bsm-13-0jw5n594 & 0.0 & nmdc:dobj-11-pxnhdj84\\\\\n",
       "\t nmdc:bsm-13-13145k83 & 0.2 & nmdc:dobj-11-xm1yjv87\\\\\n",
       "\t nmdc:bsm-13-1p0tct86 & 0.2 & nmdc:dobj-11-bxyvx506\\\\\n",
       "\t nmdc:bsm-13-2fw5j754 & 0.4 & nmdc:dobj-11-z8hc0j30\\\\\n",
       "\t nmdc:bsm-13-2yga6857 & 0.1 & nmdc:dobj-11-y2aefn18\\\\\n",
       "\t nmdc:bsm-13-3dt9xs73 & 0.5 & nmdc:dobj-11-c85nc786\\\\\n",
       "\\end{tabular}\n"
      ],
      "text/markdown": [
       "\n",
       "A tibble: 6 × 3\n",
       "\n",
       "| biosample_id &lt;chr&gt; | depth_m &lt;dbl&gt; | processed_dobj_id &lt;chr&gt; |\n",
       "|---|---|---|\n",
       "| nmdc:bsm-13-0jw5n594 | 0.0 | nmdc:dobj-11-pxnhdj84 |\n",
       "| nmdc:bsm-13-13145k83 | 0.2 | nmdc:dobj-11-xm1yjv87 |\n",
       "| nmdc:bsm-13-1p0tct86 | 0.2 | nmdc:dobj-11-bxyvx506 |\n",
       "| nmdc:bsm-13-2fw5j754 | 0.4 | nmdc:dobj-11-z8hc0j30 |\n",
       "| nmdc:bsm-13-2yga6857 | 0.1 | nmdc:dobj-11-y2aefn18 |\n",
       "| nmdc:bsm-13-3dt9xs73 | 0.5 | nmdc:dobj-11-c85nc786 |\n",
       "\n"
      ],
      "text/plain": [
       "  biosample_id         depth_m processed_dobj_id    \n",
       "1 nmdc:bsm-13-0jw5n594 0.0     nmdc:dobj-11-pxnhdj84\n",
       "2 nmdc:bsm-13-13145k83 0.2     nmdc:dobj-11-xm1yjv87\n",
       "3 nmdc:bsm-13-1p0tct86 0.2     nmdc:dobj-11-bxyvx506\n",
       "4 nmdc:bsm-13-2fw5j754 0.4     nmdc:dobj-11-z8hc0j30\n",
       "5 nmdc:bsm-13-2yga6857 0.1     nmdc:dobj-11-y2aefn18\n",
       "6 nmdc:bsm-13-3dt9xs73 0.5     nmdc:dobj-11-c85nc786"
      ]
     },
     "metadata": {},
     "output_type": "display_data"
    }
   ],
   "source": [
    "biosample_metadata <- get_results_by_id(collection = \"biosample_set\",\n",
    "                                        match_id_field = \"id\", \n",
    "                                        id_list = proteomic_output_df$biosample_id, \n",
    "                                        fields = \"id,depth.has_numeric_value\") %>%\n",
    "  # Cleanup json output\n",
    "  unnest(depth) %>%\n",
    "  dplyr::rename(biosample_id = id,\n",
    "                depth_m = has_numeric_value) %>%\n",
    "  # Add data object IDs to connect biosample metadata to processed results\n",
    "  left_join(select(proteomic_output_df, processed_dobj_id, biosample_id), by = join_by(\"biosample_id\"))\n",
    "\n",
    "head(biosample_metadata)"
   ]
  }
 ],
 "metadata": {
  "kernelspec": {
   "display_name": "R",
   "language": "R",
   "name": "kernelspec"
  },
  "language_info": {
   "codemirror_mode": "r",
   "file_extension": ".r",
   "mimetype": "text/x-r-source",
   "name": "R",
   "pygments_lexer": "r",
   "version": "4.4.1"
  }
 },
 "nbformat": 4,
 "nbformat_minor": 2
}
