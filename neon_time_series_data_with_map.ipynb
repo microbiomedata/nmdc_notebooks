{
 "cells": [
  {
   "cell_type": "markdown",
   "id": "c44cb7dc-fc42-4c03-90f7-347d120eedb7",
   "metadata": {},
   "source": [
    "# Example 1\n",
    "\n",
    "Plot pH over Time for the NEON Studies."
   ]
  },
  {
   "cell_type": "code",
   "execution_count": 9,
   "id": "67e8319d-fabe-4bb7-9dbf-20614573a5ce",
   "metadata": {
    "tags": []
   },
   "outputs": [],
   "source": [
    "import requests\n",
    "import json\n",
    "import pandas as pd\n",
    "import folium\n",
    "import altair as alt\n"
   ]
  },
  {
   "cell_type": "code",
   "execution_count": 10,
   "id": "01a8e74a-f07e-4cbf-8fe4-3ed833340118",
   "metadata": {
    "tags": []
   },
   "outputs": [
    {
     "name": "stdout",
     "output_type": "stream",
     "text": [
      "https://api.microbiomedata.org/studies?filter=name.search%3ANational%20Ecological%20Observatory%20Network\n",
      "nmdc:sty-11-34xj1150\n",
      "nmdc:sty-11-hht5sb92\n",
      "nmdc:sty-11-pzmd0x14\n"
     ]
    }
   ],
   "source": [
    "base_url = \"https://api.microbiomedata.org\"\n",
    "filt = \"name.search%3ANational%20Ecological%20Observatory%20Network\"\n",
    "url = f\"{base_url}/studies?filter={filt}\"\n",
    "print(url)\n",
    "resp = requests.get(url)\n",
    "studies = resp.json()['results']\n",
    "study_ids = []\n",
    "for study in studies:\n",
    "    print(study['id'])\n",
    "    study_ids.append(study['id'])"
   ]
  },
  {
   "cell_type": "code",
   "execution_count": 11,
   "id": "218f7a63-e63b-46c1-902e-c44d456b69b8",
   "metadata": {
    "tags": []
   },
   "outputs": [
    {
     "name": "stdout",
     "output_type": "stream",
     "text": [
      "4259\n"
     ]
    }
   ],
   "source": [
    "per_page = 100\n",
    "all_results = []\n",
    "fields = \"ph, collection_date.has_raw_value,geo_loc_name,lat_lon\"\n",
    "for study_id in study_ids:\n",
    "    filt = f\"part_of:{study_id}\"\n",
    "    get_more = True\n",
    "    tot = 0\n",
    "    page = 1\n",
    "    while get_more:\n",
    "        url = f\"{base_url}/biosamples?filter={filt}&per_page={per_page}&page={page}&fields={fields}\"\n",
    "        resp = requests.get(url)\n",
    "        data = resp.json()\n",
    "        results = data['results']\n",
    "        for samp in results:\n",
    "            if 'ph' in samp:\n",
    "                all_results.append(samp)         \n",
    "        tot += len(data['results'])\n",
    "        if tot < data['meta']['count']:\n",
    "            page += 1\n",
    "        else:\n",
    "            get_more = False\n",
    "\n",
    "print(len(all_results))\n"
   ]
  },
  {
   "cell_type": "code",
   "execution_count": 12,
   "id": "a7fc796f-8616-41ca-8689-e8f60add4f2e",
   "metadata": {
    "tags": []
   },
   "outputs": [
    {
     "name": "stdout",
     "output_type": "stream",
     "text": [
      "Number of NEON sites: 490\n",
      "Number of geo locations: 47\n",
      "Number of dates: 4091\n"
     ]
    }
   ],
   "source": [
    "sites = set()\n",
    "geo_locs = set()\n",
    "dates = set()\n",
    "for samp in all_results:\n",
    "    lat_lon = f\"{samp['lat_lon']['latitude']},{samp['lat_lon']['longitude']}\"\n",
    "    sites.add(lat_lon)\n",
    "    geo_locs.add(samp['geo_loc_name']['has_raw_value'])\n",
    "    dates.add(samp['collection_date']['has_raw_value'])\n",
    "print(f\"Number of NEON sites: {len(sites)}\")\n",
    "print(f\"Number of geo locations: {len(geo_locs)}\")\n",
    "print(f\"Number of dates: {len(dates)}\")"
   ]
  },
  {
   "cell_type": "code",
   "execution_count": 13,
   "id": "8a70709a-922d-4391-9a50-6e2f326aae1b",
   "metadata": {
    "tags": []
   },
   "outputs": [
    {
     "name": "stdout",
     "output_type": "stream",
     "text": [
      "{'collection_date': {'has_raw_value': '2017-06-05T16:50Z'}, 'id': 'nmdc:bsm-11-06qrej20', 'ph': 5.51, 'geo_loc_name': {'has_raw_value': 'USA: Washington, Abby Road'}, 'lat_lon': {'latitude': 45.76858, 'longitude': -122.298736}}\n"
     ]
    }
   ],
   "source": [
    "print(all_results[0])"
   ]
  },
  {
   "cell_type": "code",
   "execution_count": 14,
   "id": "fd34f79b-4060-4c8f-8eaa-bbb5c4ae1fd7",
   "metadata": {
    "tags": []
   },
   "outputs": [
    {
     "data": {
      "text/html": [
       "<div>\n",
       "<style scoped>\n",
       "    .dataframe tbody tr th:only-of-type {\n",
       "        vertical-align: middle;\n",
       "    }\n",
       "\n",
       "    .dataframe tbody tr th {\n",
       "        vertical-align: top;\n",
       "    }\n",
       "\n",
       "    .dataframe thead th {\n",
       "        text-align: right;\n",
       "    }\n",
       "</style>\n",
       "<table border=\"1\" class=\"dataframe\">\n",
       "  <thead>\n",
       "    <tr style=\"text-align: right;\">\n",
       "      <th></th>\n",
       "      <th>date</th>\n",
       "      <th>ph</th>\n",
       "      <th>loc</th>\n",
       "      <th>lat_lon</th>\n",
       "      <th>latitude</th>\n",
       "      <th>longitude</th>\n",
       "    </tr>\n",
       "  </thead>\n",
       "  <tbody>\n",
       "    <tr>\n",
       "      <th>0</th>\n",
       "      <td>2017-06-05 16:50:00+00:00</td>\n",
       "      <td>5.51</td>\n",
       "      <td>USA: Washington, Abby Road</td>\n",
       "      <td>45.76858,-122.298736</td>\n",
       "      <td>45.768580</td>\n",
       "      <td>-122.298736</td>\n",
       "    </tr>\n",
       "    <tr>\n",
       "      <th>1</th>\n",
       "      <td>2017-06-05 17:07:00+00:00</td>\n",
       "      <td>5.58</td>\n",
       "      <td>USA: Washington, Abby Road</td>\n",
       "      <td>45.76858,-122.298736</td>\n",
       "      <td>45.768580</td>\n",
       "      <td>-122.298736</td>\n",
       "    </tr>\n",
       "    <tr>\n",
       "      <th>2</th>\n",
       "      <td>2017-06-05 17:47:00+00:00</td>\n",
       "      <td>5.53</td>\n",
       "      <td>USA: Washington, Abby Road</td>\n",
       "      <td>45.76858,-122.298736</td>\n",
       "      <td>45.768580</td>\n",
       "      <td>-122.298736</td>\n",
       "    </tr>\n",
       "    <tr>\n",
       "      <th>3</th>\n",
       "      <td>2017-06-05 19:46:00+00:00</td>\n",
       "      <td>5.59</td>\n",
       "      <td>USA: Washington, Abby Road</td>\n",
       "      <td>45.754053,-122.298512</td>\n",
       "      <td>45.754053</td>\n",
       "      <td>-122.298512</td>\n",
       "    </tr>\n",
       "    <tr>\n",
       "      <th>4</th>\n",
       "      <td>2017-06-05 20:09:00+00:00</td>\n",
       "      <td>4.70</td>\n",
       "      <td>USA: Washington, Abby Road</td>\n",
       "      <td>45.754053,-122.298512</td>\n",
       "      <td>45.754053</td>\n",
       "      <td>-122.298512</td>\n",
       "    </tr>\n",
       "    <tr>\n",
       "      <th>...</th>\n",
       "      <td>...</td>\n",
       "      <td>...</td>\n",
       "      <td>...</td>\n",
       "      <td>...</td>\n",
       "      <td>...</td>\n",
       "      <td>...</td>\n",
       "    </tr>\n",
       "    <tr>\n",
       "      <th>4254</th>\n",
       "      <td>2021-07-08 19:18:00+00:00</td>\n",
       "      <td>6.32</td>\n",
       "      <td>USA: Wyoming, Yellowstone National Park</td>\n",
       "      <td>44.954777,-110.533202</td>\n",
       "      <td>44.954777</td>\n",
       "      <td>-110.533202</td>\n",
       "    </tr>\n",
       "    <tr>\n",
       "      <th>4255</th>\n",
       "      <td>2021-07-08 18:42:00+00:00</td>\n",
       "      <td>6.52</td>\n",
       "      <td>USA: Wyoming, Yellowstone National Park</td>\n",
       "      <td>44.954777,-110.533202</td>\n",
       "      <td>44.954777</td>\n",
       "      <td>-110.533202</td>\n",
       "    </tr>\n",
       "    <tr>\n",
       "      <th>4256</th>\n",
       "      <td>2021-07-08 21:39:00+00:00</td>\n",
       "      <td>6.41</td>\n",
       "      <td>USA: Wyoming, Yellowstone National Park</td>\n",
       "      <td>44.948383,-110.631377</td>\n",
       "      <td>44.948383</td>\n",
       "      <td>-110.631377</td>\n",
       "    </tr>\n",
       "    <tr>\n",
       "      <th>4257</th>\n",
       "      <td>2021-07-08 20:44:00+00:00</td>\n",
       "      <td>6.48</td>\n",
       "      <td>USA: Wyoming, Yellowstone National Park</td>\n",
       "      <td>44.948383,-110.631377</td>\n",
       "      <td>44.948383</td>\n",
       "      <td>-110.631377</td>\n",
       "    </tr>\n",
       "    <tr>\n",
       "      <th>4258</th>\n",
       "      <td>2021-07-08 22:01:00+00:00</td>\n",
       "      <td>6.79</td>\n",
       "      <td>USA: Wyoming, Yellowstone National Park</td>\n",
       "      <td>44.948383,-110.631377</td>\n",
       "      <td>44.948383</td>\n",
       "      <td>-110.631377</td>\n",
       "    </tr>\n",
       "  </tbody>\n",
       "</table>\n",
       "<p>4259 rows × 6 columns</p>\n",
       "</div>"
      ],
      "text/plain": [
       "                          date    ph                                      loc  \\\n",
       "0    2017-06-05 16:50:00+00:00  5.51               USA: Washington, Abby Road   \n",
       "1    2017-06-05 17:07:00+00:00  5.58               USA: Washington, Abby Road   \n",
       "2    2017-06-05 17:47:00+00:00  5.53               USA: Washington, Abby Road   \n",
       "3    2017-06-05 19:46:00+00:00  5.59               USA: Washington, Abby Road   \n",
       "4    2017-06-05 20:09:00+00:00  4.70               USA: Washington, Abby Road   \n",
       "...                        ...   ...                                      ...   \n",
       "4254 2021-07-08 19:18:00+00:00  6.32  USA: Wyoming, Yellowstone National Park   \n",
       "4255 2021-07-08 18:42:00+00:00  6.52  USA: Wyoming, Yellowstone National Park   \n",
       "4256 2021-07-08 21:39:00+00:00  6.41  USA: Wyoming, Yellowstone National Park   \n",
       "4257 2021-07-08 20:44:00+00:00  6.48  USA: Wyoming, Yellowstone National Park   \n",
       "4258 2021-07-08 22:01:00+00:00  6.79  USA: Wyoming, Yellowstone National Park   \n",
       "\n",
       "                    lat_lon   latitude   longitude  \n",
       "0      45.76858,-122.298736  45.768580 -122.298736  \n",
       "1      45.76858,-122.298736  45.768580 -122.298736  \n",
       "2      45.76858,-122.298736  45.768580 -122.298736  \n",
       "3     45.754053,-122.298512  45.754053 -122.298512  \n",
       "4     45.754053,-122.298512  45.754053 -122.298512  \n",
       "...                     ...        ...         ...  \n",
       "4254  44.954777,-110.533202  44.954777 -110.533202  \n",
       "4255  44.954777,-110.533202  44.954777 -110.533202  \n",
       "4256  44.948383,-110.631377  44.948383 -110.631377  \n",
       "4257  44.948383,-110.631377  44.948383 -110.631377  \n",
       "4258  44.948383,-110.631377  44.948383 -110.631377  \n",
       "\n",
       "[4259 rows x 6 columns]"
      ]
     },
     "execution_count": 14,
     "metadata": {},
     "output_type": "execute_result"
    }
   ],
   "source": [
    "df_inp = []\n",
    "for samp in all_results:\n",
    "    year, month, day = samp[\"collection_date\"][\"has_raw_value\"][0:10].split(\"-\")\n",
    "    lat_lon = f\"{samp['lat_lon']['latitude']},{samp['lat_lon']['longitude']}\"\n",
    "    latitude = samp['lat_lon']['latitude']\n",
    "    longitude = samp['lat_lon']['longitude']\n",
    "    rec = {\"date\": samp[\"collection_date\"][\"has_raw_value\"],\n",
    "           \"ph\": samp[\"ph\"],\n",
    "           \"loc\": samp[\"geo_loc_name\"][\"has_raw_value\"],\n",
    "           \"lat_lon\": lat_lon,\n",
    "            \"latitude\" : latitude,\n",
    "            \"longitude\" : longitude}\n",
    "    df_inp.append(rec)\n",
    "\n",
    "df = pd.DataFrame(df_inp)\n",
    "df['date'] = pd.to_datetime(df['date'])\n",
    "\n",
    "df\n"
   ]
  },
  {
   "cell_type": "code",
   "execution_count": 15,
   "id": "7e1d1743-9d5f-4aad-a529-c4d66f12edc6",
   "metadata": {
    "tags": []
   },
   "outputs": [
    {
     "name": "stdout",
     "output_type": "stream",
     "text": [
      "(45, -112)\n"
     ]
    }
   ],
   "source": [
    "# Find middle coordinates to inform map center\n",
    "min_lat = min(df.latitude)\n",
    "max_lat = max(df.latitude)\n",
    "\n",
    "min_lon = min(df.longitude)\n",
    "max_lon = max(df.longitude)\n",
    "\n",
    "def find_square_midpoint(min_lat, max_lon, max_lat, min_lon):\n",
    "    # calculate midpoint latitude\n",
    "    mid_lat = (min_lat + max_lat) / 2\n",
    "    \n",
    "    # calculate midpoint longitude\n",
    "    if abs(max_lon - min_lon) <= 180:\n",
    "        mid_lon = (min_lon + max_lon) / 2\n",
    "    else:\n",
    "        # If the line crosses the 180 degree meridian, adjust the midpoint longitude\n",
    "        mid_lon = ((max_lon + min_lon + 360) % 360) / 2 - 180\n",
    "   \n",
    "    return int(round(mid_lat, 0)), int(round(mid_lon, 0))\n",
    "\n",
    "mid_coords = find_square_midpoint(min_lat, max_lon, max_lat, min_lon)\n",
    "print(mid_coords)"
   ]
  },
  {
   "cell_type": "code",
   "execution_count": 19,
   "id": "8fe7ebd7-0b17-46f5-9850-e3febbfec5c2",
   "metadata": {
    "tags": []
   },
   "outputs": [],
   "source": [
    "m = folium.Map(location=(mid_coords), zoom_start=3)\n",
    "\n",
    "# group data frames by site (e.g. loc)\n",
    "grouped = df.groupby('loc')\n",
    "result_dfs = {}\n",
    "for name, group_df in grouped:\n",
    "    result_dfs[name] = group_df.reset_index(drop=True)\n",
    "\n",
    "# Add markers to map based on location name (site) - arbitrarily picked first coordinates \n",
    "# for each df since coordinates per site differ by a negligble amount\n",
    "for name, site_df in result_dfs.items():\n",
    "    chosen_lat = site_df['latitude'].iloc[0]\n",
    "    chosen_lon = site_df['longitude'].iloc[0]\n",
    "  \n",
    "    scatter = Chart(site_df).mark_circle().encode(x=\"date\", y='ph')\n",
    "    vega_lite = folium.VegaLite(scatter, width=\"100%\", height=\"100%\")\n",
    "    marker = folium.Marker([chosen_lat, chosen_lon])\n",
    "    popup = folium.Popup()\n",
    "    vega_lite.add_to(popup)\n",
    "    popup.add_to(marker)\n",
    "    marker.add_to(m)\n",
    "    \n",
    "    \n",
    "m.save(\"pH_time_map.html\")"
   ]
  },
  {
   "cell_type": "code",
   "execution_count": null,
   "id": "944a61cf-aade-4d90-b8ff-86c5e64ba957",
   "metadata": {
    "tags": []
   },
   "outputs": [],
   "source": [
    "# fig = px.line(df, x='date', y='ph', color='lat_lon', facet_col='lat_lon')\n",
    "# fig.update_layout(title = 'NEON pH measurements of soil vs. time', xaxis_title='Date', yaxis_title='pH')\n",
    "# fig.show()"
   ]
  },
  {
   "cell_type": "code",
   "execution_count": null,
   "id": "621d2ce7-459f-4df7-a760-4e0b85727be3",
   "metadata": {},
   "outputs": [],
   "source": []
  }
 ],
 "metadata": {
  "kernelspec": {
   "display_name": "Python 3 (ipykernel)",
   "language": "python",
   "name": "python3"
  },
  "language_info": {
   "codemirror_mode": {
    "name": "ipython",
    "version": 3
   },
   "file_extension": ".py",
   "mimetype": "text/x-python",
   "name": "python",
   "nbconvert_exporter": "python",
   "pygments_lexer": "ipython3",
   "version": "3.11.5"
  }
 },
 "nbformat": 4,
 "nbformat_minor": 5
}
