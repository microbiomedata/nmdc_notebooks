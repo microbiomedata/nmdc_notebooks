{
 "cells": [
  {
   "cell_type": "markdown",
   "metadata": {},
   "source": [
    "# How does the natural organic matter data in the NMDC database compare across sample types?"
   ]
  },
  {
   "cell_type": "code",
   "execution_count": null,
   "metadata": {
    "vscode": {
     "languageId": "r"
    }
   },
   "outputs": [
    {
     "ename": "",
     "evalue": "",
     "output_type": "error",
     "traceback": [
      "\u001b[1;31mFailed to start the Kernel. \n",
      "\u001b[1;31mError in loadNamespace(x) : there is no package called ‘IRkernel’\n",
      "\u001b[1;31mCalls: loadNamespace -> withRestarts -> withOneRestart -> doWithOneRestart\n",
      "\u001b[1;31mExecution halted. \n",
      "\u001b[1;31mView Jupyter <a href='command:jupyter.viewOutput'>log</a> for further details."
     ]
    }
   ],
   "source": [
    "library(tidyverse)\n",
    "library(jsonlite)\n",
    "library(heatmaply)\n",
    "library(ggExtra)"
   ]
  },
  {
   "cell_type": "markdown",
   "metadata": {},
   "source": [
    "This notebook demonstrates how to use the existing NMDC-runtime API endpoints (as of August 2024) to explore the natural organic matter (NOM) data present in the NMDC database. It traverses the database schema backwards, first pulling all available natural organic matter results, and then identifying the corresponding source samples. The processed data is then evaluated for quality and compared by sample type. Note that retrieving the CSV results files can be time consuming.\n",
    "\n",
    "## Define functions to interact with API\n",
    "\n",
    "First, we will define R functions to interact with some of the available NMDC API endpoints. Further documentation of available API endpoints is available here: https://api.microbiomedata.org/docs#/\n",
    "\n",
    "### Define a general API call funtion to nmdc-runtime\n",
    "\n",
    "This function provides a general-purpose way to make an API request to NMDC's runtime API. Note that this function will only return the first page of results. The function's input includes the name of the collection to access (e.g. `biosample_set`), the filter to be performed, the maximum page size, and a list of the fields to be retrieved. It returns the metadata as a dataframe."
   ]
  },
  {
   "cell_type": "code",
   "execution_count": null,
   "metadata": {
    "vscode": {
     "languageId": "r"
    }
   },
   "outputs": [
    {
     "ename": "",
     "evalue": "",
     "output_type": "error",
     "traceback": [
      "\u001b[1;31mFailed to start the Kernel. \n",
      "\u001b[1;31mError in loadNamespace(x) : there is no package called ‘IRkernel’\n",
      "\u001b[1;31mCalls: loadNamespace -> withRestarts -> withOneRestart -> doWithOneRestart\n",
      "\u001b[1;31mExecution halted. \n",
      "\u001b[1;31mView Jupyter <a href='command:jupyter.viewOutput'>log</a> for further details."
     ]
    }
   ],
   "source": [
    "get_first_page_results <- function(collection, filter, max_page_size, fields) {\n",
    "  og_url <- paste0(\n",
    "      'https://api.microbiomedata.org/nmdcschema/', \n",
    "      collection, '?&filter=', filter, '&max_page_size=', max_page_size, '&projection=', fields\n",
    "      )\n",
    "  \n",
    "  response <- jsonlite::fromJSON(URLencode(og_url, repeated = TRUE))\n",
    "  \n",
    "  return(response)\n",
    "}"
   ]
  },
  {
   "cell_type": "markdown",
   "metadata": {},
   "source": [
    "### Define an nmdc-runtime API call function to include pagination\n",
    "\n",
    "The get_next_results function uses the get_first_page_results function, defined above, to retrieve the rest of the results from a call with multiple pages. It takes the same inputs as the get_first_page_results function above: the name of the collection to be retrieved, the filter string, the maximum page size, and a list of the fields to be returned. This function returns the results as a single dataframe (can be nested). It uses the next_page_token key in each page of results to retrieve the following page."
   ]
  },
  {
   "cell_type": "code",
   "execution_count": null,
   "metadata": {
    "vscode": {
     "languageId": "r"
    }
   },
   "outputs": [
    {
     "ename": "",
     "evalue": "",
     "output_type": "error",
     "traceback": [
      "\u001b[1;31mFailed to start the Kernel. \n",
      "\u001b[1;31mError in loadNamespace(x) : there is no package called ‘IRkernel’\n",
      "\u001b[1;31mCalls: loadNamespace -> withRestarts -> withOneRestart -> doWithOneRestart\n",
      "\u001b[1;31mExecution halted. \n",
      "\u001b[1;31mView Jupyter <a href='command:jupyter.viewOutput'>log</a> for further details."
     ]
    }
   ],
   "source": [
    "get_next_results <- function(collection, filter_text, max_page_size, fields) {\n",
    "  initial_data <- get_first_page_results(collection, filter_text, max_page_size, fields)\n",
    "  results_df <- initial_data$resources\n",
    "  \n",
    "  if (!is.null(initial_data$next_page_token)) {\n",
    "    next_page_token <- initial_data$next_page_token\n",
    "    \n",
    "    while (TRUE) {\n",
    "      url <- paste0('https://api.microbiomedata.org/nmdcschema/', collection, '?&filter=', filter_text, '&max_page_size=', max_page_size, '&page_token=', next_page_token, '&projection=', fields)\n",
    "      response <- jsonlite::fromJSON(URLencode(url, repeated = TRUE))\n",
    "\n",
    "      results_df <- results_df %>% bind_rows(response$resources)\n",
    "      next_page_token <- response$next_page_token\n",
    "      \n",
    "      if (is.null(next_page_token)) {\n",
    "        break\n",
    "      }\n",
    "    }\n",
    "  }\n",
    "  \n",
    "  return(results_df)\n",
    "}"
   ]
  },
  {
   "cell_type": "markdown",
   "metadata": {},
   "source": [
    "### Define an API request function to get object information for a given ID\n",
    "\n",
    "This function constructs a different type of API request that takes a list of ids or similar (e.g. `biosample` ids as retrieved above). The `id_field` input is a string of the name of the id field name (e.g. `id` or `has_output`), the name of the new collection to be queried, the name of the field to match the previous ids on in the new collection, and a list of the fields to be returned."
   ]
  },
  {
   "cell_type": "code",
   "execution_count": null,
   "metadata": {
    "vscode": {
     "languageId": "r"
    }
   },
   "outputs": [
    {
     "ename": "",
     "evalue": "",
     "output_type": "error",
     "traceback": [
      "\u001b[1;31mFailed to start the Kernel. \n",
      "\u001b[1;31mError in loadNamespace(x) : there is no package called ‘IRkernel’\n",
      "\u001b[1;31mCalls: loadNamespace -> withRestarts -> withOneRestart -> doWithOneRestart\n",
      "\u001b[1;31mExecution halted. \n",
      "\u001b[1;31mView Jupyter <a href='command:jupyter.viewOutput'>log</a> for further details."
     ]
    }
   ],
   "source": [
    "get_results_by_id <- function(collection, match_id_field, id_list, fields, max_id = 50) {\n",
    "    # collection: the name of the collection to query\n",
    "    # match_id_field: the field in the new collection to match to the id_list\n",
    "    # id_list: a list of ids to filter on\n",
    "    # fields: a list of fields to return\n",
    "    # max_id: the maximum number of ids to include in a single query\n",
    "    \n",
    "    # If id_list is longer than max_id, split it into chunks of max_id\n",
    "    if (length(id_list) > max_id) {\n",
    "        id_list <- split(id_list, ceiling(seq_along(id_list)/max_id))\n",
    "    } else {\n",
    "        id_list <- list(id_list)\n",
    "    }\n",
    "    \n",
    "    output <- list()\n",
    "    for (i in 1:length(id_list)) {\n",
    "        # Cast as a character vector and add double quotes around each ID\n",
    "        mongo_id_string <- as.character(id_list[[i]]) %>%\n",
    "            paste0('\"', ., '\"') %>%\n",
    "            paste(collapse = ', ')\n",
    "        \n",
    "        # Create the filter string\n",
    "        filter = paste0('{\"', match_id_field, '\": {\"$in\": [', mongo_id_string, ']}}')\n",
    "        \n",
    "        # Get the data\n",
    "        output[[i]] = get_next_results(\n",
    "            collection = collection,\n",
    "            filter = filter,\n",
    "            max_page_size = max_id*3, #assumes that there are no more than 3 records per query\n",
    "            fields = fields\n",
    "        )\n",
    "    }\n",
    "    output_df <- bind_rows(output)\n",
    "}"
   ]
  },
  {
   "cell_type": "markdown",
   "metadata": {},
   "source": [
    "### Define an API request function to identify the database collection for an ID\n",
    "\n",
    "The functions above rely on knowing the MongoDB \"collection\" to search for relevant objects. But what if you don't know what the collection is called? This function can be used to obtain the the names of the collection that an object is part of."
   ]
  },
  {
   "cell_type": "code",
   "execution_count": null,
   "metadata": {
    "vscode": {
     "languageId": "r"
    }
   },
   "outputs": [
    {
     "ename": "",
     "evalue": "",
     "output_type": "error",
     "traceback": [
      "\u001b[1;31mFailed to start the Kernel. \n",
      "\u001b[1;31mError in loadNamespace(x) : there is no package called ‘IRkernel’\n",
      "\u001b[1;31mCalls: loadNamespace -> withRestarts -> withOneRestart -> doWithOneRestart\n",
      "\u001b[1;31mExecution halted. \n",
      "\u001b[1;31mView Jupyter <a href='command:jupyter.viewOutput'>log</a> for further details."
     ]
    }
   ],
   "source": [
    "get_collection_by_id <- function(id) {\n",
    "  \n",
    "  # Create API endpoint URL\n",
    "  url <- paste0(\"https://api.microbiomedata.org/nmdcschema/ids/\", id, \"/collection-name\")\n",
    "\n",
    "  # Retrieve the JSON result from the API endpoint URL\n",
    "  response <- jsonlite::fromJSON(URLencode(url, repeated = TRUE))\n",
    "  \n",
    "  # Extract the collection name from the response\n",
    "  return(response$collection_name)\n",
    "}"
   ]
  },
  {
   "cell_type": "markdown",
   "metadata": {},
   "source": [
    "## Query NMDC API\n",
    "\n",
    "Now we will use the functions defined above to retrieve data from the NMDC database. In each step, we will \n",
    "\n",
    "### Get all data objects with NOM results\n",
    "\n",
    "We will start by using the `get_next_results` function to retrieve all available processed data records containing NOM results. We are querying the `data_object_set` collection for objects that have the type `FT ICR-MS Analysis Results`. "
   ]
  },
  {
   "cell_type": "code",
   "execution_count": null,
   "metadata": {
    "vscode": {
     "languageId": "r"
    }
   },
   "outputs": [
    {
     "ename": "",
     "evalue": "",
     "output_type": "error",
     "traceback": [
      "\u001b[1;31mFailed to start the Kernel. \n",
      "\u001b[1;31mError in loadNamespace(x) : there is no package called ‘IRkernel’\n",
      "\u001b[1;31mCalls: loadNamespace -> withRestarts -> withOneRestart -> doWithOneRestart\n",
      "\u001b[1;31mExecution halted. \n",
      "\u001b[1;31mView Jupyter <a href='command:jupyter.viewOutput'>log</a> for further details."
     ]
    }
   ],
   "source": [
    "nom_dobj_df <- get_next_results(\n",
    "    collection = \"data_object_set\", \n",
    "    filter_text = '{\"data_object_type\": {\"$regex\": \"FT ICR-MS Analysis Results\"}}', \n",
    "    max_page_size = 100, \n",
    "    fields = \"id,name,url,was_generated_by,md5_checksum\"\n",
    "    )"
   ]
  },
  {
   "cell_type": "markdown",
   "metadata": {},
   "source": [
    "### Example of identifying a collection\n",
    "\n",
    "We will use the `get_collection_by_id` function defined above to identify the name of the next collection to search in. Here, we have a list of IDs from the `data_object_set` collection, and we need to know the name of the collection containing the data analysis workflow information from the previous step."
   ]
  },
  {
   "cell_type": "code",
   "execution_count": null,
   "metadata": {
    "vscode": {
     "languageId": "r"
    }
   },
   "outputs": [
    {
     "ename": "",
     "evalue": "",
     "output_type": "error",
     "traceback": [
      "\u001b[1;31mFailed to start the Kernel. \n",
      "\u001b[1;31mError in loadNamespace(x) : there is no package called ‘IRkernel’\n",
      "\u001b[1;31mCalls: loadNamespace -> withRestarts -> withOneRestart -> doWithOneRestart\n",
      "\u001b[1;31mExecution halted. \n",
      "\u001b[1;31mView Jupyter <a href='command:jupyter.viewOutput'>log</a> for further details."
     ]
    }
   ],
   "source": [
    "# What collection holds the analysis process that produced our processed data object?\n",
    "get_collection_by_id(nom_dobj_df$was_generated_by[1])"
   ]
  },
  {
   "cell_type": "markdown",
   "metadata": {},
   "source": [
    "### Get all NOM analysis results\n",
    "\n",
    "Now that we have a dataframe of data object information, we can use the data object IDs to identify the analysis processes that produced our results. In this case, we are looking in the `nom_analysis_activity_set` for any records whose output is listed as one of our data object IDs."
   ]
  },
  {
   "cell_type": "code",
   "execution_count": null,
   "metadata": {
    "vscode": {
     "languageId": "r"
    }
   },
   "outputs": [
    {
     "ename": "",
     "evalue": "",
     "output_type": "error",
     "traceback": [
      "\u001b[1;31mFailed to start the Kernel. \n",
      "\u001b[1;31mError in loadNamespace(x) : there is no package called ‘IRkernel’\n",
      "\u001b[1;31mCalls: loadNamespace -> withRestarts -> withOneRestart -> doWithOneRestart\n",
      "\u001b[1;31mExecution halted. \n",
      "\u001b[1;31mView Jupyter <a href='command:jupyter.viewOutput'>log</a> for further details."
     ]
    }
   ],
   "source": [
    "nom_analysis_df <- get_results_by_id(\n",
    "    collection = \"nom_analysis_activity_set\",\n",
    "    match_id_field = \"has_output\",\n",
    "    id_list = nom_dobj_df$id,\n",
    "    fields = \"id,has_input,has_output\",\n",
    "    max_id = 20\n",
    ") %>%\n",
    "  mutate(has_input = unlist(has_input),\n",
    "         has_output = unlist(has_output))"
   ]
  },
  {
   "cell_type": "markdown",
   "metadata": {},
   "source": [
    "### Get all data objects containing raw NOM data\n",
    "\n",
    "Continuing to work backwards towards the original biosample, we now use the analysis object IDs to identify the raw data objects that were analyzed. This step is also looking in the collection `data_object_set` that was used above. The difference is that this time, rather than filtering by type, we are looking for data objects that match our list of data object IDs that were input to the NOM analysis processes."
   ]
  },
  {
   "cell_type": "code",
   "execution_count": null,
   "metadata": {
    "vscode": {
     "languageId": "r"
    }
   },
   "outputs": [
    {
     "ename": "",
     "evalue": "",
     "output_type": "error",
     "traceback": [
      "\u001b[1;31mFailed to start the Kernel. \n",
      "\u001b[1;31mError in loadNamespace(x) : there is no package called ‘IRkernel’\n",
      "\u001b[1;31mCalls: loadNamespace -> withRestarts -> withOneRestart -> doWithOneRestart\n",
      "\u001b[1;31mExecution halted. \n",
      "\u001b[1;31mView Jupyter <a href='command:jupyter.viewOutput'>log</a> for further details."
     ]
    }
   ],
   "source": [
    "nom_raw_df <- get_results_by_id(\n",
    "    collection = \"data_object_set\",\n",
    "    match_id_field = \"id\",\n",
    "    id_list = nom_analysis_df$has_input,\n",
    "    fields = \"id,was_generated_by,name,md5_checksum\",\n",
    "    max_id = 20\n",
    ")"
   ]
  },
  {
   "cell_type": "markdown",
   "metadata": {},
   "source": [
    "### Get all sample processing records that produced NOM data\n",
    "\n",
    "Using the list of raw data object IDs obtained above, we now search the `omics_processing_set` collection for records of sample processing that produced raw NOM data. Here we are looking for sample processing records whose output field matches the list of raw data object IDs."
   ]
  },
  {
   "cell_type": "code",
   "execution_count": null,
   "metadata": {
    "vscode": {
     "languageId": "r"
    }
   },
   "outputs": [
    {
     "ename": "",
     "evalue": "",
     "output_type": "error",
     "traceback": [
      "\u001b[1;31mFailed to start the Kernel. \n",
      "\u001b[1;31mError in loadNamespace(x) : there is no package called ‘IRkernel’\n",
      "\u001b[1;31mCalls: loadNamespace -> withRestarts -> withOneRestart -> doWithOneRestart\n",
      "\u001b[1;31mExecution halted. \n",
      "\u001b[1;31mView Jupyter <a href='command:jupyter.viewOutput'>log</a> for further details."
     ]
    }
   ],
   "source": [
    "nom_omprc_df <- get_results_by_id(\n",
    "    collection = \"omics_processing_set\",\n",
    "    match_id_field = \"has_output\",\n",
    "    id_list = nom_raw_df$id,\n",
    "    fields = \"id,has_input,has_output\",\n",
    "    max_id = 20\n",
    ") %>%\n",
    "  mutate(has_input = unlist(has_input),\n",
    "         has_output = unlist(has_output))"
   ]
  },
  {
   "cell_type": "markdown",
   "metadata": {},
   "source": [
    "### Get all records for biosamples that were processed for NOM analysis\n",
    "\n",
    "Finally, we are able to use the inputs to the sample processing records obtained above to identify the original biosamples used. This will allow us to connect the sampling metadata to the processed NOM results. Here, we can add fields to the API query to retrieve more information about the original biosample. \n",
    "\n",
    "In this case, we are interested in the environments from which the samples were taken, so the `fields` argument includes the trio of environmental terms required for each NMDC biosample: `env_broad_scale`, `env_local_scale`, and `env_medium`. \n",
    "\n",
    "Passing an empty string to the `fields` argument of the API functions defined above returns all fields for the class being queried, which can be useful but slow. More information about the metadata fields for the `Biosample` class is available here: https://microbiomedata.github.io/nmdc-schema/Biosample/"
   ]
  },
  {
   "cell_type": "code",
   "execution_count": null,
   "metadata": {
    "vscode": {
     "languageId": "r"
    }
   },
   "outputs": [
    {
     "ename": "",
     "evalue": "",
     "output_type": "error",
     "traceback": [
      "\u001b[1;31mFailed to start the Kernel. \n",
      "\u001b[1;31mError in loadNamespace(x) : there is no package called ‘IRkernel’\n",
      "\u001b[1;31mCalls: loadNamespace -> withRestarts -> withOneRestart -> doWithOneRestart\n",
      "\u001b[1;31mExecution halted. \n",
      "\u001b[1;31mView Jupyter <a href='command:jupyter.viewOutput'>log</a> for further details."
     ]
    }
   ],
   "source": [
    "nom_biosample_df <- get_results_by_id(\n",
    "    collection = \"biosample_set\",\n",
    "    match_id_field = \"id\",\n",
    "    id_list = nom_omprc_df$has_input,\n",
    "    fields = \"id,name,part_of,env_broad_scale,env_local_scale,env_medium\",\n",
    "    #fields = \"\",\n",
    "    max_id = 20\n",
    ") %>%\n",
    "  # Remove duplicate rows (some biosamples produce more than one processed sample)\n",
    "  distinct()"
   ]
  },
  {
   "cell_type": "markdown",
   "metadata": {},
   "source": [
    "### Join all results dataframes\n",
    "\n",
    "Now that we have covered each step that connects a biosample to its processed data output, we can join the dataframes by their common ID columns to produce one dataframe."
   ]
  },
  {
   "cell_type": "code",
   "execution_count": null,
   "metadata": {
    "vscode": {
     "languageId": "r"
    }
   },
   "outputs": [
    {
     "ename": "",
     "evalue": "",
     "output_type": "error",
     "traceback": [
      "\u001b[1;31mFailed to start the Kernel. \n",
      "\u001b[1;31mError in loadNamespace(x) : there is no package called ‘IRkernel’\n",
      "\u001b[1;31mCalls: loadNamespace -> withRestarts -> withOneRestart -> doWithOneRestart\n",
      "\u001b[1;31mExecution halted. \n",
      "\u001b[1;31mView Jupyter <a href='command:jupyter.viewOutput'>log</a> for further details."
     ]
    }
   ],
   "source": [
    "# Starting from the biosample dataframe...\n",
    "nom_objects_joined <- nom_biosample_df %>%\n",
    "  \n",
    "  # Rename biosample columns with the prefix \"bsm\" for clarity\n",
    "  rename_with(~ paste0(\"bsm.\", .x)) %>%\n",
    "  \n",
    "  # Rename sample processing columns with the prefix \"omprc\"\n",
    "  # Join records where the biosample ID is the input to the sample processing\n",
    "  full_join(rename_with(nom_omprc_df, ~ paste0(\"omprc.\", .x)), \n",
    "            by = join_by(bsm.id == omprc.has_input),\n",
    "            keep = TRUE) %>%\n",
    "  \n",
    "  # Rename raw data object columns with the prefix \"raw\"\n",
    "  # Join records where the raw data ID is the output of the sample processing\n",
    "  full_join(rename_with(nom_raw_df, ~ paste0(\"raw.\", .x)), \n",
    "            by = join_by(omprc.has_output == raw.id),\n",
    "            keep = TRUE) %>%\n",
    "  \n",
    "  # Rename analysis columns with the prefix \"analysis\"\n",
    "  # Join records where the raw data ID is the input of the analysis process\n",
    "  full_join(rename_with(nom_analysis_df, ~ paste0(\"analysis.\", .x)), \n",
    "            by = join_by(raw.id == analysis.has_input),\n",
    "            keep = TRUE) %>%\n",
    "  \n",
    "  # Rename processed data object columns with the prefix \"dobj\"\n",
    "  # Join records where the processed data ID is the output of the analysis process\n",
    "  full_join(rename_with(nom_dobj_df, ~ paste0(\"dobj.\", .x)), \n",
    "            by = join_by(analysis.has_output== dobj.id),\n",
    "            keep = TRUE) %>%\n",
    "  \n",
    "  # Clean up: remove duplicate rows produced by joins\n",
    "  distinct() %>%\n",
    "  \n",
    "  # Flatten list-columns\n",
    "  # List-columns appear when a field included in the query is not flat (e.g. https://microbiomedata.github.io/nmdc-schema/env_medium/)\n",
    "  unnest(where(is.data.frame), names_sep = \".\", keep_empty = TRUE) %>%\n",
    "  unnest(where(is.data.frame), names_sep = \".\", keep_empty = TRUE) %>%\n",
    "  mutate(across(where(is.list), as.character)) %>%\n",
    "  \n",
    "  # Remove duplicate processed data objects\n",
    "  filter(!duplicated(dobj.md5_checksum))"
   ]
  },
  {
   "cell_type": "markdown",
   "metadata": {},
   "source": [
    "## Label sample types\n",
    "\n",
    "In this notebook we want to explore how natural organic matter varies across sample types. We can label the sample types using the environmental metadata terms included in the biosample query earlier.\n",
    "\n",
    "Environmental metadata terms in the NMDC database are taken from controlled vocabularies, predominantly the Environment Ontology (ENVO). ENVO terms have a term name as well as an ID number (e.g. `peat soil [ENVO:00005774]`). Additional information about ENVO terms and their relationships can be found here: https://www.ebi.ac.uk/ols4/ontologies/envo\n",
    "\n",
    "Here we use the `env_medium` field to identify whether our NOM samples came from soil, sediment, or water. `env_medium` actually contains a multilevel structure to represent the environmental term. `env_medium.has_raw_value` holds a string combining the term name and ID, `env_medium.term.id` contains the term ID number, and `env_medium.term.name` contains the term name, as shown below: "
   ]
  },
  {
   "cell_type": "code",
   "execution_count": null,
   "metadata": {
    "vscode": {
     "languageId": "r"
    }
   },
   "outputs": [
    {
     "ename": "",
     "evalue": "",
     "output_type": "error",
     "traceback": [
      "\u001b[1;31mFailed to start the Kernel. \n",
      "\u001b[1;31mError in loadNamespace(x) : there is no package called ‘IRkernel’\n",
      "\u001b[1;31mCalls: loadNamespace -> withRestarts -> withOneRestart -> doWithOneRestart\n",
      "\u001b[1;31mExecution halted. \n",
      "\u001b[1;31mView Jupyter <a href='command:jupyter.viewOutput'>log</a> for further details."
     ]
    }
   ],
   "source": [
    "nom_objects_joined$bsm.env_medium.has_raw_value[1]"
   ]
  },
  {
   "cell_type": "code",
   "execution_count": null,
   "metadata": {
    "vscode": {
     "languageId": "r"
    }
   },
   "outputs": [
    {
     "ename": "",
     "evalue": "",
     "output_type": "error",
     "traceback": [
      "\u001b[1;31mFailed to start the Kernel. \n",
      "\u001b[1;31mError in loadNamespace(x) : there is no package called ‘IRkernel’\n",
      "\u001b[1;31mCalls: loadNamespace -> withRestarts -> withOneRestart -> doWithOneRestart\n",
      "\u001b[1;31mExecution halted. \n",
      "\u001b[1;31mView Jupyter <a href='command:jupyter.viewOutput'>log</a> for further details."
     ]
    }
   ],
   "source": [
    "nom_objects_joined$bsm.env_medium.term.id[1]"
   ]
  },
  {
   "cell_type": "code",
   "execution_count": null,
   "metadata": {
    "vscode": {
     "languageId": "r"
    }
   },
   "outputs": [
    {
     "ename": "",
     "evalue": "",
     "output_type": "error",
     "traceback": [
      "\u001b[1;31mFailed to start the Kernel. \n",
      "\u001b[1;31mError in loadNamespace(x) : there is no package called ‘IRkernel’\n",
      "\u001b[1;31mCalls: loadNamespace -> withRestarts -> withOneRestart -> doWithOneRestart\n",
      "\u001b[1;31mExecution halted. \n",
      "\u001b[1;31mView Jupyter <a href='command:jupyter.viewOutput'>log</a> for further details."
     ]
    }
   ],
   "source": [
    "nom_objects_joined$bsm.env_medium.term.name[1]"
   ]
  },
  {
   "cell_type": "markdown",
   "metadata": {},
   "source": [
    "Note that all of these fields should be filled out for all samples, however, due to differences in sample metadata submission by users, there may be gaps. Therefore we check multiple fields here to ensure that all samples are labeled."
   ]
  },
  {
   "cell_type": "code",
   "execution_count": null,
   "metadata": {
    "vscode": {
     "languageId": "r"
    }
   },
   "outputs": [
    {
     "ename": "",
     "evalue": "",
     "output_type": "error",
     "traceback": [
      "\u001b[1;31mFailed to start the Kernel. \n",
      "\u001b[1;31mError in loadNamespace(x) : there is no package called ‘IRkernel’\n",
      "\u001b[1;31mCalls: loadNamespace -> withRestarts -> withOneRestart -> doWithOneRestart\n",
      "\u001b[1;31mExecution halted. \n",
      "\u001b[1;31mView Jupyter <a href='command:jupyter.viewOutput'>log</a> for further details."
     ]
    }
   ],
   "source": [
    "nom_objects_joined_labeled <- nom_objects_joined %>%\n",
    "\n",
    "  mutate(bsm.sample_type_manual = case_when(\n",
    "    bsm.env_medium.term.id %in% c(\"ENVO:00001998\", \"ENVO:00002259\", \"ENVO:00002261\", \n",
    "                                  \"ENVO:00005750\", \"ENVO:00005760\", \"ENVO:00005761\", \n",
    "                                  \"ENVO:00005773\", \"ENVO:00005774\", \"ENVO:00005802\", \n",
    "                                  \"ENVO:01001616\") ~ \"soil\",\n",
    "    \n",
    "    bsm.env_medium.term.id %in% c(\"ENVO:00002007\") ~ \"sediment\",\n",
    "    bsm.env_medium.term.id %in% c(\"ENVO:01000017\") ~ \"sand\",\n",
    "    bsm.env_medium.term.id %in% c(\"ENVO:00002042\") ~ \"water\",\n",
    "    \n",
    "    str_detect(bsm.env_medium.term.name, \"soil\") ~ \"soil\",\n",
    "    str_detect(bsm.env_medium.has_raw_value, \"soil\") ~ \"soil\",\n",
    "    str_detect(bsm.env_medium.term.name, \"water\") ~ \"water\"\n",
    "    ))\n",
    "\n",
    "# Cleanup\n",
    "rm(nom_dobj_df, nom_analysis_df, nom_raw_df, nom_omprc_df, nom_biosample_df, nom_objects_joined)"
   ]
  },
  {
   "cell_type": "markdown",
   "metadata": {},
   "source": [
    "## Pull and process results files\n",
    "\n",
    "The processed data objects pulled from the API above contain references to the results files, not the results themselves. We can use the `url` field of the data object class to retrieve the stored data.\n",
    "\n",
    "The NMDC natural organic matter workflow produces a results data table saved as a CSV. We will read the CSV file into R from each data object URL. \n",
    "\n",
    "Note that this step is the most time-consuming; it may take up to 40 minutes."
   ]
  },
  {
   "cell_type": "code",
   "execution_count": null,
   "metadata": {
    "vscode": {
     "languageId": "r"
    }
   },
   "outputs": [
    {
     "ename": "",
     "evalue": "",
     "output_type": "error",
     "traceback": [
      "\u001b[1;31mFailed to start the Kernel. \n",
      "\u001b[1;31mError in loadNamespace(x) : there is no package called ‘IRkernel’\n",
      "\u001b[1;31mCalls: loadNamespace -> withRestarts -> withOneRestart -> doWithOneRestart\n",
      "\u001b[1;31mExecution halted. \n",
      "\u001b[1;31mView Jupyter <a href='command:jupyter.viewOutput'>log</a> for further details."
     ]
    }
   ],
   "source": [
    "processed_data_csvs <- data.frame(data_object_url = nom_objects_joined_labeled$dobj.url) %>%\n",
    "  filter(!is.na(data_object_url)) %>%\n",
    "  mutate(csv_nested = lapply(data_object_url, read.csv))"
   ]
  },
  {
   "cell_type": "markdown",
   "metadata": {},
   "source": [
    "The results table contains a lot of information. In this notebook, we are going to use the confidence score, molecular formula assignment, hydrogen/carbon ratio, and oxygen/carbon ratio columns."
   ]
  },
  {
   "cell_type": "code",
   "execution_count": null,
   "metadata": {
    "vscode": {
     "languageId": "r"
    }
   },
   "outputs": [
    {
     "ename": "",
     "evalue": "",
     "output_type": "error",
     "traceback": [
      "\u001b[1;31mFailed to start the Kernel. \n",
      "\u001b[1;31mError in loadNamespace(x) : there is no package called ‘IRkernel’\n",
      "\u001b[1;31mCalls: loadNamespace -> withRestarts -> withOneRestart -> doWithOneRestart\n",
      "\u001b[1;31mExecution halted. \n",
      "\u001b[1;31mView Jupyter <a href='command:jupyter.viewOutput'>log</a> for further details."
     ]
    }
   ],
   "source": [
    "colnames(processed_data_csvs$csv_nested[[1]])"
   ]
  },
  {
   "cell_type": "markdown",
   "metadata": {},
   "source": [
    "### Select best assignments\n",
    "\n",
    "Rarely, a peak may match more than one molecular formula with high confidence. In these cases there would be more than one row for the peak, with duplicate indices and m/z values but different molecular formulae. In this case we will select the row with the highest confidence score to ensure that peaks are not duplicated within a results file."
   ]
  },
  {
   "cell_type": "code",
   "execution_count": null,
   "metadata": {
    "vscode": {
     "languageId": "r"
    }
   },
   "outputs": [
    {
     "ename": "",
     "evalue": "",
     "output_type": "error",
     "traceback": [
      "\u001b[1;31mFailed to start the Kernel. \n",
      "\u001b[1;31mError in loadNamespace(x) : there is no package called ‘IRkernel’\n",
      "\u001b[1;31mCalls: loadNamespace -> withRestarts -> withOneRestart -> doWithOneRestart\n",
      "\u001b[1;31mExecution halted. \n",
      "\u001b[1;31mView Jupyter <a href='command:jupyter.viewOutput'>log</a> for further details."
     ]
    }
   ],
   "source": [
    "processed_data_csvs <- processed_data_csvs %>%\n",
    "  # For each results dataframe\n",
    "  mutate(csv_nested = lapply(csv_nested, \n",
    "    function(x) {\n",
    "      x %>%\n",
    "        # Keep the row with the highest confidence score for every m/z value\n",
    "        arrange(-Confidence.Score) %>%\n",
    "        distinct(m.z, .keep_all = TRUE)\n",
    "      }\n",
    "    )\n",
    "  )"
   ]
  },
  {
   "cell_type": "markdown",
   "metadata": {},
   "source": [
    "### Quality metrics for processed data\n",
    "\n",
    "We can extract the columns we need from the results table and calculate some quality metrics.\n",
    "\n",
    "Percent Assigned Peaks: The percentage of peaks that were given a molecular formula assignment.\n",
    "\n",
    "Confidence Score: The NMDC NOM workflow is based off of the CoreMS package, which outputs a confidence score for each molecular formula assignment. This allows us to potentially filter out less reliable assignments and move forward with higher confidence molecular formula identifications."
   ]
  },
  {
   "cell_type": "code",
   "execution_count": null,
   "metadata": {
    "vscode": {
     "languageId": "r"
    }
   },
   "outputs": [
    {
     "ename": "",
     "evalue": "",
     "output_type": "error",
     "traceback": [
      "\u001b[1;31mFailed to start the Kernel. \n",
      "\u001b[1;31mError in loadNamespace(x) : there is no package called ‘IRkernel’\n",
      "\u001b[1;31mCalls: loadNamespace -> withRestarts -> withOneRestart -> doWithOneRestart\n",
      "\u001b[1;31mExecution halted. \n",
      "\u001b[1;31mView Jupyter <a href='command:jupyter.viewOutput'>log</a> for further details."
     ]
    }
   ],
   "source": [
    "# Extract relevant columns and calculate some statistics for the processed data\n",
    "processed_data_qc <- processed_data_csvs %>%\n",
    "  \n",
    "  mutate(unassigned_count   = vapply(csv_nested, function(x) sum((x$Molecular.Formula == \"\")), \n",
    "                                     FUN.VALUE = 1, USE.NAMES = FALSE),\n",
    "         \n",
    "         assigned_count     = vapply(csv_nested, function(x) sum((x$Molecular.Formula != \"\")), \n",
    "                                     FUN.VALUE = 1, USE.NAMES = FALSE),\n",
    "         \n",
    "         assigned_perc      = assigned_count / (unassigned_count + assigned_count),\n",
    "         \n",
    "         confidence_scores  = lapply(csv_nested, function(x) x$Confidence.Score))"
   ]
  },
  {
   "cell_type": "code",
   "execution_count": null,
   "metadata": {
    "vscode": {
     "languageId": "r"
    }
   },
   "outputs": [
    {
     "ename": "",
     "evalue": "",
     "output_type": "error",
     "traceback": [
      "\u001b[1;31mFailed to start the Kernel. \n",
      "\u001b[1;31mError in loadNamespace(x) : there is no package called ‘IRkernel’\n",
      "\u001b[1;31mCalls: loadNamespace -> withRestarts -> withOneRestart -> doWithOneRestart\n",
      "\u001b[1;31mExecution halted. \n",
      "\u001b[1;31mView Jupyter <a href='command:jupyter.viewOutput'>log</a> for further details."
     ]
    }
   ],
   "source": [
    "ggplot(processed_data_qc) +\n",
    "  geom_histogram(aes(x = assigned_perc)) +\n",
    "  ggtitle(\"Percent Assigned Peaks for Processed Data Files\") +\n",
    "  xlab(\"Percent of peaks with assigned formula\") +\n",
    "  ylab(\"Number of processed data files\")"
   ]
  },
  {
   "cell_type": "code",
   "execution_count": null,
   "metadata": {
    "vscode": {
     "languageId": "r"
    }
   },
   "outputs": [
    {
     "ename": "",
     "evalue": "",
     "output_type": "error",
     "traceback": [
      "\u001b[1;31mFailed to start the Kernel. \n",
      "\u001b[1;31mError in loadNamespace(x) : there is no package called ‘IRkernel’\n",
      "\u001b[1;31mCalls: loadNamespace -> withRestarts -> withOneRestart -> doWithOneRestart\n",
      "\u001b[1;31mExecution halted. \n",
      "\u001b[1;31mView Jupyter <a href='command:jupyter.viewOutput'>log</a> for further details."
     ]
    }
   ],
   "source": [
    "data.frame(All_Confidence_Scores = unlist(processed_data_qc$confidence_scores)) %>%\n",
    "  ggplot() +\n",
    "    geom_histogram(aes(x = All_Confidence_Scores), bins = 30) +\n",
    "    ggtitle(\"Confidence Scores for All Peak/Formula Assignments\") +\n",
    "    xlab(\"Confidence score\") +\n",
    "    ylab(\"Number of peaks\")"
   ]
  },
  {
   "cell_type": "markdown",
   "metadata": {},
   "source": [
    "We can use the quality metrics to filter our data before moving forward with analysis.\n",
    "\n",
    "First, we will remove samples with less than 30% of their peaks assigned. Then we apply a filter to each remaining data file to remove molecular formula assignments with confidence scores lower than 0.75."
   ]
  },
  {
   "cell_type": "code",
   "execution_count": null,
   "metadata": {
    "vscode": {
     "languageId": "r"
    }
   },
   "outputs": [
    {
     "ename": "",
     "evalue": "",
     "output_type": "error",
     "traceback": [
      "\u001b[1;31mFailed to start the Kernel. \n",
      "\u001b[1;31mError in loadNamespace(x) : there is no package called ‘IRkernel’\n",
      "\u001b[1;31mCalls: loadNamespace -> withRestarts -> withOneRestart -> doWithOneRestart\n",
      "\u001b[1;31mExecution halted. \n",
      "\u001b[1;31mView Jupyter <a href='command:jupyter.viewOutput'>log</a> for further details."
     ]
    }
   ],
   "source": [
    "# Filter out samples with low percent assigned\n",
    "processed_data_qc <- processed_data_qc %>%\n",
    "  filter(assigned_perc > 0.3) %>%\n",
    "  \n",
    "  # Within data, filter out rows with low confidence score\n",
    "  mutate(csv_nested = lapply(csv_nested, function(x) filter(x, Confidence.Score > 0.75))) %>%\n",
    "\n",
    "  # Now that filtering is done, extract the rest of the data we want\n",
    "  mutate(molecular_formulae = lapply(csv_nested, function(x) x$Molecular.Formula),\n",
    "         HC                 = lapply(csv_nested, function(x) x$H.C),\n",
    "         OC                 = lapply(csv_nested, function(x) x$O.C),\n",
    "         # re-extract filtered confidence scores\n",
    "         confidence_scores  = lapply(csv_nested, function(x) x$Confidence.Score)\n",
    "  ) %>%\n",
    "  \n",
    "  # Remove nested dataset column for speed and memory\n",
    "  select(-csv_nested)"
   ]
  },
  {
   "cell_type": "markdown",
   "metadata": {},
   "source": [
    "## Visualizing natural organic matter by sample type\n",
    "\n",
    "First we will see how many processed data objects from each sample type remain after quality filtering."
   ]
  },
  {
   "cell_type": "code",
   "execution_count": null,
   "metadata": {
    "vscode": {
     "languageId": "r"
    }
   },
   "outputs": [
    {
     "ename": "",
     "evalue": "",
     "output_type": "error",
     "traceback": [
      "\u001b[1;31mFailed to start the Kernel. \n",
      "\u001b[1;31mError in loadNamespace(x) : there is no package called ‘IRkernel’\n",
      "\u001b[1;31mCalls: loadNamespace -> withRestarts -> withOneRestart -> doWithOneRestart\n",
      "\u001b[1;31mExecution halted. \n",
      "\u001b[1;31mView Jupyter <a href='command:jupyter.viewOutput'>log</a> for further details."
     ]
    }
   ],
   "source": [
    "processed_data_qc %>%\n",
    "  left_join(select(nom_objects_joined_labeled, dobj.url, bsm.sample_type_manual),\n",
    "              by = join_by(data_object_url == dobj.url)) %>%\n",
    "  pull(bsm.sample_type_manual) %>%\n",
    "  table()"
   ]
  },
  {
   "cell_type": "markdown",
   "metadata": {},
   "source": [
    "Most of the remaining data comes from soil samples. Water has the fewest results remaining. We will use 33 of each type moving forward to visualize all sample types.\n",
    "\n",
    "### Molecular formula heatmap\n",
    "\n",
    "One way to compare samples is to investigate what molecular formulae they have in common. We will visualize this by creating a heatmap with a subset of samples of each type."
   ]
  },
  {
   "cell_type": "code",
   "execution_count": null,
   "metadata": {
    "vscode": {
     "languageId": "r"
    }
   },
   "outputs": [
    {
     "ename": "",
     "evalue": "",
     "output_type": "error",
     "traceback": [
      "\u001b[1;31mFailed to start the Kernel. \n",
      "\u001b[1;31mError in loadNamespace(x) : there is no package called ‘IRkernel’\n",
      "\u001b[1;31mCalls: loadNamespace -> withRestarts -> withOneRestart -> doWithOneRestart\n",
      "\u001b[1;31mExecution halted. \n",
      "\u001b[1;31mView Jupyter <a href='command:jupyter.viewOutput'>log</a> for further details."
     ]
    }
   ],
   "source": [
    "set.seed(10)\n",
    "\n",
    "# Starting from the QC filtered data\n",
    "samples_for_heatmap <- processed_data_qc %>%\n",
    "  \n",
    "  # Add biosample information\n",
    "  left_join(select(nom_objects_joined_labeled, \n",
    "                   dobj.id, dobj.url, bsm.sample_type_manual), #, bsm.part_of, \n",
    "                   #bsm.lat_lon.latitude, bsm.lat_lon.longitude), \n",
    "            by = join_by(data_object_url == dobj.url)) %>%\n",
    "  \n",
    "  # Randomly sample 33 of each sample type (limited by only 33 water samples)\n",
    "  group_by(bsm.sample_type_manual) %>%\n",
    "  slice_sample(n = 33) %>%\n",
    "  ungroup()"
   ]
  },
  {
   "cell_type": "markdown",
   "metadata": {},
   "source": [
    "We also filter down to molecular formulae that appear in at least 5 samples, both to make the plots less computationally demanding and to remove formulae that are less useful for comparing samples."
   ]
  },
  {
   "cell_type": "code",
   "execution_count": null,
   "metadata": {
    "vscode": {
     "languageId": "r"
    }
   },
   "outputs": [
    {
     "ename": "",
     "evalue": "",
     "output_type": "error",
     "traceback": [
      "\u001b[1;31mFailed to start the Kernel. \n",
      "\u001b[1;31mError in loadNamespace(x) : there is no package called ‘IRkernel’\n",
      "\u001b[1;31mCalls: loadNamespace -> withRestarts -> withOneRestart -> doWithOneRestart\n",
      "\u001b[1;31mExecution halted. \n",
      "\u001b[1;31mView Jupyter <a href='command:jupyter.viewOutput'>log</a> for further details."
     ]
    }
   ],
   "source": [
    "filtered_formulae <- samples_for_heatmap$molecular_formulae %>%\n",
    "  # Get unique list of formulae from each results table\n",
    "  lapply(unique) %>%\n",
    "  unlist() %>%\n",
    "  # Count occurrences of each formula\n",
    "  table() %>%\n",
    "  as.data.frame() %>%\n",
    "  setNames(c(\"Formula\", \"Freq\")) %>%\n",
    "  # Remove stray empty strings and filter by frequency\n",
    "  filter(Formula != \"\") %>%\n",
    "  filter(Freq >= 5) %>%\n",
    "  mutate(Formula = as.character(Formula)) %>%\n",
    "  # Pull character vector of formulae appearing at least 5x in the random subsample\n",
    "  pull(Formula)"
   ]
  },
  {
   "cell_type": "markdown",
   "metadata": {},
   "source": [
    "One way to visualize similarities between samples is to investigate their shared formulae. We will construct a presence-absence heatmap showing which formulae are present in which results."
   ]
  },
  {
   "cell_type": "code",
   "execution_count": null,
   "metadata": {
    "vscode": {
     "languageId": "r"
    }
   },
   "outputs": [
    {
     "ename": "",
     "evalue": "",
     "output_type": "error",
     "traceback": [
      "\u001b[1;31mFailed to start the Kernel. \n",
      "\u001b[1;31mError in loadNamespace(x) : there is no package called ‘IRkernel’\n",
      "\u001b[1;31mCalls: loadNamespace -> withRestarts -> withOneRestart -> doWithOneRestart\n",
      "\u001b[1;31mExecution halted. \n",
      "\u001b[1;31mView Jupyter <a href='command:jupyter.viewOutput'>log</a> for further details."
     ]
    }
   ],
   "source": [
    "# Initialize presence absence matrix\n",
    "# Rows are processed data (results data tables)\n",
    "# Columns are molecular formulae\n",
    "\n",
    "holder <- matrix(, nrow = nrow(samples_for_heatmap), ncol = length(filtered_formulae))\n",
    "\n",
    "for (i in 1:nrow(samples_for_heatmap)) {\n",
    "  holder[i,] <- ifelse(filtered_formulae %in% samples_for_heatmap$molecular_formulae[[i]], \n",
    "                       1, 0)\n",
    "}\n",
    "\n",
    "rownames(holder) <- samples_for_heatmap$data_object_url\n",
    "colnames(holder) <- filtered_formulae"
   ]
  },
  {
   "cell_type": "markdown",
   "metadata": {},
   "source": [
    "We will also construct a colored sidebar indicating which sample type each results row comes from. This will help visualize whether or not sample types cluster together."
   ]
  },
  {
   "cell_type": "code",
   "execution_count": null,
   "metadata": {
    "vscode": {
     "languageId": "r"
    }
   },
   "outputs": [
    {
     "ename": "",
     "evalue": "",
     "output_type": "error",
     "traceback": [
      "\u001b[1;31mFailed to start the Kernel. \n",
      "\u001b[1;31mError in loadNamespace(x) : there is no package called ‘IRkernel’\n",
      "\u001b[1;31mCalls: loadNamespace -> withRestarts -> withOneRestart -> doWithOneRestart\n",
      "\u001b[1;31mExecution halted. \n",
      "\u001b[1;31mView Jupyter <a href='command:jupyter.viewOutput'>log</a> for further details."
     ]
    }
   ],
   "source": [
    "# Set up color vector for side grouping column\n",
    "sample_type_color_vec <- case_when(\n",
    "  samples_for_heatmap$bsm.sample_type_manual == \"soil\" ~ \"saddlebrown\",\n",
    "  samples_for_heatmap$bsm.sample_type_manual == \"sediment\" ~ \"slategray\",\n",
    "  samples_for_heatmap$bsm.sample_type_manual == \"water\" ~ \"deepskyblue\",\n",
    "  samples_for_heatmap$bsm.sample_type_manual == \"sand\" ~ \"goldenrod\")"
   ]
  },
  {
   "cell_type": "markdown",
   "metadata": {},
   "source": [
    "The heatmap below shows molecular formulae that are present (orange) or absent (blue) in each processed data record. On the left, the dendrogram shows how the records clustered together based on similarity of molecular formulae. The column on the left shows sample type: blue is water, gray is sediment, yellow is sand, and brown is soil."
   ]
  },
  {
   "cell_type": "code",
   "execution_count": null,
   "metadata": {
    "vscode": {
     "languageId": "r"
    }
   },
   "outputs": [
    {
     "ename": "",
     "evalue": "",
     "output_type": "error",
     "traceback": [
      "\u001b[1;31mFailed to start the Kernel. \n",
      "\u001b[1;31mError in loadNamespace(x) : there is no package called ‘IRkernel’\n",
      "\u001b[1;31mCalls: loadNamespace -> withRestarts -> withOneRestart -> doWithOneRestart\n",
      "\u001b[1;31mExecution halted. \n",
      "\u001b[1;31mView Jupyter <a href='command:jupyter.viewOutput'>log</a> for further details."
     ]
    }
   ],
   "source": [
    "heatmap(holder, Colv = NA, RowSideColors = sample_type_color_vec, \n",
    "        labRow = FALSE, labCol = FALSE, scale = \"none\",\n",
    "        main = \"NOM results clustered by similarity in molecular formulae\",\n",
    "        xlab = \"Molecular formulae\",\n",
    "        ylab = \"Samples\", \n",
    "        keep.dendro = FALSE, \n",
    "        col = c(\"darkblue\", \"orange\"))"
   ]
  },
  {
   "cell_type": "markdown",
   "metadata": {},
   "source": [
    "### Van Krevelen plots\n",
    "\n",
    "Van Krevelen plots are a common way to visualize samples of organic material. Each point on the scatterplot represents a molecular formula. The x-axis represents the hydrogen/carbon ratio of the molecule, and the y-axis represents the oxygen/carbon ratio. In this example, the data has been grouped by sample type rather than plotting all results individually."
   ]
  },
  {
   "cell_type": "code",
   "execution_count": null,
   "metadata": {
    "vscode": {
     "languageId": "r"
    }
   },
   "outputs": [
    {
     "ename": "",
     "evalue": "",
     "output_type": "error",
     "traceback": [
      "\u001b[1;31mFailed to start the Kernel. \n",
      "\u001b[1;31mError in loadNamespace(x) : there is no package called ‘IRkernel’\n",
      "\u001b[1;31mCalls: loadNamespace -> withRestarts -> withOneRestart -> doWithOneRestart\n",
      "\u001b[1;31mExecution halted. \n",
      "\u001b[1;31mView Jupyter <a href='command:jupyter.viewOutput'>log</a> for further details."
     ]
    }
   ],
   "source": [
    "# Using the same subset of samples chosen for the heatmap\n",
    "van_krevelen_data <- samples_for_heatmap %>%\n",
    "  select(bsm.sample_type_manual, HC, OC, molecular_formulae) %>%\n",
    "  unnest() %>% \n",
    "  # Filter down to formulae that appear at least 5 times (see above)\n",
    "  filter(molecular_formulae %in% filtered_formulae) %>% \n",
    "  distinct() \n",
    "\n",
    "ggplot(van_krevelen_data, aes(x = OC, y = HC, color = bsm.sample_type_manual)) +\n",
    "  geom_point(alpha = 0.5, size = 1) +\n",
    "  facet_wrap(~bsm.sample_type_manual, nrow = 1) +\n",
    "  theme(legend.position = \"none\") +\n",
    "  coord_fixed() +\n",
    "  scale_color_manual(\"legend\", values = c(\"soil\" = \"saddlebrown\",\n",
    "                                          \"sediment\" = \"slategray\",\n",
    "                                          \"water\" = \"deepskyblue\",\n",
    "                                          \"sand\" = \"goldenrod\")) +\n",
    "  ggtitle(\"Van Krevelen Plots by Sample Type\") +\n",
    "  xlab(\"Oxygen/Carbon Ratio\") +\n",
    "  ylab(\"Hydrogen/Carbon Ratio\")"
   ]
  },
  {
   "cell_type": "markdown",
   "metadata": {},
   "source": [
    "The water samples appear to have the most identified molecular formulae in the results. This may be because it is easier to extract NOM from water in lab processing. To visualize shared formulae between samples, we can plot all the sample types together."
   ]
  },
  {
   "cell_type": "code",
   "execution_count": null,
   "metadata": {
    "vscode": {
     "languageId": "r"
    }
   },
   "outputs": [
    {
     "ename": "",
     "evalue": "",
     "output_type": "error",
     "traceback": [
      "\u001b[1;31mFailed to start the Kernel. \n",
      "\u001b[1;31mError in loadNamespace(x) : there is no package called ‘IRkernel’\n",
      "\u001b[1;31mCalls: loadNamespace -> withRestarts -> withOneRestart -> doWithOneRestart\n",
      "\u001b[1;31mExecution halted. \n",
      "\u001b[1;31mView Jupyter <a href='command:jupyter.viewOutput'>log</a> for further details."
     ]
    }
   ],
   "source": [
    "van_krevelen_data %>%\n",
    "  mutate(exists = TRUE) %>%\n",
    "  pivot_wider(names_from = bsm.sample_type_manual, values_from = exists) %>%\n",
    "  mutate(across(where(is.logical), ~ !is.na(.x))) %>%\n",
    "  \n",
    "  # Label all shared formulae\n",
    "  mutate(in_soil_only = soil & !sediment & !water & !sand,\n",
    "         in_water_only = !soil & !sediment & water & !sand,\n",
    "         in_sediment_only = !soil & sediment & !water & !sand,\n",
    "         in_sand_only = !soil & !sediment & !water & sand,\n",
    "         in_all_sample_types = sediment & soil & water) %>%\n",
    "  \n",
    "  # Back to long format for ggplot\n",
    "  select(-soil, sediment, water, sand) %>%\n",
    "  pivot_longer(cols = starts_with(\"in_\"), \n",
    "               names_to = \"sample_type\", values_to  = \"presence\") %>%\n",
    "  filter(presence) %>%\n",
    "  \n",
    "  # Make nicer labels for plot\n",
    "  mutate(sample_type = case_when(\n",
    "    sample_type == \"in_soil_only\" ~ \"Unique to soil\",\n",
    "    sample_type == \"in_water_only\" ~ \"Unique to water\",\n",
    "    sample_type == \"in_sediment_only\" ~ \"Unique to sediment\",\n",
    "    sample_type == \"in_sand_only\" ~ \"Unique to sand\",\n",
    "    sample_type == \"in_all_sample_types\" ~ \"Present in all sample types\"\n",
    "  )) %>%\n",
    "  \n",
    "  # Construct scatterplot\n",
    "  ggplot(aes(x = OC, y = HC, color = sample_type)) +\n",
    "    geom_point(alpha = 0.7, size = 1, shape = 1) +\n",
    "    theme(legend.position = \"bottom\",\n",
    "          plot.title = element_text(margin = margin(t = 1, unit = \"cm\"), size = 12)) +\n",
    "    labs(title = \"Van Krevelen: unique and shared molecular formulae by sample type\",\n",
    "         x = \"Oxygen/Carbon Ratio\", y = \"Hydrogen/Carbon Ratio\", color = \"Sample Type\") +\n",
    "    guides(color = guide_legend(override.aes = list(alpha = 1, size = 3))) +\n",
    "    scale_color_manual(\"legend\", \n",
    "                       values = c(\"Unique to soil\" = \"saddlebrown\", \n",
    "                                 \"Unique to water\" = \"deepskyblue\", \n",
    "                                 \"Unique to sediment\" = \"slategray\", \n",
    "                                 \"Unique to sand\" = \"goldenrod\",\n",
    "                                 \"Present in all sample types\" = \"red\")) -> shared_van_krevelen\n",
    "\n",
    "# Add marginal density plots\n",
    "ggMarginal(shared_van_krevelen, groupColor = TRUE, groupFill = TRUE)"
   ]
  }
 ],
 "metadata": {
  "kernelspec": {
   "display_name": "R",
   "language": "R",
   "name": "r"
  },
  "language_info": {
   "name": "R"
  }
 },
 "nbformat": 4,
 "nbformat_minor": 2
}
