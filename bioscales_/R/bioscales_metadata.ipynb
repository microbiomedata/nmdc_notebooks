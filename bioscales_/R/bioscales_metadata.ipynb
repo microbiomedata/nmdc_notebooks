{
    "cells": [
        {
            "cell_type": "markdown",
            "metadata": {},
            "source": "\n"
        },
        {
            "cell_type": "code",
            "execution_count": null,
            "metadata": {},
            "outputs": [],
            "source": [
                "# Load essential libraries\n",
                "knitr::opts_chunk$set(echo = TRUE)\n",
                "library(jsonlite)\n",
                "library(dplyr)\n",
                "library(tidyr)\n",
                "library(ggplot2)\n",
                "if (!require('GGally')) install.packages('GGally'); library(GGally)\n"
            ]
        },
        {
            "cell_type": "markdown",
            "metadata": {},
            "source": [
                "## Get study IDs associated with Bio-Scales sites using API\n",
                "\n"
            ]
        },
        {
            "cell_type": "code",
            "execution_count": null,
            "metadata": {},
            "outputs": [],
            "source": [
                "base_url = \"https://api.microbiomedata.org\"\n",
                "url = paste0(base_url, \"/studies?filter=title.search:Bio-Scales\")\n",
                "\n",
                "response = fromJSON(url)\n",
                "study_ids = response[[\"results\"]][[\"id\"]]\n",
                "print(study_ids)\n"
            ]
        },
        {
            "cell_type": "markdown",
            "metadata": {},
            "source": [
                "## Using the study ids, pull out bio sample IDs \n",
                "\n",
                "Note that we are pulling 100 records at a time until we have retrieved all biosamples for the three study ids above, place the data retrieved for each bio sample into a tibble.\n"
            ]
        },
        {
            "cell_type": "code",
            "execution_count": null,
            "metadata": {},
            "outputs": [],
            "source": [
                "study_id = study_ids[1]\n",
                "\n",
                "# Prepare a tibble to hold results\n",
                "dat_all = tibble()\n",
                "\n",
                "# Set up query\n",
                "per_page = 100  # number of records to retrieve per page\n",
                "filt = paste0(\"part_of:\", study_id) # filter to only get biosamples from the study of interest\n",
                "get_more = TRUE # flag to indicate whether we need to get more records\n",
                "page = 1 # page number to retrieve\n",
                "while (get_more){\n",
                "    # construct the url for the query\n",
                "    url = paste0(\n",
                "        base_url, \n",
                "        \"/biosamples?filter=\", \n",
                "        filt,\n",
                "        \"&per_page=\",\n",
                "        per_page,\n",
                "        \"&page=\",\n",
                "        page)\n",
                "    # get the data\n",
                "    data = fromJSON(url)\n",
                "    data_results = data[['results']] %>% as.data.frame() \n",
                "    # add the data to the tibble\n",
                "    dat_all = bind_rows(dat_all, data_results)\n",
                "    # check if we need to get more records\n",
                "    if (nrow(dat_all) < data[['meta']]['count']){\n",
                "        page = page +1\n",
                "    } else { get_more = FALSE}\n",
                "}\n",
                "\n",
                "glimpse(dat_all)\n"
            ]
        },
        {
            "cell_type": "markdown",
            "metadata": {},
            "source": [
                "## Clean up results\n",
                "Pull out biosample_id and associated chemical metadata; unnest as needed\n"
            ]
        },
        {
            "cell_type": "code",
            "execution_count": null,
            "metadata": {},
            "outputs": [],
            "source": [
                "df <- dat_all %>%\n",
                "    select(\n",
                "        id, ecosystem_subtype,\n",
                "        calcium, magnesium, potassium, nitrate_nitrogen, manganese, zinc\n",
                "    ) %>%\n",
                "    unnest(\n",
                "        cols = c(\n",
                "            ecosystem_subtype,\n",
                "            calcium, magnesium, potassium, nitrate_nitrogen, manganese, zinc\n",
                "        ), names_sep = \"_\") %>%\n",
                "    select(id, ecosystem_subtype, \n",
                "           contains(\"has_numeric_value\"),\n",
                "           contains(\"has_unit\"))\n",
                "glimpse(df)\n"
            ]
        },
        {
            "cell_type": "markdown",
            "metadata": {},
            "source": [
                "## Unit check\n",
                "Check that all units are the same before dropping from dataframe\n"
            ]
        },
        {
            "cell_type": "code",
            "execution_count": null,
            "metadata": {},
            "outputs": [],
            "source": [
                "# Check that all units are the same before dropping from dataframe\n",
                "unit_check <- df %>%\n",
                "    select(contains(\"has_unit\")) %>%\n",
                "    distinct() \n",
                "\n",
                "glimpse(unit_check)\n"
            ]
        },
        {
            "cell_type": "markdown",
            "metadata": {},
            "source": [
                "## More dataframe cleaning\n",
                "Since all units are the same, drop from dataframe; rename columns for easier reading and plotting\n"
            ]
        },
        {
            "cell_type": "code",
            "execution_count": null,
            "metadata": {},
            "outputs": [],
            "source": [
                "df <- df %>%\n",
                "    select(-contains(\"has_unit\")) %>%\n",
                "    rename(\n",
                "        calcium = calcium_has_numeric_value,\n",
                "        magnesium = magnesium_has_numeric_value,\n",
                "        potassium = potassium_has_numeric_value,\n",
                "        nitrate = nitrate_nitrogen_has_numeric_value,\n",
                "        manganese = manganese_has_numeric_value,\n",
                "        zinc = zinc_has_numeric_value\n",
                "    ) \n",
                "glimpse(df)\n"
            ]
        },
        {
            "cell_type": "markdown",
            "metadata": {},
            "source": [
                "## Plot chemical data in a correlation matrix\n",
                "Create paired correlation matrix using GGally package's [ggpairs function](https://ggobi.github.io/ggally/articles/ggpairs.html)\n"
            ]
        },
        {
            "cell_type": "code",
            "execution_count": null,
            "metadata": {},
            "outputs": [],
            "source": [
                "g <- ggpairs(df, \n",
                "        columns = c(3:7), \n",
                "        title = \"Correlation Matrix of Chemicals in Bio-Scales Data\",\n",
                "        lower = list(continuous = wrap(\"points\", alpha = 0.5, size = 0.7)),\n",
                "        upper = list(continuous = wrap(\"cor\", size = 3))) +\n",
                "    theme_bw() +\n",
                "    labs(\n",
                "        x = \"Chemical Concentration (mg/kg)\",\n",
                "        y = \"Chemical Concentration (mg/kg)\"\n",
                "    )\n",
                "g\n"
            ]
        }
    ],
    "metadata": {
        "anaconda-cloud": "",
        "kernelspec": {
            "display_name": "R",
            "langauge": "R",
            "name": "ir"
        },
        "language_info": {
            "codemirror_mode": "r",
            "file_extension": ".r",
            "mimetype": "text/x-r-source",
            "name": "R",
            "pygments_lexer": "r",
            "version": "3.4.1"
        }
    },
    "nbformat": 4,
    "nbformat_minor": 1
}
