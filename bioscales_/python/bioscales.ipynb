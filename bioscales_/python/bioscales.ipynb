{
 "cells": [
  {
   "cell_type": "code",
   "execution_count": 49,
   "id": "b67e88ca-2644-4b92-9929-c8acc0589c08",
   "metadata": {},
   "outputs": [],
   "source": [
    "import requests\n",
    "import pandas as pd\n",
    "import plotly.express as px"
   ]
  },
  {
   "cell_type": "code",
   "execution_count": 2,
   "id": "ed144b8c-d743-478f-b728-6ab52f03d0a0",
   "metadata": {},
   "outputs": [
    {
     "name": "stdout",
     "output_type": "stream",
     "text": [
      "nmdc:sty-11-r2h77870\n"
     ]
    }
   ],
   "source": [
    "base_url = \"https://api.microbiomedata.org\"\n",
    "filt = \"title.search:Bio-Scales\"\n",
    "url = f\"{base_url}/studies?filter={filt}\"\n",
    "resp = requests.get(url)\n",
    "studies = resp.json()[\"results\"]\n",
    "study_ids = []\n",
    "for study in studies:\n",
    "    study_ids.append(study[\"id\"])\n",
    "# Since there is only one value in the results, convert list to a string\n",
    "study = \"\".join(study_ids)\n",
    "print(study)"
   ]
  },
  {
   "cell_type": "code",
   "execution_count": 40,
   "id": "1a754695-341f-4740-9d61-6bd355afdc7c",
   "metadata": {},
   "outputs": [
    {
     "name": "stdout",
     "output_type": "stream",
     "text": [
      "Total number of biosamples: 416\n",
      "{'id': 'nmdc:bsm-11-011z7z70', 'ecosystem_subtype': 'Rhizosphere', 'habitat': 'Rhizosphere soil'}\n"
     ]
    }
   ],
   "source": [
    "per_page = 2000\n",
    "fields = \"ph,calcium,magnesium,potassium,tot_nitro,manganese,zinc,ammonium_nitrogen,nitrate_nitrogen,nitrite_nitrogen,ecosystem_subtype,habitat\"\n",
    "filt = f\"part_of:{study}\"\n",
    "cursor = \"*\"\n",
    "all_results = []\n",
    "\n",
    "# Use cursor pagination to get results\n",
    "while True:\n",
    "    url = f\"{base_url}/biosamples?&filter={filt}&per_page={per_page}&cursor={cursor}&fields={fields}\"\n",
    "    resp = requests.get(url)\n",
    "    data = resp.json()\n",
    "    results = data[\"results\"]\n",
    "    cursor = data[\"meta\"][\"next_cursor\"]\n",
    "    all_results.extend(results)\n",
    "    if not cursor:\n",
    "        break\n",
    "\n",
    "print(f\"Total number of biosamples: {len(all_results)}\")\n",
    "print(all_results[0])"
   ]
  },
  {
   "cell_type": "code",
   "execution_count": 42,
   "id": "513fe714-a790-4085-9f21-7b8fa498097b",
   "metadata": {},
   "outputs": [
    {
     "name": "stdout",
     "output_type": "stream",
     "text": [
      "{'ph': 103, 'calcium': 103, 'magnesium': 103, 'potassium': 103, 'tot_nitro': 103, 'manganese': 103, 'zinc': 103, 'ammonium_nitrogen': 103, 'nitrate_nitrogen': 103, 'nitrite_nitrogen': 103, 'ecosystem_subtype': 416, 'habitat': 416}\n"
     ]
    }
   ],
   "source": [
    "# How many biosamples include the requested fields?\n",
    "# 103 of the 416 returned biosamples appear to have the fields we need for analysis\n",
    "\n",
    "# convert string of fields from request above to dictionary with values set to 0\n",
    "fields_list = fields.split(',')\n",
    "field_counts = {field: 0 for field in fields_list}\n",
    "\n",
    "for field in field_counts.keys():\n",
    "    for samp in all_results:\n",
    "        if field in samp:\n",
    "            field_counts[field] += 1\n",
    "            \n",
    "print(field_counts)"
   ]
  },
  {
   "cell_type": "code",
   "execution_count": 44,
   "id": "4f004562-205b-45bd-8233-edf41a829f99",
   "metadata": {},
   "outputs": [
    {
     "name": "stdout",
     "output_type": "stream",
     "text": [
      "[{'id': 'nmdc:bsm-11-01teww33', 'ecosystem_subtype': 'Botanical garden', 'habitat': 'Soil', 'ph': 6.81, 'calcium': {'has_raw_value': '2320.83 mg/kg', 'has_numeric_value': 2320.83, 'has_unit': 'mg/kg'}, 'magnesium': {'has_raw_value': '458.94 mg/kg', 'has_numeric_value': 458.94, 'has_unit': 'mg/kg'}, 'potassium': {'has_raw_value': '489.767 mg/kg', 'has_numeric_value': 489.767, 'has_unit': 'mg/kg'}, 'tot_nitro': {'has_raw_value': '0.326 Percent', 'has_numeric_value': 0.326, 'has_unit': 'Percent'}, 'manganese': {'has_raw_value': '20.1285 mg/kg', 'has_numeric_value': 20.1285, 'has_unit': 'mg/kg'}, 'zinc': {'has_raw_value': '2.638 mg/kg', 'has_numeric_value': 2.638, 'has_unit': 'mg/kg'}, 'ammonium_nitrogen': {'has_raw_value': '2.329 mg/kg', 'has_numeric_value': 2.329, 'has_unit': 'mg/kg'}, 'nitrate_nitrogen': {'has_raw_value': '2.804 mg/kg', 'has_numeric_value': 2.804, 'has_unit': 'mg/kg'}, 'nitrite_nitrogen': {'has_raw_value': '0 mg/kg', 'has_numeric_value': 0.0, 'has_unit': 'mg/kg'}}, {'id': 'nmdc:bsm-11-08mamh62', 'ecosystem_subtype': 'Botanical garden', 'habitat': 'Soil', 'ph': 6.64, 'calcium': {'has_raw_value': '1945.98 mg/kg', 'has_numeric_value': 1945.98, 'has_unit': 'mg/kg'}, 'magnesium': {'has_raw_value': '351.875 mg/kg', 'has_numeric_value': 351.875, 'has_unit': 'mg/kg'}, 'potassium': {'has_raw_value': '304.965 mg/kg', 'has_numeric_value': 304.965, 'has_unit': 'mg/kg'}, 'tot_nitro': {'has_raw_value': '0.242 Percent', 'has_numeric_value': 0.242, 'has_unit': 'Percent'}, 'manganese': {'has_raw_value': '17.688 mg/kg', 'has_numeric_value': 17.688, 'has_unit': 'mg/kg'}, 'zinc': {'has_raw_value': '2.6576 mg/kg', 'has_numeric_value': 2.6576, 'has_unit': 'mg/kg'}, 'ammonium_nitrogen': {'has_raw_value': '1.8015 mg/kg', 'has_numeric_value': 1.8015, 'has_unit': 'mg/kg'}, 'nitrate_nitrogen': {'has_raw_value': '1.698 mg/kg', 'has_numeric_value': 1.698, 'has_unit': 'mg/kg'}, 'nitrite_nitrogen': {'has_raw_value': '0 mg/kg', 'has_numeric_value': 0.0, 'has_unit': 'mg/kg'}}, {'id': 'nmdc:bsm-11-0pp1y564', 'ecosystem_subtype': 'Botanical garden', 'habitat': 'Soil', 'ph': 5.07, 'calcium': {'has_raw_value': '1963.54 mg/kg', 'has_numeric_value': 1963.54, 'has_unit': 'mg/kg'}, 'magnesium': {'has_raw_value': '399.987 mg/kg', 'has_numeric_value': 399.987, 'has_unit': 'mg/kg'}, 'potassium': {'has_raw_value': '181.069 mg/kg', 'has_numeric_value': 181.069, 'has_unit': 'mg/kg'}, 'tot_nitro': {'has_raw_value': '0.342 Percent', 'has_numeric_value': 0.342, 'has_unit': 'Percent'}, 'manganese': {'has_raw_value': '28.8914 mg/kg', 'has_numeric_value': 28.8914, 'has_unit': 'mg/kg'}, 'zinc': {'has_raw_value': '5.5845 mg/kg', 'has_numeric_value': 5.5845, 'has_unit': 'mg/kg'}, 'ammonium_nitrogen': {'has_raw_value': '10.677 mg/kg', 'has_numeric_value': 10.677, 'has_unit': 'mg/kg'}, 'nitrate_nitrogen': {'has_raw_value': '18.1475 mg/kg', 'has_numeric_value': 18.1475, 'has_unit': 'mg/kg'}, 'nitrite_nitrogen': {'has_raw_value': '0 mg/kg', 'has_numeric_value': 0.0, 'has_unit': 'mg/kg'}}, {'id': 'nmdc:bsm-11-1dpnqj50', 'ecosystem_subtype': 'Botanical garden', 'habitat': 'Soil', 'ph': 6.63, 'calcium': {'has_raw_value': '2217.89 mg/kg', 'has_numeric_value': 2217.89, 'has_unit': 'mg/kg'}, 'magnesium': {'has_raw_value': '439.551 mg/kg', 'has_numeric_value': 439.551, 'has_unit': 'mg/kg'}, 'potassium': {'has_raw_value': '153.687 mg/kg', 'has_numeric_value': 153.687, 'has_unit': 'mg/kg'}, 'tot_nitro': {'has_raw_value': '0.232 Percent', 'has_numeric_value': 0.232, 'has_unit': 'Percent'}, 'manganese': {'has_raw_value': '20.3547 mg/kg', 'has_numeric_value': 20.3547, 'has_unit': 'mg/kg'}, 'zinc': {'has_raw_value': '1.8725 mg/kg', 'has_numeric_value': 1.8725, 'has_unit': 'mg/kg'}, 'ammonium_nitrogen': {'has_raw_value': '2.4445 mg/kg', 'has_numeric_value': 2.4445, 'has_unit': 'mg/kg'}, 'nitrate_nitrogen': {'has_raw_value': '1.919 mg/kg', 'has_numeric_value': 1.919, 'has_unit': 'mg/kg'}, 'nitrite_nitrogen': {'has_raw_value': '0 mg/kg', 'has_numeric_value': 0.0, 'has_unit': 'mg/kg'}}, {'id': 'nmdc:bsm-11-1eybv881', 'ecosystem_subtype': 'Botanical garden', 'habitat': 'Soil', 'ph': 5.35, 'calcium': {'has_raw_value': '2406.67 mg/kg', 'has_numeric_value': 2406.67, 'has_unit': 'mg/kg'}, 'magnesium': {'has_raw_value': '392.849 mg/kg', 'has_numeric_value': 392.849, 'has_unit': 'mg/kg'}, 'potassium': {'has_raw_value': '121.629 mg/kg', 'has_numeric_value': 121.629, 'has_unit': 'mg/kg'}, 'tot_nitro': {'has_raw_value': '0.544 Percent', 'has_numeric_value': 0.544, 'has_unit': 'Percent'}, 'manganese': {'has_raw_value': '36.8924 mg/kg', 'has_numeric_value': 36.8924, 'has_unit': 'mg/kg'}, 'zinc': {'has_raw_value': '7.3694 mg/kg', 'has_numeric_value': 7.3694, 'has_unit': 'mg/kg'}, 'ammonium_nitrogen': {'has_raw_value': '18.656 mg/kg', 'has_numeric_value': 18.656, 'has_unit': 'mg/kg'}, 'nitrate_nitrogen': {'has_raw_value': '9.271 mg/kg', 'has_numeric_value': 9.271, 'has_unit': 'mg/kg'}, 'nitrite_nitrogen': {'has_raw_value': '0 mg/kg', 'has_numeric_value': 0.0, 'has_unit': 'mg/kg'}}, {'id': 'nmdc:bsm-11-1r4br749', 'ecosystem_subtype': 'Botanical garden', 'habitat': 'Soil', 'ph': 6.76, 'calcium': {'has_raw_value': '2749.71 mg/kg', 'has_numeric_value': 2749.71, 'has_unit': 'mg/kg'}, 'magnesium': {'has_raw_value': '519.957 mg/kg', 'has_numeric_value': 519.957, 'has_unit': 'mg/kg'}, 'potassium': {'has_raw_value': '240.767 mg/kg', 'has_numeric_value': 240.767, 'has_unit': 'mg/kg'}, 'tot_nitro': {'has_raw_value': '0.195 Percent', 'has_numeric_value': 0.195, 'has_unit': 'Percent'}, 'manganese': {'has_raw_value': '36.5312 mg/kg', 'has_numeric_value': 36.5312, 'has_unit': 'mg/kg'}, 'zinc': {'has_raw_value': '5.1577 mg/kg', 'has_numeric_value': 5.1577, 'has_unit': 'mg/kg'}, 'ammonium_nitrogen': {'has_raw_value': '4.193 mg/kg', 'has_numeric_value': 4.193, 'has_unit': 'mg/kg'}, 'nitrate_nitrogen': {'has_raw_value': '0 mg/kg', 'has_numeric_value': 0.0, 'has_unit': 'mg/kg'}, 'nitrite_nitrogen': {'has_raw_value': '0 mg/kg', 'has_numeric_value': 0.0, 'has_unit': 'mg/kg'}}, {'id': 'nmdc:bsm-11-1zdsxs32', 'ecosystem_subtype': 'Botanical garden', 'habitat': 'Soil', 'ph': 6.18, 'calcium': {'has_raw_value': '1629.03 mg/kg', 'has_numeric_value': 1629.03, 'has_unit': 'mg/kg'}, 'magnesium': {'has_raw_value': '363.029 mg/kg', 'has_numeric_value': 363.029, 'has_unit': 'mg/kg'}, 'potassium': {'has_raw_value': '183.422 mg/kg', 'has_numeric_value': 183.422, 'has_unit': 'mg/kg'}, 'tot_nitro': {'has_raw_value': '0.254 Percent', 'has_numeric_value': 0.254, 'has_unit': 'Percent'}, 'manganese': {'has_raw_value': '32.4044 mg/kg', 'has_numeric_value': 32.4044, 'has_unit': 'mg/kg'}, 'zinc': {'has_raw_value': '2.7511 mg/kg', 'has_numeric_value': 2.7511, 'has_unit': 'mg/kg'}, 'ammonium_nitrogen': {'has_raw_value': '5.292 mg/kg', 'has_numeric_value': 5.292, 'has_unit': 'mg/kg'}, 'nitrate_nitrogen': {'has_raw_value': '0.345 mg/kg', 'has_numeric_value': 0.345, 'has_unit': 'mg/kg'}, 'nitrite_nitrogen': {'has_raw_value': '0 mg/kg', 'has_numeric_value': 0.0, 'has_unit': 'mg/kg'}}, {'id': 'nmdc:bsm-11-20n7wy48', 'ecosystem_subtype': 'Botanical garden', 'habitat': 'Soil', 'ph': 6.61, 'calcium': {'has_raw_value': '2236.72 mg/kg', 'has_numeric_value': 2236.72, 'has_unit': 'mg/kg'}, 'magnesium': {'has_raw_value': '423.518 mg/kg', 'has_numeric_value': 423.518, 'has_unit': 'mg/kg'}, 'potassium': {'has_raw_value': '148.147 mg/kg', 'has_numeric_value': 148.147, 'has_unit': 'mg/kg'}, 'tot_nitro': {'has_raw_value': '0.224 Percent', 'has_numeric_value': 0.224, 'has_unit': 'Percent'}, 'manganese': {'has_raw_value': '20.9377 mg/kg', 'has_numeric_value': 20.9377, 'has_unit': 'mg/kg'}, 'zinc': {'has_raw_value': '2.3331 mg/kg', 'has_numeric_value': 2.3331, 'has_unit': 'mg/kg'}, 'ammonium_nitrogen': {'has_raw_value': '3.783 mg/kg', 'has_numeric_value': 3.783, 'has_unit': 'mg/kg'}, 'nitrate_nitrogen': {'has_raw_value': '3.086 mg/kg', 'has_numeric_value': 3.086, 'has_unit': 'mg/kg'}, 'nitrite_nitrogen': {'has_raw_value': '0 mg/kg', 'has_numeric_value': 0.0, 'has_unit': 'mg/kg'}}, {'id': 'nmdc:bsm-11-2k7det13', 'ecosystem_subtype': 'Botanical garden', 'habitat': 'Soil', 'ph': 5.47, 'calcium': {'has_raw_value': '2644.35 mg/kg', 'has_numeric_value': 2644.35, 'has_unit': 'mg/kg'}, 'magnesium': {'has_raw_value': '568.66 mg/kg', 'has_numeric_value': 568.66, 'has_unit': 'mg/kg'}, 'potassium': {'has_raw_value': '205.043 mg/kg', 'has_numeric_value': 205.043, 'has_unit': 'mg/kg'}, 'tot_nitro': {'has_raw_value': '0.329 Percent', 'has_numeric_value': 0.329, 'has_unit': 'Percent'}, 'manganese': {'has_raw_value': '67.1221 mg/kg', 'has_numeric_value': 67.1221, 'has_unit': 'mg/kg'}, 'zinc': {'has_raw_value': '8.4669 mg/kg', 'has_numeric_value': 8.4669, 'has_unit': 'mg/kg'}, 'ammonium_nitrogen': {'has_raw_value': '8.6505 mg/kg', 'has_numeric_value': 8.6505, 'has_unit': 'mg/kg'}, 'nitrate_nitrogen': {'has_raw_value': '11.5955 mg/kg', 'has_numeric_value': 11.5955, 'has_unit': 'mg/kg'}, 'nitrite_nitrogen': {'has_raw_value': '0 mg/kg', 'has_numeric_value': 0.0, 'has_unit': 'mg/kg'}}, {'id': 'nmdc:bsm-11-2mb94m91', 'ecosystem_subtype': 'Botanical garden', 'habitat': 'Soil', 'ph': 6.37, 'calcium': {'has_raw_value': '2449.89 mg/kg', 'has_numeric_value': 2449.89, 'has_unit': 'mg/kg'}, 'magnesium': {'has_raw_value': '450.242 mg/kg', 'has_numeric_value': 450.242, 'has_unit': 'mg/kg'}, 'potassium': {'has_raw_value': '255.944 mg/kg', 'has_numeric_value': 255.944, 'has_unit': 'mg/kg'}, 'tot_nitro': {'has_raw_value': '0.374 Percent', 'has_numeric_value': 0.374, 'has_unit': 'Percent'}, 'manganese': {'has_raw_value': '26.1187 mg/kg', 'has_numeric_value': 26.1187, 'has_unit': 'mg/kg'}, 'zinc': {'has_raw_value': '4.4023 mg/kg', 'has_numeric_value': 4.4023, 'has_unit': 'mg/kg'}, 'ammonium_nitrogen': {'has_raw_value': '3.9165 mg/kg', 'has_numeric_value': 3.9165, 'has_unit': 'mg/kg'}, 'nitrate_nitrogen': {'has_raw_value': '2.0535 mg/kg', 'has_numeric_value': 2.0535, 'has_unit': 'mg/kg'}, 'nitrite_nitrogen': {'has_raw_value': '0 mg/kg', 'has_numeric_value': 0.0, 'has_unit': 'mg/kg'}}, {'id': 'nmdc:bsm-11-2q2qmz79', 'ecosystem_subtype': 'Botanical garden', 'habitat': 'Soil', 'ph': 6.41, 'calcium': {'has_raw_value': '1287.48 mg/kg', 'has_numeric_value': 1287.48, 'has_unit': 'mg/kg'}, 'magnesium': {'has_raw_value': '250.941 mg/kg', 'has_numeric_value': 250.941, 'has_unit': 'mg/kg'}, 'potassium': {'has_raw_value': '129.847 mg/kg', 'has_numeric_value': 129.847, 'has_unit': 'mg/kg'}, 'tot_nitro': {'has_raw_value': '0.261 Percent', 'has_numeric_value': 0.261, 'has_unit': 'Percent'}, 'manganese': {'has_raw_value': '16.0294 mg/kg', 'has_numeric_value': 16.0294, 'has_unit': 'mg/kg'}, 'zinc': {'has_raw_value': '1.265 mg/kg', 'has_numeric_value': 1.265, 'has_unit': 'mg/kg'}, 'ammonium_nitrogen': {'has_raw_value': '3.8565 mg/kg', 'has_numeric_value': 3.8565, 'has_unit': 'mg/kg'}, 'nitrate_nitrogen': {'has_raw_value': '0.542 mg/kg', 'has_numeric_value': 0.542, 'has_unit': 'mg/kg'}, 'nitrite_nitrogen': {'has_raw_value': '0 mg/kg', 'has_numeric_value': 0.0, 'has_unit': 'mg/kg'}}, {'id': 'nmdc:bsm-11-35peqt55', 'ecosystem_subtype': 'Botanical garden', 'habitat': 'Soil', 'ph': 5.68, 'calcium': {'has_raw_value': '2481.96 mg/kg', 'has_numeric_value': 2481.96, 'has_unit': 'mg/kg'}, 'magnesium': {'has_raw_value': '524.971 mg/kg', 'has_numeric_value': 524.971, 'has_unit': 'mg/kg'}, 'potassium': {'has_raw_value': '319.684 mg/kg', 'has_numeric_value': 319.684, 'has_unit': 'mg/kg'}, 'tot_nitro': {'has_raw_value': '0.303 Percent', 'has_numeric_value': 0.303, 'has_unit': 'Percent'}, 'manganese': {'has_raw_value': '50.9719 mg/kg', 'has_numeric_value': 50.9719, 'has_unit': 'mg/kg'}, 'zinc': {'has_raw_value': '9.8175 mg/kg', 'has_numeric_value': 9.8175, 'has_unit': 'mg/kg'}, 'ammonium_nitrogen': {'has_raw_value': '8.5 mg/kg', 'has_numeric_value': 8.5, 'has_unit': 'mg/kg'}, 'nitrate_nitrogen': {'has_raw_value': '20.4215 mg/kg', 'has_numeric_value': 20.4215, 'has_unit': 'mg/kg'}, 'nitrite_nitrogen': {'has_raw_value': '0 mg/kg', 'has_numeric_value': 0.0, 'has_unit': 'mg/kg'}}, {'id': 'nmdc:bsm-11-3ekmcr15', 'ecosystem_subtype': 'Botanical garden', 'habitat': 'Soil', 'ph': 5.12, 'calcium': {'has_raw_value': '1510 mg/kg', 'has_numeric_value': 1510.0, 'has_unit': 'mg/kg'}, 'magnesium': {'has_raw_value': '235.425 mg/kg', 'has_numeric_value': 235.425, 'has_unit': 'mg/kg'}, 'potassium': {'has_raw_value': '217.438 mg/kg', 'has_numeric_value': 217.438, 'has_unit': 'mg/kg'}, 'tot_nitro': {'has_raw_value': '0.688 Percent', 'has_numeric_value': 0.688, 'has_unit': 'Percent'}, 'manganese': {'has_raw_value': '21.7039 mg/kg', 'has_numeric_value': 21.7039, 'has_unit': 'mg/kg'}, 'zinc': {'has_raw_value': '6.1502 mg/kg', 'has_numeric_value': 6.1502, 'has_unit': 'mg/kg'}, 'ammonium_nitrogen': {'has_raw_value': '25.639 mg/kg', 'has_numeric_value': 25.639, 'has_unit': 'mg/kg'}, 'nitrate_nitrogen': {'has_raw_value': '25.9235 mg/kg', 'has_numeric_value': 25.9235, 'has_unit': 'mg/kg'}, 'nitrite_nitrogen': {'has_raw_value': '0 mg/kg', 'has_numeric_value': 0.0, 'has_unit': 'mg/kg'}}, {'id': 'nmdc:bsm-11-3t0sfk18', 'ecosystem_subtype': 'Botanical garden', 'habitat': 'Soil', 'ph': 5.86, 'calcium': {'has_raw_value': '2571.42 mg/kg', 'has_numeric_value': 2571.42, 'has_unit': 'mg/kg'}, 'magnesium': {'has_raw_value': '437.842 mg/kg', 'has_numeric_value': 437.842, 'has_unit': 'mg/kg'}, 'potassium': {'has_raw_value': '233.794 mg/kg', 'has_numeric_value': 233.794, 'has_unit': 'mg/kg'}, 'tot_nitro': {'has_raw_value': '0.296 Percent', 'has_numeric_value': 0.296, 'has_unit': 'Percent'}, 'manganese': {'has_raw_value': '45.54 mg/kg', 'has_numeric_value': 45.54, 'has_unit': 'mg/kg'}, 'zinc': {'has_raw_value': '9.6995 mg/kg', 'has_numeric_value': 9.6995, 'has_unit': 'mg/kg'}, 'ammonium_nitrogen': {'has_raw_value': '9.1955 mg/kg', 'has_numeric_value': 9.1955, 'has_unit': 'mg/kg'}, 'nitrate_nitrogen': {'has_raw_value': '20.428 mg/kg', 'has_numeric_value': 20.428, 'has_unit': 'mg/kg'}, 'nitrite_nitrogen': {'has_raw_value': '0 mg/kg', 'has_numeric_value': 0.0, 'has_unit': 'mg/kg'}}, {'id': 'nmdc:bsm-11-3x6bd477', 'ecosystem_subtype': 'Botanical garden', 'habitat': 'Soil', 'ph': 6.7, 'calcium': {'has_raw_value': '2720.05 mg/kg', 'has_numeric_value': 2720.05, 'has_unit': 'mg/kg'}, 'magnesium': {'has_raw_value': '477.527 mg/kg', 'has_numeric_value': 477.527, 'has_unit': 'mg/kg'}, 'potassium': {'has_raw_value': '362.021 mg/kg', 'has_numeric_value': 362.021, 'has_unit': 'mg/kg'}, 'tot_nitro': {'has_raw_value': '0.316 Percent', 'has_numeric_value': 0.316, 'has_unit': 'Percent'}, 'manganese': {'has_raw_value': '28.0189 mg/kg', 'has_numeric_value': 28.0189, 'has_unit': 'mg/kg'}, 'zinc': {'has_raw_value': '4.6939 mg/kg', 'has_numeric_value': 4.6939, 'has_unit': 'mg/kg'}, 'ammonium_nitrogen': {'has_raw_value': '3.517 mg/kg', 'has_numeric_value': 3.517, 'has_unit': 'mg/kg'}, 'nitrate_nitrogen': {'has_raw_value': '1.3175 mg/kg', 'has_numeric_value': 1.3175, 'has_unit': 'mg/kg'}, 'nitrite_nitrogen': {'has_raw_value': '0 mg/kg', 'has_numeric_value': 0.0, 'has_unit': 'mg/kg'}}, {'id': 'nmdc:bsm-11-4stmk668', 'ecosystem_subtype': 'Botanical garden', 'habitat': 'Soil', 'ph': 7.18, 'calcium': {'has_raw_value': '1860.34 mg/kg', 'has_numeric_value': 1860.34, 'has_unit': 'mg/kg'}, 'magnesium': {'has_raw_value': '337.385 mg/kg', 'has_numeric_value': 337.385, 'has_unit': 'mg/kg'}, 'potassium': {'has_raw_value': '499.004 mg/kg', 'has_numeric_value': 499.004, 'has_unit': 'mg/kg'}, 'tot_nitro': {'has_raw_value': '0.081 Percent', 'has_numeric_value': 0.081, 'has_unit': 'Percent'}, 'manganese': {'has_raw_value': '16.0681 mg/kg', 'has_numeric_value': 16.0681, 'has_unit': 'mg/kg'}, 'zinc': {'has_raw_value': '4.2715 mg/kg', 'has_numeric_value': 4.2715, 'has_unit': 'mg/kg'}, 'ammonium_nitrogen': {'has_raw_value': '2.998 mg/kg', 'has_numeric_value': 2.998, 'has_unit': 'mg/kg'}, 'nitrate_nitrogen': {'has_raw_value': '0.318 mg/kg', 'has_numeric_value': 0.318, 'has_unit': 'mg/kg'}, 'nitrite_nitrogen': {'has_raw_value': '0 mg/kg', 'has_numeric_value': 0.0, 'has_unit': 'mg/kg'}}, {'id': 'nmdc:bsm-11-52bf8107', 'ecosystem_subtype': 'Botanical garden', 'habitat': 'Soil', 'ph': 5.48, 'calcium': {'has_raw_value': '2831.11 mg/kg', 'has_numeric_value': 2831.11, 'has_unit': 'mg/kg'}, 'magnesium': {'has_raw_value': '472.697 mg/kg', 'has_numeric_value': 472.697, 'has_unit': 'mg/kg'}, 'potassium': {'has_raw_value': '420.875 mg/kg', 'has_numeric_value': 420.875, 'has_unit': 'mg/kg'}, 'tot_nitro': {'has_raw_value': '0.363 Percent', 'has_numeric_value': 0.363, 'has_unit': 'Percent'}, 'manganese': {'has_raw_value': '60.8382 mg/kg', 'has_numeric_value': 60.8382, 'has_unit': 'mg/kg'}, 'zinc': {'has_raw_value': '9.8456 mg/kg', 'has_numeric_value': 9.8456, 'has_unit': 'mg/kg'}, 'ammonium_nitrogen': {'has_raw_value': '9.483 mg/kg', 'has_numeric_value': 9.483, 'has_unit': 'mg/kg'}, 'nitrate_nitrogen': {'has_raw_value': '14.482 mg/kg', 'has_numeric_value': 14.482, 'has_unit': 'mg/kg'}, 'nitrite_nitrogen': {'has_raw_value': '0 mg/kg', 'has_numeric_value': 0.0, 'has_unit': 'mg/kg'}}, {'id': 'nmdc:bsm-11-535b4v37', 'ecosystem_subtype': 'Botanical garden', 'habitat': 'Soil', 'ph': 5.17, 'calcium': {'has_raw_value': '2141 mg/kg', 'has_numeric_value': 2141.0, 'has_unit': 'mg/kg'}, 'magnesium': {'has_raw_value': '391.663 mg/kg', 'has_numeric_value': 391.663, 'has_unit': 'mg/kg'}, 'potassium': {'has_raw_value': '150.959 mg/kg', 'has_numeric_value': 150.959, 'has_unit': 'mg/kg'}, 'tot_nitro': {'has_raw_value': '0.471 Percent', 'has_numeric_value': 0.471, 'has_unit': 'Percent'}, 'manganese': {'has_raw_value': '31.6289 mg/kg', 'has_numeric_value': 31.6289, 'has_unit': 'mg/kg'}, 'zinc': {'has_raw_value': '7.0343 mg/kg', 'has_numeric_value': 7.0343, 'has_unit': 'mg/kg'}, 'ammonium_nitrogen': {'has_raw_value': '12.15 mg/kg', 'has_numeric_value': 12.15, 'has_unit': 'mg/kg'}, 'nitrate_nitrogen': {'has_raw_value': '18.951 mg/kg', 'has_numeric_value': 18.951, 'has_unit': 'mg/kg'}, 'nitrite_nitrogen': {'has_raw_value': '0 mg/kg', 'has_numeric_value': 0.0, 'has_unit': 'mg/kg'}}, {'id': 'nmdc:bsm-11-54rdaf84', 'ecosystem_subtype': 'Botanical garden', 'habitat': 'Soil', 'ph': 6.66, 'calcium': {'has_raw_value': '2092.65 mg/kg', 'has_numeric_value': 2092.65, 'has_unit': 'mg/kg'}, 'magnesium': {'has_raw_value': '421.19 mg/kg', 'has_numeric_value': 421.19, 'has_unit': 'mg/kg'}, 'potassium': {'has_raw_value': '150.225 mg/kg', 'has_numeric_value': 150.225, 'has_unit': 'mg/kg'}, 'tot_nitro': {'has_raw_value': '0.261 Percent', 'has_numeric_value': 0.261, 'has_unit': 'Percent'}, 'manganese': {'has_raw_value': '19.3685 mg/kg', 'has_numeric_value': 19.3685, 'has_unit': 'mg/kg'}, 'zinc': {'has_raw_value': '1.9367 mg/kg', 'has_numeric_value': 1.9367, 'has_unit': 'mg/kg'}, 'ammonium_nitrogen': {'has_raw_value': '3.4185 mg/kg', 'has_numeric_value': 3.4185, 'has_unit': 'mg/kg'}, 'nitrate_nitrogen': {'has_raw_value': '1.9945 mg/kg', 'has_numeric_value': 1.9945, 'has_unit': 'mg/kg'}, 'nitrite_nitrogen': {'has_raw_value': '0 mg/kg', 'has_numeric_value': 0.0, 'has_unit': 'mg/kg'}}, {'id': 'nmdc:bsm-11-5nhz3402', 'ecosystem_subtype': 'Botanical garden', 'habitat': 'Soil', 'ph': 5.58, 'calcium': {'has_raw_value': '2561.92 mg/kg', 'has_numeric_value': 2561.92, 'has_unit': 'mg/kg'}, 'magnesium': {'has_raw_value': '505.921 mg/kg', 'has_numeric_value': 505.921, 'has_unit': 'mg/kg'}, 'potassium': {'has_raw_value': '314.649 mg/kg', 'has_numeric_value': 314.649, 'has_unit': 'mg/kg'}, 'tot_nitro': {'has_raw_value': '0.337 Percent', 'has_numeric_value': 0.337, 'has_unit': 'Percent'}, 'manganese': {'has_raw_value': '64.4016 mg/kg', 'has_numeric_value': 64.4016, 'has_unit': 'mg/kg'}, 'zinc': {'has_raw_value': '10.2429 mg/kg', 'has_numeric_value': 10.2429, 'has_unit': 'mg/kg'}, 'ammonium_nitrogen': {'has_raw_value': '8.3295 mg/kg', 'has_numeric_value': 8.3295, 'has_unit': 'mg/kg'}, 'nitrate_nitrogen': {'has_raw_value': '27.324 mg/kg', 'has_numeric_value': 27.324, 'has_unit': 'mg/kg'}, 'nitrite_nitrogen': {'has_raw_value': '0 mg/kg', 'has_numeric_value': 0.0, 'has_unit': 'mg/kg'}}, {'id': 'nmdc:bsm-11-5w16mg36', 'ecosystem_subtype': 'Botanical garden', 'habitat': 'Soil', 'ph': 5.63, 'calcium': {'has_raw_value': '2257.22 mg/kg', 'has_numeric_value': 2257.22, 'has_unit': 'mg/kg'}, 'magnesium': {'has_raw_value': '395.375 mg/kg', 'has_numeric_value': 395.375, 'has_unit': 'mg/kg'}, 'potassium': {'has_raw_value': '225.714 mg/kg', 'has_numeric_value': 225.714, 'has_unit': 'mg/kg'}, 'tot_nitro': {'has_raw_value': '0.318 Percent', 'has_numeric_value': 0.318, 'has_unit': 'Percent'}, 'manganese': {'has_raw_value': '38.9692 mg/kg', 'has_numeric_value': 38.9692, 'has_unit': 'mg/kg'}, 'zinc': {'has_raw_value': '6.5758 mg/kg', 'has_numeric_value': 6.5758, 'has_unit': 'mg/kg'}, 'ammonium_nitrogen': {'has_raw_value': '15.59 mg/kg', 'has_numeric_value': 15.59, 'has_unit': 'mg/kg'}, 'nitrate_nitrogen': {'has_raw_value': '21.7185 mg/kg', 'has_numeric_value': 21.7185, 'has_unit': 'mg/kg'}, 'nitrite_nitrogen': {'has_raw_value': '0 mg/kg', 'has_numeric_value': 0.0, 'has_unit': 'mg/kg'}}, {'id': 'nmdc:bsm-11-66de0v28', 'ecosystem_subtype': 'Botanical garden', 'habitat': 'Soil', 'ph': 5.39, 'calcium': {'has_raw_value': '2552.6 mg/kg', 'has_numeric_value': 2552.6, 'has_unit': 'mg/kg'}, 'magnesium': {'has_raw_value': '434.396 mg/kg', 'has_numeric_value': 434.396, 'has_unit': 'mg/kg'}, 'potassium': {'has_raw_value': '257.938 mg/kg', 'has_numeric_value': 257.938, 'has_unit': 'mg/kg'}, 'tot_nitro': {'has_raw_value': '0.34 Percent', 'has_numeric_value': 0.34, 'has_unit': 'Percent'}, 'manganese': {'has_raw_value': '51.9587 mg/kg', 'has_numeric_value': 51.9587, 'has_unit': 'mg/kg'}, 'zinc': {'has_raw_value': '7.2942 mg/kg', 'has_numeric_value': 7.2942, 'has_unit': 'mg/kg'}, 'ammonium_nitrogen': {'has_raw_value': '8.4845 mg/kg', 'has_numeric_value': 8.4845, 'has_unit': 'mg/kg'}, 'nitrate_nitrogen': {'has_raw_value': '15 mg/kg', 'has_numeric_value': 15.0, 'has_unit': 'mg/kg'}, 'nitrite_nitrogen': {'has_raw_value': '0 mg/kg', 'has_numeric_value': 0.0, 'has_unit': 'mg/kg'}}, {'id': 'nmdc:bsm-11-6hgyxc93', 'ecosystem_subtype': 'Botanical garden', 'habitat': 'Soil', 'ph': 4.85, 'calcium': {'has_raw_value': '1480.06 mg/kg', 'has_numeric_value': 1480.06, 'has_unit': 'mg/kg'}, 'magnesium': {'has_raw_value': '219.335 mg/kg', 'has_numeric_value': 219.335, 'has_unit': 'mg/kg'}, 'potassium': {'has_raw_value': '114.646 mg/kg', 'has_numeric_value': 114.646, 'has_unit': 'mg/kg'}, 'tot_nitro': {'has_raw_value': '0.369 Percent', 'has_numeric_value': 0.369, 'has_unit': 'Percent'}, 'manganese': {'has_raw_value': '24.6956 mg/kg', 'has_numeric_value': 24.6956, 'has_unit': 'mg/kg'}, 'zinc': {'has_raw_value': '2.3316 mg/kg', 'has_numeric_value': 2.3316, 'has_unit': 'mg/kg'}, 'ammonium_nitrogen': {'has_raw_value': '12.972 mg/kg', 'has_numeric_value': 12.972, 'has_unit': 'mg/kg'}, 'nitrate_nitrogen': {'has_raw_value': '9.3675 mg/kg', 'has_numeric_value': 9.3675, 'has_unit': 'mg/kg'}, 'nitrite_nitrogen': {'has_raw_value': '0 mg/kg', 'has_numeric_value': 0.0, 'has_unit': 'mg/kg'}}, {'id': 'nmdc:bsm-11-6m6v8582', 'ecosystem_subtype': 'Botanical garden', 'habitat': 'Soil', 'ph': 6.92, 'calcium': {'has_raw_value': '2152.42 mg/kg', 'has_numeric_value': 2152.42, 'has_unit': 'mg/kg'}, 'magnesium': {'has_raw_value': '418.21 mg/kg', 'has_numeric_value': 418.21, 'has_unit': 'mg/kg'}, 'potassium': {'has_raw_value': '449.091 mg/kg', 'has_numeric_value': 449.091, 'has_unit': 'mg/kg'}, 'tot_nitro': {'has_raw_value': '0.335 Percent', 'has_numeric_value': 0.335, 'has_unit': 'Percent'}, 'manganese': {'has_raw_value': '17.8597 mg/kg', 'has_numeric_value': 17.8597, 'has_unit': 'mg/kg'}, 'zinc': {'has_raw_value': '3.3915 mg/kg', 'has_numeric_value': 3.3915, 'has_unit': 'mg/kg'}, 'ammonium_nitrogen': {'has_raw_value': '2.0665 mg/kg', 'has_numeric_value': 2.0665, 'has_unit': 'mg/kg'}, 'nitrate_nitrogen': {'has_raw_value': '1.1235 mg/kg', 'has_numeric_value': 1.1235, 'has_unit': 'mg/kg'}, 'nitrite_nitrogen': {'has_raw_value': '0 mg/kg', 'has_numeric_value': 0.0, 'has_unit': 'mg/kg'}}, {'id': 'nmdc:bsm-11-6swq9777', 'ecosystem_subtype': 'Botanical garden', 'habitat': 'Soil', 'ph': 5.05, 'calcium': {'has_raw_value': '2293.48 mg/kg', 'has_numeric_value': 2293.48, 'has_unit': 'mg/kg'}, 'magnesium': {'has_raw_value': '379.192 mg/kg', 'has_numeric_value': 379.192, 'has_unit': 'mg/kg'}, 'potassium': {'has_raw_value': '143.954 mg/kg', 'has_numeric_value': 143.954, 'has_unit': 'mg/kg'}, 'tot_nitro': {'has_raw_value': '0.48 Percent', 'has_numeric_value': 0.48, 'has_unit': 'Percent'}, 'manganese': {'has_raw_value': '30.2824 mg/kg', 'has_numeric_value': 30.2824, 'has_unit': 'mg/kg'}, 'zinc': {'has_raw_value': '5.1832 mg/kg', 'has_numeric_value': 5.1832, 'has_unit': 'mg/kg'}, 'ammonium_nitrogen': {'has_raw_value': '11.2045 mg/kg', 'has_numeric_value': 11.2045, 'has_unit': 'mg/kg'}, 'nitrate_nitrogen': {'has_raw_value': '12.703 mg/kg', 'has_numeric_value': 12.703, 'has_unit': 'mg/kg'}, 'nitrite_nitrogen': {'has_raw_value': '0 mg/kg', 'has_numeric_value': 0.0, 'has_unit': 'mg/kg'}}, {'id': 'nmdc:bsm-11-7asn9342', 'ecosystem_subtype': 'Botanical garden', 'habitat': 'Soil', 'ph': 6.7, 'calcium': {'has_raw_value': '2273.27 mg/kg', 'has_numeric_value': 2273.27, 'has_unit': 'mg/kg'}, 'magnesium': {'has_raw_value': '434.138 mg/kg', 'has_numeric_value': 434.138, 'has_unit': 'mg/kg'}, 'potassium': {'has_raw_value': '152.089 mg/kg', 'has_numeric_value': 152.089, 'has_unit': 'mg/kg'}, 'tot_nitro': {'has_raw_value': '0.111 Percent', 'has_numeric_value': 0.111, 'has_unit': 'Percent'}, 'manganese': {'has_raw_value': '21.1449 mg/kg', 'has_numeric_value': 21.1449, 'has_unit': 'mg/kg'}, 'zinc': {'has_raw_value': '2.766 mg/kg', 'has_numeric_value': 2.766, 'has_unit': 'mg/kg'}, 'ammonium_nitrogen': {'has_raw_value': '4.4405 mg/kg', 'has_numeric_value': 4.4405, 'has_unit': 'mg/kg'}, 'nitrate_nitrogen': {'has_raw_value': '2.6265 mg/kg', 'has_numeric_value': 2.6265, 'has_unit': 'mg/kg'}, 'nitrite_nitrogen': {'has_raw_value': '0 mg/kg', 'has_numeric_value': 0.0, 'has_unit': 'mg/kg'}}, {'id': 'nmdc:bsm-11-83t8kn59', 'ecosystem_subtype': 'Botanical garden', 'habitat': 'Soil', 'ph': 5.21, 'calcium': {'has_raw_value': '2459.23 mg/kg', 'has_numeric_value': 2459.23, 'has_unit': 'mg/kg'}, 'magnesium': {'has_raw_value': '476.143 mg/kg', 'has_numeric_value': 476.143, 'has_unit': 'mg/kg'}, 'potassium': {'has_raw_value': '223.981 mg/kg', 'has_numeric_value': 223.981, 'has_unit': 'mg/kg'}, 'tot_nitro': {'has_raw_value': '0.752 Percent', 'has_numeric_value': 0.752, 'has_unit': 'Percent'}, 'manganese': {'has_raw_value': '37.9868 mg/kg', 'has_numeric_value': 37.9868, 'has_unit': 'mg/kg'}, 'zinc': {'has_raw_value': '13.3917 mg/kg', 'has_numeric_value': 13.3917, 'has_unit': 'mg/kg'}, 'ammonium_nitrogen': {'has_raw_value': '17.49 mg/kg', 'has_numeric_value': 17.49, 'has_unit': 'mg/kg'}, 'nitrate_nitrogen': {'has_raw_value': '28.0405 mg/kg', 'has_numeric_value': 28.0405, 'has_unit': 'mg/kg'}, 'nitrite_nitrogen': {'has_raw_value': '0 mg/kg', 'has_numeric_value': 0.0, 'has_unit': 'mg/kg'}}, {'id': 'nmdc:bsm-11-90z66h33', 'ecosystem_subtype': 'Botanical garden', 'habitat': 'Soil', 'ph': 5.04, 'calcium': {'has_raw_value': '2380.02 mg/kg', 'has_numeric_value': 2380.02, 'has_unit': 'mg/kg'}, 'magnesium': {'has_raw_value': '440.041 mg/kg', 'has_numeric_value': 440.041, 'has_unit': 'mg/kg'}, 'potassium': {'has_raw_value': '73.1555 mg/kg', 'has_numeric_value': 73.1555, 'has_unit': 'mg/kg'}, 'tot_nitro': {'has_raw_value': '0.603 Percent', 'has_numeric_value': 0.603, 'has_unit': 'Percent'}, 'manganese': {'has_raw_value': '50.4862 mg/kg', 'has_numeric_value': 50.4862, 'has_unit': 'mg/kg'}, 'zinc': {'has_raw_value': '6.0461 mg/kg', 'has_numeric_value': 6.0461, 'has_unit': 'mg/kg'}, 'ammonium_nitrogen': {'has_raw_value': '18.515 mg/kg', 'has_numeric_value': 18.515, 'has_unit': 'mg/kg'}, 'nitrate_nitrogen': {'has_raw_value': '26.191 mg/kg', 'has_numeric_value': 26.191, 'has_unit': 'mg/kg'}, 'nitrite_nitrogen': {'has_raw_value': '0 mg/kg', 'has_numeric_value': 0.0, 'has_unit': 'mg/kg'}}, {'id': 'nmdc:bsm-11-9413qr84', 'ecosystem_subtype': 'Botanical garden', 'habitat': 'Soil', 'ph': 6.44, 'calcium': {'has_raw_value': '1414.83 mg/kg', 'has_numeric_value': 1414.83, 'has_unit': 'mg/kg'}, 'magnesium': {'has_raw_value': '289.001 mg/kg', 'has_numeric_value': 289.001, 'has_unit': 'mg/kg'}, 'potassium': {'has_raw_value': '109.268 mg/kg', 'has_numeric_value': 109.268, 'has_unit': 'mg/kg'}, 'tot_nitro': {'has_raw_value': '0.05 Percent', 'has_numeric_value': 0.05, 'has_unit': 'Percent'}, 'manganese': {'has_raw_value': '9.5918 mg/kg', 'has_numeric_value': 9.5918, 'has_unit': 'mg/kg'}, 'zinc': {'has_raw_value': '1.1197 mg/kg', 'has_numeric_value': 1.1197, 'has_unit': 'mg/kg'}, 'ammonium_nitrogen': {'has_raw_value': '2.6065 mg/kg', 'has_numeric_value': 2.6065, 'has_unit': 'mg/kg'}, 'nitrate_nitrogen': {'has_raw_value': '0.3755 mg/kg', 'has_numeric_value': 0.3755, 'has_unit': 'mg/kg'}, 'nitrite_nitrogen': {'has_raw_value': '0 mg/kg', 'has_numeric_value': 0.0, 'has_unit': 'mg/kg'}}, {'id': 'nmdc:bsm-11-9k1chb38', 'ecosystem_subtype': 'Botanical garden', 'habitat': 'Soil', 'ph': 5.03, 'calcium': {'has_raw_value': '2059.81 mg/kg', 'has_numeric_value': 2059.81, 'has_unit': 'mg/kg'}, 'magnesium': {'has_raw_value': '356.661 mg/kg', 'has_numeric_value': 356.661, 'has_unit': 'mg/kg'}, 'potassium': {'has_raw_value': '192.34 mg/kg', 'has_numeric_value': 192.34, 'has_unit': 'mg/kg'}, 'tot_nitro': {'has_raw_value': '0.619 Percent', 'has_numeric_value': 0.619, 'has_unit': 'Percent'}, 'manganese': {'has_raw_value': '26.1871 mg/kg', 'has_numeric_value': 26.1871, 'has_unit': 'mg/kg'}, 'zinc': {'has_raw_value': '4.9097 mg/kg', 'has_numeric_value': 4.9097, 'has_unit': 'mg/kg'}, 'ammonium_nitrogen': {'has_raw_value': '14.099 mg/kg', 'has_numeric_value': 14.099, 'has_unit': 'mg/kg'}, 'nitrate_nitrogen': {'has_raw_value': '5.7905 mg/kg', 'has_numeric_value': 5.7905, 'has_unit': 'mg/kg'}, 'nitrite_nitrogen': {'has_raw_value': '0 mg/kg', 'has_numeric_value': 0.0, 'has_unit': 'mg/kg'}}, {'id': 'nmdc:bsm-11-a93af105', 'ecosystem_subtype': 'Botanical garden', 'habitat': 'Soil', 'ph': 4.98, 'calcium': {'has_raw_value': '2213.11 mg/kg', 'has_numeric_value': 2213.11, 'has_unit': 'mg/kg'}, 'magnesium': {'has_raw_value': '456.562 mg/kg', 'has_numeric_value': 456.562, 'has_unit': 'mg/kg'}, 'potassium': {'has_raw_value': '169.452 mg/kg', 'has_numeric_value': 169.452, 'has_unit': 'mg/kg'}, 'tot_nitro': {'has_raw_value': '0.577 Percent', 'has_numeric_value': 0.577, 'has_unit': 'Percent'}, 'manganese': {'has_raw_value': '38.0788 mg/kg', 'has_numeric_value': 38.0788, 'has_unit': 'mg/kg'}, 'zinc': {'has_raw_value': '9.0923 mg/kg', 'has_numeric_value': 9.0923, 'has_unit': 'mg/kg'}, 'ammonium_nitrogen': {'has_raw_value': '14.3565 mg/kg', 'has_numeric_value': 14.3565, 'has_unit': 'mg/kg'}, 'nitrate_nitrogen': {'has_raw_value': '15.816 mg/kg', 'has_numeric_value': 15.816, 'has_unit': 'mg/kg'}, 'nitrite_nitrogen': {'has_raw_value': '0 mg/kg', 'has_numeric_value': 0.0, 'has_unit': 'mg/kg'}}, {'id': 'nmdc:bsm-11-arpk9p10', 'ecosystem_subtype': 'Botanical garden', 'habitat': 'Soil', 'ph': 6.13, 'calcium': {'has_raw_value': '2846.2 mg/kg', 'has_numeric_value': 2846.2, 'has_unit': 'mg/kg'}, 'magnesium': {'has_raw_value': '584.535 mg/kg', 'has_numeric_value': 584.535, 'has_unit': 'mg/kg'}, 'potassium': {'has_raw_value': '293.535 mg/kg', 'has_numeric_value': 293.535, 'has_unit': 'mg/kg'}, 'tot_nitro': {'has_raw_value': '0.275 Percent', 'has_numeric_value': 0.275, 'has_unit': 'Percent'}, 'manganese': {'has_raw_value': '47.9096 mg/kg', 'has_numeric_value': 47.9096, 'has_unit': 'mg/kg'}, 'zinc': {'has_raw_value': '12.4877 mg/kg', 'has_numeric_value': 12.4877, 'has_unit': 'mg/kg'}, 'ammonium_nitrogen': {'has_raw_value': '7.2585 mg/kg', 'has_numeric_value': 7.2585, 'has_unit': 'mg/kg'}, 'nitrate_nitrogen': {'has_raw_value': '24.361 mg/kg', 'has_numeric_value': 24.361, 'has_unit': 'mg/kg'}, 'nitrite_nitrogen': {'has_raw_value': '0.565 mg/kg', 'has_numeric_value': 0.565, 'has_unit': 'mg/kg'}}, {'id': 'nmdc:bsm-11-axr9kj21', 'ecosystem_subtype': 'Botanical garden', 'habitat': 'Soil', 'ph': 6.64, 'calcium': {'has_raw_value': '2240.05 mg/kg', 'has_numeric_value': 2240.05, 'has_unit': 'mg/kg'}, 'magnesium': {'has_raw_value': '435.555 mg/kg', 'has_numeric_value': 435.555, 'has_unit': 'mg/kg'}, 'potassium': {'has_raw_value': '160.591 mg/kg', 'has_numeric_value': 160.591, 'has_unit': 'mg/kg'}, 'tot_nitro': {'has_raw_value': '0.11 Percent', 'has_numeric_value': 0.11, 'has_unit': 'Percent'}, 'manganese': {'has_raw_value': '22.0105 mg/kg', 'has_numeric_value': 22.0105, 'has_unit': 'mg/kg'}, 'zinc': {'has_raw_value': '2.2636 mg/kg', 'has_numeric_value': 2.2636, 'has_unit': 'mg/kg'}, 'ammonium_nitrogen': {'has_raw_value': '3.1565 mg/kg', 'has_numeric_value': 3.1565, 'has_unit': 'mg/kg'}, 'nitrate_nitrogen': {'has_raw_value': '2.1515 mg/kg', 'has_numeric_value': 2.1515, 'has_unit': 'mg/kg'}, 'nitrite_nitrogen': {'has_raw_value': '0 mg/kg', 'has_numeric_value': 0.0, 'has_unit': 'mg/kg'}}, {'id': 'nmdc:bsm-11-b3802b26', 'ecosystem_subtype': 'Botanical garden', 'habitat': 'Soil', 'ph': 6.71, 'calcium': {'has_raw_value': '1757.29 mg/kg', 'has_numeric_value': 1757.29, 'has_unit': 'mg/kg'}, 'magnesium': {'has_raw_value': '324.19 mg/kg', 'has_numeric_value': 324.19, 'has_unit': 'mg/kg'}, 'potassium': {'has_raw_value': '219.846 mg/kg', 'has_numeric_value': 219.846, 'has_unit': 'mg/kg'}, 'tot_nitro': {'has_raw_value': '0.306 Percent', 'has_numeric_value': 0.306, 'has_unit': 'Percent'}, 'manganese': {'has_raw_value': '15.2033 mg/kg', 'has_numeric_value': 15.2033, 'has_unit': 'mg/kg'}, 'zinc': {'has_raw_value': '2.9199 mg/kg', 'has_numeric_value': 2.9199, 'has_unit': 'mg/kg'}, 'ammonium_nitrogen': {'has_raw_value': '2.7195 mg/kg', 'has_numeric_value': 2.7195, 'has_unit': 'mg/kg'}, 'nitrate_nitrogen': {'has_raw_value': '0.316 mg/kg', 'has_numeric_value': 0.316, 'has_unit': 'mg/kg'}, 'nitrite_nitrogen': {'has_raw_value': '0 mg/kg', 'has_numeric_value': 0.0, 'has_unit': 'mg/kg'}}, {'id': 'nmdc:bsm-11-b4k9w367', 'ecosystem_subtype': 'Botanical garden', 'habitat': 'Soil', 'ph': 5.52, 'calcium': {'has_raw_value': '2480.86 mg/kg', 'has_numeric_value': 2480.86, 'has_unit': 'mg/kg'}, 'magnesium': {'has_raw_value': '514.993 mg/kg', 'has_numeric_value': 514.993, 'has_unit': 'mg/kg'}, 'potassium': {'has_raw_value': '395.775 mg/kg', 'has_numeric_value': 395.775, 'has_unit': 'mg/kg'}, 'tot_nitro': {'has_raw_value': '0.302 Percent', 'has_numeric_value': 0.302, 'has_unit': 'Percent'}, 'manganese': {'has_raw_value': '56.7257 mg/kg', 'has_numeric_value': 56.7257, 'has_unit': 'mg/kg'}, 'zinc': {'has_raw_value': '9.496 mg/kg', 'has_numeric_value': 9.496, 'has_unit': 'mg/kg'}, 'ammonium_nitrogen': {'has_raw_value': '10.46 mg/kg', 'has_numeric_value': 10.46, 'has_unit': 'mg/kg'}, 'nitrate_nitrogen': {'has_raw_value': '25.197 mg/kg', 'has_numeric_value': 25.197, 'has_unit': 'mg/kg'}, 'nitrite_nitrogen': {'has_raw_value': '0 mg/kg', 'has_numeric_value': 0.0, 'has_unit': 'mg/kg'}}, {'id': 'nmdc:bsm-11-b70s9h20', 'ecosystem_subtype': 'Botanical garden', 'habitat': 'Soil', 'ph': 5.09, 'calcium': {'has_raw_value': '1886.08 mg/kg', 'has_numeric_value': 1886.08, 'has_unit': 'mg/kg'}, 'magnesium': {'has_raw_value': '364.595 mg/kg', 'has_numeric_value': 364.595, 'has_unit': 'mg/kg'}, 'potassium': {'has_raw_value': '60.3044 mg/kg', 'has_numeric_value': 60.3044, 'has_unit': 'mg/kg'}, 'tot_nitro': {'has_raw_value': '0.521 Percent', 'has_numeric_value': 0.521, 'has_unit': 'Percent'}, 'manganese': {'has_raw_value': '40.0784 mg/kg', 'has_numeric_value': 40.0784, 'has_unit': 'mg/kg'}, 'zinc': {'has_raw_value': '4.2092 mg/kg', 'has_numeric_value': 4.2092, 'has_unit': 'mg/kg'}, 'ammonium_nitrogen': {'has_raw_value': '13.7945 mg/kg', 'has_numeric_value': 13.7945, 'has_unit': 'mg/kg'}, 'nitrate_nitrogen': {'has_raw_value': '11.0665 mg/kg', 'has_numeric_value': 11.0665, 'has_unit': 'mg/kg'}, 'nitrite_nitrogen': {'has_raw_value': '0 mg/kg', 'has_numeric_value': 0.0, 'has_unit': 'mg/kg'}}, {'id': 'nmdc:bsm-11-bdn1fa14', 'ecosystem_subtype': 'Botanical garden', 'habitat': 'Soil', 'ph': 6.23, 'calcium': {'has_raw_value': '2596 mg/kg', 'has_numeric_value': 2596.0, 'has_unit': 'mg/kg'}, 'magnesium': {'has_raw_value': '456.241 mg/kg', 'has_numeric_value': 456.241, 'has_unit': 'mg/kg'}, 'potassium': {'has_raw_value': '154.895 mg/kg', 'has_numeric_value': 154.895, 'has_unit': 'mg/kg'}, 'tot_nitro': {'has_raw_value': '0.172 Percent', 'has_numeric_value': 0.172, 'has_unit': 'Percent'}, 'manganese': {'has_raw_value': '25.9704 mg/kg', 'has_numeric_value': 25.9704, 'has_unit': 'mg/kg'}, 'zinc': {'has_raw_value': '2.112 mg/kg', 'has_numeric_value': 2.112, 'has_unit': 'mg/kg'}, 'ammonium_nitrogen': {'has_raw_value': '4.844 mg/kg', 'has_numeric_value': 4.844, 'has_unit': 'mg/kg'}, 'nitrate_nitrogen': {'has_raw_value': '2.1 mg/kg', 'has_numeric_value': 2.1, 'has_unit': 'mg/kg'}, 'nitrite_nitrogen': {'has_raw_value': '0.4245 mg/kg', 'has_numeric_value': 0.4245, 'has_unit': 'mg/kg'}}, {'id': 'nmdc:bsm-11-bxtp7j54', 'ecosystem_subtype': 'Botanical garden', 'habitat': 'Soil', 'ph': 4.83, 'calcium': {'has_raw_value': '1660.1 mg/kg', 'has_numeric_value': 1660.1, 'has_unit': 'mg/kg'}, 'magnesium': {'has_raw_value': '307.229 mg/kg', 'has_numeric_value': 307.229, 'has_unit': 'mg/kg'}, 'potassium': {'has_raw_value': '161.602 mg/kg', 'has_numeric_value': 161.602, 'has_unit': 'mg/kg'}, 'tot_nitro': {'has_raw_value': '0.326 Percent', 'has_numeric_value': 0.326, 'has_unit': 'Percent'}, 'manganese': {'has_raw_value': '23.6988 mg/kg', 'has_numeric_value': 23.6988, 'has_unit': 'mg/kg'}, 'zinc': {'has_raw_value': '3.1 mg/kg', 'has_numeric_value': 3.1, 'has_unit': 'mg/kg'}, 'ammonium_nitrogen': {'has_raw_value': '11.8795 mg/kg', 'has_numeric_value': 11.8795, 'has_unit': 'mg/kg'}, 'nitrate_nitrogen': {'has_raw_value': '9.4465 mg/kg', 'has_numeric_value': 9.4465, 'has_unit': 'mg/kg'}, 'nitrite_nitrogen': {'has_raw_value': '0 mg/kg', 'has_numeric_value': 0.0, 'has_unit': 'mg/kg'}}, {'id': 'nmdc:bsm-11-c9458s26', 'ecosystem_subtype': 'Botanical garden', 'habitat': 'Soil', 'ph': 5.41, 'calcium': {'has_raw_value': '2774.35 mg/kg', 'has_numeric_value': 2774.35, 'has_unit': 'mg/kg'}, 'magnesium': {'has_raw_value': '578.148 mg/kg', 'has_numeric_value': 578.148, 'has_unit': 'mg/kg'}, 'potassium': {'has_raw_value': '168.2 mg/kg', 'has_numeric_value': 168.2, 'has_unit': 'mg/kg'}, 'tot_nitro': {'has_raw_value': '0.598 Percent', 'has_numeric_value': 0.598, 'has_unit': 'Percent'}, 'manganese': {'has_raw_value': '48.0908 mg/kg', 'has_numeric_value': 48.0908, 'has_unit': 'mg/kg'}, 'zinc': {'has_raw_value': '13.1545 mg/kg', 'has_numeric_value': 13.1545, 'has_unit': 'mg/kg'}, 'ammonium_nitrogen': {'has_raw_value': '14.5245 mg/kg', 'has_numeric_value': 14.5245, 'has_unit': 'mg/kg'}, 'nitrate_nitrogen': {'has_raw_value': '20.401 mg/kg', 'has_numeric_value': 20.401, 'has_unit': 'mg/kg'}, 'nitrite_nitrogen': {'has_raw_value': '0 mg/kg', 'has_numeric_value': 0.0, 'has_unit': 'mg/kg'}}, {'id': 'nmdc:bsm-11-ce878p31', 'ecosystem_subtype': 'Botanical garden', 'habitat': 'Soil', 'ph': 6.72, 'calcium': {'has_raw_value': '2331.84 mg/kg', 'has_numeric_value': 2331.84, 'has_unit': 'mg/kg'}, 'magnesium': {'has_raw_value': '397.536 mg/kg', 'has_numeric_value': 397.536, 'has_unit': 'mg/kg'}, 'potassium': {'has_raw_value': '251.476 mg/kg', 'has_numeric_value': 251.476, 'has_unit': 'mg/kg'}, 'tot_nitro': {'has_raw_value': '0.433 Percent', 'has_numeric_value': 0.433, 'has_unit': 'Percent'}, 'manganese': {'has_raw_value': '23.085 mg/kg', 'has_numeric_value': 23.085, 'has_unit': 'mg/kg'}, 'zinc': {'has_raw_value': '6.7812 mg/kg', 'has_numeric_value': 6.7812, 'has_unit': 'mg/kg'}, 'ammonium_nitrogen': {'has_raw_value': '8.3015 mg/kg', 'has_numeric_value': 8.3015, 'has_unit': 'mg/kg'}, 'nitrate_nitrogen': {'has_raw_value': '1.403 mg/kg', 'has_numeric_value': 1.403, 'has_unit': 'mg/kg'}, 'nitrite_nitrogen': {'has_raw_value': '0 mg/kg', 'has_numeric_value': 0.0, 'has_unit': 'mg/kg'}}, {'id': 'nmdc:bsm-11-dd8yd668', 'ecosystem_subtype': 'Botanical garden', 'habitat': 'Soil', 'ph': 6.48, 'calcium': {'has_raw_value': '2044.05 mg/kg', 'has_numeric_value': 2044.05, 'has_unit': 'mg/kg'}, 'magnesium': {'has_raw_value': '398.928 mg/kg', 'has_numeric_value': 398.928, 'has_unit': 'mg/kg'}, 'potassium': {'has_raw_value': '184.092 mg/kg', 'has_numeric_value': 184.092, 'has_unit': 'mg/kg'}, 'tot_nitro': {'has_raw_value': '0.327 Percent', 'has_numeric_value': 0.327, 'has_unit': 'Percent'}, 'manganese': {'has_raw_value': '18.3765 mg/kg', 'has_numeric_value': 18.3765, 'has_unit': 'mg/kg'}, 'zinc': {'has_raw_value': '4.2708 mg/kg', 'has_numeric_value': 4.2708, 'has_unit': 'mg/kg'}, 'ammonium_nitrogen': {'has_raw_value': '0 mg/kg', 'has_numeric_value': 0.0, 'has_unit': 'mg/kg'}, 'nitrate_nitrogen': {'has_raw_value': '0.463 mg/kg', 'has_numeric_value': 0.463, 'has_unit': 'mg/kg'}, 'nitrite_nitrogen': {'has_raw_value': '0 mg/kg', 'has_numeric_value': 0.0, 'has_unit': 'mg/kg'}}, {'id': 'nmdc:bsm-11-dnrvw725', 'ecosystem_subtype': 'Botanical garden', 'habitat': 'Soil', 'ph': 5.06, 'calcium': {'has_raw_value': '2025.13 mg/kg', 'has_numeric_value': 2025.13, 'has_unit': 'mg/kg'}, 'magnesium': {'has_raw_value': '337.671 mg/kg', 'has_numeric_value': 337.671, 'has_unit': 'mg/kg'}, 'potassium': {'has_raw_value': '261.145 mg/kg', 'has_numeric_value': 261.145, 'has_unit': 'mg/kg'}, 'tot_nitro': {'has_raw_value': '0.428 Percent', 'has_numeric_value': 0.428, 'has_unit': 'Percent'}, 'manganese': {'has_raw_value': '30.3617 mg/kg', 'has_numeric_value': 30.3617, 'has_unit': 'mg/kg'}, 'zinc': {'has_raw_value': '6.2026 mg/kg', 'has_numeric_value': 6.2026, 'has_unit': 'mg/kg'}, 'ammonium_nitrogen': {'has_raw_value': '13.3995 mg/kg', 'has_numeric_value': 13.3995, 'has_unit': 'mg/kg'}, 'nitrate_nitrogen': {'has_raw_value': '15.848 mg/kg', 'has_numeric_value': 15.848, 'has_unit': 'mg/kg'}, 'nitrite_nitrogen': {'has_raw_value': '0.2485 mg/kg', 'has_numeric_value': 0.2485, 'has_unit': 'mg/kg'}}, {'id': 'nmdc:bsm-11-dsp1a762', 'ecosystem_subtype': 'Botanical garden', 'habitat': 'Soil', 'ph': 5.21, 'calcium': {'has_raw_value': '2413.7 mg/kg', 'has_numeric_value': 2413.7, 'has_unit': 'mg/kg'}, 'magnesium': {'has_raw_value': '421.954 mg/kg', 'has_numeric_value': 421.954, 'has_unit': 'mg/kg'}, 'potassium': {'has_raw_value': '231.502 mg/kg', 'has_numeric_value': 231.502, 'has_unit': 'mg/kg'}, 'tot_nitro': {'has_raw_value': '0.633 Percent', 'has_numeric_value': 0.633, 'has_unit': 'Percent'}, 'manganese': {'has_raw_value': '29.5671 mg/kg', 'has_numeric_value': 29.5671, 'has_unit': 'mg/kg'}, 'zinc': {'has_raw_value': '7.652 mg/kg', 'has_numeric_value': 7.652, 'has_unit': 'mg/kg'}, 'ammonium_nitrogen': {'has_raw_value': '16.1475 mg/kg', 'has_numeric_value': 16.1475, 'has_unit': 'mg/kg'}, 'nitrate_nitrogen': {'has_raw_value': '20.049 mg/kg', 'has_numeric_value': 20.049, 'has_unit': 'mg/kg'}, 'nitrite_nitrogen': {'has_raw_value': '0 mg/kg', 'has_numeric_value': 0.0, 'has_unit': 'mg/kg'}}, {'id': 'nmdc:bsm-11-dvn9nk09', 'ecosystem_subtype': 'Botanical garden', 'habitat': 'Soil', 'ph': 7.02, 'calcium': {'has_raw_value': '2801.61 mg/kg', 'has_numeric_value': 2801.61, 'has_unit': 'mg/kg'}, 'magnesium': {'has_raw_value': '532.26 mg/kg', 'has_numeric_value': 532.26, 'has_unit': 'mg/kg'}, 'potassium': {'has_raw_value': '182.487 mg/kg', 'has_numeric_value': 182.487, 'has_unit': 'mg/kg'}, 'tot_nitro': {'has_raw_value': '0.2 Percent', 'has_numeric_value': 0.2, 'has_unit': 'Percent'}, 'manganese': {'has_raw_value': '36.8497 mg/kg', 'has_numeric_value': 36.8497, 'has_unit': 'mg/kg'}, 'zinc': {'has_raw_value': '7.6784 mg/kg', 'has_numeric_value': 7.6784, 'has_unit': 'mg/kg'}, 'ammonium_nitrogen': {'has_raw_value': '4.1675 mg/kg', 'has_numeric_value': 4.1675, 'has_unit': 'mg/kg'}, 'nitrate_nitrogen': {'has_raw_value': '1.459 mg/kg', 'has_numeric_value': 1.459, 'has_unit': 'mg/kg'}, 'nitrite_nitrogen': {'has_raw_value': '0.98 mg/kg', 'has_numeric_value': 0.98, 'has_unit': 'mg/kg'}}, {'id': 'nmdc:bsm-11-e7hn2484', 'ecosystem_subtype': 'Botanical garden', 'habitat': 'Soil', 'ph': 5.13, 'calcium': {'has_raw_value': '2288.44 mg/kg', 'has_numeric_value': 2288.44, 'has_unit': 'mg/kg'}, 'magnesium': {'has_raw_value': '450.128 mg/kg', 'has_numeric_value': 450.128, 'has_unit': 'mg/kg'}, 'potassium': {'has_raw_value': '272.768 mg/kg', 'has_numeric_value': 272.768, 'has_unit': 'mg/kg'}, 'tot_nitro': {'has_raw_value': '0.491 Percent', 'has_numeric_value': 0.491, 'has_unit': 'Percent'}, 'manganese': {'has_raw_value': '39.2999 mg/kg', 'has_numeric_value': 39.2999, 'has_unit': 'mg/kg'}, 'zinc': {'has_raw_value': '9.2886 mg/kg', 'has_numeric_value': 9.2886, 'has_unit': 'mg/kg'}, 'ammonium_nitrogen': {'has_raw_value': '10.138 mg/kg', 'has_numeric_value': 10.138, 'has_unit': 'mg/kg'}, 'nitrate_nitrogen': {'has_raw_value': '33.2955 mg/kg', 'has_numeric_value': 33.2955, 'has_unit': 'mg/kg'}, 'nitrite_nitrogen': {'has_raw_value': '0 mg/kg', 'has_numeric_value': 0.0, 'has_unit': 'mg/kg'}}, {'id': 'nmdc:bsm-11-eqbpgh61', 'ecosystem_subtype': 'Botanical garden', 'habitat': 'Soil', 'ph': 4.88, 'calcium': {'has_raw_value': '1320.04 mg/kg', 'has_numeric_value': 1320.04, 'has_unit': 'mg/kg'}, 'magnesium': {'has_raw_value': '195.602 mg/kg', 'has_numeric_value': 195.602, 'has_unit': 'mg/kg'}, 'potassium': {'has_raw_value': '146.363 mg/kg', 'has_numeric_value': 146.363, 'has_unit': 'mg/kg'}, 'tot_nitro': {'has_raw_value': '0.527 Percent', 'has_numeric_value': 0.527, 'has_unit': 'Percent'}, 'manganese': {'has_raw_value': '16.6842 mg/kg', 'has_numeric_value': 16.6842, 'has_unit': 'mg/kg'}, 'zinc': {'has_raw_value': '2.7223 mg/kg', 'has_numeric_value': 2.7223, 'has_unit': 'mg/kg'}, 'ammonium_nitrogen': {'has_raw_value': '20.6825 mg/kg', 'has_numeric_value': 20.6825, 'has_unit': 'mg/kg'}, 'nitrate_nitrogen': {'has_raw_value': '12.746 mg/kg', 'has_numeric_value': 12.746, 'has_unit': 'mg/kg'}, 'nitrite_nitrogen': {'has_raw_value': '0 mg/kg', 'has_numeric_value': 0.0, 'has_unit': 'mg/kg'}}, {'id': 'nmdc:bsm-11-ewmanm69', 'ecosystem_subtype': 'Botanical garden', 'habitat': 'Soil', 'ph': 6.48, 'calcium': {'has_raw_value': '1764.86 mg/kg', 'has_numeric_value': 1764.86, 'has_unit': 'mg/kg'}, 'magnesium': {'has_raw_value': '312.3 mg/kg', 'has_numeric_value': 312.3, 'has_unit': 'mg/kg'}, 'potassium': {'has_raw_value': '222.738 mg/kg', 'has_numeric_value': 222.738, 'has_unit': 'mg/kg'}, 'tot_nitro': {'has_raw_value': '0.25 Percent', 'has_numeric_value': 0.25, 'has_unit': 'Percent'}, 'manganese': {'has_raw_value': '14.6228 mg/kg', 'has_numeric_value': 14.6228, 'has_unit': 'mg/kg'}, 'zinc': {'has_raw_value': '3.4332 mg/kg', 'has_numeric_value': 3.4332, 'has_unit': 'mg/kg'}, 'ammonium_nitrogen': {'has_raw_value': '2.1955 mg/kg', 'has_numeric_value': 2.1955, 'has_unit': 'mg/kg'}, 'nitrate_nitrogen': {'has_raw_value': '0.836 mg/kg', 'has_numeric_value': 0.836, 'has_unit': 'mg/kg'}, 'nitrite_nitrogen': {'has_raw_value': '0 mg/kg', 'has_numeric_value': 0.0, 'has_unit': 'mg/kg'}}, {'id': 'nmdc:bsm-11-f07yn383', 'ecosystem_subtype': 'Botanical garden', 'habitat': 'Soil', 'ph': 5.38, 'calcium': {'has_raw_value': '2568.36 mg/kg', 'has_numeric_value': 2568.36, 'has_unit': 'mg/kg'}, 'magnesium': {'has_raw_value': '401.36 mg/kg', 'has_numeric_value': 401.36, 'has_unit': 'mg/kg'}, 'potassium': {'has_raw_value': '233.882 mg/kg', 'has_numeric_value': 233.882, 'has_unit': 'mg/kg'}, 'tot_nitro': {'has_raw_value': '0.455 Percent', 'has_numeric_value': 0.455, 'has_unit': 'Percent'}, 'manganese': {'has_raw_value': '53.8359 mg/kg', 'has_numeric_value': 53.8359, 'has_unit': 'mg/kg'}, 'zinc': {'has_raw_value': '8.171 mg/kg', 'has_numeric_value': 8.171, 'has_unit': 'mg/kg'}, 'ammonium_nitrogen': {'has_raw_value': '11.693 mg/kg', 'has_numeric_value': 11.693, 'has_unit': 'mg/kg'}, 'nitrate_nitrogen': {'has_raw_value': '16.977 mg/kg', 'has_numeric_value': 16.977, 'has_unit': 'mg/kg'}, 'nitrite_nitrogen': {'has_raw_value': '0 mg/kg', 'has_numeric_value': 0.0, 'has_unit': 'mg/kg'}}, {'id': 'nmdc:bsm-11-f2sf9h97', 'ecosystem_subtype': 'Botanical garden', 'habitat': 'Soil', 'ph': 7.0, 'calcium': {'has_raw_value': '2625.84 mg/kg', 'has_numeric_value': 2625.84, 'has_unit': 'mg/kg'}, 'magnesium': {'has_raw_value': '536.746 mg/kg', 'has_numeric_value': 536.746, 'has_unit': 'mg/kg'}, 'potassium': {'has_raw_value': '168.928 mg/kg', 'has_numeric_value': 168.928, 'has_unit': 'mg/kg'}, 'tot_nitro': {'has_raw_value': '0.366 Percent', 'has_numeric_value': 0.366, 'has_unit': 'Percent'}, 'manganese': {'has_raw_value': '56.4224 mg/kg', 'has_numeric_value': 56.4224, 'has_unit': 'mg/kg'}, 'zinc': {'has_raw_value': '4.429 mg/kg', 'has_numeric_value': 4.429, 'has_unit': 'mg/kg'}, 'ammonium_nitrogen': {'has_raw_value': '3.8115 mg/kg', 'has_numeric_value': 3.8115, 'has_unit': 'mg/kg'}, 'nitrate_nitrogen': {'has_raw_value': '0.4135 mg/kg', 'has_numeric_value': 0.4135, 'has_unit': 'mg/kg'}, 'nitrite_nitrogen': {'has_raw_value': '0 mg/kg', 'has_numeric_value': 0.0, 'has_unit': 'mg/kg'}}, {'id': 'nmdc:bsm-11-f4f5qh88', 'ecosystem_subtype': 'Botanical garden', 'habitat': 'Soil', 'ph': 5.07, 'calcium': {'has_raw_value': '2098.19 mg/kg', 'has_numeric_value': 2098.19, 'has_unit': 'mg/kg'}, 'magnesium': {'has_raw_value': '349.431 mg/kg', 'has_numeric_value': 349.431, 'has_unit': 'mg/kg'}, 'potassium': {'has_raw_value': '287.194 mg/kg', 'has_numeric_value': 287.194, 'has_unit': 'mg/kg'}, 'tot_nitro': {'has_raw_value': '0.265 Percent', 'has_numeric_value': 0.265, 'has_unit': 'Percent'}, 'manganese': {'has_raw_value': '49.2782 mg/kg', 'has_numeric_value': 49.2782, 'has_unit': 'mg/kg'}, 'zinc': {'has_raw_value': '5.4742 mg/kg', 'has_numeric_value': 5.4742, 'has_unit': 'mg/kg'}, 'ammonium_nitrogen': {'has_raw_value': '7.291 mg/kg', 'has_numeric_value': 7.291, 'has_unit': 'mg/kg'}, 'nitrate_nitrogen': {'has_raw_value': '18.1425 mg/kg', 'has_numeric_value': 18.1425, 'has_unit': 'mg/kg'}, 'nitrite_nitrogen': {'has_raw_value': '0 mg/kg', 'has_numeric_value': 0.0, 'has_unit': 'mg/kg'}}, {'id': 'nmdc:bsm-11-fa3kp606', 'ecosystem_subtype': 'Botanical garden', 'habitat': 'Soil', 'ph': 6.77, 'calcium': {'has_raw_value': '2015.2 mg/kg', 'has_numeric_value': 2015.2, 'has_unit': 'mg/kg'}, 'magnesium': {'has_raw_value': '400.552 mg/kg', 'has_numeric_value': 400.552, 'has_unit': 'mg/kg'}, 'potassium': {'has_raw_value': '165.924 mg/kg', 'has_numeric_value': 165.924, 'has_unit': 'mg/kg'}, 'tot_nitro': {'has_raw_value': '0.31 Percent', 'has_numeric_value': 0.31, 'has_unit': 'Percent'}, 'manganese': {'has_raw_value': '16.7989 mg/kg', 'has_numeric_value': 16.7989, 'has_unit': 'mg/kg'}, 'zinc': {'has_raw_value': '2.2483 mg/kg', 'has_numeric_value': 2.2483, 'has_unit': 'mg/kg'}, 'ammonium_nitrogen': {'has_raw_value': '2.6175 mg/kg', 'has_numeric_value': 2.6175, 'has_unit': 'mg/kg'}, 'nitrate_nitrogen': {'has_raw_value': '1.3215 mg/kg', 'has_numeric_value': 1.3215, 'has_unit': 'mg/kg'}, 'nitrite_nitrogen': {'has_raw_value': '0 mg/kg', 'has_numeric_value': 0.0, 'has_unit': 'mg/kg'}}, {'id': 'nmdc:bsm-11-ffrfzy83', 'ecosystem_subtype': 'Botanical garden', 'habitat': 'Soil', 'ph': 6.72, 'calcium': {'has_raw_value': '2440.33 mg/kg', 'has_numeric_value': 2440.33, 'has_unit': 'mg/kg'}, 'magnesium': {'has_raw_value': '493.054 mg/kg', 'has_numeric_value': 493.054, 'has_unit': 'mg/kg'}, 'potassium': {'has_raw_value': '206.03 mg/kg', 'has_numeric_value': 206.03, 'has_unit': 'mg/kg'}, 'tot_nitro': {'has_raw_value': '0.131 Percent', 'has_numeric_value': 0.131, 'has_unit': 'Percent'}, 'manganese': {'has_raw_value': '26.9571 mg/kg', 'has_numeric_value': 26.9571, 'has_unit': 'mg/kg'}, 'zinc': {'has_raw_value': '2.8401 mg/kg', 'has_numeric_value': 2.8401, 'has_unit': 'mg/kg'}, 'ammonium_nitrogen': {'has_raw_value': '4.446 mg/kg', 'has_numeric_value': 4.446, 'has_unit': 'mg/kg'}, 'nitrate_nitrogen': {'has_raw_value': '2.935 mg/kg', 'has_numeric_value': 2.935, 'has_unit': 'mg/kg'}, 'nitrite_nitrogen': {'has_raw_value': '0 mg/kg', 'has_numeric_value': 0.0, 'has_unit': 'mg/kg'}}, {'id': 'nmdc:bsm-11-fmq0nm61', 'ecosystem_subtype': 'Botanical garden', 'habitat': 'Soil', 'ph': 5.48, 'calcium': {'has_raw_value': '2431.98 mg/kg', 'has_numeric_value': 2431.98, 'has_unit': 'mg/kg'}, 'magnesium': {'has_raw_value': '453.022 mg/kg', 'has_numeric_value': 453.022, 'has_unit': 'mg/kg'}, 'potassium': {'has_raw_value': '203.463 mg/kg', 'has_numeric_value': 203.463, 'has_unit': 'mg/kg'}, 'tot_nitro': {'has_raw_value': '0.344 Percent', 'has_numeric_value': 0.344, 'has_unit': 'Percent'}, 'manganese': {'has_raw_value': '47.7638 mg/kg', 'has_numeric_value': 47.7638, 'has_unit': 'mg/kg'}, 'zinc': {'has_raw_value': '8.435 mg/kg', 'has_numeric_value': 8.435, 'has_unit': 'mg/kg'}, 'ammonium_nitrogen': {'has_raw_value': '8.988 mg/kg', 'has_numeric_value': 8.988, 'has_unit': 'mg/kg'}, 'nitrate_nitrogen': {'has_raw_value': '10.5655 mg/kg', 'has_numeric_value': 10.5655, 'has_unit': 'mg/kg'}, 'nitrite_nitrogen': {'has_raw_value': '0 mg/kg', 'has_numeric_value': 0.0, 'has_unit': 'mg/kg'}}, {'id': 'nmdc:bsm-11-fp5n5836', 'ecosystem_subtype': 'Botanical garden', 'habitat': 'Soil', 'ph': 5.04, 'calcium': {'has_raw_value': '1894.76 mg/kg', 'has_numeric_value': 1894.76, 'has_unit': 'mg/kg'}, 'magnesium': {'has_raw_value': '396.634 mg/kg', 'has_numeric_value': 396.634, 'has_unit': 'mg/kg'}, 'potassium': {'has_raw_value': '308.116 mg/kg', 'has_numeric_value': 308.116, 'has_unit': 'mg/kg'}, 'tot_nitro': {'has_raw_value': '0.448 Percent', 'has_numeric_value': 0.448, 'has_unit': 'Percent'}, 'manganese': {'has_raw_value': '37.8744 mg/kg', 'has_numeric_value': 37.8744, 'has_unit': 'mg/kg'}, 'zinc': {'has_raw_value': '6.697 mg/kg', 'has_numeric_value': 6.697, 'has_unit': 'mg/kg'}, 'ammonium_nitrogen': {'has_raw_value': '9.8355 mg/kg', 'has_numeric_value': 9.8355, 'has_unit': 'mg/kg'}, 'nitrate_nitrogen': {'has_raw_value': '13.174 mg/kg', 'has_numeric_value': 13.174, 'has_unit': 'mg/kg'}, 'nitrite_nitrogen': {'has_raw_value': '0 mg/kg', 'has_numeric_value': 0.0, 'has_unit': 'mg/kg'}}, {'id': 'nmdc:bsm-11-ftte8s50', 'ecosystem_subtype': 'Botanical garden', 'habitat': 'Soil', 'ph': 5.14, 'calcium': {'has_raw_value': '1841.93 mg/kg', 'has_numeric_value': 1841.93, 'has_unit': 'mg/kg'}, 'magnesium': {'has_raw_value': '331.5 mg/kg', 'has_numeric_value': 331.5, 'has_unit': 'mg/kg'}, 'potassium': {'has_raw_value': '113.561 mg/kg', 'has_numeric_value': 113.561, 'has_unit': 'mg/kg'}, 'tot_nitro': {'has_raw_value': '0.47 Percent', 'has_numeric_value': 0.47, 'has_unit': 'Percent'}, 'manganese': {'has_raw_value': '34.8639 mg/kg', 'has_numeric_value': 34.8639, 'has_unit': 'mg/kg'}, 'zinc': {'has_raw_value': '5.2868 mg/kg', 'has_numeric_value': 5.2868, 'has_unit': 'mg/kg'}, 'ammonium_nitrogen': {'has_raw_value': '9.5715 mg/kg', 'has_numeric_value': 9.5715, 'has_unit': 'mg/kg'}, 'nitrate_nitrogen': {'has_raw_value': '12.874 mg/kg', 'has_numeric_value': 12.874, 'has_unit': 'mg/kg'}, 'nitrite_nitrogen': {'has_raw_value': '0 mg/kg', 'has_numeric_value': 0.0, 'has_unit': 'mg/kg'}}, {'id': 'nmdc:bsm-11-fxd94d39', 'ecosystem_subtype': 'Botanical garden', 'habitat': 'Soil', 'ph': 5.82, 'calcium': {'has_raw_value': '3105.88 mg/kg', 'has_numeric_value': 3105.88, 'has_unit': 'mg/kg'}, 'magnesium': {'has_raw_value': '488.095 mg/kg', 'has_numeric_value': 488.095, 'has_unit': 'mg/kg'}, 'potassium': {'has_raw_value': '227.611 mg/kg', 'has_numeric_value': 227.611, 'has_unit': 'mg/kg'}, 'tot_nitro': {'has_raw_value': '0.324 Percent', 'has_numeric_value': 0.324, 'has_unit': 'Percent'}, 'manganese': {'has_raw_value': '69.8454 mg/kg', 'has_numeric_value': 69.8454, 'has_unit': 'mg/kg'}, 'zinc': {'has_raw_value': '13.4053 mg/kg', 'has_numeric_value': 13.4053, 'has_unit': 'mg/kg'}, 'ammonium_nitrogen': {'has_raw_value': '8.712 mg/kg', 'has_numeric_value': 8.712, 'has_unit': 'mg/kg'}, 'nitrate_nitrogen': {'has_raw_value': '29.8005 mg/kg', 'has_numeric_value': 29.8005, 'has_unit': 'mg/kg'}, 'nitrite_nitrogen': {'has_raw_value': '0 mg/kg', 'has_numeric_value': 0.0, 'has_unit': 'mg/kg'}}, {'id': 'nmdc:bsm-11-g2zcz598', 'ecosystem_subtype': 'Botanical garden', 'habitat': 'Soil', 'ph': 5.19, 'calcium': {'has_raw_value': '2467.81 mg/kg', 'has_numeric_value': 2467.81, 'has_unit': 'mg/kg'}, 'magnesium': {'has_raw_value': '401.356 mg/kg', 'has_numeric_value': 401.356, 'has_unit': 'mg/kg'}, 'potassium': {'has_raw_value': '124.273 mg/kg', 'has_numeric_value': 124.273, 'has_unit': 'mg/kg'}, 'tot_nitro': {'has_raw_value': '0.468 Percent', 'has_numeric_value': 0.468, 'has_unit': 'Percent'}, 'manganese': {'has_raw_value': '51.7949 mg/kg', 'has_numeric_value': 51.7949, 'has_unit': 'mg/kg'}, 'zinc': {'has_raw_value': '7.5442 mg/kg', 'has_numeric_value': 7.5442, 'has_unit': 'mg/kg'}, 'ammonium_nitrogen': {'has_raw_value': '10.7855 mg/kg', 'has_numeric_value': 10.7855, 'has_unit': 'mg/kg'}, 'nitrate_nitrogen': {'has_raw_value': '13.0305 mg/kg', 'has_numeric_value': 13.0305, 'has_unit': 'mg/kg'}, 'nitrite_nitrogen': {'has_raw_value': '0 mg/kg', 'has_numeric_value': 0.0, 'has_unit': 'mg/kg'}}, {'id': 'nmdc:bsm-11-gpd0g516', 'ecosystem_subtype': 'Botanical garden', 'habitat': 'Soil', 'ph': 6.55, 'calcium': {'has_raw_value': '2534.64 mg/kg', 'has_numeric_value': 2534.64, 'has_unit': 'mg/kg'}, 'magnesium': {'has_raw_value': '469.339 mg/kg', 'has_numeric_value': 469.339, 'has_unit': 'mg/kg'}, 'potassium': {'has_raw_value': '200.771 mg/kg', 'has_numeric_value': 200.771, 'has_unit': 'mg/kg'}, 'tot_nitro': {'has_raw_value': '0.111 Percent', 'has_numeric_value': 0.111, 'has_unit': 'Percent'}, 'manganese': {'has_raw_value': '21.5092 mg/kg', 'has_numeric_value': 21.5092, 'has_unit': 'mg/kg'}, 'zinc': {'has_raw_value': '2.5555 mg/kg', 'has_numeric_value': 2.5555, 'has_unit': 'mg/kg'}, 'ammonium_nitrogen': {'has_raw_value': '3.358 mg/kg', 'has_numeric_value': 3.358, 'has_unit': 'mg/kg'}, 'nitrate_nitrogen': {'has_raw_value': '1.5495 mg/kg', 'has_numeric_value': 1.5495, 'has_unit': 'mg/kg'}, 'nitrite_nitrogen': {'has_raw_value': '0 mg/kg', 'has_numeric_value': 0.0, 'has_unit': 'mg/kg'}}, {'id': 'nmdc:bsm-11-gq2m5921', 'ecosystem_subtype': 'Botanical garden', 'habitat': 'Soil', 'ph': 6.76, 'calcium': {'has_raw_value': '2421.86 mg/kg', 'has_numeric_value': 2421.86, 'has_unit': 'mg/kg'}, 'magnesium': {'has_raw_value': '404.477 mg/kg', 'has_numeric_value': 404.477, 'has_unit': 'mg/kg'}, 'potassium': {'has_raw_value': '307.14 mg/kg', 'has_numeric_value': 307.14, 'has_unit': 'mg/kg'}, 'tot_nitro': {'has_raw_value': '0.346 Percent', 'has_numeric_value': 0.346, 'has_unit': 'Percent'}, 'manganese': {'has_raw_value': '23.0194 mg/kg', 'has_numeric_value': 23.0194, 'has_unit': 'mg/kg'}, 'zinc': {'has_raw_value': '4.4079 mg/kg', 'has_numeric_value': 4.4079, 'has_unit': 'mg/kg'}, 'ammonium_nitrogen': {'has_raw_value': '2.544 mg/kg', 'has_numeric_value': 2.544, 'has_unit': 'mg/kg'}, 'nitrate_nitrogen': {'has_raw_value': '1.133 mg/kg', 'has_numeric_value': 1.133, 'has_unit': 'mg/kg'}, 'nitrite_nitrogen': {'has_raw_value': '0 mg/kg', 'has_numeric_value': 0.0, 'has_unit': 'mg/kg'}}, {'id': 'nmdc:bsm-11-hejnp838', 'ecosystem_subtype': 'Botanical garden', 'habitat': 'Soil', 'ph': 5.34, 'calcium': {'has_raw_value': '2522.96 mg/kg', 'has_numeric_value': 2522.96, 'has_unit': 'mg/kg'}, 'magnesium': {'has_raw_value': '435.812 mg/kg', 'has_numeric_value': 435.812, 'has_unit': 'mg/kg'}, 'potassium': {'has_raw_value': '293.434 mg/kg', 'has_numeric_value': 293.434, 'has_unit': 'mg/kg'}, 'tot_nitro': {'has_raw_value': '0.319 Percent', 'has_numeric_value': 0.319, 'has_unit': 'Percent'}, 'manganese': {'has_raw_value': '48.1777 mg/kg', 'has_numeric_value': 48.1777, 'has_unit': 'mg/kg'}, 'zinc': {'has_raw_value': '8.3322 mg/kg', 'has_numeric_value': 8.3322, 'has_unit': 'mg/kg'}, 'ammonium_nitrogen': {'has_raw_value': '8.3875 mg/kg', 'has_numeric_value': 8.3875, 'has_unit': 'mg/kg'}, 'nitrate_nitrogen': {'has_raw_value': '19.8355 mg/kg', 'has_numeric_value': 19.8355, 'has_unit': 'mg/kg'}, 'nitrite_nitrogen': {'has_raw_value': '0 mg/kg', 'has_numeric_value': 0.0, 'has_unit': 'mg/kg'}}, {'id': 'nmdc:bsm-11-hx03gs06', 'ecosystem_subtype': 'Botanical garden', 'habitat': 'Soil', 'ph': 6.6, 'calcium': {'has_raw_value': '2435.54 mg/kg', 'has_numeric_value': 2435.54, 'has_unit': 'mg/kg'}, 'magnesium': {'has_raw_value': '502.549 mg/kg', 'has_numeric_value': 502.549, 'has_unit': 'mg/kg'}, 'potassium': {'has_raw_value': '210.143 mg/kg', 'has_numeric_value': 210.143, 'has_unit': 'mg/kg'}, 'tot_nitro': {'has_raw_value': '0.4 Percent', 'has_numeric_value': 0.4, 'has_unit': 'Percent'}, 'manganese': {'has_raw_value': '29.6194 mg/kg', 'has_numeric_value': 29.6194, 'has_unit': 'mg/kg'}, 'zinc': {'has_raw_value': '4.0575 mg/kg', 'has_numeric_value': 4.0575, 'has_unit': 'mg/kg'}, 'ammonium_nitrogen': {'has_raw_value': '3.6545 mg/kg', 'has_numeric_value': 3.6545, 'has_unit': 'mg/kg'}, 'nitrate_nitrogen': {'has_raw_value': '1.111 mg/kg', 'has_numeric_value': 1.111, 'has_unit': 'mg/kg'}, 'nitrite_nitrogen': {'has_raw_value': '0 mg/kg', 'has_numeric_value': 0.0, 'has_unit': 'mg/kg'}}, {'id': 'nmdc:bsm-11-jg4tae61', 'ecosystem_subtype': 'Botanical garden', 'habitat': 'Soil', 'ph': 6.4, 'calcium': {'has_raw_value': '2598.35 mg/kg', 'has_numeric_value': 2598.35, 'has_unit': 'mg/kg'}, 'magnesium': {'has_raw_value': '516.737 mg/kg', 'has_numeric_value': 516.737, 'has_unit': 'mg/kg'}, 'potassium': {'has_raw_value': '179.191 mg/kg', 'has_numeric_value': 179.191, 'has_unit': 'mg/kg'}, 'tot_nitro': {'has_raw_value': '0.392 Percent', 'has_numeric_value': 0.392, 'has_unit': 'Percent'}, 'manganese': {'has_raw_value': '26.229 mg/kg', 'has_numeric_value': 26.229, 'has_unit': 'mg/kg'}, 'zinc': {'has_raw_value': '3.1196 mg/kg', 'has_numeric_value': 3.1196, 'has_unit': 'mg/kg'}, 'ammonium_nitrogen': {'has_raw_value': '3.063 mg/kg', 'has_numeric_value': 3.063, 'has_unit': 'mg/kg'}, 'nitrate_nitrogen': {'has_raw_value': '1.989 mg/kg', 'has_numeric_value': 1.989, 'has_unit': 'mg/kg'}, 'nitrite_nitrogen': {'has_raw_value': '0 mg/kg', 'has_numeric_value': 0.0, 'has_unit': 'mg/kg'}}, {'id': 'nmdc:bsm-11-jt9qtx26', 'ecosystem_subtype': 'Botanical garden', 'habitat': 'Soil', 'ph': 6.9, 'calcium': {'has_raw_value': '1921.28 mg/kg', 'has_numeric_value': 1921.28, 'has_unit': 'mg/kg'}, 'magnesium': {'has_raw_value': '405.766 mg/kg', 'has_numeric_value': 405.766, 'has_unit': 'mg/kg'}, 'potassium': {'has_raw_value': '346.753 mg/kg', 'has_numeric_value': 346.753, 'has_unit': 'mg/kg'}, 'tot_nitro': {'has_raw_value': '0.295 Percent', 'has_numeric_value': 0.295, 'has_unit': 'Percent'}, 'manganese': {'has_raw_value': '14.3655 mg/kg', 'has_numeric_value': 14.3655, 'has_unit': 'mg/kg'}, 'zinc': {'has_raw_value': '1.4905 mg/kg', 'has_numeric_value': 1.4905, 'has_unit': 'mg/kg'}, 'ammonium_nitrogen': {'has_raw_value': '1.5535 mg/kg', 'has_numeric_value': 1.5535, 'has_unit': 'mg/kg'}, 'nitrate_nitrogen': {'has_raw_value': '0.832 mg/kg', 'has_numeric_value': 0.832, 'has_unit': 'mg/kg'}, 'nitrite_nitrogen': {'has_raw_value': '0 mg/kg', 'has_numeric_value': 0.0, 'has_unit': 'mg/kg'}}, {'id': 'nmdc:bsm-11-k8s74094', 'ecosystem_subtype': 'Botanical garden', 'habitat': 'Soil', 'ph': 5.11, 'calcium': {'has_raw_value': '2038.63 mg/kg', 'has_numeric_value': 2038.63, 'has_unit': 'mg/kg'}, 'magnesium': {'has_raw_value': '387.456 mg/kg', 'has_numeric_value': 387.456, 'has_unit': 'mg/kg'}, 'potassium': {'has_raw_value': '105.809 mg/kg', 'has_numeric_value': 105.809, 'has_unit': 'mg/kg'}, 'tot_nitro': {'has_raw_value': '0.578 Percent', 'has_numeric_value': 0.578, 'has_unit': 'Percent'}, 'manganese': {'has_raw_value': '39.464 mg/kg', 'has_numeric_value': 39.464, 'has_unit': 'mg/kg'}, 'zinc': {'has_raw_value': '6.2449 mg/kg', 'has_numeric_value': 6.2449, 'has_unit': 'mg/kg'}, 'ammonium_nitrogen': {'has_raw_value': '13.491 mg/kg', 'has_numeric_value': 13.491, 'has_unit': 'mg/kg'}, 'nitrate_nitrogen': {'has_raw_value': '23.581 mg/kg', 'has_numeric_value': 23.581, 'has_unit': 'mg/kg'}, 'nitrite_nitrogen': {'has_raw_value': '0 mg/kg', 'has_numeric_value': 0.0, 'has_unit': 'mg/kg'}}, {'id': 'nmdc:bsm-11-kxtgzv04', 'ecosystem_subtype': 'Botanical garden', 'habitat': 'Soil', 'ph': 6.68, 'calcium': {'has_raw_value': '2232.42 mg/kg', 'has_numeric_value': 2232.42, 'has_unit': 'mg/kg'}, 'magnesium': {'has_raw_value': '458.483 mg/kg', 'has_numeric_value': 458.483, 'has_unit': 'mg/kg'}, 'potassium': {'has_raw_value': '220.794 mg/kg', 'has_numeric_value': 220.794, 'has_unit': 'mg/kg'}, 'tot_nitro': {'has_raw_value': '0.378 Percent', 'has_numeric_value': 0.378, 'has_unit': 'Percent'}, 'manganese': {'has_raw_value': '20.2892 mg/kg', 'has_numeric_value': 20.2892, 'has_unit': 'mg/kg'}, 'zinc': {'has_raw_value': '2.3346 mg/kg', 'has_numeric_value': 2.3346, 'has_unit': 'mg/kg'}, 'ammonium_nitrogen': {'has_raw_value': '2.8415 mg/kg', 'has_numeric_value': 2.8415, 'has_unit': 'mg/kg'}, 'nitrate_nitrogen': {'has_raw_value': '0.6115 mg/kg', 'has_numeric_value': 0.6115, 'has_unit': 'mg/kg'}, 'nitrite_nitrogen': {'has_raw_value': '0 mg/kg', 'has_numeric_value': 0.0, 'has_unit': 'mg/kg'}}, {'id': 'nmdc:bsm-11-m03j3183', 'ecosystem_subtype': 'Botanical garden', 'habitat': 'Soil', 'ph': 4.95, 'calcium': {'has_raw_value': '2188.04 mg/kg', 'has_numeric_value': 2188.04, 'has_unit': 'mg/kg'}, 'magnesium': {'has_raw_value': '359.242 mg/kg', 'has_numeric_value': 359.242, 'has_unit': 'mg/kg'}, 'potassium': {'has_raw_value': '87.2653 mg/kg', 'has_numeric_value': 87.2653, 'has_unit': 'mg/kg'}, 'tot_nitro': {'has_raw_value': '0.613 Percent', 'has_numeric_value': 0.613, 'has_unit': 'Percent'}, 'manganese': {'has_raw_value': '39.5279 mg/kg', 'has_numeric_value': 39.5279, 'has_unit': 'mg/kg'}, 'zinc': {'has_raw_value': '7.5452 mg/kg', 'has_numeric_value': 7.5452, 'has_unit': 'mg/kg'}, 'ammonium_nitrogen': {'has_raw_value': '16.2875 mg/kg', 'has_numeric_value': 16.2875, 'has_unit': 'mg/kg'}, 'nitrate_nitrogen': {'has_raw_value': '16.3555 mg/kg', 'has_numeric_value': 16.3555, 'has_unit': 'mg/kg'}, 'nitrite_nitrogen': {'has_raw_value': '0 mg/kg', 'has_numeric_value': 0.0, 'has_unit': 'mg/kg'}}, {'id': 'nmdc:bsm-11-m53pa616', 'ecosystem_subtype': 'Botanical garden', 'habitat': 'Soil', 'ph': 5.34, 'calcium': {'has_raw_value': '2413.19 mg/kg', 'has_numeric_value': 2413.19, 'has_unit': 'mg/kg'}, 'magnesium': {'has_raw_value': '410.271 mg/kg', 'has_numeric_value': 410.271, 'has_unit': 'mg/kg'}, 'potassium': {'has_raw_value': '220.011 mg/kg', 'has_numeric_value': 220.011, 'has_unit': 'mg/kg'}, 'tot_nitro': {'has_raw_value': '0.311 Percent', 'has_numeric_value': 0.311, 'has_unit': 'Percent'}, 'manganese': {'has_raw_value': '42.7143 mg/kg', 'has_numeric_value': 42.7143, 'has_unit': 'mg/kg'}, 'zinc': {'has_raw_value': '5.7071 mg/kg', 'has_numeric_value': 5.7071, 'has_unit': 'mg/kg'}, 'ammonium_nitrogen': {'has_raw_value': '7.472 mg/kg', 'has_numeric_value': 7.472, 'has_unit': 'mg/kg'}, 'nitrate_nitrogen': {'has_raw_value': '15.6745 mg/kg', 'has_numeric_value': 15.6745, 'has_unit': 'mg/kg'}, 'nitrite_nitrogen': {'has_raw_value': '0 mg/kg', 'has_numeric_value': 0.0, 'has_unit': 'mg/kg'}}, {'id': 'nmdc:bsm-11-m5tyz195', 'ecosystem_subtype': 'Botanical garden', 'habitat': 'Soil', 'ph': 6.85, 'calcium': {'has_raw_value': '2498.43 mg/kg', 'has_numeric_value': 2498.43, 'has_unit': 'mg/kg'}, 'magnesium': {'has_raw_value': '485.077 mg/kg', 'has_numeric_value': 485.077, 'has_unit': 'mg/kg'}, 'potassium': {'has_raw_value': '219.265 mg/kg', 'has_numeric_value': 219.265, 'has_unit': 'mg/kg'}, 'tot_nitro': {'has_raw_value': '0.34 Percent', 'has_numeric_value': 0.34, 'has_unit': 'Percent'}, 'manganese': {'has_raw_value': '28.6011 mg/kg', 'has_numeric_value': 28.6011, 'has_unit': 'mg/kg'}, 'zinc': {'has_raw_value': '4.1569 mg/kg', 'has_numeric_value': 4.1569, 'has_unit': 'mg/kg'}, 'ammonium_nitrogen': {'has_raw_value': '3.014 mg/kg', 'has_numeric_value': 3.014, 'has_unit': 'mg/kg'}, 'nitrate_nitrogen': {'has_raw_value': '0.2345 mg/kg', 'has_numeric_value': 0.2345, 'has_unit': 'mg/kg'}, 'nitrite_nitrogen': {'has_raw_value': '0 mg/kg', 'has_numeric_value': 0.0, 'has_unit': 'mg/kg'}}, {'id': 'nmdc:bsm-11-mnkv7h37', 'ecosystem_subtype': 'Botanical garden', 'habitat': 'Soil', 'ph': 5.16, 'calcium': {'has_raw_value': '2214.14 mg/kg', 'has_numeric_value': 2214.14, 'has_unit': 'mg/kg'}, 'magnesium': {'has_raw_value': '459.533 mg/kg', 'has_numeric_value': 459.533, 'has_unit': 'mg/kg'}, 'potassium': {'has_raw_value': '157.254 mg/kg', 'has_numeric_value': 157.254, 'has_unit': 'mg/kg'}, 'tot_nitro': {'has_raw_value': '0.491 Percent', 'has_numeric_value': 0.491, 'has_unit': 'Percent'}, 'manganese': {'has_raw_value': '31.4614 mg/kg', 'has_numeric_value': 31.4614, 'has_unit': 'mg/kg'}, 'zinc': {'has_raw_value': '5.2926 mg/kg', 'has_numeric_value': 5.2926, 'has_unit': 'mg/kg'}, 'ammonium_nitrogen': {'has_raw_value': '11.0295 mg/kg', 'has_numeric_value': 11.0295, 'has_unit': 'mg/kg'}, 'nitrate_nitrogen': {'has_raw_value': '13.514 mg/kg', 'has_numeric_value': 13.514, 'has_unit': 'mg/kg'}, 'nitrite_nitrogen': {'has_raw_value': '0 mg/kg', 'has_numeric_value': 0.0, 'has_unit': 'mg/kg'}}, {'id': 'nmdc:bsm-11-n3g6kk24', 'ecosystem_subtype': 'Botanical garden', 'habitat': 'Soil', 'ph': 6.37, 'calcium': {'has_raw_value': '1496 mg/kg', 'has_numeric_value': 1496.0, 'has_unit': 'mg/kg'}, 'magnesium': {'has_raw_value': '294.494 mg/kg', 'has_numeric_value': 294.494, 'has_unit': 'mg/kg'}, 'potassium': {'has_raw_value': '118.741 mg/kg', 'has_numeric_value': 118.741, 'has_unit': 'mg/kg'}, 'tot_nitro': {'has_raw_value': '0.06 Percent', 'has_numeric_value': 0.06, 'has_unit': 'Percent'}, 'manganese': {'has_raw_value': '11.751 mg/kg', 'has_numeric_value': 11.751, 'has_unit': 'mg/kg'}, 'zinc': {'has_raw_value': '1.5662 mg/kg', 'has_numeric_value': 1.5662, 'has_unit': 'mg/kg'}, 'ammonium_nitrogen': {'has_raw_value': '2.0195 mg/kg', 'has_numeric_value': 2.0195, 'has_unit': 'mg/kg'}, 'nitrate_nitrogen': {'has_raw_value': '0.24 mg/kg', 'has_numeric_value': 0.24, 'has_unit': 'mg/kg'}, 'nitrite_nitrogen': {'has_raw_value': '0 mg/kg', 'has_numeric_value': 0.0, 'has_unit': 'mg/kg'}}, {'id': 'nmdc:bsm-11-ndp7xj19', 'ecosystem_subtype': 'Botanical garden', 'habitat': 'Soil', 'ph': 6.64, 'calcium': {'has_raw_value': '2272.29 mg/kg', 'has_numeric_value': 2272.29, 'has_unit': 'mg/kg'}, 'magnesium': {'has_raw_value': '509.772 mg/kg', 'has_numeric_value': 509.772, 'has_unit': 'mg/kg'}, 'potassium': {'has_raw_value': '140.475 mg/kg', 'has_numeric_value': 140.475, 'has_unit': 'mg/kg'}, 'tot_nitro': {'has_raw_value': '0.194 Percent', 'has_numeric_value': 0.194, 'has_unit': 'Percent'}, 'manganese': {'has_raw_value': '24.528 mg/kg', 'has_numeric_value': 24.528, 'has_unit': 'mg/kg'}, 'zinc': {'has_raw_value': '2.8673 mg/kg', 'has_numeric_value': 2.8673, 'has_unit': 'mg/kg'}, 'ammonium_nitrogen': {'has_raw_value': '3.519 mg/kg', 'has_numeric_value': 3.519, 'has_unit': 'mg/kg'}, 'nitrate_nitrogen': {'has_raw_value': '0.2795 mg/kg', 'has_numeric_value': 0.2795, 'has_unit': 'mg/kg'}, 'nitrite_nitrogen': {'has_raw_value': '0 mg/kg', 'has_numeric_value': 0.0, 'has_unit': 'mg/kg'}}, {'id': 'nmdc:bsm-11-nk3r8t63', 'ecosystem_subtype': 'Botanical garden', 'habitat': 'Soil', 'ph': 4.84, 'calcium': {'has_raw_value': '1846.09 mg/kg', 'has_numeric_value': 1846.09, 'has_unit': 'mg/kg'}, 'magnesium': {'has_raw_value': '291.535 mg/kg', 'has_numeric_value': 291.535, 'has_unit': 'mg/kg'}, 'potassium': {'has_raw_value': '168.937 mg/kg', 'has_numeric_value': 168.937, 'has_unit': 'mg/kg'}, 'tot_nitro': {'has_raw_value': '0.513 Percent', 'has_numeric_value': 0.513, 'has_unit': 'Percent'}, 'manganese': {'has_raw_value': '23.2667 mg/kg', 'has_numeric_value': 23.2667, 'has_unit': 'mg/kg'}, 'zinc': {'has_raw_value': '5.1776 mg/kg', 'has_numeric_value': 5.1776, 'has_unit': 'mg/kg'}, 'ammonium_nitrogen': {'has_raw_value': '16.3295 mg/kg', 'has_numeric_value': 16.3295, 'has_unit': 'mg/kg'}, 'nitrate_nitrogen': {'has_raw_value': '14.395 mg/kg', 'has_numeric_value': 14.395, 'has_unit': 'mg/kg'}, 'nitrite_nitrogen': {'has_raw_value': '0 mg/kg', 'has_numeric_value': 0.0, 'has_unit': 'mg/kg'}}, {'id': 'nmdc:bsm-11-nrt24197', 'ecosystem_subtype': 'Botanical garden', 'habitat': 'Soil', 'ph': 5.05, 'calcium': {'has_raw_value': '1923.65 mg/kg', 'has_numeric_value': 1923.65, 'has_unit': 'mg/kg'}, 'magnesium': {'has_raw_value': '404.205 mg/kg', 'has_numeric_value': 404.205, 'has_unit': 'mg/kg'}, 'potassium': {'has_raw_value': '134.845 mg/kg', 'has_numeric_value': 134.845, 'has_unit': 'mg/kg'}, 'tot_nitro': {'has_raw_value': '0.546 Percent', 'has_numeric_value': 0.546, 'has_unit': 'Percent'}, 'manganese': {'has_raw_value': '32.9005 mg/kg', 'has_numeric_value': 32.9005, 'has_unit': 'mg/kg'}, 'zinc': {'has_raw_value': '6.2737 mg/kg', 'has_numeric_value': 6.2737, 'has_unit': 'mg/kg'}, 'ammonium_nitrogen': {'has_raw_value': '14.706 mg/kg', 'has_numeric_value': 14.706, 'has_unit': 'mg/kg'}, 'nitrate_nitrogen': {'has_raw_value': '15.503 mg/kg', 'has_numeric_value': 15.503, 'has_unit': 'mg/kg'}, 'nitrite_nitrogen': {'has_raw_value': '0 mg/kg', 'has_numeric_value': 0.0, 'has_unit': 'mg/kg'}}, {'id': 'nmdc:bsm-11-nsaqf095', 'ecosystem_subtype': 'Botanical garden', 'habitat': 'Soil', 'ph': 6.73, 'calcium': {'has_raw_value': '2347.97 mg/kg', 'has_numeric_value': 2347.97, 'has_unit': 'mg/kg'}, 'magnesium': {'has_raw_value': '433.255 mg/kg', 'has_numeric_value': 433.255, 'has_unit': 'mg/kg'}, 'potassium': {'has_raw_value': '208.872 mg/kg', 'has_numeric_value': 208.872, 'has_unit': 'mg/kg'}, 'tot_nitro': {'has_raw_value': '0.118 Percent', 'has_numeric_value': 0.118, 'has_unit': 'Percent'}, 'manganese': {'has_raw_value': '26.0173 mg/kg', 'has_numeric_value': 26.0173, 'has_unit': 'mg/kg'}, 'zinc': {'has_raw_value': '2.955 mg/kg', 'has_numeric_value': 2.955, 'has_unit': 'mg/kg'}, 'ammonium_nitrogen': {'has_raw_value': '3.6955 mg/kg', 'has_numeric_value': 3.6955, 'has_unit': 'mg/kg'}, 'nitrate_nitrogen': {'has_raw_value': '1.0625 mg/kg', 'has_numeric_value': 1.0625, 'has_unit': 'mg/kg'}, 'nitrite_nitrogen': {'has_raw_value': '0 mg/kg', 'has_numeric_value': 0.0, 'has_unit': 'mg/kg'}}, {'id': 'nmdc:bsm-11-nw51xc15', 'ecosystem_subtype': 'Botanical garden', 'habitat': 'Soil', 'ph': 4.96, 'calcium': {'has_raw_value': '2120.86 mg/kg', 'has_numeric_value': 2120.86, 'has_unit': 'mg/kg'}, 'magnesium': {'has_raw_value': '401.422 mg/kg', 'has_numeric_value': 401.422, 'has_unit': 'mg/kg'}, 'potassium': {'has_raw_value': '125.15 mg/kg', 'has_numeric_value': 125.15, 'has_unit': 'mg/kg'}, 'tot_nitro': {'has_raw_value': '0.581 Percent', 'has_numeric_value': 0.581, 'has_unit': 'Percent'}, 'manganese': {'has_raw_value': '32.171 mg/kg', 'has_numeric_value': 32.171, 'has_unit': 'mg/kg'}, 'zinc': {'has_raw_value': '7.6781 mg/kg', 'has_numeric_value': 7.6781, 'has_unit': 'mg/kg'}, 'ammonium_nitrogen': {'has_raw_value': '13.4125 mg/kg', 'has_numeric_value': 13.4125, 'has_unit': 'mg/kg'}, 'nitrate_nitrogen': {'has_raw_value': '21.445 mg/kg', 'has_numeric_value': 21.445, 'has_unit': 'mg/kg'}, 'nitrite_nitrogen': {'has_raw_value': '0 mg/kg', 'has_numeric_value': 0.0, 'has_unit': 'mg/kg'}}, {'id': 'nmdc:bsm-11-pnb58t51', 'ecosystem_subtype': 'Botanical garden', 'habitat': 'Soil', 'ph': 5.21, 'calcium': {'has_raw_value': '1911.85 mg/kg', 'has_numeric_value': 1911.85, 'has_unit': 'mg/kg'}, 'magnesium': {'has_raw_value': '345.542 mg/kg', 'has_numeric_value': 345.542, 'has_unit': 'mg/kg'}, 'potassium': {'has_raw_value': '316.155 mg/kg', 'has_numeric_value': 316.155, 'has_unit': 'mg/kg'}, 'tot_nitro': {'has_raw_value': '0.408 Percent', 'has_numeric_value': 0.408, 'has_unit': 'Percent'}, 'manganese': {'has_raw_value': '27.2552 mg/kg', 'has_numeric_value': 27.2552, 'has_unit': 'mg/kg'}, 'zinc': {'has_raw_value': '4.8509 mg/kg', 'has_numeric_value': 4.8509, 'has_unit': 'mg/kg'}, 'ammonium_nitrogen': {'has_raw_value': '12.8545 mg/kg', 'has_numeric_value': 12.8545, 'has_unit': 'mg/kg'}, 'nitrate_nitrogen': {'has_raw_value': '13.422 mg/kg', 'has_numeric_value': 13.422, 'has_unit': 'mg/kg'}, 'nitrite_nitrogen': {'has_raw_value': '0 mg/kg', 'has_numeric_value': 0.0, 'has_unit': 'mg/kg'}}, {'id': 'nmdc:bsm-11-ptgmvp63', 'ecosystem_subtype': 'Botanical garden', 'habitat': 'Soil', 'ph': 6.62, 'calcium': {'has_raw_value': '2631.36 mg/kg', 'has_numeric_value': 2631.36, 'has_unit': 'mg/kg'}, 'magnesium': {'has_raw_value': '557.714 mg/kg', 'has_numeric_value': 557.714, 'has_unit': 'mg/kg'}, 'potassium': {'has_raw_value': '203.92 mg/kg', 'has_numeric_value': 203.92, 'has_unit': 'mg/kg'}, 'tot_nitro': {'has_raw_value': '0.173 Percent', 'has_numeric_value': 0.173, 'has_unit': 'Percent'}, 'manganese': {'has_raw_value': '30.7649 mg/kg', 'has_numeric_value': 30.7649, 'has_unit': 'mg/kg'}, 'zinc': {'has_raw_value': '3.1255 mg/kg', 'has_numeric_value': 3.1255, 'has_unit': 'mg/kg'}, 'ammonium_nitrogen': {'has_raw_value': '5.5805 mg/kg', 'has_numeric_value': 5.5805, 'has_unit': 'mg/kg'}, 'nitrate_nitrogen': {'has_raw_value': '4.5255 mg/kg', 'has_numeric_value': 4.5255, 'has_unit': 'mg/kg'}, 'nitrite_nitrogen': {'has_raw_value': '0 mg/kg', 'has_numeric_value': 0.0, 'has_unit': 'mg/kg'}}, {'id': 'nmdc:bsm-11-q4qc4d09', 'ecosystem_subtype': 'Botanical garden', 'habitat': 'Soil', 'ph': 5.14, 'calcium': {'has_raw_value': '2080.8 mg/kg', 'has_numeric_value': 2080.8, 'has_unit': 'mg/kg'}, 'magnesium': {'has_raw_value': '364.457 mg/kg', 'has_numeric_value': 364.457, 'has_unit': 'mg/kg'}, 'potassium': {'has_raw_value': '115.882 mg/kg', 'has_numeric_value': 115.882, 'has_unit': 'mg/kg'}, 'tot_nitro': {'has_raw_value': '0.492 Percent', 'has_numeric_value': 0.492, 'has_unit': 'Percent'}, 'manganese': {'has_raw_value': '24.2913 mg/kg', 'has_numeric_value': 24.2913, 'has_unit': 'mg/kg'}, 'zinc': {'has_raw_value': '7.6471 mg/kg', 'has_numeric_value': 7.6471, 'has_unit': 'mg/kg'}, 'ammonium_nitrogen': {'has_raw_value': '9.5985 mg/kg', 'has_numeric_value': 9.5985, 'has_unit': 'mg/kg'}, 'nitrate_nitrogen': {'has_raw_value': '14.7365 mg/kg', 'has_numeric_value': 14.7365, 'has_unit': 'mg/kg'}, 'nitrite_nitrogen': {'has_raw_value': '0 mg/kg', 'has_numeric_value': 0.0, 'has_unit': 'mg/kg'}}, {'id': 'nmdc:bsm-11-qs0hz846', 'ecosystem_subtype': 'Botanical garden', 'habitat': 'Soil', 'ph': 5.46, 'calcium': {'has_raw_value': '2435.35 mg/kg', 'has_numeric_value': 2435.35, 'has_unit': 'mg/kg'}, 'magnesium': {'has_raw_value': '444.03 mg/kg', 'has_numeric_value': 444.03, 'has_unit': 'mg/kg'}, 'potassium': {'has_raw_value': '328.053 mg/kg', 'has_numeric_value': 328.053, 'has_unit': 'mg/kg'}, 'tot_nitro': {'has_raw_value': '0.439 Percent', 'has_numeric_value': 0.439, 'has_unit': 'Percent'}, 'manganese': {'has_raw_value': '35.7355 mg/kg', 'has_numeric_value': 35.7355, 'has_unit': 'mg/kg'}, 'zinc': {'has_raw_value': '8.0582 mg/kg', 'has_numeric_value': 8.0582, 'has_unit': 'mg/kg'}, 'ammonium_nitrogen': {'has_raw_value': '9.211 mg/kg', 'has_numeric_value': 9.211, 'has_unit': 'mg/kg'}, 'nitrate_nitrogen': {'has_raw_value': '18.875 mg/kg', 'has_numeric_value': 18.875, 'has_unit': 'mg/kg'}, 'nitrite_nitrogen': {'has_raw_value': '0 mg/kg', 'has_numeric_value': 0.0, 'has_unit': 'mg/kg'}}, {'id': 'nmdc:bsm-11-r7rgv593', 'ecosystem_subtype': 'Botanical garden', 'habitat': 'Soil', 'ph': 6.95, 'calcium': {'has_raw_value': '2511.03 mg/kg', 'has_numeric_value': 2511.03, 'has_unit': 'mg/kg'}, 'magnesium': {'has_raw_value': '502.777 mg/kg', 'has_numeric_value': 502.777, 'has_unit': 'mg/kg'}, 'potassium': {'has_raw_value': '315.919 mg/kg', 'has_numeric_value': 315.919, 'has_unit': 'mg/kg'}, 'tot_nitro': {'has_raw_value': '0.131 Percent', 'has_numeric_value': 0.131, 'has_unit': 'Percent'}, 'manganese': {'has_raw_value': '26.6171 mg/kg', 'has_numeric_value': 26.6171, 'has_unit': 'mg/kg'}, 'zinc': {'has_raw_value': '4.0774 mg/kg', 'has_numeric_value': 4.0774, 'has_unit': 'mg/kg'}, 'ammonium_nitrogen': {'has_raw_value': '2.6825 mg/kg', 'has_numeric_value': 2.6825, 'has_unit': 'mg/kg'}, 'nitrate_nitrogen': {'has_raw_value': '0 mg/kg', 'has_numeric_value': 0.0, 'has_unit': 'mg/kg'}, 'nitrite_nitrogen': {'has_raw_value': '0 mg/kg', 'has_numeric_value': 0.0, 'has_unit': 'mg/kg'}}, {'id': 'nmdc:bsm-11-s0np7e14', 'ecosystem_subtype': 'Botanical garden', 'habitat': 'Soil', 'ph': 5.48, 'calcium': {'has_raw_value': '2247.43 mg/kg', 'has_numeric_value': 2247.43, 'has_unit': 'mg/kg'}, 'magnesium': {'has_raw_value': '537.364 mg/kg', 'has_numeric_value': 537.364, 'has_unit': 'mg/kg'}, 'potassium': {'has_raw_value': '344.304 mg/kg', 'has_numeric_value': 344.304, 'has_unit': 'mg/kg'}, 'tot_nitro': {'has_raw_value': '0.446 Percent', 'has_numeric_value': 0.446, 'has_unit': 'Percent'}, 'manganese': {'has_raw_value': '32.625 mg/kg', 'has_numeric_value': 32.625, 'has_unit': 'mg/kg'}, 'zinc': {'has_raw_value': '6.7106 mg/kg', 'has_numeric_value': 6.7106, 'has_unit': 'mg/kg'}, 'ammonium_nitrogen': {'has_raw_value': '10.6855 mg/kg', 'has_numeric_value': 10.6855, 'has_unit': 'mg/kg'}, 'nitrate_nitrogen': {'has_raw_value': '10.6955 mg/kg', 'has_numeric_value': 10.6955, 'has_unit': 'mg/kg'}, 'nitrite_nitrogen': {'has_raw_value': '0 mg/kg', 'has_numeric_value': 0.0, 'has_unit': 'mg/kg'}}, {'id': 'nmdc:bsm-11-sejjv213', 'ecosystem_subtype': 'Botanical garden', 'habitat': 'Soil', 'ph': 6.72, 'calcium': {'has_raw_value': '2206.82 mg/kg', 'has_numeric_value': 2206.82, 'has_unit': 'mg/kg'}, 'magnesium': {'has_raw_value': '448.931 mg/kg', 'has_numeric_value': 448.931, 'has_unit': 'mg/kg'}, 'potassium': {'has_raw_value': '173.027 mg/kg', 'has_numeric_value': 173.027, 'has_unit': 'mg/kg'}, 'tot_nitro': {'has_raw_value': '0.298 Percent', 'has_numeric_value': 0.298, 'has_unit': 'Percent'}, 'manganese': {'has_raw_value': '20.7862 mg/kg', 'has_numeric_value': 20.7862, 'has_unit': 'mg/kg'}, 'zinc': {'has_raw_value': '2.4845 mg/kg', 'has_numeric_value': 2.4845, 'has_unit': 'mg/kg'}, 'ammonium_nitrogen': {'has_raw_value': '2.9575 mg/kg', 'has_numeric_value': 2.9575, 'has_unit': 'mg/kg'}, 'nitrate_nitrogen': {'has_raw_value': '0.983 mg/kg', 'has_numeric_value': 0.983, 'has_unit': 'mg/kg'}, 'nitrite_nitrogen': {'has_raw_value': '0 mg/kg', 'has_numeric_value': 0.0, 'has_unit': 'mg/kg'}}, {'id': 'nmdc:bsm-11-swme4v31', 'ph': 5.07, 'ecosystem_subtype': 'Botanical garden', 'habitat': 'Soil', 'calcium': {'has_raw_value': '2219.35 mg/kg', 'has_numeric_value': 2219.35, 'has_unit': 'mg/kg'}, 'magnesium': {'has_raw_value': '379.527 mg/kg', 'has_numeric_value': 379.527, 'has_unit': 'mg/kg'}, 'potassium': {'has_raw_value': '441.338 mg/kg', 'has_numeric_value': 441.338, 'has_unit': 'mg/kg'}, 'tot_nitro': {'has_raw_value': '0.419 Percent', 'has_numeric_value': 0.419, 'has_unit': 'Percent'}, 'manganese': {'has_raw_value': '34.6609 mg/kg', 'has_numeric_value': 34.6609, 'has_unit': 'mg/kg'}, 'zinc': {'has_raw_value': '5.5536 mg/kg', 'has_numeric_value': 5.5536, 'has_unit': 'mg/kg'}, 'ammonium_nitrogen': {'has_raw_value': '10.599 mg/kg', 'has_numeric_value': 10.599, 'has_unit': 'mg/kg'}, 'nitrate_nitrogen': {'has_raw_value': '27.6905 mg/kg', 'has_numeric_value': 27.6905, 'has_unit': 'mg/kg'}, 'nitrite_nitrogen': {'has_raw_value': '0 mg/kg', 'has_numeric_value': 0.0, 'has_unit': 'mg/kg'}}, {'id': 'nmdc:bsm-11-tw1m7160', 'ecosystem_subtype': 'Botanical garden', 'habitat': 'Soil', 'ph': 5.3, 'calcium': {'has_raw_value': '2551.59 mg/kg', 'has_numeric_value': 2551.59, 'has_unit': 'mg/kg'}, 'magnesium': {'has_raw_value': '545.537 mg/kg', 'has_numeric_value': 545.537, 'has_unit': 'mg/kg'}, 'potassium': {'has_raw_value': '168.066 mg/kg', 'has_numeric_value': 168.066, 'has_unit': 'mg/kg'}, 'tot_nitro': {'has_raw_value': '0.501 Percent', 'has_numeric_value': 0.501, 'has_unit': 'Percent'}, 'manganese': {'has_raw_value': '35.7655 mg/kg', 'has_numeric_value': 35.7655, 'has_unit': 'mg/kg'}, 'zinc': {'has_raw_value': '7.9568 mg/kg', 'has_numeric_value': 7.9568, 'has_unit': 'mg/kg'}, 'ammonium_nitrogen': {'has_raw_value': '16.277 mg/kg', 'has_numeric_value': 16.277, 'has_unit': 'mg/kg'}, 'nitrate_nitrogen': {'has_raw_value': '12.6325 mg/kg', 'has_numeric_value': 12.6325, 'has_unit': 'mg/kg'}, 'nitrite_nitrogen': {'has_raw_value': '0 mg/kg', 'has_numeric_value': 0.0, 'has_unit': 'mg/kg'}}, {'id': 'nmdc:bsm-11-v5qwbp22', 'ecosystem_subtype': 'Botanical garden', 'habitat': 'Soil', 'ph': 6.84, 'calcium': {'has_raw_value': '2833.61 mg/kg', 'has_numeric_value': 2833.61, 'has_unit': 'mg/kg'}, 'magnesium': {'has_raw_value': '517.121 mg/kg', 'has_numeric_value': 517.121, 'has_unit': 'mg/kg'}, 'potassium': {'has_raw_value': '252.17 mg/kg', 'has_numeric_value': 252.17, 'has_unit': 'mg/kg'}, 'tot_nitro': {'has_raw_value': '0.164 Percent', 'has_numeric_value': 0.164, 'has_unit': 'Percent'}, 'manganese': {'has_raw_value': '28.365 mg/kg', 'has_numeric_value': 28.365, 'has_unit': 'mg/kg'}, 'zinc': {'has_raw_value': '5.7041 mg/kg', 'has_numeric_value': 5.7041, 'has_unit': 'mg/kg'}, 'ammonium_nitrogen': {'has_raw_value': '4.09 mg/kg', 'has_numeric_value': 4.09, 'has_unit': 'mg/kg'}, 'nitrate_nitrogen': {'has_raw_value': '0 mg/kg', 'has_numeric_value': 0.0, 'has_unit': 'mg/kg'}, 'nitrite_nitrogen': {'has_raw_value': '0 mg/kg', 'has_numeric_value': 0.0, 'has_unit': 'mg/kg'}}, {'id': 'nmdc:bsm-11-v9f9cm81', 'ecosystem_subtype': 'Botanical garden', 'habitat': 'Soil', 'ph': 6.6, 'calcium': {'has_raw_value': '2484.13 mg/kg', 'has_numeric_value': 2484.13, 'has_unit': 'mg/kg'}, 'magnesium': {'has_raw_value': '457.321 mg/kg', 'has_numeric_value': 457.321, 'has_unit': 'mg/kg'}, 'potassium': {'has_raw_value': '200.324 mg/kg', 'has_numeric_value': 200.324, 'has_unit': 'mg/kg'}, 'tot_nitro': {'has_raw_value': '0.309 Percent', 'has_numeric_value': 0.309, 'has_unit': 'Percent'}, 'manganese': {'has_raw_value': '30.0327 mg/kg', 'has_numeric_value': 30.0327, 'has_unit': 'mg/kg'}, 'zinc': {'has_raw_value': '3.9728 mg/kg', 'has_numeric_value': 3.9728, 'has_unit': 'mg/kg'}, 'ammonium_nitrogen': {'has_raw_value': '3.524 mg/kg', 'has_numeric_value': 3.524, 'has_unit': 'mg/kg'}, 'nitrate_nitrogen': {'has_raw_value': '2.111 mg/kg', 'has_numeric_value': 2.111, 'has_unit': 'mg/kg'}, 'nitrite_nitrogen': {'has_raw_value': '0 mg/kg', 'has_numeric_value': 0.0, 'has_unit': 'mg/kg'}}, {'id': 'nmdc:bsm-11-vsd0et60', 'ecosystem_subtype': 'Botanical garden', 'habitat': 'Soil', 'ph': 5.94, 'calcium': {'has_raw_value': '2495.69 mg/kg', 'has_numeric_value': 2495.69, 'has_unit': 'mg/kg'}, 'magnesium': {'has_raw_value': '416.181 mg/kg', 'has_numeric_value': 416.181, 'has_unit': 'mg/kg'}, 'potassium': {'has_raw_value': '315.498 mg/kg', 'has_numeric_value': 315.498, 'has_unit': 'mg/kg'}, 'tot_nitro': {'has_raw_value': '0.303 Percent', 'has_numeric_value': 0.303, 'has_unit': 'Percent'}, 'manganese': {'has_raw_value': '47.2246 mg/kg', 'has_numeric_value': 47.2246, 'has_unit': 'mg/kg'}, 'zinc': {'has_raw_value': '7.9155 mg/kg', 'has_numeric_value': 7.9155, 'has_unit': 'mg/kg'}, 'ammonium_nitrogen': {'has_raw_value': '31.937 mg/kg', 'has_numeric_value': 31.937, 'has_unit': 'mg/kg'}, 'nitrate_nitrogen': {'has_raw_value': '12.513 mg/kg', 'has_numeric_value': 12.513, 'has_unit': 'mg/kg'}, 'nitrite_nitrogen': {'has_raw_value': '6.595 mg/kg', 'has_numeric_value': 6.595, 'has_unit': 'mg/kg'}}, {'id': 'nmdc:bsm-11-w11dzv86', 'ecosystem_subtype': 'Botanical garden', 'habitat': 'Soil', 'ph': 6.81, 'calcium': {'has_raw_value': '2254.4 mg/kg', 'has_numeric_value': 2254.4, 'has_unit': 'mg/kg'}, 'magnesium': {'has_raw_value': '442.037 mg/kg', 'has_numeric_value': 442.037, 'has_unit': 'mg/kg'}, 'potassium': {'has_raw_value': '395.228 mg/kg', 'has_numeric_value': 395.228, 'has_unit': 'mg/kg'}, 'tot_nitro': {'has_raw_value': '0.144 Percent', 'has_numeric_value': 0.144, 'has_unit': 'Percent'}, 'manganese': {'has_raw_value': '25.3905 mg/kg', 'has_numeric_value': 25.3905, 'has_unit': 'mg/kg'}, 'zinc': {'has_raw_value': '3.6902 mg/kg', 'has_numeric_value': 3.6902, 'has_unit': 'mg/kg'}, 'ammonium_nitrogen': {'has_raw_value': '3.002 mg/kg', 'has_numeric_value': 3.002, 'has_unit': 'mg/kg'}, 'nitrate_nitrogen': {'has_raw_value': '1.333 mg/kg', 'has_numeric_value': 1.333, 'has_unit': 'mg/kg'}, 'nitrite_nitrogen': {'has_raw_value': '0.297 mg/kg', 'has_numeric_value': 0.297, 'has_unit': 'mg/kg'}}, {'id': 'nmdc:bsm-11-w2q32794', 'ecosystem_subtype': 'Botanical garden', 'habitat': 'Soil', 'ph': 6.57, 'calcium': {'has_raw_value': '2229.22 mg/kg', 'has_numeric_value': 2229.22, 'has_unit': 'mg/kg'}, 'magnesium': {'has_raw_value': '440.445 mg/kg', 'has_numeric_value': 440.445, 'has_unit': 'mg/kg'}, 'potassium': {'has_raw_value': '383.201 mg/kg', 'has_numeric_value': 383.201, 'has_unit': 'mg/kg'}, 'tot_nitro': {'has_raw_value': '0.328 Percent', 'has_numeric_value': 0.328, 'has_unit': 'Percent'}, 'manganese': {'has_raw_value': '20.3272 mg/kg', 'has_numeric_value': 20.3272, 'has_unit': 'mg/kg'}, 'zinc': {'has_raw_value': '2.1278 mg/kg', 'has_numeric_value': 2.1278, 'has_unit': 'mg/kg'}, 'ammonium_nitrogen': {'has_raw_value': '5.0705 mg/kg', 'has_numeric_value': 5.0705, 'has_unit': 'mg/kg'}, 'nitrate_nitrogen': {'has_raw_value': '3.004 mg/kg', 'has_numeric_value': 3.004, 'has_unit': 'mg/kg'}, 'nitrite_nitrogen': {'has_raw_value': '0 mg/kg', 'has_numeric_value': 0.0, 'has_unit': 'mg/kg'}}, {'id': 'nmdc:bsm-11-w4cc0w75', 'ecosystem_subtype': 'Botanical garden', 'habitat': 'Soil', 'ph': 6.84, 'calcium': {'has_raw_value': '2359.17 mg/kg', 'has_numeric_value': 2359.17, 'has_unit': 'mg/kg'}, 'magnesium': {'has_raw_value': '442.326 mg/kg', 'has_numeric_value': 442.326, 'has_unit': 'mg/kg'}, 'potassium': {'has_raw_value': '201.387 mg/kg', 'has_numeric_value': 201.387, 'has_unit': 'mg/kg'}, 'tot_nitro': {'has_raw_value': '0.105 Percent', 'has_numeric_value': 0.105, 'has_unit': 'Percent'}, 'manganese': {'has_raw_value': '23.1047 mg/kg', 'has_numeric_value': 23.1047, 'has_unit': 'mg/kg'}, 'zinc': {'has_raw_value': '1.95 mg/kg', 'has_numeric_value': 1.95, 'has_unit': 'mg/kg'}, 'ammonium_nitrogen': {'has_raw_value': '2.923 mg/kg', 'has_numeric_value': 2.923, 'has_unit': 'mg/kg'}, 'nitrate_nitrogen': {'has_raw_value': '1.6305 mg/kg', 'has_numeric_value': 1.6305, 'has_unit': 'mg/kg'}, 'nitrite_nitrogen': {'has_raw_value': '0 mg/kg', 'has_numeric_value': 0.0, 'has_unit': 'mg/kg'}}, {'id': 'nmdc:bsm-11-wg01qe88', 'ecosystem_subtype': 'Botanical garden', 'habitat': 'Soil', 'ph': 6.88, 'calcium': {'has_raw_value': '2419.11 mg/kg', 'has_numeric_value': 2419.11, 'has_unit': 'mg/kg'}, 'magnesium': {'has_raw_value': '469.368 mg/kg', 'has_numeric_value': 469.368, 'has_unit': 'mg/kg'}, 'potassium': {'has_raw_value': '550.042 mg/kg', 'has_numeric_value': 550.042, 'has_unit': 'mg/kg'}, 'tot_nitro': {'has_raw_value': '0.121 Percent', 'has_numeric_value': 0.121, 'has_unit': 'Percent'}, 'manganese': {'has_raw_value': '26.6335 mg/kg', 'has_numeric_value': 26.6335, 'has_unit': 'mg/kg'}, 'zinc': {'has_raw_value': '3.4032 mg/kg', 'has_numeric_value': 3.4032, 'has_unit': 'mg/kg'}, 'ammonium_nitrogen': {'has_raw_value': '4.7875 mg/kg', 'has_numeric_value': 4.7875, 'has_unit': 'mg/kg'}, 'nitrate_nitrogen': {'has_raw_value': '4.642 mg/kg', 'has_numeric_value': 4.642, 'has_unit': 'mg/kg'}, 'nitrite_nitrogen': {'has_raw_value': '3.2 mg/kg', 'has_numeric_value': 3.2, 'has_unit': 'mg/kg'}}, {'id': 'nmdc:bsm-11-wrgc0v31', 'ecosystem_subtype': 'Botanical garden', 'habitat': 'Soil', 'ph': 6.61, 'calcium': {'has_raw_value': '2448.33 mg/kg', 'has_numeric_value': 2448.33, 'has_unit': 'mg/kg'}, 'magnesium': {'has_raw_value': '471.495 mg/kg', 'has_numeric_value': 471.495, 'has_unit': 'mg/kg'}, 'potassium': {'has_raw_value': '169.281 mg/kg', 'has_numeric_value': 169.281, 'has_unit': 'mg/kg'}, 'tot_nitro': {'has_raw_value': '0.29 Percent', 'has_numeric_value': 0.29, 'has_unit': 'Percent'}, 'manganese': {'has_raw_value': '25.1614 mg/kg', 'has_numeric_value': 25.1614, 'has_unit': 'mg/kg'}, 'zinc': {'has_raw_value': '2.3241 mg/kg', 'has_numeric_value': 2.3241, 'has_unit': 'mg/kg'}, 'ammonium_nitrogen': {'has_raw_value': '3.556 mg/kg', 'has_numeric_value': 3.556, 'has_unit': 'mg/kg'}, 'nitrate_nitrogen': {'has_raw_value': '5.8955 mg/kg', 'has_numeric_value': 5.8955, 'has_unit': 'mg/kg'}, 'nitrite_nitrogen': {'has_raw_value': '0 mg/kg', 'has_numeric_value': 0.0, 'has_unit': 'mg/kg'}}, {'id': 'nmdc:bsm-11-xe059189', 'ecosystem_subtype': 'Botanical garden', 'habitat': 'Soil', 'ph': 4.93, 'calcium': {'has_raw_value': '2224.63 mg/kg', 'has_numeric_value': 2224.63, 'has_unit': 'mg/kg'}, 'magnesium': {'has_raw_value': '314.93 mg/kg', 'has_numeric_value': 314.93, 'has_unit': 'mg/kg'}, 'potassium': {'has_raw_value': '118.102 mg/kg', 'has_numeric_value': 118.102, 'has_unit': 'mg/kg'}, 'tot_nitro': {'has_raw_value': '0.71 Percent', 'has_numeric_value': 0.71, 'has_unit': 'Percent'}, 'manganese': {'has_raw_value': '42.6146 mg/kg', 'has_numeric_value': 42.6146, 'has_unit': 'mg/kg'}, 'zinc': {'has_raw_value': '8.3138 mg/kg', 'has_numeric_value': 8.3138, 'has_unit': 'mg/kg'}, 'ammonium_nitrogen': {'has_raw_value': '15.591 mg/kg', 'has_numeric_value': 15.591, 'has_unit': 'mg/kg'}, 'nitrate_nitrogen': {'has_raw_value': '29.0125 mg/kg', 'has_numeric_value': 29.0125, 'has_unit': 'mg/kg'}, 'nitrite_nitrogen': {'has_raw_value': '0 mg/kg', 'has_numeric_value': 0.0, 'has_unit': 'mg/kg'}}, {'id': 'nmdc:bsm-11-xpv2fm92', 'ecosystem_subtype': 'Botanical garden', 'habitat': 'Soil', 'ph': 6.62, 'calcium': {'has_raw_value': '2432.99 mg/kg', 'has_numeric_value': 2432.99, 'has_unit': 'mg/kg'}, 'magnesium': {'has_raw_value': '447.272 mg/kg', 'has_numeric_value': 447.272, 'has_unit': 'mg/kg'}, 'potassium': {'has_raw_value': '208.872 mg/kg', 'has_numeric_value': 208.872, 'has_unit': 'mg/kg'}, 'tot_nitro': {'has_raw_value': '0.397 Percent', 'has_numeric_value': 0.397, 'has_unit': 'Percent'}, 'manganese': {'has_raw_value': '22.3931 mg/kg', 'has_numeric_value': 22.3931, 'has_unit': 'mg/kg'}, 'zinc': {'has_raw_value': '2.4071 mg/kg', 'has_numeric_value': 2.4071, 'has_unit': 'mg/kg'}, 'ammonium_nitrogen': {'has_raw_value': '3.5105 mg/kg', 'has_numeric_value': 3.5105, 'has_unit': 'mg/kg'}, 'nitrate_nitrogen': {'has_raw_value': '0.746 mg/kg', 'has_numeric_value': 0.746, 'has_unit': 'mg/kg'}, 'nitrite_nitrogen': {'has_raw_value': '0 mg/kg', 'has_numeric_value': 0.0, 'has_unit': 'mg/kg'}}, {'id': 'nmdc:bsm-11-y46kr968', 'ecosystem_subtype': 'Botanical garden', 'habitat': 'Soil', 'ph': 6.54, 'calcium': {'has_raw_value': '2322.55 mg/kg', 'has_numeric_value': 2322.55, 'has_unit': 'mg/kg'}, 'magnesium': {'has_raw_value': '440.421 mg/kg', 'has_numeric_value': 440.421, 'has_unit': 'mg/kg'}, 'potassium': {'has_raw_value': '206.227 mg/kg', 'has_numeric_value': 206.227, 'has_unit': 'mg/kg'}, 'tot_nitro': {'has_raw_value': '0.3 Percent', 'has_numeric_value': 0.3, 'has_unit': 'Percent'}, 'manganese': {'has_raw_value': '21.3753 mg/kg', 'has_numeric_value': 21.3753, 'has_unit': 'mg/kg'}, 'zinc': {'has_raw_value': '2.8677 mg/kg', 'has_numeric_value': 2.8677, 'has_unit': 'mg/kg'}, 'ammonium_nitrogen': {'has_raw_value': '2.7645 mg/kg', 'has_numeric_value': 2.7645, 'has_unit': 'mg/kg'}, 'nitrate_nitrogen': {'has_raw_value': '4.8475 mg/kg', 'has_numeric_value': 4.8475, 'has_unit': 'mg/kg'}, 'nitrite_nitrogen': {'has_raw_value': '0 mg/kg', 'has_numeric_value': 0.0, 'has_unit': 'mg/kg'}}, {'id': 'nmdc:bsm-11-ybvfha65', 'ecosystem_subtype': 'Botanical garden', 'habitat': 'Soil', 'ph': 6.71, 'calcium': {'has_raw_value': '2453.12 mg/kg', 'has_numeric_value': 2453.12, 'has_unit': 'mg/kg'}, 'magnesium': {'has_raw_value': '435.482 mg/kg', 'has_numeric_value': 435.482, 'has_unit': 'mg/kg'}, 'potassium': {'has_raw_value': '313.501 mg/kg', 'has_numeric_value': 313.501, 'has_unit': 'mg/kg'}, 'tot_nitro': {'has_raw_value': '0.166 Percent', 'has_numeric_value': 0.166, 'has_unit': 'Percent'}, 'manganese': {'has_raw_value': '24.2299 mg/kg', 'has_numeric_value': 24.2299, 'has_unit': 'mg/kg'}, 'zinc': {'has_raw_value': '5.016 mg/kg', 'has_numeric_value': 5.016, 'has_unit': 'mg/kg'}, 'ammonium_nitrogen': {'has_raw_value': '4.1705 mg/kg', 'has_numeric_value': 4.1705, 'has_unit': 'mg/kg'}, 'nitrate_nitrogen': {'has_raw_value': '0 mg/kg', 'has_numeric_value': 0.0, 'has_unit': 'mg/kg'}, 'nitrite_nitrogen': {'has_raw_value': '0 mg/kg', 'has_numeric_value': 0.0, 'has_unit': 'mg/kg'}}, {'id': 'nmdc:bsm-11-ye5khf03', 'ecosystem_subtype': 'Botanical garden', 'habitat': 'Soil', 'ph': 6.69, 'calcium': {'has_raw_value': '2107.69 mg/kg', 'has_numeric_value': 2107.69, 'has_unit': 'mg/kg'}, 'magnesium': {'has_raw_value': '446.918 mg/kg', 'has_numeric_value': 446.918, 'has_unit': 'mg/kg'}, 'potassium': {'has_raw_value': '209.937 mg/kg', 'has_numeric_value': 209.937, 'has_unit': 'mg/kg'}, 'tot_nitro': {'has_raw_value': '0.395 Percent', 'has_numeric_value': 0.395, 'has_unit': 'Percent'}, 'manganese': {'has_raw_value': '31.219 mg/kg', 'has_numeric_value': 31.219, 'has_unit': 'mg/kg'}, 'zinc': {'has_raw_value': '3.4804 mg/kg', 'has_numeric_value': 3.4804, 'has_unit': 'mg/kg'}, 'ammonium_nitrogen': {'has_raw_value': '3.154 mg/kg', 'has_numeric_value': 3.154, 'has_unit': 'mg/kg'}, 'nitrate_nitrogen': {'has_raw_value': '0.5895 mg/kg', 'has_numeric_value': 0.5895, 'has_unit': 'mg/kg'}, 'nitrite_nitrogen': {'has_raw_value': '0 mg/kg', 'has_numeric_value': 0.0, 'has_unit': 'mg/kg'}}, {'id': 'nmdc:bsm-11-ygtdv867', 'ecosystem_subtype': 'Botanical garden', 'habitat': 'Soil', 'ph': 5.0, 'calcium': {'has_raw_value': '2032.06 mg/kg', 'has_numeric_value': 2032.06, 'has_unit': 'mg/kg'}, 'magnesium': {'has_raw_value': '305.976 mg/kg', 'has_numeric_value': 305.976, 'has_unit': 'mg/kg'}, 'potassium': {'has_raw_value': '268.098 mg/kg', 'has_numeric_value': 268.098, 'has_unit': 'mg/kg'}, 'tot_nitro': {'has_raw_value': '0.417 Percent', 'has_numeric_value': 0.417, 'has_unit': 'Percent'}, 'manganese': {'has_raw_value': '43.5453 mg/kg', 'has_numeric_value': 43.5453, 'has_unit': 'mg/kg'}, 'zinc': {'has_raw_value': '4.2006 mg/kg', 'has_numeric_value': 4.2006, 'has_unit': 'mg/kg'}, 'ammonium_nitrogen': {'has_raw_value': '10.427 mg/kg', 'has_numeric_value': 10.427, 'has_unit': 'mg/kg'}, 'nitrate_nitrogen': {'has_raw_value': '10.251 mg/kg', 'has_numeric_value': 10.251, 'has_unit': 'mg/kg'}, 'nitrite_nitrogen': {'has_raw_value': '0 mg/kg', 'has_numeric_value': 0.0, 'has_unit': 'mg/kg'}}, {'id': 'nmdc:bsm-11-ynkz2756', 'ecosystem_subtype': 'Botanical garden', 'habitat': 'Soil', 'ph': 6.48, 'calcium': {'has_raw_value': '2431.98 mg/kg', 'has_numeric_value': 2431.98, 'has_unit': 'mg/kg'}, 'magnesium': {'has_raw_value': '509.653 mg/kg', 'has_numeric_value': 509.653, 'has_unit': 'mg/kg'}, 'potassium': {'has_raw_value': '138.724 mg/kg', 'has_numeric_value': 138.724, 'has_unit': 'mg/kg'}, 'tot_nitro': {'has_raw_value': '0.151 Percent', 'has_numeric_value': 0.151, 'has_unit': 'Percent'}, 'manganese': {'has_raw_value': '32.3007 mg/kg', 'has_numeric_value': 32.3007, 'has_unit': 'mg/kg'}, 'zinc': {'has_raw_value': '2.8379 mg/kg', 'has_numeric_value': 2.8379, 'has_unit': 'mg/kg'}, 'ammonium_nitrogen': {'has_raw_value': '4.4525 mg/kg', 'has_numeric_value': 4.4525, 'has_unit': 'mg/kg'}, 'nitrate_nitrogen': {'has_raw_value': '0.4225 mg/kg', 'has_numeric_value': 0.4225, 'has_unit': 'mg/kg'}, 'nitrite_nitrogen': {'has_raw_value': '0 mg/kg', 'has_numeric_value': 0.0, 'has_unit': 'mg/kg'}}, {'id': 'nmdc:bsm-11-yqjjes90', 'ecosystem_subtype': 'Botanical garden', 'habitat': 'Soil', 'ph': 4.96, 'calcium': {'has_raw_value': '2093.64 mg/kg', 'has_numeric_value': 2093.64, 'has_unit': 'mg/kg'}, 'magnesium': {'has_raw_value': '374.933 mg/kg', 'has_numeric_value': 374.933, 'has_unit': 'mg/kg'}, 'potassium': {'has_raw_value': '69.5327 mg/kg', 'has_numeric_value': 69.5327, 'has_unit': 'mg/kg'}, 'tot_nitro': {'has_raw_value': '0.565 Percent', 'has_numeric_value': 0.565, 'has_unit': 'Percent'}, 'manganese': {'has_raw_value': '37.4526 mg/kg', 'has_numeric_value': 37.4526, 'has_unit': 'mg/kg'}, 'zinc': {'has_raw_value': '6.1641 mg/kg', 'has_numeric_value': 6.1641, 'has_unit': 'mg/kg'}, 'ammonium_nitrogen': {'has_raw_value': '14.06 mg/kg', 'has_numeric_value': 14.06, 'has_unit': 'mg/kg'}, 'nitrate_nitrogen': {'has_raw_value': '13.3625 mg/kg', 'has_numeric_value': 13.3625, 'has_unit': 'mg/kg'}, 'nitrite_nitrogen': {'has_raw_value': '0 mg/kg', 'has_numeric_value': 0.0, 'has_unit': 'mg/kg'}}, {'id': 'nmdc:bsm-11-yqrv3r15', 'ecosystem_subtype': 'Botanical garden', 'habitat': 'Soil', 'ph': 6.59, 'calcium': {'has_raw_value': '2351.52 mg/kg', 'has_numeric_value': 2351.52, 'has_unit': 'mg/kg'}, 'magnesium': {'has_raw_value': '445.767 mg/kg', 'has_numeric_value': 445.767, 'has_unit': 'mg/kg'}, 'potassium': {'has_raw_value': '289.816 mg/kg', 'has_numeric_value': 289.816, 'has_unit': 'mg/kg'}, 'tot_nitro': {'has_raw_value': '0.393 Percent', 'has_numeric_value': 0.393, 'has_unit': 'Percent'}, 'manganese': {'has_raw_value': '26.6471 mg/kg', 'has_numeric_value': 26.6471, 'has_unit': 'mg/kg'}, 'zinc': {'has_raw_value': '3.8888 mg/kg', 'has_numeric_value': 3.8888, 'has_unit': 'mg/kg'}, 'ammonium_nitrogen': {'has_raw_value': '3.226 mg/kg', 'has_numeric_value': 3.226, 'has_unit': 'mg/kg'}, 'nitrate_nitrogen': {'has_raw_value': '2.1155 mg/kg', 'has_numeric_value': 2.1155, 'has_unit': 'mg/kg'}, 'nitrite_nitrogen': {'has_raw_value': '0 mg/kg', 'has_numeric_value': 0.0, 'has_unit': 'mg/kg'}}, {'id': 'nmdc:bsm-11-z423gx54', 'ecosystem_subtype': 'Botanical garden', 'habitat': 'Soil', 'ph': 6.78, 'calcium': {'has_raw_value': '1673.1 mg/kg', 'has_numeric_value': 1673.1, 'has_unit': 'mg/kg'}, 'magnesium': {'has_raw_value': '331.686 mg/kg', 'has_numeric_value': 331.686, 'has_unit': 'mg/kg'}, 'potassium': {'has_raw_value': '146.784 mg/kg', 'has_numeric_value': 146.784, 'has_unit': 'mg/kg'}, 'tot_nitro': {'has_raw_value': '0.063 Percent', 'has_numeric_value': 0.063, 'has_unit': 'Percent'}, 'manganese': {'has_raw_value': '10.6006 mg/kg', 'has_numeric_value': 10.6006, 'has_unit': 'mg/kg'}, 'zinc': {'has_raw_value': '2.0413 mg/kg', 'has_numeric_value': 2.0413, 'has_unit': 'mg/kg'}, 'ammonium_nitrogen': {'has_raw_value': '1.616 mg/kg', 'has_numeric_value': 1.616, 'has_unit': 'mg/kg'}, 'nitrate_nitrogen': {'has_raw_value': '0.863 mg/kg', 'has_numeric_value': 0.863, 'has_unit': 'mg/kg'}, 'nitrite_nitrogen': {'has_raw_value': '0 mg/kg', 'has_numeric_value': 0.0, 'has_unit': 'mg/kg'}}, {'id': 'nmdc:bsm-11-zaph9002', 'ecosystem_subtype': 'Botanical garden', 'habitat': 'Soil', 'ph': 4.88, 'calcium': {'has_raw_value': '1828.16 mg/kg', 'has_numeric_value': 1828.16, 'has_unit': 'mg/kg'}, 'magnesium': {'has_raw_value': '313.425 mg/kg', 'has_numeric_value': 313.425, 'has_unit': 'mg/kg'}, 'potassium': {'has_raw_value': '136.782 mg/kg', 'has_numeric_value': 136.782, 'has_unit': 'mg/kg'}, 'tot_nitro': {'has_raw_value': '0.545 Percent', 'has_numeric_value': 0.545, 'has_unit': 'Percent'}, 'manganese': {'has_raw_value': '30.5113 mg/kg', 'has_numeric_value': 30.5113, 'has_unit': 'mg/kg'}, 'zinc': {'has_raw_value': '4.8124 mg/kg', 'has_numeric_value': 4.8124, 'has_unit': 'mg/kg'}, 'ammonium_nitrogen': {'has_raw_value': '16.687 mg/kg', 'has_numeric_value': 16.687, 'has_unit': 'mg/kg'}, 'nitrate_nitrogen': {'has_raw_value': '8.8145 mg/kg', 'has_numeric_value': 8.8145, 'has_unit': 'mg/kg'}, 'nitrite_nitrogen': {'has_raw_value': '0 mg/kg', 'has_numeric_value': 0.0, 'has_unit': 'mg/kg'}}]\n"
     ]
    }
   ],
   "source": [
    "# Drop all rows that do not include all of the data we need and print\n",
    "\n",
    "filtered_results = [biosamp for biosamp in all_results if all(field in biosamp for field in fields_list)]\n",
    "print(filtered_results)"
   ]
  },
  {
   "cell_type": "code",
   "execution_count": 46,
   "id": "bd1bcdb0-8d05-427e-866e-365dfcdf829c",
   "metadata": {},
   "outputs": [
    {
     "data": {
      "text/html": [
       "<div>\n",
       "<style scoped>\n",
       "    .dataframe tbody tr th:only-of-type {\n",
       "        vertical-align: middle;\n",
       "    }\n",
       "\n",
       "    .dataframe tbody tr th {\n",
       "        vertical-align: top;\n",
       "    }\n",
       "\n",
       "    .dataframe thead th {\n",
       "        text-align: right;\n",
       "    }\n",
       "</style>\n",
       "<table border=\"1\" class=\"dataframe\">\n",
       "  <thead>\n",
       "    <tr style=\"text-align: right;\">\n",
       "      <th></th>\n",
       "      <th>calcium</th>\n",
       "      <th>magnesium</th>\n",
       "      <th>potassium</th>\n",
       "      <th>tot_nitro</th>\n",
       "      <th>manganese</th>\n",
       "      <th>zinc</th>\n",
       "      <th>ammonium_nitrogen</th>\n",
       "      <th>nitrate_nitrogen</th>\n",
       "      <th>nitrite_nitrogen</th>\n",
       "      <th>ecosystem_subtype</th>\n",
       "      <th>habitat</th>\n",
       "      <th>id</th>\n",
       "      <th>ph</th>\n",
       "    </tr>\n",
       "  </thead>\n",
       "  <tbody>\n",
       "    <tr>\n",
       "      <th>0</th>\n",
       "      <td>2320.83</td>\n",
       "      <td>458.940</td>\n",
       "      <td>489.7670</td>\n",
       "      <td>0.326</td>\n",
       "      <td>20.1285</td>\n",
       "      <td>2.6380</td>\n",
       "      <td>2.3290</td>\n",
       "      <td>2.8040</td>\n",
       "      <td>0.0</td>\n",
       "      <td>Botanical garden</td>\n",
       "      <td>Soil</td>\n",
       "      <td>nmdc:bsm-11-01teww33</td>\n",
       "      <td>6.81</td>\n",
       "    </tr>\n",
       "    <tr>\n",
       "      <th>1</th>\n",
       "      <td>1945.98</td>\n",
       "      <td>351.875</td>\n",
       "      <td>304.9650</td>\n",
       "      <td>0.242</td>\n",
       "      <td>17.6880</td>\n",
       "      <td>2.6576</td>\n",
       "      <td>1.8015</td>\n",
       "      <td>1.6980</td>\n",
       "      <td>0.0</td>\n",
       "      <td>Botanical garden</td>\n",
       "      <td>Soil</td>\n",
       "      <td>nmdc:bsm-11-08mamh62</td>\n",
       "      <td>6.64</td>\n",
       "    </tr>\n",
       "    <tr>\n",
       "      <th>2</th>\n",
       "      <td>1963.54</td>\n",
       "      <td>399.987</td>\n",
       "      <td>181.0690</td>\n",
       "      <td>0.342</td>\n",
       "      <td>28.8914</td>\n",
       "      <td>5.5845</td>\n",
       "      <td>10.6770</td>\n",
       "      <td>18.1475</td>\n",
       "      <td>0.0</td>\n",
       "      <td>Botanical garden</td>\n",
       "      <td>Soil</td>\n",
       "      <td>nmdc:bsm-11-0pp1y564</td>\n",
       "      <td>5.07</td>\n",
       "    </tr>\n",
       "    <tr>\n",
       "      <th>3</th>\n",
       "      <td>2217.89</td>\n",
       "      <td>439.551</td>\n",
       "      <td>153.6870</td>\n",
       "      <td>0.232</td>\n",
       "      <td>20.3547</td>\n",
       "      <td>1.8725</td>\n",
       "      <td>2.4445</td>\n",
       "      <td>1.9190</td>\n",
       "      <td>0.0</td>\n",
       "      <td>Botanical garden</td>\n",
       "      <td>Soil</td>\n",
       "      <td>nmdc:bsm-11-1dpnqj50</td>\n",
       "      <td>6.63</td>\n",
       "    </tr>\n",
       "    <tr>\n",
       "      <th>4</th>\n",
       "      <td>2406.67</td>\n",
       "      <td>392.849</td>\n",
       "      <td>121.6290</td>\n",
       "      <td>0.544</td>\n",
       "      <td>36.8924</td>\n",
       "      <td>7.3694</td>\n",
       "      <td>18.6560</td>\n",
       "      <td>9.2710</td>\n",
       "      <td>0.0</td>\n",
       "      <td>Botanical garden</td>\n",
       "      <td>Soil</td>\n",
       "      <td>nmdc:bsm-11-1eybv881</td>\n",
       "      <td>5.35</td>\n",
       "    </tr>\n",
       "    <tr>\n",
       "      <th>...</th>\n",
       "      <td>...</td>\n",
       "      <td>...</td>\n",
       "      <td>...</td>\n",
       "      <td>...</td>\n",
       "      <td>...</td>\n",
       "      <td>...</td>\n",
       "      <td>...</td>\n",
       "      <td>...</td>\n",
       "      <td>...</td>\n",
       "      <td>...</td>\n",
       "      <td>...</td>\n",
       "      <td>...</td>\n",
       "      <td>...</td>\n",
       "    </tr>\n",
       "    <tr>\n",
       "      <th>98</th>\n",
       "      <td>2431.98</td>\n",
       "      <td>509.653</td>\n",
       "      <td>138.7240</td>\n",
       "      <td>0.151</td>\n",
       "      <td>32.3007</td>\n",
       "      <td>2.8379</td>\n",
       "      <td>4.4525</td>\n",
       "      <td>0.4225</td>\n",
       "      <td>0.0</td>\n",
       "      <td>Botanical garden</td>\n",
       "      <td>Soil</td>\n",
       "      <td>nmdc:bsm-11-ynkz2756</td>\n",
       "      <td>6.48</td>\n",
       "    </tr>\n",
       "    <tr>\n",
       "      <th>99</th>\n",
       "      <td>2093.64</td>\n",
       "      <td>374.933</td>\n",
       "      <td>69.5327</td>\n",
       "      <td>0.565</td>\n",
       "      <td>37.4526</td>\n",
       "      <td>6.1641</td>\n",
       "      <td>14.0600</td>\n",
       "      <td>13.3625</td>\n",
       "      <td>0.0</td>\n",
       "      <td>Botanical garden</td>\n",
       "      <td>Soil</td>\n",
       "      <td>nmdc:bsm-11-yqjjes90</td>\n",
       "      <td>4.96</td>\n",
       "    </tr>\n",
       "    <tr>\n",
       "      <th>100</th>\n",
       "      <td>2351.52</td>\n",
       "      <td>445.767</td>\n",
       "      <td>289.8160</td>\n",
       "      <td>0.393</td>\n",
       "      <td>26.6471</td>\n",
       "      <td>3.8888</td>\n",
       "      <td>3.2260</td>\n",
       "      <td>2.1155</td>\n",
       "      <td>0.0</td>\n",
       "      <td>Botanical garden</td>\n",
       "      <td>Soil</td>\n",
       "      <td>nmdc:bsm-11-yqrv3r15</td>\n",
       "      <td>6.59</td>\n",
       "    </tr>\n",
       "    <tr>\n",
       "      <th>101</th>\n",
       "      <td>1673.10</td>\n",
       "      <td>331.686</td>\n",
       "      <td>146.7840</td>\n",
       "      <td>0.063</td>\n",
       "      <td>10.6006</td>\n",
       "      <td>2.0413</td>\n",
       "      <td>1.6160</td>\n",
       "      <td>0.8630</td>\n",
       "      <td>0.0</td>\n",
       "      <td>Botanical garden</td>\n",
       "      <td>Soil</td>\n",
       "      <td>nmdc:bsm-11-z423gx54</td>\n",
       "      <td>6.78</td>\n",
       "    </tr>\n",
       "    <tr>\n",
       "      <th>102</th>\n",
       "      <td>1828.16</td>\n",
       "      <td>313.425</td>\n",
       "      <td>136.7820</td>\n",
       "      <td>0.545</td>\n",
       "      <td>30.5113</td>\n",
       "      <td>4.8124</td>\n",
       "      <td>16.6870</td>\n",
       "      <td>8.8145</td>\n",
       "      <td>0.0</td>\n",
       "      <td>Botanical garden</td>\n",
       "      <td>Soil</td>\n",
       "      <td>nmdc:bsm-11-zaph9002</td>\n",
       "      <td>4.88</td>\n",
       "    </tr>\n",
       "  </tbody>\n",
       "</table>\n",
       "<p>103 rows × 13 columns</p>\n",
       "</div>"
      ],
      "text/plain": [
       "     calcium  magnesium  potassium  tot_nitro  manganese    zinc  \\\n",
       "0    2320.83    458.940   489.7670      0.326    20.1285  2.6380   \n",
       "1    1945.98    351.875   304.9650      0.242    17.6880  2.6576   \n",
       "2    1963.54    399.987   181.0690      0.342    28.8914  5.5845   \n",
       "3    2217.89    439.551   153.6870      0.232    20.3547  1.8725   \n",
       "4    2406.67    392.849   121.6290      0.544    36.8924  7.3694   \n",
       "..       ...        ...        ...        ...        ...     ...   \n",
       "98   2431.98    509.653   138.7240      0.151    32.3007  2.8379   \n",
       "99   2093.64    374.933    69.5327      0.565    37.4526  6.1641   \n",
       "100  2351.52    445.767   289.8160      0.393    26.6471  3.8888   \n",
       "101  1673.10    331.686   146.7840      0.063    10.6006  2.0413   \n",
       "102  1828.16    313.425   136.7820      0.545    30.5113  4.8124   \n",
       "\n",
       "     ammonium_nitrogen  nitrate_nitrogen  nitrite_nitrogen ecosystem_subtype  \\\n",
       "0               2.3290            2.8040               0.0  Botanical garden   \n",
       "1               1.8015            1.6980               0.0  Botanical garden   \n",
       "2              10.6770           18.1475               0.0  Botanical garden   \n",
       "3               2.4445            1.9190               0.0  Botanical garden   \n",
       "4              18.6560            9.2710               0.0  Botanical garden   \n",
       "..                 ...               ...               ...               ...   \n",
       "98              4.4525            0.4225               0.0  Botanical garden   \n",
       "99             14.0600           13.3625               0.0  Botanical garden   \n",
       "100             3.2260            2.1155               0.0  Botanical garden   \n",
       "101             1.6160            0.8630               0.0  Botanical garden   \n",
       "102            16.6870            8.8145               0.0  Botanical garden   \n",
       "\n",
       "    habitat                    id    ph  \n",
       "0      Soil  nmdc:bsm-11-01teww33  6.81  \n",
       "1      Soil  nmdc:bsm-11-08mamh62  6.64  \n",
       "2      Soil  nmdc:bsm-11-0pp1y564  5.07  \n",
       "3      Soil  nmdc:bsm-11-1dpnqj50  6.63  \n",
       "4      Soil  nmdc:bsm-11-1eybv881  5.35  \n",
       "..      ...                   ...   ...  \n",
       "98     Soil  nmdc:bsm-11-ynkz2756  6.48  \n",
       "99     Soil  nmdc:bsm-11-yqjjes90  4.96  \n",
       "100    Soil  nmdc:bsm-11-yqrv3r15  6.59  \n",
       "101    Soil  nmdc:bsm-11-z423gx54  6.78  \n",
       "102    Soil  nmdc:bsm-11-zaph9002  4.88  \n",
       "\n",
       "[103 rows x 13 columns]"
      ]
     },
     "execution_count": 46,
     "metadata": {},
     "output_type": "execute_result"
    }
   ],
   "source": [
    "# Convert results to desired types and transform to data frame\n",
    "# collect units for applicable fields\n",
    "    \n",
    "# Make list of all fields with \"has_raw_value\" sub-field and remove the rest\n",
    "other_fields = [\"ecosystem_subtype\", \"habitat\", \"id\", \"ph\"]\n",
    "raw_value_fields = list(filter(lambda field: field not in remove_fields, fields_list))\n",
    "\n",
    "# create dictionary of raw_value_fields with values as empty lists\n",
    "units = {field: [] for field in raw_value_fields}\n",
    "\n",
    "# Add filtered results to a new list of dictionaries with desired data types, extract out units into a separate dictionary \n",
    "df_inp = []\n",
    "for biosamp in filtered_results:\n",
    "    rec = {}\n",
    "    for field in raw_value_fields:\n",
    "        rec[field] = float(biosamp[field][\"has_numeric_value\"])\n",
    "        units[field].append(biosamp[field][\"has_unit\"])\n",
    "    for other_field in other_fields:\n",
    "        if other_field == \"ph\":\n",
    "            rec[other_field] = float(biosamp[other_field])\n",
    "        else:\n",
    "            rec[other_field] = biosamp[other_field]\n",
    "    df_inp.append(rec)\n",
    "\n",
    "# Convert list of results dictionaries to a data frame\n",
    "df = pd.DataFrame(df_inp)\n",
    "\n",
    "df "
   ]
  },
  {
   "cell_type": "code",
   "execution_count": 39,
   "id": "1022bcf0-0ff7-45d3-b4af-0f240e29cba8",
   "metadata": {},
   "outputs": [
    {
     "name": "stdout",
     "output_type": "stream",
     "text": [
      "Units for each applicable measurement: {'calcium': {'mg/kg'}, 'magnesium': {'mg/kg'}, 'potassium': {'mg/kg'}, 'tot_nitro': {'Percent'}, 'manganese': {'mg/kg'}, 'zinc': {'mg/kg'}, 'ammonium_nitrogen': {'mg/kg'}, 'nitrate_nitrogen': {'mg/kg'}, 'nitrite_nitrogen': {'mg/kg'}}\n"
     ]
    }
   ],
   "source": [
    "# Convert unit dictionary lists to set to remove redundant units\n",
    "units = {field: set(unit_list) for field, unit_list in units.items()}\n",
    "print(f\"Units for each applicable measurement: {units}\")"
   ]
  },
  {
   "cell_type": "code",
   "execution_count": 67,
   "id": "8539656d-c5d2-49f9-b9c8-deccfe2cf4ff",
   "metadata": {},
   "outputs": [
    {
     "data": {
      "application/vnd.plotly.v1+json": {
       "config": {
        "plotlyServerURL": "https://plot.ly"
       },
       "data": [
        {
         "hovertemplate": "potassium=%{x}<br>ph=%{y}<extra></extra>",
         "legendgroup": "",
         "marker": {
          "color": "#636efa",
          "symbol": "circle"
         },
         "mode": "markers",
         "name": "",
         "orientation": "v",
         "showlegend": false,
         "type": "scatter",
         "x": [
          489.767,
          304.965,
          181.069,
          153.687,
          121.629,
          240.767,
          183.422,
          148.147,
          205.043,
          255.944,
          129.847,
          319.684,
          217.438,
          233.794,
          362.021,
          499.004,
          420.875,
          150.959,
          150.225,
          314.649,
          225.714,
          257.938,
          114.646,
          449.091,
          143.954,
          152.089,
          223.981,
          73.1555,
          109.268,
          192.34,
          169.452,
          293.535,
          160.591,
          219.846,
          395.775,
          60.3044,
          154.895,
          161.602,
          168.2,
          251.476,
          184.092,
          261.145,
          231.502,
          182.487,
          272.768,
          146.363,
          222.738,
          233.882,
          168.928,
          287.194,
          165.924,
          206.03,
          203.463,
          308.116,
          113.561,
          227.611,
          124.273,
          200.771,
          307.14,
          293.434,
          210.143,
          179.191,
          346.753,
          105.809,
          220.794,
          87.2653,
          220.011,
          219.265,
          157.254,
          118.741,
          140.475,
          168.937,
          134.845,
          208.872,
          125.15,
          316.155,
          203.92,
          115.882,
          328.053,
          315.919,
          344.304,
          173.027,
          441.338,
          168.066,
          252.17,
          200.324,
          315.498,
          395.228,
          383.201,
          201.387,
          550.042,
          169.281,
          118.102,
          208.872,
          206.227,
          313.501,
          209.937,
          268.098,
          138.724,
          69.5327,
          289.816,
          146.784,
          136.782
         ],
         "xaxis": "x",
         "y": [
          6.81,
          6.64,
          5.07,
          6.63,
          5.35,
          6.76,
          6.18,
          6.61,
          5.47,
          6.37,
          6.41,
          5.68,
          5.12,
          5.86,
          6.7,
          7.18,
          5.48,
          5.17,
          6.66,
          5.58,
          5.63,
          5.39,
          4.85,
          6.92,
          5.05,
          6.7,
          5.21,
          5.04,
          6.44,
          5.03,
          4.98,
          6.13,
          6.64,
          6.71,
          5.52,
          5.09,
          6.23,
          4.83,
          5.41,
          6.72,
          6.48,
          5.06,
          5.21,
          7.02,
          5.13,
          4.88,
          6.48,
          5.38,
          7,
          5.07,
          6.77,
          6.72,
          5.48,
          5.04,
          5.14,
          5.82,
          5.19,
          6.55,
          6.76,
          5.34,
          6.6,
          6.4,
          6.9,
          5.11,
          6.68,
          4.95,
          5.34,
          6.85,
          5.16,
          6.37,
          6.64,
          4.84,
          5.05,
          6.73,
          4.96,
          5.21,
          6.62,
          5.14,
          5.46,
          6.95,
          5.48,
          6.72,
          5.07,
          5.3,
          6.84,
          6.6,
          5.94,
          6.81,
          6.57,
          6.84,
          6.88,
          6.61,
          4.93,
          6.62,
          6.54,
          6.71,
          6.69,
          5,
          6.48,
          4.96,
          6.59,
          6.78,
          4.88
         ],
         "yaxis": "y"
        },
        {
         "hovertemplate": "<b>OLS trendline</b><br>ph = 0.00219339 * potassium + 5.45694<br>R<sup>2</sup>=0.079766<br><br>potassium=%{x}<br>ph=%{y} <b>(trend)</b><extra></extra>",
         "legendgroup": "",
         "marker": {
          "color": "#636efa",
          "symbol": "circle"
         },
         "mode": "lines",
         "name": "",
         "showlegend": false,
         "type": "scatter",
         "x": [
          60.3044,
          69.5327,
          73.1555,
          87.2653,
          105.809,
          109.268,
          113.561,
          114.646,
          115.882,
          118.102,
          118.741,
          121.629,
          124.273,
          125.15,
          129.847,
          134.845,
          136.782,
          138.724,
          140.475,
          143.954,
          146.363,
          146.784,
          148.147,
          150.225,
          150.959,
          152.089,
          153.687,
          154.895,
          157.254,
          160.591,
          161.602,
          165.924,
          168.066,
          168.2,
          168.928,
          168.937,
          169.281,
          169.452,
          173.027,
          179.191,
          181.069,
          182.487,
          183.422,
          184.092,
          192.34,
          200.324,
          200.771,
          201.387,
          203.463,
          203.92,
          205.043,
          206.03,
          206.227,
          208.872,
          208.872,
          209.937,
          210.143,
          217.438,
          219.265,
          219.846,
          220.011,
          220.794,
          222.738,
          223.981,
          225.714,
          227.611,
          231.502,
          233.794,
          233.882,
          240.767,
          251.476,
          252.17,
          255.944,
          257.938,
          261.145,
          268.098,
          272.768,
          287.194,
          289.816,
          293.434,
          293.535,
          304.965,
          307.14,
          308.116,
          313.501,
          314.649,
          315.498,
          315.919,
          316.155,
          319.684,
          328.053,
          344.304,
          346.753,
          362.021,
          383.201,
          395.228,
          395.775,
          420.875,
          441.338,
          449.091,
          489.767,
          499.004,
          550.042
         ],
         "xaxis": "x",
         "y": [
          5.589215518861837,
          5.6094567641489785,
          5.617402971297234,
          5.648351241591058,
          5.689024776286631,
          5.6966117064306685,
          5.706027922420363,
          5.70840774873036,
          5.711118776674283,
          5.715988098709484,
          5.717389673835833,
          5.723724179258204,
          5.729523497934363,
          5.731447099477098,
          5.741749444341667,
          5.752711999085784,
          5.756960592230912,
          5.761220152317562,
          5.765060775238119,
          5.77269157314824,
          5.777975445572925,
          5.77889886204897,
          5.78188845030752,
          5.786446311203532,
          5.7880562582187745,
          5.790534787002459,
          5.794039821512483,
          5.7966894345838895,
          5.801863637593367,
          5.809182974364298,
          5.811400489939789,
          5.820880314190304,
          5.825578551937782,
          5.825872465970537,
          5.8274692526559555,
          5.827488993150692,
          5.8282435187273185,
          5.828618588127327,
          5.836459951314645,
          5.849979996821395,
          5.854099180056579,
          5.857209404671856,
          5.859260222736232,
          5.860729792900009,
          5.878820859632596,
          5.89633287185289,
          5.897313316424842,
          5.898664443620196,
          5.9032179177396005,
          5.904220296194595,
          5.906683471260149,
          5.908848345516341,
          5.909280443012257,
          5.915081955076721,
          5.915081955076721,
          5.917417913620635,
          5.917869751611288,
          5.933870519290026,
          5.937877839721699,
          5.939152198326407,
          5.939514107396591,
          5.941231530438737,
          5.945495477301994,
          5.948221858964046,
          5.95202300089513,
          5.956183858508092,
          5.964718332399521,
          5.9697455783926205,
          5.969938596563385,
          5.985040075037423,
          6.008529070386511,
          6.010051281869588,
          6.018329129329431,
          6.022702745607896,
          6.029736941899289,
          6.044987570778009,
          6.055230694158365,
          6.08687251383396,
          6.092623577967428,
          6.100559256851825,
          6.100780789070543,
          6.12585121738692,
          6.130621836948435,
          6.13276258393328,
          6.144573979951101,
          6.1470919897242595,
          6.148954176394478,
          6.149877592870523,
          6.150395232510301,
          6.158135699835629,
          6.176492166553018,
          6.212136919883677,
          6.217508527840528,
          6.250997180468213,
          6.297453144750003,
          6.323833025883954,
          6.325032809286321,
          6.380086855720359,
          6.424970160588077,
          6.441975500110113,
          6.531193762769512,
          6.551454090534898,
          6.663400242801848
         ],
         "yaxis": "y"
        }
       ],
       "layout": {
        "autosize": true,
        "legend": {
         "tracegroupgap": 0
        },
        "margin": {
         "t": 60
        },
        "template": {
         "data": {
          "bar": [
           {
            "error_x": {
             "color": "#2a3f5f"
            },
            "error_y": {
             "color": "#2a3f5f"
            },
            "marker": {
             "line": {
              "color": "#E5ECF6",
              "width": 0.5
             },
             "pattern": {
              "fillmode": "overlay",
              "size": 10,
              "solidity": 0.2
             }
            },
            "type": "bar"
           }
          ],
          "barpolar": [
           {
            "marker": {
             "line": {
              "color": "#E5ECF6",
              "width": 0.5
             },
             "pattern": {
              "fillmode": "overlay",
              "size": 10,
              "solidity": 0.2
             }
            },
            "type": "barpolar"
           }
          ],
          "carpet": [
           {
            "aaxis": {
             "endlinecolor": "#2a3f5f",
             "gridcolor": "white",
             "linecolor": "white",
             "minorgridcolor": "white",
             "startlinecolor": "#2a3f5f"
            },
            "baxis": {
             "endlinecolor": "#2a3f5f",
             "gridcolor": "white",
             "linecolor": "white",
             "minorgridcolor": "white",
             "startlinecolor": "#2a3f5f"
            },
            "type": "carpet"
           }
          ],
          "choropleth": [
           {
            "colorbar": {
             "outlinewidth": 0,
             "ticks": ""
            },
            "type": "choropleth"
           }
          ],
          "contour": [
           {
            "colorbar": {
             "outlinewidth": 0,
             "ticks": ""
            },
            "colorscale": [
             [
              0,
              "#0d0887"
             ],
             [
              0.1111111111111111,
              "#46039f"
             ],
             [
              0.2222222222222222,
              "#7201a8"
             ],
             [
              0.3333333333333333,
              "#9c179e"
             ],
             [
              0.4444444444444444,
              "#bd3786"
             ],
             [
              0.5555555555555556,
              "#d8576b"
             ],
             [
              0.6666666666666666,
              "#ed7953"
             ],
             [
              0.7777777777777778,
              "#fb9f3a"
             ],
             [
              0.8888888888888888,
              "#fdca26"
             ],
             [
              1,
              "#f0f921"
             ]
            ],
            "type": "contour"
           }
          ],
          "contourcarpet": [
           {
            "colorbar": {
             "outlinewidth": 0,
             "ticks": ""
            },
            "type": "contourcarpet"
           }
          ],
          "heatmap": [
           {
            "colorbar": {
             "outlinewidth": 0,
             "ticks": ""
            },
            "colorscale": [
             [
              0,
              "#0d0887"
             ],
             [
              0.1111111111111111,
              "#46039f"
             ],
             [
              0.2222222222222222,
              "#7201a8"
             ],
             [
              0.3333333333333333,
              "#9c179e"
             ],
             [
              0.4444444444444444,
              "#bd3786"
             ],
             [
              0.5555555555555556,
              "#d8576b"
             ],
             [
              0.6666666666666666,
              "#ed7953"
             ],
             [
              0.7777777777777778,
              "#fb9f3a"
             ],
             [
              0.8888888888888888,
              "#fdca26"
             ],
             [
              1,
              "#f0f921"
             ]
            ],
            "type": "heatmap"
           }
          ],
          "heatmapgl": [
           {
            "colorbar": {
             "outlinewidth": 0,
             "ticks": ""
            },
            "colorscale": [
             [
              0,
              "#0d0887"
             ],
             [
              0.1111111111111111,
              "#46039f"
             ],
             [
              0.2222222222222222,
              "#7201a8"
             ],
             [
              0.3333333333333333,
              "#9c179e"
             ],
             [
              0.4444444444444444,
              "#bd3786"
             ],
             [
              0.5555555555555556,
              "#d8576b"
             ],
             [
              0.6666666666666666,
              "#ed7953"
             ],
             [
              0.7777777777777778,
              "#fb9f3a"
             ],
             [
              0.8888888888888888,
              "#fdca26"
             ],
             [
              1,
              "#f0f921"
             ]
            ],
            "type": "heatmapgl"
           }
          ],
          "histogram": [
           {
            "marker": {
             "pattern": {
              "fillmode": "overlay",
              "size": 10,
              "solidity": 0.2
             }
            },
            "type": "histogram"
           }
          ],
          "histogram2d": [
           {
            "colorbar": {
             "outlinewidth": 0,
             "ticks": ""
            },
            "colorscale": [
             [
              0,
              "#0d0887"
             ],
             [
              0.1111111111111111,
              "#46039f"
             ],
             [
              0.2222222222222222,
              "#7201a8"
             ],
             [
              0.3333333333333333,
              "#9c179e"
             ],
             [
              0.4444444444444444,
              "#bd3786"
             ],
             [
              0.5555555555555556,
              "#d8576b"
             ],
             [
              0.6666666666666666,
              "#ed7953"
             ],
             [
              0.7777777777777778,
              "#fb9f3a"
             ],
             [
              0.8888888888888888,
              "#fdca26"
             ],
             [
              1,
              "#f0f921"
             ]
            ],
            "type": "histogram2d"
           }
          ],
          "histogram2dcontour": [
           {
            "colorbar": {
             "outlinewidth": 0,
             "ticks": ""
            },
            "colorscale": [
             [
              0,
              "#0d0887"
             ],
             [
              0.1111111111111111,
              "#46039f"
             ],
             [
              0.2222222222222222,
              "#7201a8"
             ],
             [
              0.3333333333333333,
              "#9c179e"
             ],
             [
              0.4444444444444444,
              "#bd3786"
             ],
             [
              0.5555555555555556,
              "#d8576b"
             ],
             [
              0.6666666666666666,
              "#ed7953"
             ],
             [
              0.7777777777777778,
              "#fb9f3a"
             ],
             [
              0.8888888888888888,
              "#fdca26"
             ],
             [
              1,
              "#f0f921"
             ]
            ],
            "type": "histogram2dcontour"
           }
          ],
          "mesh3d": [
           {
            "colorbar": {
             "outlinewidth": 0,
             "ticks": ""
            },
            "type": "mesh3d"
           }
          ],
          "parcoords": [
           {
            "line": {
             "colorbar": {
              "outlinewidth": 0,
              "ticks": ""
             }
            },
            "type": "parcoords"
           }
          ],
          "pie": [
           {
            "automargin": true,
            "type": "pie"
           }
          ],
          "scatter": [
           {
            "fillpattern": {
             "fillmode": "overlay",
             "size": 10,
             "solidity": 0.2
            },
            "type": "scatter"
           }
          ],
          "scatter3d": [
           {
            "line": {
             "colorbar": {
              "outlinewidth": 0,
              "ticks": ""
             }
            },
            "marker": {
             "colorbar": {
              "outlinewidth": 0,
              "ticks": ""
             }
            },
            "type": "scatter3d"
           }
          ],
          "scattercarpet": [
           {
            "marker": {
             "colorbar": {
              "outlinewidth": 0,
              "ticks": ""
             }
            },
            "type": "scattercarpet"
           }
          ],
          "scattergeo": [
           {
            "marker": {
             "colorbar": {
              "outlinewidth": 0,
              "ticks": ""
             }
            },
            "type": "scattergeo"
           }
          ],
          "scattergl": [
           {
            "marker": {
             "colorbar": {
              "outlinewidth": 0,
              "ticks": ""
             }
            },
            "type": "scattergl"
           }
          ],
          "scattermapbox": [
           {
            "marker": {
             "colorbar": {
              "outlinewidth": 0,
              "ticks": ""
             }
            },
            "type": "scattermapbox"
           }
          ],
          "scatterpolar": [
           {
            "marker": {
             "colorbar": {
              "outlinewidth": 0,
              "ticks": ""
             }
            },
            "type": "scatterpolar"
           }
          ],
          "scatterpolargl": [
           {
            "marker": {
             "colorbar": {
              "outlinewidth": 0,
              "ticks": ""
             }
            },
            "type": "scatterpolargl"
           }
          ],
          "scatterternary": [
           {
            "marker": {
             "colorbar": {
              "outlinewidth": 0,
              "ticks": ""
             }
            },
            "type": "scatterternary"
           }
          ],
          "surface": [
           {
            "colorbar": {
             "outlinewidth": 0,
             "ticks": ""
            },
            "colorscale": [
             [
              0,
              "#0d0887"
             ],
             [
              0.1111111111111111,
              "#46039f"
             ],
             [
              0.2222222222222222,
              "#7201a8"
             ],
             [
              0.3333333333333333,
              "#9c179e"
             ],
             [
              0.4444444444444444,
              "#bd3786"
             ],
             [
              0.5555555555555556,
              "#d8576b"
             ],
             [
              0.6666666666666666,
              "#ed7953"
             ],
             [
              0.7777777777777778,
              "#fb9f3a"
             ],
             [
              0.8888888888888888,
              "#fdca26"
             ],
             [
              1,
              "#f0f921"
             ]
            ],
            "type": "surface"
           }
          ],
          "table": [
           {
            "cells": {
             "fill": {
              "color": "#EBF0F8"
             },
             "line": {
              "color": "white"
             }
            },
            "header": {
             "fill": {
              "color": "#C8D4E3"
             },
             "line": {
              "color": "white"
             }
            },
            "type": "table"
           }
          ]
         },
         "layout": {
          "annotationdefaults": {
           "arrowcolor": "#2a3f5f",
           "arrowhead": 0,
           "arrowwidth": 1
          },
          "autotypenumbers": "strict",
          "coloraxis": {
           "colorbar": {
            "outlinewidth": 0,
            "ticks": ""
           }
          },
          "colorscale": {
           "diverging": [
            [
             0,
             "#8e0152"
            ],
            [
             0.1,
             "#c51b7d"
            ],
            [
             0.2,
             "#de77ae"
            ],
            [
             0.3,
             "#f1b6da"
            ],
            [
             0.4,
             "#fde0ef"
            ],
            [
             0.5,
             "#f7f7f7"
            ],
            [
             0.6,
             "#e6f5d0"
            ],
            [
             0.7,
             "#b8e186"
            ],
            [
             0.8,
             "#7fbc41"
            ],
            [
             0.9,
             "#4d9221"
            ],
            [
             1,
             "#276419"
            ]
           ],
           "sequential": [
            [
             0,
             "#0d0887"
            ],
            [
             0.1111111111111111,
             "#46039f"
            ],
            [
             0.2222222222222222,
             "#7201a8"
            ],
            [
             0.3333333333333333,
             "#9c179e"
            ],
            [
             0.4444444444444444,
             "#bd3786"
            ],
            [
             0.5555555555555556,
             "#d8576b"
            ],
            [
             0.6666666666666666,
             "#ed7953"
            ],
            [
             0.7777777777777778,
             "#fb9f3a"
            ],
            [
             0.8888888888888888,
             "#fdca26"
            ],
            [
             1,
             "#f0f921"
            ]
           ],
           "sequentialminus": [
            [
             0,
             "#0d0887"
            ],
            [
             0.1111111111111111,
             "#46039f"
            ],
            [
             0.2222222222222222,
             "#7201a8"
            ],
            [
             0.3333333333333333,
             "#9c179e"
            ],
            [
             0.4444444444444444,
             "#bd3786"
            ],
            [
             0.5555555555555556,
             "#d8576b"
            ],
            [
             0.6666666666666666,
             "#ed7953"
            ],
            [
             0.7777777777777778,
             "#fb9f3a"
            ],
            [
             0.8888888888888888,
             "#fdca26"
            ],
            [
             1,
             "#f0f921"
            ]
           ]
          },
          "colorway": [
           "#636efa",
           "#EF553B",
           "#00cc96",
           "#ab63fa",
           "#FFA15A",
           "#19d3f3",
           "#FF6692",
           "#B6E880",
           "#FF97FF",
           "#FECB52"
          ],
          "font": {
           "color": "#2a3f5f"
          },
          "geo": {
           "bgcolor": "white",
           "lakecolor": "white",
           "landcolor": "#E5ECF6",
           "showlakes": true,
           "showland": true,
           "subunitcolor": "white"
          },
          "hoverlabel": {
           "align": "left"
          },
          "hovermode": "closest",
          "mapbox": {
           "style": "light"
          },
          "paper_bgcolor": "white",
          "plot_bgcolor": "#E5ECF6",
          "polar": {
           "angularaxis": {
            "gridcolor": "white",
            "linecolor": "white",
            "ticks": ""
           },
           "bgcolor": "#E5ECF6",
           "radialaxis": {
            "gridcolor": "white",
            "linecolor": "white",
            "ticks": ""
           }
          },
          "scene": {
           "xaxis": {
            "backgroundcolor": "#E5ECF6",
            "gridcolor": "white",
            "gridwidth": 2,
            "linecolor": "white",
            "showbackground": true,
            "ticks": "",
            "zerolinecolor": "white"
           },
           "yaxis": {
            "backgroundcolor": "#E5ECF6",
            "gridcolor": "white",
            "gridwidth": 2,
            "linecolor": "white",
            "showbackground": true,
            "ticks": "",
            "zerolinecolor": "white"
           },
           "zaxis": {
            "backgroundcolor": "#E5ECF6",
            "gridcolor": "white",
            "gridwidth": 2,
            "linecolor": "white",
            "showbackground": true,
            "ticks": "",
            "zerolinecolor": "white"
           }
          },
          "shapedefaults": {
           "line": {
            "color": "#2a3f5f"
           }
          },
          "ternary": {
           "aaxis": {
            "gridcolor": "white",
            "linecolor": "white",
            "ticks": ""
           },
           "baxis": {
            "gridcolor": "white",
            "linecolor": "white",
            "ticks": ""
           },
           "bgcolor": "#E5ECF6",
           "caxis": {
            "gridcolor": "white",
            "linecolor": "white",
            "ticks": ""
           }
          },
          "title": {
           "x": 0.05
          },
          "xaxis": {
           "automargin": true,
           "gridcolor": "white",
           "linecolor": "white",
           "ticks": "",
           "title": {
            "standoff": 15
           },
           "zerolinecolor": "white",
           "zerolinewidth": 2
          },
          "yaxis": {
           "automargin": true,
           "gridcolor": "white",
           "linecolor": "white",
           "ticks": "",
           "title": {
            "standoff": 15
           },
           "zerolinecolor": "white",
           "zerolinewidth": 2
          }
         }
        },
        "xaxis": {
         "anchor": "y",
         "autorange": true,
         "domain": [
          0,
          1
         ],
         "range": [
          30.670966999524484,
          579.6754330004756
         ],
         "title": {
          "text": "potassium"
         },
         "type": "linear"
        },
        "yaxis": {
         "anchor": "x",
         "autorange": true,
         "domain": [
          0,
          1
         ],
         "range": [
          4.648044619422572,
          7.361955380577427
         ],
         "title": {
          "text": "ph"
         },
         "type": "linear"
        }
       }
      },
      "image/png": "[encoded data removed]",
      "text/html": [
       "<div>                            <div id=\"8efcc302-b624-4d42-8fcf-7b18da5981ce\" class=\"plotly-graph-div\" style=\"height:525px; width:100%;\"></div>            <script type=\"text/javascript\">                require([\"plotly\"], function(Plotly) {                    window.PLOTLYENV=window.PLOTLYENV || {};                                    if (document.getElementById(\"8efcc302-b624-4d42-8fcf-7b18da5981ce\")) {                    Plotly.newPlot(                        \"8efcc302-b624-4d42-8fcf-7b18da5981ce\",                        [{\"hovertemplate\":\"potassium=%{x}\\u003cbr\\u003eph=%{y}\\u003cextra\\u003e\\u003c\\u002fextra\\u003e\",\"legendgroup\":\"\",\"marker\":{\"color\":\"#636efa\",\"symbol\":\"circle\"},\"mode\":\"markers\",\"name\":\"\",\"orientation\":\"v\",\"showlegend\":false,\"x\":[489.767,304.965,181.069,153.687,121.629,240.767,183.422,148.147,205.043,255.944,129.847,319.684,217.438,233.794,362.021,499.004,420.875,150.959,150.225,314.649,225.714,257.938,114.646,449.091,143.954,152.089,223.981,73.1555,109.268,192.34,169.452,293.535,160.591,219.846,395.775,60.3044,154.895,161.602,168.2,251.476,184.092,261.145,231.502,182.487,272.768,146.363,222.738,233.882,168.928,287.194,165.924,206.03,203.463,308.116,113.561,227.611,124.273,200.771,307.14,293.434,210.143,179.191,346.753,105.809,220.794,87.2653,220.011,219.265,157.254,118.741,140.475,168.937,134.845,208.872,125.15,316.155,203.92,115.882,328.053,315.919,344.304,173.027,441.338,168.066,252.17,200.324,315.498,395.228,383.201,201.387,550.042,169.281,118.102,208.872,206.227,313.501,209.937,268.098,138.724,69.5327,289.816,146.784,136.782],\"xaxis\":\"x\",\"y\":[6.81,6.64,5.07,6.63,5.35,6.76,6.18,6.61,5.47,6.37,6.41,5.68,5.12,5.86,6.7,7.18,5.48,5.17,6.66,5.58,5.63,5.39,4.85,6.92,5.05,6.7,5.21,5.04,6.44,5.03,4.98,6.13,6.64,6.71,5.52,5.09,6.23,4.83,5.41,6.72,6.48,5.06,5.21,7.02,5.13,4.88,6.48,5.38,7.0,5.07,6.77,6.72,5.48,5.04,5.14,5.82,5.19,6.55,6.76,5.34,6.6,6.4,6.9,5.11,6.68,4.95,5.34,6.85,5.16,6.37,6.64,4.84,5.05,6.73,4.96,5.21,6.62,5.14,5.46,6.95,5.48,6.72,5.07,5.3,6.84,6.6,5.94,6.81,6.57,6.84,6.88,6.61,4.93,6.62,6.54,6.71,6.69,5.0,6.48,4.96,6.59,6.78,4.88],\"yaxis\":\"y\",\"type\":\"scatter\"},{\"hovertemplate\":\"\\u003cb\\u003eOLS trendline\\u003c\\u002fb\\u003e\\u003cbr\\u003eph = 0.00219339 * potassium + 5.45694\\u003cbr\\u003eR\\u003csup\\u003e2\\u003c\\u002fsup\\u003e=0.079766\\u003cbr\\u003e\\u003cbr\\u003epotassium=%{x}\\u003cbr\\u003eph=%{y} \\u003cb\\u003e(trend)\\u003c\\u002fb\\u003e\\u003cextra\\u003e\\u003c\\u002fextra\\u003e\",\"legendgroup\":\"\",\"marker\":{\"color\":\"#636efa\",\"symbol\":\"circle\"},\"mode\":\"lines\",\"name\":\"\",\"showlegend\":false,\"x\":[60.3044,69.5327,73.1555,87.2653,105.809,109.268,113.561,114.646,115.882,118.102,118.741,121.629,124.273,125.15,129.847,134.845,136.782,138.724,140.475,143.954,146.363,146.784,148.147,150.225,150.959,152.089,153.687,154.895,157.254,160.591,161.602,165.924,168.066,168.2,168.928,168.937,169.281,169.452,173.027,179.191,181.069,182.487,183.422,184.092,192.34,200.324,200.771,201.387,203.463,203.92,205.043,206.03,206.227,208.872,208.872,209.937,210.143,217.438,219.265,219.846,220.011,220.794,222.738,223.981,225.714,227.611,231.502,233.794,233.882,240.767,251.476,252.17,255.944,257.938,261.145,268.098,272.768,287.194,289.816,293.434,293.535,304.965,307.14,308.116,313.501,314.649,315.498,315.919,316.155,319.684,328.053,344.304,346.753,362.021,383.201,395.228,395.775,420.875,441.338,449.091,489.767,499.004,550.042],\"xaxis\":\"x\",\"y\":[5.589215518861837,5.6094567641489785,5.617402971297234,5.648351241591058,5.689024776286631,5.6966117064306685,5.706027922420363,5.70840774873036,5.711118776674283,5.715988098709484,5.717389673835833,5.723724179258204,5.729523497934363,5.731447099477098,5.741749444341667,5.752711999085784,5.756960592230912,5.761220152317562,5.765060775238119,5.77269157314824,5.777975445572925,5.77889886204897,5.78188845030752,5.786446311203532,5.7880562582187745,5.790534787002459,5.794039821512483,5.7966894345838895,5.801863637593367,5.809182974364298,5.811400489939789,5.820880314190304,5.825578551937782,5.825872465970537,5.8274692526559555,5.827488993150692,5.8282435187273185,5.828618588127327,5.836459951314645,5.849979996821395,5.854099180056579,5.857209404671856,5.859260222736232,5.860729792900009,5.878820859632596,5.89633287185289,5.897313316424842,5.898664443620196,5.9032179177396005,5.904220296194595,5.906683471260149,5.908848345516341,5.909280443012257,5.915081955076721,5.915081955076721,5.917417913620635,5.917869751611288,5.933870519290026,5.937877839721699,5.939152198326407,5.939514107396591,5.941231530438737,5.945495477301994,5.948221858964046,5.95202300089513,5.956183858508092,5.964718332399521,5.9697455783926205,5.969938596563385,5.985040075037423,6.008529070386511,6.010051281869588,6.018329129329431,6.022702745607896,6.029736941899289,6.044987570778009,6.055230694158365,6.08687251383396,6.092623577967428,6.100559256851825,6.100780789070543,6.12585121738692,6.130621836948435,6.13276258393328,6.144573979951101,6.1470919897242595,6.148954176394478,6.149877592870523,6.150395232510301,6.158135699835629,6.176492166553018,6.212136919883677,6.217508527840528,6.250997180468213,6.297453144750003,6.323833025883954,6.325032809286321,6.380086855720359,6.424970160588077,6.441975500110113,6.531193762769512,6.551454090534898,6.663400242801848],\"yaxis\":\"y\",\"type\":\"scatter\"}],                        {\"template\":{\"data\":{\"histogram2dcontour\":[{\"type\":\"histogram2dcontour\",\"colorbar\":{\"outlinewidth\":0,\"ticks\":\"\"},\"colorscale\":[[0.0,\"#0d0887\"],[0.1111111111111111,\"#46039f\"],[0.2222222222222222,\"#7201a8\"],[0.3333333333333333,\"#9c179e\"],[0.4444444444444444,\"#bd3786\"],[0.5555555555555556,\"#d8576b\"],[0.6666666666666666,\"#ed7953\"],[0.7777777777777778,\"#fb9f3a\"],[0.8888888888888888,\"#fdca26\"],[1.0,\"#f0f921\"]]}],\"choropleth\":[{\"type\":\"choropleth\",\"colorbar\":{\"outlinewidth\":0,\"ticks\":\"\"}}],\"histogram2d\":[{\"type\":\"histogram2d\",\"colorbar\":{\"outlinewidth\":0,\"ticks\":\"\"},\"colorscale\":[[0.0,\"#0d0887\"],[0.1111111111111111,\"#46039f\"],[0.2222222222222222,\"#7201a8\"],[0.3333333333333333,\"#9c179e\"],[0.4444444444444444,\"#bd3786\"],[0.5555555555555556,\"#d8576b\"],[0.6666666666666666,\"#ed7953\"],[0.7777777777777778,\"#fb9f3a\"],[0.8888888888888888,\"#fdca26\"],[1.0,\"#f0f921\"]]}],\"heatmap\":[{\"type\":\"heatmap\",\"colorbar\":{\"outlinewidth\":0,\"ticks\":\"\"},\"colorscale\":[[0.0,\"#0d0887\"],[0.1111111111111111,\"#46039f\"],[0.2222222222222222,\"#7201a8\"],[0.3333333333333333,\"#9c179e\"],[0.4444444444444444,\"#bd3786\"],[0.5555555555555556,\"#d8576b\"],[0.6666666666666666,\"#ed7953\"],[0.7777777777777778,\"#fb9f3a\"],[0.8888888888888888,\"#fdca26\"],[1.0,\"#f0f921\"]]}],\"heatmapgl\":[{\"type\":\"heatmapgl\",\"colorbar\":{\"outlinewidth\":0,\"ticks\":\"\"},\"colorscale\":[[0.0,\"#0d0887\"],[0.1111111111111111,\"#46039f\"],[0.2222222222222222,\"#7201a8\"],[0.3333333333333333,\"#9c179e\"],[0.4444444444444444,\"#bd3786\"],[0.5555555555555556,\"#d8576b\"],[0.6666666666666666,\"#ed7953\"],[0.7777777777777778,\"#fb9f3a\"],[0.8888888888888888,\"#fdca26\"],[1.0,\"#f0f921\"]]}],\"contourcarpet\":[{\"type\":\"contourcarpet\",\"colorbar\":{\"outlinewidth\":0,\"ticks\":\"\"}}],\"contour\":[{\"type\":\"contour\",\"colorbar\":{\"outlinewidth\":0,\"ticks\":\"\"},\"colorscale\":[[0.0,\"#0d0887\"],[0.1111111111111111,\"#46039f\"],[0.2222222222222222,\"#7201a8\"],[0.3333333333333333,\"#9c179e\"],[0.4444444444444444,\"#bd3786\"],[0.5555555555555556,\"#d8576b\"],[0.6666666666666666,\"#ed7953\"],[0.7777777777777778,\"#fb9f3a\"],[0.8888888888888888,\"#fdca26\"],[1.0,\"#f0f921\"]]}],\"surface\":[{\"type\":\"surface\",\"colorbar\":{\"outlinewidth\":0,\"ticks\":\"\"},\"colorscale\":[[0.0,\"#0d0887\"],[0.1111111111111111,\"#46039f\"],[0.2222222222222222,\"#7201a8\"],[0.3333333333333333,\"#9c179e\"],[0.4444444444444444,\"#bd3786\"],[0.5555555555555556,\"#d8576b\"],[0.6666666666666666,\"#ed7953\"],[0.7777777777777778,\"#fb9f3a\"],[0.8888888888888888,\"#fdca26\"],[1.0,\"#f0f921\"]]}],\"mesh3d\":[{\"type\":\"mesh3d\",\"colorbar\":{\"outlinewidth\":0,\"ticks\":\"\"}}],\"scatter\":[{\"fillpattern\":{\"fillmode\":\"overlay\",\"size\":10,\"solidity\":0.2},\"type\":\"scatter\"}],\"parcoords\":[{\"type\":\"parcoords\",\"line\":{\"colorbar\":{\"outlinewidth\":0,\"ticks\":\"\"}}}],\"scatterpolargl\":[{\"type\":\"scatterpolargl\",\"marker\":{\"colorbar\":{\"outlinewidth\":0,\"ticks\":\"\"}}}],\"bar\":[{\"error_x\":{\"color\":\"#2a3f5f\"},\"error_y\":{\"color\":\"#2a3f5f\"},\"marker\":{\"line\":{\"color\":\"#E5ECF6\",\"width\":0.5},\"pattern\":{\"fillmode\":\"overlay\",\"size\":10,\"solidity\":0.2}},\"type\":\"bar\"}],\"scattergeo\":[{\"type\":\"scattergeo\",\"marker\":{\"colorbar\":{\"outlinewidth\":0,\"ticks\":\"\"}}}],\"scatterpolar\":[{\"type\":\"scatterpolar\",\"marker\":{\"colorbar\":{\"outlinewidth\":0,\"ticks\":\"\"}}}],\"histogram\":[{\"marker\":{\"pattern\":{\"fillmode\":\"overlay\",\"size\":10,\"solidity\":0.2}},\"type\":\"histogram\"}],\"scattergl\":[{\"type\":\"scattergl\",\"marker\":{\"colorbar\":{\"outlinewidth\":0,\"ticks\":\"\"}}}],\"scatter3d\":[{\"type\":\"scatter3d\",\"line\":{\"colorbar\":{\"outlinewidth\":0,\"ticks\":\"\"}},\"marker\":{\"colorbar\":{\"outlinewidth\":0,\"ticks\":\"\"}}}],\"scattermapbox\":[{\"type\":\"scattermapbox\",\"marker\":{\"colorbar\":{\"outlinewidth\":0,\"ticks\":\"\"}}}],\"scatterternary\":[{\"type\":\"scatterternary\",\"marker\":{\"colorbar\":{\"outlinewidth\":0,\"ticks\":\"\"}}}],\"scattercarpet\":[{\"type\":\"scattercarpet\",\"marker\":{\"colorbar\":{\"outlinewidth\":0,\"ticks\":\"\"}}}],\"carpet\":[{\"aaxis\":{\"endlinecolor\":\"#2a3f5f\",\"gridcolor\":\"white\",\"linecolor\":\"white\",\"minorgridcolor\":\"white\",\"startlinecolor\":\"#2a3f5f\"},\"baxis\":{\"endlinecolor\":\"#2a3f5f\",\"gridcolor\":\"white\",\"linecolor\":\"white\",\"minorgridcolor\":\"white\",\"startlinecolor\":\"#2a3f5f\"},\"type\":\"carpet\"}],\"table\":[{\"cells\":{\"fill\":{\"color\":\"#EBF0F8\"},\"line\":{\"color\":\"white\"}},\"header\":{\"fill\":{\"color\":\"#C8D4E3\"},\"line\":{\"color\":\"white\"}},\"type\":\"table\"}],\"barpolar\":[{\"marker\":{\"line\":{\"color\":\"#E5ECF6\",\"width\":0.5},\"pattern\":{\"fillmode\":\"overlay\",\"size\":10,\"solidity\":0.2}},\"type\":\"barpolar\"}],\"pie\":[{\"automargin\":true,\"type\":\"pie\"}]},\"layout\":{\"autotypenumbers\":\"strict\",\"colorway\":[\"#636efa\",\"#EF553B\",\"#00cc96\",\"#ab63fa\",\"#FFA15A\",\"#19d3f3\",\"#FF6692\",\"#B6E880\",\"#FF97FF\",\"#FECB52\"],\"font\":{\"color\":\"#2a3f5f\"},\"hovermode\":\"closest\",\"hoverlabel\":{\"align\":\"left\"},\"paper_bgcolor\":\"white\",\"plot_bgcolor\":\"#E5ECF6\",\"polar\":{\"bgcolor\":\"#E5ECF6\",\"angularaxis\":{\"gridcolor\":\"white\",\"linecolor\":\"white\",\"ticks\":\"\"},\"radialaxis\":{\"gridcolor\":\"white\",\"linecolor\":\"white\",\"ticks\":\"\"}},\"ternary\":{\"bgcolor\":\"#E5ECF6\",\"aaxis\":{\"gridcolor\":\"white\",\"linecolor\":\"white\",\"ticks\":\"\"},\"baxis\":{\"gridcolor\":\"white\",\"linecolor\":\"white\",\"ticks\":\"\"},\"caxis\":{\"gridcolor\":\"white\",\"linecolor\":\"white\",\"ticks\":\"\"}},\"coloraxis\":{\"colorbar\":{\"outlinewidth\":0,\"ticks\":\"\"}},\"colorscale\":{\"sequential\":[[0.0,\"#0d0887\"],[0.1111111111111111,\"#46039f\"],[0.2222222222222222,\"#7201a8\"],[0.3333333333333333,\"#9c179e\"],[0.4444444444444444,\"#bd3786\"],[0.5555555555555556,\"#d8576b\"],[0.6666666666666666,\"#ed7953\"],[0.7777777777777778,\"#fb9f3a\"],[0.8888888888888888,\"#fdca26\"],[1.0,\"#f0f921\"]],\"sequentialminus\":[[0.0,\"#0d0887\"],[0.1111111111111111,\"#46039f\"],[0.2222222222222222,\"#7201a8\"],[0.3333333333333333,\"#9c179e\"],[0.4444444444444444,\"#bd3786\"],[0.5555555555555556,\"#d8576b\"],[0.6666666666666666,\"#ed7953\"],[0.7777777777777778,\"#fb9f3a\"],[0.8888888888888888,\"#fdca26\"],[1.0,\"#f0f921\"]],\"diverging\":[[0,\"#8e0152\"],[0.1,\"#c51b7d\"],[0.2,\"#de77ae\"],[0.3,\"#f1b6da\"],[0.4,\"#fde0ef\"],[0.5,\"#f7f7f7\"],[0.6,\"#e6f5d0\"],[0.7,\"#b8e186\"],[0.8,\"#7fbc41\"],[0.9,\"#4d9221\"],[1,\"#276419\"]]},\"xaxis\":{\"gridcolor\":\"white\",\"linecolor\":\"white\",\"ticks\":\"\",\"title\":{\"standoff\":15},\"zerolinecolor\":\"white\",\"automargin\":true,\"zerolinewidth\":2},\"yaxis\":{\"gridcolor\":\"white\",\"linecolor\":\"white\",\"ticks\":\"\",\"title\":{\"standoff\":15},\"zerolinecolor\":\"white\",\"automargin\":true,\"zerolinewidth\":2},\"scene\":{\"xaxis\":{\"backgroundcolor\":\"#E5ECF6\",\"gridcolor\":\"white\",\"linecolor\":\"white\",\"showbackground\":true,\"ticks\":\"\",\"zerolinecolor\":\"white\",\"gridwidth\":2},\"yaxis\":{\"backgroundcolor\":\"#E5ECF6\",\"gridcolor\":\"white\",\"linecolor\":\"white\",\"showbackground\":true,\"ticks\":\"\",\"zerolinecolor\":\"white\",\"gridwidth\":2},\"zaxis\":{\"backgroundcolor\":\"#E5ECF6\",\"gridcolor\":\"white\",\"linecolor\":\"white\",\"showbackground\":true,\"ticks\":\"\",\"zerolinecolor\":\"white\",\"gridwidth\":2}},\"shapedefaults\":{\"line\":{\"color\":\"#2a3f5f\"}},\"annotationdefaults\":{\"arrowcolor\":\"#2a3f5f\",\"arrowhead\":0,\"arrowwidth\":1},\"geo\":{\"bgcolor\":\"white\",\"landcolor\":\"#E5ECF6\",\"subunitcolor\":\"white\",\"showland\":true,\"showlakes\":true,\"lakecolor\":\"white\"},\"title\":{\"x\":0.05},\"mapbox\":{\"style\":\"light\"}}},\"xaxis\":{\"anchor\":\"y\",\"domain\":[0.0,1.0],\"title\":{\"text\":\"potassium\"}},\"yaxis\":{\"anchor\":\"x\",\"domain\":[0.0,1.0],\"title\":{\"text\":\"ph\"}},\"legend\":{\"tracegroupgap\":0},\"margin\":{\"t\":60}},                        {\"responsive\": true}                    ).then(function(){\n",
       "                            \n",
       "var gd = document.getElementById('8efcc302-b624-4d42-8fcf-7b18da5981ce');\n",
       "var x = new MutationObserver(function (mutations, observer) {{\n",
       "        var display = window.getComputedStyle(gd).display;\n",
       "        if (!display || display === 'none') {{\n",
       "            console.log([gd, 'removed!']);\n",
       "            Plotly.purge(gd);\n",
       "            observer.disconnect();\n",
       "        }}\n",
       "}});\n",
       "\n",
       "// Listen for the removal of the full notebook cells\n",
       "var notebookContainer = gd.closest('#notebook-container');\n",
       "if (notebookContainer) {{\n",
       "    x.observe(notebookContainer, {childList: true});\n",
       "}}\n",
       "\n",
       "// Listen for the clearing of the current output cell\n",
       "var outputEl = gd.closest('.output');\n",
       "if (outputEl) {{\n",
       "    x.observe(outputEl, {childList: true});\n",
       "}}\n",
       "\n",
       "                        })                };                });            </script>        </div>"
      ]
     },
     "metadata": {},
     "output_type": "display_data"
    }
   ],
   "source": [
    "# Look at potassium vs. ph\n",
    "fig = px.scatter(df, x=\"potassium\", y=\"ph\", trendline = \"ols\")\n",
    "fig.show()"
   ]
  },
  {
   "cell_type": "code",
   "execution_count": 72,
   "id": "fb69a6fd-ee24-4e46-8f83-75187819457b",
   "metadata": {},
   "outputs": [
    {
     "data": {
      "application/vnd.plotly.v1+json": {
       "config": {
        "plotlyServerURL": "https://plot.ly"
       },
       "data": [
        {
         "hovertemplate": "potassium=%{x}<br>magnesium=%{y}<extra></extra>",
         "legendgroup": "",
         "marker": {
          "color": "#636efa",
          "symbol": "circle"
         },
         "mode": "markers",
         "name": "",
         "orientation": "v",
         "showlegend": false,
         "type": "scatter",
         "x": [
          489.767,
          304.965,
          181.069,
          153.687,
          121.629,
          240.767,
          183.422,
          148.147,
          205.043,
          255.944,
          129.847,
          319.684,
          217.438,
          233.794,
          362.021,
          499.004,
          420.875,
          150.959,
          150.225,
          314.649,
          225.714,
          257.938,
          114.646,
          449.091,
          143.954,
          152.089,
          223.981,
          73.1555,
          109.268,
          192.34,
          169.452,
          293.535,
          160.591,
          219.846,
          395.775,
          60.3044,
          154.895,
          161.602,
          168.2,
          251.476,
          184.092,
          261.145,
          231.502,
          182.487,
          272.768,
          146.363,
          222.738,
          233.882,
          168.928,
          287.194,
          165.924,
          206.03,
          203.463,
          308.116,
          113.561,
          227.611,
          124.273,
          200.771,
          307.14,
          293.434,
          210.143,
          179.191,
          346.753,
          105.809,
          220.794,
          87.2653,
          220.011,
          219.265,
          157.254,
          118.741,
          140.475,
          168.937,
          134.845,
          208.872,
          125.15,
          316.155,
          203.92,
          115.882,
          328.053,
          315.919,
          344.304,
          173.027,
          441.338,
          168.066,
          252.17,
          200.324,
          315.498,
          395.228,
          383.201,
          201.387,
          550.042,
          169.281,
          118.102,
          208.872,
          206.227,
          313.501,
          209.937,
          268.098,
          138.724,
          69.5327,
          289.816,
          146.784,
          136.782
         ],
         "xaxis": "x",
         "y": [
          458.94,
          351.875,
          399.987,
          439.551,
          392.849,
          519.957,
          363.029,
          423.518,
          568.66,
          450.242,
          250.941,
          524.971,
          235.425,
          437.842,
          477.527,
          337.385,
          472.697,
          391.663,
          421.19,
          505.921,
          395.375,
          434.396,
          219.335,
          418.21,
          379.192,
          434.138,
          476.143,
          440.041,
          289.001,
          356.661,
          456.562,
          584.535,
          435.555,
          324.19,
          514.993,
          364.595,
          456.241,
          307.229,
          578.148,
          397.536,
          398.928,
          337.671,
          421.954,
          532.26,
          450.128,
          195.602,
          312.3,
          401.36,
          536.746,
          349.431,
          400.552,
          493.054,
          453.022,
          396.634,
          331.5,
          488.095,
          401.356,
          469.339,
          404.477,
          435.812,
          502.549,
          516.737,
          405.766,
          387.456,
          458.483,
          359.242,
          410.271,
          485.077,
          459.533,
          294.494,
          509.772,
          291.535,
          404.205,
          433.255,
          401.422,
          345.542,
          557.714,
          364.457,
          444.03,
          502.777,
          537.364,
          448.931,
          379.527,
          545.537,
          517.121,
          457.321,
          416.181,
          442.037,
          440.445,
          442.326,
          469.368,
          471.495,
          314.93,
          447.272,
          440.421,
          435.482,
          446.918,
          305.976,
          509.653,
          374.933,
          445.767,
          331.686,
          313.425
         ],
         "yaxis": "y"
        },
        {
         "hovertemplate": "<b>OLS trendline</b><br>magnesium = 0.187886 * potassium + 379.016<br>R<sup>2</sup>=0.054779<br><br>potassium=%{x}<br>magnesium=%{y} <b>(trend)</b><extra></extra>",
         "legendgroup": "",
         "marker": {
          "color": "#636efa",
          "symbol": "circle"
         },
         "mode": "lines",
         "name": "",
         "showlegend": false,
         "type": "scatter",
         "x": [
          60.3044,
          69.5327,
          73.1555,
          87.2653,
          105.809,
          109.268,
          113.561,
          114.646,
          115.882,
          118.102,
          118.741,
          121.629,
          124.273,
          125.15,
          129.847,
          134.845,
          136.782,
          138.724,
          140.475,
          143.954,
          146.363,
          146.784,
          148.147,
          150.225,
          150.959,
          152.089,
          153.687,
          154.895,
          157.254,
          160.591,
          161.602,
          165.924,
          168.066,
          168.2,
          168.928,
          168.937,
          169.281,
          169.452,
          173.027,
          179.191,
          181.069,
          182.487,
          183.422,
          184.092,
          192.34,
          200.324,
          200.771,
          201.387,
          203.463,
          203.92,
          205.043,
          206.03,
          206.227,
          208.872,
          208.872,
          209.937,
          210.143,
          217.438,
          219.265,
          219.846,
          220.011,
          220.794,
          222.738,
          223.981,
          225.714,
          227.611,
          231.502,
          233.794,
          233.882,
          240.767,
          251.476,
          252.17,
          255.944,
          257.938,
          261.145,
          268.098,
          272.768,
          287.194,
          289.816,
          293.434,
          293.535,
          304.965,
          307.14,
          308.116,
          313.501,
          314.649,
          315.498,
          315.919,
          316.155,
          319.684,
          328.053,
          344.304,
          346.753,
          362.021,
          383.201,
          395.228,
          395.775,
          420.875,
          441.338,
          449.091,
          489.767,
          499.004,
          550.042
         ],
         "xaxis": "x",
         "y": [
          390.3465309594751,
          392.08039485066985,
          392.76106649171106,
          395.4120935207392,
          398.8961861314203,
          399.5460821252266,
          400.35267463792115,
          400.55653042088727,
          400.78875691650586,
          401.20586275815083,
          401.32592160175943,
          401.86853496692646,
          402.36530426661534,
          402.53007986261656,
          403.4125781230699,
          404.3516299233139,
          404.71556416442485,
          405.0804378331071,
          405.4094253685667,
          406.0630790726581,
          406.5156952764972,
          406.59479507799836,
          406.85088303392723,
          407.24130913254805,
          407.37921710001086,
          407.59152773111845,
          407.89176878289715,
          408.11873448411654,
          408.5619564122429,
          409.1889303733102,
          409.3788826282215,
          410.1909238208294,
          410.5933745923626,
          410.61855125127266,
          410.75533190564994,
          410.7570228752782,
          410.8216554921818,
          410.85378391511927,
          411.5254746285791,
          412.6836009384438,
          413.0364499342138,
          413.3028715934267,
          413.47854454925465,
          413.6044278438051,
          415.15410756537625,
          416.65418551118415,
          416.73817033605593,
          416.85390781283667,
          417.243958140429,
          417.3298218204433,
          417.5408172529511,
          417.7262602555203,
          417.76327370182844,
          418.2602308870316,
          418.2602308870316,
          418.4603289597126,
          418.49903337564905,
          419.8696582021356,
          420.2129250366786,
          420.32208652046046,
          420.3530876303124,
          420.5002019879737,
          420.86545142768443,
          421.0989931219028,
          421.4245987181058,
          421.7810175386466,
          422.5120800746109,
          422.9427136732822,
          422.9592475985366,
          424.2528393641788,
          426.26490533633023,
          426.39529788322284,
          427.1043778140193,
          427.4790215294428,
          428.0815703736569,
          429.3879383542685,
          430.265363705837,
          432.97580013447237,
          433.46843595284764,
          434.1482057434204,
          434.16718218036016,
          436.314713608289,
          436.7233646017926,
          436.90674086370495,
          437.91850435796545,
          438.1341969283296,
          438.29371172993166,
          438.3728115314328,
          438.41715251279686,
          439.08020049260097,
          440.6526143613969,
          443.70594185354673,
          444.166073477956,
          447.03470950959365,
          451.01412470150393,
          453.2738237814428,
          453.37659715774,
          458.09252356552787,
          461.9372248437177,
          463.39390123573276,
          471.03633241354873,
          472.7718309087175,
          482.36113178523857
         ],
         "yaxis": "y"
        }
       ],
       "layout": {
        "autosize": true,
        "legend": {
         "tracegroupgap": 0
        },
        "margin": {
         "t": 60
        },
        "template": {
         "data": {
          "bar": [
           {
            "error_x": {
             "color": "#2a3f5f"
            },
            "error_y": {
             "color": "#2a3f5f"
            },
            "marker": {
             "line": {
              "color": "#E5ECF6",
              "width": 0.5
             },
             "pattern": {
              "fillmode": "overlay",
              "size": 10,
              "solidity": 0.2
             }
            },
            "type": "bar"
           }
          ],
          "barpolar": [
           {
            "marker": {
             "line": {
              "color": "#E5ECF6",
              "width": 0.5
             },
             "pattern": {
              "fillmode": "overlay",
              "size": 10,
              "solidity": 0.2
             }
            },
            "type": "barpolar"
           }
          ],
          "carpet": [
           {
            "aaxis": {
             "endlinecolor": "#2a3f5f",
             "gridcolor": "white",
             "linecolor": "white",
             "minorgridcolor": "white",
             "startlinecolor": "#2a3f5f"
            },
            "baxis": {
             "endlinecolor": "#2a3f5f",
             "gridcolor": "white",
             "linecolor": "white",
             "minorgridcolor": "white",
             "startlinecolor": "#2a3f5f"
            },
            "type": "carpet"
           }
          ],
          "choropleth": [
           {
            "colorbar": {
             "outlinewidth": 0,
             "ticks": ""
            },
            "type": "choropleth"
           }
          ],
          "contour": [
           {
            "colorbar": {
             "outlinewidth": 0,
             "ticks": ""
            },
            "colorscale": [
             [
              0,
              "#0d0887"
             ],
             [
              0.1111111111111111,
              "#46039f"
             ],
             [
              0.2222222222222222,
              "#7201a8"
             ],
             [
              0.3333333333333333,
              "#9c179e"
             ],
             [
              0.4444444444444444,
              "#bd3786"
             ],
             [
              0.5555555555555556,
              "#d8576b"
             ],
             [
              0.6666666666666666,
              "#ed7953"
             ],
             [
              0.7777777777777778,
              "#fb9f3a"
             ],
             [
              0.8888888888888888,
              "#fdca26"
             ],
             [
              1,
              "#f0f921"
             ]
            ],
            "type": "contour"
           }
          ],
          "contourcarpet": [
           {
            "colorbar": {
             "outlinewidth": 0,
             "ticks": ""
            },
            "type": "contourcarpet"
           }
          ],
          "heatmap": [
           {
            "colorbar": {
             "outlinewidth": 0,
             "ticks": ""
            },
            "colorscale": [
             [
              0,
              "#0d0887"
             ],
             [
              0.1111111111111111,
              "#46039f"
             ],
             [
              0.2222222222222222,
              "#7201a8"
             ],
             [
              0.3333333333333333,
              "#9c179e"
             ],
             [
              0.4444444444444444,
              "#bd3786"
             ],
             [
              0.5555555555555556,
              "#d8576b"
             ],
             [
              0.6666666666666666,
              "#ed7953"
             ],
             [
              0.7777777777777778,
              "#fb9f3a"
             ],
             [
              0.8888888888888888,
              "#fdca26"
             ],
             [
              1,
              "#f0f921"
             ]
            ],
            "type": "heatmap"
           }
          ],
          "heatmapgl": [
           {
            "colorbar": {
             "outlinewidth": 0,
             "ticks": ""
            },
            "colorscale": [
             [
              0,
              "#0d0887"
             ],
             [
              0.1111111111111111,
              "#46039f"
             ],
             [
              0.2222222222222222,
              "#7201a8"
             ],
             [
              0.3333333333333333,
              "#9c179e"
             ],
             [
              0.4444444444444444,
              "#bd3786"
             ],
             [
              0.5555555555555556,
              "#d8576b"
             ],
             [
              0.6666666666666666,
              "#ed7953"
             ],
             [
              0.7777777777777778,
              "#fb9f3a"
             ],
             [
              0.8888888888888888,
              "#fdca26"
             ],
             [
              1,
              "#f0f921"
             ]
            ],
            "type": "heatmapgl"
           }
          ],
          "histogram": [
           {
            "marker": {
             "pattern": {
              "fillmode": "overlay",
              "size": 10,
              "solidity": 0.2
             }
            },
            "type": "histogram"
           }
          ],
          "histogram2d": [
           {
            "colorbar": {
             "outlinewidth": 0,
             "ticks": ""
            },
            "colorscale": [
             [
              0,
              "#0d0887"
             ],
             [
              0.1111111111111111,
              "#46039f"
             ],
             [
              0.2222222222222222,
              "#7201a8"
             ],
             [
              0.3333333333333333,
              "#9c179e"
             ],
             [
              0.4444444444444444,
              "#bd3786"
             ],
             [
              0.5555555555555556,
              "#d8576b"
             ],
             [
              0.6666666666666666,
              "#ed7953"
             ],
             [
              0.7777777777777778,
              "#fb9f3a"
             ],
             [
              0.8888888888888888,
              "#fdca26"
             ],
             [
              1,
              "#f0f921"
             ]
            ],
            "type": "histogram2d"
           }
          ],
          "histogram2dcontour": [
           {
            "colorbar": {
             "outlinewidth": 0,
             "ticks": ""
            },
            "colorscale": [
             [
              0,
              "#0d0887"
             ],
             [
              0.1111111111111111,
              "#46039f"
             ],
             [
              0.2222222222222222,
              "#7201a8"
             ],
             [
              0.3333333333333333,
              "#9c179e"
             ],
             [
              0.4444444444444444,
              "#bd3786"
             ],
             [
              0.5555555555555556,
              "#d8576b"
             ],
             [
              0.6666666666666666,
              "#ed7953"
             ],
             [
              0.7777777777777778,
              "#fb9f3a"
             ],
             [
              0.8888888888888888,
              "#fdca26"
             ],
             [
              1,
              "#f0f921"
             ]
            ],
            "type": "histogram2dcontour"
           }
          ],
          "mesh3d": [
           {
            "colorbar": {
             "outlinewidth": 0,
             "ticks": ""
            },
            "type": "mesh3d"
           }
          ],
          "parcoords": [
           {
            "line": {
             "colorbar": {
              "outlinewidth": 0,
              "ticks": ""
             }
            },
            "type": "parcoords"
           }
          ],
          "pie": [
           {
            "automargin": true,
            "type": "pie"
           }
          ],
          "scatter": [
           {
            "fillpattern": {
             "fillmode": "overlay",
             "size": 10,
             "solidity": 0.2
            },
            "type": "scatter"
           }
          ],
          "scatter3d": [
           {
            "line": {
             "colorbar": {
              "outlinewidth": 0,
              "ticks": ""
             }
            },
            "marker": {
             "colorbar": {
              "outlinewidth": 0,
              "ticks": ""
             }
            },
            "type": "scatter3d"
           }
          ],
          "scattercarpet": [
           {
            "marker": {
             "colorbar": {
              "outlinewidth": 0,
              "ticks": ""
             }
            },
            "type": "scattercarpet"
           }
          ],
          "scattergeo": [
           {
            "marker": {
             "colorbar": {
              "outlinewidth": 0,
              "ticks": ""
             }
            },
            "type": "scattergeo"
           }
          ],
          "scattergl": [
           {
            "marker": {
             "colorbar": {
              "outlinewidth": 0,
              "ticks": ""
             }
            },
            "type": "scattergl"
           }
          ],
          "scattermapbox": [
           {
            "marker": {
             "colorbar": {
              "outlinewidth": 0,
              "ticks": ""
             }
            },
            "type": "scattermapbox"
           }
          ],
          "scatterpolar": [
           {
            "marker": {
             "colorbar": {
              "outlinewidth": 0,
              "ticks": ""
             }
            },
            "type": "scatterpolar"
           }
          ],
          "scatterpolargl": [
           {
            "marker": {
             "colorbar": {
              "outlinewidth": 0,
              "ticks": ""
             }
            },
            "type": "scatterpolargl"
           }
          ],
          "scatterternary": [
           {
            "marker": {
             "colorbar": {
              "outlinewidth": 0,
              "ticks": ""
             }
            },
            "type": "scatterternary"
           }
          ],
          "surface": [
           {
            "colorbar": {
             "outlinewidth": 0,
             "ticks": ""
            },
            "colorscale": [
             [
              0,
              "#0d0887"
             ],
             [
              0.1111111111111111,
              "#46039f"
             ],
             [
              0.2222222222222222,
              "#7201a8"
             ],
             [
              0.3333333333333333,
              "#9c179e"
             ],
             [
              0.4444444444444444,
              "#bd3786"
             ],
             [
              0.5555555555555556,
              "#d8576b"
             ],
             [
              0.6666666666666666,
              "#ed7953"
             ],
             [
              0.7777777777777778,
              "#fb9f3a"
             ],
             [
              0.8888888888888888,
              "#fdca26"
             ],
             [
              1,
              "#f0f921"
             ]
            ],
            "type": "surface"
           }
          ],
          "table": [
           {
            "cells": {
             "fill": {
              "color": "#EBF0F8"
             },
             "line": {
              "color": "white"
             }
            },
            "header": {
             "fill": {
              "color": "#C8D4E3"
             },
             "line": {
              "color": "white"
             }
            },
            "type": "table"
           }
          ]
         },
         "layout": {
          "annotationdefaults": {
           "arrowcolor": "#2a3f5f",
           "arrowhead": 0,
           "arrowwidth": 1
          },
          "autotypenumbers": "strict",
          "coloraxis": {
           "colorbar": {
            "outlinewidth": 0,
            "ticks": ""
           }
          },
          "colorscale": {
           "diverging": [
            [
             0,
             "#8e0152"
            ],
            [
             0.1,
             "#c51b7d"
            ],
            [
             0.2,
             "#de77ae"
            ],
            [
             0.3,
             "#f1b6da"
            ],
            [
             0.4,
             "#fde0ef"
            ],
            [
             0.5,
             "#f7f7f7"
            ],
            [
             0.6,
             "#e6f5d0"
            ],
            [
             0.7,
             "#b8e186"
            ],
            [
             0.8,
             "#7fbc41"
            ],
            [
             0.9,
             "#4d9221"
            ],
            [
             1,
             "#276419"
            ]
           ],
           "sequential": [
            [
             0,
             "#0d0887"
            ],
            [
             0.1111111111111111,
             "#46039f"
            ],
            [
             0.2222222222222222,
             "#7201a8"
            ],
            [
             0.3333333333333333,
             "#9c179e"
            ],
            [
             0.4444444444444444,
             "#bd3786"
            ],
            [
             0.5555555555555556,
             "#d8576b"
            ],
            [
             0.6666666666666666,
             "#ed7953"
            ],
            [
             0.7777777777777778,
             "#fb9f3a"
            ],
            [
             0.8888888888888888,
             "#fdca26"
            ],
            [
             1,
             "#f0f921"
            ]
           ],
           "sequentialminus": [
            [
             0,
             "#0d0887"
            ],
            [
             0.1111111111111111,
             "#46039f"
            ],
            [
             0.2222222222222222,
             "#7201a8"
            ],
            [
             0.3333333333333333,
             "#9c179e"
            ],
            [
             0.4444444444444444,
             "#bd3786"
            ],
            [
             0.5555555555555556,
             "#d8576b"
            ],
            [
             0.6666666666666666,
             "#ed7953"
            ],
            [
             0.7777777777777778,
             "#fb9f3a"
            ],
            [
             0.8888888888888888,
             "#fdca26"
            ],
            [
             1,
             "#f0f921"
            ]
           ]
          },
          "colorway": [
           "#636efa",
           "#EF553B",
           "#00cc96",
           "#ab63fa",
           "#FFA15A",
           "#19d3f3",
           "#FF6692",
           "#B6E880",
           "#FF97FF",
           "#FECB52"
          ],
          "font": {
           "color": "#2a3f5f"
          },
          "geo": {
           "bgcolor": "white",
           "lakecolor": "white",
           "landcolor": "#E5ECF6",
           "showlakes": true,
           "showland": true,
           "subunitcolor": "white"
          },
          "hoverlabel": {
           "align": "left"
          },
          "hovermode": "closest",
          "mapbox": {
           "style": "light"
          },
          "paper_bgcolor": "white",
          "plot_bgcolor": "#E5ECF6",
          "polar": {
           "angularaxis": {
            "gridcolor": "white",
            "linecolor": "white",
            "ticks": ""
           },
           "bgcolor": "#E5ECF6",
           "radialaxis": {
            "gridcolor": "white",
            "linecolor": "white",
            "ticks": ""
           }
          },
          "scene": {
           "xaxis": {
            "backgroundcolor": "#E5ECF6",
            "gridcolor": "white",
            "gridwidth": 2,
            "linecolor": "white",
            "showbackground": true,
            "ticks": "",
            "zerolinecolor": "white"
           },
           "yaxis": {
            "backgroundcolor": "#E5ECF6",
            "gridcolor": "white",
            "gridwidth": 2,
            "linecolor": "white",
            "showbackground": true,
            "ticks": "",
            "zerolinecolor": "white"
           },
           "zaxis": {
            "backgroundcolor": "#E5ECF6",
            "gridcolor": "white",
            "gridwidth": 2,
            "linecolor": "white",
            "showbackground": true,
            "ticks": "",
            "zerolinecolor": "white"
           }
          },
          "shapedefaults": {
           "line": {
            "color": "#2a3f5f"
           }
          },
          "ternary": {
           "aaxis": {
            "gridcolor": "white",
            "linecolor": "white",
            "ticks": ""
           },
           "baxis": {
            "gridcolor": "white",
            "linecolor": "white",
            "ticks": ""
           },
           "bgcolor": "#E5ECF6",
           "caxis": {
            "gridcolor": "white",
            "linecolor": "white",
            "ticks": ""
           }
          },
          "title": {
           "x": 0.05
          },
          "xaxis": {
           "automargin": true,
           "gridcolor": "white",
           "linecolor": "white",
           "ticks": "",
           "title": {
            "standoff": 15
           },
           "zerolinecolor": "white",
           "zerolinewidth": 2
          },
          "yaxis": {
           "automargin": true,
           "gridcolor": "white",
           "linecolor": "white",
           "ticks": "",
           "title": {
            "standoff": 15
           },
           "zerolinecolor": "white",
           "zerolinewidth": 2
          }
         }
        },
        "xaxis": {
         "anchor": "y",
         "autorange": true,
         "domain": [
          0,
          1
         ],
         "range": [
          30.670966999524484,
          579.6754330004756
         ],
         "title": {
          "text": "potassium"
         },
         "type": "linear"
        },
        "yaxis": {
         "anchor": "x",
         "autorange": true,
         "domain": [
          0,
          1
         ],
         "range": [
          165.48776509186354,
          614.6492349081365
         ],
         "title": {
          "text": "magnesium"
         },
         "type": "linear"
        }
       }
      },
      "image/png": "[encoded data removed]",
      "text/html": [
       "<div>                            <div id=\"0ff91b19-53de-4ea6-8b49-0f511ef6de5c\" class=\"plotly-graph-div\" style=\"height:525px; width:100%;\"></div>            <script type=\"text/javascript\">                require([\"plotly\"], function(Plotly) {                    window.PLOTLYENV=window.PLOTLYENV || {};                                    if (document.getElementById(\"0ff91b19-53de-4ea6-8b49-0f511ef6de5c\")) {                    Plotly.newPlot(                        \"0ff91b19-53de-4ea6-8b49-0f511ef6de5c\",                        [{\"hovertemplate\":\"potassium=%{x}\\u003cbr\\u003emagnesium=%{y}\\u003cextra\\u003e\\u003c\\u002fextra\\u003e\",\"legendgroup\":\"\",\"marker\":{\"color\":\"#636efa\",\"symbol\":\"circle\"},\"mode\":\"markers\",\"name\":\"\",\"orientation\":\"v\",\"showlegend\":false,\"x\":[489.767,304.965,181.069,153.687,121.629,240.767,183.422,148.147,205.043,255.944,129.847,319.684,217.438,233.794,362.021,499.004,420.875,150.959,150.225,314.649,225.714,257.938,114.646,449.091,143.954,152.089,223.981,73.1555,109.268,192.34,169.452,293.535,160.591,219.846,395.775,60.3044,154.895,161.602,168.2,251.476,184.092,261.145,231.502,182.487,272.768,146.363,222.738,233.882,168.928,287.194,165.924,206.03,203.463,308.116,113.561,227.611,124.273,200.771,307.14,293.434,210.143,179.191,346.753,105.809,220.794,87.2653,220.011,219.265,157.254,118.741,140.475,168.937,134.845,208.872,125.15,316.155,203.92,115.882,328.053,315.919,344.304,173.027,441.338,168.066,252.17,200.324,315.498,395.228,383.201,201.387,550.042,169.281,118.102,208.872,206.227,313.501,209.937,268.098,138.724,69.5327,289.816,146.784,136.782],\"xaxis\":\"x\",\"y\":[458.94,351.875,399.987,439.551,392.849,519.957,363.029,423.518,568.66,450.242,250.941,524.971,235.425,437.842,477.527,337.385,472.697,391.663,421.19,505.921,395.375,434.396,219.335,418.21,379.192,434.138,476.143,440.041,289.001,356.661,456.562,584.535,435.555,324.19,514.993,364.595,456.241,307.229,578.148,397.536,398.928,337.671,421.954,532.26,450.128,195.602,312.3,401.36,536.746,349.431,400.552,493.054,453.022,396.634,331.5,488.095,401.356,469.339,404.477,435.812,502.549,516.737,405.766,387.456,458.483,359.242,410.271,485.077,459.533,294.494,509.772,291.535,404.205,433.255,401.422,345.542,557.714,364.457,444.03,502.777,537.364,448.931,379.527,545.537,517.121,457.321,416.181,442.037,440.445,442.326,469.368,471.495,314.93,447.272,440.421,435.482,446.918,305.976,509.653,374.933,445.767,331.686,313.425],\"yaxis\":\"y\",\"type\":\"scatter\"},{\"hovertemplate\":\"\\u003cb\\u003eOLS trendline\\u003c\\u002fb\\u003e\\u003cbr\\u003emagnesium = 0.187886 * potassium + 379.016\\u003cbr\\u003eR\\u003csup\\u003e2\\u003c\\u002fsup\\u003e=0.054779\\u003cbr\\u003e\\u003cbr\\u003epotassium=%{x}\\u003cbr\\u003emagnesium=%{y} \\u003cb\\u003e(trend)\\u003c\\u002fb\\u003e\\u003cextra\\u003e\\u003c\\u002fextra\\u003e\",\"legendgroup\":\"\",\"marker\":{\"color\":\"#636efa\",\"symbol\":\"circle\"},\"mode\":\"lines\",\"name\":\"\",\"showlegend\":false,\"x\":[60.3044,69.5327,73.1555,87.2653,105.809,109.268,113.561,114.646,115.882,118.102,118.741,121.629,124.273,125.15,129.847,134.845,136.782,138.724,140.475,143.954,146.363,146.784,148.147,150.225,150.959,152.089,153.687,154.895,157.254,160.591,161.602,165.924,168.066,168.2,168.928,168.937,169.281,169.452,173.027,179.191,181.069,182.487,183.422,184.092,192.34,200.324,200.771,201.387,203.463,203.92,205.043,206.03,206.227,208.872,208.872,209.937,210.143,217.438,219.265,219.846,220.011,220.794,222.738,223.981,225.714,227.611,231.502,233.794,233.882,240.767,251.476,252.17,255.944,257.938,261.145,268.098,272.768,287.194,289.816,293.434,293.535,304.965,307.14,308.116,313.501,314.649,315.498,315.919,316.155,319.684,328.053,344.304,346.753,362.021,383.201,395.228,395.775,420.875,441.338,449.091,489.767,499.004,550.042],\"xaxis\":\"x\",\"y\":[390.3465309594751,392.08039485066985,392.76106649171106,395.4120935207392,398.8961861314203,399.5460821252266,400.35267463792115,400.55653042088727,400.78875691650586,401.20586275815083,401.32592160175943,401.86853496692646,402.36530426661534,402.53007986261656,403.4125781230699,404.3516299233139,404.71556416442485,405.0804378331071,405.4094253685667,406.0630790726581,406.5156952764972,406.59479507799836,406.85088303392723,407.24130913254805,407.37921710001086,407.59152773111845,407.89176878289715,408.11873448411654,408.5619564122429,409.1889303733102,409.3788826282215,410.1909238208294,410.5933745923626,410.61855125127266,410.75533190564994,410.7570228752782,410.8216554921818,410.85378391511927,411.5254746285791,412.6836009384438,413.0364499342138,413.3028715934267,413.47854454925465,413.6044278438051,415.15410756537625,416.65418551118415,416.73817033605593,416.85390781283667,417.243958140429,417.3298218204433,417.5408172529511,417.7262602555203,417.76327370182844,418.2602308870316,418.2602308870316,418.4603289597126,418.49903337564905,419.8696582021356,420.2129250366786,420.32208652046046,420.3530876303124,420.5002019879737,420.86545142768443,421.0989931219028,421.4245987181058,421.7810175386466,422.5120800746109,422.9427136732822,422.9592475985366,424.2528393641788,426.26490533633023,426.39529788322284,427.1043778140193,427.4790215294428,428.0815703736569,429.3879383542685,430.265363705837,432.97580013447237,433.46843595284764,434.1482057434204,434.16718218036016,436.314713608289,436.7233646017926,436.90674086370495,437.91850435796545,438.1341969283296,438.29371172993166,438.3728115314328,438.41715251279686,439.08020049260097,440.6526143613969,443.70594185354673,444.166073477956,447.03470950959365,451.01412470150393,453.2738237814428,453.37659715774,458.09252356552787,461.9372248437177,463.39390123573276,471.03633241354873,472.7718309087175,482.36113178523857],\"yaxis\":\"y\",\"type\":\"scatter\"}],                        {\"template\":{\"data\":{\"histogram2dcontour\":[{\"type\":\"histogram2dcontour\",\"colorbar\":{\"outlinewidth\":0,\"ticks\":\"\"},\"colorscale\":[[0.0,\"#0d0887\"],[0.1111111111111111,\"#46039f\"],[0.2222222222222222,\"#7201a8\"],[0.3333333333333333,\"#9c179e\"],[0.4444444444444444,\"#bd3786\"],[0.5555555555555556,\"#d8576b\"],[0.6666666666666666,\"#ed7953\"],[0.7777777777777778,\"#fb9f3a\"],[0.8888888888888888,\"#fdca26\"],[1.0,\"#f0f921\"]]}],\"choropleth\":[{\"type\":\"choropleth\",\"colorbar\":{\"outlinewidth\":0,\"ticks\":\"\"}}],\"histogram2d\":[{\"type\":\"histogram2d\",\"colorbar\":{\"outlinewidth\":0,\"ticks\":\"\"},\"colorscale\":[[0.0,\"#0d0887\"],[0.1111111111111111,\"#46039f\"],[0.2222222222222222,\"#7201a8\"],[0.3333333333333333,\"#9c179e\"],[0.4444444444444444,\"#bd3786\"],[0.5555555555555556,\"#d8576b\"],[0.6666666666666666,\"#ed7953\"],[0.7777777777777778,\"#fb9f3a\"],[0.8888888888888888,\"#fdca26\"],[1.0,\"#f0f921\"]]}],\"heatmap\":[{\"type\":\"heatmap\",\"colorbar\":{\"outlinewidth\":0,\"ticks\":\"\"},\"colorscale\":[[0.0,\"#0d0887\"],[0.1111111111111111,\"#46039f\"],[0.2222222222222222,\"#7201a8\"],[0.3333333333333333,\"#9c179e\"],[0.4444444444444444,\"#bd3786\"],[0.5555555555555556,\"#d8576b\"],[0.6666666666666666,\"#ed7953\"],[0.7777777777777778,\"#fb9f3a\"],[0.8888888888888888,\"#fdca26\"],[1.0,\"#f0f921\"]]}],\"heatmapgl\":[{\"type\":\"heatmapgl\",\"colorbar\":{\"outlinewidth\":0,\"ticks\":\"\"},\"colorscale\":[[0.0,\"#0d0887\"],[0.1111111111111111,\"#46039f\"],[0.2222222222222222,\"#7201a8\"],[0.3333333333333333,\"#9c179e\"],[0.4444444444444444,\"#bd3786\"],[0.5555555555555556,\"#d8576b\"],[0.6666666666666666,\"#ed7953\"],[0.7777777777777778,\"#fb9f3a\"],[0.8888888888888888,\"#fdca26\"],[1.0,\"#f0f921\"]]}],\"contourcarpet\":[{\"type\":\"contourcarpet\",\"colorbar\":{\"outlinewidth\":0,\"ticks\":\"\"}}],\"contour\":[{\"type\":\"contour\",\"colorbar\":{\"outlinewidth\":0,\"ticks\":\"\"},\"colorscale\":[[0.0,\"#0d0887\"],[0.1111111111111111,\"#46039f\"],[0.2222222222222222,\"#7201a8\"],[0.3333333333333333,\"#9c179e\"],[0.4444444444444444,\"#bd3786\"],[0.5555555555555556,\"#d8576b\"],[0.6666666666666666,\"#ed7953\"],[0.7777777777777778,\"#fb9f3a\"],[0.8888888888888888,\"#fdca26\"],[1.0,\"#f0f921\"]]}],\"surface\":[{\"type\":\"surface\",\"colorbar\":{\"outlinewidth\":0,\"ticks\":\"\"},\"colorscale\":[[0.0,\"#0d0887\"],[0.1111111111111111,\"#46039f\"],[0.2222222222222222,\"#7201a8\"],[0.3333333333333333,\"#9c179e\"],[0.4444444444444444,\"#bd3786\"],[0.5555555555555556,\"#d8576b\"],[0.6666666666666666,\"#ed7953\"],[0.7777777777777778,\"#fb9f3a\"],[0.8888888888888888,\"#fdca26\"],[1.0,\"#f0f921\"]]}],\"mesh3d\":[{\"type\":\"mesh3d\",\"colorbar\":{\"outlinewidth\":0,\"ticks\":\"\"}}],\"scatter\":[{\"fillpattern\":{\"fillmode\":\"overlay\",\"size\":10,\"solidity\":0.2},\"type\":\"scatter\"}],\"parcoords\":[{\"type\":\"parcoords\",\"line\":{\"colorbar\":{\"outlinewidth\":0,\"ticks\":\"\"}}}],\"scatterpolargl\":[{\"type\":\"scatterpolargl\",\"marker\":{\"colorbar\":{\"outlinewidth\":0,\"ticks\":\"\"}}}],\"bar\":[{\"error_x\":{\"color\":\"#2a3f5f\"},\"error_y\":{\"color\":\"#2a3f5f\"},\"marker\":{\"line\":{\"color\":\"#E5ECF6\",\"width\":0.5},\"pattern\":{\"fillmode\":\"overlay\",\"size\":10,\"solidity\":0.2}},\"type\":\"bar\"}],\"scattergeo\":[{\"type\":\"scattergeo\",\"marker\":{\"colorbar\":{\"outlinewidth\":0,\"ticks\":\"\"}}}],\"scatterpolar\":[{\"type\":\"scatterpolar\",\"marker\":{\"colorbar\":{\"outlinewidth\":0,\"ticks\":\"\"}}}],\"histogram\":[{\"marker\":{\"pattern\":{\"fillmode\":\"overlay\",\"size\":10,\"solidity\":0.2}},\"type\":\"histogram\"}],\"scattergl\":[{\"type\":\"scattergl\",\"marker\":{\"colorbar\":{\"outlinewidth\":0,\"ticks\":\"\"}}}],\"scatter3d\":[{\"type\":\"scatter3d\",\"line\":{\"colorbar\":{\"outlinewidth\":0,\"ticks\":\"\"}},\"marker\":{\"colorbar\":{\"outlinewidth\":0,\"ticks\":\"\"}}}],\"scattermapbox\":[{\"type\":\"scattermapbox\",\"marker\":{\"colorbar\":{\"outlinewidth\":0,\"ticks\":\"\"}}}],\"scatterternary\":[{\"type\":\"scatterternary\",\"marker\":{\"colorbar\":{\"outlinewidth\":0,\"ticks\":\"\"}}}],\"scattercarpet\":[{\"type\":\"scattercarpet\",\"marker\":{\"colorbar\":{\"outlinewidth\":0,\"ticks\":\"\"}}}],\"carpet\":[{\"aaxis\":{\"endlinecolor\":\"#2a3f5f\",\"gridcolor\":\"white\",\"linecolor\":\"white\",\"minorgridcolor\":\"white\",\"startlinecolor\":\"#2a3f5f\"},\"baxis\":{\"endlinecolor\":\"#2a3f5f\",\"gridcolor\":\"white\",\"linecolor\":\"white\",\"minorgridcolor\":\"white\",\"startlinecolor\":\"#2a3f5f\"},\"type\":\"carpet\"}],\"table\":[{\"cells\":{\"fill\":{\"color\":\"#EBF0F8\"},\"line\":{\"color\":\"white\"}},\"header\":{\"fill\":{\"color\":\"#C8D4E3\"},\"line\":{\"color\":\"white\"}},\"type\":\"table\"}],\"barpolar\":[{\"marker\":{\"line\":{\"color\":\"#E5ECF6\",\"width\":0.5},\"pattern\":{\"fillmode\":\"overlay\",\"size\":10,\"solidity\":0.2}},\"type\":\"barpolar\"}],\"pie\":[{\"automargin\":true,\"type\":\"pie\"}]},\"layout\":{\"autotypenumbers\":\"strict\",\"colorway\":[\"#636efa\",\"#EF553B\",\"#00cc96\",\"#ab63fa\",\"#FFA15A\",\"#19d3f3\",\"#FF6692\",\"#B6E880\",\"#FF97FF\",\"#FECB52\"],\"font\":{\"color\":\"#2a3f5f\"},\"hovermode\":\"closest\",\"hoverlabel\":{\"align\":\"left\"},\"paper_bgcolor\":\"white\",\"plot_bgcolor\":\"#E5ECF6\",\"polar\":{\"bgcolor\":\"#E5ECF6\",\"angularaxis\":{\"gridcolor\":\"white\",\"linecolor\":\"white\",\"ticks\":\"\"},\"radialaxis\":{\"gridcolor\":\"white\",\"linecolor\":\"white\",\"ticks\":\"\"}},\"ternary\":{\"bgcolor\":\"#E5ECF6\",\"aaxis\":{\"gridcolor\":\"white\",\"linecolor\":\"white\",\"ticks\":\"\"},\"baxis\":{\"gridcolor\":\"white\",\"linecolor\":\"white\",\"ticks\":\"\"},\"caxis\":{\"gridcolor\":\"white\",\"linecolor\":\"white\",\"ticks\":\"\"}},\"coloraxis\":{\"colorbar\":{\"outlinewidth\":0,\"ticks\":\"\"}},\"colorscale\":{\"sequential\":[[0.0,\"#0d0887\"],[0.1111111111111111,\"#46039f\"],[0.2222222222222222,\"#7201a8\"],[0.3333333333333333,\"#9c179e\"],[0.4444444444444444,\"#bd3786\"],[0.5555555555555556,\"#d8576b\"],[0.6666666666666666,\"#ed7953\"],[0.7777777777777778,\"#fb9f3a\"],[0.8888888888888888,\"#fdca26\"],[1.0,\"#f0f921\"]],\"sequentialminus\":[[0.0,\"#0d0887\"],[0.1111111111111111,\"#46039f\"],[0.2222222222222222,\"#7201a8\"],[0.3333333333333333,\"#9c179e\"],[0.4444444444444444,\"#bd3786\"],[0.5555555555555556,\"#d8576b\"],[0.6666666666666666,\"#ed7953\"],[0.7777777777777778,\"#fb9f3a\"],[0.8888888888888888,\"#fdca26\"],[1.0,\"#f0f921\"]],\"diverging\":[[0,\"#8e0152\"],[0.1,\"#c51b7d\"],[0.2,\"#de77ae\"],[0.3,\"#f1b6da\"],[0.4,\"#fde0ef\"],[0.5,\"#f7f7f7\"],[0.6,\"#e6f5d0\"],[0.7,\"#b8e186\"],[0.8,\"#7fbc41\"],[0.9,\"#4d9221\"],[1,\"#276419\"]]},\"xaxis\":{\"gridcolor\":\"white\",\"linecolor\":\"white\",\"ticks\":\"\",\"title\":{\"standoff\":15},\"zerolinecolor\":\"white\",\"automargin\":true,\"zerolinewidth\":2},\"yaxis\":{\"gridcolor\":\"white\",\"linecolor\":\"white\",\"ticks\":\"\",\"title\":{\"standoff\":15},\"zerolinecolor\":\"white\",\"automargin\":true,\"zerolinewidth\":2},\"scene\":{\"xaxis\":{\"backgroundcolor\":\"#E5ECF6\",\"gridcolor\":\"white\",\"linecolor\":\"white\",\"showbackground\":true,\"ticks\":\"\",\"zerolinecolor\":\"white\",\"gridwidth\":2},\"yaxis\":{\"backgroundcolor\":\"#E5ECF6\",\"gridcolor\":\"white\",\"linecolor\":\"white\",\"showbackground\":true,\"ticks\":\"\",\"zerolinecolor\":\"white\",\"gridwidth\":2},\"zaxis\":{\"backgroundcolor\":\"#E5ECF6\",\"gridcolor\":\"white\",\"linecolor\":\"white\",\"showbackground\":true,\"ticks\":\"\",\"zerolinecolor\":\"white\",\"gridwidth\":2}},\"shapedefaults\":{\"line\":{\"color\":\"#2a3f5f\"}},\"annotationdefaults\":{\"arrowcolor\":\"#2a3f5f\",\"arrowhead\":0,\"arrowwidth\":1},\"geo\":{\"bgcolor\":\"white\",\"landcolor\":\"#E5ECF6\",\"subunitcolor\":\"white\",\"showland\":true,\"showlakes\":true,\"lakecolor\":\"white\"},\"title\":{\"x\":0.05},\"mapbox\":{\"style\":\"light\"}}},\"xaxis\":{\"anchor\":\"y\",\"domain\":[0.0,1.0],\"title\":{\"text\":\"potassium\"}},\"yaxis\":{\"anchor\":\"x\",\"domain\":[0.0,1.0],\"title\":{\"text\":\"magnesium\"}},\"legend\":{\"tracegroupgap\":0},\"margin\":{\"t\":60}},                        {\"responsive\": true}                    ).then(function(){\n",
       "                            \n",
       "var gd = document.getElementById('0ff91b19-53de-4ea6-8b49-0f511ef6de5c');\n",
       "var x = new MutationObserver(function (mutations, observer) {{\n",
       "        var display = window.getComputedStyle(gd).display;\n",
       "        if (!display || display === 'none') {{\n",
       "            console.log([gd, 'removed!']);\n",
       "            Plotly.purge(gd);\n",
       "            observer.disconnect();\n",
       "        }}\n",
       "}});\n",
       "\n",
       "// Listen for the removal of the full notebook cells\n",
       "var notebookContainer = gd.closest('#notebook-container');\n",
       "if (notebookContainer) {{\n",
       "    x.observe(notebookContainer, {childList: true});\n",
       "}}\n",
       "\n",
       "// Listen for the clearing of the current output cell\n",
       "var outputEl = gd.closest('.output');\n",
       "if (outputEl) {{\n",
       "    x.observe(outputEl, {childList: true});\n",
       "}}\n",
       "\n",
       "                        })                };                });            </script>        </div>"
      ]
     },
     "metadata": {},
     "output_type": "display_data"
    }
   ],
   "source": [
    "fig = px.scatter(df, x=\"potassium\", y=\"magnesium\", trendline = \"ols\")\n",
    "fig.show()"
   ]
  },
  {
   "cell_type": "code",
   "execution_count": 77,
   "id": "fc41753b-2b5e-4cc2-bc57-8cd3f4aa6b3e",
   "metadata": {},
   "outputs": [
    {
     "data": {
      "application/vnd.plotly.v1+json": {
       "config": {
        "plotlyServerURL": "https://plot.ly"
       },
       "data": [
        {
         "hovertemplate": "ammonium_nitrogen=%{x}<br>nitrate_nitrogen=%{y}<extra></extra>",
         "legendgroup": "",
         "marker": {
          "color": "#636efa",
          "symbol": "circle"
         },
         "mode": "markers",
         "name": "",
         "orientation": "v",
         "showlegend": false,
         "type": "scatter",
         "x": [
          2.329,
          1.8015,
          10.677,
          2.4445,
          18.656,
          4.193,
          5.292,
          3.783,
          8.6505,
          3.9165,
          3.8565,
          8.5,
          25.639,
          9.1955,
          3.517,
          2.998,
          9.483,
          12.15,
          3.4185,
          8.3295,
          15.59,
          8.4845,
          12.972,
          2.0665,
          11.2045,
          4.4405,
          17.49,
          18.515,
          2.6065,
          14.099,
          14.3565,
          7.2585,
          3.1565,
          2.7195,
          10.46,
          13.7945,
          4.844,
          11.8795,
          14.5245,
          8.3015,
          0,
          13.3995,
          16.1475,
          4.1675,
          10.138,
          20.6825,
          2.1955,
          11.693,
          3.8115,
          7.291,
          2.6175,
          4.446,
          8.988,
          9.8355,
          9.5715,
          8.712,
          10.7855,
          3.358,
          2.544,
          8.3875,
          3.6545,
          3.063,
          1.5535,
          13.491,
          2.8415,
          16.2875,
          7.472,
          3.014,
          11.0295,
          2.0195,
          3.519,
          16.3295,
          14.706,
          3.6955,
          13.4125,
          12.8545,
          5.5805,
          9.5985,
          9.211,
          2.6825,
          10.6855,
          2.9575,
          10.599,
          16.277,
          4.09,
          3.524,
          31.937,
          3.002,
          5.0705,
          2.923,
          4.7875,
          3.556,
          15.591,
          3.5105,
          2.7645,
          4.1705,
          3.154,
          10.427,
          4.4525,
          14.06,
          3.226,
          1.616,
          16.687
         ],
         "xaxis": "x",
         "y": [
          2.804,
          1.698,
          18.1475,
          1.919,
          9.271,
          0,
          0.345,
          3.086,
          11.5955,
          2.0535,
          0.542,
          20.4215,
          25.9235,
          20.428,
          1.3175,
          0.318,
          14.482,
          18.951,
          1.9945,
          27.324,
          21.7185,
          15,
          9.3675,
          1.1235,
          12.703,
          2.6265,
          28.0405,
          26.191,
          0.3755,
          5.7905,
          15.816,
          24.361,
          2.1515,
          0.316,
          25.197,
          11.0665,
          2.1,
          9.4465,
          20.401,
          1.403,
          0.463,
          15.848,
          20.049,
          1.459,
          33.2955,
          12.746,
          0.836,
          16.977,
          0.4135,
          18.1425,
          1.3215,
          2.935,
          10.5655,
          13.174,
          12.874,
          29.8005,
          13.0305,
          1.5495,
          1.133,
          19.8355,
          1.111,
          1.989,
          0.832,
          23.581,
          0.6115,
          16.3555,
          15.6745,
          0.2345,
          13.514,
          0.24,
          0.2795,
          14.395,
          15.503,
          1.0625,
          21.445,
          13.422,
          4.5255,
          14.7365,
          18.875,
          0,
          10.6955,
          0.983,
          27.6905,
          12.6325,
          0,
          2.111,
          12.513,
          1.333,
          3.004,
          1.6305,
          4.642,
          5.8955,
          29.0125,
          0.746,
          4.8475,
          0,
          0.5895,
          10.251,
          0.4225,
          13.3625,
          2.1155,
          0.863,
          8.8145
         ],
         "yaxis": "y"
        },
        {
         "hovertemplate": "<b>OLS trendline</b><br>nitrate_nitrogen = 1.08679 * ammonium_nitrogen + 0.60516<br>R<sup>2</sup>=0.476351<br><br>ammonium_nitrogen=%{x}<br>nitrate_nitrogen=%{y} <b>(trend)</b><extra></extra>",
         "legendgroup": "",
         "marker": {
          "color": "#636efa",
          "symbol": "circle"
         },
         "mode": "lines",
         "name": "",
         "showlegend": false,
         "type": "scatter",
         "x": [
          0,
          1.5535,
          1.616,
          1.8015,
          2.0195,
          2.0665,
          2.1955,
          2.329,
          2.4445,
          2.544,
          2.6065,
          2.6175,
          2.6825,
          2.7195,
          2.7645,
          2.8415,
          2.923,
          2.9575,
          2.998,
          3.002,
          3.014,
          3.063,
          3.154,
          3.1565,
          3.226,
          3.358,
          3.4185,
          3.5105,
          3.517,
          3.519,
          3.524,
          3.556,
          3.6545,
          3.6955,
          3.783,
          3.8115,
          3.8565,
          3.9165,
          4.09,
          4.1675,
          4.1705,
          4.193,
          4.4405,
          4.446,
          4.4525,
          4.7875,
          4.844,
          5.0705,
          5.292,
          5.5805,
          7.2585,
          7.291,
          7.472,
          8.3015,
          8.3295,
          8.3875,
          8.4845,
          8.5,
          8.6505,
          8.712,
          8.988,
          9.1955,
          9.211,
          9.483,
          9.5715,
          9.5985,
          9.8355,
          10.138,
          10.427,
          10.46,
          10.599,
          10.677,
          10.6855,
          10.7855,
          11.0295,
          11.2045,
          11.693,
          11.8795,
          12.15,
          12.8545,
          12.972,
          13.3995,
          13.4125,
          13.491,
          13.7945,
          14.06,
          14.099,
          14.3565,
          14.5245,
          14.706,
          15.59,
          15.591,
          16.1475,
          16.277,
          16.2875,
          16.3295,
          16.687,
          17.49,
          18.515,
          18.656,
          20.6825,
          25.639,
          31.937
         ],
         "xaxis": "x",
         "y": [
          0.6051599067300713,
          2.293483951807303,
          2.361408157032489,
          2.563007198140842,
          2.799926825966292,
          2.851005828295632,
          2.9912013878804165,
          3.136287490241415,
          3.261811421497559,
          3.3699467562160557,
          3.437870961441242,
          3.449825621560875,
          3.5204667949950688,
          3.560677924488379,
          3.609583352250513,
          3.6932659730879425,
          3.7818391367015853,
          3.8193332979858883,
          3.8633481829718095,
          3.8676953321062206,
          3.8807367795094567,
          3.933989356406003,
          4.032886999213874,
          4.035603967422881,
          4.111135683633289,
          4.254591605068883,
          4.320342235726862,
          4.420326665818337,
          4.427390783161756,
          4.429564357728962,
          4.434998294146977,
          4.469775487222273,
          4.576824034657166,
          4.621382313284888,
          4.716476200600149,
          4.747449638182834,
          4.796355065944969,
          4.861562302961148,
          5.050119896666264,
          5.1343459111454965,
          5.137606272996305,
          5.162058986877371,
          5.431038839569109,
          5.437016169628926,
          5.444080286972345,
          5.808154026979344,
          5.869557508502913,
          6.115714828238988,
          6.356438211557048,
          6.669976342876508,
          8.493605404762311,
          8.528925991479408,
          8.725634489811547,
          9.627124541560221,
          9.657554585501103,
          9.720588247950076,
          9.826006614459567,
          9.842851817355411,
          10.00641330353766,
          10.073250721479244,
          10.373204011753666,
          10.598712373101284,
          10.615557575997132,
          10.911163717137143,
          11.007344391736007,
          11.036687648393286,
          11.294256234607193,
          11.623009387897095,
          11.937090912858357,
          11.972954893217256,
          12.12401832563807,
          12.208787733759102,
          12.218025425669726,
          12.326704154030027,
          12.591880251229155,
          12.782068025859674,
          13.312963613899731,
          13.515649442291688,
          13.809625402506294,
          14.575267043804594,
          14.702964549627945,
          15.167566113368219,
          15.181694348055057,
          15.267007149817891,
          15.596847090391396,
          15.885389114187989,
          15.927773818248504,
          16.207621543776273,
          16.390201807421573,
          16.587453699395514,
          17.54817365810055,
          17.549260445384153,
          18.154057568709213,
          18.294796521935798,
          18.30620778841363,
          18.351852854324953,
          18.740379308213022,
          19.613069496946213,
          20.72702646263927,
          20.880263469627288,
          23.08263789984873,
          28.469299071026906,
          35.313885383158485
         ],
         "yaxis": "y"
        }
       ],
       "layout": {
        "autosize": true,
        "legend": {
         "tracegroupgap": 0
        },
        "margin": {
         "t": 60
        },
        "template": {
         "data": {
          "bar": [
           {
            "error_x": {
             "color": "#2a3f5f"
            },
            "error_y": {
             "color": "#2a3f5f"
            },
            "marker": {
             "line": {
              "color": "#E5ECF6",
              "width": 0.5
             },
             "pattern": {
              "fillmode": "overlay",
              "size": 10,
              "solidity": 0.2
             }
            },
            "type": "bar"
           }
          ],
          "barpolar": [
           {
            "marker": {
             "line": {
              "color": "#E5ECF6",
              "width": 0.5
             },
             "pattern": {
              "fillmode": "overlay",
              "size": 10,
              "solidity": 0.2
             }
            },
            "type": "barpolar"
           }
          ],
          "carpet": [
           {
            "aaxis": {
             "endlinecolor": "#2a3f5f",
             "gridcolor": "white",
             "linecolor": "white",
             "minorgridcolor": "white",
             "startlinecolor": "#2a3f5f"
            },
            "baxis": {
             "endlinecolor": "#2a3f5f",
             "gridcolor": "white",
             "linecolor": "white",
             "minorgridcolor": "white",
             "startlinecolor": "#2a3f5f"
            },
            "type": "carpet"
           }
          ],
          "choropleth": [
           {
            "colorbar": {
             "outlinewidth": 0,
             "ticks": ""
            },
            "type": "choropleth"
           }
          ],
          "contour": [
           {
            "colorbar": {
             "outlinewidth": 0,
             "ticks": ""
            },
            "colorscale": [
             [
              0,
              "#0d0887"
             ],
             [
              0.1111111111111111,
              "#46039f"
             ],
             [
              0.2222222222222222,
              "#7201a8"
             ],
             [
              0.3333333333333333,
              "#9c179e"
             ],
             [
              0.4444444444444444,
              "#bd3786"
             ],
             [
              0.5555555555555556,
              "#d8576b"
             ],
             [
              0.6666666666666666,
              "#ed7953"
             ],
             [
              0.7777777777777778,
              "#fb9f3a"
             ],
             [
              0.8888888888888888,
              "#fdca26"
             ],
             [
              1,
              "#f0f921"
             ]
            ],
            "type": "contour"
           }
          ],
          "contourcarpet": [
           {
            "colorbar": {
             "outlinewidth": 0,
             "ticks": ""
            },
            "type": "contourcarpet"
           }
          ],
          "heatmap": [
           {
            "colorbar": {
             "outlinewidth": 0,
             "ticks": ""
            },
            "colorscale": [
             [
              0,
              "#0d0887"
             ],
             [
              0.1111111111111111,
              "#46039f"
             ],
             [
              0.2222222222222222,
              "#7201a8"
             ],
             [
              0.3333333333333333,
              "#9c179e"
             ],
             [
              0.4444444444444444,
              "#bd3786"
             ],
             [
              0.5555555555555556,
              "#d8576b"
             ],
             [
              0.6666666666666666,
              "#ed7953"
             ],
             [
              0.7777777777777778,
              "#fb9f3a"
             ],
             [
              0.8888888888888888,
              "#fdca26"
             ],
             [
              1,
              "#f0f921"
             ]
            ],
            "type": "heatmap"
           }
          ],
          "heatmapgl": [
           {
            "colorbar": {
             "outlinewidth": 0,
             "ticks": ""
            },
            "colorscale": [
             [
              0,
              "#0d0887"
             ],
             [
              0.1111111111111111,
              "#46039f"
             ],
             [
              0.2222222222222222,
              "#7201a8"
             ],
             [
              0.3333333333333333,
              "#9c179e"
             ],
             [
              0.4444444444444444,
              "#bd3786"
             ],
             [
              0.5555555555555556,
              "#d8576b"
             ],
             [
              0.6666666666666666,
              "#ed7953"
             ],
             [
              0.7777777777777778,
              "#fb9f3a"
             ],
             [
              0.8888888888888888,
              "#fdca26"
             ],
             [
              1,
              "#f0f921"
             ]
            ],
            "type": "heatmapgl"
           }
          ],
          "histogram": [
           {
            "marker": {
             "pattern": {
              "fillmode": "overlay",
              "size": 10,
              "solidity": 0.2
             }
            },
            "type": "histogram"
           }
          ],
          "histogram2d": [
           {
            "colorbar": {
             "outlinewidth": 0,
             "ticks": ""
            },
            "colorscale": [
             [
              0,
              "#0d0887"
             ],
             [
              0.1111111111111111,
              "#46039f"
             ],
             [
              0.2222222222222222,
              "#7201a8"
             ],
             [
              0.3333333333333333,
              "#9c179e"
             ],
             [
              0.4444444444444444,
              "#bd3786"
             ],
             [
              0.5555555555555556,
              "#d8576b"
             ],
             [
              0.6666666666666666,
              "#ed7953"
             ],
             [
              0.7777777777777778,
              "#fb9f3a"
             ],
             [
              0.8888888888888888,
              "#fdca26"
             ],
             [
              1,
              "#f0f921"
             ]
            ],
            "type": "histogram2d"
           }
          ],
          "histogram2dcontour": [
           {
            "colorbar": {
             "outlinewidth": 0,
             "ticks": ""
            },
            "colorscale": [
             [
              0,
              "#0d0887"
             ],
             [
              0.1111111111111111,
              "#46039f"
             ],
             [
              0.2222222222222222,
              "#7201a8"
             ],
             [
              0.3333333333333333,
              "#9c179e"
             ],
             [
              0.4444444444444444,
              "#bd3786"
             ],
             [
              0.5555555555555556,
              "#d8576b"
             ],
             [
              0.6666666666666666,
              "#ed7953"
             ],
             [
              0.7777777777777778,
              "#fb9f3a"
             ],
             [
              0.8888888888888888,
              "#fdca26"
             ],
             [
              1,
              "#f0f921"
             ]
            ],
            "type": "histogram2dcontour"
           }
          ],
          "mesh3d": [
           {
            "colorbar": {
             "outlinewidth": 0,
             "ticks": ""
            },
            "type": "mesh3d"
           }
          ],
          "parcoords": [
           {
            "line": {
             "colorbar": {
              "outlinewidth": 0,
              "ticks": ""
             }
            },
            "type": "parcoords"
           }
          ],
          "pie": [
           {
            "automargin": true,
            "type": "pie"
           }
          ],
          "scatter": [
           {
            "fillpattern": {
             "fillmode": "overlay",
             "size": 10,
             "solidity": 0.2
            },
            "type": "scatter"
           }
          ],
          "scatter3d": [
           {
            "line": {
             "colorbar": {
              "outlinewidth": 0,
              "ticks": ""
             }
            },
            "marker": {
             "colorbar": {
              "outlinewidth": 0,
              "ticks": ""
             }
            },
            "type": "scatter3d"
           }
          ],
          "scattercarpet": [
           {
            "marker": {
             "colorbar": {
              "outlinewidth": 0,
              "ticks": ""
             }
            },
            "type": "scattercarpet"
           }
          ],
          "scattergeo": [
           {
            "marker": {
             "colorbar": {
              "outlinewidth": 0,
              "ticks": ""
             }
            },
            "type": "scattergeo"
           }
          ],
          "scattergl": [
           {
            "marker": {
             "colorbar": {
              "outlinewidth": 0,
              "ticks": ""
             }
            },
            "type": "scattergl"
           }
          ],
          "scattermapbox": [
           {
            "marker": {
             "colorbar": {
              "outlinewidth": 0,
              "ticks": ""
             }
            },
            "type": "scattermapbox"
           }
          ],
          "scatterpolar": [
           {
            "marker": {
             "colorbar": {
              "outlinewidth": 0,
              "ticks": ""
             }
            },
            "type": "scatterpolar"
           }
          ],
          "scatterpolargl": [
           {
            "marker": {
             "colorbar": {
              "outlinewidth": 0,
              "ticks": ""
             }
            },
            "type": "scatterpolargl"
           }
          ],
          "scatterternary": [
           {
            "marker": {
             "colorbar": {
              "outlinewidth": 0,
              "ticks": ""
             }
            },
            "type": "scatterternary"
           }
          ],
          "surface": [
           {
            "colorbar": {
             "outlinewidth": 0,
             "ticks": ""
            },
            "colorscale": [
             [
              0,
              "#0d0887"
             ],
             [
              0.1111111111111111,
              "#46039f"
             ],
             [
              0.2222222222222222,
              "#7201a8"
             ],
             [
              0.3333333333333333,
              "#9c179e"
             ],
             [
              0.4444444444444444,
              "#bd3786"
             ],
             [
              0.5555555555555556,
              "#d8576b"
             ],
             [
              0.6666666666666666,
              "#ed7953"
             ],
             [
              0.7777777777777778,
              "#fb9f3a"
             ],
             [
              0.8888888888888888,
              "#fdca26"
             ],
             [
              1,
              "#f0f921"
             ]
            ],
            "type": "surface"
           }
          ],
          "table": [
           {
            "cells": {
             "fill": {
              "color": "#EBF0F8"
             },
             "line": {
              "color": "white"
             }
            },
            "header": {
             "fill": {
              "color": "#C8D4E3"
             },
             "line": {
              "color": "white"
             }
            },
            "type": "table"
           }
          ]
         },
         "layout": {
          "annotationdefaults": {
           "arrowcolor": "#2a3f5f",
           "arrowhead": 0,
           "arrowwidth": 1
          },
          "autotypenumbers": "strict",
          "coloraxis": {
           "colorbar": {
            "outlinewidth": 0,
            "ticks": ""
           }
          },
          "colorscale": {
           "diverging": [
            [
             0,
             "#8e0152"
            ],
            [
             0.1,
             "#c51b7d"
            ],
            [
             0.2,
             "#de77ae"
            ],
            [
             0.3,
             "#f1b6da"
            ],
            [
             0.4,
             "#fde0ef"
            ],
            [
             0.5,
             "#f7f7f7"
            ],
            [
             0.6,
             "#e6f5d0"
            ],
            [
             0.7,
             "#b8e186"
            ],
            [
             0.8,
             "#7fbc41"
            ],
            [
             0.9,
             "#4d9221"
            ],
            [
             1,
             "#276419"
            ]
           ],
           "sequential": [
            [
             0,
             "#0d0887"
            ],
            [
             0.1111111111111111,
             "#46039f"
            ],
            [
             0.2222222222222222,
             "#7201a8"
            ],
            [
             0.3333333333333333,
             "#9c179e"
            ],
            [
             0.4444444444444444,
             "#bd3786"
            ],
            [
             0.5555555555555556,
             "#d8576b"
            ],
            [
             0.6666666666666666,
             "#ed7953"
            ],
            [
             0.7777777777777778,
             "#fb9f3a"
            ],
            [
             0.8888888888888888,
             "#fdca26"
            ],
            [
             1,
             "#f0f921"
            ]
           ],
           "sequentialminus": [
            [
             0,
             "#0d0887"
            ],
            [
             0.1111111111111111,
             "#46039f"
            ],
            [
             0.2222222222222222,
             "#7201a8"
            ],
            [
             0.3333333333333333,
             "#9c179e"
            ],
            [
             0.4444444444444444,
             "#bd3786"
            ],
            [
             0.5555555555555556,
             "#d8576b"
            ],
            [
             0.6666666666666666,
             "#ed7953"
            ],
            [
             0.7777777777777778,
             "#fb9f3a"
            ],
            [
             0.8888888888888888,
             "#fdca26"
            ],
            [
             1,
             "#f0f921"
            ]
           ]
          },
          "colorway": [
           "#636efa",
           "#EF553B",
           "#00cc96",
           "#ab63fa",
           "#FFA15A",
           "#19d3f3",
           "#FF6692",
           "#B6E880",
           "#FF97FF",
           "#FECB52"
          ],
          "font": {
           "color": "#2a3f5f"
          },
          "geo": {
           "bgcolor": "white",
           "lakecolor": "white",
           "landcolor": "#E5ECF6",
           "showlakes": true,
           "showland": true,
           "subunitcolor": "white"
          },
          "hoverlabel": {
           "align": "left"
          },
          "hovermode": "closest",
          "mapbox": {
           "style": "light"
          },
          "paper_bgcolor": "white",
          "plot_bgcolor": "#E5ECF6",
          "polar": {
           "angularaxis": {
            "gridcolor": "white",
            "linecolor": "white",
            "ticks": ""
           },
           "bgcolor": "#E5ECF6",
           "radialaxis": {
            "gridcolor": "white",
            "linecolor": "white",
            "ticks": ""
           }
          },
          "scene": {
           "xaxis": {
            "backgroundcolor": "#E5ECF6",
            "gridcolor": "white",
            "gridwidth": 2,
            "linecolor": "white",
            "showbackground": true,
            "ticks": "",
            "zerolinecolor": "white"
           },
           "yaxis": {
            "backgroundcolor": "#E5ECF6",
            "gridcolor": "white",
            "gridwidth": 2,
            "linecolor": "white",
            "showbackground": true,
            "ticks": "",
            "zerolinecolor": "white"
           },
           "zaxis": {
            "backgroundcolor": "#E5ECF6",
            "gridcolor": "white",
            "gridwidth": 2,
            "linecolor": "white",
            "showbackground": true,
            "ticks": "",
            "zerolinecolor": "white"
           }
          },
          "shapedefaults": {
           "line": {
            "color": "#2a3f5f"
           }
          },
          "ternary": {
           "aaxis": {
            "gridcolor": "white",
            "linecolor": "white",
            "ticks": ""
           },
           "baxis": {
            "gridcolor": "white",
            "linecolor": "white",
            "ticks": ""
           },
           "bgcolor": "#E5ECF6",
           "caxis": {
            "gridcolor": "white",
            "linecolor": "white",
            "ticks": ""
           }
          },
          "title": {
           "x": 0.05
          },
          "xaxis": {
           "automargin": true,
           "gridcolor": "white",
           "linecolor": "white",
           "ticks": "",
           "title": {
            "standoff": 15
           },
           "zerolinecolor": "white",
           "zerolinewidth": 2
          },
          "yaxis": {
           "automargin": true,
           "gridcolor": "white",
           "linecolor": "white",
           "ticks": "",
           "title": {
            "standoff": 15
           },
           "zerolinecolor": "white",
           "zerolinewidth": 2
          }
         }
        },
        "xaxis": {
         "anchor": "y",
         "autorange": true,
         "domain": [
          0,
          1
         ],
         "range": [
          0.11186424426500616,
          1.58374113162072
         ],
         "title": {
          "text": "ammonium_nitrogen"
         },
         "type": "log"
        },
        "yaxis": {
         "anchor": "x",
         "autorange": true,
         "domain": [
          0,
          1
         ],
         "range": [
          -2.6814919402913135,
          37.31364208439268
         ],
         "title": {
          "text": "nitrate_nitrogen"
         },
         "type": "linear"
        }
       }
      },
      "image/png": "[encoded data removed]",
      "text/html": [
       "<div>                            <div id=\"325bdb07-5555-4faf-b3f7-90151cec576c\" class=\"plotly-graph-div\" style=\"height:525px; width:100%;\"></div>            <script type=\"text/javascript\">                require([\"plotly\"], function(Plotly) {                    window.PLOTLYENV=window.PLOTLYENV || {};                                    if (document.getElementById(\"325bdb07-5555-4faf-b3f7-90151cec576c\")) {                    Plotly.newPlot(                        \"325bdb07-5555-4faf-b3f7-90151cec576c\",                        [{\"hovertemplate\":\"ammonium_nitrogen=%{x}\\u003cbr\\u003enitrate_nitrogen=%{y}\\u003cextra\\u003e\\u003c\\u002fextra\\u003e\",\"legendgroup\":\"\",\"marker\":{\"color\":\"#636efa\",\"symbol\":\"circle\"},\"mode\":\"markers\",\"name\":\"\",\"orientation\":\"v\",\"showlegend\":false,\"x\":[2.329,1.8015,10.677,2.4445,18.656,4.193,5.292,3.783,8.6505,3.9165,3.8565,8.5,25.639,9.1955,3.517,2.998,9.483,12.15,3.4185,8.3295,15.59,8.4845,12.972,2.0665,11.2045,4.4405,17.49,18.515,2.6065,14.099,14.3565,7.2585,3.1565,2.7195,10.46,13.7945,4.844,11.8795,14.5245,8.3015,0.0,13.3995,16.1475,4.1675,10.138,20.6825,2.1955,11.693,3.8115,7.291,2.6175,4.446,8.988,9.8355,9.5715,8.712,10.7855,3.358,2.544,8.3875,3.6545,3.063,1.5535,13.491,2.8415,16.2875,7.472,3.014,11.0295,2.0195,3.519,16.3295,14.706,3.6955,13.4125,12.8545,5.5805,9.5985,9.211,2.6825,10.6855,2.9575,10.599,16.277,4.09,3.524,31.937,3.002,5.0705,2.923,4.7875,3.556,15.591,3.5105,2.7645,4.1705,3.154,10.427,4.4525,14.06,3.226,1.616,16.687],\"xaxis\":\"x\",\"y\":[2.804,1.698,18.1475,1.919,9.271,0.0,0.345,3.086,11.5955,2.0535,0.542,20.4215,25.9235,20.428,1.3175,0.318,14.482,18.951,1.9945,27.324,21.7185,15.0,9.3675,1.1235,12.703,2.6265,28.0405,26.191,0.3755,5.7905,15.816,24.361,2.1515,0.316,25.197,11.0665,2.1,9.4465,20.401,1.403,0.463,15.848,20.049,1.459,33.2955,12.746,0.836,16.977,0.4135,18.1425,1.3215,2.935,10.5655,13.174,12.874,29.8005,13.0305,1.5495,1.133,19.8355,1.111,1.989,0.832,23.581,0.6115,16.3555,15.6745,0.2345,13.514,0.24,0.2795,14.395,15.503,1.0625,21.445,13.422,4.5255,14.7365,18.875,0.0,10.6955,0.983,27.6905,12.6325,0.0,2.111,12.513,1.333,3.004,1.6305,4.642,5.8955,29.0125,0.746,4.8475,0.0,0.5895,10.251,0.4225,13.3625,2.1155,0.863,8.8145],\"yaxis\":\"y\",\"type\":\"scatter\"},{\"hovertemplate\":\"\\u003cb\\u003eOLS trendline\\u003c\\u002fb\\u003e\\u003cbr\\u003enitrate_nitrogen = 1.08679 * ammonium_nitrogen + 0.60516\\u003cbr\\u003eR\\u003csup\\u003e2\\u003c\\u002fsup\\u003e=0.476351\\u003cbr\\u003e\\u003cbr\\u003eammonium_nitrogen=%{x}\\u003cbr\\u003enitrate_nitrogen=%{y} \\u003cb\\u003e(trend)\\u003c\\u002fb\\u003e\\u003cextra\\u003e\\u003c\\u002fextra\\u003e\",\"legendgroup\":\"\",\"marker\":{\"color\":\"#636efa\",\"symbol\":\"circle\"},\"mode\":\"lines\",\"name\":\"\",\"showlegend\":false,\"x\":[0.0,1.5535,1.616,1.8015,2.0195,2.0665,2.1955,2.329,2.4445,2.544,2.6065,2.6175,2.6825,2.7195,2.7645,2.8415,2.923,2.9575,2.998,3.002,3.014,3.063,3.154,3.1565,3.226,3.358,3.4185,3.5105,3.517,3.519,3.524,3.556,3.6545,3.6955,3.783,3.8115,3.8565,3.9165,4.09,4.1675,4.1705,4.193,4.4405,4.446,4.4525,4.7875,4.844,5.0705,5.292,5.5805,7.2585,7.291,7.472,8.3015,8.3295,8.3875,8.4845,8.5,8.6505,8.712,8.988,9.1955,9.211,9.483,9.5715,9.5985,9.8355,10.138,10.427,10.46,10.599,10.677,10.6855,10.7855,11.0295,11.2045,11.693,11.8795,12.15,12.8545,12.972,13.3995,13.4125,13.491,13.7945,14.06,14.099,14.3565,14.5245,14.706,15.59,15.591,16.1475,16.277,16.2875,16.3295,16.687,17.49,18.515,18.656,20.6825,25.639,31.937],\"xaxis\":\"x\",\"y\":[0.6051599067300713,2.293483951807303,2.361408157032489,2.563007198140842,2.799926825966292,2.851005828295632,2.9912013878804165,3.136287490241415,3.261811421497559,3.3699467562160557,3.437870961441242,3.449825621560875,3.5204667949950688,3.560677924488379,3.609583352250513,3.6932659730879425,3.7818391367015853,3.8193332979858883,3.8633481829718095,3.8676953321062206,3.8807367795094567,3.933989356406003,4.032886999213874,4.035603967422881,4.111135683633289,4.254591605068883,4.320342235726862,4.420326665818337,4.427390783161756,4.429564357728962,4.434998294146977,4.469775487222273,4.576824034657166,4.621382313284888,4.716476200600149,4.747449638182834,4.796355065944969,4.861562302961148,5.050119896666264,5.1343459111454965,5.137606272996305,5.162058986877371,5.431038839569109,5.437016169628926,5.444080286972345,5.808154026979344,5.869557508502913,6.115714828238988,6.356438211557048,6.669976342876508,8.493605404762311,8.528925991479408,8.725634489811547,9.627124541560221,9.657554585501103,9.720588247950076,9.826006614459567,9.842851817355411,10.00641330353766,10.073250721479244,10.373204011753666,10.598712373101284,10.615557575997132,10.911163717137143,11.007344391736007,11.036687648393286,11.294256234607193,11.623009387897095,11.937090912858357,11.972954893217256,12.12401832563807,12.208787733759102,12.218025425669726,12.326704154030027,12.591880251229155,12.782068025859674,13.312963613899731,13.515649442291688,13.809625402506294,14.575267043804594,14.702964549627945,15.167566113368219,15.181694348055057,15.267007149817891,15.596847090391396,15.885389114187989,15.927773818248504,16.207621543776273,16.390201807421573,16.587453699395514,17.54817365810055,17.549260445384153,18.154057568709213,18.294796521935798,18.30620778841363,18.351852854324953,18.740379308213022,19.613069496946213,20.72702646263927,20.880263469627288,23.08263789984873,28.469299071026906,35.313885383158485],\"yaxis\":\"y\",\"type\":\"scatter\"}],                        {\"template\":{\"data\":{\"histogram2dcontour\":[{\"type\":\"histogram2dcontour\",\"colorbar\":{\"outlinewidth\":0,\"ticks\":\"\"},\"colorscale\":[[0.0,\"#0d0887\"],[0.1111111111111111,\"#46039f\"],[0.2222222222222222,\"#7201a8\"],[0.3333333333333333,\"#9c179e\"],[0.4444444444444444,\"#bd3786\"],[0.5555555555555556,\"#d8576b\"],[0.6666666666666666,\"#ed7953\"],[0.7777777777777778,\"#fb9f3a\"],[0.8888888888888888,\"#fdca26\"],[1.0,\"#f0f921\"]]}],\"choropleth\":[{\"type\":\"choropleth\",\"colorbar\":{\"outlinewidth\":0,\"ticks\":\"\"}}],\"histogram2d\":[{\"type\":\"histogram2d\",\"colorbar\":{\"outlinewidth\":0,\"ticks\":\"\"},\"colorscale\":[[0.0,\"#0d0887\"],[0.1111111111111111,\"#46039f\"],[0.2222222222222222,\"#7201a8\"],[0.3333333333333333,\"#9c179e\"],[0.4444444444444444,\"#bd3786\"],[0.5555555555555556,\"#d8576b\"],[0.6666666666666666,\"#ed7953\"],[0.7777777777777778,\"#fb9f3a\"],[0.8888888888888888,\"#fdca26\"],[1.0,\"#f0f921\"]]}],\"heatmap\":[{\"type\":\"heatmap\",\"colorbar\":{\"outlinewidth\":0,\"ticks\":\"\"},\"colorscale\":[[0.0,\"#0d0887\"],[0.1111111111111111,\"#46039f\"],[0.2222222222222222,\"#7201a8\"],[0.3333333333333333,\"#9c179e\"],[0.4444444444444444,\"#bd3786\"],[0.5555555555555556,\"#d8576b\"],[0.6666666666666666,\"#ed7953\"],[0.7777777777777778,\"#fb9f3a\"],[0.8888888888888888,\"#fdca26\"],[1.0,\"#f0f921\"]]}],\"heatmapgl\":[{\"type\":\"heatmapgl\",\"colorbar\":{\"outlinewidth\":0,\"ticks\":\"\"},\"colorscale\":[[0.0,\"#0d0887\"],[0.1111111111111111,\"#46039f\"],[0.2222222222222222,\"#7201a8\"],[0.3333333333333333,\"#9c179e\"],[0.4444444444444444,\"#bd3786\"],[0.5555555555555556,\"#d8576b\"],[0.6666666666666666,\"#ed7953\"],[0.7777777777777778,\"#fb9f3a\"],[0.8888888888888888,\"#fdca26\"],[1.0,\"#f0f921\"]]}],\"contourcarpet\":[{\"type\":\"contourcarpet\",\"colorbar\":{\"outlinewidth\":0,\"ticks\":\"\"}}],\"contour\":[{\"type\":\"contour\",\"colorbar\":{\"outlinewidth\":0,\"ticks\":\"\"},\"colorscale\":[[0.0,\"#0d0887\"],[0.1111111111111111,\"#46039f\"],[0.2222222222222222,\"#7201a8\"],[0.3333333333333333,\"#9c179e\"],[0.4444444444444444,\"#bd3786\"],[0.5555555555555556,\"#d8576b\"],[0.6666666666666666,\"#ed7953\"],[0.7777777777777778,\"#fb9f3a\"],[0.8888888888888888,\"#fdca26\"],[1.0,\"#f0f921\"]]}],\"surface\":[{\"type\":\"surface\",\"colorbar\":{\"outlinewidth\":0,\"ticks\":\"\"},\"colorscale\":[[0.0,\"#0d0887\"],[0.1111111111111111,\"#46039f\"],[0.2222222222222222,\"#7201a8\"],[0.3333333333333333,\"#9c179e\"],[0.4444444444444444,\"#bd3786\"],[0.5555555555555556,\"#d8576b\"],[0.6666666666666666,\"#ed7953\"],[0.7777777777777778,\"#fb9f3a\"],[0.8888888888888888,\"#fdca26\"],[1.0,\"#f0f921\"]]}],\"mesh3d\":[{\"type\":\"mesh3d\",\"colorbar\":{\"outlinewidth\":0,\"ticks\":\"\"}}],\"scatter\":[{\"fillpattern\":{\"fillmode\":\"overlay\",\"size\":10,\"solidity\":0.2},\"type\":\"scatter\"}],\"parcoords\":[{\"type\":\"parcoords\",\"line\":{\"colorbar\":{\"outlinewidth\":0,\"ticks\":\"\"}}}],\"scatterpolargl\":[{\"type\":\"scatterpolargl\",\"marker\":{\"colorbar\":{\"outlinewidth\":0,\"ticks\":\"\"}}}],\"bar\":[{\"error_x\":{\"color\":\"#2a3f5f\"},\"error_y\":{\"color\":\"#2a3f5f\"},\"marker\":{\"line\":{\"color\":\"#E5ECF6\",\"width\":0.5},\"pattern\":{\"fillmode\":\"overlay\",\"size\":10,\"solidity\":0.2}},\"type\":\"bar\"}],\"scattergeo\":[{\"type\":\"scattergeo\",\"marker\":{\"colorbar\":{\"outlinewidth\":0,\"ticks\":\"\"}}}],\"scatterpolar\":[{\"type\":\"scatterpolar\",\"marker\":{\"colorbar\":{\"outlinewidth\":0,\"ticks\":\"\"}}}],\"histogram\":[{\"marker\":{\"pattern\":{\"fillmode\":\"overlay\",\"size\":10,\"solidity\":0.2}},\"type\":\"histogram\"}],\"scattergl\":[{\"type\":\"scattergl\",\"marker\":{\"colorbar\":{\"outlinewidth\":0,\"ticks\":\"\"}}}],\"scatter3d\":[{\"type\":\"scatter3d\",\"line\":{\"colorbar\":{\"outlinewidth\":0,\"ticks\":\"\"}},\"marker\":{\"colorbar\":{\"outlinewidth\":0,\"ticks\":\"\"}}}],\"scattermapbox\":[{\"type\":\"scattermapbox\",\"marker\":{\"colorbar\":{\"outlinewidth\":0,\"ticks\":\"\"}}}],\"scatterternary\":[{\"type\":\"scatterternary\",\"marker\":{\"colorbar\":{\"outlinewidth\":0,\"ticks\":\"\"}}}],\"scattercarpet\":[{\"type\":\"scattercarpet\",\"marker\":{\"colorbar\":{\"outlinewidth\":0,\"ticks\":\"\"}}}],\"carpet\":[{\"aaxis\":{\"endlinecolor\":\"#2a3f5f\",\"gridcolor\":\"white\",\"linecolor\":\"white\",\"minorgridcolor\":\"white\",\"startlinecolor\":\"#2a3f5f\"},\"baxis\":{\"endlinecolor\":\"#2a3f5f\",\"gridcolor\":\"white\",\"linecolor\":\"white\",\"minorgridcolor\":\"white\",\"startlinecolor\":\"#2a3f5f\"},\"type\":\"carpet\"}],\"table\":[{\"cells\":{\"fill\":{\"color\":\"#EBF0F8\"},\"line\":{\"color\":\"white\"}},\"header\":{\"fill\":{\"color\":\"#C8D4E3\"},\"line\":{\"color\":\"white\"}},\"type\":\"table\"}],\"barpolar\":[{\"marker\":{\"line\":{\"color\":\"#E5ECF6\",\"width\":0.5},\"pattern\":{\"fillmode\":\"overlay\",\"size\":10,\"solidity\":0.2}},\"type\":\"barpolar\"}],\"pie\":[{\"automargin\":true,\"type\":\"pie\"}]},\"layout\":{\"autotypenumbers\":\"strict\",\"colorway\":[\"#636efa\",\"#EF553B\",\"#00cc96\",\"#ab63fa\",\"#FFA15A\",\"#19d3f3\",\"#FF6692\",\"#B6E880\",\"#FF97FF\",\"#FECB52\"],\"font\":{\"color\":\"#2a3f5f\"},\"hovermode\":\"closest\",\"hoverlabel\":{\"align\":\"left\"},\"paper_bgcolor\":\"white\",\"plot_bgcolor\":\"#E5ECF6\",\"polar\":{\"bgcolor\":\"#E5ECF6\",\"angularaxis\":{\"gridcolor\":\"white\",\"linecolor\":\"white\",\"ticks\":\"\"},\"radialaxis\":{\"gridcolor\":\"white\",\"linecolor\":\"white\",\"ticks\":\"\"}},\"ternary\":{\"bgcolor\":\"#E5ECF6\",\"aaxis\":{\"gridcolor\":\"white\",\"linecolor\":\"white\",\"ticks\":\"\"},\"baxis\":{\"gridcolor\":\"white\",\"linecolor\":\"white\",\"ticks\":\"\"},\"caxis\":{\"gridcolor\":\"white\",\"linecolor\":\"white\",\"ticks\":\"\"}},\"coloraxis\":{\"colorbar\":{\"outlinewidth\":0,\"ticks\":\"\"}},\"colorscale\":{\"sequential\":[[0.0,\"#0d0887\"],[0.1111111111111111,\"#46039f\"],[0.2222222222222222,\"#7201a8\"],[0.3333333333333333,\"#9c179e\"],[0.4444444444444444,\"#bd3786\"],[0.5555555555555556,\"#d8576b\"],[0.6666666666666666,\"#ed7953\"],[0.7777777777777778,\"#fb9f3a\"],[0.8888888888888888,\"#fdca26\"],[1.0,\"#f0f921\"]],\"sequentialminus\":[[0.0,\"#0d0887\"],[0.1111111111111111,\"#46039f\"],[0.2222222222222222,\"#7201a8\"],[0.3333333333333333,\"#9c179e\"],[0.4444444444444444,\"#bd3786\"],[0.5555555555555556,\"#d8576b\"],[0.6666666666666666,\"#ed7953\"],[0.7777777777777778,\"#fb9f3a\"],[0.8888888888888888,\"#fdca26\"],[1.0,\"#f0f921\"]],\"diverging\":[[0,\"#8e0152\"],[0.1,\"#c51b7d\"],[0.2,\"#de77ae\"],[0.3,\"#f1b6da\"],[0.4,\"#fde0ef\"],[0.5,\"#f7f7f7\"],[0.6,\"#e6f5d0\"],[0.7,\"#b8e186\"],[0.8,\"#7fbc41\"],[0.9,\"#4d9221\"],[1,\"#276419\"]]},\"xaxis\":{\"gridcolor\":\"white\",\"linecolor\":\"white\",\"ticks\":\"\",\"title\":{\"standoff\":15},\"zerolinecolor\":\"white\",\"automargin\":true,\"zerolinewidth\":2},\"yaxis\":{\"gridcolor\":\"white\",\"linecolor\":\"white\",\"ticks\":\"\",\"title\":{\"standoff\":15},\"zerolinecolor\":\"white\",\"automargin\":true,\"zerolinewidth\":2},\"scene\":{\"xaxis\":{\"backgroundcolor\":\"#E5ECF6\",\"gridcolor\":\"white\",\"linecolor\":\"white\",\"showbackground\":true,\"ticks\":\"\",\"zerolinecolor\":\"white\",\"gridwidth\":2},\"yaxis\":{\"backgroundcolor\":\"#E5ECF6\",\"gridcolor\":\"white\",\"linecolor\":\"white\",\"showbackground\":true,\"ticks\":\"\",\"zerolinecolor\":\"white\",\"gridwidth\":2},\"zaxis\":{\"backgroundcolor\":\"#E5ECF6\",\"gridcolor\":\"white\",\"linecolor\":\"white\",\"showbackground\":true,\"ticks\":\"\",\"zerolinecolor\":\"white\",\"gridwidth\":2}},\"shapedefaults\":{\"line\":{\"color\":\"#2a3f5f\"}},\"annotationdefaults\":{\"arrowcolor\":\"#2a3f5f\",\"arrowhead\":0,\"arrowwidth\":1},\"geo\":{\"bgcolor\":\"white\",\"landcolor\":\"#E5ECF6\",\"subunitcolor\":\"white\",\"showland\":true,\"showlakes\":true,\"lakecolor\":\"white\"},\"title\":{\"x\":0.05},\"mapbox\":{\"style\":\"light\"}}},\"xaxis\":{\"anchor\":\"y\",\"domain\":[0.0,1.0],\"title\":{\"text\":\"ammonium_nitrogen\"},\"type\":\"log\"},\"yaxis\":{\"anchor\":\"x\",\"domain\":[0.0,1.0],\"title\":{\"text\":\"nitrate_nitrogen\"}},\"legend\":{\"tracegroupgap\":0},\"margin\":{\"t\":60}},                        {\"responsive\": true}                    ).then(function(){\n",
       "                            \n",
       "var gd = document.getElementById('325bdb07-5555-4faf-b3f7-90151cec576c');\n",
       "var x = new MutationObserver(function (mutations, observer) {{\n",
       "        var display = window.getComputedStyle(gd).display;\n",
       "        if (!display || display === 'none') {{\n",
       "            console.log([gd, 'removed!']);\n",
       "            Plotly.purge(gd);\n",
       "            observer.disconnect();\n",
       "        }}\n",
       "}});\n",
       "\n",
       "// Listen for the removal of the full notebook cells\n",
       "var notebookContainer = gd.closest('#notebook-container');\n",
       "if (notebookContainer) {{\n",
       "    x.observe(notebookContainer, {childList: true});\n",
       "}}\n",
       "\n",
       "// Listen for the clearing of the current output cell\n",
       "var outputEl = gd.closest('.output');\n",
       "if (outputEl) {{\n",
       "    x.observe(outputEl, {childList: true});\n",
       "}}\n",
       "\n",
       "                        })                };                });            </script>        </div>"
      ]
     },
     "metadata": {},
     "output_type": "display_data"
    }
   ],
   "source": [
    "fig = px.scatter(df, x=\"ammonium_nitrogen\", y=\"nitrate_nitrogen\", trendline = \"ols\", log_x=True)\n",
    "fig.show()"
   ]
  },
  {
   "cell_type": "code",
   "execution_count": null,
   "id": "eec9fed3-d2b3-4876-aeea-55dad4963105",
   "metadata": {},
   "outputs": [],
   "source": []
  }
 ],
 "metadata": {
  "kernelspec": {
   "display_name": "Python 3 (ipykernel)",
   "language": "python",
   "name": "python3"
  },
  "language_info": {
   "codemirror_mode": {
    "name": "ipython",
    "version": 3
   },
   "file_extension": ".py",
   "mimetype": "text/x-python",
   "name": "python",
   "nbconvert_exporter": "python",
   "pygments_lexer": "ipython3",
   "version": "3.10.11"
  }
 },
 "nbformat": 4,
 "nbformat_minor": 5
}
