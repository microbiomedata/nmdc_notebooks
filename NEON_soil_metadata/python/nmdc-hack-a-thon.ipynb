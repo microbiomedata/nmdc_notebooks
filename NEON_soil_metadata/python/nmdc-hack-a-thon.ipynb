{
 "cells": [
  {
   "cell_type": "markdown",
   "id": "c44cb7dc-fc42-4c03-90f7-347d120eedb7",
   "metadata": {},
   "source": [
    "# Example 1\n",
    "\n",
    "Plot pH over Time for the NEON Studies."
   ]
  },
  {
   "cell_type": "code",
   "execution_count": 91,
   "id": "67e8319d-fabe-4bb7-9dbf-20614573a5ce",
   "metadata": {
    "tags": []
   },
   "outputs": [],
   "source": [
    "import requests\n",
    "import json\n",
    "import matplotlib as mp\n",
    "import pandas as pd\n",
    "import matplotlib.pyplot as plt\n"
   ]
  },
  {
   "cell_type": "code",
   "execution_count": 11,
   "id": "01a8e74a-f07e-4cbf-8fe4-3ed833340118",
   "metadata": {
    "tags": []
   },
   "outputs": [
    {
     "name": "stdout",
     "output_type": "stream",
     "text": [
      "https://api.microbiomedata.org/studies?filter=name.search%3ANational%20Ecological%20Observatory%20Network\n",
      "nmdc:sty-11-34xj1150\n",
      "nmdc:sty-11-hht5sb92\n",
      "nmdc:sty-11-pzmd0x14\n"
     ]
    }
   ],
   "source": [
    "base_url = \"https://api.microbiomedata.org\"\n",
    "filt = \"name.search%3ANational%20Ecological%20Observatory%20Network\"\n",
    "url = f\"{base_url}/studies?filter={filt}\"\n",
    "print(url)\n",
    "resp = requests.get(url)\n",
    "studies = resp.json()['results']\n",
    "study_ids = []\n",
    "for study in studies:\n",
    "    print(study['id'])\n",
    "    study_ids.append(study['id'])"
   ]
  },
  {
   "cell_type": "code",
   "execution_count": 40,
   "id": "218f7a63-e63b-46c1-902e-c44d456b69b8",
   "metadata": {
    "tags": []
   },
   "outputs": [
    {
     "name": "stdout",
     "output_type": "stream",
     "text": [
      "4259\n"
     ]
    }
   ],
   "source": [
    "per_page = 100\n",
    "all_results = []\n",
    "fields = \"ph, collection_date.has_raw_value,geo_loc_name,lat_lon\"\n",
    "for study_id in study_ids:\n",
    "    filt = f\"part_of:{study_id}\"\n",
    "    get_more = True\n",
    "    tot = 0\n",
    "    page = 1\n",
    "    while get_more:\n",
    "        url = f\"{base_url}/biosamples?filter={filt}&per_page={per_page}&page={page}&fields={fields}\"\n",
    "        resp = requests.get(url)\n",
    "        data = resp.json()\n",
    "        results = data['results']\n",
    "        for samp in results:\n",
    "            if 'ph' in samp:\n",
    "                all_results.append(samp)         \n",
    "        tot += len(data['results'])\n",
    "        if tot < data['meta']['count']:\n",
    "            page += 1\n",
    "        else:\n",
    "            get_more = False\n",
    "\n",
    "print(len(all_results))\n"
   ]
  },
  {
   "cell_type": "code",
   "execution_count": 52,
   "id": "a7fc796f-8616-41ca-8689-e8f60add4f2e",
   "metadata": {
    "tags": []
   },
   "outputs": [
    {
     "name": "stdout",
     "output_type": "stream",
     "text": [
      "490\n",
      "47\n",
      "4091\n"
     ]
    }
   ],
   "source": [
    "sites = set()\n",
    "geo_locs = set()\n",
    "dates = set()\n",
    "for samp in all_results:\n",
    "    lat_lon = f\"{samp['lat_lon']['latitude']},{samp['lat_lon']['longitude']}\"\n",
    "    sites.add(lat_lon)\n",
    "    geo_locs.add(samp['geo_loc_name']['has_raw_value'])\n",
    "    dates.add(samp['collection_date']['has_raw_value'])\n",
    "print(len(sites))\n",
    "print(len(geo_locs))\n",
    "print(len(dates))"
   ]
  },
  {
   "cell_type": "code",
   "execution_count": 53,
   "id": "8a70709a-922d-4391-9a50-6e2f326aae1b",
   "metadata": {
    "tags": []
   },
   "outputs": [
    {
     "name": "stdout",
     "output_type": "stream",
     "text": [
      "{'collection_date': {'has_raw_value': '2017-06-05T16:50Z'}, 'id': 'nmdc:bsm-11-06qrej20', 'ph': 5.51, 'geo_loc_name': {'has_raw_value': 'USA: Washington, Abby Road'}, 'lat_lon': {'latitude': 45.76858, 'longitude': -122.298736}}\n"
     ]
    }
   ],
   "source": [
    "print(all_results[0])"
   ]
  },
  {
   "cell_type": "code",
   "execution_count": 95,
   "id": "fd34f79b-4060-4c8f-8eaa-bbb5c4ae1fd7",
   "metadata": {
    "tags": []
   },
   "outputs": [],
   "source": [
    "df_inp = []\n",
    "for samp in all_results:\n",
    "    year, month, day = samp[\"collection_date\"][\"has_raw_value\"][0:10].split(\"-\")\n",
    "    lat_lon = f\"{samp['lat_lon']['latitude']},{samp['lat_lon']['longitude']}\"\n",
    "\n",
    "    rec = {\"date\": samp[\"collection_date\"][\"has_raw_value\"],\n",
    "           \"ph\": samp[\"ph\"],\n",
    "           \"loc\": samp[\"geo_loc_name\"][\"has_raw_value\"],\n",
    "           \"lat_lon\": lat_lon}\n",
    "    df_inp.append(rec)\n",
    "\n",
    "df = pd.DataFrame(df_inp)\n",
    "df['date'] = pd.to_datetime(df['date'])\n"
   ]
  },
  {
   "cell_type": "code",
   "execution_count": 89,
   "id": "7e1d1743-9d5f-4aad-a529-c4d66f12edc6",
   "metadata": {
    "tags": []
   },
   "outputs": [
    {
     "data": {
      "text/plain": [
       "datetime64[ns, UTC]"
      ]
     },
     "execution_count": 89,
     "metadata": {},
     "output_type": "execute_result"
    }
   ],
   "source": [
    "df['date'].dtypes"
   ]
  },
  {
   "cell_type": "code",
   "execution_count": 80,
   "id": "8fe7ebd7-0b17-46f5-9850-e3febbfec5c2",
   "metadata": {
    "tags": []
   },
   "outputs": [
    {
     "ename": "SyntaxError",
     "evalue": "f-string: unmatched '[' (2000085477.py, line 1)",
     "output_type": "error",
     "traceback": [
      "\u001b[0;36m  File \u001b[0;32m\"/tmp/ipykernel_1951681/2000085477.py\"\u001b[0;36m, line \u001b[0;32m1\u001b[0m\n\u001b[0;31m    f\"loc: {len(df[\"loc\"].unique())}\"\u001b[0m\n\u001b[0m                    ^\u001b[0m\n\u001b[0;31mSyntaxError\u001b[0m\u001b[0;31m:\u001b[0m f-string: unmatched '['\n"
     ]
    }
   ],
   "source": []
  },
  {
   "cell_type": "code",
   "execution_count": 96,
   "id": "944a61cf-aade-4d90-b8ff-86c5e64ba957",
   "metadata": {
    "tags": []
   },
   "outputs": [
    {
     "data": {
      "text/plain": [
       "[<matplotlib.lines.Line2D at 0x7f2f5feb3fa0>]"
      ]
     },
     "execution_count": 96,
     "metadata": {},
     "output_type": "execute_result"
    },
    {
     "data": {
      "image/png": "[encoded data removed]",
      "text/plain": [
       "<Figure size 432x288 with 1 Axes>"
      ]
     },
     "metadata": {
      "needs_background": "light"
     },
     "output_type": "display_data"
    }
   ],
   "source": [
    "\n",
    "plt.plot_date(df.date, df.ph)"
   ]
  },
  {
   "cell_type": "code",
   "execution_count": null,
   "id": "621d2ce7-459f-4df7-a760-4e0b85727be3",
   "metadata": {},
   "outputs": [],
   "source": []
  }
 ],
 "metadata": {
  "kernelspec": {
   "display_name": "NERSC Python",
   "language": "python",
   "name": "python3"
  },
  "language_info": {
   "codemirror_mode": {
    "name": "ipython",
    "version": 3
   },
   "file_extension": ".py",
   "mimetype": "text/x-python",
   "name": "python",
   "nbconvert_exporter": "python",
   "pygments_lexer": "ipython3",
   "version": "3.9.7"
  }
 },
 "nbformat": 4,
 "nbformat_minor": 5
}
