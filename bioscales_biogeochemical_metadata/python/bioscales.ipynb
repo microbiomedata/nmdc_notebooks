{
 "cells": [
  {
   "cell_type": "markdown",
   "id": "0481407b-5495-4bda-8e22-8291951053eb",
   "metadata": {},
   "source": [
    "# Bio-scales metadata biogeochemical exploration and visualization\n",
    "\n",
    "This notebook uses metadata from the [Bio-scales study](https://data.microbiomedata.org/details/study/nmdc:sty-11-r2h77870) in the NMDC Data Portal to look at how soil biogeochemical properties from a Botanical Garden `ecosystem_subtype` are related."
   ]
  },
  {
   "cell_type": "markdown",
   "id": "9ebe5c85-370d-45ae-ade9-000b8e3206c8",
   "metadata": {},
   "source": [
    "## Import Python libraries"
   ]
  },
  {
   "cell_type": "code",
   "execution_count": 1,
   "id": "b67e88ca-2644-4b92-9929-c8acc0589c08",
   "metadata": {},
   "outputs": [],
   "source": [
    "import requests\n",
    "import pandas as pd\n",
    "import plotly.express as px\n",
    "import nmdc_api_utilities"
   ]
  },
  {
   "cell_type": "markdown",
   "id": "ce88f4e3-e657-4da0-bedc-9826463dcb6c",
   "metadata": {},
   "source": [
    "## Get the study ID for the Bio-Scales study\n",
    "\n",
    "Using the nmdc_api_utilties we can retrieve the study ID for the Bio-Scales study. In this instance we use the StudySearch `get_record_by_attribute` function to look for studies with \"Bio-Scales\" in the `title`."
   ]
  },
  {
   "cell_type": "code",
   "execution_count": 2,
   "id": "ed2e89a0",
   "metadata": {},
   "outputs": [
    {
     "name": "stdout",
     "output_type": "stream",
     "text": [
      "nmdc:sty-11-r2h77870\n"
     ]
    }
   ],
   "source": [
    "from nmdc_api_utilities.study_search import StudySearch\n",
    "# Create a StudySearch object\n",
    "ss_client = StudySearch()\n",
    "# Get the study by title\n",
    "study_json = ss_client.get_record_by_attribute(attribute_name=\"title\", attribute_value=\"Bio-Scales\")\n",
    "# Get the study id from the study_json\n",
    "study = study_json[0][\"id\"]\n",
    "print(study)"
   ]
  },
  {
   "cell_type": "markdown",
   "id": "58eacf6c-2fc2-4cdd-8294-762be9c01447",
   "metadata": {},
   "source": [
    "## Get the biosamples associated with the Bio-Scales study\n",
    "\n",
    "Using the study ID obtained above, and BiosampleSearch module, the biosamples can be filtered by study ID using the `associated_studies` field. The information returned can be limited to the fields we are interested in. In this case, the fields are `ph`, `magnesium`, `nitrite_nitrogen`, etc. We pass in the parameter `all_pages=True` to tell the module to return all available results. Here, the total number of biosamples associated with the Bio-Scales study is printed, along with one of the biosamples with all the given fields."
   ]
  },
  {
   "cell_type": "code",
   "execution_count": 3,
   "id": "7b5282ce",
   "metadata": {},
   "outputs": [
    {
     "name": "stdout",
     "output_type": "stream",
     "text": [
      "Total number of biosamples: 416\n",
      "{'id': 'nmdc:bsm-11-08mamh62', 'ecosystem_subtype': 'Botanical garden', 'habitat': 'Soil', 'ph': 6.64, 'calcium': {'has_raw_value': '1945.98 mg/kg', 'has_numeric_value': 1945.98, 'has_unit': 'mg/kg', 'type': 'nmdc:QuantityValue'}, 'magnesium': {'has_raw_value': '351.875 mg/kg', 'has_numeric_value': 351.875, 'has_unit': 'mg/kg', 'type': 'nmdc:QuantityValue'}, 'potassium': {'has_raw_value': '304.965 mg/kg', 'has_numeric_value': 304.965, 'has_unit': 'mg/kg', 'type': 'nmdc:QuantityValue'}, 'tot_nitro': {'has_raw_value': '0.242 Percent', 'has_numeric_value': 0.242, 'has_unit': 'Percent', 'type': 'nmdc:QuantityValue'}, 'manganese': {'has_raw_value': '17.688 mg/kg', 'has_numeric_value': 17.688, 'has_unit': 'mg/kg', 'type': 'nmdc:QuantityValue'}, 'zinc': {'has_raw_value': '2.6576 mg/kg', 'has_numeric_value': 2.6576, 'has_unit': 'mg/kg', 'type': 'nmdc:QuantityValue'}, 'ammonium_nitrogen': {'has_raw_value': '1.8015 mg/kg', 'has_numeric_value': 1.8015, 'has_unit': 'mg/kg', 'type': 'nmdc:QuantityValue'}, 'nitrate_nitrogen': {'has_raw_value': '1.698 mg/kg', 'has_numeric_value': 1.698, 'has_unit': 'mg/kg', 'type': 'nmdc:QuantityValue'}, 'nitrite_nitrogen': {'has_raw_value': '0 mg/kg', 'has_numeric_value': 0.0, 'has_unit': 'mg/kg', 'type': 'nmdc:QuantityValue'}}\n"
     ]
    }
   ],
   "source": [
    "from nmdc_api_utilities.biosample_search import BiosampleSearch\n",
    "# create a BiosampleSearch object\n",
    "bs_client = BiosampleSearch()\n",
    "per_page = 2000 \n",
    "fields = \"ph,calcium,magnesium,potassium,tot_nitro,manganese,zinc,ammonium_nitrogen,nitrate_nitrogen,nitrite_nitrogen,ecosystem_subtype,habitat\"\n",
    "# get the biosample by associated study, setting all_pages to True to ensure we get all biosamples with the given study\n",
    "biosample_json = bs_client.get_record_by_attribute(attribute_name=\"associated_studies\", attribute_value=study, fields=fields, max_page_size=per_page, all_pages=True)\n",
    "print(f\"Total number of biosamples: {len(biosample_json)}\")\n",
    "# find biosample nmdc:bsm-11-08mamh62\n",
    "for biosample in biosample_json:\n",
    "    if biosample[\"id\"] == \"nmdc:bsm-11-08mamh62\":\n",
    "        print(biosample)\n",
    "        break\n"
   ]
  },
  {
   "cell_type": "markdown",
   "id": "f3e82afd-49f2-4b3a-b82a-ad277410bc5d",
   "metadata": {},
   "source": [
    "## Explore and understand the results\n",
    "\n",
    "Since all the biosamples retrieved do not contain all of the fields we are interested in (listed in the `filt` variable), creating a list of the fields to loop through allows us to count how many biosamples contain those fields. The number of biosamples for each field is printed."
   ]
  },
  {
   "cell_type": "code",
   "execution_count": 4,
   "id": "513fe714-a790-4085-9f21-7b8fa498097b",
   "metadata": {},
   "outputs": [
    {
     "name": "stdout",
     "output_type": "stream",
     "text": [
      "{'ph': 103, 'calcium': 103, 'magnesium': 103, 'potassium': 103, 'tot_nitro': 103, 'manganese': 103, 'zinc': 103, 'ammonium_nitrogen': 103, 'nitrate_nitrogen': 103, 'nitrite_nitrogen': 103, 'ecosystem_subtype': 416, 'habitat': 416}\n"
     ]
    }
   ],
   "source": [
    "# convert string of fields from request above to dictionary with values set to 0\n",
    "fields_list = fields.split(',')\n",
    "field_counts = {field: 0 for field in fields_list}\n",
    "\n",
    "# Loop through the list of fields and the results to count the presence of each field\n",
    "for field in field_counts.keys():\n",
    "    for samp in biosample_json:\n",
    "        if field in samp:\n",
    "            field_counts[field] += 1\n",
    "            \n",
    "print(field_counts)"
   ]
  },
  {
   "cell_type": "markdown",
   "id": "43329f2f-fee0-4553-835b-82d70a102c27",
   "metadata": {},
   "source": [
    "## Drop the rows missing biogeochemical fields\n",
    "\n",
    "Using a list comprehension, we can create a list of `filtered_results` that return only the biosamples that include the complete biogeochemical metadata we are interested in. The number of filtered results is printed along with the first few results."
   ]
  },
  {
   "cell_type": "code",
   "execution_count": 5,
   "id": "4f004562-205b-45bd-8233-edf41a829f99",
   "metadata": {},
   "outputs": [
    {
     "name": "stdout",
     "output_type": "stream",
     "text": [
      "Total results after filtering for all fields: 103\n",
      "{'id': 'nmdc:bsm-11-bdn1fa14', 'ecosystem_subtype': 'Botanical garden', 'habitat': 'Soil', 'ph': 6.23, 'calcium': {'has_raw_value': '2596 mg/kg', 'has_numeric_value': 2596.0, 'has_unit': 'mg/kg', 'type': 'nmdc:QuantityValue'}, 'magnesium': {'has_raw_value': '456.241 mg/kg', 'has_numeric_value': 456.241, 'has_unit': 'mg/kg', 'type': 'nmdc:QuantityValue'}, 'potassium': {'has_raw_value': '154.895 mg/kg', 'has_numeric_value': 154.895, 'has_unit': 'mg/kg', 'type': 'nmdc:QuantityValue'}, 'tot_nitro': {'has_raw_value': '0.172 Percent', 'has_numeric_value': 0.172, 'has_unit': 'Percent', 'type': 'nmdc:QuantityValue'}, 'manganese': {'has_raw_value': '25.9704 mg/kg', 'has_numeric_value': 25.9704, 'has_unit': 'mg/kg', 'type': 'nmdc:QuantityValue'}, 'zinc': {'has_raw_value': '2.112 mg/kg', 'has_numeric_value': 2.112, 'has_unit': 'mg/kg', 'type': 'nmdc:QuantityValue'}, 'ammonium_nitrogen': {'has_raw_value': '4.844 mg/kg', 'has_numeric_value': 4.844, 'has_unit': 'mg/kg', 'type': 'nmdc:QuantityValue'}, 'nitrate_nitrogen': {'has_raw_value': '2.1 mg/kg', 'has_numeric_value': 2.1, 'has_unit': 'mg/kg', 'type': 'nmdc:QuantityValue'}, 'nitrite_nitrogen': {'has_raw_value': '0.4245 mg/kg', 'has_numeric_value': 0.4245, 'has_unit': 'mg/kg', 'type': 'nmdc:QuantityValue'}}\n"
     ]
    }
   ],
   "source": [
    "filtered_results = [biosamp for biosamp in biosample_json if all(field in biosamp for field in fields_list)]\n",
    "print(f\"Total results after filtering for all fields: {len(filtered_results)}\")\n",
    "print(filtered_results[2])"
   ]
  },
  {
   "cell_type": "markdown",
   "id": "a299582f-5a1c-4c87-846a-490a2f8cfd63",
   "metadata": {},
   "source": [
    "## Transform results\n",
    "\n",
    "The `filtered_results` are converted to a data frame while also transforming the field values into the desired data types. For example, all decimal values are converted to `float`s. Looking at the structure of the results above, we can see that most of the biogeochemical fields have a nested value structure that include `has_raw_value`, `has_numeric_value` and `has_unit`. Four fields do not include this nested structure: `ecosystem_subtype`, `habitat`, `id`, and `ph`. Separating the two structures into different lists will help clarify the desired data types. We can also extract out the units using the `has_unit` sub-field of some of the fields, which will come in handy when we create graphs. The resulting data frame is shown."
   ]
  },
  {
   "cell_type": "code",
   "execution_count": 6,
   "id": "bd1bcdb0-8d05-427e-866e-365dfcdf829c",
   "metadata": {},
   "outputs": [
    {
     "data": {
      "application/vnd.microsoft.datawrangler.viewer.v0+json": {
       "columns": [
        {
         "name": "index",
         "rawType": "int64",
         "type": "integer"
        },
        {
         "name": "calcium",
         "rawType": "float64",
         "type": "float"
        },
        {
         "name": "magnesium",
         "rawType": "float64",
         "type": "float"
        },
        {
         "name": "potassium",
         "rawType": "float64",
         "type": "float"
        },
        {
         "name": "tot_nitro",
         "rawType": "float64",
         "type": "float"
        },
        {
         "name": "manganese",
         "rawType": "float64",
         "type": "float"
        },
        {
         "name": "zinc",
         "rawType": "float64",
         "type": "float"
        },
        {
         "name": "ammonium_nitrogen",
         "rawType": "float64",
         "type": "float"
        },
        {
         "name": "nitrate_nitrogen",
         "rawType": "float64",
         "type": "float"
        },
        {
         "name": "nitrite_nitrogen",
         "rawType": "float64",
         "type": "float"
        },
        {
         "name": "ecosystem_subtype",
         "rawType": "object",
         "type": "string"
        },
        {
         "name": "habitat",
         "rawType": "object",
         "type": "string"
        },
        {
         "name": "id",
         "rawType": "object",
         "type": "string"
        },
        {
         "name": "ph",
         "rawType": "float64",
         "type": "float"
        }
       ],
       "conversionMethod": "pd.DataFrame",
       "ref": "ecb483f3-fb40-40c3-bd29-a10b629357e6",
       "rows": [
        [
         "0",
         "2774.35",
         "578.148",
         "168.2",
         "0.598",
         "48.0908",
         "13.1545",
         "14.5245",
         "20.401",
         "0.0",
         "Botanical garden",
         "Soil",
         "nmdc:bsm-11-c9458s26",
         "5.41"
        ],
        [
         "1",
         "2511.03",
         "502.777",
         "315.919",
         "0.131",
         "26.6171",
         "4.0774",
         "2.6825",
         "0.0",
         "0.0",
         "Botanical garden",
         "Soil",
         "nmdc:bsm-11-r7rgv593",
         "6.95"
        ],
        [
         "2",
         "2596.0",
         "456.241",
         "154.895",
         "0.172",
         "25.9704",
         "2.112",
         "4.844",
         "2.1",
         "0.4245",
         "Botanical garden",
         "Soil",
         "nmdc:bsm-11-bdn1fa14",
         "6.23"
        ],
        [
         "3",
         "1841.93",
         "331.5",
         "113.561",
         "0.47",
         "34.8639",
         "5.2868",
         "9.5715",
         "12.874",
         "0.0",
         "Botanical garden",
         "Soil",
         "nmdc:bsm-11-ftte8s50",
         "5.14"
        ],
        [
         "4",
         "2320.83",
         "458.94",
         "489.767",
         "0.326",
         "20.1285",
         "2.638",
         "2.329",
         "2.804",
         "0.0",
         "Botanical garden",
         "Soil",
         "nmdc:bsm-11-01teww33",
         "6.81"
        ],
        [
         "5",
         "2625.84",
         "536.746",
         "168.928",
         "0.366",
         "56.4224",
         "4.429",
         "3.8115",
         "0.4135",
         "0.0",
         "Botanical garden",
         "Soil",
         "nmdc:bsm-11-f2sf9h97",
         "7.0"
        ],
        [
         "6",
         "2141.0",
         "391.663",
         "150.959",
         "0.471",
         "31.6289",
         "7.0343",
         "12.15",
         "18.951",
         "0.0",
         "Botanical garden",
         "Soil",
         "nmdc:bsm-11-535b4v37",
         "5.17"
        ],
        [
         "7",
         "2406.67",
         "392.849",
         "121.629",
         "0.544",
         "36.8924",
         "7.3694",
         "18.656",
         "9.271",
         "0.0",
         "Botanical garden",
         "Soil",
         "nmdc:bsm-11-1eybv881",
         "5.35"
        ],
        [
         "8",
         "2240.05",
         "435.555",
         "160.591",
         "0.11",
         "22.0105",
         "2.2636",
         "3.1565",
         "2.1515",
         "0.0",
         "Botanical garden",
         "Soil",
         "nmdc:bsm-11-axr9kj21",
         "6.64"
        ],
        [
         "9",
         "2421.86",
         "404.477",
         "307.14",
         "0.346",
         "23.0194",
         "4.4079",
         "2.544",
         "1.133",
         "0.0",
         "Botanical garden",
         "Soil",
         "nmdc:bsm-11-gq2m5921",
         "6.76"
        ],
        [
         "10",
         "2480.86",
         "514.993",
         "395.775",
         "0.302",
         "56.7257",
         "9.496",
         "10.46",
         "25.197",
         "0.0",
         "Botanical garden",
         "Soil",
         "nmdc:bsm-11-b4k9w367",
         "5.52"
        ],
        [
         "11",
         "2214.14",
         "459.533",
         "157.254",
         "0.491",
         "31.4614",
         "5.2926",
         "11.0295",
         "13.514",
         "0.0",
         "Botanical garden",
         "Soil",
         "nmdc:bsm-11-mnkv7h37",
         "5.16"
        ],
        [
         "12",
         "2206.82",
         "448.931",
         "173.027",
         "0.298",
         "20.7862",
         "2.4845",
         "2.9575",
         "0.983",
         "0.0",
         "Botanical garden",
         "Soil",
         "nmdc:bsm-11-sejjv213",
         "6.72"
        ],
        [
         "13",
         "2347.97",
         "433.255",
         "208.872",
         "0.118",
         "26.0173",
         "2.955",
         "3.6955",
         "1.0625",
         "0.0",
         "Botanical garden",
         "Soil",
         "nmdc:bsm-11-nsaqf095",
         "6.73"
        ],
        [
         "14",
         "2359.17",
         "442.326",
         "201.387",
         "0.105",
         "23.1047",
         "1.95",
         "2.923",
         "1.6305",
         "0.0",
         "Botanical garden",
         "Soil",
         "nmdc:bsm-11-w4cc0w75",
         "6.84"
        ],
        [
         "15",
         "2419.11",
         "469.368",
         "550.042",
         "0.121",
         "26.6335",
         "3.4032",
         "4.7875",
         "4.642",
         "3.2",
         "Botanical garden",
         "Soil",
         "nmdc:bsm-11-wg01qe88",
         "6.88"
        ],
        [
         "16",
         "2598.35",
         "516.737",
         "179.191",
         "0.392",
         "26.229",
         "3.1196",
         "3.063",
         "1.989",
         "0.0",
         "Botanical garden",
         "Soil",
         "nmdc:bsm-11-jg4tae61",
         "6.4"
        ],
        [
         "17",
         "2080.8",
         "364.457",
         "115.882",
         "0.492",
         "24.2913",
         "7.6471",
         "9.5985",
         "14.7365",
         "0.0",
         "Botanical garden",
         "Soil",
         "nmdc:bsm-11-q4qc4d09",
         "5.14"
        ],
        [
         "18",
         "2236.72",
         "423.518",
         "148.147",
         "0.224",
         "20.9377",
         "2.3331",
         "3.783",
         "3.086",
         "0.0",
         "Botanical garden",
         "Soil",
         "nmdc:bsm-11-20n7wy48",
         "6.61"
        ],
        [
         "19",
         "2254.4",
         "442.037",
         "395.228",
         "0.144",
         "25.3905",
         "3.6902",
         "3.002",
         "1.333",
         "0.297",
         "Botanical garden",
         "Soil",
         "nmdc:bsm-11-w11dzv86",
         "6.81"
        ],
        [
         "20",
         "2092.65",
         "421.19",
         "150.225",
         "0.261",
         "19.3685",
         "1.9367",
         "3.4185",
         "1.9945",
         "0.0",
         "Botanical garden",
         "Soil",
         "nmdc:bsm-11-54rdaf84",
         "6.66"
        ],
        [
         "21",
         "2440.33",
         "493.054",
         "206.03",
         "0.131",
         "26.9571",
         "2.8401",
         "4.446",
         "2.935",
         "0.0",
         "Botanical garden",
         "Soil",
         "nmdc:bsm-11-ffrfzy83",
         "6.72"
        ],
        [
         "22",
         "2272.29",
         "509.772",
         "140.475",
         "0.194",
         "24.528",
         "2.8673",
         "3.519",
         "0.2795",
         "0.0",
         "Botanical garden",
         "Soil",
         "nmdc:bsm-11-ndp7xj19",
         "6.64"
        ],
        [
         "23",
         "2331.84",
         "397.536",
         "251.476",
         "0.433",
         "23.085",
         "6.7812",
         "8.3015",
         "1.403",
         "0.0",
         "Botanical garden",
         "Soil",
         "nmdc:bsm-11-ce878p31",
         "6.72"
        ],
        [
         "24",
         "2247.43",
         "537.364",
         "344.304",
         "0.446",
         "32.625",
         "6.7106",
         "10.6855",
         "10.6955",
         "0.0",
         "Botanical garden",
         "Soil",
         "nmdc:bsm-11-s0np7e14",
         "5.48"
        ],
        [
         "25",
         "2232.42",
         "458.483",
         "220.794",
         "0.378",
         "20.2892",
         "2.3346",
         "2.8415",
         "0.6115",
         "0.0",
         "Botanical garden",
         "Soil",
         "nmdc:bsm-11-kxtgzv04",
         "6.68"
        ],
        [
         "26",
         "2432.99",
         "447.272",
         "208.872",
         "0.397",
         "22.3931",
         "2.4071",
         "3.5105",
         "0.746",
         "0.0",
         "Botanical garden",
         "Soil",
         "nmdc:bsm-11-xpv2fm92",
         "6.62"
        ],
        [
         "27",
         "2044.05",
         "398.928",
         "184.092",
         "0.327",
         "18.3765",
         "4.2708",
         "0.0",
         "0.463",
         "0.0",
         "Botanical garden",
         "Soil",
         "nmdc:bsm-11-dd8yd668",
         "6.48"
        ],
        [
         "28",
         "2152.42",
         "418.21",
         "449.091",
         "0.335",
         "17.8597",
         "3.3915",
         "2.0665",
         "1.1235",
         "0.0",
         "Botanical garden",
         "Soil",
         "nmdc:bsm-11-6m6v8582",
         "6.92"
        ],
        [
         "29",
         "2217.89",
         "439.551",
         "153.687",
         "0.232",
         "20.3547",
         "1.8725",
         "2.4445",
         "1.919",
         "0.0",
         "Botanical garden",
         "Soil",
         "nmdc:bsm-11-1dpnqj50",
         "6.63"
        ],
        [
         "30",
         "2098.19",
         "349.431",
         "287.194",
         "0.265",
         "49.2782",
         "5.4742",
         "7.291",
         "18.1425",
         "0.0",
         "Botanical garden",
         "Soil",
         "nmdc:bsm-11-f4f5qh88",
         "5.07"
        ],
        [
         "31",
         "2435.35",
         "444.03",
         "328.053",
         "0.439",
         "35.7355",
         "8.0582",
         "9.211",
         "18.875",
         "0.0",
         "Botanical garden",
         "Soil",
         "nmdc:bsm-11-qs0hz846",
         "5.46"
        ],
        [
         "32",
         "1921.28",
         "405.766",
         "346.753",
         "0.295",
         "14.3655",
         "1.4905",
         "1.5535",
         "0.832",
         "0.0",
         "Botanical garden",
         "Soil",
         "nmdc:bsm-11-jt9qtx26",
         "6.9"
        ],
        [
         "33",
         "1757.29",
         "324.19",
         "219.846",
         "0.306",
         "15.2033",
         "2.9199",
         "2.7195",
         "0.316",
         "0.0",
         "Botanical garden",
         "Soil",
         "nmdc:bsm-11-b3802b26",
         "6.71"
        ],
        [
         "34",
         "2831.11",
         "472.697",
         "420.875",
         "0.363",
         "60.8382",
         "9.8456",
         "9.483",
         "14.482",
         "0.0",
         "Botanical garden",
         "Soil",
         "nmdc:bsm-11-52bf8107",
         "5.48"
        ],
        [
         "35",
         "2351.52",
         "445.767",
         "289.816",
         "0.393",
         "26.6471",
         "3.8888",
         "3.226",
         "2.1155",
         "0.0",
         "Botanical garden",
         "Soil",
         "nmdc:bsm-11-yqrv3r15",
         "6.59"
        ],
        [
         "36",
         "1886.08",
         "364.595",
         "60.3044",
         "0.521",
         "40.0784",
         "4.2092",
         "13.7945",
         "11.0665",
         "0.0",
         "Botanical garden",
         "Soil",
         "nmdc:bsm-11-b70s9h20",
         "5.09"
        ],
        [
         "37",
         "2498.43",
         "485.077",
         "219.265",
         "0.34",
         "28.6011",
         "4.1569",
         "3.014",
         "0.2345",
         "0.0",
         "Botanical garden",
         "Soil",
         "nmdc:bsm-11-m5tyz195",
         "6.85"
        ],
        [
         "38",
         "2749.71",
         "519.957",
         "240.767",
         "0.195",
         "36.5312",
         "5.1577",
         "4.193",
         "0.0",
         "0.0",
         "Botanical garden",
         "Soil",
         "nmdc:bsm-11-1r4br749",
         "6.76"
        ],
        [
         "39",
         "2322.55",
         "440.421",
         "206.227",
         "0.3",
         "21.3753",
         "2.8677",
         "2.7645",
         "4.8475",
         "0.0",
         "Botanical garden",
         "Soil",
         "nmdc:bsm-11-y46kr968",
         "6.54"
        ],
        [
         "40",
         "2435.54",
         "502.549",
         "210.143",
         "0.4",
         "29.6194",
         "4.0575",
         "3.6545",
         "1.111",
         "0.0",
         "Botanical garden",
         "Soil",
         "nmdc:bsm-11-hx03gs06",
         "6.6"
        ],
        [
         "41",
         "1911.85",
         "345.542",
         "316.155",
         "0.408",
         "27.2552",
         "4.8509",
         "12.8545",
         "13.422",
         "0.0",
         "Botanical garden",
         "Soil",
         "nmdc:bsm-11-pnb58t51",
         "5.21"
        ],
        [
         "42",
         "2431.98",
         "509.653",
         "138.724",
         "0.151",
         "32.3007",
         "2.8379",
         "4.4525",
         "0.4225",
         "0.0",
         "Botanical garden",
         "Soil",
         "nmdc:bsm-11-ynkz2756",
         "6.48"
        ],
        [
         "43",
         "2644.35",
         "568.66",
         "205.043",
         "0.329",
         "67.1221",
         "8.4669",
         "8.6505",
         "11.5955",
         "0.0",
         "Botanical garden",
         "Soil",
         "nmdc:bsm-11-2k7det13",
         "5.47"
        ],
        [
         "44",
         "2213.11",
         "456.562",
         "169.452",
         "0.577",
         "38.0788",
         "9.0923",
         "14.3565",
         "15.816",
         "0.0",
         "Botanical garden",
         "Soil",
         "nmdc:bsm-11-a93af105",
         "4.98"
        ],
        [
         "45",
         "2481.96",
         "524.971",
         "319.684",
         "0.303",
         "50.9719",
         "9.8175",
         "8.5",
         "20.4215",
         "0.0",
         "Botanical garden",
         "Soil",
         "nmdc:bsm-11-35peqt55",
         "5.68"
        ],
        [
         "46",
         "1923.65",
         "404.205",
         "134.845",
         "0.546",
         "32.9005",
         "6.2737",
         "14.706",
         "15.503",
         "0.0",
         "Botanical garden",
         "Soil",
         "nmdc:bsm-11-nrt24197",
         "5.05"
        ],
        [
         "47",
         "2571.42",
         "437.842",
         "233.794",
         "0.296",
         "45.54",
         "9.6995",
         "9.1955",
         "20.428",
         "0.0",
         "Botanical garden",
         "Soil",
         "nmdc:bsm-11-3t0sfk18",
         "5.86"
        ],
        [
         "48",
         "2631.36",
         "557.714",
         "203.92",
         "0.173",
         "30.7649",
         "3.1255",
         "5.5805",
         "4.5255",
         "0.0",
         "Botanical garden",
         "Soil",
         "nmdc:bsm-11-ptgmvp63",
         "6.62"
        ],
        [
         "49",
         "1945.98",
         "351.875",
         "304.965",
         "0.242",
         "17.688",
         "2.6576",
         "1.8015",
         "1.698",
         "0.0",
         "Botanical garden",
         "Soil",
         "nmdc:bsm-11-08mamh62",
         "6.64"
        ]
       ],
       "shape": {
        "columns": 13,
        "rows": 103
       }
      },
      "text/html": [
       "<div>\n",
       "<style scoped>\n",
       "    .dataframe tbody tr th:only-of-type {\n",
       "        vertical-align: middle;\n",
       "    }\n",
       "\n",
       "    .dataframe tbody tr th {\n",
       "        vertical-align: top;\n",
       "    }\n",
       "\n",
       "    .dataframe thead th {\n",
       "        text-align: right;\n",
       "    }\n",
       "</style>\n",
       "<table border=\"1\" class=\"dataframe\">\n",
       "  <thead>\n",
       "    <tr style=\"text-align: right;\">\n",
       "      <th></th>\n",
       "      <th>calcium</th>\n",
       "      <th>magnesium</th>\n",
       "      <th>potassium</th>\n",
       "      <th>tot_nitro</th>\n",
       "      <th>manganese</th>\n",
       "      <th>zinc</th>\n",
       "      <th>ammonium_nitrogen</th>\n",
       "      <th>nitrate_nitrogen</th>\n",
       "      <th>nitrite_nitrogen</th>\n",
       "      <th>ecosystem_subtype</th>\n",
       "      <th>habitat</th>\n",
       "      <th>id</th>\n",
       "      <th>ph</th>\n",
       "    </tr>\n",
       "  </thead>\n",
       "  <tbody>\n",
       "    <tr>\n",
       "      <th>0</th>\n",
       "      <td>2774.35</td>\n",
       "      <td>578.148</td>\n",
       "      <td>168.200</td>\n",
       "      <td>0.598</td>\n",
       "      <td>48.0908</td>\n",
       "      <td>13.1545</td>\n",
       "      <td>14.5245</td>\n",
       "      <td>20.4010</td>\n",
       "      <td>0.0000</td>\n",
       "      <td>Botanical garden</td>\n",
       "      <td>Soil</td>\n",
       "      <td>nmdc:bsm-11-c9458s26</td>\n",
       "      <td>5.41</td>\n",
       "    </tr>\n",
       "    <tr>\n",
       "      <th>1</th>\n",
       "      <td>2511.03</td>\n",
       "      <td>502.777</td>\n",
       "      <td>315.919</td>\n",
       "      <td>0.131</td>\n",
       "      <td>26.6171</td>\n",
       "      <td>4.0774</td>\n",
       "      <td>2.6825</td>\n",
       "      <td>0.0000</td>\n",
       "      <td>0.0000</td>\n",
       "      <td>Botanical garden</td>\n",
       "      <td>Soil</td>\n",
       "      <td>nmdc:bsm-11-r7rgv593</td>\n",
       "      <td>6.95</td>\n",
       "    </tr>\n",
       "    <tr>\n",
       "      <th>2</th>\n",
       "      <td>2596.00</td>\n",
       "      <td>456.241</td>\n",
       "      <td>154.895</td>\n",
       "      <td>0.172</td>\n",
       "      <td>25.9704</td>\n",
       "      <td>2.1120</td>\n",
       "      <td>4.8440</td>\n",
       "      <td>2.1000</td>\n",
       "      <td>0.4245</td>\n",
       "      <td>Botanical garden</td>\n",
       "      <td>Soil</td>\n",
       "      <td>nmdc:bsm-11-bdn1fa14</td>\n",
       "      <td>6.23</td>\n",
       "    </tr>\n",
       "    <tr>\n",
       "      <th>3</th>\n",
       "      <td>1841.93</td>\n",
       "      <td>331.500</td>\n",
       "      <td>113.561</td>\n",
       "      <td>0.470</td>\n",
       "      <td>34.8639</td>\n",
       "      <td>5.2868</td>\n",
       "      <td>9.5715</td>\n",
       "      <td>12.8740</td>\n",
       "      <td>0.0000</td>\n",
       "      <td>Botanical garden</td>\n",
       "      <td>Soil</td>\n",
       "      <td>nmdc:bsm-11-ftte8s50</td>\n",
       "      <td>5.14</td>\n",
       "    </tr>\n",
       "    <tr>\n",
       "      <th>4</th>\n",
       "      <td>2320.83</td>\n",
       "      <td>458.940</td>\n",
       "      <td>489.767</td>\n",
       "      <td>0.326</td>\n",
       "      <td>20.1285</td>\n",
       "      <td>2.6380</td>\n",
       "      <td>2.3290</td>\n",
       "      <td>2.8040</td>\n",
       "      <td>0.0000</td>\n",
       "      <td>Botanical garden</td>\n",
       "      <td>Soil</td>\n",
       "      <td>nmdc:bsm-11-01teww33</td>\n",
       "      <td>6.81</td>\n",
       "    </tr>\n",
       "    <tr>\n",
       "      <th>...</th>\n",
       "      <td>...</td>\n",
       "      <td>...</td>\n",
       "      <td>...</td>\n",
       "      <td>...</td>\n",
       "      <td>...</td>\n",
       "      <td>...</td>\n",
       "      <td>...</td>\n",
       "      <td>...</td>\n",
       "      <td>...</td>\n",
       "      <td>...</td>\n",
       "      <td>...</td>\n",
       "      <td>...</td>\n",
       "      <td>...</td>\n",
       "    </tr>\n",
       "    <tr>\n",
       "      <th>98</th>\n",
       "      <td>1846.09</td>\n",
       "      <td>291.535</td>\n",
       "      <td>168.937</td>\n",
       "      <td>0.513</td>\n",
       "      <td>23.2667</td>\n",
       "      <td>5.1776</td>\n",
       "      <td>16.3295</td>\n",
       "      <td>14.3950</td>\n",
       "      <td>0.0000</td>\n",
       "      <td>Botanical garden</td>\n",
       "      <td>Soil</td>\n",
       "      <td>nmdc:bsm-11-nk3r8t63</td>\n",
       "      <td>4.84</td>\n",
       "    </tr>\n",
       "    <tr>\n",
       "      <th>99</th>\n",
       "      <td>2449.89</td>\n",
       "      <td>450.242</td>\n",
       "      <td>255.944</td>\n",
       "      <td>0.374</td>\n",
       "      <td>26.1187</td>\n",
       "      <td>4.4023</td>\n",
       "      <td>3.9165</td>\n",
       "      <td>2.0535</td>\n",
       "      <td>0.0000</td>\n",
       "      <td>Botanical garden</td>\n",
       "      <td>Soil</td>\n",
       "      <td>nmdc:bsm-11-2mb94m91</td>\n",
       "      <td>6.37</td>\n",
       "    </tr>\n",
       "    <tr>\n",
       "      <th>100</th>\n",
       "      <td>2059.81</td>\n",
       "      <td>356.661</td>\n",
       "      <td>192.340</td>\n",
       "      <td>0.619</td>\n",
       "      <td>26.1871</td>\n",
       "      <td>4.9097</td>\n",
       "      <td>14.0990</td>\n",
       "      <td>5.7905</td>\n",
       "      <td>0.0000</td>\n",
       "      <td>Botanical garden</td>\n",
       "      <td>Soil</td>\n",
       "      <td>nmdc:bsm-11-9k1chb38</td>\n",
       "      <td>5.03</td>\n",
       "    </tr>\n",
       "    <tr>\n",
       "      <th>101</th>\n",
       "      <td>1764.86</td>\n",
       "      <td>312.300</td>\n",
       "      <td>222.738</td>\n",
       "      <td>0.250</td>\n",
       "      <td>14.6228</td>\n",
       "      <td>3.4332</td>\n",
       "      <td>2.1955</td>\n",
       "      <td>0.8360</td>\n",
       "      <td>0.0000</td>\n",
       "      <td>Botanical garden</td>\n",
       "      <td>Soil</td>\n",
       "      <td>nmdc:bsm-11-ewmanm69</td>\n",
       "      <td>6.48</td>\n",
       "    </tr>\n",
       "    <tr>\n",
       "      <th>102</th>\n",
       "      <td>2032.06</td>\n",
       "      <td>305.976</td>\n",
       "      <td>268.098</td>\n",
       "      <td>0.417</td>\n",
       "      <td>43.5453</td>\n",
       "      <td>4.2006</td>\n",
       "      <td>10.4270</td>\n",
       "      <td>10.2510</td>\n",
       "      <td>0.0000</td>\n",
       "      <td>Botanical garden</td>\n",
       "      <td>Soil</td>\n",
       "      <td>nmdc:bsm-11-ygtdv867</td>\n",
       "      <td>5.00</td>\n",
       "    </tr>\n",
       "  </tbody>\n",
       "</table>\n",
       "<p>103 rows × 13 columns</p>\n",
       "</div>"
      ],
      "text/plain": [
       "     calcium  magnesium  potassium  tot_nitro  manganese     zinc  \\\n",
       "0    2774.35    578.148    168.200      0.598    48.0908  13.1545   \n",
       "1    2511.03    502.777    315.919      0.131    26.6171   4.0774   \n",
       "2    2596.00    456.241    154.895      0.172    25.9704   2.1120   \n",
       "3    1841.93    331.500    113.561      0.470    34.8639   5.2868   \n",
       "4    2320.83    458.940    489.767      0.326    20.1285   2.6380   \n",
       "..       ...        ...        ...        ...        ...      ...   \n",
       "98   1846.09    291.535    168.937      0.513    23.2667   5.1776   \n",
       "99   2449.89    450.242    255.944      0.374    26.1187   4.4023   \n",
       "100  2059.81    356.661    192.340      0.619    26.1871   4.9097   \n",
       "101  1764.86    312.300    222.738      0.250    14.6228   3.4332   \n",
       "102  2032.06    305.976    268.098      0.417    43.5453   4.2006   \n",
       "\n",
       "     ammonium_nitrogen  nitrate_nitrogen  nitrite_nitrogen ecosystem_subtype  \\\n",
       "0              14.5245           20.4010            0.0000  Botanical garden   \n",
       "1               2.6825            0.0000            0.0000  Botanical garden   \n",
       "2               4.8440            2.1000            0.4245  Botanical garden   \n",
       "3               9.5715           12.8740            0.0000  Botanical garden   \n",
       "4               2.3290            2.8040            0.0000  Botanical garden   \n",
       "..                 ...               ...               ...               ...   \n",
       "98             16.3295           14.3950            0.0000  Botanical garden   \n",
       "99              3.9165            2.0535            0.0000  Botanical garden   \n",
       "100            14.0990            5.7905            0.0000  Botanical garden   \n",
       "101             2.1955            0.8360            0.0000  Botanical garden   \n",
       "102            10.4270           10.2510            0.0000  Botanical garden   \n",
       "\n",
       "    habitat                    id    ph  \n",
       "0      Soil  nmdc:bsm-11-c9458s26  5.41  \n",
       "1      Soil  nmdc:bsm-11-r7rgv593  6.95  \n",
       "2      Soil  nmdc:bsm-11-bdn1fa14  6.23  \n",
       "3      Soil  nmdc:bsm-11-ftte8s50  5.14  \n",
       "4      Soil  nmdc:bsm-11-01teww33  6.81  \n",
       "..      ...                   ...   ...  \n",
       "98     Soil  nmdc:bsm-11-nk3r8t63  4.84  \n",
       "99     Soil  nmdc:bsm-11-2mb94m91  6.37  \n",
       "100    Soil  nmdc:bsm-11-9k1chb38  5.03  \n",
       "101    Soil  nmdc:bsm-11-ewmanm69  6.48  \n",
       "102    Soil  nmdc:bsm-11-ygtdv867  5.00  \n",
       "\n",
       "[103 rows x 13 columns]"
      ]
     },
     "execution_count": 6,
     "metadata": {},
     "output_type": "execute_result"
    }
   ],
   "source": [
    "# Make list of all fields with \"has_raw_value\" sub-field and remove the rest\n",
    "other_fields = [\"ecosystem_subtype\", \"habitat\", \"id\", \"ph\"]\n",
    "raw_value_fields = list(filter(lambda field: field not in other_fields, fields_list))\n",
    "\n",
    "# create dictionary of raw_value_fields with values as empty lists\n",
    "units = {field: [] for field in raw_value_fields}\n",
    "\n",
    "# Add filtered results to a new list of dictionaries with desired data types, extract out units into a separate dictionary \n",
    "df_inp = []\n",
    "for biosamp in filtered_results:\n",
    "    rec = {}\n",
    "    for field in raw_value_fields:\n",
    "        rec[field] = float(biosamp[field][\"has_numeric_value\"])\n",
    "        units[field].append(biosamp[field][\"has_unit\"])\n",
    "    for other_field in other_fields:\n",
    "        if other_field == \"ph\":\n",
    "            rec[other_field] = float(biosamp[other_field])\n",
    "        else:\n",
    "            rec[other_field] = biosamp[other_field]\n",
    "    df_inp.append(rec)\n",
    "\n",
    "# Convert list of results dictionaries to a data frame\n",
    "df = pd.DataFrame(df_inp)\n",
    "df "
   ]
  },
  {
   "cell_type": "markdown",
   "id": "4d40ddf6-c8c4-4661-9a34-b5fe1310257c",
   "metadata": {},
   "source": [
    "## Understand the units\n",
    "\n",
    "Using Python's `set()` built-in function, we can iterate through the `units` list and remove redundant units to understand which units are used for each field, ultimately creating a dictionary, printed below"
   ]
  },
  {
   "cell_type": "code",
   "execution_count": 7,
   "id": "1022bcf0-0ff7-45d3-b4af-0f240e29cba8",
   "metadata": {},
   "outputs": [
    {
     "name": "stdout",
     "output_type": "stream",
     "text": [
      "Units for each applicable measurement: {'calcium': {'mg/kg'}, 'magnesium': {'mg/kg'}, 'potassium': {'mg/kg'}, 'tot_nitro': {'Percent'}, 'manganese': {'mg/kg'}, 'zinc': {'mg/kg'}, 'ammonium_nitrogen': {'mg/kg'}, 'nitrate_nitrogen': {'mg/kg'}, 'nitrite_nitrogen': {'mg/kg'}}\n"
     ]
    }
   ],
   "source": [
    "units = {field: set(unit_list) for field, unit_list in units.items()}\n",
    "print(f\"Units for each applicable measurement: {units}\")"
   ]
  },
  {
   "cell_type": "markdown",
   "id": "b987bd93-47dc-421e-a437-fc9734e8d22f",
   "metadata": {},
   "source": [
    "## Visualize potassium and pH\n",
    "\n",
    "Using Python's Plotly library, a scatter plot of how `potassium` changes with `ph` for the biosamples is created. Setting the `trendline` equal to `ols`, a linear regression is added."
   ]
  },
  {
   "cell_type": "code",
   "execution_count": 8,
   "id": "8539656d-c5d2-49f9-b9c8-deccfe2cf4ff",
   "metadata": {},
   "outputs": [
    {
     "data": {
      "application/vnd.plotly.v1+json": {
       "config": {
        "plotlyServerURL": "https://plot.ly"
       },
       "data": [
        {
         "hovertemplate": "potassium=%{x}<br>ph=%{y}<extra></extra>",
         "legendgroup": "",
         "marker": {
          "color": "#636efa",
          "symbol": "circle"
         },
         "mode": "markers",
         "name": "",
         "orientation": "v",
         "showlegend": false,
         "type": "scatter",
         "x": [
          168.2,
          315.919,
          154.895,
          113.561,
          489.767,
          168.928,
          150.959,
          121.629,
          160.591,
          307.14,
          395.775,
          157.254,
          173.027,
          208.872,
          201.387,
          550.042,
          179.191,
          115.882,
          148.147,
          395.228,
          150.225,
          206.03,
          140.475,
          251.476,
          344.304,
          220.794,
          208.872,
          184.092,
          449.091,
          153.687,
          287.194,
          328.053,
          346.753,
          219.846,
          420.875,
          289.816,
          60.3044,
          219.265,
          240.767,
          206.227,
          210.143,
          316.155,
          138.724,
          205.043,
          169.452,
          319.684,
          134.845,
          233.794,
          203.92,
          304.965,
          315.498,
          182.487,
          146.784,
          209.937,
          152.089,
          252.17,
          383.201,
          220.011,
          314.649,
          87.2653,
          165.924,
          200.324,
          109.268,
          105.809,
          114.646,
          217.438,
          293.434,
          169.281,
          225.714,
          227.611,
          293.535,
          223.981,
          441.338,
          118.741,
          272.768,
          200.771,
          129.847,
          308.116,
          499.004,
          143.954,
          136.782,
          183.422,
          125.15,
          362.021,
          146.363,
          203.463,
          261.145,
          124.273,
          313.501,
          69.5327,
          181.069,
          161.602,
          73.1555,
          168.066,
          231.502,
          257.938,
          233.882,
          118.102,
          168.937,
          255.944,
          192.34,
          222.738,
          268.098
         ],
         "xaxis": "x",
         "y": [
          5.41,
          6.95,
          6.23,
          5.14,
          6.81,
          7,
          5.17,
          5.35,
          6.64,
          6.76,
          5.52,
          5.16,
          6.72,
          6.73,
          6.84,
          6.88,
          6.4,
          5.14,
          6.61,
          6.81,
          6.66,
          6.72,
          6.64,
          6.72,
          5.48,
          6.68,
          6.62,
          6.48,
          6.92,
          6.63,
          5.07,
          5.46,
          6.9,
          6.71,
          5.48,
          6.59,
          5.09,
          6.85,
          6.76,
          6.54,
          6.6,
          5.21,
          6.48,
          5.47,
          4.98,
          5.68,
          5.05,
          5.86,
          6.62,
          6.64,
          5.94,
          7.02,
          6.78,
          6.69,
          6.7,
          6.84,
          6.57,
          5.34,
          5.58,
          4.95,
          6.77,
          6.6,
          6.44,
          5.11,
          4.85,
          5.12,
          5.34,
          6.61,
          5.63,
          5.82,
          6.13,
          5.21,
          5.07,
          6.37,
          5.13,
          6.55,
          6.41,
          5.04,
          7.18,
          5.05,
          4.88,
          6.18,
          4.96,
          6.7,
          4.88,
          5.48,
          5.06,
          5.19,
          6.71,
          4.96,
          5.07,
          4.83,
          5.04,
          5.3,
          5.21,
          5.39,
          5.38,
          4.93,
          4.84,
          6.37,
          5.03,
          6.48,
          5
         ],
         "yaxis": "y"
        },
        {
         "hovertemplate": "<b>OLS trendline</b><br>ph = 0.00219339 * potassium + 5.45694<br>R<sup>2</sup>=0.079766<br><br>potassium=%{x}<br>ph=%{y} <b>(trend)</b><extra></extra>",
         "legendgroup": "",
         "marker": {
          "color": "#636efa",
          "symbol": "circle"
         },
         "mode": "lines",
         "name": "",
         "showlegend": false,
         "type": "scatter",
         "x": [
          60.3044,
          69.5327,
          73.1555,
          87.2653,
          105.809,
          109.268,
          113.561,
          114.646,
          115.882,
          118.102,
          118.741,
          121.629,
          124.273,
          125.15,
          129.847,
          134.845,
          136.782,
          138.724,
          140.475,
          143.954,
          146.363,
          146.784,
          148.147,
          150.225,
          150.959,
          152.089,
          153.687,
          154.895,
          157.254,
          160.591,
          161.602,
          165.924,
          168.066,
          168.2,
          168.928,
          168.937,
          169.281,
          169.452,
          173.027,
          179.191,
          181.069,
          182.487,
          183.422,
          184.092,
          192.34,
          200.324,
          200.771,
          201.387,
          203.463,
          203.92,
          205.043,
          206.03,
          206.227,
          208.872,
          208.872,
          209.937,
          210.143,
          217.438,
          219.265,
          219.846,
          220.011,
          220.794,
          222.738,
          223.981,
          225.714,
          227.611,
          231.502,
          233.794,
          233.882,
          240.767,
          251.476,
          252.17,
          255.944,
          257.938,
          261.145,
          268.098,
          272.768,
          287.194,
          289.816,
          293.434,
          293.535,
          304.965,
          307.14,
          308.116,
          313.501,
          314.649,
          315.498,
          315.919,
          316.155,
          319.684,
          328.053,
          344.304,
          346.753,
          362.021,
          383.201,
          395.228,
          395.775,
          420.875,
          441.338,
          449.091,
          489.767,
          499.004,
          550.042
         ],
         "xaxis": "x",
         "y": [
          5.589215518861833,
          5.609456764148974,
          5.61740297129723,
          5.648351241591055,
          5.689024776286627,
          5.696611706430665,
          5.7060279224203585,
          5.708407748730356,
          5.7111187766742795,
          5.715988098709481,
          5.71738967383583,
          5.7237241792582,
          5.72952349793436,
          5.731447099477094,
          5.7417494443416635,
          5.75271199908578,
          5.756960592230909,
          5.761220152317558,
          5.7650607752381156,
          5.772691573148236,
          5.777975445572921,
          5.778898862048966,
          5.781888450307516,
          5.786446311203529,
          5.788056258218772,
          5.790534787002455,
          5.794039821512479,
          5.796689434583886,
          5.801863637593364,
          5.809182974364296,
          5.811400489939786,
          5.820880314190301,
          5.825578551937779,
          5.8258724659705345,
          5.827469252655952,
          5.8274889931506895,
          5.828243518727316,
          5.828618588127324,
          5.836459951314643,
          5.849979996821392,
          5.8540991800565765,
          5.8572094046718535,
          5.859260222736229,
          5.860729792900006,
          5.878820859632594,
          5.896332871852887,
          5.89731331642484,
          5.898664443620193,
          5.903217917739598,
          5.904220296194592,
          5.9066834712601475,
          5.908848345516338,
          5.909280443012255,
          5.915081955076718,
          5.915081955076718,
          5.917417913620633,
          5.917869751611287,
          5.933870519290024,
          5.937877839721697,
          5.939152198326405,
          5.9395141073965885,
          5.941231530438734,
          5.945495477301992,
          5.948221858964044,
          5.952023000895127,
          5.956183858508091,
          5.964718332399518,
          5.969745578392619,
          5.9699385965633835,
          5.985040075037421,
          6.008529070386509,
          6.010051281869586,
          6.018329129329429,
          6.022702745607894,
          6.029736941899287,
          6.044987570778007,
          6.055230694158364,
          6.086872513833959,
          6.0926235779674265,
          6.100559256851824,
          6.100780789070542,
          6.125851217386918,
          6.130621836948434,
          6.132762583933279,
          6.1445739799511,
          6.147091989724259,
          6.1489541763944775,
          6.1498775928705225,
          6.1503952325103,
          6.158135699835628,
          6.176492166553017,
          6.212136919883677,
          6.217508527840528,
          6.250997180468213,
          6.297453144750003,
          6.323833025883954,
          6.325032809286322,
          6.38008685572036,
          6.424970160588078,
          6.4419755001101136,
          6.531193762769513,
          6.5514540905349,
          6.663400242801851
         ],
         "yaxis": "y"
        }
       ],
       "layout": {
        "legend": {
         "tracegroupgap": 0
        },
        "margin": {
         "t": 60
        },
        "template": {
         "data": {
          "bar": [
           {
            "error_x": {
             "color": "#2a3f5f"
            },
            "error_y": {
             "color": "#2a3f5f"
            },
            "marker": {
             "line": {
              "color": "#E5ECF6",
              "width": 0.5
             },
             "pattern": {
              "fillmode": "overlay",
              "size": 10,
              "solidity": 0.2
             }
            },
            "type": "bar"
           }
          ],
          "barpolar": [
           {
            "marker": {
             "line": {
              "color": "#E5ECF6",
              "width": 0.5
             },
             "pattern": {
              "fillmode": "overlay",
              "size": 10,
              "solidity": 0.2
             }
            },
            "type": "barpolar"
           }
          ],
          "carpet": [
           {
            "aaxis": {
             "endlinecolor": "#2a3f5f",
             "gridcolor": "white",
             "linecolor": "white",
             "minorgridcolor": "white",
             "startlinecolor": "#2a3f5f"
            },
            "baxis": {
             "endlinecolor": "#2a3f5f",
             "gridcolor": "white",
             "linecolor": "white",
             "minorgridcolor": "white",
             "startlinecolor": "#2a3f5f"
            },
            "type": "carpet"
           }
          ],
          "choropleth": [
           {
            "colorbar": {
             "outlinewidth": 0,
             "ticks": ""
            },
            "type": "choropleth"
           }
          ],
          "contour": [
           {
            "colorbar": {
             "outlinewidth": 0,
             "ticks": ""
            },
            "colorscale": [
             [
              0,
              "#0d0887"
             ],
             [
              0.1111111111111111,
              "#46039f"
             ],
             [
              0.2222222222222222,
              "#7201a8"
             ],
             [
              0.3333333333333333,
              "#9c179e"
             ],
             [
              0.4444444444444444,
              "#bd3786"
             ],
             [
              0.5555555555555556,
              "#d8576b"
             ],
             [
              0.6666666666666666,
              "#ed7953"
             ],
             [
              0.7777777777777778,
              "#fb9f3a"
             ],
             [
              0.8888888888888888,
              "#fdca26"
             ],
             [
              1,
              "#f0f921"
             ]
            ],
            "type": "contour"
           }
          ],
          "contourcarpet": [
           {
            "colorbar": {
             "outlinewidth": 0,
             "ticks": ""
            },
            "type": "contourcarpet"
           }
          ],
          "heatmap": [
           {
            "colorbar": {
             "outlinewidth": 0,
             "ticks": ""
            },
            "colorscale": [
             [
              0,
              "#0d0887"
             ],
             [
              0.1111111111111111,
              "#46039f"
             ],
             [
              0.2222222222222222,
              "#7201a8"
             ],
             [
              0.3333333333333333,
              "#9c179e"
             ],
             [
              0.4444444444444444,
              "#bd3786"
             ],
             [
              0.5555555555555556,
              "#d8576b"
             ],
             [
              0.6666666666666666,
              "#ed7953"
             ],
             [
              0.7777777777777778,
              "#fb9f3a"
             ],
             [
              0.8888888888888888,
              "#fdca26"
             ],
             [
              1,
              "#f0f921"
             ]
            ],
            "type": "heatmap"
           }
          ],
          "heatmapgl": [
           {
            "colorbar": {
             "outlinewidth": 0,
             "ticks": ""
            },
            "colorscale": [
             [
              0,
              "#0d0887"
             ],
             [
              0.1111111111111111,
              "#46039f"
             ],
             [
              0.2222222222222222,
              "#7201a8"
             ],
             [
              0.3333333333333333,
              "#9c179e"
             ],
             [
              0.4444444444444444,
              "#bd3786"
             ],
             [
              0.5555555555555556,
              "#d8576b"
             ],
             [
              0.6666666666666666,
              "#ed7953"
             ],
             [
              0.7777777777777778,
              "#fb9f3a"
             ],
             [
              0.8888888888888888,
              "#fdca26"
             ],
             [
              1,
              "#f0f921"
             ]
            ],
            "type": "heatmapgl"
           }
          ],
          "histogram": [
           {
            "marker": {
             "pattern": {
              "fillmode": "overlay",
              "size": 10,
              "solidity": 0.2
             }
            },
            "type": "histogram"
           }
          ],
          "histogram2d": [
           {
            "colorbar": {
             "outlinewidth": 0,
             "ticks": ""
            },
            "colorscale": [
             [
              0,
              "#0d0887"
             ],
             [
              0.1111111111111111,
              "#46039f"
             ],
             [
              0.2222222222222222,
              "#7201a8"
             ],
             [
              0.3333333333333333,
              "#9c179e"
             ],
             [
              0.4444444444444444,
              "#bd3786"
             ],
             [
              0.5555555555555556,
              "#d8576b"
             ],
             [
              0.6666666666666666,
              "#ed7953"
             ],
             [
              0.7777777777777778,
              "#fb9f3a"
             ],
             [
              0.8888888888888888,
              "#fdca26"
             ],
             [
              1,
              "#f0f921"
             ]
            ],
            "type": "histogram2d"
           }
          ],
          "histogram2dcontour": [
           {
            "colorbar": {
             "outlinewidth": 0,
             "ticks": ""
            },
            "colorscale": [
             [
              0,
              "#0d0887"
             ],
             [
              0.1111111111111111,
              "#46039f"
             ],
             [
              0.2222222222222222,
              "#7201a8"
             ],
             [
              0.3333333333333333,
              "#9c179e"
             ],
             [
              0.4444444444444444,
              "#bd3786"
             ],
             [
              0.5555555555555556,
              "#d8576b"
             ],
             [
              0.6666666666666666,
              "#ed7953"
             ],
             [
              0.7777777777777778,
              "#fb9f3a"
             ],
             [
              0.8888888888888888,
              "#fdca26"
             ],
             [
              1,
              "#f0f921"
             ]
            ],
            "type": "histogram2dcontour"
           }
          ],
          "mesh3d": [
           {
            "colorbar": {
             "outlinewidth": 0,
             "ticks": ""
            },
            "type": "mesh3d"
           }
          ],
          "parcoords": [
           {
            "line": {
             "colorbar": {
              "outlinewidth": 0,
              "ticks": ""
             }
            },
            "type": "parcoords"
           }
          ],
          "pie": [
           {
            "automargin": true,
            "type": "pie"
           }
          ],
          "scatter": [
           {
            "fillpattern": {
             "fillmode": "overlay",
             "size": 10,
             "solidity": 0.2
            },
            "type": "scatter"
           }
          ],
          "scatter3d": [
           {
            "line": {
             "colorbar": {
              "outlinewidth": 0,
              "ticks": ""
             }
            },
            "marker": {
             "colorbar": {
              "outlinewidth": 0,
              "ticks": ""
             }
            },
            "type": "scatter3d"
           }
          ],
          "scattercarpet": [
           {
            "marker": {
             "colorbar": {
              "outlinewidth": 0,
              "ticks": ""
             }
            },
            "type": "scattercarpet"
           }
          ],
          "scattergeo": [
           {
            "marker": {
             "colorbar": {
              "outlinewidth": 0,
              "ticks": ""
             }
            },
            "type": "scattergeo"
           }
          ],
          "scattergl": [
           {
            "marker": {
             "colorbar": {
              "outlinewidth": 0,
              "ticks": ""
             }
            },
            "type": "scattergl"
           }
          ],
          "scattermapbox": [
           {
            "marker": {
             "colorbar": {
              "outlinewidth": 0,
              "ticks": ""
             }
            },
            "type": "scattermapbox"
           }
          ],
          "scatterpolar": [
           {
            "marker": {
             "colorbar": {
              "outlinewidth": 0,
              "ticks": ""
             }
            },
            "type": "scatterpolar"
           }
          ],
          "scatterpolargl": [
           {
            "marker": {
             "colorbar": {
              "outlinewidth": 0,
              "ticks": ""
             }
            },
            "type": "scatterpolargl"
           }
          ],
          "scatterternary": [
           {
            "marker": {
             "colorbar": {
              "outlinewidth": 0,
              "ticks": ""
             }
            },
            "type": "scatterternary"
           }
          ],
          "surface": [
           {
            "colorbar": {
             "outlinewidth": 0,
             "ticks": ""
            },
            "colorscale": [
             [
              0,
              "#0d0887"
             ],
             [
              0.1111111111111111,
              "#46039f"
             ],
             [
              0.2222222222222222,
              "#7201a8"
             ],
             [
              0.3333333333333333,
              "#9c179e"
             ],
             [
              0.4444444444444444,
              "#bd3786"
             ],
             [
              0.5555555555555556,
              "#d8576b"
             ],
             [
              0.6666666666666666,
              "#ed7953"
             ],
             [
              0.7777777777777778,
              "#fb9f3a"
             ],
             [
              0.8888888888888888,
              "#fdca26"
             ],
             [
              1,
              "#f0f921"
             ]
            ],
            "type": "surface"
           }
          ],
          "table": [
           {
            "cells": {
             "fill": {
              "color": "#EBF0F8"
             },
             "line": {
              "color": "white"
             }
            },
            "header": {
             "fill": {
              "color": "#C8D4E3"
             },
             "line": {
              "color": "white"
             }
            },
            "type": "table"
           }
          ]
         },
         "layout": {
          "annotationdefaults": {
           "arrowcolor": "#2a3f5f",
           "arrowhead": 0,
           "arrowwidth": 1
          },
          "autotypenumbers": "strict",
          "coloraxis": {
           "colorbar": {
            "outlinewidth": 0,
            "ticks": ""
           }
          },
          "colorscale": {
           "diverging": [
            [
             0,
             "#8e0152"
            ],
            [
             0.1,
             "#c51b7d"
            ],
            [
             0.2,
             "#de77ae"
            ],
            [
             0.3,
             "#f1b6da"
            ],
            [
             0.4,
             "#fde0ef"
            ],
            [
             0.5,
             "#f7f7f7"
            ],
            [
             0.6,
             "#e6f5d0"
            ],
            [
             0.7,
             "#b8e186"
            ],
            [
             0.8,
             "#7fbc41"
            ],
            [
             0.9,
             "#4d9221"
            ],
            [
             1,
             "#276419"
            ]
           ],
           "sequential": [
            [
             0,
             "#0d0887"
            ],
            [
             0.1111111111111111,
             "#46039f"
            ],
            [
             0.2222222222222222,
             "#7201a8"
            ],
            [
             0.3333333333333333,
             "#9c179e"
            ],
            [
             0.4444444444444444,
             "#bd3786"
            ],
            [
             0.5555555555555556,
             "#d8576b"
            ],
            [
             0.6666666666666666,
             "#ed7953"
            ],
            [
             0.7777777777777778,
             "#fb9f3a"
            ],
            [
             0.8888888888888888,
             "#fdca26"
            ],
            [
             1,
             "#f0f921"
            ]
           ],
           "sequentialminus": [
            [
             0,
             "#0d0887"
            ],
            [
             0.1111111111111111,
             "#46039f"
            ],
            [
             0.2222222222222222,
             "#7201a8"
            ],
            [
             0.3333333333333333,
             "#9c179e"
            ],
            [
             0.4444444444444444,
             "#bd3786"
            ],
            [
             0.5555555555555556,
             "#d8576b"
            ],
            [
             0.6666666666666666,
             "#ed7953"
            ],
            [
             0.7777777777777778,
             "#fb9f3a"
            ],
            [
             0.8888888888888888,
             "#fdca26"
            ],
            [
             1,
             "#f0f921"
            ]
           ]
          },
          "colorway": [
           "#636efa",
           "#EF553B",
           "#00cc96",
           "#ab63fa",
           "#FFA15A",
           "#19d3f3",
           "#FF6692",
           "#B6E880",
           "#FF97FF",
           "#FECB52"
          ],
          "font": {
           "color": "#2a3f5f"
          },
          "geo": {
           "bgcolor": "white",
           "lakecolor": "white",
           "landcolor": "#E5ECF6",
           "showlakes": true,
           "showland": true,
           "subunitcolor": "white"
          },
          "hoverlabel": {
           "align": "left"
          },
          "hovermode": "closest",
          "mapbox": {
           "style": "light"
          },
          "paper_bgcolor": "white",
          "plot_bgcolor": "#E5ECF6",
          "polar": {
           "angularaxis": {
            "gridcolor": "white",
            "linecolor": "white",
            "ticks": ""
           },
           "bgcolor": "#E5ECF6",
           "radialaxis": {
            "gridcolor": "white",
            "linecolor": "white",
            "ticks": ""
           }
          },
          "scene": {
           "xaxis": {
            "backgroundcolor": "#E5ECF6",
            "gridcolor": "white",
            "gridwidth": 2,
            "linecolor": "white",
            "showbackground": true,
            "ticks": "",
            "zerolinecolor": "white"
           },
           "yaxis": {
            "backgroundcolor": "#E5ECF6",
            "gridcolor": "white",
            "gridwidth": 2,
            "linecolor": "white",
            "showbackground": true,
            "ticks": "",
            "zerolinecolor": "white"
           },
           "zaxis": {
            "backgroundcolor": "#E5ECF6",
            "gridcolor": "white",
            "gridwidth": 2,
            "linecolor": "white",
            "showbackground": true,
            "ticks": "",
            "zerolinecolor": "white"
           }
          },
          "shapedefaults": {
           "line": {
            "color": "#2a3f5f"
           }
          },
          "ternary": {
           "aaxis": {
            "gridcolor": "white",
            "linecolor": "white",
            "ticks": ""
           },
           "baxis": {
            "gridcolor": "white",
            "linecolor": "white",
            "ticks": ""
           },
           "bgcolor": "#E5ECF6",
           "caxis": {
            "gridcolor": "white",
            "linecolor": "white",
            "ticks": ""
           }
          },
          "title": {
           "x": 0.05
          },
          "xaxis": {
           "automargin": true,
           "gridcolor": "white",
           "linecolor": "white",
           "ticks": "",
           "title": {
            "standoff": 15
           },
           "zerolinecolor": "white",
           "zerolinewidth": 2
          },
          "yaxis": {
           "automargin": true,
           "gridcolor": "white",
           "linecolor": "white",
           "ticks": "",
           "title": {
            "standoff": 15
           },
           "zerolinecolor": "white",
           "zerolinewidth": 2
          }
         }
        },
        "xaxis": {
         "anchor": "y",
         "domain": [
          0,
          1
         ],
         "title": {
          "text": "potassium"
         }
        },
        "yaxis": {
         "anchor": "x",
         "domain": [
          0,
          1
         ],
         "title": {
          "text": "ph"
         }
        }
       }
      }
     },
     "metadata": {},
     "output_type": "display_data"
    }
   ],
   "source": [
    "# Look at potassium vs. ph\n",
    "fig = px.scatter(df, x=\"potassium\", y=\"ph\", trendline = \"ols\")\n",
    "fig.show()"
   ]
  },
  {
   "cell_type": "markdown",
   "id": "a6a7cd27-2673-4413-9504-a31c1bff8a23",
   "metadata": {},
   "source": [
    "## Scatter plot of ammonium nitrogen vs. nitrate nitrogen \n",
    "\n",
    "A scatter plot using the same methods above is used again, but to display how `ammonium_nitrogen` changes with `nitrate_nitrogen`. Setting `log_x` to `True` displays the results on a logarithmic scale."
   ]
  },
  {
   "cell_type": "code",
   "execution_count": 9,
   "id": "fc41753b-2b5e-4cc2-bc57-8cd3f4aa6b3e",
   "metadata": {},
   "outputs": [
    {
     "data": {
      "application/vnd.plotly.v1+json": {
       "config": {
        "plotlyServerURL": "https://plot.ly"
       },
       "data": [
        {
         "hovertemplate": "ammonium_nitrogen=%{x}<br>nitrate_nitrogen=%{y}<extra></extra>",
         "legendgroup": "",
         "marker": {
          "color": "#636efa",
          "symbol": "circle"
         },
         "mode": "markers",
         "name": "",
         "orientation": "v",
         "showlegend": false,
         "type": "scatter",
         "x": [
          14.5245,
          2.6825,
          4.844,
          9.5715,
          2.329,
          3.8115,
          12.15,
          18.656,
          3.1565,
          2.544,
          10.46,
          11.0295,
          2.9575,
          3.6955,
          2.923,
          4.7875,
          3.063,
          9.5985,
          3.783,
          3.002,
          3.4185,
          4.446,
          3.519,
          8.3015,
          10.6855,
          2.8415,
          3.5105,
          0,
          2.0665,
          2.4445,
          7.291,
          9.211,
          1.5535,
          2.7195,
          9.483,
          3.226,
          13.7945,
          3.014,
          4.193,
          2.7645,
          3.6545,
          12.8545,
          4.4525,
          8.6505,
          14.3565,
          8.5,
          14.706,
          9.1955,
          5.5805,
          1.8015,
          31.937,
          4.1675,
          1.616,
          3.154,
          4.4405,
          4.09,
          5.0705,
          7.472,
          8.3295,
          16.2875,
          2.6175,
          3.524,
          2.6065,
          13.491,
          12.972,
          25.639,
          8.3875,
          3.556,
          15.59,
          8.712,
          7.2585,
          17.49,
          10.599,
          2.0195,
          10.138,
          3.358,
          3.8565,
          9.8355,
          2.998,
          11.2045,
          16.687,
          5.292,
          13.4125,
          3.517,
          20.6825,
          8.988,
          13.3995,
          10.7855,
          4.1705,
          14.06,
          10.677,
          11.8795,
          18.515,
          16.277,
          16.1475,
          8.4845,
          11.693,
          15.591,
          16.3295,
          3.9165,
          14.099,
          2.1955,
          10.427
         ],
         "xaxis": "x",
         "y": [
          20.401,
          0,
          2.1,
          12.874,
          2.804,
          0.4135,
          18.951,
          9.271,
          2.1515,
          1.133,
          25.197,
          13.514,
          0.983,
          1.0625,
          1.6305,
          4.642,
          1.989,
          14.7365,
          3.086,
          1.333,
          1.9945,
          2.935,
          0.2795,
          1.403,
          10.6955,
          0.6115,
          0.746,
          0.463,
          1.1235,
          1.919,
          18.1425,
          18.875,
          0.832,
          0.316,
          14.482,
          2.1155,
          11.0665,
          0.2345,
          0,
          4.8475,
          1.111,
          13.422,
          0.4225,
          11.5955,
          15.816,
          20.4215,
          15.503,
          20.428,
          4.5255,
          1.698,
          12.513,
          1.459,
          0.863,
          0.5895,
          2.6265,
          0,
          3.004,
          15.6745,
          27.324,
          16.3555,
          1.3215,
          2.111,
          0.3755,
          23.581,
          9.3675,
          25.9235,
          19.8355,
          5.8955,
          21.7185,
          29.8005,
          24.361,
          28.0405,
          27.6905,
          0.24,
          33.2955,
          1.5495,
          0.542,
          13.174,
          0.318,
          12.703,
          8.8145,
          0.345,
          21.445,
          1.3175,
          12.746,
          10.5655,
          15.848,
          13.0305,
          0,
          13.3625,
          18.1475,
          9.4465,
          26.191,
          12.6325,
          20.049,
          15,
          16.977,
          29.0125,
          14.395,
          2.0535,
          5.7905,
          0.836,
          10.251
         ],
         "yaxis": "y"
        },
        {
         "hovertemplate": "<b>OLS trendline</b><br>nitrate_nitrogen = 1.08679 * ammonium_nitrogen + 0.60516<br>R<sup>2</sup>=0.476351<br><br>ammonium_nitrogen=%{x}<br>nitrate_nitrogen=%{y} <b>(trend)</b><extra></extra>",
         "legendgroup": "",
         "marker": {
          "color": "#636efa",
          "symbol": "circle"
         },
         "mode": "lines",
         "name": "",
         "showlegend": false,
         "type": "scatter",
         "x": [
          0,
          1.5535,
          1.616,
          1.8015,
          2.0195,
          2.0665,
          2.1955,
          2.329,
          2.4445,
          2.544,
          2.6065,
          2.6175,
          2.6825,
          2.7195,
          2.7645,
          2.8415,
          2.923,
          2.9575,
          2.998,
          3.002,
          3.014,
          3.063,
          3.154,
          3.1565,
          3.226,
          3.358,
          3.4185,
          3.5105,
          3.517,
          3.519,
          3.524,
          3.556,
          3.6545,
          3.6955,
          3.783,
          3.8115,
          3.8565,
          3.9165,
          4.09,
          4.1675,
          4.1705,
          4.193,
          4.4405,
          4.446,
          4.4525,
          4.7875,
          4.844,
          5.0705,
          5.292,
          5.5805,
          7.2585,
          7.291,
          7.472,
          8.3015,
          8.3295,
          8.3875,
          8.4845,
          8.5,
          8.6505,
          8.712,
          8.988,
          9.1955,
          9.211,
          9.483,
          9.5715,
          9.5985,
          9.8355,
          10.138,
          10.427,
          10.46,
          10.599,
          10.677,
          10.6855,
          10.7855,
          11.0295,
          11.2045,
          11.693,
          11.8795,
          12.15,
          12.8545,
          12.972,
          13.3995,
          13.4125,
          13.491,
          13.7945,
          14.06,
          14.099,
          14.3565,
          14.5245,
          14.706,
          15.59,
          15.591,
          16.1475,
          16.277,
          16.2875,
          16.3295,
          16.687,
          17.49,
          18.515,
          18.656,
          20.6825,
          25.639,
          31.937
         ],
         "xaxis": "x",
         "y": [
          0.6051599067300713,
          2.293483951807302,
          2.3614081570324883,
          2.5630071981408413,
          2.799926825966291,
          2.851005828295631,
          2.991201387880416,
          3.136287490241414,
          3.2618114214975584,
          3.3699467562160548,
          3.4378709614412406,
          3.4498256215608736,
          3.520466794995068,
          3.5606779244883775,
          3.609583352250512,
          3.693265973087941,
          3.781839136701584,
          3.819333297985887,
          3.8633481829718077,
          3.8676953321062193,
          3.880736779509455,
          3.933989356406002,
          4.032886999213873,
          4.03560396742288,
          4.111135683633288,
          4.254591605068881,
          4.320342235726861,
          4.420326665818336,
          4.427390783161755,
          4.429564357728961,
          4.434998294146975,
          4.469775487222271,
          4.5768240346571645,
          4.621382313284887,
          4.716476200600147,
          4.747449638182832,
          4.796355065944967,
          4.861562302961145,
          5.050119896666263,
          5.134345911145494,
          5.137606272996302,
          5.162058986877369,
          5.431038839569108,
          5.437016169628923,
          5.444080286972342,
          5.8081540269793415,
          5.86955750850291,
          6.1157148282389855,
          6.3564382115570455,
          6.669976342876505,
          8.493605404762308,
          8.528925991479404,
          8.725634489811544,
          9.627124541560217,
          9.6575545855011,
          9.720588247950072,
          9.826006614459562,
          9.842851817355408,
          10.006413303537656,
          10.073250721479239,
          10.373204011753662,
          10.59871237310128,
          10.615557575997128,
          10.91116371713714,
          11.007344391736002,
          11.036687648393283,
          11.294256234607188,
          11.62300938789709,
          11.937090912858352,
          11.972954893217251,
          12.124018325638065,
          12.208787733759097,
          12.218025425669722,
          12.326704154030022,
          12.59188025122915,
          12.782068025859669,
          13.312963613899726,
          13.515649442291682,
          13.809625402506288,
          14.575267043804589,
          14.702964549627938,
          15.167566113368212,
          15.181694348055052,
          15.267007149817886,
          15.596847090391389,
          15.885389114187982,
          15.927773818248498,
          16.207621543776266,
          16.390201807421565,
          16.587453699395507,
          17.548173658100545,
          17.549260445384146,
          18.154057568709206,
          18.294796521935794,
          18.306207788413623,
          18.351852854324946,
          18.740379308213015,
          19.613069496946206,
          20.727026462639262,
          20.88026346962728,
          23.082637899848724,
          28.469299071026896,
          35.31388538315847
         ],
         "yaxis": "y"
        }
       ],
       "layout": {
        "legend": {
         "tracegroupgap": 0
        },
        "margin": {
         "t": 60
        },
        "template": {
         "data": {
          "bar": [
           {
            "error_x": {
             "color": "#2a3f5f"
            },
            "error_y": {
             "color": "#2a3f5f"
            },
            "marker": {
             "line": {
              "color": "#E5ECF6",
              "width": 0.5
             },
             "pattern": {
              "fillmode": "overlay",
              "size": 10,
              "solidity": 0.2
             }
            },
            "type": "bar"
           }
          ],
          "barpolar": [
           {
            "marker": {
             "line": {
              "color": "#E5ECF6",
              "width": 0.5
             },
             "pattern": {
              "fillmode": "overlay",
              "size": 10,
              "solidity": 0.2
             }
            },
            "type": "barpolar"
           }
          ],
          "carpet": [
           {
            "aaxis": {
             "endlinecolor": "#2a3f5f",
             "gridcolor": "white",
             "linecolor": "white",
             "minorgridcolor": "white",
             "startlinecolor": "#2a3f5f"
            },
            "baxis": {
             "endlinecolor": "#2a3f5f",
             "gridcolor": "white",
             "linecolor": "white",
             "minorgridcolor": "white",
             "startlinecolor": "#2a3f5f"
            },
            "type": "carpet"
           }
          ],
          "choropleth": [
           {
            "colorbar": {
             "outlinewidth": 0,
             "ticks": ""
            },
            "type": "choropleth"
           }
          ],
          "contour": [
           {
            "colorbar": {
             "outlinewidth": 0,
             "ticks": ""
            },
            "colorscale": [
             [
              0,
              "#0d0887"
             ],
             [
              0.1111111111111111,
              "#46039f"
             ],
             [
              0.2222222222222222,
              "#7201a8"
             ],
             [
              0.3333333333333333,
              "#9c179e"
             ],
             [
              0.4444444444444444,
              "#bd3786"
             ],
             [
              0.5555555555555556,
              "#d8576b"
             ],
             [
              0.6666666666666666,
              "#ed7953"
             ],
             [
              0.7777777777777778,
              "#fb9f3a"
             ],
             [
              0.8888888888888888,
              "#fdca26"
             ],
             [
              1,
              "#f0f921"
             ]
            ],
            "type": "contour"
           }
          ],
          "contourcarpet": [
           {
            "colorbar": {
             "outlinewidth": 0,
             "ticks": ""
            },
            "type": "contourcarpet"
           }
          ],
          "heatmap": [
           {
            "colorbar": {
             "outlinewidth": 0,
             "ticks": ""
            },
            "colorscale": [
             [
              0,
              "#0d0887"
             ],
             [
              0.1111111111111111,
              "#46039f"
             ],
             [
              0.2222222222222222,
              "#7201a8"
             ],
             [
              0.3333333333333333,
              "#9c179e"
             ],
             [
              0.4444444444444444,
              "#bd3786"
             ],
             [
              0.5555555555555556,
              "#d8576b"
             ],
             [
              0.6666666666666666,
              "#ed7953"
             ],
             [
              0.7777777777777778,
              "#fb9f3a"
             ],
             [
              0.8888888888888888,
              "#fdca26"
             ],
             [
              1,
              "#f0f921"
             ]
            ],
            "type": "heatmap"
           }
          ],
          "heatmapgl": [
           {
            "colorbar": {
             "outlinewidth": 0,
             "ticks": ""
            },
            "colorscale": [
             [
              0,
              "#0d0887"
             ],
             [
              0.1111111111111111,
              "#46039f"
             ],
             [
              0.2222222222222222,
              "#7201a8"
             ],
             [
              0.3333333333333333,
              "#9c179e"
             ],
             [
              0.4444444444444444,
              "#bd3786"
             ],
             [
              0.5555555555555556,
              "#d8576b"
             ],
             [
              0.6666666666666666,
              "#ed7953"
             ],
             [
              0.7777777777777778,
              "#fb9f3a"
             ],
             [
              0.8888888888888888,
              "#fdca26"
             ],
             [
              1,
              "#f0f921"
             ]
            ],
            "type": "heatmapgl"
           }
          ],
          "histogram": [
           {
            "marker": {
             "pattern": {
              "fillmode": "overlay",
              "size": 10,
              "solidity": 0.2
             }
            },
            "type": "histogram"
           }
          ],
          "histogram2d": [
           {
            "colorbar": {
             "outlinewidth": 0,
             "ticks": ""
            },
            "colorscale": [
             [
              0,
              "#0d0887"
             ],
             [
              0.1111111111111111,
              "#46039f"
             ],
             [
              0.2222222222222222,
              "#7201a8"
             ],
             [
              0.3333333333333333,
              "#9c179e"
             ],
             [
              0.4444444444444444,
              "#bd3786"
             ],
             [
              0.5555555555555556,
              "#d8576b"
             ],
             [
              0.6666666666666666,
              "#ed7953"
             ],
             [
              0.7777777777777778,
              "#fb9f3a"
             ],
             [
              0.8888888888888888,
              "#fdca26"
             ],
             [
              1,
              "#f0f921"
             ]
            ],
            "type": "histogram2d"
           }
          ],
          "histogram2dcontour": [
           {
            "colorbar": {
             "outlinewidth": 0,
             "ticks": ""
            },
            "colorscale": [
             [
              0,
              "#0d0887"
             ],
             [
              0.1111111111111111,
              "#46039f"
             ],
             [
              0.2222222222222222,
              "#7201a8"
             ],
             [
              0.3333333333333333,
              "#9c179e"
             ],
             [
              0.4444444444444444,
              "#bd3786"
             ],
             [
              0.5555555555555556,
              "#d8576b"
             ],
             [
              0.6666666666666666,
              "#ed7953"
             ],
             [
              0.7777777777777778,
              "#fb9f3a"
             ],
             [
              0.8888888888888888,
              "#fdca26"
             ],
             [
              1,
              "#f0f921"
             ]
            ],
            "type": "histogram2dcontour"
           }
          ],
          "mesh3d": [
           {
            "colorbar": {
             "outlinewidth": 0,
             "ticks": ""
            },
            "type": "mesh3d"
           }
          ],
          "parcoords": [
           {
            "line": {
             "colorbar": {
              "outlinewidth": 0,
              "ticks": ""
             }
            },
            "type": "parcoords"
           }
          ],
          "pie": [
           {
            "automargin": true,
            "type": "pie"
           }
          ],
          "scatter": [
           {
            "fillpattern": {
             "fillmode": "overlay",
             "size": 10,
             "solidity": 0.2
            },
            "type": "scatter"
           }
          ],
          "scatter3d": [
           {
            "line": {
             "colorbar": {
              "outlinewidth": 0,
              "ticks": ""
             }
            },
            "marker": {
             "colorbar": {
              "outlinewidth": 0,
              "ticks": ""
             }
            },
            "type": "scatter3d"
           }
          ],
          "scattercarpet": [
           {
            "marker": {
             "colorbar": {
              "outlinewidth": 0,
              "ticks": ""
             }
            },
            "type": "scattercarpet"
           }
          ],
          "scattergeo": [
           {
            "marker": {
             "colorbar": {
              "outlinewidth": 0,
              "ticks": ""
             }
            },
            "type": "scattergeo"
           }
          ],
          "scattergl": [
           {
            "marker": {
             "colorbar": {
              "outlinewidth": 0,
              "ticks": ""
             }
            },
            "type": "scattergl"
           }
          ],
          "scattermapbox": [
           {
            "marker": {
             "colorbar": {
              "outlinewidth": 0,
              "ticks": ""
             }
            },
            "type": "scattermapbox"
           }
          ],
          "scatterpolar": [
           {
            "marker": {
             "colorbar": {
              "outlinewidth": 0,
              "ticks": ""
             }
            },
            "type": "scatterpolar"
           }
          ],
          "scatterpolargl": [
           {
            "marker": {
             "colorbar": {
              "outlinewidth": 0,
              "ticks": ""
             }
            },
            "type": "scatterpolargl"
           }
          ],
          "scatterternary": [
           {
            "marker": {
             "colorbar": {
              "outlinewidth": 0,
              "ticks": ""
             }
            },
            "type": "scatterternary"
           }
          ],
          "surface": [
           {
            "colorbar": {
             "outlinewidth": 0,
             "ticks": ""
            },
            "colorscale": [
             [
              0,
              "#0d0887"
             ],
             [
              0.1111111111111111,
              "#46039f"
             ],
             [
              0.2222222222222222,
              "#7201a8"
             ],
             [
              0.3333333333333333,
              "#9c179e"
             ],
             [
              0.4444444444444444,
              "#bd3786"
             ],
             [
              0.5555555555555556,
              "#d8576b"
             ],
             [
              0.6666666666666666,
              "#ed7953"
             ],
             [
              0.7777777777777778,
              "#fb9f3a"
             ],
             [
              0.8888888888888888,
              "#fdca26"
             ],
             [
              1,
              "#f0f921"
             ]
            ],
            "type": "surface"
           }
          ],
          "table": [
           {
            "cells": {
             "fill": {
              "color": "#EBF0F8"
             },
             "line": {
              "color": "white"
             }
            },
            "header": {
             "fill": {
              "color": "#C8D4E3"
             },
             "line": {
              "color": "white"
             }
            },
            "type": "table"
           }
          ]
         },
         "layout": {
          "annotationdefaults": {
           "arrowcolor": "#2a3f5f",
           "arrowhead": 0,
           "arrowwidth": 1
          },
          "autotypenumbers": "strict",
          "coloraxis": {
           "colorbar": {
            "outlinewidth": 0,
            "ticks": ""
           }
          },
          "colorscale": {
           "diverging": [
            [
             0,
             "#8e0152"
            ],
            [
             0.1,
             "#c51b7d"
            ],
            [
             0.2,
             "#de77ae"
            ],
            [
             0.3,
             "#f1b6da"
            ],
            [
             0.4,
             "#fde0ef"
            ],
            [
             0.5,
             "#f7f7f7"
            ],
            [
             0.6,
             "#e6f5d0"
            ],
            [
             0.7,
             "#b8e186"
            ],
            [
             0.8,
             "#7fbc41"
            ],
            [
             0.9,
             "#4d9221"
            ],
            [
             1,
             "#276419"
            ]
           ],
           "sequential": [
            [
             0,
             "#0d0887"
            ],
            [
             0.1111111111111111,
             "#46039f"
            ],
            [
             0.2222222222222222,
             "#7201a8"
            ],
            [
             0.3333333333333333,
             "#9c179e"
            ],
            [
             0.4444444444444444,
             "#bd3786"
            ],
            [
             0.5555555555555556,
             "#d8576b"
            ],
            [
             0.6666666666666666,
             "#ed7953"
            ],
            [
             0.7777777777777778,
             "#fb9f3a"
            ],
            [
             0.8888888888888888,
             "#fdca26"
            ],
            [
             1,
             "#f0f921"
            ]
           ],
           "sequentialminus": [
            [
             0,
             "#0d0887"
            ],
            [
             0.1111111111111111,
             "#46039f"
            ],
            [
             0.2222222222222222,
             "#7201a8"
            ],
            [
             0.3333333333333333,
             "#9c179e"
            ],
            [
             0.4444444444444444,
             "#bd3786"
            ],
            [
             0.5555555555555556,
             "#d8576b"
            ],
            [
             0.6666666666666666,
             "#ed7953"
            ],
            [
             0.7777777777777778,
             "#fb9f3a"
            ],
            [
             0.8888888888888888,
             "#fdca26"
            ],
            [
             1,
             "#f0f921"
            ]
           ]
          },
          "colorway": [
           "#636efa",
           "#EF553B",
           "#00cc96",
           "#ab63fa",
           "#FFA15A",
           "#19d3f3",
           "#FF6692",
           "#B6E880",
           "#FF97FF",
           "#FECB52"
          ],
          "font": {
           "color": "#2a3f5f"
          },
          "geo": {
           "bgcolor": "white",
           "lakecolor": "white",
           "landcolor": "#E5ECF6",
           "showlakes": true,
           "showland": true,
           "subunitcolor": "white"
          },
          "hoverlabel": {
           "align": "left"
          },
          "hovermode": "closest",
          "mapbox": {
           "style": "light"
          },
          "paper_bgcolor": "white",
          "plot_bgcolor": "#E5ECF6",
          "polar": {
           "angularaxis": {
            "gridcolor": "white",
            "linecolor": "white",
            "ticks": ""
           },
           "bgcolor": "#E5ECF6",
           "radialaxis": {
            "gridcolor": "white",
            "linecolor": "white",
            "ticks": ""
           }
          },
          "scene": {
           "xaxis": {
            "backgroundcolor": "#E5ECF6",
            "gridcolor": "white",
            "gridwidth": 2,
            "linecolor": "white",
            "showbackground": true,
            "ticks": "",
            "zerolinecolor": "white"
           },
           "yaxis": {
            "backgroundcolor": "#E5ECF6",
            "gridcolor": "white",
            "gridwidth": 2,
            "linecolor": "white",
            "showbackground": true,
            "ticks": "",
            "zerolinecolor": "white"
           },
           "zaxis": {
            "backgroundcolor": "#E5ECF6",
            "gridcolor": "white",
            "gridwidth": 2,
            "linecolor": "white",
            "showbackground": true,
            "ticks": "",
            "zerolinecolor": "white"
           }
          },
          "shapedefaults": {
           "line": {
            "color": "#2a3f5f"
           }
          },
          "ternary": {
           "aaxis": {
            "gridcolor": "white",
            "linecolor": "white",
            "ticks": ""
           },
           "baxis": {
            "gridcolor": "white",
            "linecolor": "white",
            "ticks": ""
           },
           "bgcolor": "#E5ECF6",
           "caxis": {
            "gridcolor": "white",
            "linecolor": "white",
            "ticks": ""
           }
          },
          "title": {
           "x": 0.05
          },
          "xaxis": {
           "automargin": true,
           "gridcolor": "white",
           "linecolor": "white",
           "ticks": "",
           "title": {
            "standoff": 15
           },
           "zerolinecolor": "white",
           "zerolinewidth": 2
          },
          "yaxis": {
           "automargin": true,
           "gridcolor": "white",
           "linecolor": "white",
           "ticks": "",
           "title": {
            "standoff": 15
           },
           "zerolinecolor": "white",
           "zerolinewidth": 2
          }
         }
        },
        "xaxis": {
         "anchor": "y",
         "domain": [
          0,
          1
         ],
         "title": {
          "text": "ammonium_nitrogen"
         },
         "type": "log"
        },
        "yaxis": {
         "anchor": "x",
         "domain": [
          0,
          1
         ],
         "title": {
          "text": "nitrate_nitrogen"
         }
        }
       }
      }
     },
     "metadata": {},
     "output_type": "display_data"
    }
   ],
   "source": [
    "fig = px.scatter(df, x=\"ammonium_nitrogen\", y=\"nitrate_nitrogen\", trendline = \"ols\", log_x=True)\n",
    "fig.show()"
   ]
  },
  {
   "cell_type": "markdown",
   "id": "2757c858-e4e0-4260-b8c0-703c43e20b6e",
   "metadata": {},
   "source": [
    "## Scatter matrix of all the biogeochemicals\n",
    "\n",
    "A scatter matrix can be used to visuzlize all of the biogeochemical fields relationship to each other at once. To fit the labels nicely on the graph, the element's symbol is used. We also concatenate the units to the corresponding element onto the labels."
   ]
  },
  {
   "cell_type": "code",
   "execution_count": 10,
   "id": "eec9fed3-d2b3-4876-aeea-55dad4963105",
   "metadata": {},
   "outputs": [
    {
     "data": {
      "application/vnd.plotly.v1+json": {
       "config": {
        "plotlyServerURL": "https://plot.ly"
       },
       "data": [
        {
         "diagonal": {
          "visible": false
         },
         "dimensions": [
          {
           "axis": {
            "matches": true
           },
           "label": "Ca (mg/kg)",
           "values": [
            2774.35,
            2511.03,
            2596,
            1841.93,
            2320.83,
            2625.84,
            2141,
            2406.67,
            2240.05,
            2421.86,
            2480.86,
            2214.14,
            2206.82,
            2347.97,
            2359.17,
            2419.11,
            2598.35,
            2080.8,
            2236.72,
            2254.4,
            2092.65,
            2440.33,
            2272.29,
            2331.84,
            2247.43,
            2232.42,
            2432.99,
            2044.05,
            2152.42,
            2217.89,
            2098.19,
            2435.35,
            1921.28,
            1757.29,
            2831.11,
            2351.52,
            1886.08,
            2498.43,
            2749.71,
            2322.55,
            2435.54,
            1911.85,
            2431.98,
            2644.35,
            2213.11,
            2481.96,
            1923.65,
            2571.42,
            2631.36,
            1945.98,
            2495.69,
            2801.61,
            1673.1,
            2107.69,
            2273.27,
            2833.61,
            2229.22,
            2413.19,
            2561.92,
            2188.04,
            2015.2,
            2484.13,
            1414.83,
            2038.63,
            1480.06,
            1510,
            2522.96,
            2448.33,
            2257.22,
            3105.88,
            2846.2,
            2459.23,
            2219.35,
            1496,
            2288.44,
            2534.64,
            1287.48,
            1894.76,
            1860.34,
            2293.48,
            1828.16,
            1629.03,
            2120.86,
            2720.05,
            1320.04,
            2431.98,
            2025.13,
            2467.81,
            2453.12,
            2093.64,
            1963.54,
            1660.1,
            2380.02,
            2551.59,
            2413.7,
            2552.6,
            2568.36,
            2224.63,
            1846.09,
            2449.89,
            2059.81,
            1764.86,
            2032.06
           ]
          },
          {
           "axis": {
            "matches": true
           },
           "label": "Mg (mg/kg)",
           "values": [
            578.148,
            502.777,
            456.241,
            331.5,
            458.94,
            536.746,
            391.663,
            392.849,
            435.555,
            404.477,
            514.993,
            459.533,
            448.931,
            433.255,
            442.326,
            469.368,
            516.737,
            364.457,
            423.518,
            442.037,
            421.19,
            493.054,
            509.772,
            397.536,
            537.364,
            458.483,
            447.272,
            398.928,
            418.21,
            439.551,
            349.431,
            444.03,
            405.766,
            324.19,
            472.697,
            445.767,
            364.595,
            485.077,
            519.957,
            440.421,
            502.549,
            345.542,
            509.653,
            568.66,
            456.562,
            524.971,
            404.205,
            437.842,
            557.714,
            351.875,
            416.181,
            532.26,
            331.686,
            446.918,
            434.138,
            517.121,
            440.445,
            410.271,
            505.921,
            359.242,
            400.552,
            457.321,
            289.001,
            387.456,
            219.335,
            235.425,
            435.812,
            471.495,
            395.375,
            488.095,
            584.535,
            476.143,
            379.527,
            294.494,
            450.128,
            469.339,
            250.941,
            396.634,
            337.385,
            379.192,
            313.425,
            363.029,
            401.422,
            477.527,
            195.602,
            453.022,
            337.671,
            401.356,
            435.482,
            374.933,
            399.987,
            307.229,
            440.041,
            545.537,
            421.954,
            434.396,
            401.36,
            314.93,
            291.535,
            450.242,
            356.661,
            312.3,
            305.976
           ]
          },
          {
           "axis": {
            "matches": true
           },
           "label": "Mn (mg/kg)",
           "values": [
            48.0908,
            26.6171,
            25.9704,
            34.8639,
            20.1285,
            56.4224,
            31.6289,
            36.8924,
            22.0105,
            23.0194,
            56.7257,
            31.4614,
            20.7862,
            26.0173,
            23.1047,
            26.6335,
            26.229,
            24.2913,
            20.9377,
            25.3905,
            19.3685,
            26.9571,
            24.528,
            23.085,
            32.625,
            20.2892,
            22.3931,
            18.3765,
            17.8597,
            20.3547,
            49.2782,
            35.7355,
            14.3655,
            15.2033,
            60.8382,
            26.6471,
            40.0784,
            28.6011,
            36.5312,
            21.3753,
            29.6194,
            27.2552,
            32.3007,
            67.1221,
            38.0788,
            50.9719,
            32.9005,
            45.54,
            30.7649,
            17.688,
            47.2246,
            36.8497,
            10.6006,
            31.219,
            21.1449,
            28.365,
            20.3272,
            42.7143,
            64.4016,
            39.5279,
            16.7989,
            30.0327,
            9.5918,
            39.464,
            24.6956,
            21.7039,
            48.1777,
            25.1614,
            38.9692,
            69.8454,
            47.9096,
            37.9868,
            34.6609,
            11.751,
            39.2999,
            21.5092,
            16.0294,
            37.8744,
            16.0681,
            30.2824,
            30.5113,
            32.4044,
            32.171,
            28.0189,
            16.6842,
            47.7638,
            30.3617,
            51.7949,
            24.2299,
            37.4526,
            28.8914,
            23.6988,
            50.4862,
            35.7655,
            29.5671,
            51.9587,
            53.8359,
            42.6146,
            23.2667,
            26.1187,
            26.1871,
            14.6228,
            43.5453
           ]
          },
          {
           "axis": {
            "matches": true
           },
           "label": "Zn (mg/kg)",
           "values": [
            13.1545,
            4.0774,
            2.112,
            5.2868,
            2.638,
            4.429,
            7.0343,
            7.3694,
            2.2636,
            4.4079,
            9.496,
            5.2926,
            2.4845,
            2.955,
            1.95,
            3.4032,
            3.1196,
            7.6471,
            2.3331,
            3.6902,
            1.9367,
            2.8401,
            2.8673,
            6.7812,
            6.7106,
            2.3346,
            2.4071,
            4.2708,
            3.3915,
            1.8725,
            5.4742,
            8.0582,
            1.4905,
            2.9199,
            9.8456,
            3.8888,
            4.2092,
            4.1569,
            5.1577,
            2.8677,
            4.0575,
            4.8509,
            2.8379,
            8.4669,
            9.0923,
            9.8175,
            6.2737,
            9.6995,
            3.1255,
            2.6576,
            7.9155,
            7.6784,
            2.0413,
            3.4804,
            2.766,
            5.7041,
            2.1278,
            5.7071,
            10.2429,
            7.5452,
            2.2483,
            3.9728,
            1.1197,
            6.2449,
            2.3316,
            6.1502,
            8.3322,
            2.3241,
            6.5758,
            13.4053,
            12.4877,
            13.3917,
            5.5536,
            1.5662,
            9.2886,
            2.5555,
            1.265,
            6.697,
            4.2715,
            5.1832,
            4.8124,
            2.7511,
            7.6781,
            4.6939,
            2.7223,
            8.435,
            6.2026,
            7.5442,
            5.016,
            6.1641,
            5.5845,
            3.1,
            6.0461,
            7.9568,
            7.652,
            7.2942,
            8.171,
            8.3138,
            5.1776,
            4.4023,
            4.9097,
            3.4332,
            4.2006
           ]
          },
          {
           "axis": {
            "matches": true
           },
           "label": "K (mg/kg)",
           "values": [
            168.2,
            315.919,
            154.895,
            113.561,
            489.767,
            168.928,
            150.959,
            121.629,
            160.591,
            307.14,
            395.775,
            157.254,
            173.027,
            208.872,
            201.387,
            550.042,
            179.191,
            115.882,
            148.147,
            395.228,
            150.225,
            206.03,
            140.475,
            251.476,
            344.304,
            220.794,
            208.872,
            184.092,
            449.091,
            153.687,
            287.194,
            328.053,
            346.753,
            219.846,
            420.875,
            289.816,
            60.3044,
            219.265,
            240.767,
            206.227,
            210.143,
            316.155,
            138.724,
            205.043,
            169.452,
            319.684,
            134.845,
            233.794,
            203.92,
            304.965,
            315.498,
            182.487,
            146.784,
            209.937,
            152.089,
            252.17,
            383.201,
            220.011,
            314.649,
            87.2653,
            165.924,
            200.324,
            109.268,
            105.809,
            114.646,
            217.438,
            293.434,
            169.281,
            225.714,
            227.611,
            293.535,
            223.981,
            441.338,
            118.741,
            272.768,
            200.771,
            129.847,
            308.116,
            499.004,
            143.954,
            136.782,
            183.422,
            125.15,
            362.021,
            146.363,
            203.463,
            261.145,
            124.273,
            313.501,
            69.5327,
            181.069,
            161.602,
            73.1555,
            168.066,
            231.502,
            257.938,
            233.882,
            118.102,
            168.937,
            255.944,
            192.34,
            222.738,
            268.098
           ]
          }
         ],
         "hovertemplate": "ecosystem_subtype=Botanical garden<br>%{xaxis.title.text}=%{x}<br>%{yaxis.title.text}=%{y}<extra></extra>",
         "legendgroup": "Botanical garden",
         "marker": {
          "color": "#636efa",
          "symbol": "circle"
         },
         "name": "Botanical garden",
         "showlegend": true,
         "type": "splom"
        }
       ],
       "layout": {
        "dragmode": "select",
        "height": 800,
        "legend": {
         "title": {
          "text": "ecosystem_subtype"
         },
         "tracegroupgap": 0
        },
        "template": {
         "data": {
          "bar": [
           {
            "error_x": {
             "color": "#2a3f5f"
            },
            "error_y": {
             "color": "#2a3f5f"
            },
            "marker": {
             "line": {
              "color": "#E5ECF6",
              "width": 0.5
             },
             "pattern": {
              "fillmode": "overlay",
              "size": 10,
              "solidity": 0.2
             }
            },
            "type": "bar"
           }
          ],
          "barpolar": [
           {
            "marker": {
             "line": {
              "color": "#E5ECF6",
              "width": 0.5
             },
             "pattern": {
              "fillmode": "overlay",
              "size": 10,
              "solidity": 0.2
             }
            },
            "type": "barpolar"
           }
          ],
          "carpet": [
           {
            "aaxis": {
             "endlinecolor": "#2a3f5f",
             "gridcolor": "white",
             "linecolor": "white",
             "minorgridcolor": "white",
             "startlinecolor": "#2a3f5f"
            },
            "baxis": {
             "endlinecolor": "#2a3f5f",
             "gridcolor": "white",
             "linecolor": "white",
             "minorgridcolor": "white",
             "startlinecolor": "#2a3f5f"
            },
            "type": "carpet"
           }
          ],
          "choropleth": [
           {
            "colorbar": {
             "outlinewidth": 0,
             "ticks": ""
            },
            "type": "choropleth"
           }
          ],
          "contour": [
           {
            "colorbar": {
             "outlinewidth": 0,
             "ticks": ""
            },
            "colorscale": [
             [
              0,
              "#0d0887"
             ],
             [
              0.1111111111111111,
              "#46039f"
             ],
             [
              0.2222222222222222,
              "#7201a8"
             ],
             [
              0.3333333333333333,
              "#9c179e"
             ],
             [
              0.4444444444444444,
              "#bd3786"
             ],
             [
              0.5555555555555556,
              "#d8576b"
             ],
             [
              0.6666666666666666,
              "#ed7953"
             ],
             [
              0.7777777777777778,
              "#fb9f3a"
             ],
             [
              0.8888888888888888,
              "#fdca26"
             ],
             [
              1,
              "#f0f921"
             ]
            ],
            "type": "contour"
           }
          ],
          "contourcarpet": [
           {
            "colorbar": {
             "outlinewidth": 0,
             "ticks": ""
            },
            "type": "contourcarpet"
           }
          ],
          "heatmap": [
           {
            "colorbar": {
             "outlinewidth": 0,
             "ticks": ""
            },
            "colorscale": [
             [
              0,
              "#0d0887"
             ],
             [
              0.1111111111111111,
              "#46039f"
             ],
             [
              0.2222222222222222,
              "#7201a8"
             ],
             [
              0.3333333333333333,
              "#9c179e"
             ],
             [
              0.4444444444444444,
              "#bd3786"
             ],
             [
              0.5555555555555556,
              "#d8576b"
             ],
             [
              0.6666666666666666,
              "#ed7953"
             ],
             [
              0.7777777777777778,
              "#fb9f3a"
             ],
             [
              0.8888888888888888,
              "#fdca26"
             ],
             [
              1,
              "#f0f921"
             ]
            ],
            "type": "heatmap"
           }
          ],
          "heatmapgl": [
           {
            "colorbar": {
             "outlinewidth": 0,
             "ticks": ""
            },
            "colorscale": [
             [
              0,
              "#0d0887"
             ],
             [
              0.1111111111111111,
              "#46039f"
             ],
             [
              0.2222222222222222,
              "#7201a8"
             ],
             [
              0.3333333333333333,
              "#9c179e"
             ],
             [
              0.4444444444444444,
              "#bd3786"
             ],
             [
              0.5555555555555556,
              "#d8576b"
             ],
             [
              0.6666666666666666,
              "#ed7953"
             ],
             [
              0.7777777777777778,
              "#fb9f3a"
             ],
             [
              0.8888888888888888,
              "#fdca26"
             ],
             [
              1,
              "#f0f921"
             ]
            ],
            "type": "heatmapgl"
           }
          ],
          "histogram": [
           {
            "marker": {
             "pattern": {
              "fillmode": "overlay",
              "size": 10,
              "solidity": 0.2
             }
            },
            "type": "histogram"
           }
          ],
          "histogram2d": [
           {
            "colorbar": {
             "outlinewidth": 0,
             "ticks": ""
            },
            "colorscale": [
             [
              0,
              "#0d0887"
             ],
             [
              0.1111111111111111,
              "#46039f"
             ],
             [
              0.2222222222222222,
              "#7201a8"
             ],
             [
              0.3333333333333333,
              "#9c179e"
             ],
             [
              0.4444444444444444,
              "#bd3786"
             ],
             [
              0.5555555555555556,
              "#d8576b"
             ],
             [
              0.6666666666666666,
              "#ed7953"
             ],
             [
              0.7777777777777778,
              "#fb9f3a"
             ],
             [
              0.8888888888888888,
              "#fdca26"
             ],
             [
              1,
              "#f0f921"
             ]
            ],
            "type": "histogram2d"
           }
          ],
          "histogram2dcontour": [
           {
            "colorbar": {
             "outlinewidth": 0,
             "ticks": ""
            },
            "colorscale": [
             [
              0,
              "#0d0887"
             ],
             [
              0.1111111111111111,
              "#46039f"
             ],
             [
              0.2222222222222222,
              "#7201a8"
             ],
             [
              0.3333333333333333,
              "#9c179e"
             ],
             [
              0.4444444444444444,
              "#bd3786"
             ],
             [
              0.5555555555555556,
              "#d8576b"
             ],
             [
              0.6666666666666666,
              "#ed7953"
             ],
             [
              0.7777777777777778,
              "#fb9f3a"
             ],
             [
              0.8888888888888888,
              "#fdca26"
             ],
             [
              1,
              "#f0f921"
             ]
            ],
            "type": "histogram2dcontour"
           }
          ],
          "mesh3d": [
           {
            "colorbar": {
             "outlinewidth": 0,
             "ticks": ""
            },
            "type": "mesh3d"
           }
          ],
          "parcoords": [
           {
            "line": {
             "colorbar": {
              "outlinewidth": 0,
              "ticks": ""
             }
            },
            "type": "parcoords"
           }
          ],
          "pie": [
           {
            "automargin": true,
            "type": "pie"
           }
          ],
          "scatter": [
           {
            "fillpattern": {
             "fillmode": "overlay",
             "size": 10,
             "solidity": 0.2
            },
            "type": "scatter"
           }
          ],
          "scatter3d": [
           {
            "line": {
             "colorbar": {
              "outlinewidth": 0,
              "ticks": ""
             }
            },
            "marker": {
             "colorbar": {
              "outlinewidth": 0,
              "ticks": ""
             }
            },
            "type": "scatter3d"
           }
          ],
          "scattercarpet": [
           {
            "marker": {
             "colorbar": {
              "outlinewidth": 0,
              "ticks": ""
             }
            },
            "type": "scattercarpet"
           }
          ],
          "scattergeo": [
           {
            "marker": {
             "colorbar": {
              "outlinewidth": 0,
              "ticks": ""
             }
            },
            "type": "scattergeo"
           }
          ],
          "scattergl": [
           {
            "marker": {
             "colorbar": {
              "outlinewidth": 0,
              "ticks": ""
             }
            },
            "type": "scattergl"
           }
          ],
          "scattermapbox": [
           {
            "marker": {
             "colorbar": {
              "outlinewidth": 0,
              "ticks": ""
             }
            },
            "type": "scattermapbox"
           }
          ],
          "scatterpolar": [
           {
            "marker": {
             "colorbar": {
              "outlinewidth": 0,
              "ticks": ""
             }
            },
            "type": "scatterpolar"
           }
          ],
          "scatterpolargl": [
           {
            "marker": {
             "colorbar": {
              "outlinewidth": 0,
              "ticks": ""
             }
            },
            "type": "scatterpolargl"
           }
          ],
          "scatterternary": [
           {
            "marker": {
             "colorbar": {
              "outlinewidth": 0,
              "ticks": ""
             }
            },
            "type": "scatterternary"
           }
          ],
          "surface": [
           {
            "colorbar": {
             "outlinewidth": 0,
             "ticks": ""
            },
            "colorscale": [
             [
              0,
              "#0d0887"
             ],
             [
              0.1111111111111111,
              "#46039f"
             ],
             [
              0.2222222222222222,
              "#7201a8"
             ],
             [
              0.3333333333333333,
              "#9c179e"
             ],
             [
              0.4444444444444444,
              "#bd3786"
             ],
             [
              0.5555555555555556,
              "#d8576b"
             ],
             [
              0.6666666666666666,
              "#ed7953"
             ],
             [
              0.7777777777777778,
              "#fb9f3a"
             ],
             [
              0.8888888888888888,
              "#fdca26"
             ],
             [
              1,
              "#f0f921"
             ]
            ],
            "type": "surface"
           }
          ],
          "table": [
           {
            "cells": {
             "fill": {
              "color": "#EBF0F8"
             },
             "line": {
              "color": "white"
             }
            },
            "header": {
             "fill": {
              "color": "#C8D4E3"
             },
             "line": {
              "color": "white"
             }
            },
            "type": "table"
           }
          ]
         },
         "layout": {
          "annotationdefaults": {
           "arrowcolor": "#2a3f5f",
           "arrowhead": 0,
           "arrowwidth": 1
          },
          "autotypenumbers": "strict",
          "coloraxis": {
           "colorbar": {
            "outlinewidth": 0,
            "ticks": ""
           }
          },
          "colorscale": {
           "diverging": [
            [
             0,
             "#8e0152"
            ],
            [
             0.1,
             "#c51b7d"
            ],
            [
             0.2,
             "#de77ae"
            ],
            [
             0.3,
             "#f1b6da"
            ],
            [
             0.4,
             "#fde0ef"
            ],
            [
             0.5,
             "#f7f7f7"
            ],
            [
             0.6,
             "#e6f5d0"
            ],
            [
             0.7,
             "#b8e186"
            ],
            [
             0.8,
             "#7fbc41"
            ],
            [
             0.9,
             "#4d9221"
            ],
            [
             1,
             "#276419"
            ]
           ],
           "sequential": [
            [
             0,
             "#0d0887"
            ],
            [
             0.1111111111111111,
             "#46039f"
            ],
            [
             0.2222222222222222,
             "#7201a8"
            ],
            [
             0.3333333333333333,
             "#9c179e"
            ],
            [
             0.4444444444444444,
             "#bd3786"
            ],
            [
             0.5555555555555556,
             "#d8576b"
            ],
            [
             0.6666666666666666,
             "#ed7953"
            ],
            [
             0.7777777777777778,
             "#fb9f3a"
            ],
            [
             0.8888888888888888,
             "#fdca26"
            ],
            [
             1,
             "#f0f921"
            ]
           ],
           "sequentialminus": [
            [
             0,
             "#0d0887"
            ],
            [
             0.1111111111111111,
             "#46039f"
            ],
            [
             0.2222222222222222,
             "#7201a8"
            ],
            [
             0.3333333333333333,
             "#9c179e"
            ],
            [
             0.4444444444444444,
             "#bd3786"
            ],
            [
             0.5555555555555556,
             "#d8576b"
            ],
            [
             0.6666666666666666,
             "#ed7953"
            ],
            [
             0.7777777777777778,
             "#fb9f3a"
            ],
            [
             0.8888888888888888,
             "#fdca26"
            ],
            [
             1,
             "#f0f921"
            ]
           ]
          },
          "colorway": [
           "#636efa",
           "#EF553B",
           "#00cc96",
           "#ab63fa",
           "#FFA15A",
           "#19d3f3",
           "#FF6692",
           "#B6E880",
           "#FF97FF",
           "#FECB52"
          ],
          "font": {
           "color": "#2a3f5f"
          },
          "geo": {
           "bgcolor": "white",
           "lakecolor": "white",
           "landcolor": "#E5ECF6",
           "showlakes": true,
           "showland": true,
           "subunitcolor": "white"
          },
          "hoverlabel": {
           "align": "left"
          },
          "hovermode": "closest",
          "mapbox": {
           "style": "light"
          },
          "paper_bgcolor": "white",
          "plot_bgcolor": "#E5ECF6",
          "polar": {
           "angularaxis": {
            "gridcolor": "white",
            "linecolor": "white",
            "ticks": ""
           },
           "bgcolor": "#E5ECF6",
           "radialaxis": {
            "gridcolor": "white",
            "linecolor": "white",
            "ticks": ""
           }
          },
          "scene": {
           "xaxis": {
            "backgroundcolor": "#E5ECF6",
            "gridcolor": "white",
            "gridwidth": 2,
            "linecolor": "white",
            "showbackground": true,
            "ticks": "",
            "zerolinecolor": "white"
           },
           "yaxis": {
            "backgroundcolor": "#E5ECF6",
            "gridcolor": "white",
            "gridwidth": 2,
            "linecolor": "white",
            "showbackground": true,
            "ticks": "",
            "zerolinecolor": "white"
           },
           "zaxis": {
            "backgroundcolor": "#E5ECF6",
            "gridcolor": "white",
            "gridwidth": 2,
            "linecolor": "white",
            "showbackground": true,
            "ticks": "",
            "zerolinecolor": "white"
           }
          },
          "shapedefaults": {
           "line": {
            "color": "#2a3f5f"
           }
          },
          "ternary": {
           "aaxis": {
            "gridcolor": "white",
            "linecolor": "white",
            "ticks": ""
           },
           "baxis": {
            "gridcolor": "white",
            "linecolor": "white",
            "ticks": ""
           },
           "bgcolor": "#E5ECF6",
           "caxis": {
            "gridcolor": "white",
            "linecolor": "white",
            "ticks": ""
           }
          },
          "title": {
           "x": 0.05
          },
          "xaxis": {
           "automargin": true,
           "gridcolor": "white",
           "linecolor": "white",
           "ticks": "",
           "title": {
            "standoff": 15
           },
           "zerolinecolor": "white",
           "zerolinewidth": 2
          },
          "yaxis": {
           "automargin": true,
           "gridcolor": "white",
           "linecolor": "white",
           "ticks": "",
           "title": {
            "standoff": 15
           },
           "zerolinecolor": "white",
           "zerolinewidth": 2
          }
         }
        },
        "title": {
         "text": "Scatter matrix of Bioscales' biogeochemicals"
        },
        "width": 800
       }
      }
     },
     "metadata": {},
     "output_type": "display_data"
    }
   ],
   "source": [
    "# Add shortened names of elements and applicable units to a label_mapping dictionary\n",
    "label_mapping = {\"calcium\": \"Ca\", \"magnesium\": \"Mg\", \"manganese\": \"Mn\", \"zinc\": \"Zn\", \"potassium\": \"K\"}\n",
    "for elem, unit in units.items():\n",
    "    if elem in label_mapping:\n",
    "        label_mapping[elem] = label_mapping[elem] + \" \" + (str(unit)).replace(\"{'\",\"(\").replace(\"'}\", \")\")\n",
    "\n",
    "\n",
    "fig = px.scatter_matrix(df,\n",
    "    dimensions = [\"calcium\", \"magnesium\", \"manganese\", \"calcium\", \"zinc\", \"potassium\"],\n",
    "    title = \"Scatter matrix of Bioscales' biogeochemicals\",\n",
    "    labels = label_mapping,\n",
    "    color = \"ecosystem_subtype\",\n",
    "    width = 800,\n",
    "    height = 800)\n",
    "fig.update_traces(diagonal_visible=False)\n",
    "fig.show()"
   ]
  }
 ],
 "metadata": {
  "kernelspec": {
   "display_name": "Python 3 (ipykernel)",
   "language": "python",
   "name": "python3"
  },
  "language_info": {
   "codemirror_mode": {
    "name": "ipython",
    "version": 3
   },
   "file_extension": ".py",
   "mimetype": "text/x-python",
   "name": "python",
   "nbconvert_exporter": "python",
   "pygments_lexer": "ipython3",
   "version": "3.11.5"
  },
  "widgets": {
   "application/vnd.jupyter.widget-state+json": {
    "state": {},
    "version_major": 2,
    "version_minor": 0
   }
  }
 },
 "nbformat": 4,
 "nbformat_minor": 5
}
