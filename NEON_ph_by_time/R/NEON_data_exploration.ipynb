{
    "cells": [
        {
            "cell_type": "markdown",
            "metadata": {},
            "source": "\n"
        },
        {
            "cell_type": "code",
            "execution_count": null,
            "metadata": {},
            "outputs": [],
            "source": [
                "# Load essential libraries\n",
                "knitr::opts_chunk$set(echo = TRUE)\n",
                "library(jsonlite)\n",
                "library(dplyr)\n",
                "library(tidyr)\n",
                "library(ggplot2)\n",
                "library(forcats)\n",
                "library(lubridate)\n",
                "if (!require('maps')) install.packages('maps'); library('maps')\n"
            ]
        },
        {
            "cell_type": "markdown",
            "metadata": {},
            "source": [
                "## Get study IDs associated with NEON sites using API\n",
                "\n"
            ]
        },
        {
            "cell_type": "code",
            "execution_count": null,
            "metadata": {},
            "outputs": [],
            "source": [
                "base_url = \"https://api.microbiomedata.org\"\n",
                "url = paste0(base_url, \"/studies?filter=name.search%3ANational%20Ecological%20Observatory%20Network&per_page=50\")\n",
                "\n",
                "response = fromJSON(url)\n",
                "study_ids = response[[\"results\"]][[\"id\"]]\n",
                "print(study_ids)\n"
            ]
        },
        {
            "cell_type": "markdown",
            "metadata": {},
            "source": [
                "## Using the study ids, pull out bio sample IDs \n",
                "\n",
                "Note that we are pulling 100 records at a time until we have retrieved all biosamples for the three study ids above, place the data retrieved for each bio sample into a tibble.\n",
                "\n",
                "According to the [data portal](https://data.microbiomedata.org/), the first study listed (sty-11-34xj1150) has associated biosamples, so we will pull out the biosamples associated with that study.\n"
            ]
        },
        {
            "cell_type": "code",
            "execution_count": null,
            "metadata": {},
            "outputs": [],
            "source": [
                "study_id = study_ids[1]\n",
                "\n",
                "# Prepare a tibble to hold results\n",
                "dat_all = tibble()\n",
                "\n",
                "# Set up query\n",
                "per_page = 100  # number of records to retrieve per page\n",
                "filt = paste0(\"part_of:\", study_id) # filter to only get biosamples from the study of interest\n",
                "get_more = TRUE # flag to indicate whether we need to get more records\n",
                "page = 1 # page number to retrieve\n",
                "while (get_more){\n",
                "    # construct the url for the query\n",
                "    url = paste0(\n",
                "        base_url, \n",
                "        \"/biosamples?filter=\", \n",
                "        filt,\n",
                "        \"&per_page=\",\n",
                "        per_page,\n",
                "        \"&page=\",\n",
                "        page)\n",
                "    # get the data\n",
                "    data = fromJSON(url)\n",
                "    data_results = data[['results']] %>% as.data.frame() \n",
                "    # add the data to the tibble\n",
                "    dat_all = bind_rows(dat_all, data_results)\n",
                "    # check if we need to get more records\n",
                "    if (nrow(dat_all) < data[['meta']]['count']){\n",
                "        page = page +1\n",
                "    } else { get_more = FALSE}\n",
                "}\n",
                "\n",
                "\n",
                "glimpse(dat_all)\n"
            ]
        },
        {
            "cell_type": "markdown",
            "metadata": {},
            "source": [
                "## Clean up results for more usability\n",
                "Pull out collection date, environmental media, ph, geo_loc_name, lat_lon; unnest as needed; and convert collection_date into date object \n"
            ]
        },
        {
            "cell_type": "code",
            "execution_count": null,
            "metadata": {},
            "outputs": [],
            "source": [
                "df <- dat_all %>%\n",
                "    select(\n",
                "      collection_date, water_content, ph, geo_loc_name, lat_lon, env_medium\n",
                "      ) %>%\n",
                "    mutate(water_content = as.character(water_content)) %>%\n",
                "    separate(water_content, sep = \" \", into = c(\"water_content\", \"water_content_units\"), extra = \"merge\") %>%\n",
                "    mutate(water_content = as.numeric(water_content)) %>%\n",
                "    unnest(\n",
                "      cols = c(\n",
                "          env_medium,\n",
                "        collection_date, \n",
                "        geo_loc_name,\n",
                "        lat_lon\n",
                "        ), names_sep = \"_\") %>%\n",
                "    unnest(\n",
                "        cols = c(env_medium_term\n",
                "        ), names_sep = \"_\") %>%\n",
                "    rename(collection_date = collection_date_has_raw_value ,\n",
                "           env_medium = env_medium_term_name,\n",
                "           geo_loc = geo_loc_name_has_raw_value) %>%\n",
                "    mutate(collection_date = as.Date(collection_date)) %>%\n",
                "    suppressWarnings()\n",
                "glimpse(df)\n"
            ]
        },
        {
            "cell_type": "markdown",
            "metadata": {},
            "source": [
                "## Summarize metadata by environmental medium\n",
                "This shows us that all biosamples are soil samples and most have pH and water content measurements\n"
            ]
        },
        {
            "cell_type": "code",
            "execution_count": null,
            "metadata": {},
            "outputs": [],
            "source": [
                "df_sum <- df %>%\n",
                "  group_by(\n",
                "    env_medium\n",
                "    ) %>%\n",
                "  summarise(\n",
                "    count = n(),\n",
                "    fraction_with_ph = sum(!is.na(ph))/n(),\n",
                "    fraction_with_water_content = sum(!is.na(water_content))/n(),\n",
                "    fraction_with_collection_date = sum(!is.na(collection_date))/n(),\n",
                "    ) %>%\n",
                "  arrange(desc(count))\n",
                "df_sum\n"
            ]
        },
        {
            "cell_type": "markdown",
            "metadata": {},
            "source": [
                "## Plot locations of geo_loc scaled by number of samples with ph\n",
                "Get median lat long for each geo_loc and count of samples with pH\n"
            ]
        },
        {
            "cell_type": "code",
            "execution_count": null,
            "metadata": {},
            "outputs": [],
            "source": [
                "# Prepare location df data\n",
                "loc_sum_df <- df %>%\n",
                "  filter(!(is.na(ph))) %>%\n",
                "  group_by(\n",
                "    geo_loc,\n",
                "    env_medium\n",
                "    ) %>%\n",
                "  mutate(\n",
                "    count_with_ph = n(),\n",
                "    lat_med = median(lat_lon_latitude),\n",
                "    long_med = median(lat_lon_longitude),\n",
                "    ) %>%\n",
                "  select(\n",
                "    geo_loc, \n",
                "    env_medium,\n",
                "    lat_med,\n",
                "    long_med,\n",
                "    count_with_ph\n",
                "    ) %>%\n",
                "  distinct()\n",
                "\n",
                "#Plot summary data\n",
                "my_theme <- theme_bw()\n",
                "world <- map_data(\"world\")\n",
                "g2 <- ggplot() +\n",
                "  geom_map(\n",
                "    data = world, \n",
                "    map = world,\n",
                "    aes(long, lat, map_id = region),\n",
                "    color = \"white\", fill = \"lightgray\", size = 0.1\n",
                "  )  +\n",
                "    geom_point(\n",
                "        data = loc_sum_df,\n",
                "        aes(long_med, lat_med,\n",
                "        size = count_with_ph)) +\n",
                "    theme_void() +\n",
                "    labs(size = \"# of biosamples with \\n pH measurements\")+\n",
                "    coord_cartesian(xlim = c(-165, -65), ylim = c(15, 72), expand = FALSE)\n",
                "g2\n"
            ]
        },
        {
            "cell_type": "markdown",
            "metadata": {},
            "source": [
                "\n",
                "## Plot full time series of pH at the six sites with the most biosamples\n"
            ]
        },
        {
            "cell_type": "code",
            "execution_count": null,
            "metadata": {},
            "outputs": [],
            "source": [
                "# Prep dataframe with new column of factored sites\n",
                "df2 <- df %>%\n",
                "  mutate(geo_loc_grouped = geo_loc %>% \n",
                "           factor() %>% \n",
                "           fct_lump(n = 6)\n",
                "         ) %>%\n",
                "  filter(geo_loc_grouped != \"Other\")\n",
                "\n",
                "\n",
                "# Plot data\n",
                "g <- ggplot(data = df2) +\n",
                "    geom_point(aes(x=collection_date, y = ph)) +\n",
                "    my_theme +\n",
                "    scale_x_date()+\n",
                "    labs(x = \"Collection Date\", y = \"pH\")+\n",
                "    facet_wrap(facets = vars(geo_loc_grouped),\n",
                "               labeller = label_wrap_gen(width=30)) \n",
                "g\n"
            ]
        },
        {
            "cell_type": "markdown",
            "metadata": {},
            "source": [
                "\n",
                "## Plot full time series of water content at the six sites with the most biosamples\n"
            ]
        },
        {
            "cell_type": "code",
            "execution_count": null,
            "metadata": {},
            "outputs": [],
            "source": [
                "# Plot data\n",
                "g <- ggplot(data = df2) +\n",
                "    geom_point(aes(x=collection_date, y = water_content)) +\n",
                "    my_theme +\n",
                "    scale_x_date()+\n",
                "    labs(x = \"Collection Date\", y = \"Water Content in g of water/g of dry soil\")+\n",
                "    facet_wrap(facets = vars(geo_loc_grouped),\n",
                "               labeller = label_wrap_gen(width=30)) \n",
                "g\n"
            ]
        },
        {
            "cell_type": "markdown",
            "metadata": {},
            "source": "\n"
        }
    ],
    "metadata": {
        "anaconda-cloud": "",
        "kernelspec": {
            "display_name": "R",
            "langauge": "R",
            "name": "ir"
        },
        "language_info": {
            "codemirror_mode": "r",
            "file_extension": ".r",
            "mimetype": "text/x-r-source",
            "name": "R",
            "pygments_lexer": "r",
            "version": "3.4.1"
        }
    },
    "nbformat": 4,
    "nbformat_minor": 1
}
