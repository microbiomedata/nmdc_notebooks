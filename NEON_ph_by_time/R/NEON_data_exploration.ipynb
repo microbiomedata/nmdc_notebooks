{
    "cells": [
        {
            "cell_type": "markdown",
            "metadata": {},
            "source": "\n"
        },
        {
            "cell_type": "code",
            "execution_count": null,
            "metadata": {},
            "outputs": [],
            "source": [
                "# Load essential libraries\n",
                "knitr::opts_chunk$set(echo = TRUE)\n",
                "library(jsonlite)\n",
                "library(dplyr)\n",
                "library(tidyr)\n",
                "library(ggplot2)\n",
                "library(forcats)\n",
                "library(lubridate)\n"
            ]
        },
        {
            "cell_type": "markdown",
            "metadata": {},
            "source": [
                "\n",
                "## Get study IDs associated with NEON sites using API\n"
            ]
        },
        {
            "cell_type": "code",
            "execution_count": null,
            "metadata": {},
            "outputs": [],
            "source": [
                "base_url = \"https://api.microbiomedata.org\"\n",
                "url = paste0(base_url, \"/studies?filter=name.search%3ANational%20Ecological%20Observatory%20Network&per_page=50\")\n",
                "\n",
                "response = fromJSON(url)\n",
                "study_ids = response[[\"results\"]][[\"id\"]]\n",
                "print(study_ids)\n"
            ]
        },
        {
            "cell_type": "markdown",
            "metadata": {},
            "source": [
                "## Using the study ids, pull out bio sample IDs\n",
                "Note that we are pulling 100 records at a time until we have retrieved all biosamples for the three study ids above, place the data retrieved for each bio sample into a tibble\n"
            ]
        },
        {
            "cell_type": "code",
            "execution_count": null,
            "metadata": {},
            "outputs": [],
            "source": [
                "per_page = 100\n",
                "dat_all = tibble()\n",
                "for (i in 1:length(study_ids)){\n",
                "    study_id = study_ids[i]\n",
                "    filt = paste0(\"part_of:\", study_id)\n",
                "    get_more = TRUE\n",
                "    tot = 0\n",
                "    page = 1\n",
                "    while (get_more){\n",
                "        url = paste0(\n",
                "            base_url, \n",
                "            \"/biosamples?filter=\", \n",
                "            filt,\n",
                "            \"&per_page=\",\n",
                "            per_page,\n",
                "            \"&page=\",\n",
                "            page)\n",
                "        data = fromJSON(url)\n",
                "        data_results = data[['results']] %>% as.data.frame()\n",
                "        dat_all = bind_rows(dat_all, data_results)\n",
                "        if (nrow(dat_all) < data[['meta']]['count']){\n",
                "            page = page +1\n",
                "        } else { get_more = FALSE}\n",
                "    }\n",
                "}\n",
                "\n",
                "glimpse(dat_all)\n"
            ]
        },
        {
            "cell_type": "markdown",
            "metadata": {},
            "source": [
                "## Clean up results for more usability\n",
                "Pull out collection date, ph, geo_loc_name, lat_lon; unnest as needed; and convert collection_date into date object \n"
            ]
        },
        {
            "cell_type": "code",
            "execution_count": null,
            "metadata": {},
            "outputs": [],
            "source": [
                "df <- dat_all %>%\n",
                "    select(\n",
                "      collection_date, ph, geo_loc_name, lat_lon\n",
                "      ) %>%\n",
                "    unnest(\n",
                "      cols = c(\n",
                "        collection_date, \n",
                "        geo_loc_name,\n",
                "        lat_lon\n",
                "        ), names_sep = \"_\") %>%\n",
                "    rename(collection_date = collection_date_has_raw_value ,\n",
                "           geo_loc = geo_loc_name_has_raw_value) %>%\n",
                "    mutate(collection_date = as.Date(collection_date))\n",
                "glimpse(df)\n"
            ]
        },
        {
            "cell_type": "markdown",
            "metadata": {},
            "source": [
                "## Plot locations of geo_loc scaled by number of samples with ph\n",
                "Get median lat long for each geo_loc and count of samples with pH\n"
            ]
        },
        {
            "cell_type": "code",
            "execution_count": null,
            "metadata": {},
            "outputs": [],
            "source": [
                "# Prepare location df data\n",
                "loc_sum_df <- df %>%\n",
                "  filter(!(is.na(ph))) %>%\n",
                "  group_by(\n",
                "    geo_loc\n",
                "    ) %>%\n",
                "  mutate(\n",
                "    count_with_ph = n(),\n",
                "    lat_med = median(lat_lon_latitude),\n",
                "    long_med = median(lat_lon_longitude),\n",
                "    ) %>%\n",
                "  select(\n",
                "    geo_loc, \n",
                "    lat_med,\n",
                "    long_med,\n",
                "    count_with_ph\n",
                "    ) %>%\n",
                "  distinct()\n",
                "\n",
                "#Plot summary data\n",
                "my_theme <- theme_bw()\n",
                "world <- map_data(\"world\")\n",
                "g2 <- ggplot() +\n",
                "  geom_map(\n",
                "    data = world, \n",
                "    map = world,\n",
                "    aes(long, lat, map_id = region),\n",
                "    color = \"white\", fill = \"lightgray\", size = 0.1\n",
                "  )  +\n",
                "    geom_point(\n",
                "        data = loc_sum_df,\n",
                "        aes(long_med, lat_med,\n",
                "        size = count_with_ph)) +\n",
                "    theme_void() +\n",
                "    labs(size = \"# of biosamples with \\n pH measurements\")+\n",
                "    coord_cartesian(xlim = c(-165, -65), ylim = c(15, 72), expand = FALSE)\n",
                "g2\n"
            ]
        },
        {
            "cell_type": "markdown",
            "metadata": {},
            "source": [
                "## Plot full time series of pH at the six sites with the most biosamples\n",
                "\n"
            ]
        },
        {
            "cell_type": "code",
            "execution_count": null,
            "metadata": {},
            "outputs": [],
            "source": [
                "# Prep dataframe with new column of factored sites\n",
                "df2 <- df %>%\n",
                "  mutate(geo_loc_grouped = geo_loc %>% \n",
                "           factor() %>% \n",
                "           fct_lump(n = 6)\n",
                "         ) %>%\n",
                "  filter(geo_loc_grouped != \"Other\")\n",
                "\n",
                "\n",
                "# Plot data\n",
                "g <- ggplot(data = df2) +\n",
                "    geom_point(aes(x=collection_date, y = ph)) +\n",
                "    my_theme +\n",
                "    scale_x_date()+\n",
                "    labs(x = \"Collection Date\", y = \"pH\")+\n",
                "    facet_wrap(facets = vars(geo_loc_grouped),\n",
                "               labeller = label_wrap_gen(width=30)) \n",
                "g\n"
            ]
        }
    ],
    "metadata": {
        "anaconda-cloud": "",
        "kernelspec": {
            "display_name": "R",
            "langauge": "R",
            "name": "ir"
        },
        "language_info": {
            "codemirror_mode": "r",
            "file_extension": ".r",
            "mimetype": "text/x-r-source",
            "name": "R",
            "pygments_lexer": "r",
            "version": "3.4.1"
        }
    },
    "nbformat": 4,
    "nbformat_minor": 1
}
