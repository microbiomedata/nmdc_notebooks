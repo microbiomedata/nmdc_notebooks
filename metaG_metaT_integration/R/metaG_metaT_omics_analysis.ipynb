{
 "cells": [
  {
   "cell_type": "markdown",
   "metadata": {},
   "source": [
    "# Identifying relationships between annotated omics data in NMDC\n",
    "\n",
    "In this notebook, we’ll look at how different types of omics data can be connected using popular annotation vocabularies. We’ll focus on exploring biomolecules and KEGG pathways from a group of samples that have both metagenomic and metatranscriptomic data, all available in the NMDC Data Portal. By working through these examples, you’ll see how to bring these data types together for integrated analysis."
   ]
  },
  {
   "cell_type": "code",
   "execution_count": 2,
   "metadata": {
    "metadata": {},
    "vscode": {
     "languageId": "r"
    }
   },
   "outputs": [],
   "source": [
    "# Setup \n",
    "# Add renv project library to R environment variable libPaths()\n",
    ".libPaths(c(.libPaths(), \"../../renv/library/*/R-*/*\"))\n",
    "\n",
    "# Load required packages\n",
    "suppressPackageStartupMessages({\n",
    "library(dplyr, warn.conflicts = FALSE)\n",
    "library(tidyr, warn.conflicts = FALSE)\n",
    "library(stringr, warn.conflicts = FALSE)\n",
    "library(readr, warn.conflicts = FALSE)\n",
    "library(ggplot2, warn.conflicts = FALSE)\n",
    "library(purrr)\n",
    "library(tibble)\n",
    "library(jsonlite)\n",
    "library(KEGGREST)\n",
    "library(circlize)\n",
    "library(pathview)\n",
    "})\n",
    "\n",
    "# Load NMDC API functions from this repo\n",
    "if(Sys.getenv(\"COLAB_BACKEND_VERSION\") == \"\") source(\"../../utility_functions.R\")\n",
    "\n",
    "if(Sys.getenv(\"COLAB_BACKEND_VERSION\") != \"\") source(\"http://raw.githubusercontent.com/microbiomedata/nmdc_notebooks/refs/heads/main/utility_functions.R\")"
   ]
  },
  {
   "cell_type": "markdown",
   "metadata": {},
   "source": [
    "## 1. Retrieve data from the NMDC database using API endpoints\n",
    "\n",
    "### Choose the data you want to explore\n",
    "\n",
    "The [NMDC Data Portal](https://data.microbiomedata.org/) is a powerful resource where you can search for samples by all kinds of criteria. For this example, we’ll focus on finding samples that have both metagenomics and metatranscriptomics data.  \n",
    "To do this, just use the Data Type filters (the “upset plot” below the interactive map) to quickly spot the right samples. In our case, these filters lead us to samples from the study [“Jeff Blanchard’s Harvard forest soil project”](https://data.microbiomedata.org/details/study/nmdc:sty-11-8ws97026).\n",
    "\n",
    "### Get and filter data for Jeff Blanchard’s Harvard forest soil project\n",
    "\n",
    "Every study in the portal has a unique ID in its URL; for this one, it’s `nmdc:sty-11-8ws97026`.  \n",
    "We’ll use the function `get_data_objects_for_study` (found in `utility_functions.R`) to pull up all related data records for this project. This includes download links for raw files (like FASTQs) as well as processed outputs from NMDC’s workflows.\n",
    "\n",
    "> Tip: You can use these data objects to download files directly or to browse the processed results right in the portal!\n"
   ]
  },
  {
   "cell_type": "code",
   "execution_count": null,
   "metadata": {
    "metadata": {},
    "vscode": {
     "languageId": "r"
    }
   },
   "outputs": [],
   "source": [
    "# Retrieve all data objects associated with this study\n",
    "dobj <- get_data_objects_for_study(\"nmdc:sty-11-8ws97026\")"
   ]
  }
 ],
 "metadata": {
  "kernelspec": {
   "display_name": "R",
   "language": "R",
   "name": "ir"
  },
  "language_info": {
   "codemirror_mode": "r",
   "file_extension": ".r",
   "mimetype": "text/x-r-source",
   "name": "R",
   "pygments_lexer": "r",
   "version": "4.4.1"
  }
 },
 "nbformat": 4,
 "nbformat_minor": 2
}
