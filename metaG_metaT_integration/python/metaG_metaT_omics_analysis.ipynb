{
 "cells": [
  {
   "cell_type": "markdown",
   "metadata": {},
   "source": [
    "# Identifying relationships between annotated omics data in NMDC\n",
    "\n",
    "In this notebook, we’ll look at how different types of omics data can be connected using popular annotation vocabularies. We’ll focus on exploring biomolecules and KEGG pathways from a group of samples that have both metagenomic and metatranscriptomic data, all available in the NMDC Data Portal. By working through these examples, you’ll see how to bring these data types together for integrated analysis."
   ]
  },
  {
   "cell_type": "code",
   "execution_count": 1,
   "metadata": {},
   "outputs": [],
   "source": [
    "%%capture\n",
    "## First need to install locally the nmdc_api_utilities\n",
    "%pip install nmdc_api_utilities\n",
    "%pip install Bio\n",
    "%pip install pycirclize"
   ]
  },
  {
   "cell_type": "markdown",
   "metadata": {},
   "source": [
    "## Set up environment variables\n",
    "**You can disregard this section of code unless you have interest in testing this on the development API.**\n",
    "\n",
    "Using pythons python-dotenv package, load the environment variables from the system. This chunk of code is used in the Github CI/CD pipelines to test our development API. The variable can be used when creating `nmdc_api_utilities` objects. If you do not have the environment variable `ENV` set in a .env file, this code with default to the variable \"prod\" - which tells nmdc_api_utilities to use the production API URL."
   ]
  },
  {
   "cell_type": "code",
   "execution_count": null,
   "metadata": {},
   "outputs": [],
   "source": [
    "# set up environment variables\n",
    "from dotenv import load_dotenv\n",
    "import os\n",
    "load_dotenv()\n",
    "# load the environment variable ENV. If it does not exist, default to \"prod\"\n",
    "ENV = os.environ.get(\"ENV\", \"prod\")"
   ]
  },
  {
   "cell_type": "code",
   "execution_count": 2,
   "metadata": {},
   "outputs": [],
   "source": [
    "import requests\n",
    "import pandas as pd\n",
    "import matplotlib.pyplot as plt\n",
    "from matplotlib.patches import Patch\n",
    "import seaborn as sns\n",
    "import numpy as np\n",
    "import sys\n",
    "from io import StringIO\n",
    "from Bio.KEGG import REST\n",
    "from pycirclize import Circos\n",
    "import time\n",
    "import importlib.util\n",
    "import nmdc_api_utilities"
   ]
  },
  {
   "cell_type": "markdown",
   "metadata": {},
   "source": [
    "# Identifying relationships between annotated omics data in NMDC\n",
    "\n",
    "This notebook is an example of how different omics data types may be linked via commonly used annotation vocabularies and investigated together. In this notebook we explore biomolecules and KEGG pathways identified in a set of samples that have processed metagenomics, metaproteomics, and metabolomics data available in the NMDC Data Portal."
   ]
  },
  {
   "cell_type": "markdown",
   "metadata": {},
   "source": [
    "## 1. Retrieve data from the NMDC database using API endpoints\n",
    "\n",
    "### Choose data to retrieve\n",
    "\n",
    "The [NMDC Data Portal](https://data.microbiomedata.org/) is a powerful resource where you can search for samples by all kinds of criteria. For this example, we’ll focus on finding samples that have both metagenomics and metatranscriptomics data.  \n",
    "To do this, just use the Data Type filters (the “upset plot” below the interactive map) to quickly spot the right samples. In our case, these filters lead us to samples from the study [“Jeff Blanchard’s Harvard forest soil project”](https://data.microbiomedata.org/details/study/nmdc:sty-11-8ws97026).\n",
    "\n",
    "### Retrieve and filter data for Columbia River sediment study\n",
    "\n",
    "The study page linked above has the NMDC study identifier in the URL: `nmdc:sty-11-8ws97026`. We will use the [nmdc_api_utilities](https://microbiomedata.github.io/nmdc_api_utilities/) package to access the data_objects/study endpoint from the [NMDC Runtime API](https://api.microbiomedata.org/docs) to retrieve all records that represent data. This includes URLs for downloading raw data files (e.g. FASTQ) as well as processed data results output by the NMDC workflows."
   ]
  },
  {
   "cell_type": "code",
   "execution_count": null,
   "metadata": {},
   "outputs": [],
   "source": [
    "pd.set_option(\"display.max_rows\", 6)\n",
    "from nmdc_api_utilities.data_object_search import DataObjectSearch\n",
    "do_client = DataObjectSearch(env=ENV)\n",
    "#get all data objects associated with this study id\n",
    "data = do_client.get_data_objects_for_studies(study_id='nmdc:sty-11-8ws97026')\n",
    "data = pd.DataFrame(data)\n",
    "\n",
    "#reformat data into dataframe\n",
    "data_objects=[]\n",
    "for index, row in data.iterrows():\n",
    "    bio_id = row['biosample_id']\n",
    "    row_out = pd.json_normalize(row['data_objects'])\n",
    "    row_out['biosample_id'] = bio_id\n",
    "    data_objects.append(row_out)\n",
    "\n",
    "data_objects = pd.concat(data_objects).reset_index(drop=True)\n",
    "display(data_objects)\n",
    "\n",
    "del data, index, row, row_out, bio_id"
   ]
  }
 ],
 "metadata": {
  "kernelspec": {
   "display_name": "Python 3 (ipykernel)",
   "language": "python",
   "name": "python3"
  },
  "language_info": {
   "codemirror_mode": {
    "name": "ipython",
    "version": 3
   },
   "file_extension": ".py",
   "mimetype": "text/x-python",
   "name": "python",
   "nbconvert_exporter": "python",
   "pygments_lexer": "ipython3",
   "version": "3.11.5"
  }
 },
 "nbformat": 4,
 "nbformat_minor": 2
}
