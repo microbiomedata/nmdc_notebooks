{
 "cells": [
  {
   "cell_type": "markdown",
   "metadata": {},
   "source": [
    "# Identifying relationships between annotated omics data in NMDC\n",
    "\n",
    "This notebook is an example of how different omics data types may be linked via commonly used annotation vocabularies and investigated together. In this notebook we explore biomolecules and KEGG pathways identified in a set of samples that have processed metagenomics, metaproteomics, and metabolomics data available in the NMDC Data Portal."
   ]
  },
  {
   "cell_type": "code",
   "execution_count": 26,
   "metadata": {
    "metadata": {},
    "vscode": {
     "languageId": "r"
    }
   },
   "outputs": [],
   "source": [
    "# Setup \n",
    "# Add renv project library to R environment variable libPaths()\n",
    ".libPaths(c(.libPaths(), \"../../renv/library/*/R-*/*\"))\n",
    "\n",
    "# Load required packages\n",
    "suppressPackageStartupMessages({\n",
    "library(dplyr, warn.conflicts = FALSE)\n",
    "library(tidyr, warn.conflicts = FALSE)\n",
    "library(stringr, warn.conflicts = FALSE)\n",
    "library(readr, warn.conflicts = FALSE)\n",
    "library(ggplot2, warn.conflicts = FALSE)\n",
    "library(purrr)\n",
    "library(tibble)\n",
    "library(jsonlite)\n",
    "library(KEGGREST)\n",
    "library(circlize)\n",
    "library(pathview)\n",
    "})\n",
    "\n",
    "# Load NMDC API functions from this repo\n",
    "if(Sys.getenv(\"COLAB_BACKEND_VERSION\") == \"\") source(\"../../utility_functions.R\")\n",
    "\n",
    "if(Sys.getenv(\"COLAB_BACKEND_VERSION\") != \"\") source(\"http://raw.githubusercontent.com/microbiomedata/nmdc_notebooks/refs/heads/main/utility_functions.R\")"
   ]
  },
  {
   "cell_type": "markdown",
   "metadata": {},
   "source": [
    "## 1. Retrieve data from the NMDC database using API endpoints\n",
    "\n",
    "### Choose data to retrieve\n",
    "\n",
    "The NMDC data portal (https://data.microbiomedata.org/) allows us to filter data and samples according to many criteria. In this case, we use the Data Type filters (the upset plot under the interactive map widget) to identify samples that have metagenomics, metaproteomics, and metabolomics data. This returns samples from the study \"Riverbed sediment microbial communities from the Columbia River, Washington, USA\" (https://data.microbiomedata.org/details/study/nmdc:sty-11-aygzgv51).\n",
    "\n",
    "### Retrieve and filter data for Columbia River sediment study\n",
    "\n",
    "The study page linked above has the NMDC study identifier in the URL: `nmdc:sty-11-aygzgv51`. We will use the function `get_data_objects_for_study` (defined in `utility_functions.R`) to retrieve all records that represent data. This includes URLs for downloading raw data files (e.g. FASTQ or mass spectra files) as well as processed data results output by the NMDC workflows.\n"
   ]
  },
  {
   "cell_type": "code",
   "execution_count": 27,
   "metadata": {
    "metadata": {},
    "vscode": {
     "languageId": "r"
    }
   },
   "outputs": [],
   "source": [
    "# Retrieve all data objects associated with this study\n",
    "dobj <- get_data_objects_for_study(\"nmdc:sty-11-aygzgv51\")"
   ]
  },
  {
   "cell_type": "markdown",
   "metadata": {},
   "source": [
    "One way of further identifying a NMDC `DataObject` record is by looking at its slot `data_object_type` (https://microbiomedata.github.io/nmdc-schema/data_object_type/), which contains a value from `FileTypeEnum` (https://microbiomedata.github.io/nmdc-schema/FileTypeEnum/). \n",
    "\n",
    "We want to look at the processed data results for our three omics types of interest in this notebook. Specifically, we want the files containing KEGG Orthology, KEGG Compound, and Enzyme Commission annotations. These annotations are available in separate files for the metagenomics data (in 'Annotation Enzyme Commission' and 'Annotation KEGG Orthology' data objects) and are found together in the metabolomics ('GC-Metabolomics Results') and metaproteomics ('Protein Report') results files.\n",
    "\n",
    "We filter for results files with the following `data_object_type` values:\n",
    "\n",
    "| Value | Description |\n",
    "|:-----:|:-----------:|\n",
    "|Annotation Enzyme Commission|Tab delimited file for EC annotation|\n",
    "|Annotation KEGG Orthology|Tab delimited file for KO annotation|\n",
    "|GC-MS Metabolomics Results|GC-MS-based metabolite assignment results table|\n",
    "|Protein Report|Filtered protein report file|"
   ]
  },
  {
   "cell_type": "code",
   "execution_count": 28,
   "metadata": {
    "metadata": {},
    "vscode": {
     "languageId": "r"
    }
   },
   "outputs": [
    {
     "data": {
      "text/html": [
       "<table class=\"dataframe\">\n",
       "<caption>A tibble: 6 × 10</caption>\n",
       "<thead>\n",
       "\t<tr><th scope=col>biosample_id</th><th scope=col>id</th><th scope=col>name</th><th scope=col>description</th><th scope=col>file_size_bytes</th><th scope=col>data_object_type</th><th scope=col>type</th><th scope=col>md5_checksum</th><th scope=col>url</th><th scope=col>data_category</th></tr>\n",
       "\t<tr><th scope=col>&lt;chr&gt;</th><th scope=col>&lt;chr&gt;</th><th scope=col>&lt;chr&gt;</th><th scope=col>&lt;chr&gt;</th><th scope=col>&lt;dbl&gt;</th><th scope=col>&lt;chr&gt;</th><th scope=col>&lt;chr&gt;</th><th scope=col>&lt;chr&gt;</th><th scope=col>&lt;chr&gt;</th><th scope=col>&lt;chr&gt;</th></tr>\n",
       "</thead>\n",
       "<tbody>\n",
       "\t<tr><td>nmdc:bsm-13-kcdh3w94</td><td>nmdc:dobj-11-nypza904</td><td>nmdc_wfmgan-11-z0q72297.1_ko.tsv                              </td><td>KEGG Orthology for nmdc:wfmgan-11-z0q72297.1                          </td><td> 5200795</td><td>Annotation KEGG Orthology   </td><td>nmdc:DataObject</td><td>1c5eea827bcf5920931bd7c9b0eaf96c</td><td>https://data.microbiomedata.org/data/nmdc:omprc-13-z37b9193/nmdc:wfmgan-11-z0q72297.1/nmdc_wfmgan-11-z0q72297.1_ko.tsv</td><td>NA</td></tr>\n",
       "\t<tr><td>nmdc:bsm-13-kcdh3w94</td><td>nmdc:dobj-11-f1jxq444</td><td>nmdc_wfmgan-11-z0q72297.1_ec.tsv                              </td><td>EC Annotations for nmdc:wfmgan-11-z0q72297.1                          </td><td> 3670646</td><td>Annotation Enzyme Commission</td><td>nmdc:DataObject</td><td>1c143bed590265306cbddfa81d7b5e7e</td><td>https://data.microbiomedata.org/data/nmdc:omprc-13-z37b9193/nmdc:wfmgan-11-z0q72297.1/nmdc_wfmgan-11-z0q72297.1_ec.tsv</td><td>NA</td></tr>\n",
       "\t<tr><td>nmdc:bsm-13-kcdh3w94</td><td>nmdc:dobj-13-qm771m31</td><td>Froze_Core_2015_S2_20_30_31_Metab.csv                         </td><td>MetaMS GC-MS metabolomics output detail CSV file                      </td><td>  571806</td><td>GC-MS Metabolomics Results  </td><td>nmdc:DataObject</td><td>1cfecddceb1c1eeb3ed4804931a0731d</td><td>https://nmdcdemo.emsl.pnnl.gov/metabolomics/results/Froze_Core_2015_S2_20_30_31_Metab.csv                             </td><td>NA</td></tr>\n",
       "\t<tr><td>nmdc:bsm-13-kcdh3w94</td><td>nmdc:dobj-11-qfnbwj68</td><td>nmdc_dobj-11-rrmg7w64_nmdc_dobj-11-532pnk74_Protein_Report.tsv</td><td>Aggregated protein lists from MSGF+ search results filtered to ~5% FDR</td><td>   35513</td><td>Protein Report              </td><td>nmdc:DataObject</td><td>cc8653d63ac0b83ac61a42c9a1a9b041</td><td>https://nmdcdemo.emsl.pnnl.gov/proteomics/results/nmdc_dobj-11-rrmg7w64_nmdc_dobj-11-532pnk74_Protein_Report.tsv      </td><td>NA</td></tr>\n",
       "\t<tr><td>nmdc:bsm-13-kcdh3w94</td><td>nmdc:dobj-11-36ej5h33</td><td>nmdc_dobj-11-rrmg7w64_nmdc_dobj-11-532pnk74_Protein_Report.tsv</td><td>Aggregated protein lists from MSGF+ search results filtered to ~5% FDR</td><td>  113123</td><td>Protein Report              </td><td>nmdc:DataObject</td><td>a08e6afab3293db9c6a4c790843d869a</td><td>https://nmdcdemo.emsl.pnnl.gov/proteomics/results/2/nmdc_dobj-11-rrmg7w64_nmdc_dobj-11-532pnk74_Protein_Report.tsv    </td><td>NA</td></tr>\n",
       "\t<tr><td>nmdc:bsm-13-1p0tct86</td><td>nmdc:dobj-11-hqnph768</td><td>nmdc_wfmgan-11-ewrwts75.1_ko.tsv                              </td><td>KEGG Orthology for nmdc:wfmgan-11-ewrwts75.1                          </td><td>14336214</td><td>Annotation KEGG Orthology   </td><td>nmdc:DataObject</td><td>bb9dea6d82220cc57a3997e7e3832f9b</td><td>https://data.microbiomedata.org/data/nmdc:omprc-13-eyz5jj82/nmdc:wfmgan-11-ewrwts75.1/nmdc_wfmgan-11-ewrwts75.1_ko.tsv</td><td>NA</td></tr>\n",
       "</tbody>\n",
       "</table>\n"
      ],
      "text/latex": [
       "A tibble: 6 × 10\n",
       "\\begin{tabular}{llllllllll}\n",
       " biosample\\_id & id & name & description & file\\_size\\_bytes & data\\_object\\_type & type & md5\\_checksum & url & data\\_category\\\\\n",
       " <chr> & <chr> & <chr> & <chr> & <dbl> & <chr> & <chr> & <chr> & <chr> & <chr>\\\\\n",
       "\\hline\n",
       "\t nmdc:bsm-13-kcdh3w94 & nmdc:dobj-11-nypza904 & nmdc\\_wfmgan-11-z0q72297.1\\_ko.tsv                               & KEGG Orthology for nmdc:wfmgan-11-z0q72297.1                           &  5200795 & Annotation KEGG Orthology    & nmdc:DataObject & 1c5eea827bcf5920931bd7c9b0eaf96c & https://data.microbiomedata.org/data/nmdc:omprc-13-z37b9193/nmdc:wfmgan-11-z0q72297.1/nmdc\\_wfmgan-11-z0q72297.1\\_ko.tsv & NA\\\\\n",
       "\t nmdc:bsm-13-kcdh3w94 & nmdc:dobj-11-f1jxq444 & nmdc\\_wfmgan-11-z0q72297.1\\_ec.tsv                               & EC Annotations for nmdc:wfmgan-11-z0q72297.1                           &  3670646 & Annotation Enzyme Commission & nmdc:DataObject & 1c143bed590265306cbddfa81d7b5e7e & https://data.microbiomedata.org/data/nmdc:omprc-13-z37b9193/nmdc:wfmgan-11-z0q72297.1/nmdc\\_wfmgan-11-z0q72297.1\\_ec.tsv & NA\\\\\n",
       "\t nmdc:bsm-13-kcdh3w94 & nmdc:dobj-13-qm771m31 & Froze\\_Core\\_2015\\_S2\\_20\\_30\\_31\\_Metab.csv                          & MetaMS GC-MS metabolomics output detail CSV file                       &   571806 & GC-MS Metabolomics Results   & nmdc:DataObject & 1cfecddceb1c1eeb3ed4804931a0731d & https://nmdcdemo.emsl.pnnl.gov/metabolomics/results/Froze\\_Core\\_2015\\_S2\\_20\\_30\\_31\\_Metab.csv                              & NA\\\\\n",
       "\t nmdc:bsm-13-kcdh3w94 & nmdc:dobj-11-qfnbwj68 & nmdc\\_dobj-11-rrmg7w64\\_nmdc\\_dobj-11-532pnk74\\_Protein\\_Report.tsv & Aggregated protein lists from MSGF+ search results filtered to \\textasciitilde{}5\\% FDR &    35513 & Protein Report               & nmdc:DataObject & cc8653d63ac0b83ac61a42c9a1a9b041 & https://nmdcdemo.emsl.pnnl.gov/proteomics/results/nmdc\\_dobj-11-rrmg7w64\\_nmdc\\_dobj-11-532pnk74\\_Protein\\_Report.tsv       & NA\\\\\n",
       "\t nmdc:bsm-13-kcdh3w94 & nmdc:dobj-11-36ej5h33 & nmdc\\_dobj-11-rrmg7w64\\_nmdc\\_dobj-11-532pnk74\\_Protein\\_Report.tsv & Aggregated protein lists from MSGF+ search results filtered to \\textasciitilde{}5\\% FDR &   113123 & Protein Report               & nmdc:DataObject & a08e6afab3293db9c6a4c790843d869a & https://nmdcdemo.emsl.pnnl.gov/proteomics/results/2/nmdc\\_dobj-11-rrmg7w64\\_nmdc\\_dobj-11-532pnk74\\_Protein\\_Report.tsv     & NA\\\\\n",
       "\t nmdc:bsm-13-1p0tct86 & nmdc:dobj-11-hqnph768 & nmdc\\_wfmgan-11-ewrwts75.1\\_ko.tsv                               & KEGG Orthology for nmdc:wfmgan-11-ewrwts75.1                           & 14336214 & Annotation KEGG Orthology    & nmdc:DataObject & bb9dea6d82220cc57a3997e7e3832f9b & https://data.microbiomedata.org/data/nmdc:omprc-13-eyz5jj82/nmdc:wfmgan-11-ewrwts75.1/nmdc\\_wfmgan-11-ewrwts75.1\\_ko.tsv & NA\\\\\n",
       "\\end{tabular}\n"
      ],
      "text/markdown": [
       "\n",
       "A tibble: 6 × 10\n",
       "\n",
       "| biosample_id &lt;chr&gt; | id &lt;chr&gt; | name &lt;chr&gt; | description &lt;chr&gt; | file_size_bytes &lt;dbl&gt; | data_object_type &lt;chr&gt; | type &lt;chr&gt; | md5_checksum &lt;chr&gt; | url &lt;chr&gt; | data_category &lt;chr&gt; |\n",
       "|---|---|---|---|---|---|---|---|---|---|\n",
       "| nmdc:bsm-13-kcdh3w94 | nmdc:dobj-11-nypza904 | nmdc_wfmgan-11-z0q72297.1_ko.tsv                               | KEGG Orthology for nmdc:wfmgan-11-z0q72297.1                           |  5200795 | Annotation KEGG Orthology    | nmdc:DataObject | 1c5eea827bcf5920931bd7c9b0eaf96c | https://data.microbiomedata.org/data/nmdc:omprc-13-z37b9193/nmdc:wfmgan-11-z0q72297.1/nmdc_wfmgan-11-z0q72297.1_ko.tsv | NA |\n",
       "| nmdc:bsm-13-kcdh3w94 | nmdc:dobj-11-f1jxq444 | nmdc_wfmgan-11-z0q72297.1_ec.tsv                               | EC Annotations for nmdc:wfmgan-11-z0q72297.1                           |  3670646 | Annotation Enzyme Commission | nmdc:DataObject | 1c143bed590265306cbddfa81d7b5e7e | https://data.microbiomedata.org/data/nmdc:omprc-13-z37b9193/nmdc:wfmgan-11-z0q72297.1/nmdc_wfmgan-11-z0q72297.1_ec.tsv | NA |\n",
       "| nmdc:bsm-13-kcdh3w94 | nmdc:dobj-13-qm771m31 | Froze_Core_2015_S2_20_30_31_Metab.csv                          | MetaMS GC-MS metabolomics output detail CSV file                       |   571806 | GC-MS Metabolomics Results   | nmdc:DataObject | 1cfecddceb1c1eeb3ed4804931a0731d | https://nmdcdemo.emsl.pnnl.gov/metabolomics/results/Froze_Core_2015_S2_20_30_31_Metab.csv                              | NA |\n",
       "| nmdc:bsm-13-kcdh3w94 | nmdc:dobj-11-qfnbwj68 | nmdc_dobj-11-rrmg7w64_nmdc_dobj-11-532pnk74_Protein_Report.tsv | Aggregated protein lists from MSGF+ search results filtered to ~5% FDR |    35513 | Protein Report               | nmdc:DataObject | cc8653d63ac0b83ac61a42c9a1a9b041 | https://nmdcdemo.emsl.pnnl.gov/proteomics/results/nmdc_dobj-11-rrmg7w64_nmdc_dobj-11-532pnk74_Protein_Report.tsv       | NA |\n",
       "| nmdc:bsm-13-kcdh3w94 | nmdc:dobj-11-36ej5h33 | nmdc_dobj-11-rrmg7w64_nmdc_dobj-11-532pnk74_Protein_Report.tsv | Aggregated protein lists from MSGF+ search results filtered to ~5% FDR |   113123 | Protein Report               | nmdc:DataObject | a08e6afab3293db9c6a4c790843d869a | https://nmdcdemo.emsl.pnnl.gov/proteomics/results/2/nmdc_dobj-11-rrmg7w64_nmdc_dobj-11-532pnk74_Protein_Report.tsv     | NA |\n",
       "| nmdc:bsm-13-1p0tct86 | nmdc:dobj-11-hqnph768 | nmdc_wfmgan-11-ewrwts75.1_ko.tsv                               | KEGG Orthology for nmdc:wfmgan-11-ewrwts75.1                           | 14336214 | Annotation KEGG Orthology    | nmdc:DataObject | bb9dea6d82220cc57a3997e7e3832f9b | https://data.microbiomedata.org/data/nmdc:omprc-13-eyz5jj82/nmdc:wfmgan-11-ewrwts75.1/nmdc_wfmgan-11-ewrwts75.1_ko.tsv | NA |\n",
       "\n"
      ],
      "text/plain": [
       "  biosample_id         id                   \n",
       "1 nmdc:bsm-13-kcdh3w94 nmdc:dobj-11-nypza904\n",
       "2 nmdc:bsm-13-kcdh3w94 nmdc:dobj-11-f1jxq444\n",
       "3 nmdc:bsm-13-kcdh3w94 nmdc:dobj-13-qm771m31\n",
       "4 nmdc:bsm-13-kcdh3w94 nmdc:dobj-11-qfnbwj68\n",
       "5 nmdc:bsm-13-kcdh3w94 nmdc:dobj-11-36ej5h33\n",
       "6 nmdc:bsm-13-1p0tct86 nmdc:dobj-11-hqnph768\n",
       "  name                                                          \n",
       "1 nmdc_wfmgan-11-z0q72297.1_ko.tsv                              \n",
       "2 nmdc_wfmgan-11-z0q72297.1_ec.tsv                              \n",
       "3 Froze_Core_2015_S2_20_30_31_Metab.csv                         \n",
       "4 nmdc_dobj-11-rrmg7w64_nmdc_dobj-11-532pnk74_Protein_Report.tsv\n",
       "5 nmdc_dobj-11-rrmg7w64_nmdc_dobj-11-532pnk74_Protein_Report.tsv\n",
       "6 nmdc_wfmgan-11-ewrwts75.1_ko.tsv                              \n",
       "  description                                                           \n",
       "1 KEGG Orthology for nmdc:wfmgan-11-z0q72297.1                          \n",
       "2 EC Annotations for nmdc:wfmgan-11-z0q72297.1                          \n",
       "3 MetaMS GC-MS metabolomics output detail CSV file                      \n",
       "4 Aggregated protein lists from MSGF+ search results filtered to ~5% FDR\n",
       "5 Aggregated protein lists from MSGF+ search results filtered to ~5% FDR\n",
       "6 KEGG Orthology for nmdc:wfmgan-11-ewrwts75.1                          \n",
       "  file_size_bytes data_object_type             type           \n",
       "1  5200795        Annotation KEGG Orthology    nmdc:DataObject\n",
       "2  3670646        Annotation Enzyme Commission nmdc:DataObject\n",
       "3   571806        GC-MS Metabolomics Results   nmdc:DataObject\n",
       "4    35513        Protein Report               nmdc:DataObject\n",
       "5   113123        Protein Report               nmdc:DataObject\n",
       "6 14336214        Annotation KEGG Orthology    nmdc:DataObject\n",
       "  md5_checksum                    \n",
       "1 1c5eea827bcf5920931bd7c9b0eaf96c\n",
       "2 1c143bed590265306cbddfa81d7b5e7e\n",
       "3 1cfecddceb1c1eeb3ed4804931a0731d\n",
       "4 cc8653d63ac0b83ac61a42c9a1a9b041\n",
       "5 a08e6afab3293db9c6a4c790843d869a\n",
       "6 bb9dea6d82220cc57a3997e7e3832f9b\n",
       "  url                                                                                                                   \n",
       "1 https://data.microbiomedata.org/data/nmdc:omprc-13-z37b9193/nmdc:wfmgan-11-z0q72297.1/nmdc_wfmgan-11-z0q72297.1_ko.tsv\n",
       "2 https://data.microbiomedata.org/data/nmdc:omprc-13-z37b9193/nmdc:wfmgan-11-z0q72297.1/nmdc_wfmgan-11-z0q72297.1_ec.tsv\n",
       "3 https://nmdcdemo.emsl.pnnl.gov/metabolomics/results/Froze_Core_2015_S2_20_30_31_Metab.csv                             \n",
       "4 https://nmdcdemo.emsl.pnnl.gov/proteomics/results/nmdc_dobj-11-rrmg7w64_nmdc_dobj-11-532pnk74_Protein_Report.tsv      \n",
       "5 https://nmdcdemo.emsl.pnnl.gov/proteomics/results/2/nmdc_dobj-11-rrmg7w64_nmdc_dobj-11-532pnk74_Protein_Report.tsv    \n",
       "6 https://data.microbiomedata.org/data/nmdc:omprc-13-eyz5jj82/nmdc:wfmgan-11-ewrwts75.1/nmdc_wfmgan-11-ewrwts75.1_ko.tsv\n",
       "  data_category\n",
       "1 NA           \n",
       "2 NA           \n",
       "3 NA           \n",
       "4 NA           \n",
       "5 NA           \n",
       "6 NA           "
      ]
     },
     "metadata": {},
     "output_type": "display_data"
    }
   ],
   "source": [
    "dobj <- dobj %>%\n",
    "  # Filter to biosamples with metagenome EC annotations, metagenome KO \n",
    "  # annotations, metaproteomics results, and metabolomics results\n",
    "  group_by(biosample_id) %>%\n",
    "  filter(\"Annotation Enzyme Commission\" %in% data_object_type &\n",
    "           \"Annotation KEGG Orthology\" %in% data_object_type &\n",
    "           \"GC-MS Metabolomics Results\" %in% data_object_type &\n",
    "           \"Protein Report\" %in% data_object_type) %>%\n",
    "  ungroup() %>%\n",
    "  \n",
    "  # Remove uninformative columns for simpler dataframe\n",
    "  select(-c(alternative_identifiers, in_manifest, was_generated_by)) %>% \n",
    "\n",
    "  # Filter to only desired file types\n",
    "  filter(data_object_type %in% c(\"Annotation Enzyme Commission\", \"Annotation KEGG Orthology\",\n",
    "                                \"GC-MS Metabolomics Results\", \"Protein Report\"))\n",
    "\n",
    "head(dobj)"
   ]
  },
  {
   "cell_type": "markdown",
   "metadata": {},
   "source": [
    "### Choose results by workflow version\n",
    "\n",
    "Notice that `dobj` contains more than one `Protein Report` results file for some samples. When NMDC releases a new workflow version, existing data may be rerun, which means that multiple versions of the results are available. \n",
    "\n",
    "We will identify the versions of the results we want by looking up the corresponding `WorkflowExecution` records."
   ]
  },
  {
   "cell_type": "code",
   "execution_count": 29,
   "metadata": {
    "vscode": {
     "languageId": "r"
    }
   },
   "outputs": [
    {
     "data": {
      "text/html": [
       "<table class=\"dataframe\">\n",
       "<caption>A tibble: 6 × 3</caption>\n",
       "<thead>\n",
       "\t<tr><th scope=col>id</th><th scope=col>has_output</th><th scope=col>version</th></tr>\n",
       "\t<tr><th scope=col>&lt;chr&gt;</th><th scope=col>&lt;chr&gt;</th><th scope=col>&lt;chr&gt;</th></tr>\n",
       "</thead>\n",
       "<tbody>\n",
       "\t<tr><td>nmdc:wfmgan-11-vcrp9p47.1</td><td>nmdc:dobj-11-716e7y35</td><td>v1.1.0</td></tr>\n",
       "\t<tr><td>nmdc:wfmgan-11-vcrp9p47.1</td><td>nmdc:dobj-11-4bdcw262</td><td>v1.1.0</td></tr>\n",
       "\t<tr><td>nmdc:wfmgan-11-vcrp9p47.1</td><td>nmdc:dobj-11-p55wx268</td><td>v1.1.0</td></tr>\n",
       "\t<tr><td>nmdc:wfmgan-11-vcrp9p47.1</td><td>nmdc:dobj-11-jeegee30</td><td>v1.1.0</td></tr>\n",
       "\t<tr><td>nmdc:wfmgan-11-vcrp9p47.1</td><td>nmdc:dobj-11-hf9mc874</td><td>v1.1.0</td></tr>\n",
       "\t<tr><td>nmdc:wfmgan-11-vcrp9p47.1</td><td>nmdc:dobj-11-zynt9846</td><td>v1.1.0</td></tr>\n",
       "</tbody>\n",
       "</table>\n"
      ],
      "text/latex": [
       "A tibble: 6 × 3\n",
       "\\begin{tabular}{lll}\n",
       " id & has\\_output & version\\\\\n",
       " <chr> & <chr> & <chr>\\\\\n",
       "\\hline\n",
       "\t nmdc:wfmgan-11-vcrp9p47.1 & nmdc:dobj-11-716e7y35 & v1.1.0\\\\\n",
       "\t nmdc:wfmgan-11-vcrp9p47.1 & nmdc:dobj-11-4bdcw262 & v1.1.0\\\\\n",
       "\t nmdc:wfmgan-11-vcrp9p47.1 & nmdc:dobj-11-p55wx268 & v1.1.0\\\\\n",
       "\t nmdc:wfmgan-11-vcrp9p47.1 & nmdc:dobj-11-jeegee30 & v1.1.0\\\\\n",
       "\t nmdc:wfmgan-11-vcrp9p47.1 & nmdc:dobj-11-hf9mc874 & v1.1.0\\\\\n",
       "\t nmdc:wfmgan-11-vcrp9p47.1 & nmdc:dobj-11-zynt9846 & v1.1.0\\\\\n",
       "\\end{tabular}\n"
      ],
      "text/markdown": [
       "\n",
       "A tibble: 6 × 3\n",
       "\n",
       "| id &lt;chr&gt; | has_output &lt;chr&gt; | version &lt;chr&gt; |\n",
       "|---|---|---|\n",
       "| nmdc:wfmgan-11-vcrp9p47.1 | nmdc:dobj-11-716e7y35 | v1.1.0 |\n",
       "| nmdc:wfmgan-11-vcrp9p47.1 | nmdc:dobj-11-4bdcw262 | v1.1.0 |\n",
       "| nmdc:wfmgan-11-vcrp9p47.1 | nmdc:dobj-11-p55wx268 | v1.1.0 |\n",
       "| nmdc:wfmgan-11-vcrp9p47.1 | nmdc:dobj-11-jeegee30 | v1.1.0 |\n",
       "| nmdc:wfmgan-11-vcrp9p47.1 | nmdc:dobj-11-hf9mc874 | v1.1.0 |\n",
       "| nmdc:wfmgan-11-vcrp9p47.1 | nmdc:dobj-11-zynt9846 | v1.1.0 |\n",
       "\n"
      ],
      "text/plain": [
       "  id                        has_output            version\n",
       "1 nmdc:wfmgan-11-vcrp9p47.1 nmdc:dobj-11-716e7y35 v1.1.0 \n",
       "2 nmdc:wfmgan-11-vcrp9p47.1 nmdc:dobj-11-4bdcw262 v1.1.0 \n",
       "3 nmdc:wfmgan-11-vcrp9p47.1 nmdc:dobj-11-p55wx268 v1.1.0 \n",
       "4 nmdc:wfmgan-11-vcrp9p47.1 nmdc:dobj-11-jeegee30 v1.1.0 \n",
       "5 nmdc:wfmgan-11-vcrp9p47.1 nmdc:dobj-11-hf9mc874 v1.1.0 \n",
       "6 nmdc:wfmgan-11-vcrp9p47.1 nmdc:dobj-11-zynt9846 v1.1.0 "
      ]
     },
     "metadata": {},
     "output_type": "display_data"
    }
   ],
   "source": [
    "# Obtain information about the workflow that produced each data object\n",
    "workflow_info <- get_results_by_id(collection = \"workflow_execution_set\",\n",
    "                                   match_id_field = \"has_output\",\n",
    "                                   id_list = dobj$id,\n",
    "                                   fields = \"id,has_output,version\") %>%\n",
    "                    unnest(has_output)\n",
    "head(workflow_info)"
   ]
  },
  {
   "cell_type": "markdown",
   "metadata": {},
   "source": [
    "Join `workflow_info` to `dobj` and filter down to the desired workflow versions."
   ]
  },
  {
   "cell_type": "code",
   "execution_count": null,
   "metadata": {
    "vscode": {
     "languageId": "r"
    }
   },
   "outputs": [
    {
     "data": {
      "text/html": [
       "'Number of biosamples: 31'"
      ],
      "text/latex": [
       "'Number of biosamples: 31'"
      ],
      "text/markdown": [
       "'Number of biosamples: 31'"
      ],
      "text/plain": [
       "[1] \"Number of biosamples: 31\""
      ]
     },
     "metadata": {},
     "output_type": "display_data"
    }
   ],
   "source": [
    "dobj <- dobj %>%\n",
    "    left_join(workflow_info, by = join_by(id == has_output)) %>%\n",
    "\n",
    "    # Filter to records from the desired workflow version\n",
    "    filter(data_object_type == \"Annotation KEGG Orthology\" |\n",
    "           data_object_type == \"Annotation Enzyme Commission\" |\n",
    "           data_object_type == \"GC-MS Metabolomics Results\" |\n",
    "           (data_object_type == \"Protein Report\" & version == \"v1.2.1\"))\n",
    "\n",
    "# How many biosamples have all three omics types?\n",
    "paste(\"Number of biosamples:\", length(unique(dobj$biosample_id)))\n",
    "\n",
    "# How many data objects are there for each biosample? (should be 4)\n",
    "stopifnot(dobj %>%\n",
    "            group_by(biosample_id) %>%\n",
    "            summarize(file_count = n()) %>%\n",
    "            ungroup() %>%\n",
    "            pull(file_count) == 4)"
   ]
  },
  {
   "cell_type": "markdown",
   "metadata": {},
   "source": [
    "### Download selected results files\n",
    " \n",
    "Now we can use the `url` slot from the filtered `DataObject` records to read in all of the files containing the annotations of interest."
   ]
  },
  {
   "cell_type": "code",
   "execution_count": null,
   "metadata": {
    "metadata": {},
    "vscode": {
     "languageId": "r"
    }
   },
   "outputs": [],
   "source": [
    "results_by_biosample <- dobj %>%\n",
    "  \n",
    "  # Create one URL column per type\n",
    "  select(biosample_id, data_object_type, url) %>%\n",
    "  pivot_wider(names_from = data_object_type, values_from = url) %>%\n",
    "  \n",
    "  # Read in the TSV/CSV results files\n",
    "  # Add in column names from the IMG genome download README\n",
    "  mutate(metag_ec_results = lapply(\n",
    "    .$`Annotation Enzyme Commission`, \n",
    "    function(x) { \n",
    "      d <- read_tsv(x, col_names = FALSE, show_col_types = FALSE)\n",
    "      names(d) <- c(\"gene_id\", \"img_ko_flag\", \"EC\", \"percent_identity\",\n",
    "                    \"query_start\", \"query_end\", \"subj_start\", \"subj_end\",\n",
    "                    \"evalue\", \"bit_score\", \"align_length\")\n",
    "      d\n",
    "      })) %>%\n",
    "  \n",
    "  mutate(metag_ko_results = lapply(\n",
    "    .$`Annotation KEGG Orthology`, \n",
    "    function(x) { \n",
    "      d <- read_tsv(x, col_names = FALSE, show_col_types = FALSE)\n",
    "      names(d) <- c(\"gene_id\", \"img_ko_flag\", \"ko_term\", \"percent_identity\",\n",
    "                    \"query_start\", \"query_end\", \"subj_start\", \"subj_end\",\n",
    "                    \"evalue\", \"bit_score\", \"align_length\")\n",
    "      d\n",
    "      })) %>%\n",
    "\n",
    "  mutate(metap_results = lapply(.$`Protein Report`, read_tsv, col_names = TRUE, show_col_types = FALSE)) %>%\n",
    "  mutate(metab_results = lapply(.$`GC-MS Metabolomics Results`, read_csv, col_names = TRUE, show_col_types = FALSE))"
   ]
  },
  {
   "cell_type": "markdown",
   "metadata": {},
   "source": [
    "Each of the downloaded data files contains detailed information including the KO, EC, or KEGG Compound identifiers."
   ]
  },
  {
   "cell_type": "code",
   "execution_count": null,
   "metadata": {
    "metadata": {},
    "vscode": {
     "languageId": "r"
    }
   },
   "outputs": [],
   "source": [
    "# View a snippet of the metagenome KEGG Orthology annotations file\n",
    "head(results_by_biosample$metag_ko_results[[1]])"
   ]
  },
  {
   "cell_type": "markdown",
   "metadata": {},
   "source": [
    "### Extract unique identifications\n",
    "\n",
    "From each results table we can extract the unique list of genes/proteins/metabolites identified in that sample.\n",
    "\n",
    "We also create a vector for each biomolecule containing all unique identifications across all samples, to simplify API calls later. "
   ]
  },
  {
   "cell_type": "code",
   "execution_count": null,
   "metadata": {
    "metadata": {},
    "vscode": {
     "languageId": "r"
    }
   },
   "outputs": [],
   "source": [
    "# Small wrapper function for commonly used function pair in this notebook\n",
    "unlist_unique <- function (x) {\n",
    "  unique(unlist(x, use.names = FALSE))\n",
    "}\n",
    "\n",
    "\n",
    "# Metagenome annotations - KEGG Orthology\n",
    "# Save a unique vector of gene KO by sample\n",
    "metag_ko_unique_list <- results_by_biosample$metag_ko_results %>%\n",
    "  lapply(FUN = function(x) { sort(unique(x$ko_term)) }) %>%\n",
    "  setNames(results_by_biosample$biosample_id)\n",
    "\n",
    "# Save a unique vector of ALL gene KO for searching later\n",
    "metag_ko_unique <- unlist_unique(metag_ko_unique_list)\n",
    "\n",
    "# Metagenome annotations - Enzyme Commission\n",
    "# Save a unique vector of gene EC by sample\n",
    "metag_ec_unique_list <- results_by_biosample$metag_ec_results %>%\n",
    "  lapply(FUN = function(x) { sort(unique(x$EC)) }) %>%\n",
    "  setNames(results_by_biosample$biosample_id)\n",
    "\n",
    "# Save a unique vector of ALL gene EC for searching later\n",
    "metag_ec_unique <- unlist_unique(metag_ec_unique_list)\n",
    "\n",
    "\n",
    "# Metaproteome annotations - KEGG Orthology\n",
    "# Protein KO by sample\n",
    "metap_ko_unique_list <- results_by_biosample$metap_results %>%\n",
    "  lapply(FUN = function(x) { sort(unique(x$KO)) }) %>%\n",
    "  setNames(results_by_biosample$biosample_id)\n",
    "\n",
    "# ALL protein KO\n",
    "metap_ko_unique <- unlist_unique(metap_ko_unique_list)\n",
    "\n",
    "# Metaproteome annotations - Enzyme Commission\n",
    "# Protein EC by sample\n",
    "metap_ec_unique_list <- results_by_biosample$metap_results %>%\n",
    "  # Protein report may have multiple EC annotations per line\n",
    "  lapply(FUN = function(x) { x$EC_Number %>% strsplit(\",\") %>% unlist_unique() %>% sort() }) %>%\n",
    "  setNames(results_by_biosample$biosample_id)\n",
    "\n",
    "# ALL protein EC\n",
    "metap_ec_unique <- unlist_unique(metap_ec_unique_list)\n",
    "\n",
    "# Dataframe of metaproteome annotations across all samples\n",
    "# Keep KO and EC results together\n",
    "metap_combined_unique <- results_by_biosample$metap_results %>%\n",
    "  bind_rows() %>%\n",
    "  select(KO, EC_Number) %>%\n",
    "  rename(ec_id = \"EC_Number\",\n",
    "         ko_id = \"KO\") %>%\n",
    "  # EC column may have multiple comma separated values\n",
    "  # Reform dataframe to have one EC per row\n",
    "  separate_wider_delim(ec_id, delim = \",\", names_sep = \".\", too_few = \"align_start\") %>%\n",
    "  pivot_longer(cols = starts_with(\"ec_id\"), names_to = NULL, values_to = \"ec_id\") %>%\n",
    "  filter(if_any(everything(), ~ !is.na(.))) %>%\n",
    "  # Filter out excess NA rows from pivot\n",
    "  group_by(ko_id) %>%\n",
    "  mutate(has_value = any(!is.na(ec_id))) %>%\n",
    "  ungroup() %>%\n",
    "  filter(!(has_value & is.na(ec_id))) %>%\n",
    "  select(-has_value) %>%\n",
    "  distinct()\n",
    "\n",
    "\n",
    "# Metabolome annotations - KEGG Compound\n",
    "# Compound IDs per sample\n",
    "metab_co_unique_list <- results_by_biosample$metab_results %>%\n",
    "  lapply(FUN = function(x) { sort(unique(x$`Kegg Compound ID`)) }) %>%\n",
    "  setNames(results_by_biosample$biosample_id)\n",
    "\n",
    "# ALL compound IDs\n",
    "metab_co_unique <- unlist_unique(metab_co_unique_list)"
   ]
  },
  {
   "cell_type": "markdown",
   "metadata": {},
   "source": [
    "## 2. Use annotations in file output to link identifications\n",
    "\n",
    "Metagenomic and metaproteomic results in NMDC already have both KEGG Orthology and Enzyme Commission annotations which can be used to link gene and protein identifications without any additional information from KEGG. \n",
    "\n",
    "The plot below is a simple example of how to start associating the gene/protein results by counting the number of metagenomic KO annotations that also appear in the metaproteomic results."
   ]
  },
  {
   "cell_type": "code",
   "execution_count": null,
   "metadata": {
    "vscode": {
     "languageId": "r"
    }
   },
   "outputs": [],
   "source": [
    "# For each sample, check which metagenomic KO results also appear in the metaproteomic KO results\n",
    "map2(.x = metag_ko_unique_list, .y = metap_ko_unique_list, \n",
    "     .f = ~if_else((.x %in% .y), \"Has_Protein\", \"No_Protein\")) %>%\n",
    "  stack() %>%\n",
    "  dplyr::rename(biosample_id = \"ind\", result = \"values\") %>%\n",
    "  group_by(biosample_id, result) %>%\n",
    "  summarize(count = n(), .groups = \"drop_last\") %>%\n",
    "  ungroup() %>%\n",
    "  filter(result == \"Has_Protein\") %>%\n",
    "  arrange(-count) %>%\n",
    "  mutate(biosample_id = factor(biosample_id, levels = biosample_id)) %>%\n",
    "\n",
    "  # Plot the number of identified genes that have a corresponding protein identification by sample\n",
    "  ggplot() +\n",
    "    geom_bar(aes(x = biosample_id, y = count), stat = \"identity\", fill = \"steelblue\") +\n",
    "    ggtitle(\"Metagenome identified genes with KO annotations in metaproteome results\") +\n",
    "    xlab(\"Biosample ID\") + \n",
    "    ylab(\"Number of genes\") +\n",
    "    theme(axis.text.x = element_text(angle = 60, hjust = 1),\n",
    "          legend.position = \"none\")"
   ]
  },
  {
   "cell_type": "markdown",
   "metadata": {},
   "source": [
    "The rest of this notebook uses the KEGG API to retrieve additional information for identified biomolecules, which enables more multi-omic analysis and provides more context for their biological relevance. Use of the KEGG API is restricted to academic users or commercial license holders (see [Licensing Information](##-Licensing-Information))."
   ]
  },
  {
   "cell_type": "markdown",
   "metadata": {},
   "source": [
    "## 3. Get IDs from other KEGG databases\n",
    "\n",
    "Now we will use the KEGGREST package (available on Bioconductor) to make calls to the KEGG API. Using the annotations provided in the NMDC results files, we can look up their corresponding annotations in KEGG databases to start drawing connections between biomolecule identifications. \n",
    "\n",
    "For example, in the first use of `KEGGREST::keggLink()` below, we are searching the KEGG ENZYME database for Enzyme Commission numbers that are _linked_ to each KEGG Compound ID in the character vector `metab_co_unique`.\n",
    "\n",
    "We will also search for linked KEGG modules and pathways. KEGG pathways are manually drawn maps that represent all the reactions in a biological process and are typically composed of a number of more discrete functional units, the KEGG modules.\n",
    "\n",
    "Notes:\n",
    "- `keggLink()` calls are paired with a 0.5s `Sys.sleep()` command. This is to limit the number of API calls we are making per second to avoid overloading the KEGG REST API and having API calls rejected.\n",
    "- Character vectors of IDs to query are broken up into 50-element pieces to avoid overly long HTTP request URLs."
   ]
  },
  {
   "cell_type": "markdown",
   "metadata": {},
   "source": [
    "### Gather metabolite information\n",
    "\n",
    "First we will find all of the Enzyme Commission numbers available for each compound identified in the metabolomics results. These EC numbers represent enzymes that catalyze reactions involving the compound of interest."
   ]
  },
  {
   "cell_type": "code",
   "execution_count": null,
   "metadata": {
    "vscode": {
     "languageId": "r"
    }
   },
   "outputs": [],
   "source": [
    "# Get all EC ids for each compound\n",
    "ec_from_metabolites <- metab_co_unique %>%\n",
    "  split(ceiling(seq_along(.)/50)) %>%\n",
    "  lapply(FUN = function(x) { Sys.sleep(0.5); keggLink(\"enzyme\", x) }) %>%\n",
    "  list_c()\n",
    "  \n",
    "# Format into a nested dataframe\n",
    "ec_from_metabolites <- data.frame(compound_id = names(ec_from_metabolites),\n",
    "                                  ec_id = ec_from_metabolites) %>%\n",
    "  nest(.by = compound_id, .key = \"ec_id\")"
   ]
  },
  {
   "cell_type": "markdown",
   "metadata": {},
   "source": [
    "Then we will do the same to pull all of the modules and pathways that each compound is a part of. "
   ]
  },
  {
   "cell_type": "code",
   "execution_count": null,
   "metadata": {
    "vscode": {
     "languageId": "r"
    }
   },
   "outputs": [],
   "source": [
    "# Get all module ids for each compound\n",
    "modules_from_metabolites <- metab_co_unique %>%\n",
    "  split(ceiling(seq_along(.)/50)) %>%\n",
    "  lapply(FUN = function(x) { Sys.sleep(0.5); keggLink(\"module\", x) }) %>%\n",
    "  list_c()\n",
    "  \n",
    "# Format into a nested dataframe\n",
    "modules_from_metabolites <- data.frame(compound_id = names(modules_from_metabolites),\n",
    "                                       module_id = modules_from_metabolites) %>%\n",
    "  nest(.by = compound_id, .key = \"module_id\")\n",
    "\n",
    "\n",
    "# Get all pathway ids for each compound\n",
    "pathways_from_metabolites <- metab_co_unique %>%\n",
    "  split(ceiling(seq_along(.)/50)) %>%\n",
    "  lapply(FUN = function(x) { Sys.sleep(0.5); keggLink(\"pathway\", x) }) %>%\n",
    "  list_c()\n",
    "  \n",
    "# Format into a nested dataframe\n",
    "pathways_from_metabolites <- data.frame(compound_id = names(pathways_from_metabolites),\n",
    "                                        pathway_id = pathways_from_metabolites) %>%\n",
    "  nest(.by = compound_id, .key = \"pathway_id\")"
   ]
  },
  {
   "cell_type": "markdown",
   "metadata": {},
   "source": [
    "Join the results to produce a dataframe containing EC, module, and pathway IDs for each metabolite identified across all samples."
   ]
  },
  {
   "cell_type": "code",
   "execution_count": null,
   "metadata": {
    "vscode": {
     "languageId": "r"
    }
   },
   "outputs": [],
   "source": [
    "# Assemble\n",
    "metabolite_annotations <- data.frame(compound_id = paste0(\"cpd:\", metab_co_unique),\n",
    "                                     compound_trimmed = metab_co_unique) %>%\n",
    "  left_join(ec_from_metabolites, by = join_by(compound_id)) %>%\n",
    "  left_join(modules_from_metabolites, by = join_by(compound_id)) %>%\n",
    "  left_join(pathways_from_metabolites, by = join_by(compound_id))\n",
    "\n",
    "head(metabolite_annotations, 3)"
   ]
  },
  {
   "cell_type": "markdown",
   "metadata": {},
   "source": [
    "Finally, use a filtering join on the list of metabolite identifications per biosample and the list of all metabolite annotations to create a list of dataframes containing all annotations per biosample."
   ]
  },
  {
   "cell_type": "code",
   "execution_count": null,
   "metadata": {
    "vscode": {
     "languageId": "r"
    }
   },
   "outputs": [],
   "source": [
    "# Pre-allocate an empty list for metabolite dataframes\n",
    "metabolite_annotations_list <- vector(mode = \"list\", length = nrow(results_by_biosample))\n",
    "\n",
    "for (biosample in 1:nrow(results_by_biosample)) {\n",
    "  \n",
    "  # For each sample, assemble a dataframe of metabolite information\n",
    "  # Start with the unique list of metabolites for this sample\n",
    "  metabolite_annotations_list[[biosample]] <- data.frame(compound_id = paste0(\"cpd:\", metab_co_unique_list[[biosample]])) %>%\n",
    "    # Filter join all metabolite annotations down to just the ones in this sample\n",
    "    left_join(metabolite_annotations, by = join_by(compound_id))\n",
    "}\n",
    "\n",
    "names(metabolite_annotations_list) <- names(metab_co_unique_list)\n",
    "\n",
    "# Cleanup intermediate objects\n",
    "rm(metabolite_annotations, ec_from_metabolites, modules_from_metabolites, pathways_from_metabolites, metab_co_unique, metab_co_unique_list)\n",
    "\n",
    "head(metabolite_annotations_list[[1]], 3)"
   ]
  },
  {
   "cell_type": "markdown",
   "metadata": {},
   "source": [
    "### Gather protein information\n",
    "\n",
    "Next we will do the same thing for proteins in each sample - starting with the KO and EC IDs from the NMDC annotation workflow, identify the modules and pathways each protein is associated with, and what corresponding metabolites/genes were identified in this sample."
   ]
  },
  {
   "cell_type": "code",
   "execution_count": null,
   "metadata": {
    "vscode": {
     "languageId": "r"
    }
   },
   "outputs": [],
   "source": [
    "# Use concatenated proteins vector, make all the calls once, then split up by biosample\n",
    "\n",
    "# Get all module ids for each protein\n",
    "modules_from_proteins <- metap_ko_unique %>%\n",
    "  substring(4) %>%\n",
    "  split(ceiling(seq_along(.)/50)) %>%\n",
    "  lapply(FUN = function(x) { Sys.sleep(0.5); keggLink(\"module\", x) }) %>%\n",
    "  list_c()\n",
    "  \n",
    "# Format into a nested dataframe\n",
    "modules_from_proteins <- data.frame(ko_id = toupper(names(modules_from_proteins)),\n",
    "                                    module_id = modules_from_proteins) %>%\n",
    "  nest(.by = ko_id, .key = \"module_id\")\n",
    "\n",
    "\n",
    "# Get all pathway ids for each protein\n",
    "pathways_from_proteins <- metap_ko_unique %>%\n",
    "  substring(4) %>%\n",
    "  split(ceiling(seq_along(.)/50)) %>%\n",
    "  lapply(FUN = function(x) { Sys.sleep(0.5); keggLink(\"pathway\", x) }) %>%\n",
    "  list_c()\n",
    "  \n",
    "# Format into a nested dataframe\n",
    "pathways_from_proteins <- data.frame(ko_id = toupper(names(pathways_from_proteins)),\n",
    "                                     pathway_id = pathways_from_proteins) %>%\n",
    "  nest(.by = ko_id, .key = \"pathway_id\")\n",
    "\n",
    "\n",
    "# Assemble, starting from the dataframe of joined KO/EC annotations from the Protein Report\n",
    "protein_annotations <- metap_combined_unique %>%\n",
    "  left_join(modules_from_proteins, by = join_by(ko_id)) %>%\n",
    "  left_join(pathways_from_proteins, by = join_by(ko_id))\n",
    "\n",
    "\n",
    "# Pre-allocate an empty list for protein dataframes\n",
    "protein_annotations_list <- vector(mode = \"list\", length = nrow(results_by_biosample))\n",
    "\n",
    "for (biosample in 1:nrow(results_by_biosample)) {\n",
    "  \n",
    "  # For each sample, assemble a dataframe of protein information\n",
    "  # Start with the unique list of proteins for this sample\n",
    "  protein_annotations_list[[biosample]] <- data.frame(ko_id = metap_ko_unique_list[[biosample]]) %>%\n",
    "    # Filter join all metabolite annotations down to just the ones in this sample\n",
    "    left_join(protein_annotations, by = join_by(ko_id))\n",
    "}\n",
    "\n",
    "names(protein_annotations_list) <- names(metap_ko_unique_list)\n",
    "\n",
    "# Cleanup intermediate objects\n",
    "rm(protein_annotations, modules_from_proteins, pathways_from_proteins, metap_ec_unique_list, metap_ko_unique_list, metap_combined_unique, metap_ec_unique, metap_ko_unique)\n",
    "\n",
    "head(protein_annotations_list[[1]])"
   ]
  },
  {
   "cell_type": "markdown",
   "metadata": {},
   "source": [
    "### Gather gene information\n",
    "\n",
    "Finally we will find modules and pathways for each gene and create the same list of dataframes for the metagenomes in each sample."
   ]
  },
  {
   "cell_type": "code",
   "execution_count": null,
   "metadata": {
    "vscode": {
     "languageId": "r"
    }
   },
   "outputs": [],
   "source": [
    "# Use concatenated metag KO vector, make all the calls once, then split up by biosample\n",
    "\n",
    "# Get all module ids for each gene\n",
    "modules_from_genes <- metag_ko_unique %>%\n",
    "  # API doesn't like the prefix in the annotated results, trim it off\n",
    "  # eg. KO:K12345 becomes K12345\n",
    "  substring(4) %>%\n",
    "  split(ceiling(seq_along(.)/50)) %>%\n",
    "  lapply(FUN = function(x) { Sys.sleep(0.5); keggLink(\"module\", x) }) %>%\n",
    "  list_c()\n",
    "  \n",
    "# Format into a nested dataframe\n",
    "modules_from_genes <- data.frame(ko_id = toupper(names(modules_from_genes)),\n",
    "                                 module_id = modules_from_genes) %>%\n",
    "  nest(.by = ko_id, .key = \"module_id\")\n",
    "\n",
    "\n",
    "# Get all pathway ids for each gene\n",
    "pathways_from_genes <- metag_ko_unique %>%\n",
    "  substring(4) %>%\n",
    "  split(ceiling(seq_along(.)/50)) %>%\n",
    "  lapply(FUN = function(x) { Sys.sleep(0.5); keggLink(\"pathway\", x) }) %>%\n",
    "  list_c()\n",
    "  \n",
    "# Format into a nested dataframe\n",
    "pathways_from_genes <- data.frame(ko_id = toupper(names(pathways_from_genes)),\n",
    "                                  pathway_id = pathways_from_genes) %>%\n",
    "  nest(.by = ko_id, .key = \"pathway_id\")\n",
    "\n",
    "\n",
    "# Assemble\n",
    "gene_annotations <- data.frame(ko_id = metag_ko_unique) %>%\n",
    "  left_join(modules_from_genes, by = join_by(ko_id)) %>%\n",
    "  left_join(pathways_from_genes, by = join_by(ko_id))"
   ]
  },
  {
   "cell_type": "markdown",
   "metadata": {},
   "source": [
    "The metagenome results have KO and EC IDs in different annotation files, as we saw above when reading in results files. Join the EC IDs to the KO IDs here.\n",
    "\n",
    "There is a filter applied in this step to only retain genes that have EC IDs. This is because there are more gene identifications than there are proteins and metabolites, and for this notebook we want to focus on the genes that could potentially be linked to proteins or metabolites by their EC ID. This affects downstream pathway coverage counts."
   ]
  },
  {
   "cell_type": "code",
   "execution_count": null,
   "metadata": {
    "vscode": {
     "languageId": "r"
    }
   },
   "outputs": [],
   "source": [
    "# Pre-allocate an empty list for gene dataframes\n",
    "gene_annotations_list <- vector(mode = \"list\", length = nrow(results_by_biosample))\n",
    "\n",
    "for (biosample in 1:nrow(results_by_biosample)) {\n",
    "  \n",
    "  # Add in the EC annotations here - it will be easier since they are in a separate file per sample\n",
    "  \n",
    "  # For each sample, assemble a dataframe of gene information\n",
    "\n",
    "  # Start by pairing the KO and EC information from the annotation results files\n",
    "  gene_annotations_list[[biosample]] <- results_by_biosample$metag_ko_results[[biosample]] %>%\n",
    "    full_join(results_by_biosample$metag_ec_results[[biosample]],\n",
    "              # Join by NMDC metag workflow assigned gene ID\n",
    "              by = join_by(gene_id), relationship = \"many-to-many\") %>%\n",
    "    select(ko_term, EC) %>%\n",
    "    distinct() %>%\n",
    "    rename(ko_id = \"ko_term\",\n",
    "           ec_id = \"EC\") %>%\n",
    "    \n",
    "    # Filter to only KO identifications that also have EC information\n",
    "    filter(!is.na(ec_id)) %>%\n",
    "    \n",
    "    # Now filter join all gene annotations down to just the ones in this sample\n",
    "    left_join(gene_annotations, by = join_by(ko_id))\n",
    "}\n",
    "\n",
    "names(gene_annotations_list) <- names(metag_ko_unique_list)\n",
    "\n",
    "# Cleanup intermediate objects\n",
    "rm(gene_annotations, modules_from_genes, pathways_from_genes, metag_ko_unique, metag_ko_unique_list)"
   ]
  },
  {
   "cell_type": "markdown",
   "metadata": {},
   "source": [
    "### Identify linked IDs between biosamples\n",
    "\n",
    "We can now check which biomolecules have linked annotations in the other two omics types (for example, checking whether each metabolite has a linked annotation in the metagenomic and metaproteomic results).\n",
    "\n",
    "The code below iterates through samples and adds two columns in each annotation dataframe labelling whether that molecule has a linked annotation among the other two omics types for that sample. "
   ]
  },
  {
   "cell_type": "code",
   "execution_count": null,
   "metadata": {
    "vscode": {
     "languageId": "r"
    }
   },
   "outputs": [],
   "source": [
    "# Add \"is this x in y\" columns for all biomolecules\n",
    "\n",
    "for (biosample in 1:nrow(results_by_biosample)) {\n",
    "  \n",
    "  metabolite_annotations_list[[biosample]] <- metabolite_annotations_list[[biosample]] %>%\n",
    "    \n",
    "    # The EC ID column in metabolite annotations is actually a list of character vectors,\n",
    "    # since each compound (row) can have multiple EC annotations\n",
    "    mutate(In_Metag_Annotations = vapply(.$ec_id, function(x) { any(x$ec_id %in% tolower(gene_annotations_list[[biosample]]$ec_id)) }, FUN.VALUE = TRUE),\n",
    "           In_Metap_Annotations = vapply(.$ec_id, function(x) { any(x$ec_id %in% tolower(protein_annotations_list[[biosample]]$ec_id)) }, FUN.VALUE = TRUE))\n",
    "  \n",
    "\n",
    "  protein_annotations_list[[biosample]] <- protein_annotations_list[[biosample]] %>% \n",
    "    # tolower() is needed because the KEGG output has lowercase prefixes\n",
    "    mutate(In_Metab_Annotations = tolower(ec_id) %in% unlist_unique(metabolite_annotations_list[[biosample]]$ec_id),\n",
    "           In_Metag_Annotations = ko_id %in% gene_annotations_list[[biosample]]$ko_id)\n",
    "  \n",
    "  \n",
    "  gene_annotations_list[[biosample]] <- gene_annotations_list[[biosample]] %>%\n",
    "    mutate(In_Metab_Annotations = tolower(ec_id) %in% unlist_unique(metabolite_annotations_list[[biosample]]$ec_id),\n",
    "           In_Metap_Annotations = ko_id %in% protein_annotations_list[[biosample]]$ko_id)\n",
    "}\n",
    "\n",
    "# View an example of what these dataframes look like for a single sample\n",
    "head(protein_annotations_list[[1]])"
   ]
  },
  {
   "cell_type": "markdown",
   "metadata": {},
   "source": [
    "## 4. Visualize shared biomolecule identifications\n",
    "\n",
    "The `circlize` package enables construction of circular diagrams with arcs between sectors showing relationships between multiple groups. We will use `circlize` to create a chord diagram showing where the annotations from the metagenomic, metaproteomic, and metabolomic results link to each other. \n",
    "\n",
    "First, choose a biosample from the list to visualize. Then use its gathered annotations to calculate the sectors and arcs needed for the plot. There will be three sectors representing genes, proteins, and metabolites, then three arcs connecting the pairs of sectors."
   ]
  },
  {
   "cell_type": "code",
   "execution_count": null,
   "metadata": {
    "vscode": {
     "languageId": "r"
    }
   },
   "outputs": [],
   "source": [
    "# Select an example biosample\n",
    "example_gene <- gene_annotations_list[[2]]\n",
    "example_prot <- protein_annotations_list[[2]]\n",
    "example_metab <- metabolite_annotations_list[[2]]\n",
    "\n",
    "# Scale sectors so that arc widths are proportional rather than absolute for better visualization\n",
    "largest_sector_xlim <- max(length(unique(example_gene$ko_id)),\n",
    "                           length(unique(example_prot$ko_id)),\n",
    "                           length(unique(example_metab$compound_id)))\n",
    "\n",
    "# Gene sector\n",
    "# Calculate size of sector\n",
    "gene_sector_xlim <- length(unique(example_gene$ko_id))\n",
    "\n",
    "# Sum the number of genes that show up in the protein annotations, then scale\n",
    "gene_sector_prot_count <- (sum(distinct(example_gene, ko_id, In_Metap_Annotations)$In_Metap_Annotations)) * (largest_sector_xlim / gene_sector_xlim)\n",
    "# Sum the number of genes that show up in protein AND metabolite annotations, then scale\n",
    "gene_sector_both_count <- sum((example_gene %>% group_by(ko_id) %>% summarize(in_both = any(In_Metab_Annotations) & any(In_Metap_Annotations)) %>% ungroup())$in_both) * (largest_sector_xlim / gene_sector_xlim)\n",
    "# Sum the number of genes that show up in metabolite annotations, then scale\n",
    "gene_sector_metab_count <-(sum(distinct(example_gene, ko_id, In_Metab_Annotations)$In_Metab_Annotations)) * (largest_sector_xlim / gene_sector_xlim)\n",
    "\n",
    "# Prot sector\n",
    "prot_sector_xlim <- length(unique(example_prot$ko_id))\n",
    "\n",
    "prot_sector_metab_count <- sum(distinct(example_prot, ko_id, In_Metab_Annotations)$In_Metab_Annotations) * (largest_sector_xlim / prot_sector_xlim)\n",
    "prot_sector_both_count <- sum((example_prot %>% group_by(ko_id) %>% summarize(in_both = any(In_Metab_Annotations) & any(In_Metag_Annotations)) %>% ungroup())$in_both) * (largest_sector_xlim / prot_sector_xlim)\n",
    "prot_sector_gene_count <- sum(distinct(example_prot, ko_id, In_Metag_Annotations)$In_Metag_Annotations) * (largest_sector_xlim / prot_sector_xlim)\n",
    "\n",
    "\n",
    "# Metab sector\n",
    "metab_sector_xlim <- length(unique(example_metab$compound_id))\n",
    "\n",
    "metab_sector_gene_count <- sum(distinct(example_metab, compound_id, In_Metag_Annotations)$In_Metag_Annotations) * (largest_sector_xlim / metab_sector_xlim)\n",
    "metab_sector_both_count <- sum((example_metab %>% group_by(compound_id) %>% summarize(in_both = any(In_Metap_Annotations) & any(In_Metag_Annotations)) %>% ungroup())$in_both) * (largest_sector_xlim / metab_sector_xlim)\n",
    "metab_sector_prot_count <- sum(distinct(example_metab, compound_id, In_Metap_Annotations)$In_Metap_Annotations) * (largest_sector_xlim / metab_sector_xlim)\n",
    "\n",
    "# Reset sector sizes to scaled value\n",
    "gene_sector_xlim <- largest_sector_xlim\n",
    "prot_sector_xlim <- largest_sector_xlim\n",
    "metab_sector_xlim <- largest_sector_xlim"
   ]
  },
  {
   "cell_type": "markdown",
   "metadata": {},
   "source": [
    "Now use the calculated sectors/arcs to generate the chord diagram."
   ]
  },
  {
   "cell_type": "code",
   "execution_count": null,
   "metadata": {
    "vscode": {
     "languageId": "r"
    }
   },
   "outputs": [],
   "source": [
    "plot_sector_names <- c(\"genes\", \"proteins\", \"metabolites\")\n",
    " \n",
    "# Assemble data\n",
    "data = data.frame(\n",
    "    sectors = c(rep(\"genes\", gene_sector_xlim),\n",
    "               rep(\"proteins\", prot_sector_xlim),\n",
    "               rep(\"metabolites\", metab_sector_xlim)),\n",
    "    x = c(seq(1:gene_sector_xlim),\n",
    "          seq(1:prot_sector_xlim),\n",
    "          seq(1:metab_sector_xlim)),\n",
    "    y = c(seq(1:gene_sector_xlim),\n",
    "          seq(1:prot_sector_xlim),\n",
    "          seq(1:metab_sector_xlim))) %>%\n",
    "  mutate(sectors = factor(sectors, levels = plot_sector_names))\n",
    " \n",
    "# Initialize the plot with the three specified sectors\n",
    "circos.initialize(factors = data$sectors, x = data$x)\n",
    "\n",
    "circos.labels(plot_sector_names, \n",
    "              x = c(gene_sector_xlim/2, prot_sector_xlim/2, metab_sector_xlim/2), \n",
    "              labels = c(paste0(\"genes (\", nrow(example_gene), \")\"),\n",
    "                         paste0(\"proteins (\", nrow(example_prot), \")\"), \n",
    "                         paste0(\"metabolites (\", nrow(example_metab), \")\")),\n",
    "              side = \"outside\")\n",
    "\n",
    " \n",
    "# Build and color the three sectors in the outermost ring\n",
    "circos.trackPlotRegion(factors = data$sectors, y=data$y, bg.col = c(\"tomato\", \"gold\", \"skyblue2\") , bg.border = NA)\n",
    " \n",
    "# Add links (aka arcs or chords) between sectors\n",
    "# From the gene sector to the protein sector\n",
    "circos.link(\n",
    "      # Create a link that starts at the beginning of the gene sector\n",
    "      # It is as wide as the scaled number of gene/protein shared annotations (see above)\n",
    "      \"genes\", c(0, gene_sector_prot_count), \n",
    "      \n",
    "      # The other end of the link is in the protein sector\n",
    "      # It starts at the number of protein/metabolite but NOT gene shared annotations\n",
    "      # It is as wide as the scaled number of gene/protein shared annotations\n",
    "      \"proteins\", c(prot_sector_metab_count - prot_sector_both_count, \n",
    "                    prot_sector_metab_count - prot_sector_both_count + prot_sector_gene_count), \n",
    "      col = \"#ff870099\")\n",
    "\n",
    "# Repeat for proteins/metab\n",
    "circos.link(\"proteins\", c(0, prot_sector_metab_count), \n",
    "            \"metabolites\", c(metab_sector_gene_count - metab_sector_both_count,\n",
    "                             metab_sector_gene_count - metab_sector_both_count + metab_sector_prot_count), \n",
    "            col = \"#63ff0099\")\n",
    "\n",
    "\n",
    "# Repeat for metab/genes\n",
    "circos.link(\"metabolites\", c(0, metab_sector_gene_count), \n",
    "            \"genes\", c(gene_sector_prot_count - gene_sector_both_count,\n",
    "                       gene_sector_prot_count - gene_sector_both_count + gene_sector_metab_count), \n",
    "            col = \"#8b24cd99\")"
   ]
  },
  {
   "cell_type": "markdown",
   "metadata": {},
   "source": [
    "In the chord diagram, each arc is showing what proportion of identified biomolecules have a linked annotation in the identified biomolecules on the other end of the arc. For example, the purple arc shows that about a third of the genes have a link to a compound ID that was identified in the metabolomics data for this sample. \n",
    "\n",
    "Areas where the ends of two arcs overlap (e.g., the green and orange arc ends at the bottom of the protein sector) indicate that those molecules have corresponding identified biomolecules in all three data types."
   ]
  },
  {
   "cell_type": "markdown",
   "metadata": {},
   "source": [
    "## 5. Calculate coverage of KEGG pathways across samples\n",
    "\n",
    "Now we will shift gears to looking at the identified biomolecules as part of KEGG pathways. There are many approaches to KEGG pathway analysis. In this notebook, we are looking at biomolecule detections across samples, not any abundance measurements or differential expression analyses, so the calculations and plots reflect observations and not necessarily a full picture of biological activity.\n",
    "\n",
    "Assemble a list of all of the pathway IDs that any biomolecules in each sample map to (obtained from API calls earlier).\n",
    "The KEGG API returns duplicate IDs for each pathway, one that is blank, and one that has all of the KO elements highlighted. Exclude the highlighted maps from the list for redundancy.\n",
    "Some of the maps are \"overview\" maps which encompass an enormous number of metabolic reactions, to the point that it is not especially informative if a compound maps to one. Exclude those pathways as well. (See https://www.genome.jp/kegg/pathway.html#global) "
   ]
  },
  {
   "cell_type": "code",
   "execution_count": null,
   "metadata": {
    "vscode": {
     "languageId": "r"
    }
   },
   "outputs": [],
   "source": [
    "pathways_by_biosample <- vector(mode = \"list\", length = nrow(results_by_biosample))\n",
    "\n",
    "for (biosample in 1:length(pathways_by_biosample)) {\n",
    "\n",
    "  # Get unique list of pathways from all identified biomolecules\n",
    "  sample_pathways <- c(gene_annotations_list[[biosample]]$pathway_id, \n",
    "                       protein_annotations_list[[biosample]]$pathway_id,\n",
    "                       metabolite_annotations_list[[biosample]]$pathway_id) %>%\n",
    "    unlist(use.names = FALSE) %>%\n",
    "    unique()\n",
    "  \n",
    "  # Look at basic pathway maps, exclude KO highlighted pathway maps\n",
    "  sample_pathways <- sample_pathways[!str_detect(sample_pathways, \"path:ko\")]\n",
    "  \n",
    "  # Exclude \"overview\" pathway maps\n",
    "  sample_pathways <- sample_pathways[!str_detect(sample_pathways, \"path:map01\")]\n",
    "  \n",
    "  pathways_by_biosample[[biosample]] <- sample_pathways\n",
    "  \n",
    "}"
   ]
  },
  {
   "cell_type": "markdown",
   "metadata": {},
   "source": [
    "Now, using the complete list of pathways, make one more set of API calls to obtain the full list of compounds and KO elements found in that pathway. In this case we are only searching for KO and compound IDs, EC IDs in pathways just point to the corresponding KO element.\n",
    "\n",
    "There is a filter applied in this step that retains pathways with at least one gene and at least one compound. Some KEGG pathways have all KO/EC elements or all compounds and in this notebook we want to examine pathways that have both."
   ]
  },
  {
   "cell_type": "code",
   "execution_count": null,
   "metadata": {
    "vscode": {
     "languageId": "r"
    }
   },
   "outputs": [],
   "source": [
    "# Concatenate the pathways, make all the calls once, then join to pathways_by_biosample\n",
    "\n",
    "# Get all compounds for each pathway\n",
    "compounds_from_pathways <- pathways_by_biosample %>%\n",
    "  unlist(use.names = FALSE) %>%\n",
    "  unique() %>%\n",
    "  split(ceiling(seq_along(.)/50)) %>%\n",
    "  lapply(FUN = function(x) { keggLink(\"compound\", x) }) %>%\n",
    "  list_c()\n",
    "  \n",
    "# Format into a nested dataframe\n",
    "compounds_from_pathways <- data.frame(pathway_id = names(compounds_from_pathways),\n",
    "                                      compound_id = compounds_from_pathways) %>%\n",
    "  nest(.by = pathway_id, .key = \"compound_id\")\n",
    "\n",
    "\n",
    "# Get all KO for each pathway\n",
    "ko_from_pathways <- pathways_by_biosample %>%\n",
    "  unlist(use.names = FALSE) %>%\n",
    "  unique() %>%\n",
    "  split(ceiling(seq_along(.)/50)) %>%\n",
    "  lapply(FUN = function(x) { keggLink(\"ko\", x) }) %>%\n",
    "  list_c()\n",
    "\n",
    "# Format into a nested dataframe\n",
    "ko_from_pathways <- data.frame(pathway_id = names(ko_from_pathways),\n",
    "                               ko_id = ko_from_pathways) %>%\n",
    "  nest(.by = pathway_id, .key = \"ko_id\")\n",
    "\n",
    "\n",
    "# Count the elements that comprise each pathway for calculations later\n",
    "all_pathway_elements <- full_join(compounds_from_pathways, ko_from_pathways, \n",
    "                                  by = join_by(pathway_id)) %>%\n",
    "  mutate(compound_count = vapply(compound_id, \n",
    "                                 FUN = function(x) { ifelse(is.null(x), 0, nrow(x)) }, \n",
    "                                 FUN.VALUE = 1)) %>%\n",
    "  mutate(ko_count =       vapply(ko_id, \n",
    "                                 FUN = function(x) { ifelse(is.null(x), 0, nrow(x)) }, \n",
    "                                 FUN.VALUE = 1)) %>%\n",
    "  mutate(total_elements = compound_count + ko_count) %>%\n",
    "  # Filter to pathways with at least one of each\n",
    "  filter(compound_count > 0 & ko_count > 0)\n"
   ]
  },
  {
   "cell_type": "markdown",
   "metadata": {},
   "source": [
    "Now we will calculate the \"coverage\" of each KEGG pathway found in each biosample by simply dividing the number of biomolecules that were found in the omics data by the total number of elements in the pathway."
   ]
  },
  {
   "cell_type": "code",
   "execution_count": null,
   "metadata": {
    "vscode": {
     "languageId": "r"
    }
   },
   "outputs": [],
   "source": [
    "pathway_coverage_by_biosample <- vector(mode = \"list\", length = nrow(results_by_biosample))\n",
    "\n",
    "for (biosample in 1:length(pathways_by_biosample)) {\n",
    "  \n",
    "  all_ko_detected <- unique(c(gene_annotations_list[[biosample]]$ko_id,\n",
    "                              protein_annotations_list[[biosample]]$ko_id))\n",
    "  \n",
    "  pathway_coverage_by_biosample[[biosample]] <- all_pathway_elements %>%\n",
    "    filter(pathway_id %in% pathways_by_biosample[[biosample]]) %>%\n",
    "    mutate(compound_found    = vapply(.$compound_id, \n",
    "                                      function(x) { sum(x$compound_id %in% metabolite_annotations_list[[biosample]]$compound_id) }, \n",
    "                                      FUN.VALUE = 1),\n",
    "           ko_found          = vapply(.$ko_id, \n",
    "                                      function(x) { sum(toupper(x$ko_id) %in% all_ko_detected) }, \n",
    "                                      FUN.VALUE = 1),\n",
    "           compound_coverage = compound_found / compound_count,\n",
    "           ko_coverage       = ko_found / ko_count,\n",
    "           total_coverage    = (compound_found + ko_found)/total_elements) %>%\n",
    "    \n",
    "    select(-c(compound_id, ko_id)) %>%\n",
    "    mutate_all(~ifelse(is.nan(.), NA, .)) %>%\n",
    "    \n",
    "    # Filter out pathways where we only found 1 element\n",
    "    filter(compound_found + ko_found > 1) %>%\n",
    "    arrange(-total_coverage)\n",
    "}\n",
    "\n",
    "names(pathway_coverage_by_biosample) <- names(gene_annotations_list)\n",
    "\n",
    "# View an example of pathway coverage df for one sample\n",
    "head(pathway_coverage_by_biosample[[1]])"
   ]
  },
  {
   "cell_type": "markdown",
   "metadata": {},
   "source": [
    "## 6. Visualize KEGG pathway coverage across samples\n",
    "\n",
    "### Pull biosample metadata\n",
    "\n",
    "First, use the `get_results_by_id()` functions from `utility_functions.R` to retrieve selected metadata for the biosamples."
   ]
  },
  {
   "cell_type": "code",
   "execution_count": null,
   "metadata": {
    "vscode": {
     "languageId": "r"
    }
   },
   "outputs": [],
   "source": [
    "# Pull biosample metadata and make sure samples are in the same order as data going into plots\n",
    "ordered_metadata <- get_results_by_id(collection = \"biosample_set\",\n",
    "                    match_id_field = \"id\",\n",
    "                    id_list = results_by_biosample$biosample_id,\n",
    "                    fields = \"id,samp_name,description,depth.has_numeric_value,lat_lon\") %>% \n",
    "                    unnest(cols = c(depth, lat_lon), names_sep = \".\") %>%\n",
    "                    right_join(data.frame(id = names(pathway_coverage_by_biosample)), by = join_by(id))\n",
    "\n",
    "head(ordered_metadata)"
   ]
  },
  {
   "cell_type": "markdown",
   "metadata": {},
   "source": [
    "For this study, the samples were collected in two areas along the Columbia River. Create a vector of colors representing which area each sample was taken from to use in heatmaps."
   ]
  },
  {
   "cell_type": "code",
   "execution_count": null,
   "metadata": {
    "vscode": {
     "languageId": "r"
    }
   },
   "outputs": [],
   "source": [
    "# Set up color vector for side grouping column\n",
    "sample_color_vec <- case_when(\n",
    "  str_detect(ordered_metadata$lat_lon.has_raw_value, \"46\\\\.372\") ~ \"orange\",\n",
    "  str_detect(ordered_metadata$lat_lon.has_raw_value, \"46\\\\.373\") ~ \"blue\")"
   ]
  },
  {
   "cell_type": "markdown",
   "metadata": {},
   "source": [
    "### Create pathway coverage heatmaps\n",
    " \n",
    "In section 5 we created a list of dataframes containing the coverage of each pathway in each biosample, broken down by compound, KO, and total coverage.\n",
    "\n",
    "We can visualize this as a heatmap, where the columns are KEGG pathways, the rows are biosamples, and the color gradient shows pathways with high/low coverage in each sample.\n",
    "\n",
    "Here we look at the KO term coverage (the proportion of KO terms in the pathway that appear as identifications in our metagenomic and/or metaproteomic data)."
   ]
  },
  {
   "cell_type": "code",
   "execution_count": null,
   "metadata": {
    "vscode": {
     "languageId": "r"
    }
   },
   "outputs": [],
   "source": [
    "options(repr.plot.width = 7, repr.plot.height = 5, repr.plot.res = 250)\n",
    "par(xpd = TRUE)\n",
    "\n",
    "pathway_coverage_by_biosample %>%\n",
    "  bind_rows(.id = \"biosample\") %>%\n",
    "  select(biosample, pathway_id, ko_coverage) %>%\n",
    "  pivot_wider(names_from = \"pathway_id\", values_from = \"ko_coverage\") %>%\n",
    "  replace(is.na(.), 0) %>%\n",
    "  column_to_rownames(var = \"biosample\") %>%\n",
    "  as.matrix() %>%\n",
    "  \n",
    "  heatmap(Colv = NA, RowSideColors = sample_color_vec,\n",
    "          labRow = FALSE, labCol = FALSE, scale = \"none\",\n",
    "          main = \"KEGG pathway coverage across biosamples (KO terms only)\",\n",
    "          xlab = \"KEGG Pathways\",\n",
    "          ylab = \"Biosamples\", \n",
    "          keep.dendro = FALSE, na.rm= TRUE,\n",
    "          col = hcl.colors(50))\n",
    "\n",
    "par(cex = 0.8)\n",
    "\n",
    "legend(x = \"bottomright\", legend = c(\"Low coverage\", \"High coverage\"), fill = c(\"#440154\", \"#FDE725\"), inset = c(0, -0.2))\n",
    "\n",
    "legend(x = \"bottomleft\", legend = c(\"North location\", \"South location\"), fill = c(\"blue\", \"orange\"), inset = c(0, -0.2))"
   ]
  },
  {
   "cell_type": "markdown",
   "metadata": {},
   "source": [
    "The KO coverage heatmap has some features that stand out but does not show much difference in coverage between the sample groups, seen by the lack of clustering on the sidebar.\n",
    "\n",
    "Now look at only compound coverage values (the proportion of compounds in each pathway that appear as identifications in the metabolomics results)."
   ]
  },
  {
   "cell_type": "code",
   "execution_count": null,
   "metadata": {
    "vscode": {
     "languageId": "r"
    }
   },
   "outputs": [],
   "source": [
    "options(repr.plot.width = 7, repr.plot.height = 5, repr.plot.res = 250)\n",
    "par(xpd = TRUE)\n",
    "\n",
    "pathway_coverage_by_biosample %>%\n",
    "  bind_rows(.id = \"biosample\") %>%\n",
    "  select(biosample, pathway_id, compound_coverage) %>%\n",
    "  pivot_wider(names_from = \"pathway_id\", values_from = \"compound_coverage\") %>%\n",
    "  replace(is.na(.), 0) %>%\n",
    "  column_to_rownames(var = \"biosample\") %>%\n",
    "  as.matrix() %>%\n",
    "  \n",
    "  heatmap(Colv = NA, RowSideColors = sample_color_vec,\n",
    "          labRow = FALSE, labCol = FALSE, scale = \"none\",\n",
    "          main = \"KEGG pathway coverage across biosamples (Compounds only)\",\n",
    "          xlab = \"KEGG Pathways\",\n",
    "          ylab = \"Biosamples\", \n",
    "          keep.dendro = FALSE, na.rm= TRUE,\n",
    "          col = hcl.colors(50))\n",
    "\n",
    "par(cex = 0.8)\n",
    "\n",
    "legend(x = \"bottomright\", legend = c(\"Low coverage\", \"High coverage\"), fill = c(\"#440154\", \"#FDE725\"), inset = c(0, -0.2))\n",
    "\n",
    "legend(x = \"bottomleft\", legend = c(\"North location\", \"South location\"), fill = c(\"blue\", \"orange\"), inset = c(0, -0.2))"
   ]
  },
  {
   "cell_type": "markdown",
   "metadata": {},
   "source": [
    "The compound-only coverage dataframe shows the most clustering of samples by the sampling area."
   ]
  },
  {
   "cell_type": "markdown",
   "metadata": {},
   "source": [
    "### Highest coverage pathways\n",
    "Next, try looking at trends across all the samples, such as the pathways with the highest average total coverage (calculated from all biomolecules rather than separating KEGG orthologs and compounds as in the heatmaps.)\n",
    "\n",
    "The cell below prints pathways that had over 50% coverage in any sample, ordered by average total coverage."
   ]
  },
  {
   "cell_type": "code",
   "execution_count": null,
   "metadata": {
    "vscode": {
     "languageId": "r"
    }
   },
   "outputs": [],
   "source": [
    "pathway_coverage_by_biosample %>%\n",
    "  bind_rows(.id = \"biosample\") %>%\n",
    "  select(biosample, pathway_id, total_coverage) %>%\n",
    "  group_by(pathway_id) %>%\n",
    "  filter(any(total_coverage > 0.5)) %>%\n",
    "  mutate(average_coverage = mean(total_coverage)) %>%\n",
    "  ungroup() %>%\n",
    "  arrange(-average_coverage) %>%\n",
    "  pull(pathway_id) %>%\n",
    "  unique()"
   ]
  },
  {
   "cell_type": "markdown",
   "metadata": {},
   "source": [
    "We can use the KEGG pathway documentation to find some more human-readable information for each of these pathway IDs. The pathways are grouped into categories. See the table of contents at https://www.genome.jp/kegg/pathway.html."
   ]
  },
  {
   "cell_type": "code",
   "execution_count": null,
   "metadata": {
    "vscode": {
     "languageId": "r"
    }
   },
   "outputs": [],
   "source": [
    "# Create better labelling for plot\n",
    "top_pathways <- data.frame(\n",
    "  pathway_id = c(\"path:map00571\", \"path:map00710\", \"path:map00020\", \"path:map00220\", \"path:map00770\",\n",
    "                 \"path:map00250\", \"path:map00260\", \"path:map04122\", \"path:map00010\"),\n",
    "  pathway_category = c(\"1.7 Glycan biosynthesis and metabolism\", \"1.2 Energy metabolism\",\n",
    "                       \"1.1 Carbohydrate metabolism\", \"1.5 Amino acid metabolism\", \n",
    "                       \"1.8 Metabolism of cofactors and vitamins\", \"1.5 Amino acid metabolism\",\n",
    "                       \"1.5 Amino acid metabolism\", \"2.3 Folding, sorting, and degradation\",\n",
    "                       \"1.1 Carbohydrate metabolism\"),\n",
    "  pathway_name = c(\"Lipoarabinomannan (LAM) biosynthesis\", \"Carbon fixation by Calvin cycle\", \n",
    "                   \"Citrate cycle (TCA cycle)\", \"Arginine biosynthesis\", \"Pantothenate and CoA biosynthesis\",\n",
    "                   \"Alanine, aspartate and glutamate metabolism\", \"Glycine, serine and threonine metabolism\",\n",
    "                   \"Sulfur relay system\", \"Gluconeogenesis\"))\n",
    "\n",
    "\n",
    "pathway_coverage_by_biosample %>%\n",
    "  bind_rows(.id = \"biosample\") %>%\n",
    "  select(biosample, pathway_id, total_coverage) %>%\n",
    "  group_by(pathway_id) %>%\n",
    "  filter(any(total_coverage > 0.5)) %>%\n",
    "  mutate(average_coverage = mean(total_coverage)) %>%\n",
    "  ungroup() %>%\n",
    "  arrange(-average_coverage) %>%\n",
    "  left_join(top_pathways, by = join_by(pathway_id)) %>%\n",
    "  mutate(pathway_name = factor(pathway_name, levels = unique(pathway_name))) %>%\n",
    "  \n",
    "  ggplot() +\n",
    "    geom_violin(aes(x = pathway_name, y = total_coverage, fill = pathway_category)) +\n",
    "    geom_jitter(aes(x = pathway_name, y = total_coverage), shape = \".\") +\n",
    "    labs(fill = \"Pathway Category\") +\n",
    "    theme(axis.text.x = element_text(angle = 40, vjust = 1, hjust=1),\n",
    "          axis.title.x = element_blank(),\n",
    "          legend.position = \"left\",\n",
    "          legend.text = element_text(size = 8))"
   ]
  },
  {
   "cell_type": "markdown",
   "metadata": {},
   "source": [
    "## 7. Investigate an example KEGG pathway\n",
    "\n",
    "The second highest coverage pathway in the plot above represents the Calvin cycle, an important process for many photosynthetic organisms. More information about this pathway can be found here: https://www.genome.jp/entry/map00710\n",
    "\n",
    "Let's calculate in how many samples each pathway element was detected."
   ]
  },
  {
   "cell_type": "code",
   "execution_count": null,
   "metadata": {
    "vscode": {
     "languageId": "r"
    }
   },
   "outputs": [],
   "source": [
    "# Select a pathway ID\n",
    "pathway_detail_id <- \"path:map00710\"\n",
    "\n",
    "# Create a vector of KO and compound IDs for the selected pathway, using the query results from earlier\n",
    "pathway_detail_elements <- c(\n",
    "  all_pathway_elements[which(all_pathway_elements$pathway_id == pathway_detail_id), 2],\n",
    "  all_pathway_elements[which(all_pathway_elements$pathway_id == pathway_detail_id), 3]) %>% \n",
    "  unlist(use.names = FALSE)\n",
    "\n",
    "# Pull out pathway elements for each sample\n",
    "pathway_detail_identifications <- vector(mode = \"list\", length = nrow(results_by_biosample))\n",
    "\n",
    "for (biosample in 1:length(pathway_detail_identifications)) {\n",
    "  \n",
    "  all_detections <- unique(c(gene_annotations_list[[biosample]]$ko_id,\n",
    "                             protein_annotations_list[[biosample]]$ko_id,\n",
    "                             metabolite_annotations_list[[biosample]]$compound_id))\n",
    "  \n",
    "  pathway_detail_identifications[[biosample]] <- data.frame(\n",
    "    biomolecules = all_detections[toupper(all_detections) %in% toupper(pathway_detail_elements)])\n",
    "}\n",
    "\n",
    "# Count how many samples each pathway biomolecule appeared in\n",
    "pathway_detail_identifications <- pathway_detail_identifications %>%\n",
    "  bind_rows(.id = \"biosample\") %>%\n",
    "  group_by(biomolecules) %>%\n",
    "  summarize(sample_frequency = n()) %>% \n",
    "  ungroup() %>%\n",
    "  # Calculate proportion of samples where the molecule was identified\n",
    "  mutate(sample_frequency = sample_frequency/length(pathway_detail_identifications)) %>%\n",
    "  # Clean up biomolecule ID format for pathview (below)\n",
    "  mutate(biomolecules = str_match(biomolecules, \":(.+)$\")[,2])\n",
    "\n",
    "pathway_detail_identifications <- pull(pathway_detail_identifications) %>%\n",
    "  setNames(pathway_detail_identifications$biomolecules)\n",
    "\n",
    "print(pathway_detail_identifications)"
   ]
  },
  {
   "cell_type": "markdown",
   "metadata": {},
   "source": [
    "We can now use the `pathview` package to generate a colored version of the KEGG pathway diagram. The call to `pathview()` takes named vectors of genes and compounds separately and will apply the given color scale to the numeric values in the vector. This is intended for expression data but here the numeric values being represented are the proportion of samples where the biomolecule was identified across our omics data.\n",
    "\n",
    "We can see that most of the rectangles on the map (KEGG renders them with EC numbers, but they each also correspond to a KO record) are highlighted in pink, showing that we found those genes in most of the samples. Most of the compounds identified were found in around half of the samples."
   ]
  },
  {
   "cell_type": "code",
   "execution_count": null,
   "metadata": {
    "vscode": {
     "languageId": "r"
    }
   },
   "outputs": [],
   "source": [
    "if(Sys.getenv(\"COLAB_BACKEND_VERSION\") != \"\") download.file(url = \"https://github.com/microbiomedata/nmdc_notebooks/blob/main/omics_types_integration/R/ko00710.pathview.png\")"
   ]
  },
  {
   "cell_type": "markdown",
   "metadata": {},
   "source": [
    "\n",
    "![KEGG pathway map with genes/compounds colored by sample appearance](ko00710.pathview.png)"
   ]
  },
  {
   "cell_type": "markdown",
   "metadata": {},
   "source": [
    "The code below, when uncommented, will generate the colored diagram and save it to the working directory."
   ]
  },
  {
   "cell_type": "code",
   "execution_count": null,
   "metadata": {
    "vscode": {
     "languageId": "r"
    }
   },
   "outputs": [],
   "source": [
    "# Save a colored KEGG pathway map to the working folder\n",
    "# pathview(\n",
    "#   gene.data = pathway_detail_identifications[which(str_detect(names(pathway_detail_identifications), \"K\"))],\n",
    "#   cpd.data = pathway_detail_identifications[which(str_detect(names(pathway_detail_identifications), \"C\"))],\n",
    "#   pathway.id = str_match(pathway_detail_id, \":map(.+)$\")[,2],\n",
    "#   species = \"ko\",\n",
    "#   kegg.native = TRUE,\n",
    "#   same.layer = TRUE,\n",
    "#   limit = list(gene = c(0, 1), cpd = c(0, 1)),\n",
    "#   bins = 14,\n",
    "#   low=list(gene=\"cadetblue\"),\n",
    "#   mid = list(gene = \"goldenrod\"),\n",
    "#   high=list(gene=\"palevioletred\"),\n",
    "#   key.align = \"y\"\n",
    "# )"
   ]
  },
  {
   "cell_type": "markdown",
   "metadata": {},
   "source": [
    "This pathway diagram summarizes gene and compound coverage across biosamples from the Columbia River, demonstrating multi-omic analyses that can be performed using data and metadata provided by the National Microbiome Data Collaborative."
   ]
  },
  {
   "cell_type": "markdown",
   "metadata": {},
   "source": [
    "## Licensing Information\n",
    "\n",
    "This notebook uses the R packages `KEGGREST` and `pathview`to interface with the KEGG API. Use of the KEGG API is restricted to academic users. Non-academic users must obtain a commercial license. (See https://www.kegg.jp/kegg/legal.html) The National Microbiome Data Collaborative maintains a paid license to use KEGG ([more information](http://reusabledata.org/kegg-ftp)). "
   ]
  },
  {
   "cell_type": "markdown",
   "metadata": {},
   "source": [
    "## Package Citations\n",
    "\n",
    "Gu Z, Gu L, Eils R, Schlesner M, Brors B (2014). “circlize implements and enhances circular visualization in R.” Bioinformatics, 30, 2811-2812.\n",
    "\n",
    "Luo, Weijun, Brouwer, Cory (2013). “Pathview: an R/Bioconductor package for pathway-based data integration and visualization.” Bioinformatics, 29(14), 1830-1831. doi:10.1093/bioinformatics/btt285.\n",
    "\n",
    "Tenenbaum D, Maintainer B (2024). KEGGREST: Client-side REST access to the Kyoto Encyclopedia of Genes and Genomes (KEGG). R package version 1.46.0, https://bioconductor.org/packages/KEGGREST.\n"
   ]
  }
 ],
 "metadata": {
  "kernelspec": {
   "display_name": "R",
   "language": "R",
   "name": "kernelspec"
  },
  "language_info": {
   "codemirror_mode": "r",
   "file_extension": ".r",
   "mimetype": "text/x-r-source",
   "name": "R",
   "pygments_lexer": "r",
   "version": "4.4.1"
  }
 },
 "nbformat": 4,
 "nbformat_minor": 2
}
