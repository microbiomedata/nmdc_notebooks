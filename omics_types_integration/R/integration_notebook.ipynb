{
 "cells": [
  {
   "cell_type": "markdown",
   "metadata": {},
   "source": [
    "# How can different types of omics data in the NMDC database be related?\n",
    "\n",
    "This notebook is an example of how different omics data types may be linked via commonly used annotation vocabularies and investigated together. In this notebook we explore biomolecules and KEGG pathways identified in a set of samples that have processed metagenomic, metaproteomics, and metabolomics data available in the NMDC Data Portal.\n",
    "\n",
    "NOTE: This notebook uses the KEGGREST R package to interface with the KEGG API. Use of the KEGG API and KEGGREST is restricted to academic users. Non-academic users must obtain a commercial license. (See https://www.kegg.jp/kegg/legal.html) The National Microbiome Data Collaborative use of KEGG is covered by license (license information)."
   ]
  },
  {
   "cell_type": "code",
   "execution_count": 1,
   "metadata": {
    "metadata": {},
    "vscode": {
     "languageId": "r"
    }
   },
   "outputs": [],
   "source": [
    ".libPaths(c(.libPaths(), \"../../renv/library/*/R-*/*\"))\n",
    "suppressPackageStartupMessages({\n",
    "library(dplyr, warn.conflicts = FALSE)\n",
    "library(tidyr, warn.conflicts = FALSE)\n",
    "library(stringr, warn.conflicts = FALSE)\n",
    "library(readr, warn.conflicts = FALSE)\n",
    "library(ggplot2, warn.conflicts = FALSE)\n",
    "library(jsonlite)\n",
    "library(KEGGREST)\n",
    "library(httr)\n",
    "library(circlize)\n",
    "})"
   ]
  },
  {
   "cell_type": "markdown",
   "metadata": {},
   "source": [
    "## 1. Retrieve data from the NMDC database using API endpoints\n",
    "\n",
    "### Choose data to retrieve\n",
    "\n",
    "The NMDC data portal (https://data.microbiomedata.org/) allow us to filter data and samples according to many criteria. In this case, we use the Data Type filters (upset plot) to identify samples that have metagenomics, metaproteomics, and metabolomics data. This returns 33 samples from the study \"Riverbed sediment microbial communities from the Columbia River, Washington, USA\" (https://data.microbiomedata.org/details/study/nmdc:sty-11-aygzgv51).\n",
    "\n",
    "### Retrieve and filter data for Columbia River sediment study\n",
    "\n",
    "The study page linked above has the NMDC study identifier in the URL: `nmdc:sty-11-aygzgv51`. We will use the function `get_data_objects_for_study` (defined in `utility_functions.R`) to retrieve all records that represent data. This includes raw data files (e.g. FASTQ or mass spectra files) as well as processed data results output by the NMDC workflows.\n"
   ]
  },
  {
   "cell_type": "code",
   "execution_count": 2,
   "metadata": {
    "metadata": {},
    "vscode": {
     "languageId": "r"
    }
   },
   "outputs": [],
   "source": [
    "# Retrieve all data objects associated with this study\n",
    "\n",
    "# TODO: merge in R script PR so that this call can use the function I wrote for it\n",
    "dobj <- jsonlite::fromJSON('https://api.microbiomedata.org/data_objects/study/nmdc%3Asty-11-aygzgv51') %>% \n",
    "  unnest(cols = c(data_objects))"
   ]
  },
  {
   "cell_type": "markdown",
   "metadata": {},
   "source": [
    "In this case, we want to look at the processed data results for our three omics types of interest. Specifically, we want the files containing KEGG Orthology and Enzyme Commission annotations. \n",
    "\n",
    "One way of further identifying a NMDC `DataObject` record is by looking at its slot `data_object_type` (https://microbiomedata.github.io/nmdc-schema/data_object_type/), which contains a value from `FileTypeEnum` (https://microbiomedata.github.io/nmdc-schema/FileTypeEnum/). Based on the descriptions of `FileTypeEnum` permissible values we want to filter for results files with the following `data_object_type` values:\n",
    "\n",
    "| Value | Description |\n",
    "|:-----:|:-----------:|\n",
    "|Annotation Enzyme Commission|Tab delimited file for EC annotation|\n",
    "|Annotation KEGG Orthology|Tab delimited file for KO annotation|\n",
    "|GC-MS Metabolomics Results|GC-MS-based metabolite assignment results table|\n",
    "|Protein Report|Filtered protein report file|"
   ]
  },
  {
   "cell_type": "code",
   "execution_count": 3,
   "metadata": {
    "metadata": {},
    "vscode": {
     "languageId": "r"
    }
   },
   "outputs": [],
   "source": [
    "dobj <- dobj %>%\n",
    "  # Filter to biosamples with metagenome EC annotations, metagenome KO \n",
    "  # annotations, metaproteomics results, and metabolomics results\n",
    "  group_by(biosample_id) %>%\n",
    "  filter(\"Annotation Enzyme Commission\" %in% data_object_type &\n",
    "           \"Annotation KEGG Orthology\" %in% data_object_type & \n",
    "           \"GC-MS Metabolomics Results\" %in% data_object_type &\n",
    "           \"Protein Report\" %in% data_object_type) %>%\n",
    "  ungroup() %>%\n",
    "  \n",
    "  # Remove uninformative columns for simpler dataframe\n",
    "  select(-c(alternative_identifiers, in_manifest, was_generated_by))"
   ]
  },
  {
   "cell_type": "markdown",
   "metadata": {},
   "source": [
    "### Download selected results files\n",
    " \n",
    "Now we can use the `url` slot from the filtered `DataObject` records to read in all of the files containing the annotations of interest."
   ]
  },
  {
   "cell_type": "code",
   "execution_count": 4,
   "metadata": {
    "metadata": {},
    "vscode": {
     "languageId": "r"
    }
   },
   "outputs": [],
   "source": [
    "results_by_biosample <- dobj %>%\n",
    "  \n",
    "  # Filter to desired results file types and create one URL column per type\n",
    "  filter(data_object_type %in% c(\"Annotation Enzyme Commission\", \"Annotation KEGG Orthology\",\n",
    "                                 \"GC-MS Metabolomics Results\", \"Protein Report\")) %>%\n",
    "  select(biosample_id, data_object_type, url) %>%\n",
    "  pivot_wider(names_from = data_object_type, values_from = url) %>%\n",
    "  \n",
    "  # Read in the TSV/CSV results files\n",
    "  # Add in column names from the IMG genome download README\n",
    "  mutate(metag_ec_results = lapply(\n",
    "    .$`Annotation Enzyme Commission`, \n",
    "    function(x) { \n",
    "      d <- read_tsv(x, col_names = FALSE, show_col_types = FALSE)\n",
    "      names(d) <- c(\"gene_id\", \"img_ko_flag\", \"EC\", \"percent_identity\",\n",
    "                    \"query_start\", \"query_end\", \"subj_start\", \"subj_end\",\n",
    "                    \"evalue\", \"bit_score\", \"align_length\")\n",
    "      d\n",
    "      })) %>%\n",
    "  \n",
    "  mutate(metag_ko_results = lapply(\n",
    "    .$`Annotation KEGG Orthology`, \n",
    "    function(x) { \n",
    "      d <- read_tsv(x, col_names = FALSE, show_col_types = FALSE)\n",
    "      names(d) <- c(\"gene_id\", \"img_ko_flag\", \"ko_term\", \"percent_identity\",\n",
    "                    \"query_start\", \"query_end\", \"subj_start\", \"subj_end\",\n",
    "                    \"evalue\", \"bit_score\", \"align_length\")\n",
    "      d\n",
    "      })) %>%\n",
    "\n",
    "  mutate(metap_results = lapply(.$`Protein Report`, read_tsv, col_names = TRUE, show_col_types = FALSE)) %>%\n",
    "  mutate(metab_results = lapply(.$`GC-MS Metabolomics Results`, read_csv, col_names = TRUE, show_col_types = FALSE))"
   ]
  },
  {
   "cell_type": "markdown",
   "metadata": {},
   "source": [
    "\n",
    "Each of the downloaded data files contains lots of information including the KO, EC, or KEGG Compound identifiers."
   ]
  },
  {
   "cell_type": "code",
   "execution_count": 5,
   "metadata": {
    "metadata": {},
    "vscode": {
     "languageId": "r"
    }
   },
   "outputs": [
    {
     "data": {
      "text/html": [
       "<table class=\"dataframe\">\n",
       "<caption>A tibble: 6 × 11</caption>\n",
       "<thead>\n",
       "\t<tr><th scope=col>gene_id</th><th scope=col>img_ko_flag</th><th scope=col>ko_term</th><th scope=col>percent_identity</th><th scope=col>query_start</th><th scope=col>query_end</th><th scope=col>subj_start</th><th scope=col>subj_end</th><th scope=col>evalue</th><th scope=col>bit_score</th><th scope=col>align_length</th></tr>\n",
       "\t<tr><th scope=col>&lt;chr&gt;</th><th scope=col>&lt;dbl&gt;</th><th scope=col>&lt;chr&gt;</th><th scope=col>&lt;dbl&gt;</th><th scope=col>&lt;dbl&gt;</th><th scope=col>&lt;dbl&gt;</th><th scope=col>&lt;dbl&gt;</th><th scope=col>&lt;dbl&gt;</th><th scope=col>&lt;dbl&gt;</th><th scope=col>&lt;dbl&gt;</th><th scope=col>&lt;dbl&gt;</th></tr>\n",
       "</thead>\n",
       "<tbody>\n",
       "\t<tr><td>nmdc:wfmgan-11-z0q72297.1_000001_7_501    </td><td>2999021309</td><td>KO:K09129</td><td>96.95</td><td> 1</td><td>164</td><td>  1</td><td>164</td><td>1.2e-113</td><td>370</td><td>164</td></tr>\n",
       "\t<tr><td>nmdc:wfmgan-11-z0q72297.1_000001_822_2396 </td><td>2999016232</td><td>KO:K08482</td><td>57.28</td><td> 1</td><td>522</td><td> 17</td><td>536</td><td>1.4e-211</td><td>685</td><td>522</td></tr>\n",
       "\t<tr><td>nmdc:wfmgan-11-z0q72297.1_000001_2919_3773</td><td>2999016149</td><td>KO:K07652</td><td>45.16</td><td>15</td><td>267</td><td>512</td><td>790</td><td> 1.8e-71</td><td>260</td><td>253</td></tr>\n",
       "\t<tr><td>nmdc:wfmgan-11-z0q72297.1_000001_8181_8969</td><td>2999039711</td><td>KO:K07238</td><td>80.84</td><td> 2</td><td>262</td><td> 32</td><td>291</td><td>5.4e-144</td><td>466</td><td>261</td></tr>\n",
       "\t<tr><td>nmdc:wfmgan-11-z0q72297.1_000002_2920_3669</td><td>2999021898</td><td>KO:K07090</td><td>80.97</td><td> 3</td><td>249</td><td>  1</td><td>247</td><td>6.7e-141</td><td>456</td><td>247</td></tr>\n",
       "\t<tr><td>nmdc:wfmgan-11-z0q72297.1_000002_5075_5563</td><td>2999019508</td><td>KO:K04750</td><td>75.64</td><td> 3</td><td>158</td><td>  2</td><td>157</td><td> 9.2e-84</td><td>284</td><td>156</td></tr>\n",
       "</tbody>\n",
       "</table>\n"
      ],
      "text/latex": [
       "A tibble: 6 × 11\n",
       "\\begin{tabular}{lllllllllll}\n",
       " gene\\_id & img\\_ko\\_flag & ko\\_term & percent\\_identity & query\\_start & query\\_end & subj\\_start & subj\\_end & evalue & bit\\_score & align\\_length\\\\\n",
       " <chr> & <dbl> & <chr> & <dbl> & <dbl> & <dbl> & <dbl> & <dbl> & <dbl> & <dbl> & <dbl>\\\\\n",
       "\\hline\n",
       "\t nmdc:wfmgan-11-z0q72297.1\\_000001\\_7\\_501     & 2999021309 & KO:K09129 & 96.95 &  1 & 164 &   1 & 164 & 1.2e-113 & 370 & 164\\\\\n",
       "\t nmdc:wfmgan-11-z0q72297.1\\_000001\\_822\\_2396  & 2999016232 & KO:K08482 & 57.28 &  1 & 522 &  17 & 536 & 1.4e-211 & 685 & 522\\\\\n",
       "\t nmdc:wfmgan-11-z0q72297.1\\_000001\\_2919\\_3773 & 2999016149 & KO:K07652 & 45.16 & 15 & 267 & 512 & 790 &  1.8e-71 & 260 & 253\\\\\n",
       "\t nmdc:wfmgan-11-z0q72297.1\\_000001\\_8181\\_8969 & 2999039711 & KO:K07238 & 80.84 &  2 & 262 &  32 & 291 & 5.4e-144 & 466 & 261\\\\\n",
       "\t nmdc:wfmgan-11-z0q72297.1\\_000002\\_2920\\_3669 & 2999021898 & KO:K07090 & 80.97 &  3 & 249 &   1 & 247 & 6.7e-141 & 456 & 247\\\\\n",
       "\t nmdc:wfmgan-11-z0q72297.1\\_000002\\_5075\\_5563 & 2999019508 & KO:K04750 & 75.64 &  3 & 158 &   2 & 157 &  9.2e-84 & 284 & 156\\\\\n",
       "\\end{tabular}\n"
      ],
      "text/markdown": [
       "\n",
       "A tibble: 6 × 11\n",
       "\n",
       "| gene_id &lt;chr&gt; | img_ko_flag &lt;dbl&gt; | ko_term &lt;chr&gt; | percent_identity &lt;dbl&gt; | query_start &lt;dbl&gt; | query_end &lt;dbl&gt; | subj_start &lt;dbl&gt; | subj_end &lt;dbl&gt; | evalue &lt;dbl&gt; | bit_score &lt;dbl&gt; | align_length &lt;dbl&gt; |\n",
       "|---|---|---|---|---|---|---|---|---|---|---|\n",
       "| nmdc:wfmgan-11-z0q72297.1_000001_7_501     | 2999021309 | KO:K09129 | 96.95 |  1 | 164 |   1 | 164 | 1.2e-113 | 370 | 164 |\n",
       "| nmdc:wfmgan-11-z0q72297.1_000001_822_2396  | 2999016232 | KO:K08482 | 57.28 |  1 | 522 |  17 | 536 | 1.4e-211 | 685 | 522 |\n",
       "| nmdc:wfmgan-11-z0q72297.1_000001_2919_3773 | 2999016149 | KO:K07652 | 45.16 | 15 | 267 | 512 | 790 |  1.8e-71 | 260 | 253 |\n",
       "| nmdc:wfmgan-11-z0q72297.1_000001_8181_8969 | 2999039711 | KO:K07238 | 80.84 |  2 | 262 |  32 | 291 | 5.4e-144 | 466 | 261 |\n",
       "| nmdc:wfmgan-11-z0q72297.1_000002_2920_3669 | 2999021898 | KO:K07090 | 80.97 |  3 | 249 |   1 | 247 | 6.7e-141 | 456 | 247 |\n",
       "| nmdc:wfmgan-11-z0q72297.1_000002_5075_5563 | 2999019508 | KO:K04750 | 75.64 |  3 | 158 |   2 | 157 |  9.2e-84 | 284 | 156 |\n",
       "\n"
      ],
      "text/plain": [
       "  gene_id                                    img_ko_flag ko_term  \n",
       "1 nmdc:wfmgan-11-z0q72297.1_000001_7_501     2999021309  KO:K09129\n",
       "2 nmdc:wfmgan-11-z0q72297.1_000001_822_2396  2999016232  KO:K08482\n",
       "3 nmdc:wfmgan-11-z0q72297.1_000001_2919_3773 2999016149  KO:K07652\n",
       "4 nmdc:wfmgan-11-z0q72297.1_000001_8181_8969 2999039711  KO:K07238\n",
       "5 nmdc:wfmgan-11-z0q72297.1_000002_2920_3669 2999021898  KO:K07090\n",
       "6 nmdc:wfmgan-11-z0q72297.1_000002_5075_5563 2999019508  KO:K04750\n",
       "  percent_identity query_start query_end subj_start subj_end evalue   bit_score\n",
       "1 96.95             1          164         1        164      1.2e-113 370      \n",
       "2 57.28             1          522        17        536      1.4e-211 685      \n",
       "3 45.16            15          267       512        790       1.8e-71 260      \n",
       "4 80.84             2          262        32        291      5.4e-144 466      \n",
       "5 80.97             3          249         1        247      6.7e-141 456      \n",
       "6 75.64             3          158         2        157       9.2e-84 284      \n",
       "  align_length\n",
       "1 164         \n",
       "2 522         \n",
       "3 253         \n",
       "4 261         \n",
       "5 247         \n",
       "6 156         "
      ]
     },
     "metadata": {},
     "output_type": "display_data"
    }
   ],
   "source": [
    "\n",
    "# View a snippet of the metagenome KEGG Orthology annotations file\n",
    "head(results_by_biosample$metag_ko_results[[1]])"
   ]
  },
  {
   "cell_type": "markdown",
   "metadata": {},
   "source": [
    "From each results table we can extract the unique list of genes/proteins/metabolites identified in that sample."
   ]
  },
  {
   "cell_type": "code",
   "execution_count": 6,
   "metadata": {
    "metadata": {},
    "vscode": {
     "languageId": "r"
    }
   },
   "outputs": [],
   "source": [
    "# Metagenome annotations - Enzyme Commission\n",
    "metag_ec_unique_df <- results_by_biosample %>%\n",
    "  distinct(biosample_id, .keep_all = TRUE) %>%\n",
    "\n",
    "  # Save a unique vector of annotations by type for each sample for searching later\n",
    "  mutate(metag_ec_unique = lapply(.$metag_ec_results, \n",
    "                                  FUN = function(x) { sort(unique(x$EC)) })) %>%\n",
    "  select(biosample_id, metag_ec_results, metag_ec_unique)\n",
    "\n",
    "\n",
    "\n",
    "# Metagenome annotations - KEGG Orthology\n",
    "metag_ko_unique_df <- results_by_biosample %>%\n",
    "  distinct(biosample_id, .keep_all = TRUE) %>%\n",
    "\n",
    "  # Save a unique vector of annotations by type for each sample for searching later\n",
    "  mutate(metag_ko_unique = lapply(.$metag_ko_results, \n",
    "                                  FUN = function(x) { sort(unique(x$ko_term)) })) %>%\n",
    "  select(biosample_id, metag_ko_results, metag_ko_unique)\n",
    "\n",
    "\n",
    "\n",
    "# Metaproteome annotations - Enzyme Commission\n",
    "metap_ec_unique_df <- results_by_biosample %>%\n",
    "  distinct(biosample_id, .keep_all = TRUE) %>%\n",
    "\n",
    "  # Save a unique vector of annotations by type for each sample for searching later\n",
    "  mutate(metap_ec_unique = lapply(\n",
    "    .$metap_results, \n",
    "    FUN = function(x) { sort(unique(x$EC_Number)) %>% strsplit(\",\") %>% unlist() })) %>%\n",
    "  select(biosample_id, metap_results, metap_ec_unique)\n",
    "\n",
    "\n",
    "\n",
    "# Metabolome annotations - KEGG Compound\n",
    "metab_ko_unique_df <- results_by_biosample %>%\n",
    "  distinct(biosample_id, .keep_all = TRUE) %>%\n",
    "\n",
    "  # Save a unique vector of annotations by type for each sample for searching later\n",
    "  mutate(metab_ko_unique = lapply(.$metab_results, \n",
    "                                  FUN = function(x) { sort(unique(x$`Kegg Compound ID`)) })) %>%\n",
    "  select(biosample_id, metab_results, metab_ko_unique)\n",
    "\n",
    "\n",
    "# rm(results_by_biosample)"
   ]
  },
  {
   "cell_type": "markdown",
   "metadata": {},
   "source": [
    "## 2. Get IDs from other KEGG databases\n",
    "\n",
    "Now we will use the KEGGREST package (available on Bioconductor) to make calls to the KEGG API. Using the annotations provided in the workflow results, we can look up the corresponding annotations in other KEGG databases to start drawing connections between biomolecule identifications.\n",
    "\n",
    "### Gather metabolite information\n",
    "\n",
    "First we will find all of the Enzyme Commission numbers available for each identified compound. These EC numbers represent enzymes involved in recorded reactions that produce the compound of interest.\n",
    "Then we will do the same to pull all of the modules and pathways that each compound is a part of. KEGG modules are functional units of gene sets and KEGG Pathways are manually drawn maps that represent known molecular interactions for biologically interesting processes. Later we will use the module and pathway IDs to see where our identified biomolecules are involved."
   ]
  },
  {
   "cell_type": "code",
   "execution_count": 7,
   "metadata": {
    "vscode": {
     "languageId": "r"
    }
   },
   "outputs": [
    {
     "ename": "ERROR",
     "evalue": "Error in eval(expr, envir, enclos): object 'metab_ko_unique' not found\n",
     "output_type": "error",
     "traceback": [
      "Error in eval(expr, envir, enclos): object 'metab_ko_unique' not found\nTraceback:\n",
      "1. data.frame(compound_id = paste0(\"cpd:\", metab_ko_unique)) %>% \n .     left_join(ec_from_metabolites) %>% left_join(modules_from_metabolites) %>% \n .     left_join(pathways_from_metabolites) %>% mutate(compound_trimmed = substring(compound_id, \n .     5)) %>% mutate(In_Metag_Annotations = vapply(.$ec_id, function(x) {\n .     any(x$ec_id %in% tolower(metag_ec_unique_df$metag_ec_unique[[biosample]]))\n . }, FUN.VALUE = TRUE)) %>% mutate(In_Prot_Annotations = vapply(.$ec_id, \n .     function(x) {\n .         any(x$ec_id %in% tolower(metap_ec_unique_df$metap_ec_unique[[biosample]]))\n .     }, FUN.VALUE = TRUE))",
      "2. mutate(., In_Prot_Annotations = vapply(.$ec_id, function(x) {\n .     any(x$ec_id %in% tolower(metap_ec_unique_df$metap_ec_unique[[biosample]]))\n . }, FUN.VALUE = TRUE))",
      "3. mutate(., In_Metag_Annotations = vapply(.$ec_id, function(x) {\n .     any(x$ec_id %in% tolower(metag_ec_unique_df$metag_ec_unique[[biosample]]))\n . }, FUN.VALUE = TRUE))",
      "4. mutate(., compound_trimmed = substring(compound_id, 5))",
      "5. left_join(., pathways_from_metabolites)",
      "6. left_join(., modules_from_metabolites)",
      "7. left_join(., ec_from_metabolites)",
      "8. data.frame(compound_id = paste0(\"cpd:\", metab_ko_unique))",
      "9. paste0(\"cpd:\", metab_ko_unique)"
     ]
    }
   ],
   "source": [
    "# For each sample, assemble a dataframe of metabolite information\n",
    "\n",
    "# Pre-allocate an empty list for metabolite dataframes\n",
    "metabolite_annotations_list <- vector(mode = \"list\", length = length(metab_ko_unique_df$biosample_id))\n",
    "\n",
    "for (biosample in 1:length(metab_ko_unique_df$biosample_id)) {\n",
    "\n",
    "  unique_metabolites <- metab_ko_unique_df$metab_ko_unique[[biosample]]\n",
    "\n",
    "  # Get EC ids for each metabolite\n",
    "  ec_from_metabolites <- keggLink(\"enzyme\", unique_metabolites)\n",
    "\n",
    "  ec_from_metabolites <- data.frame(compound_id = names(ec_from_metabolites),\n",
    "                                    ec_id = ec_from_metabolites) %>%\n",
    "    nest(.by = compound_id, .key = \"ec_id\")\n",
    "\n",
    "  # Get modules for each metabolite\n",
    "  modules_from_metabolites <- keggLink(\"module\", unique_metabolites)\n",
    "\n",
    "  modules_from_metabolites <- data.frame(compound_id = names(modules_from_metabolites),\n",
    "                                        module_id = modules_from_metabolites) %>%\n",
    "    nest(.by = compound_id, .key = \"module_id\")\n",
    "\n",
    "\n",
    "  # Get pathways for each metabolite\n",
    "  pathways_from_metabolites <- keggLink(\"pathway\", unique_metabolites)\n",
    "\n",
    "  pathways_from_metabolites <- data.frame(compound_id = names(pathways_from_metabolites),\n",
    "                                          pathway_id = pathways_from_metabolites) %>%\n",
    "    nest(.by = compound_id, .key = \"pathway_id\")\n",
    "\n",
    "  # Join compound, EC, module, pathway IDs into one dataframe\n",
    "  metabolite_annotations <- data.frame(compound_id = paste0(\"cpd:\", metab_ko_unique)) %>%\n",
    "    left_join(ec_from_metabolites) %>%\n",
    "    left_join(modules_from_metabolites) %>%\n",
    "    left_join(pathways_from_metabolites) %>%\n",
    "    mutate(compound_trimmed = substring(compound_id, 5)) %>%\n",
    "    \n",
    "    # Search for the EC IDs in the unique identification lists \n",
    "    # for the other biomolecules in this sample\n",
    "    mutate(In_Metag_Annotations = vapply(.$ec_id, function(x) { any(x$ec_id %in% tolower(metag_ec_unique_df$metag_ec_unique[[biosample]])) },\n",
    "                            FUN.VALUE = TRUE)) %>%\n",
    "    mutate(In_Prot_Annotations = vapply(.$ec_id, function(x) { any(x$ec_id %in% tolower(metap_ec_unique_df$metap_ec_unique[[biosample]])) },\n",
    "                            FUN.VALUE = TRUE))\n",
    "\n",
    "  # Save dataframe to list\n",
    "  metabolite_annotations_list[[biosample]] <- metabolite_annotations\n",
    "}"
   ]
  }
 ],
 "metadata": {
  "kernelspec": {
   "display_name": "R",
   "language": "R",
   "name": "kernelspec"
  },
  "language_info": {
   "codemirror_mode": "r",
   "file_extension": ".r",
   "mimetype": "text/x-r-source",
   "name": "R",
   "pygments_lexer": "r",
   "version": "4.4.1"
  }
 },
 "nbformat": 4,
 "nbformat_minor": 2
}
