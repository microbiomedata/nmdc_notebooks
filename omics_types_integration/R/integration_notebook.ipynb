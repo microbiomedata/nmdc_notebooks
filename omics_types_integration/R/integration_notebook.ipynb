{
 "cells": [
  {
   "cell_type": "markdown",
   "metadata": {},
   "source": [
    "# How can different types of omics data in the NMDC database be related?\n",
    "\n",
    "This notebook is an example of how different omics data types may be linked via commonly used annotation vocabularies and investigated together. In this notebook we explore biomolecules and KEGG pathways identified in a set of samples that have processed metagenomic, metaproteomics, and metabolomics data available in the NMDC Data Portal.\n",
    "\n",
    "NOTE: This notebook uses the KEGGREST R package to interface with the KEGG API. Use of the KEGG API and KEGGREST is restricted to academic users. Non-academic users must obtain a commercial license. (See https://www.kegg.jp/kegg/legal.html) The National Microbiome Data Collaborative use of KEGG is covered by license (license information)."
   ]
  },
  {
   "cell_type": "code",
   "execution_count": null,
   "metadata": {
    "metadata": {},
    "vscode": {
     "languageId": "r"
    }
   },
   "outputs": [],
   "source": [
    ".libPaths(c(.libPaths(), \"../../renv/library/*/R-*/*\"))\n",
    "suppressPackageStartupMessages({\n",
    "library(dplyr, warn.conflicts = FALSE)\n",
    "library(tidyr, warn.conflicts = FALSE)\n",
    "library(stringr, warn.conflicts = FALSE)\n",
    "library(readr, warn.conflicts = FALSE)\n",
    "library(ggplot2, warn.conflicts = FALSE)\n",
    "library(jsonlite)\n",
    "library(KEGGREST)\n",
    "library(httr)\n",
    "library(circlize)\n",
    "})"
   ]
  },
  {
   "cell_type": "markdown",
   "metadata": {},
   "source": [
    "## 1. Retrieve data from the NMDC database using API endpoints\n",
    "\n",
    "### Choose data to retrieve\n",
    "\n",
    "The NMDC data portal (https://data.microbiomedata.org/) allow us to filter data and samples according to many criteria. In this case, we use the Data Type filters (upset plot) to identify samples that have metagenomics, metaproteomics, and metabolomics data. This returns 33 samples from the study \"Riverbed sediment microbial communities from the Columbia River, Washington, USA\" (https://data.microbiomedata.org/details/study/nmdc:sty-11-aygzgv51).\n",
    "\n",
    "### Retrieve and filter data for Columbia River sediment study\n",
    "\n",
    "The study page linked above has the NMDC study identifier in the URL: `nmdc:sty-11-aygzgv51`. We will use the function `get_data_objects_for_study` (defined in `utility_functions.R`) to retrieve all records that represent data. This includes raw data files (e.g. FASTQ or mass spectra files) as well as processed data results output by the NMDC workflows.\n"
   ]
  },
  {
   "cell_type": "code",
   "execution_count": null,
   "metadata": {
    "metadata": {},
    "vscode": {
     "languageId": "r"
    }
   },
   "outputs": [],
   "source": [
    "# Retrieve all data objects associated with this study\n",
    "\n",
    "# TODO: merge in R script PR so that this call can use the function I wrote for it\n",
    "dobj <- jsonlite::fromJSON('https://api.microbiomedata.org/data_objects/study/nmdc%3Asty-11-aygzgv51') %>% \n",
    "  unnest(cols = c(data_objects))"
   ]
  },
  {
   "cell_type": "markdown",
   "metadata": {},
   "source": [
    "In this case, we want to look at the processed data results for our three omics types of interest. Specifically, we want the files containing KEGG Orthology and Enzyme Commission annotations. \n",
    "\n",
    "One way of further identifying a NMDC `DataObject` record is by looking at its slot `data_object_type` (https://microbiomedata.github.io/nmdc-schema/data_object_type/), which contains a value from `FileTypeEnum` (https://microbiomedata.github.io/nmdc-schema/FileTypeEnum/). Based on the descriptions of `FileTypeEnum` permissible values we want to filter for results files with the following `data_object_type` values:\n",
    "\n",
    "| Value | Description |\n",
    "|:-----:|:-----------:|\n",
    "|Annotation Enzyme Commission|Tab delimited file for EC annotation|\n",
    "|Annotation KEGG Orthology|Tab delimited file for KO annotation|\n",
    "|GC-MS Metabolomics Results|GC-MS-based metabolite assignment results table|\n",
    "|Protein Report|Filtered protein report file|"
   ]
  },
  {
   "cell_type": "code",
   "execution_count": null,
   "metadata": {
    "metadata": {},
    "vscode": {
     "languageId": "r"
    }
   },
   "outputs": [],
   "source": [
    "dobj <- dobj %>%\n",
    "  # Filter to biosamples with metagenome EC annotations, metagenome KO \n",
    "  # annotations, metaproteomics results, and metabolomics results\n",
    "  group_by(biosample_id) %>%\n",
    "  filter(\"Annotation Enzyme Commission\" %in% data_object_type &\n",
    "           \"Annotation KEGG Orthology\" %in% data_object_type & \n",
    "           \"GC-MS Metabolomics Results\" %in% data_object_type &\n",
    "           \"Protein Report\" %in% data_object_type) %>%\n",
    "  ungroup() %>%\n",
    "  \n",
    "  # Remove uninformative columns for simpler dataframe\n",
    "  select(-c(alternative_identifiers, in_manifest, was_generated_by))"
   ]
  },
  {
   "cell_type": "markdown",
   "metadata": {},
   "source": [
    "### Download selected results files\n",
    " \n",
    "Now we can use the `url` slot from the filtered `DataObject` records to read in all of the files containing the annotations of interest."
   ]
  },
  {
   "cell_type": "code",
   "execution_count": null,
   "metadata": {
    "metadata": {},
    "vscode": {
     "languageId": "r"
    }
   },
   "outputs": [],
   "source": [
    "results_by_biosample <- dobj %>%\n",
    "  \n",
    "  # Filter to desired results file types and create one URL column per type\n",
    "  filter(data_object_type %in% c(\"Annotation Enzyme Commission\", \"Annotation KEGG Orthology\",\n",
    "                                 \"GC-MS Metabolomics Results\", \"Protein Report\")) %>%\n",
    "  select(biosample_id, data_object_type, url) %>%\n",
    "  pivot_wider(names_from = data_object_type, values_from = url) %>%\n",
    "  \n",
    "  # Read in the TSV/CSV results files\n",
    "  # Add in column names from the IMG genome download README\n",
    "  mutate(metag_ec_results = lapply(\n",
    "    .$`Annotation Enzyme Commission`, \n",
    "    function(x) { \n",
    "      d <- read_tsv(x, col_names = FALSE, show_col_types = FALSE)\n",
    "      names(d) <- c(\"gene_id\", \"img_ko_flag\", \"EC\", \"percent_identity\",\n",
    "                    \"query_start\", \"query_end\", \"subj_start\", \"subj_end\",\n",
    "                    \"evalue\", \"bit_score\", \"align_length\")\n",
    "      d\n",
    "      })) %>%\n",
    "  \n",
    "  mutate(metag_ko_results = lapply(\n",
    "    .$`Annotation KEGG Orthology`, \n",
    "    function(x) { \n",
    "      d <- read_tsv(x, col_names = FALSE, show_col_types = FALSE)\n",
    "      names(d) <- c(\"gene_id\", \"img_ko_flag\", \"ko_term\", \"percent_identity\",\n",
    "                    \"query_start\", \"query_end\", \"subj_start\", \"subj_end\",\n",
    "                    \"evalue\", \"bit_score\", \"align_length\")\n",
    "      d\n",
    "      })) %>%\n",
    "\n",
    "  mutate(metap_results = lapply(.$`Protein Report`, read_tsv, col_names = TRUE, show_col_types = FALSE)) %>%\n",
    "  mutate(metab_results = lapply(.$`GC-MS Metabolomics Results`, read_csv, col_names = TRUE, show_col_types = FALSE))"
   ]
  },
  {
   "cell_type": "markdown",
   "metadata": {},
   "source": [
    "\n",
    "Each of the downloaded data files contains lots of information including the KO, EC, or KEGG Compound identifiers."
   ]
  },
  {
   "cell_type": "code",
   "execution_count": null,
   "metadata": {
    "metadata": {},
    "vscode": {
     "languageId": "r"
    }
   },
   "outputs": [],
   "source": [
    "\n",
    "# View a snippet of the metagenome KEGG Orthology annotations file\n",
    "head(results_by_biosample$metag_ko_results[[1]])"
   ]
  },
  {
   "cell_type": "markdown",
   "metadata": {},
   "source": [
    "From each results table we can extract the unique list of genes/proteins/metabolites identified in that sample."
   ]
  },
  {
   "cell_type": "code",
   "execution_count": null,
   "metadata": {
    "metadata": {},
    "vscode": {
     "languageId": "r"
    }
   },
   "outputs": [],
   "source": [
    "# Metagenome annotations - Enzyme Commission\n",
    "metag_ec_unique_df <- results_by_biosample %>%\n",
    "  distinct(biosample_id, .keep_all = TRUE) %>%\n",
    "\n",
    "  # Save a unique vector of annotations by type for each sample for searching later\n",
    "  mutate(metag_ec_unique = lapply(.$metag_ec_results, \n",
    "                                  FUN = function(x) { sort(unique(x$EC)) })) %>%\n",
    "  select(biosample_id, metag_ec_results, metag_ec_unique)\n",
    "\n",
    "\n",
    "\n",
    "# Metagenome annotations - KEGG Orthology\n",
    "metag_ko_unique_df <- results_by_biosample %>%\n",
    "  distinct(biosample_id, .keep_all = TRUE) %>%\n",
    "\n",
    "  # Save a unique vector of annotations by type for each sample for searching later\n",
    "  mutate(metag_ko_unique = lapply(.$metag_ko_results, \n",
    "                                  FUN = function(x) { sort(unique(x$ko_term)) })) %>%\n",
    "  select(biosample_id, metag_ko_results, metag_ko_unique)\n",
    "\n",
    "\n",
    "\n",
    "# Metaproteome annotations - Enzyme Commission\n",
    "metap_ec_unique_df <- results_by_biosample %>%\n",
    "  distinct(biosample_id, .keep_all = TRUE) %>%\n",
    "\n",
    "  # Save a unique vector of annotations by type for each sample for searching later\n",
    "  mutate(metap_ec_unique = lapply(\n",
    "    .$metap_results, \n",
    "    FUN = function(x) { sort(unique(x$EC_Number)) %>% strsplit(\",\") %>% unlist() })) %>%\n",
    "  select(biosample_id, metap_results, metap_ec_unique)\n",
    "\n",
    "\n",
    "\n",
    "# Metabolome annotations - KEGG Compound\n",
    "metab_ko_unique_df <- results_by_biosample %>%\n",
    "  distinct(biosample_id, .keep_all = TRUE) %>%\n",
    "\n",
    "  # Save a unique vector of annotations by type for each sample for searching later\n",
    "  mutate(metab_ko_unique = lapply(.$metab_results, \n",
    "                                  FUN = function(x) { sort(unique(x$`Kegg Compound ID`)) })) %>%\n",
    "  select(biosample_id, metab_results, metab_ko_unique)\n",
    "\n",
    "\n",
    "# rm(results_by_biosample)"
   ]
  },
  {
   "cell_type": "markdown",
   "metadata": {},
   "source": [
    "## 2. Get IDs from other KEGG databases\n",
    "\n",
    "Now we will use the KEGGREST package (available on Bioconductor) to make calls to the KEGG API. Using the annotations provided in the workflow results, we can look up the corresponding annotations in other KEGG databases to start drawing connections between biomolecule identifications.\n",
    "\n",
    "### Gather metabolite information\n",
    "\n",
    "First we will find all of the Enzyme Commission numbers available for each identified compound. These EC numbers represent enzymes involved in recorded reactions that produce the compound of interest.\n",
    "Then we will do the same to pull all of the modules and pathways that each compound is a part of. KEGG modules are functional units of gene sets and KEGG Pathways are manually drawn maps that represent known molecular interactions for biologically interesting processes. Later we will use the module and pathway IDs to see where our identified biomolecules are involved."
   ]
  },
  {
   "cell_type": "code",
   "execution_count": null,
   "metadata": {
    "vscode": {
     "languageId": "r"
    }
   },
   "outputs": [],
   "source": [
    "# For each sample, assemble a dataframe of metabolite information\n",
    "\n",
    "# Pre-allocate an empty list for metabolite dataframes\n",
    "metabolite_annotations_list <- vector(mode = \"list\", length = length(metab_ko_unique_df$biosample_id))\n",
    "\n",
    "for (biosample in 1:length(metab_ko_unique_df$biosample_id)) {\n",
    "\n",
    "  unique_metabolites <- metab_ko_unique_df$metab_ko_unique[[biosample]]\n",
    "\n",
    "  # Get EC ids for each metabolite\n",
    "  ec_from_metabolites <- keggLink(\"enzyme\", unique_metabolites)\n",
    "\n",
    "  ec_from_metabolites <- data.frame(compound_id = names(ec_from_metabolites),\n",
    "                                    ec_id = ec_from_metabolites) %>%\n",
    "    nest(.by = compound_id, .key = \"ec_id\")\n",
    "\n",
    "  # Get modules for each metabolite\n",
    "  modules_from_metabolites <- keggLink(\"module\", unique_metabolites)\n",
    "\n",
    "  modules_from_metabolites <- data.frame(compound_id = names(modules_from_metabolites),\n",
    "                                        module_id = modules_from_metabolites) %>%\n",
    "    nest(.by = compound_id, .key = \"module_id\")\n",
    "\n",
    "\n",
    "  # Get pathways for each metabolite\n",
    "  pathways_from_metabolites <- keggLink(\"pathway\", unique_metabolites)\n",
    "\n",
    "  pathways_from_metabolites <- data.frame(compound_id = names(pathways_from_metabolites),\n",
    "                                          pathway_id = pathways_from_metabolites) %>%\n",
    "    nest(.by = compound_id, .key = \"pathway_id\")\n",
    "\n",
    "  # Join compound, EC, module, pathway IDs into one dataframe\n",
    "  metabolite_annotations <- data.frame(compound_id = paste0(\"cpd:\", metab_ko_unique)) %>%\n",
    "    left_join(ec_from_metabolites) %>%\n",
    "    left_join(modules_from_metabolites) %>%\n",
    "    left_join(pathways_from_metabolites) %>%\n",
    "    mutate(compound_trimmed = substring(compound_id, 5)) %>%\n",
    "    \n",
    "    # Search for the EC IDs in the unique identification lists \n",
    "    # for the other biomolecules in this sample\n",
    "    mutate(In_Metag_Annotations = vapply(.$ec_id, function(x) { any(x$ec_id %in% tolower(metag_ec_unique_df$metag_ec_unique[[biosample]])) },\n",
    "                            FUN.VALUE = TRUE)) %>%\n",
    "    mutate(In_Prot_Annotations = vapply(.$ec_id, function(x) { any(x$ec_id %in% tolower(metap_ec_unique_df$metap_ec_unique[[biosample]])) },\n",
    "                            FUN.VALUE = TRUE))\n",
    "\n",
    "  # Save dataframe to list\n",
    "  metabolite_annotations_list[[biosample]] <- metabolite_annotations\n",
    "}"
   ]
  }
 ],
 "metadata": {
  "kernelspec": {
   "display_name": "R",
   "language": "R",
   "name": "kernelspec"
  },
  "language_info": {
   "codemirror_mode": "r",
   "file_extension": ".r",
   "mimetype": "text/x-r-source",
   "name": "R",
   "pygments_lexer": "r",
   "version": "4.4.1"
  }
 },
 "nbformat": 4,
 "nbformat_minor": 2
}
