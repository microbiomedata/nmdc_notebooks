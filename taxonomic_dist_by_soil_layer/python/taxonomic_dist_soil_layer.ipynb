{
 "cells": [
  {
   "cell_type": "code",
   "execution_count": 41,
   "id": "26e1ac38-ec02-4e81-ac6c-f5591af5f643",
   "metadata": {},
   "outputs": [],
   "source": [
    "import requests"
   ]
  },
  {
   "cell_type": "code",
   "execution_count": 45,
   "id": "fbe67172-6b08-450b-8410-2eea7d886b9b",
   "metadata": {},
   "outputs": [],
   "source": [
    "# # Get first page of biosample ids and soil horizon\n",
    "base_url = \"https://api.microbiomedata.org/nmdcschema/\""
   ]
  },
  {
   "cell_type": "code",
   "execution_count": 49,
   "id": "5a5bb842-1ed0-4d95-9aed-af415b0f2a8b",
   "metadata": {},
   "outputs": [
    {
     "name": "stdout",
     "output_type": "stream",
     "text": [
      "https://api.microbiomedata.org/nmdcschema/biosample_set?&filter={\"soil_horizon\":{\"$exists\": true}}&max_page_size=100&projection=id,soil_horizon\n",
      "{'resources': [{'id': 'nmdc:bsm-11-002vgm56', 'soil_horizon': 'O horizon'}, {'id': 'nmdc:bsm-11-00dkyf35', 'soil_horizon': 'M horizon'}, {'id': 'nmdc:bsm-11-00hrxp98', 'soil_horizon': 'O horizon'}, {'id': 'nmdc:bsm-11-00m15h97', 'soil_horizon': 'M horizon'}, {'id': 'nmdc:bsm-11-00yhef97', 'soil_horizon': 'M horizon'}, {'id': 'nmdc:bsm-11-01f6m423', 'soil_horizon': 'O horizon'}, {'id': 'nmdc:bsm-11-01g9wf51', 'soil_horizon': 'O horizon'}, {'id': 'nmdc:bsm-11-01vt2q72', 'soil_horizon': 'A horizon'}, {'id': 'nmdc:bsm-11-02kcw433', 'soil_horizon': 'M horizon'}, {'id': 'nmdc:bsm-11-02n85875', 'soil_horizon': 'M horizon'}, {'id': 'nmdc:bsm-11-02v78297', 'soil_horizon': 'M horizon'}, {'id': 'nmdc:bsm-11-034x5t48', 'soil_horizon': 'M horizon'}, {'id': 'nmdc:bsm-11-03tatq76', 'soil_horizon': 'O horizon'}, {'id': 'nmdc:bsm-11-03wdqa25', 'soil_horizon': 'O horizon'}, {'id': 'nmdc:bsm-11-040a1y63', 'soil_horizon': 'O horizon'}, {'id': 'nmdc:bsm-11-043hgn06', 'soil_horizon': 'M horizon'}, {'id': 'nmdc:bsm-11-04bta395', 'soil_horizon': 'M horizon'}, {'id': 'nmdc:bsm-11-04kd7a87', 'soil_horizon': 'O horizon'}, {'id': 'nmdc:bsm-11-04wp3b78', 'soil_horizon': 'B horizon'}, {'id': 'nmdc:bsm-11-05t3df21', 'soil_horizon': 'M horizon'}, {'id': 'nmdc:bsm-11-063svk49', 'soil_horizon': 'O horizon'}, {'id': 'nmdc:bsm-11-06bhy091', 'soil_horizon': 'M horizon'}, {'id': 'nmdc:bsm-11-06dh4270', 'soil_horizon': 'M horizon'}, {'id': 'nmdc:bsm-11-06dzrg11', 'soil_horizon': 'M horizon'}, {'id': 'nmdc:bsm-11-06hvfb08', 'soil_horizon': 'M horizon'}, {'id': 'nmdc:bsm-11-06qrej20', 'soil_horizon': 'M horizon'}, {'id': 'nmdc:bsm-11-06ta8e31', 'soil_horizon': 'M horizon'}, {'id': 'nmdc:bsm-11-06tgpb52', 'soil_horizon': 'O horizon'}, {'id': 'nmdc:bsm-11-06wdhd53', 'soil_horizon': 'M horizon'}, {'id': 'nmdc:bsm-11-06zjzf92', 'soil_horizon': 'M horizon'}, {'id': 'nmdc:bsm-11-070qpa21', 'soil_horizon': 'O horizon'}, {'id': 'nmdc:bsm-11-070z3y04', 'soil_horizon': 'M horizon'}, {'id': 'nmdc:bsm-11-074phz40', 'soil_horizon': 'M horizon'}, {'id': 'nmdc:bsm-11-07ar1j63', 'soil_horizon': 'O horizon'}, {'id': 'nmdc:bsm-11-07dyqv24', 'soil_horizon': 'M horizon'}, {'id': 'nmdc:bsm-11-07qq9z23', 'soil_horizon': 'O horizon'}, {'id': 'nmdc:bsm-11-083pnf20', 'soil_horizon': 'O horizon'}, {'id': 'nmdc:bsm-11-083vtj79', 'soil_horizon': 'M horizon'}, {'id': 'nmdc:bsm-11-08bzjv22', 'soil_horizon': 'M horizon'}, {'id': 'nmdc:bsm-11-08mmms67', 'soil_horizon': 'M horizon'}, {'id': 'nmdc:bsm-11-08nch810', 'soil_horizon': 'M horizon'}, {'id': 'nmdc:bsm-11-08vsp197', 'soil_horizon': 'M horizon'}, {'id': 'nmdc:bsm-11-08xb2k71', 'soil_horizon': 'M horizon'}, {'id': 'nmdc:bsm-11-09ad0019', 'soil_horizon': 'M horizon'}, {'id': 'nmdc:bsm-11-09ep6044', 'soil_horizon': 'M horizon'}, {'id': 'nmdc:bsm-11-09h8g835', 'soil_horizon': 'M horizon'}, {'id': 'nmdc:bsm-11-09z9jm13', 'soil_horizon': 'M horizon'}, {'id': 'nmdc:bsm-11-09zas694', 'soil_horizon': 'B horizon'}, {'id': 'nmdc:bsm-11-0an3j196', 'soil_horizon': 'M horizon'}, {'id': 'nmdc:bsm-11-0asn5d63', 'soil_horizon': 'M horizon'}, {'id': 'nmdc:bsm-11-0b52dk93', 'soil_horizon': 'O horizon'}, {'id': 'nmdc:bsm-11-0b8ncb13', 'soil_horizon': 'M horizon'}, {'id': 'nmdc:bsm-11-0b9aj433', 'soil_horizon': 'M horizon'}, {'id': 'nmdc:bsm-11-0bj8v379', 'soil_horizon': 'M horizon'}, {'id': 'nmdc:bsm-11-0bj91094', 'soil_horizon': 'M horizon'}, {'id': 'nmdc:bsm-11-0bnpdx15', 'soil_horizon': 'O horizon'}, {'id': 'nmdc:bsm-11-0byf2s84', 'soil_horizon': 'M horizon'}, {'id': 'nmdc:bsm-11-0c5jqf27', 'soil_horizon': 'O horizon'}, {'id': 'nmdc:bsm-11-0c9czb71', 'soil_horizon': 'O horizon'}, {'id': 'nmdc:bsm-11-0d4a3v31', 'soil_horizon': 'O horizon'}, {'id': 'nmdc:bsm-11-0d6dns65', 'soil_horizon': 'M horizon'}, {'id': 'nmdc:bsm-11-0d7rka29', 'soil_horizon': 'M horizon'}, {'id': 'nmdc:bsm-11-0djp2e45', 'soil_horizon': 'M horizon'}, {'id': 'nmdc:bsm-11-0ds10w95', 'soil_horizon': 'M horizon'}, {'id': 'nmdc:bsm-11-0dxeyx75', 'soil_horizon': 'O horizon'}, {'id': 'nmdc:bsm-11-0e0c0n70', 'soil_horizon': 'M horizon'}, {'id': 'nmdc:bsm-11-0e61tc95', 'soil_horizon': 'M horizon'}, {'id': 'nmdc:bsm-11-0e7t9d56', 'soil_horizon': 'M horizon'}, {'id': 'nmdc:bsm-11-0eaqta51', 'soil_horizon': 'O horizon'}, {'id': 'nmdc:bsm-11-0earmn44', 'soil_horizon': 'M horizon'}, {'id': 'nmdc:bsm-11-0ebe7s44', 'soil_horizon': 'M horizon'}, {'id': 'nmdc:bsm-11-0ewcv120', 'soil_horizon': 'M horizon'}, {'id': 'nmdc:bsm-11-0f43ab20', 'soil_horizon': 'M horizon'}, {'id': 'nmdc:bsm-11-0f4qbv31', 'soil_horizon': 'M horizon'}, {'id': 'nmdc:bsm-11-0f7w3426', 'soil_horizon': 'M horizon'}, {'id': 'nmdc:bsm-11-0fg7rn04', 'soil_horizon': 'M horizon'}, {'id': 'nmdc:bsm-11-0fps8951', 'soil_horizon': 'O horizon'}, {'id': 'nmdc:bsm-11-0g28x785', 'soil_horizon': 'M horizon'}, {'id': 'nmdc:bsm-11-0g6wkd40', 'soil_horizon': 'M horizon'}, {'id': 'nmdc:bsm-11-0gj3wh79', 'soil_horizon': 'O horizon'}, {'id': 'nmdc:bsm-11-0gmd9f09', 'soil_horizon': 'M horizon'}, {'id': 'nmdc:bsm-11-0gy85h88', 'soil_horizon': 'M horizon'}, {'id': 'nmdc:bsm-11-0h7ft579', 'soil_horizon': 'M horizon'}, {'id': 'nmdc:bsm-11-0hc2cc92', 'soil_horizon': 'M horizon'}, {'id': 'nmdc:bsm-11-0hh70w74', 'soil_horizon': 'O horizon'}, {'id': 'nmdc:bsm-11-0hjwvs60', 'soil_horizon': 'M horizon'}, {'id': 'nmdc:bsm-11-0hkm4783', 'soil_horizon': 'M horizon'}, {'id': 'nmdc:bsm-11-0hmr6870', 'soil_horizon': 'M horizon'}, {'id': 'nmdc:bsm-11-0hz4rd27', 'soil_horizon': 'O horizon'}, {'id': 'nmdc:bsm-11-0j182d47', 'soil_horizon': 'O horizon'}, {'id': 'nmdc:bsm-11-0j3ff625', 'soil_horizon': 'O horizon'}, {'id': 'nmdc:bsm-11-0j8e6d39', 'soil_horizon': 'M horizon'}, {'id': 'nmdc:bsm-11-0jsqys69', 'soil_horizon': 'M horizon'}, {'id': 'nmdc:bsm-11-0jxgba87', 'soil_horizon': 'M horizon'}, {'id': 'nmdc:bsm-11-0k5bep35', 'soil_horizon': 'M horizon'}, {'id': 'nmdc:bsm-11-0k6dy332', 'soil_horizon': 'M horizon'}, {'id': 'nmdc:bsm-11-0kekqm16', 'soil_horizon': 'O horizon'}, {'id': 'nmdc:bsm-11-0mmva916', 'soil_horizon': 'M horizon'}, {'id': 'nmdc:bsm-11-0n9kgt73', 'soil_horizon': 'M horizon'}, {'id': 'nmdc:bsm-11-0nas9n36', 'soil_horizon': 'M horizon'}], 'next_page_token': 'nmdc:sys05d0jff52'}\n"
     ]
    }
   ],
   "source": [
    "# Define a function to get first page of results (we will use again for other requests, which is why we are defining a function)\n",
    "def get_first_page_results(collection: str, filter: str, max_page_size: int, fields: str):\n",
    "    og_url = f\"https://api.microbiomedata.org/nmdcschema/{collection}?&filter={filter}&max_page_size={max_page_size}&projection={fields}\" \n",
    "    resp = requests.get(og_url)\n",
    "    data = resp.json()\n",
    "\n",
    "    return data"
   ]
  },
  {
   "cell_type": "code",
   "execution_count": 51,
   "id": "d2383a9c-de7e-4cca-8448-b501d592cabd",
   "metadata": {},
   "outputs": [
    {
     "name": "stdout",
     "output_type": "stream",
     "text": [
      "https://api.microbiomedata.org/nmdcschema/biosample_set?&filter={\"soil_horizon\":{\"$exists\": true}}&max_page_size=100&projection=id,soil_horizon\n",
      "4650\n"
     ]
    }
   ],
   "source": [
    "# Define another function to get the rest of the results using the next_page_token by calling the first funtion to get\n",
    "# the initial results and then using the next_page_token to get the other results. This function returns a list of the results\n",
    "\n",
    "def get_next_results(collection: str, filter: str, max_page_size: int, fields: str):\n",
    "\n",
    "    # Get initial results (before next_page_token is given in results)\n",
    "    initial_data = get_first_page_results(collection, filter, max_page_size, fields)\n",
    "    results = initial_data[\"resources\"]\n",
    "    next_page_token = initial_data[\"next_page_token\"]\n",
    "    result_list = []\n",
    "\n",
    "    # append first page of results to an empty list\n",
    "    for result in results:\n",
    "        result_list.append(result)\n",
    "    \n",
    "    while True:\n",
    "        url = f\"https://api.microbiomedata.org/nmdcschema/{collection}?&filter={filter}&max_page_size={max_page_size}&page_token={next_page_token}&projection={fields}\"\n",
    "        response = requests.get(url)\n",
    "        data_next = response.json()\n",
    "        \n",
    "        results = data_next.get(\"resources\", [])\n",
    "        result_list.extend(results)\n",
    "        next_page_token = data_next.get(\"next_page_token\")\n",
    "    \n",
    "        if not next_page_token:\n",
    "            break\n",
    "\n",
    "    return result_list\n",
    "\n",
    "biosamples = get_next_results(\"biosample_set\", '{\"soil_horizon\":{\"$exists\": true}}', 100, \"id,soil_horizon\")\n",
    "print(len(biosamples))"
   ]
  },
  {
   "cell_type": "code",
   "execution_count": 40,
   "id": "67cfa7da-c939-4470-b7e2-a22671c445eb",
   "metadata": {},
   "outputs": [
    {
     "ename": "JSONDecodeError",
     "evalue": "Expecting value: line 1 column 1 (char 0)",
     "output_type": "error",
     "traceback": [
      "\u001b[0;31m---------------------------------------------------------------------------\u001b[0m",
      "\u001b[0;31mJSONDecodeError\u001b[0m                           Traceback (most recent call last)",
      "File \u001b[0;32m~/development/nmdc/notebook_hackathons/venv/lib/python3.10/site-packages/requests/models.py:971\u001b[0m, in \u001b[0;36mResponse.json\u001b[0;34m(self, **kwargs)\u001b[0m\n\u001b[1;32m    970\u001b[0m \u001b[38;5;28;01mtry\u001b[39;00m:\n\u001b[0;32m--> 971\u001b[0m     \u001b[38;5;28;01mreturn\u001b[39;00m \u001b[43mcomplexjson\u001b[49m\u001b[38;5;241;43m.\u001b[39;49m\u001b[43mloads\u001b[49m\u001b[43m(\u001b[49m\u001b[38;5;28;43mself\u001b[39;49m\u001b[38;5;241;43m.\u001b[39;49m\u001b[43mtext\u001b[49m\u001b[43m,\u001b[49m\u001b[43m \u001b[49m\u001b[38;5;241;43m*\u001b[39;49m\u001b[38;5;241;43m*\u001b[39;49m\u001b[43mkwargs\u001b[49m\u001b[43m)\u001b[49m\n\u001b[1;32m    972\u001b[0m \u001b[38;5;28;01mexcept\u001b[39;00m JSONDecodeError \u001b[38;5;28;01mas\u001b[39;00m e:\n\u001b[1;32m    973\u001b[0m     \u001b[38;5;66;03m# Catch JSON-related errors and raise as requests.JSONDecodeError\u001b[39;00m\n\u001b[1;32m    974\u001b[0m     \u001b[38;5;66;03m# This aliases json.JSONDecodeError and simplejson.JSONDecodeError\u001b[39;00m\n",
      "File \u001b[0;32m~/.pyenv/versions/3.10.11/lib/python3.10/json/__init__.py:346\u001b[0m, in \u001b[0;36mloads\u001b[0;34m(s, cls, object_hook, parse_float, parse_int, parse_constant, object_pairs_hook, **kw)\u001b[0m\n\u001b[1;32m    343\u001b[0m \u001b[38;5;28;01mif\u001b[39;00m (\u001b[38;5;28mcls\u001b[39m \u001b[38;5;129;01mis\u001b[39;00m \u001b[38;5;28;01mNone\u001b[39;00m \u001b[38;5;129;01mand\u001b[39;00m object_hook \u001b[38;5;129;01mis\u001b[39;00m \u001b[38;5;28;01mNone\u001b[39;00m \u001b[38;5;129;01mand\u001b[39;00m\n\u001b[1;32m    344\u001b[0m         parse_int \u001b[38;5;129;01mis\u001b[39;00m \u001b[38;5;28;01mNone\u001b[39;00m \u001b[38;5;129;01mand\u001b[39;00m parse_float \u001b[38;5;129;01mis\u001b[39;00m \u001b[38;5;28;01mNone\u001b[39;00m \u001b[38;5;129;01mand\u001b[39;00m\n\u001b[1;32m    345\u001b[0m         parse_constant \u001b[38;5;129;01mis\u001b[39;00m \u001b[38;5;28;01mNone\u001b[39;00m \u001b[38;5;129;01mand\u001b[39;00m object_pairs_hook \u001b[38;5;129;01mis\u001b[39;00m \u001b[38;5;28;01mNone\u001b[39;00m \u001b[38;5;129;01mand\u001b[39;00m \u001b[38;5;129;01mnot\u001b[39;00m kw):\n\u001b[0;32m--> 346\u001b[0m     \u001b[38;5;28;01mreturn\u001b[39;00m \u001b[43m_default_decoder\u001b[49m\u001b[38;5;241;43m.\u001b[39;49m\u001b[43mdecode\u001b[49m\u001b[43m(\u001b[49m\u001b[43ms\u001b[49m\u001b[43m)\u001b[49m\n\u001b[1;32m    347\u001b[0m \u001b[38;5;28;01mif\u001b[39;00m \u001b[38;5;28mcls\u001b[39m \u001b[38;5;129;01mis\u001b[39;00m \u001b[38;5;28;01mNone\u001b[39;00m:\n",
      "File \u001b[0;32m~/.pyenv/versions/3.10.11/lib/python3.10/json/decoder.py:337\u001b[0m, in \u001b[0;36mJSONDecoder.decode\u001b[0;34m(self, s, _w)\u001b[0m\n\u001b[1;32m    333\u001b[0m \u001b[38;5;250m\u001b[39m\u001b[38;5;124;03m\"\"\"Return the Python representation of ``s`` (a ``str`` instance\u001b[39;00m\n\u001b[1;32m    334\u001b[0m \u001b[38;5;124;03mcontaining a JSON document).\u001b[39;00m\n\u001b[1;32m    335\u001b[0m \n\u001b[1;32m    336\u001b[0m \u001b[38;5;124;03m\"\"\"\u001b[39;00m\n\u001b[0;32m--> 337\u001b[0m obj, end \u001b[38;5;241m=\u001b[39m \u001b[38;5;28;43mself\u001b[39;49m\u001b[38;5;241;43m.\u001b[39;49m\u001b[43mraw_decode\u001b[49m\u001b[43m(\u001b[49m\u001b[43ms\u001b[49m\u001b[43m,\u001b[49m\u001b[43m \u001b[49m\u001b[43midx\u001b[49m\u001b[38;5;241;43m=\u001b[39;49m\u001b[43m_w\u001b[49m\u001b[43m(\u001b[49m\u001b[43ms\u001b[49m\u001b[43m,\u001b[49m\u001b[43m \u001b[49m\u001b[38;5;241;43m0\u001b[39;49m\u001b[43m)\u001b[49m\u001b[38;5;241;43m.\u001b[39;49m\u001b[43mend\u001b[49m\u001b[43m(\u001b[49m\u001b[43m)\u001b[49m\u001b[43m)\u001b[49m\n\u001b[1;32m    338\u001b[0m end \u001b[38;5;241m=\u001b[39m _w(s, end)\u001b[38;5;241m.\u001b[39mend()\n",
      "File \u001b[0;32m~/.pyenv/versions/3.10.11/lib/python3.10/json/decoder.py:355\u001b[0m, in \u001b[0;36mJSONDecoder.raw_decode\u001b[0;34m(self, s, idx)\u001b[0m\n\u001b[1;32m    354\u001b[0m \u001b[38;5;28;01mexcept\u001b[39;00m \u001b[38;5;167;01mStopIteration\u001b[39;00m \u001b[38;5;28;01mas\u001b[39;00m err:\n\u001b[0;32m--> 355\u001b[0m     \u001b[38;5;28;01mraise\u001b[39;00m JSONDecodeError(\u001b[38;5;124m\"\u001b[39m\u001b[38;5;124mExpecting value\u001b[39m\u001b[38;5;124m\"\u001b[39m, s, err\u001b[38;5;241m.\u001b[39mvalue) \u001b[38;5;28;01mfrom\u001b[39;00m \u001b[38;5;28;01mNone\u001b[39;00m\n\u001b[1;32m    356\u001b[0m \u001b[38;5;28;01mreturn\u001b[39;00m obj, end\n",
      "\u001b[0;31mJSONDecodeError\u001b[0m: Expecting value: line 1 column 1 (char 0)",
      "\nDuring handling of the above exception, another exception occurred:\n",
      "\u001b[0;31mJSONDecodeError\u001b[0m                           Traceback (most recent call last)",
      "Cell \u001b[0;32mIn[40], line 11\u001b[0m\n\u001b[1;32m      8\u001b[0m \u001b[38;5;66;03m# Put in mongodb-like query for the filter paramater\u001b[39;00m\n\u001b[1;32m      9\u001b[0m filt \u001b[38;5;241m=\u001b[39m \u001b[38;5;124mf\u001b[39m\u001b[38;5;124m'\u001b[39m\u001b[38;5;130;01m{{\u001b[39;00m\u001b[38;5;124m\"\u001b[39m\u001b[38;5;124mhas_input\u001b[39m\u001b[38;5;124m\"\u001b[39m\u001b[38;5;124m: \u001b[39m\u001b[38;5;130;01m{{\u001b[39;00m\u001b[38;5;124m\"\u001b[39m\u001b[38;5;124m$in\u001b[39m\u001b[38;5;124m\"\u001b[39m\u001b[38;5;124m: \u001b[39m\u001b[38;5;132;01m{\u001b[39;00mbiosamp_ids\u001b[38;5;132;01m}\u001b[39;00m\u001b[38;5;130;01m}}\u001b[39;00m\u001b[38;5;130;01m}}\u001b[39;00m\u001b[38;5;124m'\u001b[39m\n\u001b[0;32m---> 11\u001b[0m poolings \u001b[38;5;241m=\u001b[39m \u001b[43mget_next_results\u001b[49m\u001b[43m(\u001b[49m\u001b[38;5;124;43m\"\u001b[39;49m\u001b[38;5;124;43mpooling_set\u001b[39;49m\u001b[38;5;124;43m\"\u001b[39;49m\u001b[43m,\u001b[49m\u001b[43m \u001b[49m\u001b[43mfilt\u001b[49m\u001b[43m,\u001b[49m\u001b[43m \u001b[49m\u001b[38;5;241;43m100\u001b[39;49m\u001b[43m,\u001b[49m\u001b[43m \u001b[49m\u001b[38;5;124;43m\"\u001b[39;49m\u001b[38;5;124;43mhas_input,id\u001b[39;49m\u001b[38;5;124;43m\"\u001b[39;49m\u001b[43m)\u001b[49m\n\u001b[1;32m     12\u001b[0m \u001b[38;5;28mprint\u001b[39m(poolings)\n",
      "Cell \u001b[0;32mIn[34], line 7\u001b[0m, in \u001b[0;36mget_next_results\u001b[0;34m(collection, filter, max_page_size, fields)\u001b[0m\n\u001b[1;32m      4\u001b[0m \u001b[38;5;28;01mdef\u001b[39;00m \u001b[38;5;21mget_next_results\u001b[39m(collection: \u001b[38;5;28mstr\u001b[39m, \u001b[38;5;28mfilter\u001b[39m: \u001b[38;5;28mstr\u001b[39m, max_page_size: \u001b[38;5;28mint\u001b[39m, fields: \u001b[38;5;28mstr\u001b[39m):\n\u001b[1;32m      5\u001b[0m \n\u001b[1;32m      6\u001b[0m     \u001b[38;5;66;03m# Get initial results (before next_page_token is given in results)\u001b[39;00m\n\u001b[0;32m----> 7\u001b[0m     initial_data \u001b[38;5;241m=\u001b[39m \u001b[43mget_first_page_results\u001b[49m\u001b[43m(\u001b[49m\u001b[43mcollection\u001b[49m\u001b[43m,\u001b[49m\u001b[43m \u001b[49m\u001b[38;5;28;43mfilter\u001b[39;49m\u001b[43m,\u001b[49m\u001b[43m \u001b[49m\u001b[43mmax_page_size\u001b[49m\u001b[43m,\u001b[49m\u001b[43m \u001b[49m\u001b[43mfields\u001b[49m\u001b[43m)\u001b[49m\n\u001b[1;32m      8\u001b[0m     results \u001b[38;5;241m=\u001b[39m initial_data[\u001b[38;5;124m\"\u001b[39m\u001b[38;5;124mresources\u001b[39m\u001b[38;5;124m\"\u001b[39m]\n\u001b[1;32m      9\u001b[0m     next_page_token \u001b[38;5;241m=\u001b[39m initial_data[\u001b[38;5;124m\"\u001b[39m\u001b[38;5;124mnext_page_token\u001b[39m\u001b[38;5;124m\"\u001b[39m]\n",
      "Cell \u001b[0;32mIn[32], line 4\u001b[0m, in \u001b[0;36mget_first_page_results\u001b[0;34m(collection, filter, max_page_size, fields)\u001b[0m\n\u001b[1;32m      2\u001b[0m og_url \u001b[38;5;241m=\u001b[39m \u001b[38;5;124mf\u001b[39m\u001b[38;5;124m\"\u001b[39m\u001b[38;5;132;01m{\u001b[39;00mbase_url\u001b[38;5;132;01m}\u001b[39;00m\u001b[38;5;132;01m{\u001b[39;00mcollection\u001b[38;5;132;01m}\u001b[39;00m\u001b[38;5;124m?&filter=\u001b[39m\u001b[38;5;132;01m{\u001b[39;00mfilt\u001b[38;5;132;01m}\u001b[39;00m\u001b[38;5;124m&max_page_size=\u001b[39m\u001b[38;5;132;01m{\u001b[39;00mmax_page_size\u001b[38;5;132;01m}\u001b[39;00m\u001b[38;5;124m&projection=\u001b[39m\u001b[38;5;132;01m{\u001b[39;00mfields\u001b[38;5;132;01m}\u001b[39;00m\u001b[38;5;124m\"\u001b[39m \n\u001b[1;32m      3\u001b[0m resp \u001b[38;5;241m=\u001b[39m requests\u001b[38;5;241m.\u001b[39mget(og_url)\n\u001b[0;32m----> 4\u001b[0m data \u001b[38;5;241m=\u001b[39m \u001b[43mresp\u001b[49m\u001b[38;5;241;43m.\u001b[39;49m\u001b[43mjson\u001b[49m\u001b[43m(\u001b[49m\u001b[43m)\u001b[49m\n\u001b[1;32m      6\u001b[0m \u001b[38;5;28;01mreturn\u001b[39;00m data\n",
      "File \u001b[0;32m~/development/nmdc/notebook_hackathons/venv/lib/python3.10/site-packages/requests/models.py:975\u001b[0m, in \u001b[0;36mResponse.json\u001b[0;34m(self, **kwargs)\u001b[0m\n\u001b[1;32m    971\u001b[0m     \u001b[38;5;28;01mreturn\u001b[39;00m complexjson\u001b[38;5;241m.\u001b[39mloads(\u001b[38;5;28mself\u001b[39m\u001b[38;5;241m.\u001b[39mtext, \u001b[38;5;241m*\u001b[39m\u001b[38;5;241m*\u001b[39mkwargs)\n\u001b[1;32m    972\u001b[0m \u001b[38;5;28;01mexcept\u001b[39;00m JSONDecodeError \u001b[38;5;28;01mas\u001b[39;00m e:\n\u001b[1;32m    973\u001b[0m     \u001b[38;5;66;03m# Catch JSON-related errors and raise as requests.JSONDecodeError\u001b[39;00m\n\u001b[1;32m    974\u001b[0m     \u001b[38;5;66;03m# This aliases json.JSONDecodeError and simplejson.JSONDecodeError\u001b[39;00m\n\u001b[0;32m--> 975\u001b[0m     \u001b[38;5;28;01mraise\u001b[39;00m RequestsJSONDecodeError(e\u001b[38;5;241m.\u001b[39mmsg, e\u001b[38;5;241m.\u001b[39mdoc, e\u001b[38;5;241m.\u001b[39mpos)\n",
      "\u001b[0;31mJSONDecodeError\u001b[0m: Expecting value: line 1 column 1 (char 0)"
     ]
    }
   ],
   "source": [
    "# Next step is to use the ids from the biosamples as the has_input to get the ids for the Pooling class.\n",
    "\n",
    "# get a list of the biosample ids for the filter parameter\n",
    "biosamp_ids = []\n",
    "for biosample in biosamples:\n",
    "    biosamp_ids.append(biosample[\"id\"])\n",
    "\n",
    "# Put in mongodb-like query for the filter paramater\n",
    "filt = f'{{\"has_input\": {{\"$in\": {biosamp_ids}}}}}'\n",
    "\n",
    "poolings = get_next_results(\"pooling_set\", filt, 100, \"has_input,id\")\n",
    "print(poolings)"
   ]
  },
  {
   "cell_type": "code",
   "execution_count": null,
   "id": "c0101b76-a1b7-42c3-b99a-ffe3005cf08c",
   "metadata": {},
   "outputs": [],
   "source": []
  }
 ],
 "metadata": {
  "kernelspec": {
   "display_name": "Python 3 (ipykernel)",
   "language": "python",
   "name": "python3"
  },
  "language_info": {
   "codemirror_mode": {
    "name": "ipython",
    "version": 3
   },
   "file_extension": ".py",
   "mimetype": "text/x-python",
   "name": "python",
   "nbconvert_exporter": "python",
   "pygments_lexer": "ipython3",
   "version": "3.10.11"
  }
 },
 "nbformat": 4,
 "nbformat_minor": 5
}
