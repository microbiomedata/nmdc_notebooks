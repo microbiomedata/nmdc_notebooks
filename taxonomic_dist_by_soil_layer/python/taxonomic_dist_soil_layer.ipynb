{
 "cells": [
  {
   "cell_type": "code",
   "execution_count": 1,
   "id": "26e1ac38-ec02-4e81-ac6c-f5591af5f643",
   "metadata": {},
   "outputs": [],
   "source": [
    "import requests\n",
    "import pandas as pd"
   ]
  },
  {
   "cell_type": "code",
   "execution_count": 88,
   "id": "5a5bb842-1ed0-4d95-9aed-af415b0f2a8b",
   "metadata": {},
   "outputs": [],
   "source": [
    "# Define a function to get first page of results (we will use again for other requests, which is why we are defining a function)\n",
    "def get_first_page_results(collection: str, filter: str, max_page_size: int, fields: str):\n",
    "    og_url = f'https://api.microbiomedata.org/nmdcschema/{collection}?&filter={filter}&max_page_size={max_page_size}&projection={fields}'\n",
    "    resp = requests.get(og_url)\n",
    "    data = resp.json()\n",
    "    \n",
    "    return data"
   ]
  },
  {
   "cell_type": "code",
   "execution_count": 3,
   "id": "d2383a9c-de7e-4cca-8448-b501d592cabd",
   "metadata": {},
   "outputs": [],
   "source": [
    "# Define another function to get the rest of the results using the next_page_token by calling the first funtion to get\n",
    "# the initial results and then using the next_page_token to get the other results. This function returns a list of the results\n",
    "\n",
    "def get_next_results(collection: str, filter: str, max_page_size: int, fields: str):\n",
    "\n",
    "    # Get initial results (before next_page_token is given in results)\n",
    "    initial_data = get_first_page_results(collection, filter, max_page_size, fields)\n",
    "    results = initial_data[\"resources\"]\n",
    "    next_page_token = initial_data[\"next_page_token\"]\n",
    "    result_list = []\n",
    "\n",
    "    # append first page of results to an empty list\n",
    "    for result in results:\n",
    "        result_list.append(result)\n",
    "    \n",
    "    while True:\n",
    "        url = f'https://api.microbiomedata.org/nmdcschema/{collection}?&filter={filter}&max_page_size={max_page_size}&page_token={next_page_token}&projection={fields}'\n",
    "        response = requests.get(url)\n",
    "        data_next = response.json()\n",
    "        \n",
    "        results = data_next.get(\"resources\", [])\n",
    "        result_list.extend(results)\n",
    "        next_page_token = data_next.get(\"next_page_token\")\n",
    "    \n",
    "        if not next_page_token:\n",
    "            break\n",
    "\n",
    "    return result_list\n"
   ]
  },
  {
   "cell_type": "code",
   "execution_count": 4,
   "id": "f31dd175-a23d-4e4f-a2ce-e40f38fbcb85",
   "metadata": {},
   "outputs": [
    {
     "name": "stdout",
     "output_type": "stream",
     "text": [
      "4650\n",
      "[{'soil_horizon': 'O horizon', 'biosample_id': 'nmdc:bsm-11-002vgm56'}, {'soil_horizon': 'M horizon', 'biosample_id': 'nmdc:bsm-11-00dkyf35'}, {'soil_horizon': 'O horizon', 'biosample_id': 'nmdc:bsm-11-00hrxp98'}, {'soil_horizon': 'M horizon', 'biosample_id': 'nmdc:bsm-11-00m15h97'}]\n"
     ]
    }
   ],
   "source": [
    "# Get biosamples using functions\n",
    "biosamples = get_next_results(\"biosample_set\", '{\"soil_horizon\":{\"$exists\": true}}', 100, \"id,soil_horizon\")\n",
    "\n",
    "# clarify names\n",
    "for biosample in biosamples:\n",
    "    biosample[\"biosample_id\"] = biosample.pop(\"id\")\n",
    "\n",
    "print(len(biosamples))\n",
    "print(biosamples[:4])"
   ]
  },
  {
   "cell_type": "code",
   "execution_count": 5,
   "id": "0104bbd5-aeae-4d83-90d9-628b009a51f0",
   "metadata": {},
   "outputs": [],
   "source": [
    "# Define a function to split ids into chunks\n",
    "def split_list(input_list, chunk_size=100):\n",
    "    result = []\n",
    "    \n",
    "    for i in range(0, len(input_list), chunk_size):\n",
    "        result.append(input_list[i:i + chunk_size])\n",
    "        \n",
    "    return result"
   ]
  },
  {
   "cell_type": "code",
   "execution_count": 6,
   "id": "6f066a85-6909-42cf-9c30-0444977d4bb6",
   "metadata": {},
   "outputs": [],
   "source": [
    "# Adjust filter list for double quote string - important for mongo queries\n",
    "def string_mongo_list(a_list: list):\n",
    "    \n",
    "    string_with_double_quotes = str(a_list).replace(\"'\", '\"')\n",
    "\n",
    "    return string_with_double_quotes\n"
   ]
  },
  {
   "cell_type": "code",
   "execution_count": 7,
   "id": "137e98ed-53c1-4ba2-ae9c-a3ada6bd1887",
   "metadata": {},
   "outputs": [],
   "source": [
    "# Get list of ids (to eventually feed into query)\n",
    "def get_id_list(result_list, id_name):\n",
    "    id_list = []\n",
    "    for item in result_list:\n",
    "        if type(item[id_name]) == str:\n",
    "            id_list.append(item[id_name])\n",
    "        elif type(item[id_name]) == list:\n",
    "            for another_item in item[id_name]:\n",
    "                id_list.append(another_item)\n",
    "\n",
    "    return id_list"
   ]
  },
  {
   "cell_type": "code",
   "execution_count": null,
   "id": "d449b7aa-f819-4d20-8c73-8cbc9fe1195e",
   "metadata": {},
   "outputs": [],
   "source": [
    "# Define function to request NMDC metadata based on list of identifiers\n",
    "def get_id_results(newest_results: list, id_field: str, query_collection: str, match_id_field: str, query_fields: str):\n",
    "\n",
    "    # split old results into list\n",
    "    result_ids = get_id_list(newest_results, id_field)\n",
    "\n",
    "    # # make sure match_id_field has double quotes (important for mongo query)\n",
    "    match_id_field.replace(\"'\", \"\\\"\")\n",
    "\n",
    "    # chunk up the results into sets of 100 using the split_list function and call the get_first_page_results function and append\n",
    "    # results to list\n",
    "    chunked_list = split_list(result_ids)\n",
    "    next_results = []\n",
    "    for chunk in chunked_list:\n",
    "        filter_string = string_mongo_list(chunk)\n",
    "        # quotes around match_id_field need to look a lot different for the final data object query\n",
    "        if \"data_object_type\" in match_id_field:\n",
    "            data = get_first_page_results(query_collection, f'{{{match_id_field}: {{\"$in\": {filter_string}}}}}', 100, query_fields)\n",
    "        else: \n",
    "            data = get_first_page_results(query_collection, f'{{\"{match_id_field}\": {{\"$in\": {filter_string}}}}}', 100, query_fields)\n",
    "        next_results.extend(data[\"resources\"])\n",
    "\n",
    "    return next_results"
   ]
  },
  {
   "cell_type": "code",
   "execution_count": 13,
   "id": "2180a3f2-7c92-4acf-8dff-3f8b61c738ef",
   "metadata": {},
   "outputs": [
    {
     "name": "stdout",
     "output_type": "stream",
     "text": [
      "4289\n",
      "[{'pooling_has_input': ['nmdc:bsm-11-zw0jr671', 'nmdc:bsm-11-ftr88019', 'nmdc:bsm-11-06qrej20'], 'pooling_has_output': ['nmdc:procsm-11-m6cgda89'], 'pooling_id': 'nmdc:poolp-11-myygnt07'}, {'pooling_has_input': ['nmdc:bsm-11-pgpaf592', 'nmdc:bsm-11-07qq9z23', 'nmdc:bsm-11-tgfagd06'], 'pooling_has_output': ['nmdc:procsm-11-4x35gd93'], 'pooling_id': 'nmdc:poolp-11-fg19qm11'}]\n"
     ]
    }
   ],
   "source": [
    "# Get pooling results where biosample identifiers are \"has_input\" in the pooling_set collection\n",
    "pooling = get_id_results(biosamples, \"biosample_id\", \"pooling_set\", \"has_input\", \"has_input,id,has_output\")\n",
    "\n",
    "# clarify names/keys/identifiers\n",
    "for pool in pooling:\n",
    "    pool[\"pooling_has_input\"] = pool.pop(\"has_input\")\n",
    "    pool[\"pooling_has_output\"] = pool.pop(\"has_output\")\n",
    "    pool[\"pooling_id\"] = pool.pop(\"id\")\n",
    "\n",
    "print(len(pooling))\n",
    "print(pooling[:2])"
   ]
  },
  {
   "cell_type": "code",
   "execution_count": 14,
   "id": "124b6994-4305-4400-a649-637910556066",
   "metadata": {},
   "outputs": [],
   "source": [
    "# Function to merge new results with old results (mapping keys together that match)\n",
    "def merge_items(one_list, two_list, lml_key1, nl_key2):\n",
    "    \n",
    "    merged_list = [\n",
    "        {**item, **object}\n",
    "        for item in one_list\n",
    "        for object in two_list\n",
    "        if item[lml_key1] in object[nl_key2]\n",
    "    ]\n",
    "\n",
    "    return merged_list\n"
   ]
  },
  {
   "cell_type": "code",
   "execution_count": 15,
   "id": "da11c7ca-e9f1-474d-8bdf-9a1de0be68d3",
   "metadata": {},
   "outputs": [
    {
     "name": "stdout",
     "output_type": "stream",
     "text": [
      "[{'soil_horizon': 'O horizon', 'biosample_id': 'nmdc:bsm-11-002vgm56', 'pooling_has_input': ['nmdc:bsm-11-002vgm56', 'nmdc:bsm-11-pn5gjv86', 'nmdc:bsm-11-190hex25'], 'pooling_has_output': ['nmdc:procsm-11-tdf7e971'], 'pooling_id': 'nmdc:poolp-11-0gyq5c98'}, {'soil_horizon': 'O horizon', 'biosample_id': 'nmdc:bsm-11-002vgm56', 'pooling_has_input': ['nmdc:bsm-11-002vgm56', 'nmdc:bsm-11-pn5gjv86', 'nmdc:bsm-11-190hex25'], 'pooling_has_output': ['nmdc:procsm-11-tdf7e971'], 'pooling_id': 'nmdc:poolp-11-0gyq5c98'}]\n"
     ]
    }
   ],
   "source": [
    "# Merge the initial biosample results with the pooling results\n",
    "merged_list = merge_items(biosamples, pooling, \"biosample_id\", \"pooling_has_input\")\n",
    "print(merged_list[:2])"
   ]
  },
  {
   "cell_type": "code",
   "execution_count": 16,
   "id": "c704fe99-4afb-4378-8294-b57854c9da81",
   "metadata": {},
   "outputs": [
    {
     "name": "stdout",
     "output_type": "stream",
     "text": [
      "[{'processed_sample1': 'nmdc:procsm-11-07kg2w70'}, {'processed_sample1': 'nmdc:procsm-11-09rv7c30'}, {'processed_sample1': 'nmdc:procsm-11-0rn9p334'}, {'processed_sample1': 'nmdc:procsm-11-22s7xc89'}]\n"
     ]
    }
   ],
   "source": [
    "# Get processed sample results from pooling_has_ouput identifiers\n",
    "# We use the pooling results and the identifier \"pooling_has_output\" to query the \"processed_sample_set\" matching the \"id\" field, and\n",
    "# we only need the \"id\" field returned\n",
    "process_set1 = get_id_results(pooling, \"pooling_has_output\", \"processed_sample_set\", \"id\", \"id\")\n",
    "\n",
    "# clarify names\n",
    "for processed_sample in process_set1:\n",
    "    processed_sample[\"processed_sample1\"] = processed_sample.pop(\"id\")\n",
    "print(process_set1[:4])"
   ]
  },
  {
   "cell_type": "code",
   "execution_count": 17,
   "id": "f92ceb67-727e-4912-8458-e373a8066ee2",
   "metadata": {},
   "outputs": [
    {
     "name": "stdout",
     "output_type": "stream",
     "text": [
      "[{'processed_sample1': 'nmdc:procsm-11-07kg2w70', 'soil_horizon': 'M horizon', 'biosample_id': 'nmdc:bsm-11-0fg7rn04', 'pooling_has_input': ['nmdc:bsm-11-0fg7rn04', 'nmdc:bsm-11-x70qj124', 'nmdc:bsm-11-bvnp5w79'], 'pooling_has_output': ['nmdc:procsm-11-07kg2w70'], 'pooling_id': 'nmdc:poolp-11-ksfepg24'}, {'processed_sample1': 'nmdc:procsm-11-07kg2w70', 'soil_horizon': 'M horizon', 'biosample_id': 'nmdc:bsm-11-0fg7rn04', 'pooling_has_input': ['nmdc:bsm-11-0fg7rn04', 'nmdc:bsm-11-x70qj124', 'nmdc:bsm-11-bvnp5w79'], 'pooling_has_output': ['nmdc:procsm-11-07kg2w70'], 'pooling_id': 'nmdc:poolp-11-ksfepg24'}]\n"
     ]
    }
   ],
   "source": [
    "# Merge the process_set1 with the merged_list based on \"id\" in process_set1 with \"pooling_has_output\" from the merged_list\n",
    "# merged_list = merge_items(process_set1, merged_list, \"processed_sample1\", \"pooling_has_output\")\n",
    "merged_list = merge_items(process_set1, merged_list, \"processed_sample1\", \"pooling_has_output\")\n",
    "print(merged_list[:2])"
   ]
  },
  {
   "cell_type": "code",
   "execution_count": 18,
   "id": "849da56b-5342-47f4-9eaa-5647a2b3da9e",
   "metadata": {},
   "outputs": [
    {
     "name": "stdout",
     "output_type": "stream",
     "text": [
      "[{'extract_has_input': ['nmdc:procsm-11-m6cgda89'], 'extract_has_output': ['nmdc:procsm-11-e3m9am88'], 'extract_id': 'nmdc:extrp-11-2hbzth07'}, {'extract_has_input': ['nmdc:procsm-11-zxr4eq64'], 'extract_has_output': ['nmdc:procsm-11-69w7d751'], 'extract_id': 'nmdc:extrp-11-8aaf5q49'}, {'extract_has_input': ['nmdc:procsm-11-50046m08'], 'extract_has_output': ['nmdc:procsm-11-wfr9gq72'], 'extract_id': 'nmdc:extrp-11-7v16d010'}, {'extract_has_input': ['nmdc:procsm-11-4x35gd93'], 'extract_has_output': ['nmdc:procsm-11-r8c2df02'], 'extract_id': 'nmdc:extrp-11-7mhth480'}]\n"
     ]
    }
   ],
   "source": [
    "# Get extraction results from \"processed_sample1\" identifiers\n",
    "# We use the process_set1 results and the identifier \"processed_sample1\" to query the \"extraction_set\" collection matching the \n",
    "# \"has_input\" field. We need three fields returned from the extraction set: \"id\", \"has_input\", and \"has_output\"\n",
    "extraction_set = get_id_results(process_set1, \"processed_sample1\", \"extraction_set\", \"has_input\", \"id,has_input,has_output\")\n",
    "\n",
    "# clarify names\n",
    "for extraction in extraction_set:\n",
    "    extraction[\"extract_has_input\"] = extraction.pop(\"has_input\")\n",
    "    extraction[\"extract_has_output\"] = extraction.pop(\"has_output\")\n",
    "    extraction[\"extract_id\"] = extraction.pop(\"id\")\n",
    "\n",
    "print(extraction_set[:4])"
   ]
  },
  {
   "cell_type": "code",
   "execution_count": 19,
   "id": "bcb3dc91-5778-41fc-bbdc-c172bd4f8b10",
   "metadata": {},
   "outputs": [
    {
     "name": "stdout",
     "output_type": "stream",
     "text": [
      "[{'processed_sample1': 'nmdc:procsm-11-07kg2w70', 'soil_horizon': 'M horizon', 'biosample_id': 'nmdc:bsm-11-0fg7rn04', 'pooling_has_input': ['nmdc:bsm-11-0fg7rn04', 'nmdc:bsm-11-x70qj124', 'nmdc:bsm-11-bvnp5w79'], 'pooling_has_output': ['nmdc:procsm-11-07kg2w70'], 'pooling_id': 'nmdc:poolp-11-ksfepg24', 'extract_has_input': ['nmdc:procsm-11-07kg2w70'], 'extract_has_output': ['nmdc:procsm-11-tfxm8j10'], 'extract_id': 'nmdc:extrp-11-1b4fe422'}, {'processed_sample1': 'nmdc:procsm-11-07kg2w70', 'soil_horizon': 'M horizon', 'biosample_id': 'nmdc:bsm-11-0fg7rn04', 'pooling_has_input': ['nmdc:bsm-11-0fg7rn04', 'nmdc:bsm-11-x70qj124', 'nmdc:bsm-11-bvnp5w79'], 'pooling_has_output': ['nmdc:procsm-11-07kg2w70'], 'pooling_id': 'nmdc:poolp-11-ksfepg24', 'extract_has_input': ['nmdc:procsm-11-07kg2w70'], 'extract_has_output': ['nmdc:procsm-11-tfxm8j10'], 'extract_id': 'nmdc:extrp-11-1b4fe422'}]\n"
     ]
    }
   ],
   "source": [
    "# Merge the extraction_set with the merged_list based on the extract_has_input of extraction_set with processed_sample1\n",
    "# from the merged list\n",
    "merged_list = merge_items(merged_list, extraction_set, \"processed_sample1\", \"extract_has_input\") \n",
    "print(merged_list[:2])"
   ]
  },
  {
   "cell_type": "code",
   "execution_count": 20,
   "id": "32efe466-5dbf-4ccd-bd37-bda16af8b999",
   "metadata": {},
   "outputs": [
    {
     "name": "stdout",
     "output_type": "stream",
     "text": [
      "[{'processed_sample2': 'nmdc:procsm-11-06bnpy24'}, {'processed_sample2': 'nmdc:procsm-11-0q8aqj17'}, {'processed_sample2': 'nmdc:procsm-11-0sva2t89'}, {'processed_sample2': 'nmdc:procsm-11-18j5nz50'}]\n"
     ]
    }
   ],
   "source": [
    "# Get processed_sample_set results again from \"extract_has_output\"\n",
    "# We use the extraction_set results and identifier \"extract_has_output\" to query the \"processed_sample_set\" collection matching the\n",
    "# \"id\". We return only the id of the processed_sample_set\n",
    "process_set2 = get_id_results(extraction_set, \"extract_has_output\", \"processed_sample_set\", \"id\", \"id\")\n",
    "\n",
    "# clarify names\n",
    "for samp in process_set2:\n",
    "    samp[\"processed_sample2\"] = samp.pop(\"id\")\n",
    "\n",
    "print(process_set2[:4])"
   ]
  },
  {
   "cell_type": "code",
   "execution_count": 21,
   "id": "79c6177f-79b8-49a5-baee-dedac29875f4",
   "metadata": {},
   "outputs": [
    {
     "name": "stdout",
     "output_type": "stream",
     "text": [
      "[{'processed_sample2': 'nmdc:procsm-11-06bnpy24', 'processed_sample1': 'nmdc:procsm-11-zyvwg950', 'soil_horizon': 'M horizon', 'biosample_id': 'nmdc:bsm-11-02n85875', 'pooling_has_input': ['nmdc:bsm-11-9hb6s366', 'nmdc:bsm-11-02n85875', 'nmdc:bsm-11-wnzbjx02'], 'pooling_has_output': ['nmdc:procsm-11-zyvwg950'], 'pooling_id': 'nmdc:poolp-11-xbcbbs40', 'extract_has_input': ['nmdc:procsm-11-zyvwg950'], 'extract_has_output': ['nmdc:procsm-11-06bnpy24'], 'extract_id': 'nmdc:extrp-11-9v7j4t61'}, {'processed_sample2': 'nmdc:procsm-11-06bnpy24', 'processed_sample1': 'nmdc:procsm-11-zyvwg950', 'soil_horizon': 'M horizon', 'biosample_id': 'nmdc:bsm-11-02n85875', 'pooling_has_input': ['nmdc:bsm-11-9hb6s366', 'nmdc:bsm-11-02n85875', 'nmdc:bsm-11-wnzbjx02'], 'pooling_has_output': ['nmdc:procsm-11-zyvwg950'], 'pooling_id': 'nmdc:poolp-11-xbcbbs40', 'extract_has_input': ['nmdc:procsm-11-zyvwg950'], 'extract_has_output': ['nmdc:procsm-11-06bnpy24'], 'extract_id': 'nmdc:extrp-11-9v7j4t61'}]\n"
     ]
    }
   ],
   "source": [
    "# Merge the process_set2 with the merged_list based on the proccessed_sample2 of process_set2 with extract_has_output\n",
    "#from merged list\n",
    "merged_list = list(merge_items(process_set2, merged_list, \"processed_sample2\", \"extract_has_output\"))\n",
    "print(merged_list[:2])"
   ]
  },
  {
   "cell_type": "code",
   "execution_count": 22,
   "id": "2d125b8c-ee54-4ed5-86b6-3bc6b4c9d143",
   "metadata": {},
   "outputs": [
    {
     "name": "stdout",
     "output_type": "stream",
     "text": [
      "[{'lp_id': 'nmdc:libprp-11-acbfh839', 'lp_has_input': ['nmdc:procsm-11-e3m9am88'], 'lp_has_output': ['nmdc:procsm-11-s71h1s64']}, {'lp_id': 'nmdc:libprp-11-e39ky379', 'lp_has_input': ['nmdc:procsm-11-69w7d751'], 'lp_has_output': ['nmdc:procsm-11-pvq3cw40']}, {'lp_id': 'nmdc:libprp-11-7v2sqk43', 'lp_has_input': ['nmdc:procsm-11-wfr9gq72'], 'lp_has_output': ['nmdc:procsm-11-g7btv939']}, {'lp_id': 'nmdc:libprp-11-7y2d1222', 'lp_has_input': ['nmdc:procsm-11-r8c2df02'], 'lp_has_output': ['nmdc:procsm-11-vvhhwt22']}]\n"
     ]
    }
   ],
   "source": [
    "# Get library_preparation_set results from \"processed_sample2\" \n",
    "# We use the process_set2 results and identifier \"processed_sample2\" to query the library_preparation_set collection matching the \n",
    "# \"has_input\" field. We return the \"has_input\", \"has_output\", and \"id\" fields.\n",
    "library_prep_set = get_id_results(process_set2, \"processed_sample2\", \"library_preparation_set\", \"has_input\", \"id,has_input,has_output\")\n",
    "\n",
    "# clarify names\n",
    "for prep in library_prep_set:\n",
    "    prep[\"lp_id\"] = prep.pop(\"id\")\n",
    "    prep[\"lp_has_input\"] = prep.pop(\"has_input\")\n",
    "    prep[\"lp_has_output\"] = prep.pop(\"has_output\")\n",
    "\n",
    "print(library_prep_set[:4])"
   ]
  },
  {
   "cell_type": "code",
   "execution_count": 23,
   "id": "0c8aa0b9-0bff-418b-8c42-af82923bf8b8",
   "metadata": {},
   "outputs": [
    {
     "name": "stdout",
     "output_type": "stream",
     "text": [
      "[{'processed_sample2': 'nmdc:procsm-11-06bnpy24', 'processed_sample1': 'nmdc:procsm-11-zyvwg950', 'soil_horizon': 'M horizon', 'biosample_id': 'nmdc:bsm-11-02n85875', 'pooling_has_input': ['nmdc:bsm-11-9hb6s366', 'nmdc:bsm-11-02n85875', 'nmdc:bsm-11-wnzbjx02'], 'pooling_has_output': ['nmdc:procsm-11-zyvwg950'], 'pooling_id': 'nmdc:poolp-11-xbcbbs40', 'extract_has_input': ['nmdc:procsm-11-zyvwg950'], 'extract_has_output': ['nmdc:procsm-11-06bnpy24'], 'extract_id': 'nmdc:extrp-11-9v7j4t61', 'lp_id': 'nmdc:libprp-11-z6t9c910', 'lp_has_input': ['nmdc:procsm-11-06bnpy24'], 'lp_has_output': ['nmdc:procsm-11-vyg4vn94']}]\n"
     ]
    }
   ],
   "source": [
    "# Merge library preparation with merged_list on \"processed_sample2\" and \"lp_has_input\"\n",
    "merged_list = merge_items(merged_list, library_prep_set, \"processed_sample2\", \"lp_has_input\")\n",
    "print(merged_list[:1])"
   ]
  },
  {
   "cell_type": "code",
   "execution_count": 24,
   "id": "8a60946c-ed3f-4355-a469-7401d69edb9c",
   "metadata": {},
   "outputs": [
    {
     "name": "stdout",
     "output_type": "stream",
     "text": [
      "[{'processed_sample3': 'nmdc:procsm-11-062rbk44'}, {'processed_sample3': 'nmdc:procsm-11-0tkbt064'}, {'processed_sample3': 'nmdc:procsm-11-1cmwcb97'}, {'processed_sample3': 'nmdc:procsm-11-211dc865'}]\n"
     ]
    }
   ],
   "source": [
    "# Get process_set3 results from \"lp_has_output\"\n",
    "# Use the library_prep_set results and identifier \"lp_has_output\" to query the processed_sample_set collection matching the\n",
    "# \"id\" field. We return only the \"id\" field\n",
    "process_set3 = get_id_results(library_prep_set, \"lp_has_output\", \"processed_sample_set\", \"id\", \"id\")\n",
    "\n",
    "# clarify keys\n",
    "for samp in process_set3:\n",
    "    samp[\"processed_sample3\"] = samp.pop(\"id\")\n",
    "\n",
    "print(process_set3[:4])"
   ]
  },
  {
   "cell_type": "code",
   "execution_count": 25,
   "id": "4a045b6c-2318-444d-bdba-4ed45ead4204",
   "metadata": {},
   "outputs": [
    {
     "name": "stdout",
     "output_type": "stream",
     "text": [
      "[{'processed_sample3': 'nmdc:procsm-11-062rbk44', 'processed_sample2': 'nmdc:procsm-11-6p7xet10', 'processed_sample1': 'nmdc:procsm-11-z19p2488', 'soil_horizon': 'O horizon', 'biosample_id': 'nmdc:bsm-11-01g9wf51', 'pooling_has_input': ['nmdc:bsm-11-01g9wf51', 'nmdc:bsm-11-d8mzds05', 'nmdc:bsm-11-qf98ze18'], 'pooling_has_output': ['nmdc:procsm-11-z19p2488'], 'pooling_id': 'nmdc:poolp-11-phdxxg80', 'extract_has_input': ['nmdc:procsm-11-z19p2488'], 'extract_has_output': ['nmdc:procsm-11-6p7xet10'], 'extract_id': 'nmdc:extrp-11-1w7rz874', 'lp_id': 'nmdc:libprp-11-2cy94060', 'lp_has_input': ['nmdc:procsm-11-6p7xet10'], 'lp_has_output': ['nmdc:procsm-11-062rbk44']}]\n"
     ]
    }
   ],
   "source": [
    "# Merge proces_set3 results with merged_list on \"lp_has_output\" with \"processed_sample3\" Takes 7+ minutes??\n",
    "merged_list = merge_items(process_set3, merged_list, \"processed_sample3\", \"lp_has_output\")\n",
    "print(merged_list[:1])"
   ]
  },
  {
   "cell_type": "code",
   "execution_count": 26,
   "id": "751a71d5-0813-4d18-a245-493e1159b567",
   "metadata": {},
   "outputs": [
    {
     "name": "stdout",
     "output_type": "stream",
     "text": [
      "[{'op_has_input': ['nmdc:procsm-11-062rbk44'], 'op_id': 'nmdc:omprc-11-bn309345'}, {'op_has_input': ['nmdc:procsm-11-0tkbt064'], 'op_id': 'nmdc:omprc-11-db9g5v27'}, {'op_has_input': ['nmdc:procsm-11-1cmwcb97'], 'op_id': 'nmdc:omprc-11-83e9ph40'}, {'op_has_input': ['nmdc:procsm-11-211dc865'], 'op_id': 'nmdc:omprc-11-kfxafd58'}]\n"
     ]
    }
   ],
   "source": [
    "# Get omics_processing results from \"processed_sample3\"\n",
    "# Use the process_set3 results identifier \"processed_sample3\" to query the omics_processing_set collection matching the\n",
    "# \"has_input\" field. Return \"has_input\" and \"id\"\n",
    "omics_process_set = get_id_results(process_set3, \"processed_sample3\", \"omics_processing_set\", \"has_input\", \"has_input,id\")\n",
    "\n",
    "# clarify keys\n",
    "for op in omics_process_set:\n",
    "    op[\"op_has_input\"] = op.pop(\"has_input\")\n",
    "    op[\"op_id\"] = op.pop(\"id\")\n",
    "\n",
    "print(omics_process_set[:4])"
   ]
  },
  {
   "cell_type": "code",
   "execution_count": 27,
   "id": "0413eff2-ec50-40b0-aa2a-9228a48f6e2d",
   "metadata": {},
   "outputs": [
    {
     "name": "stdout",
     "output_type": "stream",
     "text": [
      "[{'processed_sample3': 'nmdc:procsm-11-062rbk44', 'processed_sample2': 'nmdc:procsm-11-6p7xet10', 'processed_sample1': 'nmdc:procsm-11-z19p2488', 'soil_horizon': 'O horizon', 'biosample_id': 'nmdc:bsm-11-01g9wf51', 'pooling_has_input': ['nmdc:bsm-11-01g9wf51', 'nmdc:bsm-11-d8mzds05', 'nmdc:bsm-11-qf98ze18'], 'pooling_has_output': ['nmdc:procsm-11-z19p2488'], 'pooling_id': 'nmdc:poolp-11-phdxxg80', 'extract_has_input': ['nmdc:procsm-11-z19p2488'], 'extract_has_output': ['nmdc:procsm-11-6p7xet10'], 'extract_id': 'nmdc:extrp-11-1w7rz874', 'lp_id': 'nmdc:libprp-11-2cy94060', 'lp_has_input': ['nmdc:procsm-11-6p7xet10'], 'lp_has_output': ['nmdc:procsm-11-062rbk44'], 'op_has_input': ['nmdc:procsm-11-062rbk44'], 'op_id': 'nmdc:omprc-11-bn309345'}, {'processed_sample3': 'nmdc:procsm-11-062rbk44', 'processed_sample2': 'nmdc:procsm-11-6p7xet10', 'processed_sample1': 'nmdc:procsm-11-z19p2488', 'soil_horizon': 'O horizon', 'biosample_id': 'nmdc:bsm-11-01g9wf51', 'pooling_has_input': ['nmdc:bsm-11-01g9wf51', 'nmdc:bsm-11-d8mzds05', 'nmdc:bsm-11-qf98ze18'], 'pooling_has_output': ['nmdc:procsm-11-z19p2488'], 'pooling_id': 'nmdc:poolp-11-phdxxg80', 'extract_has_input': ['nmdc:procsm-11-z19p2488'], 'extract_has_output': ['nmdc:procsm-11-6p7xet10'], 'extract_id': 'nmdc:extrp-11-1w7rz874', 'lp_id': 'nmdc:libprp-11-2cy94060', 'lp_has_input': ['nmdc:procsm-11-6p7xet10'], 'lp_has_output': ['nmdc:procsm-11-062rbk44'], 'op_has_input': ['nmdc:procsm-11-062rbk44'], 'op_id': 'nmdc:omprc-11-bn309345'}]\n"
     ]
    }
   ],
   "source": [
    "# Merge omics_process_set with merged_list on processed \"processed_sample3\"\n",
    "merged_list = merge_items(merged_list, omics_process_set, \"processed_sample3\", \"op_has_input\")\n",
    "print(merged_list[:2])"
   ]
  },
  {
   "cell_type": "code",
   "execution_count": 57,
   "id": "719cd38e-a087-44c0-92e6-9d4ff4a84ddf",
   "metadata": {},
   "outputs": [
    {
     "name": "stdout",
     "output_type": "stream",
     "text": [
      "[{'mga_id': 'nmdc:wfmgan-11-h05qba23.1', 'mga_was_informed_by': 'nmdc:omprc-11-5qs1cd02', 'mga_has_output': ['nmdc:dobj-11-808cyq50', 'nmdc:dobj-11-13d79a82', 'nmdc:dobj-11-4tq40b21', 'nmdc:dobj-11-489g6c73', 'nmdc:dobj-11-vym3q434', 'nmdc:dobj-11-q65rb692', 'nmdc:dobj-11-pk4m4d30', 'nmdc:dobj-11-q63qm173', 'nmdc:dobj-11-wsxxdm32', 'nmdc:dobj-11-p8zj8b80', 'nmdc:dobj-11-8t1q9z93', 'nmdc:dobj-11-vc24a775', 'nmdc:dobj-11-hqwthj56', 'nmdc:dobj-11-yj5dtn21', 'nmdc:dobj-11-a111qk95', 'nmdc:dobj-11-sb7j8333', 'nmdc:dobj-11-zvd8x106', 'nmdc:dobj-11-yd3jx520', 'nmdc:dobj-11-9mdcj023', 'nmdc:dobj-11-21c88519', 'nmdc:dobj-11-f5n4f987', 'nmdc:dobj-11-zbvkx435', 'nmdc:dobj-11-cet4za93']}, {'mga_id': 'nmdc:wfmgan-11-4h48ff64.1', 'mga_was_informed_by': 'nmdc:omprc-11-1zehaw93', 'mga_has_output': ['nmdc:dobj-11-m70ftn50', 'nmdc:dobj-11-kwbeyv20', 'nmdc:dobj-11-gzt8qq86', 'nmdc:dobj-11-v18qy761', 'nmdc:dobj-11-030k6n13', 'nmdc:dobj-11-mwz10b29', 'nmdc:dobj-11-6x081742', 'nmdc:dobj-11-2hqp2e61', 'nmdc:dobj-11-etwhv536', 'nmdc:dobj-11-f8nce412', 'nmdc:dobj-11-pq6hct36', 'nmdc:dobj-11-xcjjwh29', 'nmdc:dobj-11-gpfd9y70', 'nmdc:dobj-11-szcvc244', 'nmdc:dobj-11-twaykx18', 'nmdc:dobj-11-q7tfr272', 'nmdc:dobj-11-sh59gz35', 'nmdc:dobj-11-j6fvgq70', 'nmdc:dobj-11-y7eff239', 'nmdc:dobj-11-z09htc43', 'nmdc:dobj-11-p0c5nn26', 'nmdc:dobj-11-gjmr1s92', 'nmdc:dobj-11-adhszv40']}]\n"
     ]
    }
   ],
   "source": [
    "# Get metagenome_annotation_activity_set from \"op_id\"\n",
    "# Use the omics_process_set results identifier \"op_id\" to query the metagenome_annotation_activity_set collection matching\n",
    "# the \"was_informed_by\" field. Return \"was_informed_by\" and \"has_output\"\n",
    "meta_act_ann_set = get_id_results(omics_process_set, \"op_id\", \"metagenome_annotation_activity_set\", \"was_informed_by\", \"has_output,was_informed_by,id\")\n",
    "\n",
    "# clarify names\n",
    "for mga in meta_act_ann_set:\n",
    "    mga[\"mga_id\"] = mga.pop(\"id\")\n",
    "    mga[\"mga_was_informed_by\"] = mga.pop(\"was_informed_by\")\n",
    "    mga[\"mga_has_output\"] = mga.pop(\"has_output\")\n",
    "\n",
    "print(meta_act_ann_set[:2])"
   ]
  },
  {
   "cell_type": "code",
   "execution_count": 59,
   "id": "01f0e2f6-7768-4a7e-b873-c3591b610bfd",
   "metadata": {},
   "outputs": [
    {
     "name": "stdout",
     "output_type": "stream",
     "text": [
      "[{'processed_sample3': 'nmdc:procsm-11-062rbk44', 'processed_sample2': 'nmdc:procsm-11-6p7xet10', 'processed_sample1': 'nmdc:procsm-11-z19p2488', 'soil_horizon': 'O horizon', 'biosample_id': 'nmdc:bsm-11-01g9wf51', 'pooling_has_input': ['nmdc:bsm-11-01g9wf51', 'nmdc:bsm-11-d8mzds05', 'nmdc:bsm-11-qf98ze18'], 'pooling_has_output': ['nmdc:procsm-11-z19p2488'], 'pooling_id': 'nmdc:poolp-11-phdxxg80', 'extract_has_input': ['nmdc:procsm-11-z19p2488'], 'extract_has_output': ['nmdc:procsm-11-6p7xet10'], 'extract_id': 'nmdc:extrp-11-1w7rz874', 'lp_id': 'nmdc:libprp-11-2cy94060', 'lp_has_input': ['nmdc:procsm-11-6p7xet10'], 'lp_has_output': ['nmdc:procsm-11-062rbk44'], 'op_has_input': ['nmdc:procsm-11-062rbk44'], 'op_id': 'nmdc:omprc-11-bn309345', 'mga_id': 'nmdc:wfmgan-11-f8cseh97.1', 'mga_was_informed_by': 'nmdc:omprc-11-bn309345', 'mga_has_output': ['nmdc:dobj-11-f1trcg75', 'nmdc:dobj-11-5pqvfm47', 'nmdc:dobj-11-55n2dk28', 'nmdc:dobj-11-5x2ebc40', 'nmdc:dobj-11-18y0s926', 'nmdc:dobj-11-2tmqv903', 'nmdc:dobj-11-n1qffz07', 'nmdc:dobj-11-qwvzac22', 'nmdc:dobj-11-273hvf90', 'nmdc:dobj-11-gfn61k30', 'nmdc:dobj-11-16680770', 'nmdc:dobj-11-rcfs0m24', 'nmdc:dobj-11-enffhz48', 'nmdc:dobj-11-dnzvxa07', 'nmdc:dobj-11-3d9sbn49', 'nmdc:dobj-11-yprkrv80', 'nmdc:dobj-11-xsze9m50', 'nmdc:dobj-11-te13mf30', 'nmdc:dobj-11-yvtw3a28', 'nmdc:dobj-11-j1mfr220', 'nmdc:dobj-11-zwpf5g47', 'nmdc:dobj-11-kmecp917', 'nmdc:dobj-11-nrtbma83']}, {'processed_sample3': 'nmdc:procsm-11-062rbk44', 'processed_sample2': 'nmdc:procsm-11-6p7xet10', 'processed_sample1': 'nmdc:procsm-11-z19p2488', 'soil_horizon': 'O horizon', 'biosample_id': 'nmdc:bsm-11-01g9wf51', 'pooling_has_input': ['nmdc:bsm-11-01g9wf51', 'nmdc:bsm-11-d8mzds05', 'nmdc:bsm-11-qf98ze18'], 'pooling_has_output': ['nmdc:procsm-11-z19p2488'], 'pooling_id': 'nmdc:poolp-11-phdxxg80', 'extract_has_input': ['nmdc:procsm-11-z19p2488'], 'extract_has_output': ['nmdc:procsm-11-6p7xet10'], 'extract_id': 'nmdc:extrp-11-1w7rz874', 'lp_id': 'nmdc:libprp-11-2cy94060', 'lp_has_input': ['nmdc:procsm-11-6p7xet10'], 'lp_has_output': ['nmdc:procsm-11-062rbk44'], 'op_has_input': ['nmdc:procsm-11-062rbk44'], 'op_id': 'nmdc:omprc-11-bn309345', 'mga_id': 'nmdc:wfmgan-11-f8cseh97.1', 'mga_was_informed_by': 'nmdc:omprc-11-bn309345', 'mga_has_output': ['nmdc:dobj-11-f1trcg75', 'nmdc:dobj-11-5pqvfm47', 'nmdc:dobj-11-55n2dk28', 'nmdc:dobj-11-5x2ebc40', 'nmdc:dobj-11-18y0s926', 'nmdc:dobj-11-2tmqv903', 'nmdc:dobj-11-n1qffz07', 'nmdc:dobj-11-qwvzac22', 'nmdc:dobj-11-273hvf90', 'nmdc:dobj-11-gfn61k30', 'nmdc:dobj-11-16680770', 'nmdc:dobj-11-rcfs0m24', 'nmdc:dobj-11-enffhz48', 'nmdc:dobj-11-dnzvxa07', 'nmdc:dobj-11-3d9sbn49', 'nmdc:dobj-11-yprkrv80', 'nmdc:dobj-11-xsze9m50', 'nmdc:dobj-11-te13mf30', 'nmdc:dobj-11-yvtw3a28', 'nmdc:dobj-11-j1mfr220', 'nmdc:dobj-11-zwpf5g47', 'nmdc:dobj-11-kmecp917', 'nmdc:dobj-11-nrtbma83']}]\n"
     ]
    }
   ],
   "source": [
    "# Merge metagenome activity set with merged_list on mga_has_input\n",
    "merged_list = merge_items(merged_list, meta_act_ann_set,  \"op_id\", \"mga_was_informed_by\")\n",
    "print(merged_list[:2])"
   ]
  },
  {
   "cell_type": "code",
   "execution_count": 89,
   "id": "b5f329c3-2190-4ce2-9422-38287801b9fe",
   "metadata": {},
   "outputs": [
    {
     "name": "stdout",
     "output_type": "stream",
     "text": [
      "[{'id': 'nmdc:dobj-11-1txpq765', 'data_object_type': 'Scaffold Lineage tsv', 'url': 'https://data.microbiomedata.org/data/nmdc:omprc-11-897qak81/nmdc:wfmgan-11-0w0rnd53.1/nmdc_wfmgan-11-0w0rnd53.1_scaffold_lineage.tsv'}, {'id': 'nmdc:dobj-11-2tmqv903', 'data_object_type': 'Scaffold Lineage tsv', 'url': 'https://data.microbiomedata.org/data/nmdc:omprc-11-bn309345/nmdc:wfmgan-11-f8cseh97.1/nmdc_wfmgan-11-f8cseh97.1_scaffold_lineage.tsv'}]\n"
     ]
    }
   ],
   "source": [
    "# Get data_object_set from \"mga_has_output\"\n",
    "# Use the met_act_ann_set results identifier \"mga_has_output\" to query the data_object_set collection matching\n",
    "# the \"id\" field. Return \"id\", \"data_object_type\": \"Scaffold Lineage tsv\", \"data_object_url\"\n",
    "data_ob_set = get_id_results(meta_act_ann_set, \"mga_has_output\", \"data_object_set\", '\"data_object_type\": \"Scaffold Lineage tsv\", \"id\"', \n",
    "                             \"id,data_object_type,url\")\n",
    "\n",
    "print(data_ob_set[:2])"
   ]
  },
  {
   "cell_type": "code",
   "execution_count": 90,
   "id": "e81a0a8f-f39d-40af-91d9-bd79582ca062",
   "metadata": {},
   "outputs": [
    {
     "name": "stdout",
     "output_type": "stream",
     "text": [
      "[{'data_object_type': 'Scaffold Lineage tsv', 'url': 'https://data.microbiomedata.org/data/nmdc:omprc-11-897qak81/nmdc:wfmgan-11-0w0rnd53.1/nmdc_wfmgan-11-0w0rnd53.1_scaffold_lineage.tsv', 'data_ob_id': 'nmdc:dobj-11-1txpq765'}, {'data_object_type': 'Scaffold Lineage tsv', 'url': 'https://data.microbiomedata.org/data/nmdc:omprc-11-bn309345/nmdc:wfmgan-11-f8cseh97.1/nmdc_wfmgan-11-f8cseh97.1_scaffold_lineage.tsv', 'data_ob_id': 'nmdc:dobj-11-2tmqv903'}]\n"
     ]
    }
   ],
   "source": [
    "# clarify fields\n",
    "for ob in data_ob_set:\n",
    "    ob[\"data_ob_id\"] = ob.pop(\"id\")\n",
    "print(data_ob_set[:2])"
   ]
  },
  {
   "cell_type": "code",
   "execution_count": null,
   "id": "128a9946-6bff-4a79-a636-ecb55aacf265",
   "metadata": {},
   "outputs": [],
   "source": [
    "# Merge data_object_set with merged_list on id\n",
    "merged_list = merge_items(data_ob_set, merged_list, \"data_ob_id\", \"mga_has_output\")\n",
    "print(merged_list[:2])"
   ]
  },
  {
   "cell_type": "code",
   "execution_count": null,
   "id": "bd6c3f4a-9eda-4db7-bb68-c4d012ec1a0f",
   "metadata": {},
   "outputs": [],
   "source": []
  }
 ],
 "metadata": {
  "kernelspec": {
   "display_name": "Python 3 (ipykernel)",
   "language": "python",
   "name": "python3"
  },
  "language_info": {
   "codemirror_mode": {
    "name": "ipython",
    "version": 3
   },
   "file_extension": ".py",
   "mimetype": "text/x-python",
   "name": "python",
   "nbconvert_exporter": "python",
   "pygments_lexer": "ipython3",
   "version": "3.10.11"
  }
 },
 "nbformat": 4,
 "nbformat_minor": 5
}
