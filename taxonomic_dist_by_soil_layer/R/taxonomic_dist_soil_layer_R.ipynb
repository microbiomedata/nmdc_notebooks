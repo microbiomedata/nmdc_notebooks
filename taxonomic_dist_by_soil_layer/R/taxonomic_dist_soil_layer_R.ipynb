{
 "cells": [
  {
   "cell_type": "markdown",
   "id": "ca6d9cc3-0d70-41d8-9cfe-9253ec786894",
   "metadata": {},
   "source": [
    "# How does the taxonomic distribution of contigs differ by soil layer (mineral vs organic) in Colorado?\n",
    "\n",
    "This notebook uses the existing NMDC-runtime API endpoints (as of May 2024) to explore how the taxononomic distribution of metagenome contigs differ by the mineral and organic soil layers in Colorado. It involves 9 API requests to reach the scaffold lineage TSV data objects in order to analyze the taxanomic distribution. Iterating through the TSV files includes 100+ API calls to get the necessary taxonomic counts and is time consuming. "
   ]
  },
  {
   "cell_type": "code",
   "execution_count": 1,
   "id": "568d7112-ee43-41ce-aadb-39eaa9585dbd",
   "metadata": {
    "metadata": {},
    "vscode": {
     "languageId": "r"
    }
   },
   "outputs": [],
   "source": [
    "# Load essential libraries\n",
    "library(jsonlite, warn.conflicts=FALSE)\n",
    "library(dplyr, warn.conflicts=FALSE)\n",
    "library(tidyr, warn.conflicts=FALSE)\n",
    "library(readr, warn.conflicts=FALSE)\n",
    "library(ggplot2, warn.conflicts=FALSE)\n",
    "\n",
    "if(Sys.getenv(\"COLAB_BACKEND_VERSION\") == \"\") source(\"../../utility_functions.R\")\n",
    "\n",
    "if(Sys.getenv(\"COLAB_BACKEND_VERSION\") != \"\") source(\"http://raw.githubusercontent.com/microbiomedata/nmdc_notebooks/refs/heads/90-modularize-r-api-wrapper-functions/utility_functions.R\")"
   ]
  },
  {
   "cell_type": "markdown",
   "id": "c3494f01-ac01-4eac-85d5-728622ddac6b",
   "metadata": {},
   "source": [
    "# 1. Get all biosamples where soil_horizon exists and the geo_loc_name has \"Colorado\" in the name\n",
    "\n",
    "The first step in answering how the taxonomic distribution of contigs differ by soil layer is to get a list of all the biosamples that have metadata for soil_horizon and a string matching \"Colorado, Rocky Mountains\" for the geo_loc_name. We use the `get_all_results` function (defined in `utility_functions.R`) to do this. We query the biosample_set collection with a mongo-like filter of `{\"soil_horizon\":{\"$exists\": true}, \"geo_loc_name.has_raw_value\": {\"$regex\": \"Colorado\"}}`, a maximum page size of 100, and specifying that we want three fields returned id, soil_horizon, and geo_loc_name. Note that id is always returned. Since we will be joining the results of multiple API requests with a field of id for different collections, we can change the name of the id key to be more explicit - calling it biosample_id instead."
   ]
  },
  {
   "cell_type": "code",
   "execution_count": 2,
   "id": "780eae36-3f46-4c3e-bd26-b2a33c463441",
   "metadata": {
    "metadata": {},
    "vscode": {
     "languageId": "r"
    }
   },
   "outputs": [
    {
     "data": {
      "text/html": [
       "<table class=\"dataframe\">\n",
       "<caption>A tibble: 6 × 4</caption>\n",
       "<thead>\n",
       "\t<tr><th scope=col>biosample_id</th><th scope=col>soil_horizon</th><th scope=col>geo_loc_name</th><th scope=col>geo_loc_name_type</th></tr>\n",
       "\t<tr><th scope=col>&lt;chr&gt;</th><th scope=col>&lt;chr&gt;</th><th scope=col>&lt;chr&gt;</th><th scope=col>&lt;chr&gt;</th></tr>\n",
       "</thead>\n",
       "<tbody>\n",
       "\t<tr><td>nmdc:bsm-11-00m15h97</td><td>M horizon</td><td>USA: Colorado, Central Plains Experimental Range</td><td>nmdc:TextValue</td></tr>\n",
       "\t<tr><td>nmdc:bsm-11-06ta8e31</td><td>M horizon</td><td>USA: Colorado, Central Plains Experimental Range</td><td>nmdc:TextValue</td></tr>\n",
       "\t<tr><td>nmdc:bsm-11-06tgpb52</td><td>O horizon</td><td>USA: Colorado, Rocky Mountains                  </td><td>nmdc:TextValue</td></tr>\n",
       "\t<tr><td>nmdc:bsm-11-0asn5d63</td><td>M horizon</td><td>USA: Colorado, Central Plains Experimental Range</td><td>nmdc:TextValue</td></tr>\n",
       "\t<tr><td>nmdc:bsm-11-0djp2e45</td><td>M horizon</td><td>USA: Colorado, North Sterling                   </td><td>nmdc:TextValue</td></tr>\n",
       "\t<tr><td>nmdc:bsm-11-0f43ab20</td><td>M horizon</td><td>USA: Colorado, Central Plains Experimental Range</td><td>nmdc:TextValue</td></tr>\n",
       "</tbody>\n",
       "</table>\n"
      ],
      "text/latex": [
       "A tibble: 6 × 4\n",
       "\\begin{tabular}{llll}\n",
       " biosample\\_id & soil\\_horizon & geo\\_loc\\_name & geo\\_loc\\_name\\_type\\\\\n",
       " <chr> & <chr> & <chr> & <chr>\\\\\n",
       "\\hline\n",
       "\t nmdc:bsm-11-00m15h97 & M horizon & USA: Colorado, Central Plains Experimental Range & nmdc:TextValue\\\\\n",
       "\t nmdc:bsm-11-06ta8e31 & M horizon & USA: Colorado, Central Plains Experimental Range & nmdc:TextValue\\\\\n",
       "\t nmdc:bsm-11-06tgpb52 & O horizon & USA: Colorado, Rocky Mountains                   & nmdc:TextValue\\\\\n",
       "\t nmdc:bsm-11-0asn5d63 & M horizon & USA: Colorado, Central Plains Experimental Range & nmdc:TextValue\\\\\n",
       "\t nmdc:bsm-11-0djp2e45 & M horizon & USA: Colorado, North Sterling                    & nmdc:TextValue\\\\\n",
       "\t nmdc:bsm-11-0f43ab20 & M horizon & USA: Colorado, Central Plains Experimental Range & nmdc:TextValue\\\\\n",
       "\\end{tabular}\n"
      ],
      "text/markdown": [
       "\n",
       "A tibble: 6 × 4\n",
       "\n",
       "| biosample_id &lt;chr&gt; | soil_horizon &lt;chr&gt; | geo_loc_name &lt;chr&gt; | geo_loc_name_type &lt;chr&gt; |\n",
       "|---|---|---|---|\n",
       "| nmdc:bsm-11-00m15h97 | M horizon | USA: Colorado, Central Plains Experimental Range | nmdc:TextValue |\n",
       "| nmdc:bsm-11-06ta8e31 | M horizon | USA: Colorado, Central Plains Experimental Range | nmdc:TextValue |\n",
       "| nmdc:bsm-11-06tgpb52 | O horizon | USA: Colorado, Rocky Mountains                   | nmdc:TextValue |\n",
       "| nmdc:bsm-11-0asn5d63 | M horizon | USA: Colorado, Central Plains Experimental Range | nmdc:TextValue |\n",
       "| nmdc:bsm-11-0djp2e45 | M horizon | USA: Colorado, North Sterling                    | nmdc:TextValue |\n",
       "| nmdc:bsm-11-0f43ab20 | M horizon | USA: Colorado, Central Plains Experimental Range | nmdc:TextValue |\n",
       "\n"
      ],
      "text/plain": [
       "  biosample_id         soil_horizon\n",
       "1 nmdc:bsm-11-00m15h97 M horizon   \n",
       "2 nmdc:bsm-11-06ta8e31 M horizon   \n",
       "3 nmdc:bsm-11-06tgpb52 O horizon   \n",
       "4 nmdc:bsm-11-0asn5d63 M horizon   \n",
       "5 nmdc:bsm-11-0djp2e45 M horizon   \n",
       "6 nmdc:bsm-11-0f43ab20 M horizon   \n",
       "  geo_loc_name                                     geo_loc_name_type\n",
       "1 USA: Colorado, Central Plains Experimental Range nmdc:TextValue   \n",
       "2 USA: Colorado, Central Plains Experimental Range nmdc:TextValue   \n",
       "3 USA: Colorado, Rocky Mountains                   nmdc:TextValue   \n",
       "4 USA: Colorado, Central Plains Experimental Range nmdc:TextValue   \n",
       "5 USA: Colorado, North Sterling                    nmdc:TextValue   \n",
       "6 USA: Colorado, Central Plains Experimental Range nmdc:TextValue   "
      ]
     },
     "metadata": {},
     "output_type": "display_data"
    }
   ],
   "source": [
    "# Get biosamples using get_all_results function\n",
    "biosample_df <- get_all_results(\n",
    "    collection = 'biosample_set', \n",
    "    filter_text = '{\"soil_horizon\":{\"$exists\": true}, \"geo_loc_name.has_raw_value\": {\"$regex\": \"Colorado\"}}', \n",
    "    max_page_size = 100, \n",
    "    fields = 'id,soil_horizon,geo_loc_name'\n",
    "    )\n",
    "\n",
    "# Clarify the column names\n",
    "biosample_df <- biosample_df %>%\n",
    "    unnest(\n",
    "        cols = c(\n",
    "            geo_loc_name\n",
    "        ), names_sep = \"_\") %>% \n",
    "    rename(biosample_id = id,\n",
    "           geo_loc_name = geo_loc_name_has_raw_value)\n",
    "head(biosample_df)"
   ]
  },
  {
   "cell_type": "markdown",
   "id": "4f512f80-3f14-481c-a28c-f6797fc61882",
   "metadata": {},
   "source": [
    "# 2. Get all Pooling results where the Pooling `has_input` are the biosample ids\n",
    "\n",
    "We use the `get_results_by_id` function to get a list of all pooling results whose `has_input` values are any of the `biosample_id`s we retrieved in step 1. After, the pooling results are unnested to a flat data frame, and the names are cleaned up so it is clear which collection the results are from. Because `Pooling` is a subclass of `MaterialProcessing` the pooling records are found in the `material_processing_set`."
   ]
  },
  {
   "cell_type": "code",
   "execution_count": 3,
   "id": "a8fc4389-49d8-42ea-a56b-a561c01900ff",
   "metadata": {
    "metadata": {},
    "vscode": {
     "languageId": "r"
    }
   },
   "outputs": [
    {
     "data": {
      "text/html": [
       "<table class=\"dataframe\">\n",
       "<caption>A tibble: 6 × 3</caption>\n",
       "<thead>\n",
       "\t<tr><th scope=col>pooling_id</th><th scope=col>biosample_id</th><th scope=col>pooling_has_output</th></tr>\n",
       "\t<tr><th scope=col>&lt;chr&gt;</th><th scope=col>&lt;chr&gt;</th><th scope=col>&lt;chr&gt;</th></tr>\n",
       "</thead>\n",
       "<tbody>\n",
       "\t<tr><td>nmdc:extrp-11-bm4gp651</td><td>nmdc:bsm-11-0f43ab20</td><td>nmdc:procsm-11-6x9hd461</td></tr>\n",
       "\t<tr><td>nmdc:extrp-11-kxh7ex80</td><td>nmdc:bsm-11-0r62mq05</td><td>nmdc:procsm-11-60vf4k79</td></tr>\n",
       "\t<tr><td>nmdc:extrp-11-mkhbfr22</td><td>nmdc:bsm-11-1frj0t76</td><td>nmdc:procsm-11-nzvht045</td></tr>\n",
       "\t<tr><td>nmdc:extrp-11-ysq0cv31</td><td>nmdc:bsm-11-1481pt52</td><td>nmdc:procsm-11-pvskrs02</td></tr>\n",
       "\t<tr><td>nmdc:poolp-11-0xm4qn65</td><td>nmdc:bsm-11-0yw1rj05</td><td>nmdc:procsm-11-vqjw0h14</td></tr>\n",
       "\t<tr><td>nmdc:poolp-11-0xm4qn65</td><td>nmdc:bsm-11-5wwh4520</td><td>nmdc:procsm-11-vqjw0h14</td></tr>\n",
       "</tbody>\n",
       "</table>\n"
      ],
      "text/latex": [
       "A tibble: 6 × 3\n",
       "\\begin{tabular}{lll}\n",
       " pooling\\_id & biosample\\_id & pooling\\_has\\_output\\\\\n",
       " <chr> & <chr> & <chr>\\\\\n",
       "\\hline\n",
       "\t nmdc:extrp-11-bm4gp651 & nmdc:bsm-11-0f43ab20 & nmdc:procsm-11-6x9hd461\\\\\n",
       "\t nmdc:extrp-11-kxh7ex80 & nmdc:bsm-11-0r62mq05 & nmdc:procsm-11-60vf4k79\\\\\n",
       "\t nmdc:extrp-11-mkhbfr22 & nmdc:bsm-11-1frj0t76 & nmdc:procsm-11-nzvht045\\\\\n",
       "\t nmdc:extrp-11-ysq0cv31 & nmdc:bsm-11-1481pt52 & nmdc:procsm-11-pvskrs02\\\\\n",
       "\t nmdc:poolp-11-0xm4qn65 & nmdc:bsm-11-0yw1rj05 & nmdc:procsm-11-vqjw0h14\\\\\n",
       "\t nmdc:poolp-11-0xm4qn65 & nmdc:bsm-11-5wwh4520 & nmdc:procsm-11-vqjw0h14\\\\\n",
       "\\end{tabular}\n"
      ],
      "text/markdown": [
       "\n",
       "A tibble: 6 × 3\n",
       "\n",
       "| pooling_id &lt;chr&gt; | biosample_id &lt;chr&gt; | pooling_has_output &lt;chr&gt; |\n",
       "|---|---|---|\n",
       "| nmdc:extrp-11-bm4gp651 | nmdc:bsm-11-0f43ab20 | nmdc:procsm-11-6x9hd461 |\n",
       "| nmdc:extrp-11-kxh7ex80 | nmdc:bsm-11-0r62mq05 | nmdc:procsm-11-60vf4k79 |\n",
       "| nmdc:extrp-11-mkhbfr22 | nmdc:bsm-11-1frj0t76 | nmdc:procsm-11-nzvht045 |\n",
       "| nmdc:extrp-11-ysq0cv31 | nmdc:bsm-11-1481pt52 | nmdc:procsm-11-pvskrs02 |\n",
       "| nmdc:poolp-11-0xm4qn65 | nmdc:bsm-11-0yw1rj05 | nmdc:procsm-11-vqjw0h14 |\n",
       "| nmdc:poolp-11-0xm4qn65 | nmdc:bsm-11-5wwh4520 | nmdc:procsm-11-vqjw0h14 |\n",
       "\n"
      ],
      "text/plain": [
       "  pooling_id             biosample_id         pooling_has_output     \n",
       "1 nmdc:extrp-11-bm4gp651 nmdc:bsm-11-0f43ab20 nmdc:procsm-11-6x9hd461\n",
       "2 nmdc:extrp-11-kxh7ex80 nmdc:bsm-11-0r62mq05 nmdc:procsm-11-60vf4k79\n",
       "3 nmdc:extrp-11-mkhbfr22 nmdc:bsm-11-1frj0t76 nmdc:procsm-11-nzvht045\n",
       "4 nmdc:extrp-11-ysq0cv31 nmdc:bsm-11-1481pt52 nmdc:procsm-11-pvskrs02\n",
       "5 nmdc:poolp-11-0xm4qn65 nmdc:bsm-11-0yw1rj05 nmdc:procsm-11-vqjw0h14\n",
       "6 nmdc:poolp-11-0xm4qn65 nmdc:bsm-11-5wwh4520 nmdc:procsm-11-vqjw0h14"
      ]
     },
     "metadata": {},
     "output_type": "display_data"
    }
   ],
   "source": [
    "pooling_df <- get_results_by_id(\n",
    "    collection = 'material_processing_set',\n",
    "    match_id_field = 'has_input',\n",
    "    id_list = biosample_df$biosample_id,\n",
    "    fields = 'id,has_input,has_output',\n",
    "    max_page_size = 20\n",
    ")\n",
    "\n",
    "# Unnest the has_input and has_output columns, get unique results, and rename the columns.\n",
    "pooling_df2 <- pooling_df %>%\n",
    "    unnest(\n",
    "        cols = c(\n",
    "            has_input,\n",
    "            has_output\n",
    "        ), names_sep = \"_\") %>%\n",
    "    distinct() %>%\n",
    "    rename(pooling_id = id,\n",
    "           biosample_id = has_input,\n",
    "           pooling_has_output = has_output)\n",
    "head(pooling_df2)"
   ]
  },
  {
   "cell_type": "markdown",
   "id": "6faa60ca-c102-4be9-a5ee-60a350b6503c",
   "metadata": {},
   "source": [
    "Merge the biosample and pooling dataframes together to get a dataframe with biosample and pooling data."
   ]
  },
  {
   "cell_type": "code",
   "execution_count": 4,
   "id": "0aa58275-a5e6-418f-a04c-b1ef5e21f65e",
   "metadata": {
    "metadata": {},
    "vscode": {
     "languageId": "r"
    }
   },
   "outputs": [
    {
     "data": {
      "text/html": [
       "<table class=\"dataframe\">\n",
       "<caption>A tibble: 6 × 6</caption>\n",
       "<thead>\n",
       "\t<tr><th scope=col>biosample_id</th><th scope=col>soil_horizon</th><th scope=col>geo_loc_name</th><th scope=col>geo_loc_name_type</th><th scope=col>pooling_id</th><th scope=col>pooling_has_output</th></tr>\n",
       "\t<tr><th scope=col>&lt;chr&gt;</th><th scope=col>&lt;chr&gt;</th><th scope=col>&lt;chr&gt;</th><th scope=col>&lt;chr&gt;</th><th scope=col>&lt;chr&gt;</th><th scope=col>&lt;chr&gt;</th></tr>\n",
       "</thead>\n",
       "<tbody>\n",
       "\t<tr><td>nmdc:bsm-11-00m15h97</td><td>M horizon</td><td>USA: Colorado, Central Plains Experimental Range</td><td>nmdc:TextValue</td><td>nmdc:poolp-11-gxv2dy50</td><td>nmdc:procsm-11-ytthx235</td></tr>\n",
       "\t<tr><td>nmdc:bsm-11-06ta8e31</td><td>M horizon</td><td>USA: Colorado, Central Plains Experimental Range</td><td>nmdc:TextValue</td><td>nmdc:poolp-11-5e2asm75</td><td>nmdc:procsm-11-5s07gt34</td></tr>\n",
       "\t<tr><td>nmdc:bsm-11-06tgpb52</td><td>O horizon</td><td>USA: Colorado, Rocky Mountains                  </td><td>nmdc:TextValue</td><td>nmdc:poolp-11-qq41ss20</td><td>nmdc:procsm-11-ez7edj21</td></tr>\n",
       "\t<tr><td>nmdc:bsm-11-0asn5d63</td><td>M horizon</td><td>USA: Colorado, Central Plains Experimental Range</td><td>nmdc:TextValue</td><td>nmdc:poolp-11-pak1ws91</td><td>nmdc:procsm-11-y8w3sk61</td></tr>\n",
       "\t<tr><td>nmdc:bsm-11-0djp2e45</td><td>M horizon</td><td>USA: Colorado, North Sterling                   </td><td>nmdc:TextValue</td><td>nmdc:poolp-11-vfkwpy98</td><td>nmdc:procsm-11-258vbz70</td></tr>\n",
       "\t<tr><td>nmdc:bsm-11-0f43ab20</td><td>M horizon</td><td>USA: Colorado, Central Plains Experimental Range</td><td>nmdc:TextValue</td><td>nmdc:extrp-11-bm4gp651</td><td>nmdc:procsm-11-6x9hd461</td></tr>\n",
       "</tbody>\n",
       "</table>\n"
      ],
      "text/latex": [
       "A tibble: 6 × 6\n",
       "\\begin{tabular}{llllll}\n",
       " biosample\\_id & soil\\_horizon & geo\\_loc\\_name & geo\\_loc\\_name\\_type & pooling\\_id & pooling\\_has\\_output\\\\\n",
       " <chr> & <chr> & <chr> & <chr> & <chr> & <chr>\\\\\n",
       "\\hline\n",
       "\t nmdc:bsm-11-00m15h97 & M horizon & USA: Colorado, Central Plains Experimental Range & nmdc:TextValue & nmdc:poolp-11-gxv2dy50 & nmdc:procsm-11-ytthx235\\\\\n",
       "\t nmdc:bsm-11-06ta8e31 & M horizon & USA: Colorado, Central Plains Experimental Range & nmdc:TextValue & nmdc:poolp-11-5e2asm75 & nmdc:procsm-11-5s07gt34\\\\\n",
       "\t nmdc:bsm-11-06tgpb52 & O horizon & USA: Colorado, Rocky Mountains                   & nmdc:TextValue & nmdc:poolp-11-qq41ss20 & nmdc:procsm-11-ez7edj21\\\\\n",
       "\t nmdc:bsm-11-0asn5d63 & M horizon & USA: Colorado, Central Plains Experimental Range & nmdc:TextValue & nmdc:poolp-11-pak1ws91 & nmdc:procsm-11-y8w3sk61\\\\\n",
       "\t nmdc:bsm-11-0djp2e45 & M horizon & USA: Colorado, North Sterling                    & nmdc:TextValue & nmdc:poolp-11-vfkwpy98 & nmdc:procsm-11-258vbz70\\\\\n",
       "\t nmdc:bsm-11-0f43ab20 & M horizon & USA: Colorado, Central Plains Experimental Range & nmdc:TextValue & nmdc:extrp-11-bm4gp651 & nmdc:procsm-11-6x9hd461\\\\\n",
       "\\end{tabular}\n"
      ],
      "text/markdown": [
       "\n",
       "A tibble: 6 × 6\n",
       "\n",
       "| biosample_id &lt;chr&gt; | soil_horizon &lt;chr&gt; | geo_loc_name &lt;chr&gt; | geo_loc_name_type &lt;chr&gt; | pooling_id &lt;chr&gt; | pooling_has_output &lt;chr&gt; |\n",
       "|---|---|---|---|---|---|\n",
       "| nmdc:bsm-11-00m15h97 | M horizon | USA: Colorado, Central Plains Experimental Range | nmdc:TextValue | nmdc:poolp-11-gxv2dy50 | nmdc:procsm-11-ytthx235 |\n",
       "| nmdc:bsm-11-06ta8e31 | M horizon | USA: Colorado, Central Plains Experimental Range | nmdc:TextValue | nmdc:poolp-11-5e2asm75 | nmdc:procsm-11-5s07gt34 |\n",
       "| nmdc:bsm-11-06tgpb52 | O horizon | USA: Colorado, Rocky Mountains                   | nmdc:TextValue | nmdc:poolp-11-qq41ss20 | nmdc:procsm-11-ez7edj21 |\n",
       "| nmdc:bsm-11-0asn5d63 | M horizon | USA: Colorado, Central Plains Experimental Range | nmdc:TextValue | nmdc:poolp-11-pak1ws91 | nmdc:procsm-11-y8w3sk61 |\n",
       "| nmdc:bsm-11-0djp2e45 | M horizon | USA: Colorado, North Sterling                    | nmdc:TextValue | nmdc:poolp-11-vfkwpy98 | nmdc:procsm-11-258vbz70 |\n",
       "| nmdc:bsm-11-0f43ab20 | M horizon | USA: Colorado, Central Plains Experimental Range | nmdc:TextValue | nmdc:extrp-11-bm4gp651 | nmdc:procsm-11-6x9hd461 |\n",
       "\n"
      ],
      "text/plain": [
       "  biosample_id         soil_horizon\n",
       "1 nmdc:bsm-11-00m15h97 M horizon   \n",
       "2 nmdc:bsm-11-06ta8e31 M horizon   \n",
       "3 nmdc:bsm-11-06tgpb52 O horizon   \n",
       "4 nmdc:bsm-11-0asn5d63 M horizon   \n",
       "5 nmdc:bsm-11-0djp2e45 M horizon   \n",
       "6 nmdc:bsm-11-0f43ab20 M horizon   \n",
       "  geo_loc_name                                     geo_loc_name_type\n",
       "1 USA: Colorado, Central Plains Experimental Range nmdc:TextValue   \n",
       "2 USA: Colorado, Central Plains Experimental Range nmdc:TextValue   \n",
       "3 USA: Colorado, Rocky Mountains                   nmdc:TextValue   \n",
       "4 USA: Colorado, Central Plains Experimental Range nmdc:TextValue   \n",
       "5 USA: Colorado, North Sterling                    nmdc:TextValue   \n",
       "6 USA: Colorado, Central Plains Experimental Range nmdc:TextValue   \n",
       "  pooling_id             pooling_has_output     \n",
       "1 nmdc:poolp-11-gxv2dy50 nmdc:procsm-11-ytthx235\n",
       "2 nmdc:poolp-11-5e2asm75 nmdc:procsm-11-5s07gt34\n",
       "3 nmdc:poolp-11-qq41ss20 nmdc:procsm-11-ez7edj21\n",
       "4 nmdc:poolp-11-pak1ws91 nmdc:procsm-11-y8w3sk61\n",
       "5 nmdc:poolp-11-vfkwpy98 nmdc:procsm-11-258vbz70\n",
       "6 nmdc:extrp-11-bm4gp651 nmdc:procsm-11-6x9hd461"
      ]
     },
     "metadata": {},
     "output_type": "display_data"
    }
   ],
   "source": [
    "biosample_df2 <- left_join(biosample_df, pooling_df2, by = 'biosample_id')\n",
    "head(biosample_df2)"
   ]
  },
  {
   "cell_type": "markdown",
   "id": "f44466bf-519c-4edf-bb15-1e641247e9a2",
   "metadata": {},
   "source": [
    "From the `pooling_has_output` IDs (all starting with *\"nmdc:procsm\"*), we can tell that the output from the pooling step is a `ProcessedSample`.  Therefore, we will rename the column from `pooling_has_output` to `processed_sample_id`. "
   ]
  },
  {
   "cell_type": "code",
   "execution_count": 5,
   "id": "37534e80-aab9-4ec7-9829-8cde11e27a51",
   "metadata": {
    "metadata": {},
    "vscode": {
     "languageId": "r"
    }
   },
   "outputs": [
    {
     "data": {
      "text/html": [
       "<table class=\"dataframe\">\n",
       "<caption>A tibble: 6 × 6</caption>\n",
       "<thead>\n",
       "\t<tr><th scope=col>biosample_id</th><th scope=col>soil_horizon</th><th scope=col>geo_loc_name</th><th scope=col>geo_loc_name_type</th><th scope=col>pooling_id</th><th scope=col>processed_sample_id</th></tr>\n",
       "\t<tr><th scope=col>&lt;chr&gt;</th><th scope=col>&lt;chr&gt;</th><th scope=col>&lt;chr&gt;</th><th scope=col>&lt;chr&gt;</th><th scope=col>&lt;chr&gt;</th><th scope=col>&lt;chr&gt;</th></tr>\n",
       "</thead>\n",
       "<tbody>\n",
       "\t<tr><td>nmdc:bsm-11-00m15h97</td><td>M horizon</td><td>USA: Colorado, Central Plains Experimental Range</td><td>nmdc:TextValue</td><td>nmdc:poolp-11-gxv2dy50</td><td>nmdc:procsm-11-ytthx235</td></tr>\n",
       "\t<tr><td>nmdc:bsm-11-06ta8e31</td><td>M horizon</td><td>USA: Colorado, Central Plains Experimental Range</td><td>nmdc:TextValue</td><td>nmdc:poolp-11-5e2asm75</td><td>nmdc:procsm-11-5s07gt34</td></tr>\n",
       "\t<tr><td>nmdc:bsm-11-06tgpb52</td><td>O horizon</td><td>USA: Colorado, Rocky Mountains                  </td><td>nmdc:TextValue</td><td>nmdc:poolp-11-qq41ss20</td><td>nmdc:procsm-11-ez7edj21</td></tr>\n",
       "\t<tr><td>nmdc:bsm-11-0asn5d63</td><td>M horizon</td><td>USA: Colorado, Central Plains Experimental Range</td><td>nmdc:TextValue</td><td>nmdc:poolp-11-pak1ws91</td><td>nmdc:procsm-11-y8w3sk61</td></tr>\n",
       "\t<tr><td>nmdc:bsm-11-0djp2e45</td><td>M horizon</td><td>USA: Colorado, North Sterling                   </td><td>nmdc:TextValue</td><td>nmdc:poolp-11-vfkwpy98</td><td>nmdc:procsm-11-258vbz70</td></tr>\n",
       "\t<tr><td>nmdc:bsm-11-0f43ab20</td><td>M horizon</td><td>USA: Colorado, Central Plains Experimental Range</td><td>nmdc:TextValue</td><td>nmdc:extrp-11-bm4gp651</td><td>nmdc:procsm-11-6x9hd461</td></tr>\n",
       "</tbody>\n",
       "</table>\n"
      ],
      "text/latex": [
       "A tibble: 6 × 6\n",
       "\\begin{tabular}{llllll}\n",
       " biosample\\_id & soil\\_horizon & geo\\_loc\\_name & geo\\_loc\\_name\\_type & pooling\\_id & processed\\_sample\\_id\\\\\n",
       " <chr> & <chr> & <chr> & <chr> & <chr> & <chr>\\\\\n",
       "\\hline\n",
       "\t nmdc:bsm-11-00m15h97 & M horizon & USA: Colorado, Central Plains Experimental Range & nmdc:TextValue & nmdc:poolp-11-gxv2dy50 & nmdc:procsm-11-ytthx235\\\\\n",
       "\t nmdc:bsm-11-06ta8e31 & M horizon & USA: Colorado, Central Plains Experimental Range & nmdc:TextValue & nmdc:poolp-11-5e2asm75 & nmdc:procsm-11-5s07gt34\\\\\n",
       "\t nmdc:bsm-11-06tgpb52 & O horizon & USA: Colorado, Rocky Mountains                   & nmdc:TextValue & nmdc:poolp-11-qq41ss20 & nmdc:procsm-11-ez7edj21\\\\\n",
       "\t nmdc:bsm-11-0asn5d63 & M horizon & USA: Colorado, Central Plains Experimental Range & nmdc:TextValue & nmdc:poolp-11-pak1ws91 & nmdc:procsm-11-y8w3sk61\\\\\n",
       "\t nmdc:bsm-11-0djp2e45 & M horizon & USA: Colorado, North Sterling                    & nmdc:TextValue & nmdc:poolp-11-vfkwpy98 & nmdc:procsm-11-258vbz70\\\\\n",
       "\t nmdc:bsm-11-0f43ab20 & M horizon & USA: Colorado, Central Plains Experimental Range & nmdc:TextValue & nmdc:extrp-11-bm4gp651 & nmdc:procsm-11-6x9hd461\\\\\n",
       "\\end{tabular}\n"
      ],
      "text/markdown": [
       "\n",
       "A tibble: 6 × 6\n",
       "\n",
       "| biosample_id &lt;chr&gt; | soil_horizon &lt;chr&gt; | geo_loc_name &lt;chr&gt; | geo_loc_name_type &lt;chr&gt; | pooling_id &lt;chr&gt; | processed_sample_id &lt;chr&gt; |\n",
       "|---|---|---|---|---|---|\n",
       "| nmdc:bsm-11-00m15h97 | M horizon | USA: Colorado, Central Plains Experimental Range | nmdc:TextValue | nmdc:poolp-11-gxv2dy50 | nmdc:procsm-11-ytthx235 |\n",
       "| nmdc:bsm-11-06ta8e31 | M horizon | USA: Colorado, Central Plains Experimental Range | nmdc:TextValue | nmdc:poolp-11-5e2asm75 | nmdc:procsm-11-5s07gt34 |\n",
       "| nmdc:bsm-11-06tgpb52 | O horizon | USA: Colorado, Rocky Mountains                   | nmdc:TextValue | nmdc:poolp-11-qq41ss20 | nmdc:procsm-11-ez7edj21 |\n",
       "| nmdc:bsm-11-0asn5d63 | M horizon | USA: Colorado, Central Plains Experimental Range | nmdc:TextValue | nmdc:poolp-11-pak1ws91 | nmdc:procsm-11-y8w3sk61 |\n",
       "| nmdc:bsm-11-0djp2e45 | M horizon | USA: Colorado, North Sterling                    | nmdc:TextValue | nmdc:poolp-11-vfkwpy98 | nmdc:procsm-11-258vbz70 |\n",
       "| nmdc:bsm-11-0f43ab20 | M horizon | USA: Colorado, Central Plains Experimental Range | nmdc:TextValue | nmdc:extrp-11-bm4gp651 | nmdc:procsm-11-6x9hd461 |\n",
       "\n"
      ],
      "text/plain": [
       "  biosample_id         soil_horizon\n",
       "1 nmdc:bsm-11-00m15h97 M horizon   \n",
       "2 nmdc:bsm-11-06ta8e31 M horizon   \n",
       "3 nmdc:bsm-11-06tgpb52 O horizon   \n",
       "4 nmdc:bsm-11-0asn5d63 M horizon   \n",
       "5 nmdc:bsm-11-0djp2e45 M horizon   \n",
       "6 nmdc:bsm-11-0f43ab20 M horizon   \n",
       "  geo_loc_name                                     geo_loc_name_type\n",
       "1 USA: Colorado, Central Plains Experimental Range nmdc:TextValue   \n",
       "2 USA: Colorado, Central Plains Experimental Range nmdc:TextValue   \n",
       "3 USA: Colorado, Rocky Mountains                   nmdc:TextValue   \n",
       "4 USA: Colorado, Central Plains Experimental Range nmdc:TextValue   \n",
       "5 USA: Colorado, North Sterling                    nmdc:TextValue   \n",
       "6 USA: Colorado, Central Plains Experimental Range nmdc:TextValue   \n",
       "  pooling_id             processed_sample_id    \n",
       "1 nmdc:poolp-11-gxv2dy50 nmdc:procsm-11-ytthx235\n",
       "2 nmdc:poolp-11-5e2asm75 nmdc:procsm-11-5s07gt34\n",
       "3 nmdc:poolp-11-qq41ss20 nmdc:procsm-11-ez7edj21\n",
       "4 nmdc:poolp-11-pak1ws91 nmdc:procsm-11-y8w3sk61\n",
       "5 nmdc:poolp-11-vfkwpy98 nmdc:procsm-11-258vbz70\n",
       "6 nmdc:extrp-11-bm4gp651 nmdc:procsm-11-6x9hd461"
      ]
     },
     "metadata": {},
     "output_type": "display_data"
    }
   ],
   "source": [
    "biosample_df3 <- biosample_df2 %>%\n",
    "    rename(processed_sample_id = pooling_has_output) \n",
    "head(biosample_df3)"
   ]
  },
  {
   "cell_type": "markdown",
   "id": "7075cf7a-9f4d-41d8-9360-383f451e9573",
   "metadata": {},
   "source": [
    "# 3. Get `Extraction` records where `processed_sample_id` identifier is the `has_input` to the `Extraction`\n",
    "\n",
    "The `get_id_results` function is used, again (you can see the pattern), again querying the `material_processing_set` (because `Extraction` records are also a subclass of `MaterialProcessing` using the `processed_sample1` identifier as the `has_input` for the `material_processing_set`. The resulting dataframe is unnested and the names are adjusted to make it clear which set the inputs, outputs, and ids are from."
   ]
  },
  {
   "cell_type": "code",
   "execution_count": 6,
   "id": "832c3ddd-6db6-4292-8325-fc812e156346",
   "metadata": {
    "metadata": {},
    "vscode": {
     "languageId": "r"
    }
   },
   "outputs": [
    {
     "data": {
      "text/html": [
       "<table class=\"dataframe\">\n",
       "<caption>A tibble: 6 × 3</caption>\n",
       "<thead>\n",
       "\t<tr><th scope=col>processed_sample_id</th><th scope=col>extraction_has_output</th><th scope=col>extraction_id</th></tr>\n",
       "\t<tr><th scope=col>&lt;chr&gt;</th><th scope=col>&lt;chr&gt;</th><th scope=col>&lt;chr&gt;</th></tr>\n",
       "</thead>\n",
       "<tbody>\n",
       "\t<tr><td>nmdc:procsm-11-kngzyt90</td><td>nmdc:procsm-11-h9s7h174</td><td>nmdc:extrp-11-v25scb12</td></tr>\n",
       "\t<tr><td>nmdc:procsm-11-mr5hf033</td><td>nmdc:procsm-11-7qy2y664</td><td>nmdc:extrp-11-gnvf5s35</td></tr>\n",
       "\t<tr><td>nmdc:procsm-11-33n4p085</td><td>nmdc:procsm-11-6xc6vy98</td><td>nmdc:extrp-11-j5qc7973</td></tr>\n",
       "\t<tr><td>nmdc:procsm-11-2fxf0e98</td><td>nmdc:procsm-11-x763xr38</td><td>nmdc:extrp-11-y5ewyv43</td></tr>\n",
       "\t<tr><td>nmdc:procsm-11-y8w3sk61</td><td>nmdc:procsm-11-q086v208</td><td>nmdc:extrp-11-9qd5ke92</td></tr>\n",
       "\t<tr><td>nmdc:procsm-11-5s07gt34</td><td>nmdc:procsm-11-edpstj65</td><td>nmdc:extrp-11-76s2tz21</td></tr>\n",
       "</tbody>\n",
       "</table>\n"
      ],
      "text/latex": [
       "A tibble: 6 × 3\n",
       "\\begin{tabular}{lll}\n",
       " processed\\_sample\\_id & extraction\\_has\\_output & extraction\\_id\\\\\n",
       " <chr> & <chr> & <chr>\\\\\n",
       "\\hline\n",
       "\t nmdc:procsm-11-kngzyt90 & nmdc:procsm-11-h9s7h174 & nmdc:extrp-11-v25scb12\\\\\n",
       "\t nmdc:procsm-11-mr5hf033 & nmdc:procsm-11-7qy2y664 & nmdc:extrp-11-gnvf5s35\\\\\n",
       "\t nmdc:procsm-11-33n4p085 & nmdc:procsm-11-6xc6vy98 & nmdc:extrp-11-j5qc7973\\\\\n",
       "\t nmdc:procsm-11-2fxf0e98 & nmdc:procsm-11-x763xr38 & nmdc:extrp-11-y5ewyv43\\\\\n",
       "\t nmdc:procsm-11-y8w3sk61 & nmdc:procsm-11-q086v208 & nmdc:extrp-11-9qd5ke92\\\\\n",
       "\t nmdc:procsm-11-5s07gt34 & nmdc:procsm-11-edpstj65 & nmdc:extrp-11-76s2tz21\\\\\n",
       "\\end{tabular}\n"
      ],
      "text/markdown": [
       "\n",
       "A tibble: 6 × 3\n",
       "\n",
       "| processed_sample_id &lt;chr&gt; | extraction_has_output &lt;chr&gt; | extraction_id &lt;chr&gt; |\n",
       "|---|---|---|\n",
       "| nmdc:procsm-11-kngzyt90 | nmdc:procsm-11-h9s7h174 | nmdc:extrp-11-v25scb12 |\n",
       "| nmdc:procsm-11-mr5hf033 | nmdc:procsm-11-7qy2y664 | nmdc:extrp-11-gnvf5s35 |\n",
       "| nmdc:procsm-11-33n4p085 | nmdc:procsm-11-6xc6vy98 | nmdc:extrp-11-j5qc7973 |\n",
       "| nmdc:procsm-11-2fxf0e98 | nmdc:procsm-11-x763xr38 | nmdc:extrp-11-y5ewyv43 |\n",
       "| nmdc:procsm-11-y8w3sk61 | nmdc:procsm-11-q086v208 | nmdc:extrp-11-9qd5ke92 |\n",
       "| nmdc:procsm-11-5s07gt34 | nmdc:procsm-11-edpstj65 | nmdc:extrp-11-76s2tz21 |\n",
       "\n"
      ],
      "text/plain": [
       "  processed_sample_id     extraction_has_output   extraction_id         \n",
       "1 nmdc:procsm-11-kngzyt90 nmdc:procsm-11-h9s7h174 nmdc:extrp-11-v25scb12\n",
       "2 nmdc:procsm-11-mr5hf033 nmdc:procsm-11-7qy2y664 nmdc:extrp-11-gnvf5s35\n",
       "3 nmdc:procsm-11-33n4p085 nmdc:procsm-11-6xc6vy98 nmdc:extrp-11-j5qc7973\n",
       "4 nmdc:procsm-11-2fxf0e98 nmdc:procsm-11-x763xr38 nmdc:extrp-11-y5ewyv43\n",
       "5 nmdc:procsm-11-y8w3sk61 nmdc:procsm-11-q086v208 nmdc:extrp-11-9qd5ke92\n",
       "6 nmdc:procsm-11-5s07gt34 nmdc:procsm-11-edpstj65 nmdc:extrp-11-76s2tz21"
      ]
     },
     "metadata": {},
     "output_type": "display_data"
    }
   ],
   "source": [
    "extraction_df <- get_results_by_id(\n",
    "    collection = 'material_processing_set',\n",
    "    match_id_field = 'has_input',\n",
    "    id_list = unique(biosample_df3$processed_sample_id),\n",
    "    fields = 'id,has_input,has_output',\n",
    "    max_page_size = 20\n",
    ")\n",
    "\n",
    "extraction_df <- extraction_df %>%\n",
    "    unnest(\n",
    "        cols = c(\n",
    "            has_input,\n",
    "            has_output\n",
    "        ), names_sep = \"_\") %>%\n",
    "    distinct() %>%\n",
    "    rename(extraction_id = id,\n",
    "           processed_sample_id = has_input,\n",
    "           extraction_has_output = has_output)\n",
    "head(extraction_df)"
   ]
  },
  {
   "cell_type": "markdown",
   "id": "08d4735a-24a3-4df4-b2df-e230afde1391",
   "metadata": {},
   "source": [
    "Merge the extraction data with the biosample, pooling, and processed sample data"
   ]
  },
  {
   "cell_type": "code",
   "execution_count": 7,
   "id": "8842cde0-c0ab-4bba-8c8e-fcba2b77a4cd",
   "metadata": {
    "metadata": {},
    "vscode": {
     "languageId": "r"
    }
   },
   "outputs": [
    {
     "data": {
      "text/html": [
       "<table class=\"dataframe\">\n",
       "<caption>A tibble: 6 × 8</caption>\n",
       "<thead>\n",
       "\t<tr><th scope=col>biosample_id</th><th scope=col>soil_horizon</th><th scope=col>geo_loc_name</th><th scope=col>geo_loc_name_type</th><th scope=col>pooling_id</th><th scope=col>processed_sample_id</th><th scope=col>extraction_has_output</th><th scope=col>extraction_id</th></tr>\n",
       "\t<tr><th scope=col>&lt;chr&gt;</th><th scope=col>&lt;chr&gt;</th><th scope=col>&lt;chr&gt;</th><th scope=col>&lt;chr&gt;</th><th scope=col>&lt;chr&gt;</th><th scope=col>&lt;chr&gt;</th><th scope=col>&lt;chr&gt;</th><th scope=col>&lt;chr&gt;</th></tr>\n",
       "</thead>\n",
       "<tbody>\n",
       "\t<tr><td>nmdc:bsm-11-00m15h97</td><td>M horizon</td><td>USA: Colorado, Central Plains Experimental Range</td><td>nmdc:TextValue</td><td>nmdc:poolp-11-gxv2dy50</td><td>nmdc:procsm-11-ytthx235</td><td>nmdc:procsm-11-cd8pg312</td><td>nmdc:extrp-11-c0kyyp83 </td></tr>\n",
       "\t<tr><td>nmdc:bsm-11-06ta8e31</td><td>M horizon</td><td>USA: Colorado, Central Plains Experimental Range</td><td>nmdc:TextValue</td><td>nmdc:poolp-11-5e2asm75</td><td>nmdc:procsm-11-5s07gt34</td><td>nmdc:procsm-11-edpstj65</td><td>nmdc:extrp-11-76s2tz21 </td></tr>\n",
       "\t<tr><td>nmdc:bsm-11-06tgpb52</td><td>O horizon</td><td>USA: Colorado, Rocky Mountains                  </td><td>nmdc:TextValue</td><td>nmdc:poolp-11-qq41ss20</td><td>nmdc:procsm-11-ez7edj21</td><td>nmdc:procsm-11-p09rbx50</td><td>nmdc:extrp-11-faz6a041 </td></tr>\n",
       "\t<tr><td>nmdc:bsm-11-0asn5d63</td><td>M horizon</td><td>USA: Colorado, Central Plains Experimental Range</td><td>nmdc:TextValue</td><td>nmdc:poolp-11-pak1ws91</td><td>nmdc:procsm-11-y8w3sk61</td><td>nmdc:procsm-11-q086v208</td><td>nmdc:extrp-11-9qd5ke92 </td></tr>\n",
       "\t<tr><td>nmdc:bsm-11-0djp2e45</td><td>M horizon</td><td>USA: Colorado, North Sterling                   </td><td>nmdc:TextValue</td><td>nmdc:poolp-11-vfkwpy98</td><td>nmdc:procsm-11-258vbz70</td><td>nmdc:procsm-11-nrrknt87</td><td>nmdc:extrp-11-qg3zf244 </td></tr>\n",
       "\t<tr><td>nmdc:bsm-11-0f43ab20</td><td>M horizon</td><td>USA: Colorado, Central Plains Experimental Range</td><td>nmdc:TextValue</td><td>nmdc:extrp-11-bm4gp651</td><td>nmdc:procsm-11-6x9hd461</td><td>nmdc:procsm-11-merw2c87</td><td>nmdc:libprp-11-r1y1vd21</td></tr>\n",
       "</tbody>\n",
       "</table>\n"
      ],
      "text/latex": [
       "A tibble: 6 × 8\n",
       "\\begin{tabular}{llllllll}\n",
       " biosample\\_id & soil\\_horizon & geo\\_loc\\_name & geo\\_loc\\_name\\_type & pooling\\_id & processed\\_sample\\_id & extraction\\_has\\_output & extraction\\_id\\\\\n",
       " <chr> & <chr> & <chr> & <chr> & <chr> & <chr> & <chr> & <chr>\\\\\n",
       "\\hline\n",
       "\t nmdc:bsm-11-00m15h97 & M horizon & USA: Colorado, Central Plains Experimental Range & nmdc:TextValue & nmdc:poolp-11-gxv2dy50 & nmdc:procsm-11-ytthx235 & nmdc:procsm-11-cd8pg312 & nmdc:extrp-11-c0kyyp83 \\\\\n",
       "\t nmdc:bsm-11-06ta8e31 & M horizon & USA: Colorado, Central Plains Experimental Range & nmdc:TextValue & nmdc:poolp-11-5e2asm75 & nmdc:procsm-11-5s07gt34 & nmdc:procsm-11-edpstj65 & nmdc:extrp-11-76s2tz21 \\\\\n",
       "\t nmdc:bsm-11-06tgpb52 & O horizon & USA: Colorado, Rocky Mountains                   & nmdc:TextValue & nmdc:poolp-11-qq41ss20 & nmdc:procsm-11-ez7edj21 & nmdc:procsm-11-p09rbx50 & nmdc:extrp-11-faz6a041 \\\\\n",
       "\t nmdc:bsm-11-0asn5d63 & M horizon & USA: Colorado, Central Plains Experimental Range & nmdc:TextValue & nmdc:poolp-11-pak1ws91 & nmdc:procsm-11-y8w3sk61 & nmdc:procsm-11-q086v208 & nmdc:extrp-11-9qd5ke92 \\\\\n",
       "\t nmdc:bsm-11-0djp2e45 & M horizon & USA: Colorado, North Sterling                    & nmdc:TextValue & nmdc:poolp-11-vfkwpy98 & nmdc:procsm-11-258vbz70 & nmdc:procsm-11-nrrknt87 & nmdc:extrp-11-qg3zf244 \\\\\n",
       "\t nmdc:bsm-11-0f43ab20 & M horizon & USA: Colorado, Central Plains Experimental Range & nmdc:TextValue & nmdc:extrp-11-bm4gp651 & nmdc:procsm-11-6x9hd461 & nmdc:procsm-11-merw2c87 & nmdc:libprp-11-r1y1vd21\\\\\n",
       "\\end{tabular}\n"
      ],
      "text/markdown": [
       "\n",
       "A tibble: 6 × 8\n",
       "\n",
       "| biosample_id &lt;chr&gt; | soil_horizon &lt;chr&gt; | geo_loc_name &lt;chr&gt; | geo_loc_name_type &lt;chr&gt; | pooling_id &lt;chr&gt; | processed_sample_id &lt;chr&gt; | extraction_has_output &lt;chr&gt; | extraction_id &lt;chr&gt; |\n",
       "|---|---|---|---|---|---|---|---|\n",
       "| nmdc:bsm-11-00m15h97 | M horizon | USA: Colorado, Central Plains Experimental Range | nmdc:TextValue | nmdc:poolp-11-gxv2dy50 | nmdc:procsm-11-ytthx235 | nmdc:procsm-11-cd8pg312 | nmdc:extrp-11-c0kyyp83  |\n",
       "| nmdc:bsm-11-06ta8e31 | M horizon | USA: Colorado, Central Plains Experimental Range | nmdc:TextValue | nmdc:poolp-11-5e2asm75 | nmdc:procsm-11-5s07gt34 | nmdc:procsm-11-edpstj65 | nmdc:extrp-11-76s2tz21  |\n",
       "| nmdc:bsm-11-06tgpb52 | O horizon | USA: Colorado, Rocky Mountains                   | nmdc:TextValue | nmdc:poolp-11-qq41ss20 | nmdc:procsm-11-ez7edj21 | nmdc:procsm-11-p09rbx50 | nmdc:extrp-11-faz6a041  |\n",
       "| nmdc:bsm-11-0asn5d63 | M horizon | USA: Colorado, Central Plains Experimental Range | nmdc:TextValue | nmdc:poolp-11-pak1ws91 | nmdc:procsm-11-y8w3sk61 | nmdc:procsm-11-q086v208 | nmdc:extrp-11-9qd5ke92  |\n",
       "| nmdc:bsm-11-0djp2e45 | M horizon | USA: Colorado, North Sterling                    | nmdc:TextValue | nmdc:poolp-11-vfkwpy98 | nmdc:procsm-11-258vbz70 | nmdc:procsm-11-nrrknt87 | nmdc:extrp-11-qg3zf244  |\n",
       "| nmdc:bsm-11-0f43ab20 | M horizon | USA: Colorado, Central Plains Experimental Range | nmdc:TextValue | nmdc:extrp-11-bm4gp651 | nmdc:procsm-11-6x9hd461 | nmdc:procsm-11-merw2c87 | nmdc:libprp-11-r1y1vd21 |\n",
       "\n"
      ],
      "text/plain": [
       "  biosample_id         soil_horizon\n",
       "1 nmdc:bsm-11-00m15h97 M horizon   \n",
       "2 nmdc:bsm-11-06ta8e31 M horizon   \n",
       "3 nmdc:bsm-11-06tgpb52 O horizon   \n",
       "4 nmdc:bsm-11-0asn5d63 M horizon   \n",
       "5 nmdc:bsm-11-0djp2e45 M horizon   \n",
       "6 nmdc:bsm-11-0f43ab20 M horizon   \n",
       "  geo_loc_name                                     geo_loc_name_type\n",
       "1 USA: Colorado, Central Plains Experimental Range nmdc:TextValue   \n",
       "2 USA: Colorado, Central Plains Experimental Range nmdc:TextValue   \n",
       "3 USA: Colorado, Rocky Mountains                   nmdc:TextValue   \n",
       "4 USA: Colorado, Central Plains Experimental Range nmdc:TextValue   \n",
       "5 USA: Colorado, North Sterling                    nmdc:TextValue   \n",
       "6 USA: Colorado, Central Plains Experimental Range nmdc:TextValue   \n",
       "  pooling_id             processed_sample_id     extraction_has_output  \n",
       "1 nmdc:poolp-11-gxv2dy50 nmdc:procsm-11-ytthx235 nmdc:procsm-11-cd8pg312\n",
       "2 nmdc:poolp-11-5e2asm75 nmdc:procsm-11-5s07gt34 nmdc:procsm-11-edpstj65\n",
       "3 nmdc:poolp-11-qq41ss20 nmdc:procsm-11-ez7edj21 nmdc:procsm-11-p09rbx50\n",
       "4 nmdc:poolp-11-pak1ws91 nmdc:procsm-11-y8w3sk61 nmdc:procsm-11-q086v208\n",
       "5 nmdc:poolp-11-vfkwpy98 nmdc:procsm-11-258vbz70 nmdc:procsm-11-nrrknt87\n",
       "6 nmdc:extrp-11-bm4gp651 nmdc:procsm-11-6x9hd461 nmdc:procsm-11-merw2c87\n",
       "  extraction_id          \n",
       "1 nmdc:extrp-11-c0kyyp83 \n",
       "2 nmdc:extrp-11-76s2tz21 \n",
       "3 nmdc:extrp-11-faz6a041 \n",
       "4 nmdc:extrp-11-9qd5ke92 \n",
       "5 nmdc:extrp-11-qg3zf244 \n",
       "6 nmdc:libprp-11-r1y1vd21"
      ]
     },
     "metadata": {},
     "output_type": "display_data"
    }
   ],
   "source": [
    "biosample_df4 <- biosample_df3 %>%\n",
    "    left_join(extraction_df, by = join_by(processed_sample_id))\n",
    "head(biosample_df4)"
   ]
  },
  {
   "cell_type": "markdown",
   "id": "99f8874f-b45a-42d3-a58b-accf6cba85ec",
   "metadata": {},
   "source": [
    "From the `extraction_has_output` IDs (all starting with *\"nmdc:procsm\"*), we can tell that the output from the extraction step is a `ProcessedSample`.  Therefore, we will rename the column from `extraction_has_output` to `processed_sample_id2`. "
   ]
  },
  {
   "cell_type": "code",
   "execution_count": 8,
   "id": "fc982cf2-08a1-4bfe-9cf3-7ca550f46790",
   "metadata": {
    "metadata": {},
    "vscode": {
     "languageId": "r"
    }
   },
   "outputs": [
    {
     "data": {
      "text/html": [
       "<table class=\"dataframe\">\n",
       "<caption>A tibble: 6 × 8</caption>\n",
       "<thead>\n",
       "\t<tr><th scope=col>biosample_id</th><th scope=col>soil_horizon</th><th scope=col>geo_loc_name</th><th scope=col>geo_loc_name_type</th><th scope=col>pooling_id</th><th scope=col>processed_sample_id</th><th scope=col>processed_sample_id2</th><th scope=col>extraction_id</th></tr>\n",
       "\t<tr><th scope=col>&lt;chr&gt;</th><th scope=col>&lt;chr&gt;</th><th scope=col>&lt;chr&gt;</th><th scope=col>&lt;chr&gt;</th><th scope=col>&lt;chr&gt;</th><th scope=col>&lt;chr&gt;</th><th scope=col>&lt;chr&gt;</th><th scope=col>&lt;chr&gt;</th></tr>\n",
       "</thead>\n",
       "<tbody>\n",
       "\t<tr><td>nmdc:bsm-11-00m15h97</td><td>M horizon</td><td>USA: Colorado, Central Plains Experimental Range</td><td>nmdc:TextValue</td><td>nmdc:poolp-11-gxv2dy50</td><td>nmdc:procsm-11-ytthx235</td><td>nmdc:procsm-11-cd8pg312</td><td>nmdc:extrp-11-c0kyyp83 </td></tr>\n",
       "\t<tr><td>nmdc:bsm-11-06ta8e31</td><td>M horizon</td><td>USA: Colorado, Central Plains Experimental Range</td><td>nmdc:TextValue</td><td>nmdc:poolp-11-5e2asm75</td><td>nmdc:procsm-11-5s07gt34</td><td>nmdc:procsm-11-edpstj65</td><td>nmdc:extrp-11-76s2tz21 </td></tr>\n",
       "\t<tr><td>nmdc:bsm-11-06tgpb52</td><td>O horizon</td><td>USA: Colorado, Rocky Mountains                  </td><td>nmdc:TextValue</td><td>nmdc:poolp-11-qq41ss20</td><td>nmdc:procsm-11-ez7edj21</td><td>nmdc:procsm-11-p09rbx50</td><td>nmdc:extrp-11-faz6a041 </td></tr>\n",
       "\t<tr><td>nmdc:bsm-11-0asn5d63</td><td>M horizon</td><td>USA: Colorado, Central Plains Experimental Range</td><td>nmdc:TextValue</td><td>nmdc:poolp-11-pak1ws91</td><td>nmdc:procsm-11-y8w3sk61</td><td>nmdc:procsm-11-q086v208</td><td>nmdc:extrp-11-9qd5ke92 </td></tr>\n",
       "\t<tr><td>nmdc:bsm-11-0djp2e45</td><td>M horizon</td><td>USA: Colorado, North Sterling                   </td><td>nmdc:TextValue</td><td>nmdc:poolp-11-vfkwpy98</td><td>nmdc:procsm-11-258vbz70</td><td>nmdc:procsm-11-nrrknt87</td><td>nmdc:extrp-11-qg3zf244 </td></tr>\n",
       "\t<tr><td>nmdc:bsm-11-0f43ab20</td><td>M horizon</td><td>USA: Colorado, Central Plains Experimental Range</td><td>nmdc:TextValue</td><td>nmdc:extrp-11-bm4gp651</td><td>nmdc:procsm-11-6x9hd461</td><td>nmdc:procsm-11-merw2c87</td><td>nmdc:libprp-11-r1y1vd21</td></tr>\n",
       "</tbody>\n",
       "</table>\n"
      ],
      "text/latex": [
       "A tibble: 6 × 8\n",
       "\\begin{tabular}{llllllll}\n",
       " biosample\\_id & soil\\_horizon & geo\\_loc\\_name & geo\\_loc\\_name\\_type & pooling\\_id & processed\\_sample\\_id & processed\\_sample\\_id2 & extraction\\_id\\\\\n",
       " <chr> & <chr> & <chr> & <chr> & <chr> & <chr> & <chr> & <chr>\\\\\n",
       "\\hline\n",
       "\t nmdc:bsm-11-00m15h97 & M horizon & USA: Colorado, Central Plains Experimental Range & nmdc:TextValue & nmdc:poolp-11-gxv2dy50 & nmdc:procsm-11-ytthx235 & nmdc:procsm-11-cd8pg312 & nmdc:extrp-11-c0kyyp83 \\\\\n",
       "\t nmdc:bsm-11-06ta8e31 & M horizon & USA: Colorado, Central Plains Experimental Range & nmdc:TextValue & nmdc:poolp-11-5e2asm75 & nmdc:procsm-11-5s07gt34 & nmdc:procsm-11-edpstj65 & nmdc:extrp-11-76s2tz21 \\\\\n",
       "\t nmdc:bsm-11-06tgpb52 & O horizon & USA: Colorado, Rocky Mountains                   & nmdc:TextValue & nmdc:poolp-11-qq41ss20 & nmdc:procsm-11-ez7edj21 & nmdc:procsm-11-p09rbx50 & nmdc:extrp-11-faz6a041 \\\\\n",
       "\t nmdc:bsm-11-0asn5d63 & M horizon & USA: Colorado, Central Plains Experimental Range & nmdc:TextValue & nmdc:poolp-11-pak1ws91 & nmdc:procsm-11-y8w3sk61 & nmdc:procsm-11-q086v208 & nmdc:extrp-11-9qd5ke92 \\\\\n",
       "\t nmdc:bsm-11-0djp2e45 & M horizon & USA: Colorado, North Sterling                    & nmdc:TextValue & nmdc:poolp-11-vfkwpy98 & nmdc:procsm-11-258vbz70 & nmdc:procsm-11-nrrknt87 & nmdc:extrp-11-qg3zf244 \\\\\n",
       "\t nmdc:bsm-11-0f43ab20 & M horizon & USA: Colorado, Central Plains Experimental Range & nmdc:TextValue & nmdc:extrp-11-bm4gp651 & nmdc:procsm-11-6x9hd461 & nmdc:procsm-11-merw2c87 & nmdc:libprp-11-r1y1vd21\\\\\n",
       "\\end{tabular}\n"
      ],
      "text/markdown": [
       "\n",
       "A tibble: 6 × 8\n",
       "\n",
       "| biosample_id &lt;chr&gt; | soil_horizon &lt;chr&gt; | geo_loc_name &lt;chr&gt; | geo_loc_name_type &lt;chr&gt; | pooling_id &lt;chr&gt; | processed_sample_id &lt;chr&gt; | processed_sample_id2 &lt;chr&gt; | extraction_id &lt;chr&gt; |\n",
       "|---|---|---|---|---|---|---|---|\n",
       "| nmdc:bsm-11-00m15h97 | M horizon | USA: Colorado, Central Plains Experimental Range | nmdc:TextValue | nmdc:poolp-11-gxv2dy50 | nmdc:procsm-11-ytthx235 | nmdc:procsm-11-cd8pg312 | nmdc:extrp-11-c0kyyp83  |\n",
       "| nmdc:bsm-11-06ta8e31 | M horizon | USA: Colorado, Central Plains Experimental Range | nmdc:TextValue | nmdc:poolp-11-5e2asm75 | nmdc:procsm-11-5s07gt34 | nmdc:procsm-11-edpstj65 | nmdc:extrp-11-76s2tz21  |\n",
       "| nmdc:bsm-11-06tgpb52 | O horizon | USA: Colorado, Rocky Mountains                   | nmdc:TextValue | nmdc:poolp-11-qq41ss20 | nmdc:procsm-11-ez7edj21 | nmdc:procsm-11-p09rbx50 | nmdc:extrp-11-faz6a041  |\n",
       "| nmdc:bsm-11-0asn5d63 | M horizon | USA: Colorado, Central Plains Experimental Range | nmdc:TextValue | nmdc:poolp-11-pak1ws91 | nmdc:procsm-11-y8w3sk61 | nmdc:procsm-11-q086v208 | nmdc:extrp-11-9qd5ke92  |\n",
       "| nmdc:bsm-11-0djp2e45 | M horizon | USA: Colorado, North Sterling                    | nmdc:TextValue | nmdc:poolp-11-vfkwpy98 | nmdc:procsm-11-258vbz70 | nmdc:procsm-11-nrrknt87 | nmdc:extrp-11-qg3zf244  |\n",
       "| nmdc:bsm-11-0f43ab20 | M horizon | USA: Colorado, Central Plains Experimental Range | nmdc:TextValue | nmdc:extrp-11-bm4gp651 | nmdc:procsm-11-6x9hd461 | nmdc:procsm-11-merw2c87 | nmdc:libprp-11-r1y1vd21 |\n",
       "\n"
      ],
      "text/plain": [
       "  biosample_id         soil_horizon\n",
       "1 nmdc:bsm-11-00m15h97 M horizon   \n",
       "2 nmdc:bsm-11-06ta8e31 M horizon   \n",
       "3 nmdc:bsm-11-06tgpb52 O horizon   \n",
       "4 nmdc:bsm-11-0asn5d63 M horizon   \n",
       "5 nmdc:bsm-11-0djp2e45 M horizon   \n",
       "6 nmdc:bsm-11-0f43ab20 M horizon   \n",
       "  geo_loc_name                                     geo_loc_name_type\n",
       "1 USA: Colorado, Central Plains Experimental Range nmdc:TextValue   \n",
       "2 USA: Colorado, Central Plains Experimental Range nmdc:TextValue   \n",
       "3 USA: Colorado, Rocky Mountains                   nmdc:TextValue   \n",
       "4 USA: Colorado, Central Plains Experimental Range nmdc:TextValue   \n",
       "5 USA: Colorado, North Sterling                    nmdc:TextValue   \n",
       "6 USA: Colorado, Central Plains Experimental Range nmdc:TextValue   \n",
       "  pooling_id             processed_sample_id     processed_sample_id2   \n",
       "1 nmdc:poolp-11-gxv2dy50 nmdc:procsm-11-ytthx235 nmdc:procsm-11-cd8pg312\n",
       "2 nmdc:poolp-11-5e2asm75 nmdc:procsm-11-5s07gt34 nmdc:procsm-11-edpstj65\n",
       "3 nmdc:poolp-11-qq41ss20 nmdc:procsm-11-ez7edj21 nmdc:procsm-11-p09rbx50\n",
       "4 nmdc:poolp-11-pak1ws91 nmdc:procsm-11-y8w3sk61 nmdc:procsm-11-q086v208\n",
       "5 nmdc:poolp-11-vfkwpy98 nmdc:procsm-11-258vbz70 nmdc:procsm-11-nrrknt87\n",
       "6 nmdc:extrp-11-bm4gp651 nmdc:procsm-11-6x9hd461 nmdc:procsm-11-merw2c87\n",
       "  extraction_id          \n",
       "1 nmdc:extrp-11-c0kyyp83 \n",
       "2 nmdc:extrp-11-76s2tz21 \n",
       "3 nmdc:extrp-11-faz6a041 \n",
       "4 nmdc:extrp-11-9qd5ke92 \n",
       "5 nmdc:extrp-11-qg3zf244 \n",
       "6 nmdc:libprp-11-r1y1vd21"
      ]
     },
     "metadata": {},
     "output_type": "display_data"
    }
   ],
   "source": [
    "biosample_df5 <- biosample_df4 %>%\n",
    "    rename(processed_sample_id2 = extraction_has_output)\n",
    "head(biosample_df5)"
   ]
  },
  {
   "cell_type": "markdown",
   "id": "6f4b7090-5dab-4f7d-a651-31c8af20e5a9",
   "metadata": {},
   "source": [
    "# 4. Get the `LibraryPreparation` records\n",
    "\n",
    "Using the `processed_sample_id2` identifiers from the last query as the `has_input` again for the the `material_processing_set` (becuase `LibraryPreparation` is a subclass of `MaterialProcessing`), we get a new batch of results, returning the library preparation identifiers, inputs and outputs. The results is unnested and names are clarified to demonstrate they are associated with `LibraryPreparation` records."
   ]
  },
  {
   "cell_type": "code",
   "execution_count": 9,
   "id": "e5e627fa-72ad-4e64-baf9-471443ba7168",
   "metadata": {
    "metadata": {},
    "vscode": {
     "languageId": "r"
    }
   },
   "outputs": [
    {
     "data": {
      "text/html": [
       "<table class=\"dataframe\">\n",
       "<caption>A tibble: 6 × 3</caption>\n",
       "<thead>\n",
       "\t<tr><th scope=col>processed_sample_id2</th><th scope=col>library_preparation_has_output</th><th scope=col>library_preparation_id</th></tr>\n",
       "\t<tr><th scope=col>&lt;chr&gt;</th><th scope=col>&lt;chr&gt;</th><th scope=col>&lt;chr&gt;</th></tr>\n",
       "</thead>\n",
       "<tbody>\n",
       "\t<tr><td>nmdc:procsm-11-7qy2y664</td><td>nmdc:procsm-11-wd4s5f38</td><td>nmdc:libprp-11-wv6p0032</td></tr>\n",
       "\t<tr><td>nmdc:procsm-11-x763xr38</td><td>nmdc:procsm-11-9ghwha16</td><td>nmdc:libprp-11-gasf6t26</td></tr>\n",
       "\t<tr><td>nmdc:procsm-11-h9s7h174</td><td>nmdc:procsm-11-4z512838</td><td>nmdc:libprp-11-t70f6032</td></tr>\n",
       "\t<tr><td>nmdc:procsm-11-6xc6vy98</td><td>nmdc:procsm-11-44e5ds31</td><td>nmdc:libprp-11-8bzn7n07</td></tr>\n",
       "\t<tr><td>nmdc:procsm-11-q086v208</td><td>nmdc:procsm-11-jkvhv341</td><td>nmdc:libprp-11-24s1rh35</td></tr>\n",
       "\t<tr><td>nmdc:procsm-11-1qgqxz62</td><td>nmdc:procsm-11-hxfxnz83</td><td>nmdc:libprp-11-6zgrcr81</td></tr>\n",
       "</tbody>\n",
       "</table>\n"
      ],
      "text/latex": [
       "A tibble: 6 × 3\n",
       "\\begin{tabular}{lll}\n",
       " processed\\_sample\\_id2 & library\\_preparation\\_has\\_output & library\\_preparation\\_id\\\\\n",
       " <chr> & <chr> & <chr>\\\\\n",
       "\\hline\n",
       "\t nmdc:procsm-11-7qy2y664 & nmdc:procsm-11-wd4s5f38 & nmdc:libprp-11-wv6p0032\\\\\n",
       "\t nmdc:procsm-11-x763xr38 & nmdc:procsm-11-9ghwha16 & nmdc:libprp-11-gasf6t26\\\\\n",
       "\t nmdc:procsm-11-h9s7h174 & nmdc:procsm-11-4z512838 & nmdc:libprp-11-t70f6032\\\\\n",
       "\t nmdc:procsm-11-6xc6vy98 & nmdc:procsm-11-44e5ds31 & nmdc:libprp-11-8bzn7n07\\\\\n",
       "\t nmdc:procsm-11-q086v208 & nmdc:procsm-11-jkvhv341 & nmdc:libprp-11-24s1rh35\\\\\n",
       "\t nmdc:procsm-11-1qgqxz62 & nmdc:procsm-11-hxfxnz83 & nmdc:libprp-11-6zgrcr81\\\\\n",
       "\\end{tabular}\n"
      ],
      "text/markdown": [
       "\n",
       "A tibble: 6 × 3\n",
       "\n",
       "| processed_sample_id2 &lt;chr&gt; | library_preparation_has_output &lt;chr&gt; | library_preparation_id &lt;chr&gt; |\n",
       "|---|---|---|\n",
       "| nmdc:procsm-11-7qy2y664 | nmdc:procsm-11-wd4s5f38 | nmdc:libprp-11-wv6p0032 |\n",
       "| nmdc:procsm-11-x763xr38 | nmdc:procsm-11-9ghwha16 | nmdc:libprp-11-gasf6t26 |\n",
       "| nmdc:procsm-11-h9s7h174 | nmdc:procsm-11-4z512838 | nmdc:libprp-11-t70f6032 |\n",
       "| nmdc:procsm-11-6xc6vy98 | nmdc:procsm-11-44e5ds31 | nmdc:libprp-11-8bzn7n07 |\n",
       "| nmdc:procsm-11-q086v208 | nmdc:procsm-11-jkvhv341 | nmdc:libprp-11-24s1rh35 |\n",
       "| nmdc:procsm-11-1qgqxz62 | nmdc:procsm-11-hxfxnz83 | nmdc:libprp-11-6zgrcr81 |\n",
       "\n"
      ],
      "text/plain": [
       "  processed_sample_id2    library_preparation_has_output\n",
       "1 nmdc:procsm-11-7qy2y664 nmdc:procsm-11-wd4s5f38       \n",
       "2 nmdc:procsm-11-x763xr38 nmdc:procsm-11-9ghwha16       \n",
       "3 nmdc:procsm-11-h9s7h174 nmdc:procsm-11-4z512838       \n",
       "4 nmdc:procsm-11-6xc6vy98 nmdc:procsm-11-44e5ds31       \n",
       "5 nmdc:procsm-11-q086v208 nmdc:procsm-11-jkvhv341       \n",
       "6 nmdc:procsm-11-1qgqxz62 nmdc:procsm-11-hxfxnz83       \n",
       "  library_preparation_id \n",
       "1 nmdc:libprp-11-wv6p0032\n",
       "2 nmdc:libprp-11-gasf6t26\n",
       "3 nmdc:libprp-11-t70f6032\n",
       "4 nmdc:libprp-11-8bzn7n07\n",
       "5 nmdc:libprp-11-24s1rh35\n",
       "6 nmdc:libprp-11-6zgrcr81"
      ]
     },
     "metadata": {},
     "output_type": "display_data"
    }
   ],
   "source": [
    "library_prep_df <- get_results_by_id(\n",
    "    collection = 'material_processing_set',\n",
    "    match_id_field = 'has_input',\n",
    "    id_list = unique(biosample_df5$processed_sample_id2),\n",
    "    fields = 'id,has_input,has_output',\n",
    "    max_page_size = 20\n",
    ")\n",
    "\n",
    "library_prep_df <- library_prep_df %>%\n",
    "    unnest(\n",
    "        cols = c(\n",
    "            has_input,\n",
    "            has_output\n",
    "        ), names_sep = \"_\") %>%\n",
    "    distinct() %>%\n",
    "    rename(library_preparation_id = id,\n",
    "           processed_sample_id2 = has_input,\n",
    "           library_preparation_has_output = has_output)\n",
    "head(library_prep_df)"
   ]
  },
  {
   "cell_type": "markdown",
   "id": "e9cb83e8-1907-4b88-9361-fa2903ec5dd0",
   "metadata": {},
   "source": [
    "Merge the library preparation data with the biosample, pooling, processed sample, extraction, and processed sample data"
   ]
  },
  {
   "cell_type": "code",
   "execution_count": 10,
   "id": "a8506d2d-356d-4277-9711-052296ecfae4",
   "metadata": {
    "metadata": {},
    "vscode": {
     "languageId": "r"
    }
   },
   "outputs": [
    {
     "data": {
      "text/html": [
       "<table class=\"dataframe\">\n",
       "<caption>A tibble: 6 × 10</caption>\n",
       "<thead>\n",
       "\t<tr><th scope=col>biosample_id</th><th scope=col>soil_horizon</th><th scope=col>geo_loc_name</th><th scope=col>geo_loc_name_type</th><th scope=col>pooling_id</th><th scope=col>processed_sample_id</th><th scope=col>processed_sample_id2</th><th scope=col>extraction_id</th><th scope=col>library_preparation_has_output</th><th scope=col>library_preparation_id</th></tr>\n",
       "\t<tr><th scope=col>&lt;chr&gt;</th><th scope=col>&lt;chr&gt;</th><th scope=col>&lt;chr&gt;</th><th scope=col>&lt;chr&gt;</th><th scope=col>&lt;chr&gt;</th><th scope=col>&lt;chr&gt;</th><th scope=col>&lt;chr&gt;</th><th scope=col>&lt;chr&gt;</th><th scope=col>&lt;chr&gt;</th><th scope=col>&lt;chr&gt;</th></tr>\n",
       "</thead>\n",
       "<tbody>\n",
       "\t<tr><td>nmdc:bsm-11-00m15h97</td><td>M horizon</td><td>USA: Colorado, Central Plains Experimental Range</td><td>nmdc:TextValue</td><td>nmdc:poolp-11-gxv2dy50</td><td>nmdc:procsm-11-ytthx235</td><td>nmdc:procsm-11-cd8pg312</td><td>nmdc:extrp-11-c0kyyp83 </td><td>nmdc:procsm-11-jrykhg31</td><td>nmdc:libprp-11-2szbj346</td></tr>\n",
       "\t<tr><td>nmdc:bsm-11-06ta8e31</td><td>M horizon</td><td>USA: Colorado, Central Plains Experimental Range</td><td>nmdc:TextValue</td><td>nmdc:poolp-11-5e2asm75</td><td>nmdc:procsm-11-5s07gt34</td><td>nmdc:procsm-11-edpstj65</td><td>nmdc:extrp-11-76s2tz21 </td><td>nmdc:procsm-11-tq69qx97</td><td>nmdc:libprp-11-pqjwcw60</td></tr>\n",
       "\t<tr><td>nmdc:bsm-11-06tgpb52</td><td>O horizon</td><td>USA: Colorado, Rocky Mountains                  </td><td>nmdc:TextValue</td><td>nmdc:poolp-11-qq41ss20</td><td>nmdc:procsm-11-ez7edj21</td><td>nmdc:procsm-11-p09rbx50</td><td>nmdc:extrp-11-faz6a041 </td><td>nmdc:procsm-11-v7s6qh96</td><td>nmdc:libprp-11-4qwse385</td></tr>\n",
       "\t<tr><td>nmdc:bsm-11-0asn5d63</td><td>M horizon</td><td>USA: Colorado, Central Plains Experimental Range</td><td>nmdc:TextValue</td><td>nmdc:poolp-11-pak1ws91</td><td>nmdc:procsm-11-y8w3sk61</td><td>nmdc:procsm-11-q086v208</td><td>nmdc:extrp-11-9qd5ke92 </td><td>nmdc:procsm-11-jkvhv341</td><td>nmdc:libprp-11-24s1rh35</td></tr>\n",
       "\t<tr><td>nmdc:bsm-11-0djp2e45</td><td>M horizon</td><td>USA: Colorado, North Sterling                   </td><td>nmdc:TextValue</td><td>nmdc:poolp-11-vfkwpy98</td><td>nmdc:procsm-11-258vbz70</td><td>nmdc:procsm-11-nrrknt87</td><td>nmdc:extrp-11-qg3zf244 </td><td>nmdc:procsm-11-t397mj03</td><td>nmdc:libprp-11-p07zpd31</td></tr>\n",
       "\t<tr><td>nmdc:bsm-11-0f43ab20</td><td>M horizon</td><td>USA: Colorado, Central Plains Experimental Range</td><td>nmdc:TextValue</td><td>nmdc:extrp-11-bm4gp651</td><td>nmdc:procsm-11-6x9hd461</td><td>nmdc:procsm-11-merw2c87</td><td>nmdc:libprp-11-r1y1vd21</td><td>NA                     </td><td>NA                     </td></tr>\n",
       "</tbody>\n",
       "</table>\n"
      ],
      "text/latex": [
       "A tibble: 6 × 10\n",
       "\\begin{tabular}{llllllllll}\n",
       " biosample\\_id & soil\\_horizon & geo\\_loc\\_name & geo\\_loc\\_name\\_type & pooling\\_id & processed\\_sample\\_id & processed\\_sample\\_id2 & extraction\\_id & library\\_preparation\\_has\\_output & library\\_preparation\\_id\\\\\n",
       " <chr> & <chr> & <chr> & <chr> & <chr> & <chr> & <chr> & <chr> & <chr> & <chr>\\\\\n",
       "\\hline\n",
       "\t nmdc:bsm-11-00m15h97 & M horizon & USA: Colorado, Central Plains Experimental Range & nmdc:TextValue & nmdc:poolp-11-gxv2dy50 & nmdc:procsm-11-ytthx235 & nmdc:procsm-11-cd8pg312 & nmdc:extrp-11-c0kyyp83  & nmdc:procsm-11-jrykhg31 & nmdc:libprp-11-2szbj346\\\\\n",
       "\t nmdc:bsm-11-06ta8e31 & M horizon & USA: Colorado, Central Plains Experimental Range & nmdc:TextValue & nmdc:poolp-11-5e2asm75 & nmdc:procsm-11-5s07gt34 & nmdc:procsm-11-edpstj65 & nmdc:extrp-11-76s2tz21  & nmdc:procsm-11-tq69qx97 & nmdc:libprp-11-pqjwcw60\\\\\n",
       "\t nmdc:bsm-11-06tgpb52 & O horizon & USA: Colorado, Rocky Mountains                   & nmdc:TextValue & nmdc:poolp-11-qq41ss20 & nmdc:procsm-11-ez7edj21 & nmdc:procsm-11-p09rbx50 & nmdc:extrp-11-faz6a041  & nmdc:procsm-11-v7s6qh96 & nmdc:libprp-11-4qwse385\\\\\n",
       "\t nmdc:bsm-11-0asn5d63 & M horizon & USA: Colorado, Central Plains Experimental Range & nmdc:TextValue & nmdc:poolp-11-pak1ws91 & nmdc:procsm-11-y8w3sk61 & nmdc:procsm-11-q086v208 & nmdc:extrp-11-9qd5ke92  & nmdc:procsm-11-jkvhv341 & nmdc:libprp-11-24s1rh35\\\\\n",
       "\t nmdc:bsm-11-0djp2e45 & M horizon & USA: Colorado, North Sterling                    & nmdc:TextValue & nmdc:poolp-11-vfkwpy98 & nmdc:procsm-11-258vbz70 & nmdc:procsm-11-nrrknt87 & nmdc:extrp-11-qg3zf244  & nmdc:procsm-11-t397mj03 & nmdc:libprp-11-p07zpd31\\\\\n",
       "\t nmdc:bsm-11-0f43ab20 & M horizon & USA: Colorado, Central Plains Experimental Range & nmdc:TextValue & nmdc:extrp-11-bm4gp651 & nmdc:procsm-11-6x9hd461 & nmdc:procsm-11-merw2c87 & nmdc:libprp-11-r1y1vd21 & NA                      & NA                     \\\\\n",
       "\\end{tabular}\n"
      ],
      "text/markdown": [
       "\n",
       "A tibble: 6 × 10\n",
       "\n",
       "| biosample_id &lt;chr&gt; | soil_horizon &lt;chr&gt; | geo_loc_name &lt;chr&gt; | geo_loc_name_type &lt;chr&gt; | pooling_id &lt;chr&gt; | processed_sample_id &lt;chr&gt; | processed_sample_id2 &lt;chr&gt; | extraction_id &lt;chr&gt; | library_preparation_has_output &lt;chr&gt; | library_preparation_id &lt;chr&gt; |\n",
       "|---|---|---|---|---|---|---|---|---|---|\n",
       "| nmdc:bsm-11-00m15h97 | M horizon | USA: Colorado, Central Plains Experimental Range | nmdc:TextValue | nmdc:poolp-11-gxv2dy50 | nmdc:procsm-11-ytthx235 | nmdc:procsm-11-cd8pg312 | nmdc:extrp-11-c0kyyp83  | nmdc:procsm-11-jrykhg31 | nmdc:libprp-11-2szbj346 |\n",
       "| nmdc:bsm-11-06ta8e31 | M horizon | USA: Colorado, Central Plains Experimental Range | nmdc:TextValue | nmdc:poolp-11-5e2asm75 | nmdc:procsm-11-5s07gt34 | nmdc:procsm-11-edpstj65 | nmdc:extrp-11-76s2tz21  | nmdc:procsm-11-tq69qx97 | nmdc:libprp-11-pqjwcw60 |\n",
       "| nmdc:bsm-11-06tgpb52 | O horizon | USA: Colorado, Rocky Mountains                   | nmdc:TextValue | nmdc:poolp-11-qq41ss20 | nmdc:procsm-11-ez7edj21 | nmdc:procsm-11-p09rbx50 | nmdc:extrp-11-faz6a041  | nmdc:procsm-11-v7s6qh96 | nmdc:libprp-11-4qwse385 |\n",
       "| nmdc:bsm-11-0asn5d63 | M horizon | USA: Colorado, Central Plains Experimental Range | nmdc:TextValue | nmdc:poolp-11-pak1ws91 | nmdc:procsm-11-y8w3sk61 | nmdc:procsm-11-q086v208 | nmdc:extrp-11-9qd5ke92  | nmdc:procsm-11-jkvhv341 | nmdc:libprp-11-24s1rh35 |\n",
       "| nmdc:bsm-11-0djp2e45 | M horizon | USA: Colorado, North Sterling                    | nmdc:TextValue | nmdc:poolp-11-vfkwpy98 | nmdc:procsm-11-258vbz70 | nmdc:procsm-11-nrrknt87 | nmdc:extrp-11-qg3zf244  | nmdc:procsm-11-t397mj03 | nmdc:libprp-11-p07zpd31 |\n",
       "| nmdc:bsm-11-0f43ab20 | M horizon | USA: Colorado, Central Plains Experimental Range | nmdc:TextValue | nmdc:extrp-11-bm4gp651 | nmdc:procsm-11-6x9hd461 | nmdc:procsm-11-merw2c87 | nmdc:libprp-11-r1y1vd21 | NA                      | NA                      |\n",
       "\n"
      ],
      "text/plain": [
       "  biosample_id         soil_horizon\n",
       "1 nmdc:bsm-11-00m15h97 M horizon   \n",
       "2 nmdc:bsm-11-06ta8e31 M horizon   \n",
       "3 nmdc:bsm-11-06tgpb52 O horizon   \n",
       "4 nmdc:bsm-11-0asn5d63 M horizon   \n",
       "5 nmdc:bsm-11-0djp2e45 M horizon   \n",
       "6 nmdc:bsm-11-0f43ab20 M horizon   \n",
       "  geo_loc_name                                     geo_loc_name_type\n",
       "1 USA: Colorado, Central Plains Experimental Range nmdc:TextValue   \n",
       "2 USA: Colorado, Central Plains Experimental Range nmdc:TextValue   \n",
       "3 USA: Colorado, Rocky Mountains                   nmdc:TextValue   \n",
       "4 USA: Colorado, Central Plains Experimental Range nmdc:TextValue   \n",
       "5 USA: Colorado, North Sterling                    nmdc:TextValue   \n",
       "6 USA: Colorado, Central Plains Experimental Range nmdc:TextValue   \n",
       "  pooling_id             processed_sample_id     processed_sample_id2   \n",
       "1 nmdc:poolp-11-gxv2dy50 nmdc:procsm-11-ytthx235 nmdc:procsm-11-cd8pg312\n",
       "2 nmdc:poolp-11-5e2asm75 nmdc:procsm-11-5s07gt34 nmdc:procsm-11-edpstj65\n",
       "3 nmdc:poolp-11-qq41ss20 nmdc:procsm-11-ez7edj21 nmdc:procsm-11-p09rbx50\n",
       "4 nmdc:poolp-11-pak1ws91 nmdc:procsm-11-y8w3sk61 nmdc:procsm-11-q086v208\n",
       "5 nmdc:poolp-11-vfkwpy98 nmdc:procsm-11-258vbz70 nmdc:procsm-11-nrrknt87\n",
       "6 nmdc:extrp-11-bm4gp651 nmdc:procsm-11-6x9hd461 nmdc:procsm-11-merw2c87\n",
       "  extraction_id           library_preparation_has_output\n",
       "1 nmdc:extrp-11-c0kyyp83  nmdc:procsm-11-jrykhg31       \n",
       "2 nmdc:extrp-11-76s2tz21  nmdc:procsm-11-tq69qx97       \n",
       "3 nmdc:extrp-11-faz6a041  nmdc:procsm-11-v7s6qh96       \n",
       "4 nmdc:extrp-11-9qd5ke92  nmdc:procsm-11-jkvhv341       \n",
       "5 nmdc:extrp-11-qg3zf244  nmdc:procsm-11-t397mj03       \n",
       "6 nmdc:libprp-11-r1y1vd21 NA                            \n",
       "  library_preparation_id \n",
       "1 nmdc:libprp-11-2szbj346\n",
       "2 nmdc:libprp-11-pqjwcw60\n",
       "3 nmdc:libprp-11-4qwse385\n",
       "4 nmdc:libprp-11-24s1rh35\n",
       "5 nmdc:libprp-11-p07zpd31\n",
       "6 NA                     "
      ]
     },
     "metadata": {},
     "output_type": "display_data"
    }
   ],
   "source": [
    "biosample_df6 <- biosample_df5 %>%\n",
    "    left_join(library_prep_df, by = join_by(processed_sample_id2))\n",
    "head(biosample_df6)"
   ]
  },
  {
   "cell_type": "markdown",
   "id": "929a259a-2957-41c1-9f43-08d52120242f",
   "metadata": {},
   "source": [
    "Again, from the `library_preparation_has_output` IDs (all starting with *\"nmdc:procsm\"*), we can tell that the output to the library preparation step is a `ProcessedSample`.  Therefore, we will rename the column from `library_preparation_has_output` to `processed_sample_id3`. |"
   ]
  },
  {
   "cell_type": "code",
   "execution_count": 11,
   "id": "667690ba-a598-4f72-9c21-9ff8a6c28b8c",
   "metadata": {
    "metadata": {},
    "vscode": {
     "languageId": "r"
    }
   },
   "outputs": [
    {
     "data": {
      "text/html": [
       "<table class=\"dataframe\">\n",
       "<caption>A tibble: 6 × 10</caption>\n",
       "<thead>\n",
       "\t<tr><th scope=col>biosample_id</th><th scope=col>soil_horizon</th><th scope=col>geo_loc_name</th><th scope=col>geo_loc_name_type</th><th scope=col>pooling_id</th><th scope=col>processed_sample_id</th><th scope=col>processed_sample_id2</th><th scope=col>extraction_id</th><th scope=col>processed_sample_id3</th><th scope=col>library_preparation_id</th></tr>\n",
       "\t<tr><th scope=col>&lt;chr&gt;</th><th scope=col>&lt;chr&gt;</th><th scope=col>&lt;chr&gt;</th><th scope=col>&lt;chr&gt;</th><th scope=col>&lt;chr&gt;</th><th scope=col>&lt;chr&gt;</th><th scope=col>&lt;chr&gt;</th><th scope=col>&lt;chr&gt;</th><th scope=col>&lt;chr&gt;</th><th scope=col>&lt;chr&gt;</th></tr>\n",
       "</thead>\n",
       "<tbody>\n",
       "\t<tr><td>nmdc:bsm-11-00m15h97</td><td>M horizon</td><td>USA: Colorado, Central Plains Experimental Range</td><td>nmdc:TextValue</td><td>nmdc:poolp-11-gxv2dy50</td><td>nmdc:procsm-11-ytthx235</td><td>nmdc:procsm-11-cd8pg312</td><td>nmdc:extrp-11-c0kyyp83 </td><td>nmdc:procsm-11-jrykhg31</td><td>nmdc:libprp-11-2szbj346</td></tr>\n",
       "\t<tr><td>nmdc:bsm-11-06ta8e31</td><td>M horizon</td><td>USA: Colorado, Central Plains Experimental Range</td><td>nmdc:TextValue</td><td>nmdc:poolp-11-5e2asm75</td><td>nmdc:procsm-11-5s07gt34</td><td>nmdc:procsm-11-edpstj65</td><td>nmdc:extrp-11-76s2tz21 </td><td>nmdc:procsm-11-tq69qx97</td><td>nmdc:libprp-11-pqjwcw60</td></tr>\n",
       "\t<tr><td>nmdc:bsm-11-06tgpb52</td><td>O horizon</td><td>USA: Colorado, Rocky Mountains                  </td><td>nmdc:TextValue</td><td>nmdc:poolp-11-qq41ss20</td><td>nmdc:procsm-11-ez7edj21</td><td>nmdc:procsm-11-p09rbx50</td><td>nmdc:extrp-11-faz6a041 </td><td>nmdc:procsm-11-v7s6qh96</td><td>nmdc:libprp-11-4qwse385</td></tr>\n",
       "\t<tr><td>nmdc:bsm-11-0asn5d63</td><td>M horizon</td><td>USA: Colorado, Central Plains Experimental Range</td><td>nmdc:TextValue</td><td>nmdc:poolp-11-pak1ws91</td><td>nmdc:procsm-11-y8w3sk61</td><td>nmdc:procsm-11-q086v208</td><td>nmdc:extrp-11-9qd5ke92 </td><td>nmdc:procsm-11-jkvhv341</td><td>nmdc:libprp-11-24s1rh35</td></tr>\n",
       "\t<tr><td>nmdc:bsm-11-0djp2e45</td><td>M horizon</td><td>USA: Colorado, North Sterling                   </td><td>nmdc:TextValue</td><td>nmdc:poolp-11-vfkwpy98</td><td>nmdc:procsm-11-258vbz70</td><td>nmdc:procsm-11-nrrknt87</td><td>nmdc:extrp-11-qg3zf244 </td><td>nmdc:procsm-11-t397mj03</td><td>nmdc:libprp-11-p07zpd31</td></tr>\n",
       "\t<tr><td>nmdc:bsm-11-0f43ab20</td><td>M horizon</td><td>USA: Colorado, Central Plains Experimental Range</td><td>nmdc:TextValue</td><td>nmdc:extrp-11-bm4gp651</td><td>nmdc:procsm-11-6x9hd461</td><td>nmdc:procsm-11-merw2c87</td><td>nmdc:libprp-11-r1y1vd21</td><td>NA                     </td><td>NA                     </td></tr>\n",
       "</tbody>\n",
       "</table>\n"
      ],
      "text/latex": [
       "A tibble: 6 × 10\n",
       "\\begin{tabular}{llllllllll}\n",
       " biosample\\_id & soil\\_horizon & geo\\_loc\\_name & geo\\_loc\\_name\\_type & pooling\\_id & processed\\_sample\\_id & processed\\_sample\\_id2 & extraction\\_id & processed\\_sample\\_id3 & library\\_preparation\\_id\\\\\n",
       " <chr> & <chr> & <chr> & <chr> & <chr> & <chr> & <chr> & <chr> & <chr> & <chr>\\\\\n",
       "\\hline\n",
       "\t nmdc:bsm-11-00m15h97 & M horizon & USA: Colorado, Central Plains Experimental Range & nmdc:TextValue & nmdc:poolp-11-gxv2dy50 & nmdc:procsm-11-ytthx235 & nmdc:procsm-11-cd8pg312 & nmdc:extrp-11-c0kyyp83  & nmdc:procsm-11-jrykhg31 & nmdc:libprp-11-2szbj346\\\\\n",
       "\t nmdc:bsm-11-06ta8e31 & M horizon & USA: Colorado, Central Plains Experimental Range & nmdc:TextValue & nmdc:poolp-11-5e2asm75 & nmdc:procsm-11-5s07gt34 & nmdc:procsm-11-edpstj65 & nmdc:extrp-11-76s2tz21  & nmdc:procsm-11-tq69qx97 & nmdc:libprp-11-pqjwcw60\\\\\n",
       "\t nmdc:bsm-11-06tgpb52 & O horizon & USA: Colorado, Rocky Mountains                   & nmdc:TextValue & nmdc:poolp-11-qq41ss20 & nmdc:procsm-11-ez7edj21 & nmdc:procsm-11-p09rbx50 & nmdc:extrp-11-faz6a041  & nmdc:procsm-11-v7s6qh96 & nmdc:libprp-11-4qwse385\\\\\n",
       "\t nmdc:bsm-11-0asn5d63 & M horizon & USA: Colorado, Central Plains Experimental Range & nmdc:TextValue & nmdc:poolp-11-pak1ws91 & nmdc:procsm-11-y8w3sk61 & nmdc:procsm-11-q086v208 & nmdc:extrp-11-9qd5ke92  & nmdc:procsm-11-jkvhv341 & nmdc:libprp-11-24s1rh35\\\\\n",
       "\t nmdc:bsm-11-0djp2e45 & M horizon & USA: Colorado, North Sterling                    & nmdc:TextValue & nmdc:poolp-11-vfkwpy98 & nmdc:procsm-11-258vbz70 & nmdc:procsm-11-nrrknt87 & nmdc:extrp-11-qg3zf244  & nmdc:procsm-11-t397mj03 & nmdc:libprp-11-p07zpd31\\\\\n",
       "\t nmdc:bsm-11-0f43ab20 & M horizon & USA: Colorado, Central Plains Experimental Range & nmdc:TextValue & nmdc:extrp-11-bm4gp651 & nmdc:procsm-11-6x9hd461 & nmdc:procsm-11-merw2c87 & nmdc:libprp-11-r1y1vd21 & NA                      & NA                     \\\\\n",
       "\\end{tabular}\n"
      ],
      "text/markdown": [
       "\n",
       "A tibble: 6 × 10\n",
       "\n",
       "| biosample_id &lt;chr&gt; | soil_horizon &lt;chr&gt; | geo_loc_name &lt;chr&gt; | geo_loc_name_type &lt;chr&gt; | pooling_id &lt;chr&gt; | processed_sample_id &lt;chr&gt; | processed_sample_id2 &lt;chr&gt; | extraction_id &lt;chr&gt; | processed_sample_id3 &lt;chr&gt; | library_preparation_id &lt;chr&gt; |\n",
       "|---|---|---|---|---|---|---|---|---|---|\n",
       "| nmdc:bsm-11-00m15h97 | M horizon | USA: Colorado, Central Plains Experimental Range | nmdc:TextValue | nmdc:poolp-11-gxv2dy50 | nmdc:procsm-11-ytthx235 | nmdc:procsm-11-cd8pg312 | nmdc:extrp-11-c0kyyp83  | nmdc:procsm-11-jrykhg31 | nmdc:libprp-11-2szbj346 |\n",
       "| nmdc:bsm-11-06ta8e31 | M horizon | USA: Colorado, Central Plains Experimental Range | nmdc:TextValue | nmdc:poolp-11-5e2asm75 | nmdc:procsm-11-5s07gt34 | nmdc:procsm-11-edpstj65 | nmdc:extrp-11-76s2tz21  | nmdc:procsm-11-tq69qx97 | nmdc:libprp-11-pqjwcw60 |\n",
       "| nmdc:bsm-11-06tgpb52 | O horizon | USA: Colorado, Rocky Mountains                   | nmdc:TextValue | nmdc:poolp-11-qq41ss20 | nmdc:procsm-11-ez7edj21 | nmdc:procsm-11-p09rbx50 | nmdc:extrp-11-faz6a041  | nmdc:procsm-11-v7s6qh96 | nmdc:libprp-11-4qwse385 |\n",
       "| nmdc:bsm-11-0asn5d63 | M horizon | USA: Colorado, Central Plains Experimental Range | nmdc:TextValue | nmdc:poolp-11-pak1ws91 | nmdc:procsm-11-y8w3sk61 | nmdc:procsm-11-q086v208 | nmdc:extrp-11-9qd5ke92  | nmdc:procsm-11-jkvhv341 | nmdc:libprp-11-24s1rh35 |\n",
       "| nmdc:bsm-11-0djp2e45 | M horizon | USA: Colorado, North Sterling                    | nmdc:TextValue | nmdc:poolp-11-vfkwpy98 | nmdc:procsm-11-258vbz70 | nmdc:procsm-11-nrrknt87 | nmdc:extrp-11-qg3zf244  | nmdc:procsm-11-t397mj03 | nmdc:libprp-11-p07zpd31 |\n",
       "| nmdc:bsm-11-0f43ab20 | M horizon | USA: Colorado, Central Plains Experimental Range | nmdc:TextValue | nmdc:extrp-11-bm4gp651 | nmdc:procsm-11-6x9hd461 | nmdc:procsm-11-merw2c87 | nmdc:libprp-11-r1y1vd21 | NA                      | NA                      |\n",
       "\n"
      ],
      "text/plain": [
       "  biosample_id         soil_horizon\n",
       "1 nmdc:bsm-11-00m15h97 M horizon   \n",
       "2 nmdc:bsm-11-06ta8e31 M horizon   \n",
       "3 nmdc:bsm-11-06tgpb52 O horizon   \n",
       "4 nmdc:bsm-11-0asn5d63 M horizon   \n",
       "5 nmdc:bsm-11-0djp2e45 M horizon   \n",
       "6 nmdc:bsm-11-0f43ab20 M horizon   \n",
       "  geo_loc_name                                     geo_loc_name_type\n",
       "1 USA: Colorado, Central Plains Experimental Range nmdc:TextValue   \n",
       "2 USA: Colorado, Central Plains Experimental Range nmdc:TextValue   \n",
       "3 USA: Colorado, Rocky Mountains                   nmdc:TextValue   \n",
       "4 USA: Colorado, Central Plains Experimental Range nmdc:TextValue   \n",
       "5 USA: Colorado, North Sterling                    nmdc:TextValue   \n",
       "6 USA: Colorado, Central Plains Experimental Range nmdc:TextValue   \n",
       "  pooling_id             processed_sample_id     processed_sample_id2   \n",
       "1 nmdc:poolp-11-gxv2dy50 nmdc:procsm-11-ytthx235 nmdc:procsm-11-cd8pg312\n",
       "2 nmdc:poolp-11-5e2asm75 nmdc:procsm-11-5s07gt34 nmdc:procsm-11-edpstj65\n",
       "3 nmdc:poolp-11-qq41ss20 nmdc:procsm-11-ez7edj21 nmdc:procsm-11-p09rbx50\n",
       "4 nmdc:poolp-11-pak1ws91 nmdc:procsm-11-y8w3sk61 nmdc:procsm-11-q086v208\n",
       "5 nmdc:poolp-11-vfkwpy98 nmdc:procsm-11-258vbz70 nmdc:procsm-11-nrrknt87\n",
       "6 nmdc:extrp-11-bm4gp651 nmdc:procsm-11-6x9hd461 nmdc:procsm-11-merw2c87\n",
       "  extraction_id           processed_sample_id3    library_preparation_id \n",
       "1 nmdc:extrp-11-c0kyyp83  nmdc:procsm-11-jrykhg31 nmdc:libprp-11-2szbj346\n",
       "2 nmdc:extrp-11-76s2tz21  nmdc:procsm-11-tq69qx97 nmdc:libprp-11-pqjwcw60\n",
       "3 nmdc:extrp-11-faz6a041  nmdc:procsm-11-v7s6qh96 nmdc:libprp-11-4qwse385\n",
       "4 nmdc:extrp-11-9qd5ke92  nmdc:procsm-11-jkvhv341 nmdc:libprp-11-24s1rh35\n",
       "5 nmdc:extrp-11-qg3zf244  nmdc:procsm-11-t397mj03 nmdc:libprp-11-p07zpd31\n",
       "6 nmdc:libprp-11-r1y1vd21 NA                      NA                     "
      ]
     },
     "metadata": {},
     "output_type": "display_data"
    }
   ],
   "source": [
    "biosample_df7 <- biosample_df6 %>%\n",
    "    rename(processed_sample_id3 = library_preparation_has_output)\n",
    "head(biosample_df7)"
   ]
  },
  {
   "cell_type": "markdown",
   "id": "697a66f9-471e-40f0-99df-376174824fc6",
   "metadata": {},
   "source": [
    "# 5. Get `NucleotideSequencing` records from the processed sample identifiers\n",
    "\n",
    "Using the third batch of processed sample identifiers, we query the `data_generation_set` on the `has_input` field to retreive `NucleotideSequencing` record (because `NucleotideSequencing` is a subclass of `DataGeneration`). The `id` and `has_input` field names are changed to specify that they came from the `NucleotideSequencing` records."
   ]
  },
  {
   "cell_type": "code",
   "execution_count": 12,
   "id": "be09a8ef-d0fb-4df8-bef3-bc8498f3d444",
   "metadata": {
    "metadata": {},
    "vscode": {
     "languageId": "r"
    }
   },
   "outputs": [
    {
     "data": {
      "text/html": [
       "<table class=\"dataframe\">\n",
       "<caption>A tibble: 6 × 2</caption>\n",
       "<thead>\n",
       "\t<tr><th scope=col>processed_sample_id3</th><th scope=col>data_generation_id</th></tr>\n",
       "\t<tr><th scope=col>&lt;chr&gt;</th><th scope=col>&lt;chr&gt;</th></tr>\n",
       "</thead>\n",
       "<tbody>\n",
       "\t<tr><td>nmdc:procsm-11-43n6yz70</td><td>nmdc:omprc-11-g1n61y55</td></tr>\n",
       "\t<tr><td>nmdc:procsm-11-44e5ds31</td><td>nmdc:dgns-11-ekte1238 </td></tr>\n",
       "\t<tr><td>nmdc:procsm-11-4jj6k690</td><td>nmdc:omprc-11-yt96hb84</td></tr>\n",
       "\t<tr><td>nmdc:procsm-11-4z512838</td><td>nmdc:omprc-11-afejca38</td></tr>\n",
       "\t<tr><td>nmdc:procsm-11-7cpyc435</td><td>nmdc:omprc-11-by9r5p41</td></tr>\n",
       "\t<tr><td>nmdc:procsm-11-9ghwha16</td><td>nmdc:omprc-11-bd1eyb41</td></tr>\n",
       "</tbody>\n",
       "</table>\n"
      ],
      "text/latex": [
       "A tibble: 6 × 2\n",
       "\\begin{tabular}{ll}\n",
       " processed\\_sample\\_id3 & data\\_generation\\_id\\\\\n",
       " <chr> & <chr>\\\\\n",
       "\\hline\n",
       "\t nmdc:procsm-11-43n6yz70 & nmdc:omprc-11-g1n61y55\\\\\n",
       "\t nmdc:procsm-11-44e5ds31 & nmdc:dgns-11-ekte1238 \\\\\n",
       "\t nmdc:procsm-11-4jj6k690 & nmdc:omprc-11-yt96hb84\\\\\n",
       "\t nmdc:procsm-11-4z512838 & nmdc:omprc-11-afejca38\\\\\n",
       "\t nmdc:procsm-11-7cpyc435 & nmdc:omprc-11-by9r5p41\\\\\n",
       "\t nmdc:procsm-11-9ghwha16 & nmdc:omprc-11-bd1eyb41\\\\\n",
       "\\end{tabular}\n"
      ],
      "text/markdown": [
       "\n",
       "A tibble: 6 × 2\n",
       "\n",
       "| processed_sample_id3 &lt;chr&gt; | data_generation_id &lt;chr&gt; |\n",
       "|---|---|\n",
       "| nmdc:procsm-11-43n6yz70 | nmdc:omprc-11-g1n61y55 |\n",
       "| nmdc:procsm-11-44e5ds31 | nmdc:dgns-11-ekte1238  |\n",
       "| nmdc:procsm-11-4jj6k690 | nmdc:omprc-11-yt96hb84 |\n",
       "| nmdc:procsm-11-4z512838 | nmdc:omprc-11-afejca38 |\n",
       "| nmdc:procsm-11-7cpyc435 | nmdc:omprc-11-by9r5p41 |\n",
       "| nmdc:procsm-11-9ghwha16 | nmdc:omprc-11-bd1eyb41 |\n",
       "\n"
      ],
      "text/plain": [
       "  processed_sample_id3    data_generation_id    \n",
       "1 nmdc:procsm-11-43n6yz70 nmdc:omprc-11-g1n61y55\n",
       "2 nmdc:procsm-11-44e5ds31 nmdc:dgns-11-ekte1238 \n",
       "3 nmdc:procsm-11-4jj6k690 nmdc:omprc-11-yt96hb84\n",
       "4 nmdc:procsm-11-4z512838 nmdc:omprc-11-afejca38\n",
       "5 nmdc:procsm-11-7cpyc435 nmdc:omprc-11-by9r5p41\n",
       "6 nmdc:procsm-11-9ghwha16 nmdc:omprc-11-bd1eyb41"
      ]
     },
     "metadata": {},
     "output_type": "display_data"
    }
   ],
   "source": [
    "data_generation_df <- get_results_by_id(\n",
    "    collection = 'data_generation_set',\n",
    "    match_id_field = 'has_input',\n",
    "    id_list = unique(biosample_df7$processed_sample_id3),\n",
    "    fields = 'id,has_input',\n",
    "    max_page_size = 20\n",
    ")\n",
    "\n",
    "data_generation_df <- data_generation_df %>%\n",
    "    unnest(\n",
    "        cols = c(\n",
    "            has_input\n",
    "        ), names_sep = \"_\") %>%\n",
    "    rename(data_generation_id = id,\n",
    "           processed_sample_id3 = has_input)\n",
    "head(data_generation_df)"
   ]
  },
  {
   "cell_type": "markdown",
   "id": "55a95303-8bba-4ecf-8b9f-fd78a43ee402",
   "metadata": {},
   "source": [
    "Merge the data generation records with the biosample, pooling, processed sample, extraction, processed sample, library preparation, and processed sample records."
   ]
  },
  {
   "cell_type": "code",
   "execution_count": 13,
   "id": "2d6c028e-4260-4324-8fb3-0402216d2f7f",
   "metadata": {
    "metadata": {},
    "vscode": {
     "languageId": "r"
    }
   },
   "outputs": [
    {
     "data": {
      "text/html": [
       "<table class=\"dataframe\">\n",
       "<caption>A tibble: 6 × 11</caption>\n",
       "<thead>\n",
       "\t<tr><th scope=col>biosample_id</th><th scope=col>soil_horizon</th><th scope=col>geo_loc_name</th><th scope=col>geo_loc_name_type</th><th scope=col>pooling_id</th><th scope=col>processed_sample_id</th><th scope=col>processed_sample_id2</th><th scope=col>extraction_id</th><th scope=col>processed_sample_id3</th><th scope=col>library_preparation_id</th><th scope=col>data_generation_id</th></tr>\n",
       "\t<tr><th scope=col>&lt;chr&gt;</th><th scope=col>&lt;chr&gt;</th><th scope=col>&lt;chr&gt;</th><th scope=col>&lt;chr&gt;</th><th scope=col>&lt;chr&gt;</th><th scope=col>&lt;chr&gt;</th><th scope=col>&lt;chr&gt;</th><th scope=col>&lt;chr&gt;</th><th scope=col>&lt;chr&gt;</th><th scope=col>&lt;chr&gt;</th><th scope=col>&lt;chr&gt;</th></tr>\n",
       "</thead>\n",
       "<tbody>\n",
       "\t<tr><td>nmdc:bsm-11-00m15h97</td><td>M horizon</td><td>USA: Colorado, Central Plains Experimental Range</td><td>nmdc:TextValue</td><td>nmdc:poolp-11-gxv2dy50</td><td>nmdc:procsm-11-ytthx235</td><td>nmdc:procsm-11-cd8pg312</td><td>nmdc:extrp-11-c0kyyp83 </td><td>nmdc:procsm-11-jrykhg31</td><td>nmdc:libprp-11-2szbj346</td><td>nmdc:omprc-11-63ajbd04</td></tr>\n",
       "\t<tr><td>nmdc:bsm-11-06ta8e31</td><td>M horizon</td><td>USA: Colorado, Central Plains Experimental Range</td><td>nmdc:TextValue</td><td>nmdc:poolp-11-5e2asm75</td><td>nmdc:procsm-11-5s07gt34</td><td>nmdc:procsm-11-edpstj65</td><td>nmdc:extrp-11-76s2tz21 </td><td>nmdc:procsm-11-tq69qx97</td><td>nmdc:libprp-11-pqjwcw60</td><td>nmdc:omprc-11-769ab655</td></tr>\n",
       "\t<tr><td>nmdc:bsm-11-06tgpb52</td><td>O horizon</td><td>USA: Colorado, Rocky Mountains                  </td><td>nmdc:TextValue</td><td>nmdc:poolp-11-qq41ss20</td><td>nmdc:procsm-11-ez7edj21</td><td>nmdc:procsm-11-p09rbx50</td><td>nmdc:extrp-11-faz6a041 </td><td>nmdc:procsm-11-v7s6qh96</td><td>nmdc:libprp-11-4qwse385</td><td>nmdc:omprc-11-597mc608</td></tr>\n",
       "\t<tr><td>nmdc:bsm-11-0asn5d63</td><td>M horizon</td><td>USA: Colorado, Central Plains Experimental Range</td><td>nmdc:TextValue</td><td>nmdc:poolp-11-pak1ws91</td><td>nmdc:procsm-11-y8w3sk61</td><td>nmdc:procsm-11-q086v208</td><td>nmdc:extrp-11-9qd5ke92 </td><td>nmdc:procsm-11-jkvhv341</td><td>nmdc:libprp-11-24s1rh35</td><td>nmdc:dgns-11-j3w06312 </td></tr>\n",
       "\t<tr><td>nmdc:bsm-11-0djp2e45</td><td>M horizon</td><td>USA: Colorado, North Sterling                   </td><td>nmdc:TextValue</td><td>nmdc:poolp-11-vfkwpy98</td><td>nmdc:procsm-11-258vbz70</td><td>nmdc:procsm-11-nrrknt87</td><td>nmdc:extrp-11-qg3zf244 </td><td>nmdc:procsm-11-t397mj03</td><td>nmdc:libprp-11-p07zpd31</td><td>nmdc:dgns-11-jxh3ht55 </td></tr>\n",
       "\t<tr><td>nmdc:bsm-11-0f43ab20</td><td>M horizon</td><td>USA: Colorado, Central Plains Experimental Range</td><td>nmdc:TextValue</td><td>nmdc:extrp-11-bm4gp651</td><td>nmdc:procsm-11-6x9hd461</td><td>nmdc:procsm-11-merw2c87</td><td>nmdc:libprp-11-r1y1vd21</td><td>NA                     </td><td>NA                     </td><td>NA                    </td></tr>\n",
       "</tbody>\n",
       "</table>\n"
      ],
      "text/latex": [
       "A tibble: 6 × 11\n",
       "\\begin{tabular}{lllllllllll}\n",
       " biosample\\_id & soil\\_horizon & geo\\_loc\\_name & geo\\_loc\\_name\\_type & pooling\\_id & processed\\_sample\\_id & processed\\_sample\\_id2 & extraction\\_id & processed\\_sample\\_id3 & library\\_preparation\\_id & data\\_generation\\_id\\\\\n",
       " <chr> & <chr> & <chr> & <chr> & <chr> & <chr> & <chr> & <chr> & <chr> & <chr> & <chr>\\\\\n",
       "\\hline\n",
       "\t nmdc:bsm-11-00m15h97 & M horizon & USA: Colorado, Central Plains Experimental Range & nmdc:TextValue & nmdc:poolp-11-gxv2dy50 & nmdc:procsm-11-ytthx235 & nmdc:procsm-11-cd8pg312 & nmdc:extrp-11-c0kyyp83  & nmdc:procsm-11-jrykhg31 & nmdc:libprp-11-2szbj346 & nmdc:omprc-11-63ajbd04\\\\\n",
       "\t nmdc:bsm-11-06ta8e31 & M horizon & USA: Colorado, Central Plains Experimental Range & nmdc:TextValue & nmdc:poolp-11-5e2asm75 & nmdc:procsm-11-5s07gt34 & nmdc:procsm-11-edpstj65 & nmdc:extrp-11-76s2tz21  & nmdc:procsm-11-tq69qx97 & nmdc:libprp-11-pqjwcw60 & nmdc:omprc-11-769ab655\\\\\n",
       "\t nmdc:bsm-11-06tgpb52 & O horizon & USA: Colorado, Rocky Mountains                   & nmdc:TextValue & nmdc:poolp-11-qq41ss20 & nmdc:procsm-11-ez7edj21 & nmdc:procsm-11-p09rbx50 & nmdc:extrp-11-faz6a041  & nmdc:procsm-11-v7s6qh96 & nmdc:libprp-11-4qwse385 & nmdc:omprc-11-597mc608\\\\\n",
       "\t nmdc:bsm-11-0asn5d63 & M horizon & USA: Colorado, Central Plains Experimental Range & nmdc:TextValue & nmdc:poolp-11-pak1ws91 & nmdc:procsm-11-y8w3sk61 & nmdc:procsm-11-q086v208 & nmdc:extrp-11-9qd5ke92  & nmdc:procsm-11-jkvhv341 & nmdc:libprp-11-24s1rh35 & nmdc:dgns-11-j3w06312 \\\\\n",
       "\t nmdc:bsm-11-0djp2e45 & M horizon & USA: Colorado, North Sterling                    & nmdc:TextValue & nmdc:poolp-11-vfkwpy98 & nmdc:procsm-11-258vbz70 & nmdc:procsm-11-nrrknt87 & nmdc:extrp-11-qg3zf244  & nmdc:procsm-11-t397mj03 & nmdc:libprp-11-p07zpd31 & nmdc:dgns-11-jxh3ht55 \\\\\n",
       "\t nmdc:bsm-11-0f43ab20 & M horizon & USA: Colorado, Central Plains Experimental Range & nmdc:TextValue & nmdc:extrp-11-bm4gp651 & nmdc:procsm-11-6x9hd461 & nmdc:procsm-11-merw2c87 & nmdc:libprp-11-r1y1vd21 & NA                      & NA                      & NA                    \\\\\n",
       "\\end{tabular}\n"
      ],
      "text/markdown": [
       "\n",
       "A tibble: 6 × 11\n",
       "\n",
       "| biosample_id &lt;chr&gt; | soil_horizon &lt;chr&gt; | geo_loc_name &lt;chr&gt; | geo_loc_name_type &lt;chr&gt; | pooling_id &lt;chr&gt; | processed_sample_id &lt;chr&gt; | processed_sample_id2 &lt;chr&gt; | extraction_id &lt;chr&gt; | processed_sample_id3 &lt;chr&gt; | library_preparation_id &lt;chr&gt; | data_generation_id &lt;chr&gt; |\n",
       "|---|---|---|---|---|---|---|---|---|---|---|\n",
       "| nmdc:bsm-11-00m15h97 | M horizon | USA: Colorado, Central Plains Experimental Range | nmdc:TextValue | nmdc:poolp-11-gxv2dy50 | nmdc:procsm-11-ytthx235 | nmdc:procsm-11-cd8pg312 | nmdc:extrp-11-c0kyyp83  | nmdc:procsm-11-jrykhg31 | nmdc:libprp-11-2szbj346 | nmdc:omprc-11-63ajbd04 |\n",
       "| nmdc:bsm-11-06ta8e31 | M horizon | USA: Colorado, Central Plains Experimental Range | nmdc:TextValue | nmdc:poolp-11-5e2asm75 | nmdc:procsm-11-5s07gt34 | nmdc:procsm-11-edpstj65 | nmdc:extrp-11-76s2tz21  | nmdc:procsm-11-tq69qx97 | nmdc:libprp-11-pqjwcw60 | nmdc:omprc-11-769ab655 |\n",
       "| nmdc:bsm-11-06tgpb52 | O horizon | USA: Colorado, Rocky Mountains                   | nmdc:TextValue | nmdc:poolp-11-qq41ss20 | nmdc:procsm-11-ez7edj21 | nmdc:procsm-11-p09rbx50 | nmdc:extrp-11-faz6a041  | nmdc:procsm-11-v7s6qh96 | nmdc:libprp-11-4qwse385 | nmdc:omprc-11-597mc608 |\n",
       "| nmdc:bsm-11-0asn5d63 | M horizon | USA: Colorado, Central Plains Experimental Range | nmdc:TextValue | nmdc:poolp-11-pak1ws91 | nmdc:procsm-11-y8w3sk61 | nmdc:procsm-11-q086v208 | nmdc:extrp-11-9qd5ke92  | nmdc:procsm-11-jkvhv341 | nmdc:libprp-11-24s1rh35 | nmdc:dgns-11-j3w06312  |\n",
       "| nmdc:bsm-11-0djp2e45 | M horizon | USA: Colorado, North Sterling                    | nmdc:TextValue | nmdc:poolp-11-vfkwpy98 | nmdc:procsm-11-258vbz70 | nmdc:procsm-11-nrrknt87 | nmdc:extrp-11-qg3zf244  | nmdc:procsm-11-t397mj03 | nmdc:libprp-11-p07zpd31 | nmdc:dgns-11-jxh3ht55  |\n",
       "| nmdc:bsm-11-0f43ab20 | M horizon | USA: Colorado, Central Plains Experimental Range | nmdc:TextValue | nmdc:extrp-11-bm4gp651 | nmdc:procsm-11-6x9hd461 | nmdc:procsm-11-merw2c87 | nmdc:libprp-11-r1y1vd21 | NA                      | NA                      | NA                     |\n",
       "\n"
      ],
      "text/plain": [
       "  biosample_id         soil_horizon\n",
       "1 nmdc:bsm-11-00m15h97 M horizon   \n",
       "2 nmdc:bsm-11-06ta8e31 M horizon   \n",
       "3 nmdc:bsm-11-06tgpb52 O horizon   \n",
       "4 nmdc:bsm-11-0asn5d63 M horizon   \n",
       "5 nmdc:bsm-11-0djp2e45 M horizon   \n",
       "6 nmdc:bsm-11-0f43ab20 M horizon   \n",
       "  geo_loc_name                                     geo_loc_name_type\n",
       "1 USA: Colorado, Central Plains Experimental Range nmdc:TextValue   \n",
       "2 USA: Colorado, Central Plains Experimental Range nmdc:TextValue   \n",
       "3 USA: Colorado, Rocky Mountains                   nmdc:TextValue   \n",
       "4 USA: Colorado, Central Plains Experimental Range nmdc:TextValue   \n",
       "5 USA: Colorado, North Sterling                    nmdc:TextValue   \n",
       "6 USA: Colorado, Central Plains Experimental Range nmdc:TextValue   \n",
       "  pooling_id             processed_sample_id     processed_sample_id2   \n",
       "1 nmdc:poolp-11-gxv2dy50 nmdc:procsm-11-ytthx235 nmdc:procsm-11-cd8pg312\n",
       "2 nmdc:poolp-11-5e2asm75 nmdc:procsm-11-5s07gt34 nmdc:procsm-11-edpstj65\n",
       "3 nmdc:poolp-11-qq41ss20 nmdc:procsm-11-ez7edj21 nmdc:procsm-11-p09rbx50\n",
       "4 nmdc:poolp-11-pak1ws91 nmdc:procsm-11-y8w3sk61 nmdc:procsm-11-q086v208\n",
       "5 nmdc:poolp-11-vfkwpy98 nmdc:procsm-11-258vbz70 nmdc:procsm-11-nrrknt87\n",
       "6 nmdc:extrp-11-bm4gp651 nmdc:procsm-11-6x9hd461 nmdc:procsm-11-merw2c87\n",
       "  extraction_id           processed_sample_id3    library_preparation_id \n",
       "1 nmdc:extrp-11-c0kyyp83  nmdc:procsm-11-jrykhg31 nmdc:libprp-11-2szbj346\n",
       "2 nmdc:extrp-11-76s2tz21  nmdc:procsm-11-tq69qx97 nmdc:libprp-11-pqjwcw60\n",
       "3 nmdc:extrp-11-faz6a041  nmdc:procsm-11-v7s6qh96 nmdc:libprp-11-4qwse385\n",
       "4 nmdc:extrp-11-9qd5ke92  nmdc:procsm-11-jkvhv341 nmdc:libprp-11-24s1rh35\n",
       "5 nmdc:extrp-11-qg3zf244  nmdc:procsm-11-t397mj03 nmdc:libprp-11-p07zpd31\n",
       "6 nmdc:libprp-11-r1y1vd21 NA                      NA                     \n",
       "  data_generation_id    \n",
       "1 nmdc:omprc-11-63ajbd04\n",
       "2 nmdc:omprc-11-769ab655\n",
       "3 nmdc:omprc-11-597mc608\n",
       "4 nmdc:dgns-11-j3w06312 \n",
       "5 nmdc:dgns-11-jxh3ht55 \n",
       "6 NA                    "
      ]
     },
     "metadata": {},
     "output_type": "display_data"
    }
   ],
   "source": [
    "biosample_df8 <- biosample_df7 %>%\n",
    "    left_join(data_generation_df, by = join_by(processed_sample_id3))\n",
    "head(biosample_df8)"
   ]
  },
  {
   "cell_type": "markdown",
   "id": "51e0ec5b-b831-460a-be9f-b0e1099e266f",
   "metadata": {},
   "source": [
    "# 6. Get the `MetagenomeAnnotation` ids using the `DataGeneration` identifiers\n",
    "\n",
    "The `workflow_execution_set` is queried to retreive `MetagenomeAnnotation` records (because `MetagenomeAnnotation` is a subclass of `WorkflowExecution`) using the identifiers obtained from the data generation to match with the `was_informed_by` field in the `workflow_execution_set`. Field names are clarified, once again to specify the collection they came from."
   ]
  },
  {
   "cell_type": "code",
   "execution_count": 14,
   "id": "6328c9a8-ee49-4dc4-b1e3-b530f718c371",
   "metadata": {
    "metadata": {},
    "vscode": {
     "languageId": "r"
    }
   },
   "outputs": [
    {
     "data": {
      "text/html": [
       "<table class=\"dataframe\">\n",
       "<caption>A data.frame: 6 × 4</caption>\n",
       "<thead>\n",
       "\t<tr><th></th><th scope=col>id</th><th scope=col>was_informed_by</th><th scope=col>has_output</th><th scope=col>type</th></tr>\n",
       "\t<tr><th></th><th scope=col>&lt;chr&gt;</th><th scope=col>&lt;chr&gt;</th><th scope=col>&lt;list&gt;</th><th scope=col>&lt;chr&gt;</th></tr>\n",
       "</thead>\n",
       "<tbody>\n",
       "\t<tr><th scope=row>1</th><td>nmdc:wfmag-11-2702vw88.1</td><td>nmdc:omprc-11-bd1eyb41</td><td>nmdc:dobj-11-xhmyza67, nmdc:dobj-11-0k8d5s49, nmdc:dobj-11-9xkp2r29, nmdc:dobj-11-dg3pn969, nmdc:dobj-11-0kcq6e37</td><td>nmdc:MagsAnalysis</td></tr>\n",
       "\t<tr><th scope=row>2</th><td>nmdc:wfmag-11-29we8r98.1</td><td>nmdc:omprc-11-r5w9js52</td><td>nmdc:dobj-11-psevcm91, nmdc:dobj-11-teqrqr23, nmdc:dobj-11-9fmjfj44, nmdc:dobj-11-j4kqn850, nmdc:dobj-11-1tagyf91</td><td>nmdc:MagsAnalysis</td></tr>\n",
       "\t<tr><th scope=row>3</th><td>nmdc:wfmag-11-94b5df26.1</td><td>nmdc:omprc-11-by9r5p41</td><td>nmdc:dobj-11-jx439j48, nmdc:dobj-11-syzgc354, nmdc:dobj-11-wtcheh80, nmdc:dobj-11-x1np8d24, nmdc:dobj-11-3ysvz851</td><td>nmdc:MagsAnalysis</td></tr>\n",
       "\t<tr><th scope=row>4</th><td>nmdc:wfmag-11-94b5df26.2</td><td>nmdc:omprc-11-by9r5p41</td><td>nmdc:dobj-11-2bqtt266, nmdc:dobj-11-h5dvmy54, nmdc:dobj-11-kym9yb67, nmdc:dobj-11-sr82ew48, nmdc:dobj-11-vsczzw39, nmdc:dobj-11-2vzahp17, nmdc:dobj-11-2s7gaj21, nmdc:dobj-11-amk45957, nmdc:dobj-11-mxwdb762</td><td>nmdc:MagsAnalysis</td></tr>\n",
       "\t<tr><th scope=row>5</th><td>nmdc:wfmag-11-9e4rbw35.1</td><td>nmdc:omprc-11-sz2d4412</td><td>nmdc:dobj-11-86qjqq64, nmdc:dobj-11-yrf0br13, nmdc:dobj-11-7rntfb07, nmdc:dobj-11-1n2enq40, nmdc:dobj-11-65kbsc53</td><td>nmdc:MagsAnalysis</td></tr>\n",
       "\t<tr><th scope=row>6</th><td>nmdc:wfmag-11-9xzvxq91.1</td><td>nmdc:omprc-11-gaptm502</td><td>nmdc:dobj-11-pajr6f05, nmdc:dobj-11-5kp8jq15, nmdc:dobj-11-2d2e5340, nmdc:dobj-11-wskvry88, nmdc:dobj-11-4hz03k78</td><td>nmdc:MagsAnalysis</td></tr>\n",
       "</tbody>\n",
       "</table>\n"
      ],
      "text/latex": [
       "A data.frame: 6 × 4\n",
       "\\begin{tabular}{r|llll}\n",
       "  & id & was\\_informed\\_by & has\\_output & type\\\\\n",
       "  & <chr> & <chr> & <list> & <chr>\\\\\n",
       "\\hline\n",
       "\t1 & nmdc:wfmag-11-2702vw88.1 & nmdc:omprc-11-bd1eyb41 & nmdc:dobj-11-xhmyza67, nmdc:dobj-11-0k8d5s49, nmdc:dobj-11-9xkp2r29, nmdc:dobj-11-dg3pn969, nmdc:dobj-11-0kcq6e37 & nmdc:MagsAnalysis\\\\\n",
       "\t2 & nmdc:wfmag-11-29we8r98.1 & nmdc:omprc-11-r5w9js52 & nmdc:dobj-11-psevcm91, nmdc:dobj-11-teqrqr23, nmdc:dobj-11-9fmjfj44, nmdc:dobj-11-j4kqn850, nmdc:dobj-11-1tagyf91 & nmdc:MagsAnalysis\\\\\n",
       "\t3 & nmdc:wfmag-11-94b5df26.1 & nmdc:omprc-11-by9r5p41 & nmdc:dobj-11-jx439j48, nmdc:dobj-11-syzgc354, nmdc:dobj-11-wtcheh80, nmdc:dobj-11-x1np8d24, nmdc:dobj-11-3ysvz851 & nmdc:MagsAnalysis\\\\\n",
       "\t4 & nmdc:wfmag-11-94b5df26.2 & nmdc:omprc-11-by9r5p41 & nmdc:dobj-11-2bqtt266, nmdc:dobj-11-h5dvmy54, nmdc:dobj-11-kym9yb67, nmdc:dobj-11-sr82ew48, nmdc:dobj-11-vsczzw39, nmdc:dobj-11-2vzahp17, nmdc:dobj-11-2s7gaj21, nmdc:dobj-11-amk45957, nmdc:dobj-11-mxwdb762 & nmdc:MagsAnalysis\\\\\n",
       "\t5 & nmdc:wfmag-11-9e4rbw35.1 & nmdc:omprc-11-sz2d4412 & nmdc:dobj-11-86qjqq64, nmdc:dobj-11-yrf0br13, nmdc:dobj-11-7rntfb07, nmdc:dobj-11-1n2enq40, nmdc:dobj-11-65kbsc53 & nmdc:MagsAnalysis\\\\\n",
       "\t6 & nmdc:wfmag-11-9xzvxq91.1 & nmdc:omprc-11-gaptm502 & nmdc:dobj-11-pajr6f05, nmdc:dobj-11-5kp8jq15, nmdc:dobj-11-2d2e5340, nmdc:dobj-11-wskvry88, nmdc:dobj-11-4hz03k78 & nmdc:MagsAnalysis\\\\\n",
       "\\end{tabular}\n"
      ],
      "text/markdown": [
       "\n",
       "A data.frame: 6 × 4\n",
       "\n",
       "| <!--/--> | id &lt;chr&gt; | was_informed_by &lt;chr&gt; | has_output &lt;list&gt; | type &lt;chr&gt; |\n",
       "|---|---|---|---|---|\n",
       "| 1 | nmdc:wfmag-11-2702vw88.1 | nmdc:omprc-11-bd1eyb41 | nmdc:dobj-11-xhmyza67, nmdc:dobj-11-0k8d5s49, nmdc:dobj-11-9xkp2r29, nmdc:dobj-11-dg3pn969, nmdc:dobj-11-0kcq6e37 | nmdc:MagsAnalysis |\n",
       "| 2 | nmdc:wfmag-11-29we8r98.1 | nmdc:omprc-11-r5w9js52 | nmdc:dobj-11-psevcm91, nmdc:dobj-11-teqrqr23, nmdc:dobj-11-9fmjfj44, nmdc:dobj-11-j4kqn850, nmdc:dobj-11-1tagyf91 | nmdc:MagsAnalysis |\n",
       "| 3 | nmdc:wfmag-11-94b5df26.1 | nmdc:omprc-11-by9r5p41 | nmdc:dobj-11-jx439j48, nmdc:dobj-11-syzgc354, nmdc:dobj-11-wtcheh80, nmdc:dobj-11-x1np8d24, nmdc:dobj-11-3ysvz851 | nmdc:MagsAnalysis |\n",
       "| 4 | nmdc:wfmag-11-94b5df26.2 | nmdc:omprc-11-by9r5p41 | nmdc:dobj-11-2bqtt266, nmdc:dobj-11-h5dvmy54, nmdc:dobj-11-kym9yb67, nmdc:dobj-11-sr82ew48, nmdc:dobj-11-vsczzw39, nmdc:dobj-11-2vzahp17, nmdc:dobj-11-2s7gaj21, nmdc:dobj-11-amk45957, nmdc:dobj-11-mxwdb762 | nmdc:MagsAnalysis |\n",
       "| 5 | nmdc:wfmag-11-9e4rbw35.1 | nmdc:omprc-11-sz2d4412 | nmdc:dobj-11-86qjqq64, nmdc:dobj-11-yrf0br13, nmdc:dobj-11-7rntfb07, nmdc:dobj-11-1n2enq40, nmdc:dobj-11-65kbsc53 | nmdc:MagsAnalysis |\n",
       "| 6 | nmdc:wfmag-11-9xzvxq91.1 | nmdc:omprc-11-gaptm502 | nmdc:dobj-11-pajr6f05, nmdc:dobj-11-5kp8jq15, nmdc:dobj-11-2d2e5340, nmdc:dobj-11-wskvry88, nmdc:dobj-11-4hz03k78 | nmdc:MagsAnalysis |\n",
       "\n"
      ],
      "text/plain": [
       "  id                       was_informed_by       \n",
       "1 nmdc:wfmag-11-2702vw88.1 nmdc:omprc-11-bd1eyb41\n",
       "2 nmdc:wfmag-11-29we8r98.1 nmdc:omprc-11-r5w9js52\n",
       "3 nmdc:wfmag-11-94b5df26.1 nmdc:omprc-11-by9r5p41\n",
       "4 nmdc:wfmag-11-94b5df26.2 nmdc:omprc-11-by9r5p41\n",
       "5 nmdc:wfmag-11-9e4rbw35.1 nmdc:omprc-11-sz2d4412\n",
       "6 nmdc:wfmag-11-9xzvxq91.1 nmdc:omprc-11-gaptm502\n",
       "  has_output                                                                                                                                                                                                   \n",
       "1 nmdc:dobj-11-xhmyza67, nmdc:dobj-11-0k8d5s49, nmdc:dobj-11-9xkp2r29, nmdc:dobj-11-dg3pn969, nmdc:dobj-11-0kcq6e37                                                                                            \n",
       "2 nmdc:dobj-11-psevcm91, nmdc:dobj-11-teqrqr23, nmdc:dobj-11-9fmjfj44, nmdc:dobj-11-j4kqn850, nmdc:dobj-11-1tagyf91                                                                                            \n",
       "3 nmdc:dobj-11-jx439j48, nmdc:dobj-11-syzgc354, nmdc:dobj-11-wtcheh80, nmdc:dobj-11-x1np8d24, nmdc:dobj-11-3ysvz851                                                                                            \n",
       "4 nmdc:dobj-11-2bqtt266, nmdc:dobj-11-h5dvmy54, nmdc:dobj-11-kym9yb67, nmdc:dobj-11-sr82ew48, nmdc:dobj-11-vsczzw39, nmdc:dobj-11-2vzahp17, nmdc:dobj-11-2s7gaj21, nmdc:dobj-11-amk45957, nmdc:dobj-11-mxwdb762\n",
       "5 nmdc:dobj-11-86qjqq64, nmdc:dobj-11-yrf0br13, nmdc:dobj-11-7rntfb07, nmdc:dobj-11-1n2enq40, nmdc:dobj-11-65kbsc53                                                                                            \n",
       "6 nmdc:dobj-11-pajr6f05, nmdc:dobj-11-5kp8jq15, nmdc:dobj-11-2d2e5340, nmdc:dobj-11-wskvry88, nmdc:dobj-11-4hz03k78                                                                                            \n",
       "  type             \n",
       "1 nmdc:MagsAnalysis\n",
       "2 nmdc:MagsAnalysis\n",
       "3 nmdc:MagsAnalysis\n",
       "4 nmdc:MagsAnalysis\n",
       "5 nmdc:MagsAnalysis\n",
       "6 nmdc:MagsAnalysis"
      ]
     },
     "metadata": {},
     "output_type": "display_data"
    }
   ],
   "source": [
    "metagenome_annotation_df <- get_results_by_id(\n",
    "    collection = 'workflow_execution_set',\n",
    "    match_id_field = 'was_informed_by',\n",
    "    id_list = unique(biosample_df8$data_generation_id),\n",
    "    fields = 'id,was_informed_by,has_output,type',\n",
    "    max_page_size = 20\n",
    ")\n",
    "head(metagenome_annotation_df)"
   ]
  },
  {
   "cell_type": "markdown",
   "id": "da008e52-597d-4c7f-bd63-6d3429f6a5e5",
   "metadata": {},
   "source": [
    "This query resulted in all the workflows associated with the `DataGeneration` identifiers.  We can investigate the different types of workflows assoaciated below."
   ]
  },
  {
   "cell_type": "code",
   "execution_count": 15,
   "id": "a4637e99-8950-441a-9966-e31e7781fa21",
   "metadata": {
    "metadata": {},
    "vscode": {
     "languageId": "r"
    }
   },
   "outputs": [
    {
     "data": {
      "text/html": [
       "<style>\n",
       ".list-inline {list-style: none; margin:0; padding: 0}\n",
       ".list-inline>li {display: inline-block}\n",
       ".list-inline>li:not(:last-child)::after {content: \"\\00b7\"; padding: 0 .5ex}\n",
       "</style>\n",
       "<ol class=list-inline><li>'nmdc:MagsAnalysis'</li><li>'nmdc:MetagenomeAnnotation'</li><li>'nmdc:MetagenomeAssembly'</li><li>'nmdc:ReadBasedTaxonomyAnalysis'</li><li>'nmdc:ReadQcAnalysis'</li><li>'nmdc:MetagenomeSequencing'</li></ol>\n"
      ],
      "text/latex": [
       "\\begin{enumerate*}\n",
       "\\item 'nmdc:MagsAnalysis'\n",
       "\\item 'nmdc:MetagenomeAnnotation'\n",
       "\\item 'nmdc:MetagenomeAssembly'\n",
       "\\item 'nmdc:ReadBasedTaxonomyAnalysis'\n",
       "\\item 'nmdc:ReadQcAnalysis'\n",
       "\\item 'nmdc:MetagenomeSequencing'\n",
       "\\end{enumerate*}\n"
      ],
      "text/markdown": [
       "1. 'nmdc:MagsAnalysis'\n",
       "2. 'nmdc:MetagenomeAnnotation'\n",
       "3. 'nmdc:MetagenomeAssembly'\n",
       "4. 'nmdc:ReadBasedTaxonomyAnalysis'\n",
       "5. 'nmdc:ReadQcAnalysis'\n",
       "6. 'nmdc:MetagenomeSequencing'\n",
       "\n",
       "\n"
      ],
      "text/plain": [
       "[1] \"nmdc:MagsAnalysis\"              \"nmdc:MetagenomeAnnotation\"     \n",
       "[3] \"nmdc:MetagenomeAssembly\"        \"nmdc:ReadBasedTaxonomyAnalysis\"\n",
       "[5] \"nmdc:ReadQcAnalysis\"            \"nmdc:MetagenomeSequencing\"     "
      ]
     },
     "metadata": {},
     "output_type": "display_data"
    }
   ],
   "source": [
    "unique(metagenome_annotation_df$type)"
   ]
  },
  {
   "cell_type": "markdown",
   "id": "219a0a54-c830-42b4-b968-335250a6feaa",
   "metadata": {},
   "source": [
    "We are only interested in the outputs of the `MetagenomeAnnotation` workflow, so we'll filter our dataframe to only these results and clean it up for the next step"
   ]
  },
  {
   "cell_type": "code",
   "execution_count": 16,
   "id": "24529f53-c27d-4948-824f-ad5a7a9d405c",
   "metadata": {
    "metadata": {},
    "vscode": {
     "languageId": "r"
    }
   },
   "outputs": [
    {
     "data": {
      "text/html": [
       "<table class=\"dataframe\">\n",
       "<caption>A tibble: 6 × 4</caption>\n",
       "<thead>\n",
       "\t<tr><th scope=col>metagenome_annotation_id</th><th scope=col>data_generation_id</th><th scope=col>matagenome_annotation_has_output</th><th scope=col>workflow_type</th></tr>\n",
       "\t<tr><th scope=col>&lt;chr&gt;</th><th scope=col>&lt;chr&gt;</th><th scope=col>&lt;chr&gt;</th><th scope=col>&lt;chr&gt;</th></tr>\n",
       "</thead>\n",
       "<tbody>\n",
       "\t<tr><td>nmdc:wfmgan-11-0nwd1388.1</td><td>nmdc:omprc-11-2937gz63</td><td>nmdc:dobj-11-vpaxc956</td><td>nmdc:MetagenomeAnnotation</td></tr>\n",
       "\t<tr><td>nmdc:wfmgan-11-0nwd1388.1</td><td>nmdc:omprc-11-2937gz63</td><td>nmdc:dobj-11-ad42v813</td><td>nmdc:MetagenomeAnnotation</td></tr>\n",
       "\t<tr><td>nmdc:wfmgan-11-0nwd1388.1</td><td>nmdc:omprc-11-2937gz63</td><td>nmdc:dobj-11-954m1b13</td><td>nmdc:MetagenomeAnnotation</td></tr>\n",
       "\t<tr><td>nmdc:wfmgan-11-0nwd1388.1</td><td>nmdc:omprc-11-2937gz63</td><td>nmdc:dobj-11-wvtgyb44</td><td>nmdc:MetagenomeAnnotation</td></tr>\n",
       "\t<tr><td>nmdc:wfmgan-11-0nwd1388.1</td><td>nmdc:omprc-11-2937gz63</td><td>nmdc:dobj-11-fs964t51</td><td>nmdc:MetagenomeAnnotation</td></tr>\n",
       "\t<tr><td>nmdc:wfmgan-11-0nwd1388.1</td><td>nmdc:omprc-11-2937gz63</td><td>nmdc:dobj-11-8sttbc64</td><td>nmdc:MetagenomeAnnotation</td></tr>\n",
       "</tbody>\n",
       "</table>\n"
      ],
      "text/latex": [
       "A tibble: 6 × 4\n",
       "\\begin{tabular}{llll}\n",
       " metagenome\\_annotation\\_id & data\\_generation\\_id & matagenome\\_annotation\\_has\\_output & workflow\\_type\\\\\n",
       " <chr> & <chr> & <chr> & <chr>\\\\\n",
       "\\hline\n",
       "\t nmdc:wfmgan-11-0nwd1388.1 & nmdc:omprc-11-2937gz63 & nmdc:dobj-11-vpaxc956 & nmdc:MetagenomeAnnotation\\\\\n",
       "\t nmdc:wfmgan-11-0nwd1388.1 & nmdc:omprc-11-2937gz63 & nmdc:dobj-11-ad42v813 & nmdc:MetagenomeAnnotation\\\\\n",
       "\t nmdc:wfmgan-11-0nwd1388.1 & nmdc:omprc-11-2937gz63 & nmdc:dobj-11-954m1b13 & nmdc:MetagenomeAnnotation\\\\\n",
       "\t nmdc:wfmgan-11-0nwd1388.1 & nmdc:omprc-11-2937gz63 & nmdc:dobj-11-wvtgyb44 & nmdc:MetagenomeAnnotation\\\\\n",
       "\t nmdc:wfmgan-11-0nwd1388.1 & nmdc:omprc-11-2937gz63 & nmdc:dobj-11-fs964t51 & nmdc:MetagenomeAnnotation\\\\\n",
       "\t nmdc:wfmgan-11-0nwd1388.1 & nmdc:omprc-11-2937gz63 & nmdc:dobj-11-8sttbc64 & nmdc:MetagenomeAnnotation\\\\\n",
       "\\end{tabular}\n"
      ],
      "text/markdown": [
       "\n",
       "A tibble: 6 × 4\n",
       "\n",
       "| metagenome_annotation_id &lt;chr&gt; | data_generation_id &lt;chr&gt; | matagenome_annotation_has_output &lt;chr&gt; | workflow_type &lt;chr&gt; |\n",
       "|---|---|---|---|\n",
       "| nmdc:wfmgan-11-0nwd1388.1 | nmdc:omprc-11-2937gz63 | nmdc:dobj-11-vpaxc956 | nmdc:MetagenomeAnnotation |\n",
       "| nmdc:wfmgan-11-0nwd1388.1 | nmdc:omprc-11-2937gz63 | nmdc:dobj-11-ad42v813 | nmdc:MetagenomeAnnotation |\n",
       "| nmdc:wfmgan-11-0nwd1388.1 | nmdc:omprc-11-2937gz63 | nmdc:dobj-11-954m1b13 | nmdc:MetagenomeAnnotation |\n",
       "| nmdc:wfmgan-11-0nwd1388.1 | nmdc:omprc-11-2937gz63 | nmdc:dobj-11-wvtgyb44 | nmdc:MetagenomeAnnotation |\n",
       "| nmdc:wfmgan-11-0nwd1388.1 | nmdc:omprc-11-2937gz63 | nmdc:dobj-11-fs964t51 | nmdc:MetagenomeAnnotation |\n",
       "| nmdc:wfmgan-11-0nwd1388.1 | nmdc:omprc-11-2937gz63 | nmdc:dobj-11-8sttbc64 | nmdc:MetagenomeAnnotation |\n",
       "\n"
      ],
      "text/plain": [
       "  metagenome_annotation_id  data_generation_id    \n",
       "1 nmdc:wfmgan-11-0nwd1388.1 nmdc:omprc-11-2937gz63\n",
       "2 nmdc:wfmgan-11-0nwd1388.1 nmdc:omprc-11-2937gz63\n",
       "3 nmdc:wfmgan-11-0nwd1388.1 nmdc:omprc-11-2937gz63\n",
       "4 nmdc:wfmgan-11-0nwd1388.1 nmdc:omprc-11-2937gz63\n",
       "5 nmdc:wfmgan-11-0nwd1388.1 nmdc:omprc-11-2937gz63\n",
       "6 nmdc:wfmgan-11-0nwd1388.1 nmdc:omprc-11-2937gz63\n",
       "  matagenome_annotation_has_output workflow_type            \n",
       "1 nmdc:dobj-11-vpaxc956            nmdc:MetagenomeAnnotation\n",
       "2 nmdc:dobj-11-ad42v813            nmdc:MetagenomeAnnotation\n",
       "3 nmdc:dobj-11-954m1b13            nmdc:MetagenomeAnnotation\n",
       "4 nmdc:dobj-11-wvtgyb44            nmdc:MetagenomeAnnotation\n",
       "5 nmdc:dobj-11-fs964t51            nmdc:MetagenomeAnnotation\n",
       "6 nmdc:dobj-11-8sttbc64            nmdc:MetagenomeAnnotation"
      ]
     },
     "metadata": {},
     "output_type": "display_data"
    }
   ],
   "source": [
    "metagenome_annotation_df <- metagenome_annotation_df %>%\n",
    "    filter(type == \"nmdc:MetagenomeAnnotation\") %>%\n",
    "    unnest(\n",
    "        cols = c(\n",
    "            was_informed_by,\n",
    "            has_output\n",
    "        ), names_sep = \"_\") %>%\n",
    "    rename(metagenome_annotation_id = id,\n",
    "           data_generation_id = was_informed_by,\n",
    "           matagenome_annotation_has_output = has_output,\n",
    "           workflow_type = type)\n",
    "head(metagenome_annotation_df)"
   ]
  },
  {
   "cell_type": "markdown",
   "id": "2e67c4b5-4c92-4331-9072-9a65d7ae52bd",
   "metadata": {},
   "source": [
    "Merge the metagenome annotation data with the biosample, pooling, processed sample, extraction, processed sample, library preparation, processed sample, data generation, and processed sample data."
   ]
  },
  {
   "cell_type": "code",
   "execution_count": 17,
   "id": "9aa89e83-67de-4620-ba98-a15311882551",
   "metadata": {
    "metadata": {},
    "vscode": {
     "languageId": "r"
    }
   },
   "outputs": [
    {
     "data": {
      "text/html": [
       "<table class=\"dataframe\">\n",
       "<caption>A tibble: 6 × 14</caption>\n",
       "<thead>\n",
       "\t<tr><th scope=col>biosample_id</th><th scope=col>soil_horizon</th><th scope=col>geo_loc_name</th><th scope=col>geo_loc_name_type</th><th scope=col>pooling_id</th><th scope=col>processed_sample_id</th><th scope=col>processed_sample_id2</th><th scope=col>extraction_id</th><th scope=col>processed_sample_id3</th><th scope=col>library_preparation_id</th><th scope=col>data_generation_id</th><th scope=col>metagenome_annotation_id</th><th scope=col>matagenome_annotation_has_output</th><th scope=col>workflow_type</th></tr>\n",
       "\t<tr><th scope=col>&lt;chr&gt;</th><th scope=col>&lt;chr&gt;</th><th scope=col>&lt;chr&gt;</th><th scope=col>&lt;chr&gt;</th><th scope=col>&lt;chr&gt;</th><th scope=col>&lt;chr&gt;</th><th scope=col>&lt;chr&gt;</th><th scope=col>&lt;chr&gt;</th><th scope=col>&lt;chr&gt;</th><th scope=col>&lt;chr&gt;</th><th scope=col>&lt;chr&gt;</th><th scope=col>&lt;chr&gt;</th><th scope=col>&lt;chr&gt;</th><th scope=col>&lt;chr&gt;</th></tr>\n",
       "</thead>\n",
       "<tbody>\n",
       "\t<tr><td>nmdc:bsm-11-00m15h97</td><td>M horizon</td><td>USA: Colorado, Central Plains Experimental Range</td><td>nmdc:TextValue</td><td>nmdc:poolp-11-gxv2dy50</td><td>nmdc:procsm-11-ytthx235</td><td>nmdc:procsm-11-cd8pg312</td><td>nmdc:extrp-11-c0kyyp83</td><td>nmdc:procsm-11-jrykhg31</td><td>nmdc:libprp-11-2szbj346</td><td>nmdc:omprc-11-63ajbd04</td><td>NA                       </td><td>NA                   </td><td>NA                       </td></tr>\n",
       "\t<tr><td>nmdc:bsm-11-06ta8e31</td><td>M horizon</td><td>USA: Colorado, Central Plains Experimental Range</td><td>nmdc:TextValue</td><td>nmdc:poolp-11-5e2asm75</td><td>nmdc:procsm-11-5s07gt34</td><td>nmdc:procsm-11-edpstj65</td><td>nmdc:extrp-11-76s2tz21</td><td>nmdc:procsm-11-tq69qx97</td><td>nmdc:libprp-11-pqjwcw60</td><td>nmdc:omprc-11-769ab655</td><td>NA                       </td><td>NA                   </td><td>NA                       </td></tr>\n",
       "\t<tr><td>nmdc:bsm-11-06tgpb52</td><td>O horizon</td><td>USA: Colorado, Rocky Mountains                  </td><td>nmdc:TextValue</td><td>nmdc:poolp-11-qq41ss20</td><td>nmdc:procsm-11-ez7edj21</td><td>nmdc:procsm-11-p09rbx50</td><td>nmdc:extrp-11-faz6a041</td><td>nmdc:procsm-11-v7s6qh96</td><td>nmdc:libprp-11-4qwse385</td><td>nmdc:omprc-11-597mc608</td><td>nmdc:wfmgan-11-3s20yk38.1</td><td>nmdc:dobj-11-b96vap67</td><td>nmdc:MetagenomeAnnotation</td></tr>\n",
       "\t<tr><td>nmdc:bsm-11-06tgpb52</td><td>O horizon</td><td>USA: Colorado, Rocky Mountains                  </td><td>nmdc:TextValue</td><td>nmdc:poolp-11-qq41ss20</td><td>nmdc:procsm-11-ez7edj21</td><td>nmdc:procsm-11-p09rbx50</td><td>nmdc:extrp-11-faz6a041</td><td>nmdc:procsm-11-v7s6qh96</td><td>nmdc:libprp-11-4qwse385</td><td>nmdc:omprc-11-597mc608</td><td>nmdc:wfmgan-11-3s20yk38.1</td><td>nmdc:dobj-11-hkqqdt25</td><td>nmdc:MetagenomeAnnotation</td></tr>\n",
       "\t<tr><td>nmdc:bsm-11-06tgpb52</td><td>O horizon</td><td>USA: Colorado, Rocky Mountains                  </td><td>nmdc:TextValue</td><td>nmdc:poolp-11-qq41ss20</td><td>nmdc:procsm-11-ez7edj21</td><td>nmdc:procsm-11-p09rbx50</td><td>nmdc:extrp-11-faz6a041</td><td>nmdc:procsm-11-v7s6qh96</td><td>nmdc:libprp-11-4qwse385</td><td>nmdc:omprc-11-597mc608</td><td>nmdc:wfmgan-11-3s20yk38.1</td><td>nmdc:dobj-11-mn4z5956</td><td>nmdc:MetagenomeAnnotation</td></tr>\n",
       "\t<tr><td>nmdc:bsm-11-06tgpb52</td><td>O horizon</td><td>USA: Colorado, Rocky Mountains                  </td><td>nmdc:TextValue</td><td>nmdc:poolp-11-qq41ss20</td><td>nmdc:procsm-11-ez7edj21</td><td>nmdc:procsm-11-p09rbx50</td><td>nmdc:extrp-11-faz6a041</td><td>nmdc:procsm-11-v7s6qh96</td><td>nmdc:libprp-11-4qwse385</td><td>nmdc:omprc-11-597mc608</td><td>nmdc:wfmgan-11-3s20yk38.1</td><td>nmdc:dobj-11-jfypfh90</td><td>nmdc:MetagenomeAnnotation</td></tr>\n",
       "</tbody>\n",
       "</table>\n"
      ],
      "text/latex": [
       "A tibble: 6 × 14\n",
       "\\begin{tabular}{llllllllllllll}\n",
       " biosample\\_id & soil\\_horizon & geo\\_loc\\_name & geo\\_loc\\_name\\_type & pooling\\_id & processed\\_sample\\_id & processed\\_sample\\_id2 & extraction\\_id & processed\\_sample\\_id3 & library\\_preparation\\_id & data\\_generation\\_id & metagenome\\_annotation\\_id & matagenome\\_annotation\\_has\\_output & workflow\\_type\\\\\n",
       " <chr> & <chr> & <chr> & <chr> & <chr> & <chr> & <chr> & <chr> & <chr> & <chr> & <chr> & <chr> & <chr> & <chr>\\\\\n",
       "\\hline\n",
       "\t nmdc:bsm-11-00m15h97 & M horizon & USA: Colorado, Central Plains Experimental Range & nmdc:TextValue & nmdc:poolp-11-gxv2dy50 & nmdc:procsm-11-ytthx235 & nmdc:procsm-11-cd8pg312 & nmdc:extrp-11-c0kyyp83 & nmdc:procsm-11-jrykhg31 & nmdc:libprp-11-2szbj346 & nmdc:omprc-11-63ajbd04 & NA                        & NA                    & NA                       \\\\\n",
       "\t nmdc:bsm-11-06ta8e31 & M horizon & USA: Colorado, Central Plains Experimental Range & nmdc:TextValue & nmdc:poolp-11-5e2asm75 & nmdc:procsm-11-5s07gt34 & nmdc:procsm-11-edpstj65 & nmdc:extrp-11-76s2tz21 & nmdc:procsm-11-tq69qx97 & nmdc:libprp-11-pqjwcw60 & nmdc:omprc-11-769ab655 & NA                        & NA                    & NA                       \\\\\n",
       "\t nmdc:bsm-11-06tgpb52 & O horizon & USA: Colorado, Rocky Mountains                   & nmdc:TextValue & nmdc:poolp-11-qq41ss20 & nmdc:procsm-11-ez7edj21 & nmdc:procsm-11-p09rbx50 & nmdc:extrp-11-faz6a041 & nmdc:procsm-11-v7s6qh96 & nmdc:libprp-11-4qwse385 & nmdc:omprc-11-597mc608 & nmdc:wfmgan-11-3s20yk38.1 & nmdc:dobj-11-b96vap67 & nmdc:MetagenomeAnnotation\\\\\n",
       "\t nmdc:bsm-11-06tgpb52 & O horizon & USA: Colorado, Rocky Mountains                   & nmdc:TextValue & nmdc:poolp-11-qq41ss20 & nmdc:procsm-11-ez7edj21 & nmdc:procsm-11-p09rbx50 & nmdc:extrp-11-faz6a041 & nmdc:procsm-11-v7s6qh96 & nmdc:libprp-11-4qwse385 & nmdc:omprc-11-597mc608 & nmdc:wfmgan-11-3s20yk38.1 & nmdc:dobj-11-hkqqdt25 & nmdc:MetagenomeAnnotation\\\\\n",
       "\t nmdc:bsm-11-06tgpb52 & O horizon & USA: Colorado, Rocky Mountains                   & nmdc:TextValue & nmdc:poolp-11-qq41ss20 & nmdc:procsm-11-ez7edj21 & nmdc:procsm-11-p09rbx50 & nmdc:extrp-11-faz6a041 & nmdc:procsm-11-v7s6qh96 & nmdc:libprp-11-4qwse385 & nmdc:omprc-11-597mc608 & nmdc:wfmgan-11-3s20yk38.1 & nmdc:dobj-11-mn4z5956 & nmdc:MetagenomeAnnotation\\\\\n",
       "\t nmdc:bsm-11-06tgpb52 & O horizon & USA: Colorado, Rocky Mountains                   & nmdc:TextValue & nmdc:poolp-11-qq41ss20 & nmdc:procsm-11-ez7edj21 & nmdc:procsm-11-p09rbx50 & nmdc:extrp-11-faz6a041 & nmdc:procsm-11-v7s6qh96 & nmdc:libprp-11-4qwse385 & nmdc:omprc-11-597mc608 & nmdc:wfmgan-11-3s20yk38.1 & nmdc:dobj-11-jfypfh90 & nmdc:MetagenomeAnnotation\\\\\n",
       "\\end{tabular}\n"
      ],
      "text/markdown": [
       "\n",
       "A tibble: 6 × 14\n",
       "\n",
       "| biosample_id &lt;chr&gt; | soil_horizon &lt;chr&gt; | geo_loc_name &lt;chr&gt; | geo_loc_name_type &lt;chr&gt; | pooling_id &lt;chr&gt; | processed_sample_id &lt;chr&gt; | processed_sample_id2 &lt;chr&gt; | extraction_id &lt;chr&gt; | processed_sample_id3 &lt;chr&gt; | library_preparation_id &lt;chr&gt; | data_generation_id &lt;chr&gt; | metagenome_annotation_id &lt;chr&gt; | matagenome_annotation_has_output &lt;chr&gt; | workflow_type &lt;chr&gt; |\n",
       "|---|---|---|---|---|---|---|---|---|---|---|---|---|---|\n",
       "| nmdc:bsm-11-00m15h97 | M horizon | USA: Colorado, Central Plains Experimental Range | nmdc:TextValue | nmdc:poolp-11-gxv2dy50 | nmdc:procsm-11-ytthx235 | nmdc:procsm-11-cd8pg312 | nmdc:extrp-11-c0kyyp83 | nmdc:procsm-11-jrykhg31 | nmdc:libprp-11-2szbj346 | nmdc:omprc-11-63ajbd04 | NA                        | NA                    | NA                        |\n",
       "| nmdc:bsm-11-06ta8e31 | M horizon | USA: Colorado, Central Plains Experimental Range | nmdc:TextValue | nmdc:poolp-11-5e2asm75 | nmdc:procsm-11-5s07gt34 | nmdc:procsm-11-edpstj65 | nmdc:extrp-11-76s2tz21 | nmdc:procsm-11-tq69qx97 | nmdc:libprp-11-pqjwcw60 | nmdc:omprc-11-769ab655 | NA                        | NA                    | NA                        |\n",
       "| nmdc:bsm-11-06tgpb52 | O horizon | USA: Colorado, Rocky Mountains                   | nmdc:TextValue | nmdc:poolp-11-qq41ss20 | nmdc:procsm-11-ez7edj21 | nmdc:procsm-11-p09rbx50 | nmdc:extrp-11-faz6a041 | nmdc:procsm-11-v7s6qh96 | nmdc:libprp-11-4qwse385 | nmdc:omprc-11-597mc608 | nmdc:wfmgan-11-3s20yk38.1 | nmdc:dobj-11-b96vap67 | nmdc:MetagenomeAnnotation |\n",
       "| nmdc:bsm-11-06tgpb52 | O horizon | USA: Colorado, Rocky Mountains                   | nmdc:TextValue | nmdc:poolp-11-qq41ss20 | nmdc:procsm-11-ez7edj21 | nmdc:procsm-11-p09rbx50 | nmdc:extrp-11-faz6a041 | nmdc:procsm-11-v7s6qh96 | nmdc:libprp-11-4qwse385 | nmdc:omprc-11-597mc608 | nmdc:wfmgan-11-3s20yk38.1 | nmdc:dobj-11-hkqqdt25 | nmdc:MetagenomeAnnotation |\n",
       "| nmdc:bsm-11-06tgpb52 | O horizon | USA: Colorado, Rocky Mountains                   | nmdc:TextValue | nmdc:poolp-11-qq41ss20 | nmdc:procsm-11-ez7edj21 | nmdc:procsm-11-p09rbx50 | nmdc:extrp-11-faz6a041 | nmdc:procsm-11-v7s6qh96 | nmdc:libprp-11-4qwse385 | nmdc:omprc-11-597mc608 | nmdc:wfmgan-11-3s20yk38.1 | nmdc:dobj-11-mn4z5956 | nmdc:MetagenomeAnnotation |\n",
       "| nmdc:bsm-11-06tgpb52 | O horizon | USA: Colorado, Rocky Mountains                   | nmdc:TextValue | nmdc:poolp-11-qq41ss20 | nmdc:procsm-11-ez7edj21 | nmdc:procsm-11-p09rbx50 | nmdc:extrp-11-faz6a041 | nmdc:procsm-11-v7s6qh96 | nmdc:libprp-11-4qwse385 | nmdc:omprc-11-597mc608 | nmdc:wfmgan-11-3s20yk38.1 | nmdc:dobj-11-jfypfh90 | nmdc:MetagenomeAnnotation |\n",
       "\n"
      ],
      "text/plain": [
       "  biosample_id         soil_horizon\n",
       "1 nmdc:bsm-11-00m15h97 M horizon   \n",
       "2 nmdc:bsm-11-06ta8e31 M horizon   \n",
       "3 nmdc:bsm-11-06tgpb52 O horizon   \n",
       "4 nmdc:bsm-11-06tgpb52 O horizon   \n",
       "5 nmdc:bsm-11-06tgpb52 O horizon   \n",
       "6 nmdc:bsm-11-06tgpb52 O horizon   \n",
       "  geo_loc_name                                     geo_loc_name_type\n",
       "1 USA: Colorado, Central Plains Experimental Range nmdc:TextValue   \n",
       "2 USA: Colorado, Central Plains Experimental Range nmdc:TextValue   \n",
       "3 USA: Colorado, Rocky Mountains                   nmdc:TextValue   \n",
       "4 USA: Colorado, Rocky Mountains                   nmdc:TextValue   \n",
       "5 USA: Colorado, Rocky Mountains                   nmdc:TextValue   \n",
       "6 USA: Colorado, Rocky Mountains                   nmdc:TextValue   \n",
       "  pooling_id             processed_sample_id     processed_sample_id2   \n",
       "1 nmdc:poolp-11-gxv2dy50 nmdc:procsm-11-ytthx235 nmdc:procsm-11-cd8pg312\n",
       "2 nmdc:poolp-11-5e2asm75 nmdc:procsm-11-5s07gt34 nmdc:procsm-11-edpstj65\n",
       "3 nmdc:poolp-11-qq41ss20 nmdc:procsm-11-ez7edj21 nmdc:procsm-11-p09rbx50\n",
       "4 nmdc:poolp-11-qq41ss20 nmdc:procsm-11-ez7edj21 nmdc:procsm-11-p09rbx50\n",
       "5 nmdc:poolp-11-qq41ss20 nmdc:procsm-11-ez7edj21 nmdc:procsm-11-p09rbx50\n",
       "6 nmdc:poolp-11-qq41ss20 nmdc:procsm-11-ez7edj21 nmdc:procsm-11-p09rbx50\n",
       "  extraction_id          processed_sample_id3    library_preparation_id \n",
       "1 nmdc:extrp-11-c0kyyp83 nmdc:procsm-11-jrykhg31 nmdc:libprp-11-2szbj346\n",
       "2 nmdc:extrp-11-76s2tz21 nmdc:procsm-11-tq69qx97 nmdc:libprp-11-pqjwcw60\n",
       "3 nmdc:extrp-11-faz6a041 nmdc:procsm-11-v7s6qh96 nmdc:libprp-11-4qwse385\n",
       "4 nmdc:extrp-11-faz6a041 nmdc:procsm-11-v7s6qh96 nmdc:libprp-11-4qwse385\n",
       "5 nmdc:extrp-11-faz6a041 nmdc:procsm-11-v7s6qh96 nmdc:libprp-11-4qwse385\n",
       "6 nmdc:extrp-11-faz6a041 nmdc:procsm-11-v7s6qh96 nmdc:libprp-11-4qwse385\n",
       "  data_generation_id     metagenome_annotation_id \n",
       "1 nmdc:omprc-11-63ajbd04 NA                       \n",
       "2 nmdc:omprc-11-769ab655 NA                       \n",
       "3 nmdc:omprc-11-597mc608 nmdc:wfmgan-11-3s20yk38.1\n",
       "4 nmdc:omprc-11-597mc608 nmdc:wfmgan-11-3s20yk38.1\n",
       "5 nmdc:omprc-11-597mc608 nmdc:wfmgan-11-3s20yk38.1\n",
       "6 nmdc:omprc-11-597mc608 nmdc:wfmgan-11-3s20yk38.1\n",
       "  matagenome_annotation_has_output workflow_type            \n",
       "1 NA                               NA                       \n",
       "2 NA                               NA                       \n",
       "3 nmdc:dobj-11-b96vap67            nmdc:MetagenomeAnnotation\n",
       "4 nmdc:dobj-11-hkqqdt25            nmdc:MetagenomeAnnotation\n",
       "5 nmdc:dobj-11-mn4z5956            nmdc:MetagenomeAnnotation\n",
       "6 nmdc:dobj-11-jfypfh90            nmdc:MetagenomeAnnotation"
      ]
     },
     "metadata": {},
     "output_type": "display_data"
    }
   ],
   "source": [
    "biosample_df9 <- biosample_df8 %>%\n",
    "    left_join(metagenome_annotation_df, by = join_by(data_generation_id), relationship = \"many-to-many\")\n",
    "head(biosample_df9)"
   ]
  },
  {
   "cell_type": "markdown",
   "id": "814da9fb-b162-485e-b319-ee47e81920fc",
   "metadata": {},
   "source": [
    "# 7. Get data objects from the metagenome activity result outputs\n",
    "\n",
    "We query the `data_object_set` using the `metagenome_annotation_has_output` identifiers to match the `id` field in the data objects. We then filter the results for only those results with a `data_object_type` of `Scaffold Lineage tsv` (since this has contig taxonomy results). Note that the `url` is a new field returned that contains the tsvs we will need for the final analysis."
   ]
  },
  {
   "cell_type": "code",
   "execution_count": 18,
   "id": "bf1f3a9c-ba08-43a6-b9aa-577ec7586969",
   "metadata": {
    "metadata": {},
    "vscode": {
     "languageId": "r"
    }
   },
   "outputs": [
    {
     "data": {
      "text/html": [
       "<table class=\"dataframe\">\n",
       "<caption>A data.frame: 6 × 3</caption>\n",
       "<thead>\n",
       "\t<tr><th></th><th scope=col>data_object_id</th><th scope=col>data_object_type</th><th scope=col>url</th></tr>\n",
       "\t<tr><th></th><th scope=col>&lt;chr&gt;</th><th scope=col>&lt;chr&gt;</th><th scope=col>&lt;chr&gt;</th></tr>\n",
       "</thead>\n",
       "<tbody>\n",
       "\t<tr><th scope=row>1</th><td>nmdc:dobj-11-jp45gr33</td><td>Scaffold Lineage tsv</td><td>https://data.microbiomedata.org/data/nmdc:omprc-11-597mc608/nmdc:wfmgan-11-3s20yk38.1/nmdc_wfmgan-11-3s20yk38.1_scaffold_lineage.tsv</td></tr>\n",
       "\t<tr><th scope=row>2</th><td>nmdc:dobj-11-mmv19z03</td><td>Scaffold Lineage tsv</td><td>https://data.microbiomedata.org/data/nmdc:omprc-11-597mc608/nmdc:wfmgan-11-3s20yk38.2/nmdc_wfmgan-11-3s20yk38.2_scaffold_lineage.tsv</td></tr>\n",
       "\t<tr><th scope=row>3</th><td>nmdc:dobj-11-8ybd1f87</td><td>Scaffold Lineage tsv</td><td>https://data.microbiomedata.org/data/nmdc:omprc-11-t2fdcy08/nmdc:wfmgan-11-2a0ap078.1/nmdc_wfmgan-11-2a0ap078.1_scaffold_lineage.tsv</td></tr>\n",
       "\t<tr><th scope=row>4</th><td>nmdc:dobj-11-wn5g7j41</td><td>Scaffold Lineage tsv</td><td>https://data.microbiomedata.org/data/nmdc:omprc-11-yt96hb84/nmdc:wfmgan-11-hv3nyk36.1/nmdc_wfmgan-11-hv3nyk36.1_scaffold_lineage.tsv</td></tr>\n",
       "\t<tr><th scope=row>5</th><td>nmdc:dobj-11-xt9amn82</td><td>Scaffold Lineage tsv</td><td>https://data.microbiomedata.org/data/nmdc:omprc-11-gaptm502/nmdc:wfmgan-11-me7h8h69.1/nmdc_wfmgan-11-me7h8h69.1_scaffold_lineage.tsv</td></tr>\n",
       "\t<tr><th scope=row>6</th><td>nmdc:dobj-11-b6yhf780</td><td>Scaffold Lineage tsv</td><td>https://data.microbiomedata.org/data/nmdc:omprc-11-r5w9js52/nmdc:wfmgan-11-k5a19412.1/nmdc_wfmgan-11-k5a19412.1_scaffold_lineage.tsv</td></tr>\n",
       "</tbody>\n",
       "</table>\n"
      ],
      "text/latex": [
       "A data.frame: 6 × 3\n",
       "\\begin{tabular}{r|lll}\n",
       "  & data\\_object\\_id & data\\_object\\_type & url\\\\\n",
       "  & <chr> & <chr> & <chr>\\\\\n",
       "\\hline\n",
       "\t1 & nmdc:dobj-11-jp45gr33 & Scaffold Lineage tsv & https://data.microbiomedata.org/data/nmdc:omprc-11-597mc608/nmdc:wfmgan-11-3s20yk38.1/nmdc\\_wfmgan-11-3s20yk38.1\\_scaffold\\_lineage.tsv\\\\\n",
       "\t2 & nmdc:dobj-11-mmv19z03 & Scaffold Lineage tsv & https://data.microbiomedata.org/data/nmdc:omprc-11-597mc608/nmdc:wfmgan-11-3s20yk38.2/nmdc\\_wfmgan-11-3s20yk38.2\\_scaffold\\_lineage.tsv\\\\\n",
       "\t3 & nmdc:dobj-11-8ybd1f87 & Scaffold Lineage tsv & https://data.microbiomedata.org/data/nmdc:omprc-11-t2fdcy08/nmdc:wfmgan-11-2a0ap078.1/nmdc\\_wfmgan-11-2a0ap078.1\\_scaffold\\_lineage.tsv\\\\\n",
       "\t4 & nmdc:dobj-11-wn5g7j41 & Scaffold Lineage tsv & https://data.microbiomedata.org/data/nmdc:omprc-11-yt96hb84/nmdc:wfmgan-11-hv3nyk36.1/nmdc\\_wfmgan-11-hv3nyk36.1\\_scaffold\\_lineage.tsv\\\\\n",
       "\t5 & nmdc:dobj-11-xt9amn82 & Scaffold Lineage tsv & https://data.microbiomedata.org/data/nmdc:omprc-11-gaptm502/nmdc:wfmgan-11-me7h8h69.1/nmdc\\_wfmgan-11-me7h8h69.1\\_scaffold\\_lineage.tsv\\\\\n",
       "\t6 & nmdc:dobj-11-b6yhf780 & Scaffold Lineage tsv & https://data.microbiomedata.org/data/nmdc:omprc-11-r5w9js52/nmdc:wfmgan-11-k5a19412.1/nmdc\\_wfmgan-11-k5a19412.1\\_scaffold\\_lineage.tsv\\\\\n",
       "\\end{tabular}\n"
      ],
      "text/markdown": [
       "\n",
       "A data.frame: 6 × 3\n",
       "\n",
       "| <!--/--> | data_object_id &lt;chr&gt; | data_object_type &lt;chr&gt; | url &lt;chr&gt; |\n",
       "|---|---|---|---|\n",
       "| 1 | nmdc:dobj-11-jp45gr33 | Scaffold Lineage tsv | https://data.microbiomedata.org/data/nmdc:omprc-11-597mc608/nmdc:wfmgan-11-3s20yk38.1/nmdc_wfmgan-11-3s20yk38.1_scaffold_lineage.tsv |\n",
       "| 2 | nmdc:dobj-11-mmv19z03 | Scaffold Lineage tsv | https://data.microbiomedata.org/data/nmdc:omprc-11-597mc608/nmdc:wfmgan-11-3s20yk38.2/nmdc_wfmgan-11-3s20yk38.2_scaffold_lineage.tsv |\n",
       "| 3 | nmdc:dobj-11-8ybd1f87 | Scaffold Lineage tsv | https://data.microbiomedata.org/data/nmdc:omprc-11-t2fdcy08/nmdc:wfmgan-11-2a0ap078.1/nmdc_wfmgan-11-2a0ap078.1_scaffold_lineage.tsv |\n",
       "| 4 | nmdc:dobj-11-wn5g7j41 | Scaffold Lineage tsv | https://data.microbiomedata.org/data/nmdc:omprc-11-yt96hb84/nmdc:wfmgan-11-hv3nyk36.1/nmdc_wfmgan-11-hv3nyk36.1_scaffold_lineage.tsv |\n",
       "| 5 | nmdc:dobj-11-xt9amn82 | Scaffold Lineage tsv | https://data.microbiomedata.org/data/nmdc:omprc-11-gaptm502/nmdc:wfmgan-11-me7h8h69.1/nmdc_wfmgan-11-me7h8h69.1_scaffold_lineage.tsv |\n",
       "| 6 | nmdc:dobj-11-b6yhf780 | Scaffold Lineage tsv | https://data.microbiomedata.org/data/nmdc:omprc-11-r5w9js52/nmdc:wfmgan-11-k5a19412.1/nmdc_wfmgan-11-k5a19412.1_scaffold_lineage.tsv |\n",
       "\n"
      ],
      "text/plain": [
       "  data_object_id        data_object_type    \n",
       "1 nmdc:dobj-11-jp45gr33 Scaffold Lineage tsv\n",
       "2 nmdc:dobj-11-mmv19z03 Scaffold Lineage tsv\n",
       "3 nmdc:dobj-11-8ybd1f87 Scaffold Lineage tsv\n",
       "4 nmdc:dobj-11-wn5g7j41 Scaffold Lineage tsv\n",
       "5 nmdc:dobj-11-xt9amn82 Scaffold Lineage tsv\n",
       "6 nmdc:dobj-11-b6yhf780 Scaffold Lineage tsv\n",
       "  url                                                                                                                                 \n",
       "1 https://data.microbiomedata.org/data/nmdc:omprc-11-597mc608/nmdc:wfmgan-11-3s20yk38.1/nmdc_wfmgan-11-3s20yk38.1_scaffold_lineage.tsv\n",
       "2 https://data.microbiomedata.org/data/nmdc:omprc-11-597mc608/nmdc:wfmgan-11-3s20yk38.2/nmdc_wfmgan-11-3s20yk38.2_scaffold_lineage.tsv\n",
       "3 https://data.microbiomedata.org/data/nmdc:omprc-11-t2fdcy08/nmdc:wfmgan-11-2a0ap078.1/nmdc_wfmgan-11-2a0ap078.1_scaffold_lineage.tsv\n",
       "4 https://data.microbiomedata.org/data/nmdc:omprc-11-yt96hb84/nmdc:wfmgan-11-hv3nyk36.1/nmdc_wfmgan-11-hv3nyk36.1_scaffold_lineage.tsv\n",
       "5 https://data.microbiomedata.org/data/nmdc:omprc-11-gaptm502/nmdc:wfmgan-11-me7h8h69.1/nmdc_wfmgan-11-me7h8h69.1_scaffold_lineage.tsv\n",
       "6 https://data.microbiomedata.org/data/nmdc:omprc-11-r5w9js52/nmdc:wfmgan-11-k5a19412.1/nmdc_wfmgan-11-k5a19412.1_scaffold_lineage.tsv"
      ]
     },
     "metadata": {},
     "output_type": "display_data"
    }
   ],
   "source": [
    "data_object_df <- get_results_by_id(\n",
    "    collection = 'data_object_set',\n",
    "    match_id_field = 'id',\n",
    "    id_list = unique(biosample_df9$matagenome_annotation_has_output),\n",
    "    fields = 'id,data_object_type,url',\n",
    "    max_page_size = 50\n",
    ")\n",
    "\n",
    "# Filter the data object results to only include the Scaffold Lineage tsv files\n",
    "data_object_df <- data_object_df %>%\n",
    "    rename(data_object_id = id) %>%\n",
    "    filter(data_object_type == 'Scaffold Lineage tsv')\n",
    "head(data_object_df)"
   ]
  },
  {
   "cell_type": "markdown",
   "id": "2825237d-c5ad-4777-9db9-b4e7e5c68b6c",
   "metadata": {},
   "source": [
    "Merge the data object data with the biosample, pooling, processed sample, extraction, processed sample, library preparation, processed sample, data generation, processed sample, and metagenome annotation data"
   ]
  },
  {
   "cell_type": "code",
   "execution_count": 19,
   "id": "d3ac4d7e-861f-4553-b05c-751ae08d2304",
   "metadata": {
    "metadata": {},
    "vscode": {
     "languageId": "r"
    }
   },
   "outputs": [
    {
     "data": {
      "text/html": [
       "<table class=\"dataframe\">\n",
       "<caption>A tibble: 6 × 16</caption>\n",
       "<thead>\n",
       "\t<tr><th scope=col>biosample_id</th><th scope=col>soil_horizon</th><th scope=col>geo_loc_name</th><th scope=col>geo_loc_name_type</th><th scope=col>pooling_id</th><th scope=col>processed_sample_id</th><th scope=col>processed_sample_id2</th><th scope=col>extraction_id</th><th scope=col>processed_sample_id3</th><th scope=col>library_preparation_id</th><th scope=col>data_generation_id</th><th scope=col>metagenome_annotation_id</th><th scope=col>data_object_id</th><th scope=col>workflow_type</th><th scope=col>data_object_type</th><th scope=col>url</th></tr>\n",
       "\t<tr><th scope=col>&lt;chr&gt;</th><th scope=col>&lt;chr&gt;</th><th scope=col>&lt;chr&gt;</th><th scope=col>&lt;chr&gt;</th><th scope=col>&lt;chr&gt;</th><th scope=col>&lt;chr&gt;</th><th scope=col>&lt;chr&gt;</th><th scope=col>&lt;chr&gt;</th><th scope=col>&lt;chr&gt;</th><th scope=col>&lt;chr&gt;</th><th scope=col>&lt;chr&gt;</th><th scope=col>&lt;chr&gt;</th><th scope=col>&lt;chr&gt;</th><th scope=col>&lt;chr&gt;</th><th scope=col>&lt;chr&gt;</th><th scope=col>&lt;chr&gt;</th></tr>\n",
       "</thead>\n",
       "<tbody>\n",
       "\t<tr><td>nmdc:bsm-11-00m15h97</td><td>M horizon</td><td>USA: Colorado, Central Plains Experimental Range</td><td>nmdc:TextValue</td><td>nmdc:poolp-11-gxv2dy50</td><td>nmdc:procsm-11-ytthx235</td><td>nmdc:procsm-11-cd8pg312</td><td>nmdc:extrp-11-c0kyyp83</td><td>nmdc:procsm-11-jrykhg31</td><td>nmdc:libprp-11-2szbj346</td><td>nmdc:omprc-11-63ajbd04</td><td>NA                       </td><td>NA                   </td><td>NA                       </td><td>NA</td><td>NA</td></tr>\n",
       "\t<tr><td>nmdc:bsm-11-06ta8e31</td><td>M horizon</td><td>USA: Colorado, Central Plains Experimental Range</td><td>nmdc:TextValue</td><td>nmdc:poolp-11-5e2asm75</td><td>nmdc:procsm-11-5s07gt34</td><td>nmdc:procsm-11-edpstj65</td><td>nmdc:extrp-11-76s2tz21</td><td>nmdc:procsm-11-tq69qx97</td><td>nmdc:libprp-11-pqjwcw60</td><td>nmdc:omprc-11-769ab655</td><td>NA                       </td><td>NA                   </td><td>NA                       </td><td>NA</td><td>NA</td></tr>\n",
       "\t<tr><td>nmdc:bsm-11-06tgpb52</td><td>O horizon</td><td>USA: Colorado, Rocky Mountains                  </td><td>nmdc:TextValue</td><td>nmdc:poolp-11-qq41ss20</td><td>nmdc:procsm-11-ez7edj21</td><td>nmdc:procsm-11-p09rbx50</td><td>nmdc:extrp-11-faz6a041</td><td>nmdc:procsm-11-v7s6qh96</td><td>nmdc:libprp-11-4qwse385</td><td>nmdc:omprc-11-597mc608</td><td>nmdc:wfmgan-11-3s20yk38.1</td><td>nmdc:dobj-11-b96vap67</td><td>nmdc:MetagenomeAnnotation</td><td>NA</td><td>NA</td></tr>\n",
       "\t<tr><td>nmdc:bsm-11-06tgpb52</td><td>O horizon</td><td>USA: Colorado, Rocky Mountains                  </td><td>nmdc:TextValue</td><td>nmdc:poolp-11-qq41ss20</td><td>nmdc:procsm-11-ez7edj21</td><td>nmdc:procsm-11-p09rbx50</td><td>nmdc:extrp-11-faz6a041</td><td>nmdc:procsm-11-v7s6qh96</td><td>nmdc:libprp-11-4qwse385</td><td>nmdc:omprc-11-597mc608</td><td>nmdc:wfmgan-11-3s20yk38.1</td><td>nmdc:dobj-11-hkqqdt25</td><td>nmdc:MetagenomeAnnotation</td><td>NA</td><td>NA</td></tr>\n",
       "\t<tr><td>nmdc:bsm-11-06tgpb52</td><td>O horizon</td><td>USA: Colorado, Rocky Mountains                  </td><td>nmdc:TextValue</td><td>nmdc:poolp-11-qq41ss20</td><td>nmdc:procsm-11-ez7edj21</td><td>nmdc:procsm-11-p09rbx50</td><td>nmdc:extrp-11-faz6a041</td><td>nmdc:procsm-11-v7s6qh96</td><td>nmdc:libprp-11-4qwse385</td><td>nmdc:omprc-11-597mc608</td><td>nmdc:wfmgan-11-3s20yk38.1</td><td>nmdc:dobj-11-mn4z5956</td><td>nmdc:MetagenomeAnnotation</td><td>NA</td><td>NA</td></tr>\n",
       "\t<tr><td>nmdc:bsm-11-06tgpb52</td><td>O horizon</td><td>USA: Colorado, Rocky Mountains                  </td><td>nmdc:TextValue</td><td>nmdc:poolp-11-qq41ss20</td><td>nmdc:procsm-11-ez7edj21</td><td>nmdc:procsm-11-p09rbx50</td><td>nmdc:extrp-11-faz6a041</td><td>nmdc:procsm-11-v7s6qh96</td><td>nmdc:libprp-11-4qwse385</td><td>nmdc:omprc-11-597mc608</td><td>nmdc:wfmgan-11-3s20yk38.1</td><td>nmdc:dobj-11-jfypfh90</td><td>nmdc:MetagenomeAnnotation</td><td>NA</td><td>NA</td></tr>\n",
       "</tbody>\n",
       "</table>\n"
      ],
      "text/latex": [
       "A tibble: 6 × 16\n",
       "\\begin{tabular}{llllllllllllllll}\n",
       " biosample\\_id & soil\\_horizon & geo\\_loc\\_name & geo\\_loc\\_name\\_type & pooling\\_id & processed\\_sample\\_id & processed\\_sample\\_id2 & extraction\\_id & processed\\_sample\\_id3 & library\\_preparation\\_id & data\\_generation\\_id & metagenome\\_annotation\\_id & data\\_object\\_id & workflow\\_type & data\\_object\\_type & url\\\\\n",
       " <chr> & <chr> & <chr> & <chr> & <chr> & <chr> & <chr> & <chr> & <chr> & <chr> & <chr> & <chr> & <chr> & <chr> & <chr> & <chr>\\\\\n",
       "\\hline\n",
       "\t nmdc:bsm-11-00m15h97 & M horizon & USA: Colorado, Central Plains Experimental Range & nmdc:TextValue & nmdc:poolp-11-gxv2dy50 & nmdc:procsm-11-ytthx235 & nmdc:procsm-11-cd8pg312 & nmdc:extrp-11-c0kyyp83 & nmdc:procsm-11-jrykhg31 & nmdc:libprp-11-2szbj346 & nmdc:omprc-11-63ajbd04 & NA                        & NA                    & NA                        & NA & NA\\\\\n",
       "\t nmdc:bsm-11-06ta8e31 & M horizon & USA: Colorado, Central Plains Experimental Range & nmdc:TextValue & nmdc:poolp-11-5e2asm75 & nmdc:procsm-11-5s07gt34 & nmdc:procsm-11-edpstj65 & nmdc:extrp-11-76s2tz21 & nmdc:procsm-11-tq69qx97 & nmdc:libprp-11-pqjwcw60 & nmdc:omprc-11-769ab655 & NA                        & NA                    & NA                        & NA & NA\\\\\n",
       "\t nmdc:bsm-11-06tgpb52 & O horizon & USA: Colorado, Rocky Mountains                   & nmdc:TextValue & nmdc:poolp-11-qq41ss20 & nmdc:procsm-11-ez7edj21 & nmdc:procsm-11-p09rbx50 & nmdc:extrp-11-faz6a041 & nmdc:procsm-11-v7s6qh96 & nmdc:libprp-11-4qwse385 & nmdc:omprc-11-597mc608 & nmdc:wfmgan-11-3s20yk38.1 & nmdc:dobj-11-b96vap67 & nmdc:MetagenomeAnnotation & NA & NA\\\\\n",
       "\t nmdc:bsm-11-06tgpb52 & O horizon & USA: Colorado, Rocky Mountains                   & nmdc:TextValue & nmdc:poolp-11-qq41ss20 & nmdc:procsm-11-ez7edj21 & nmdc:procsm-11-p09rbx50 & nmdc:extrp-11-faz6a041 & nmdc:procsm-11-v7s6qh96 & nmdc:libprp-11-4qwse385 & nmdc:omprc-11-597mc608 & nmdc:wfmgan-11-3s20yk38.1 & nmdc:dobj-11-hkqqdt25 & nmdc:MetagenomeAnnotation & NA & NA\\\\\n",
       "\t nmdc:bsm-11-06tgpb52 & O horizon & USA: Colorado, Rocky Mountains                   & nmdc:TextValue & nmdc:poolp-11-qq41ss20 & nmdc:procsm-11-ez7edj21 & nmdc:procsm-11-p09rbx50 & nmdc:extrp-11-faz6a041 & nmdc:procsm-11-v7s6qh96 & nmdc:libprp-11-4qwse385 & nmdc:omprc-11-597mc608 & nmdc:wfmgan-11-3s20yk38.1 & nmdc:dobj-11-mn4z5956 & nmdc:MetagenomeAnnotation & NA & NA\\\\\n",
       "\t nmdc:bsm-11-06tgpb52 & O horizon & USA: Colorado, Rocky Mountains                   & nmdc:TextValue & nmdc:poolp-11-qq41ss20 & nmdc:procsm-11-ez7edj21 & nmdc:procsm-11-p09rbx50 & nmdc:extrp-11-faz6a041 & nmdc:procsm-11-v7s6qh96 & nmdc:libprp-11-4qwse385 & nmdc:omprc-11-597mc608 & nmdc:wfmgan-11-3s20yk38.1 & nmdc:dobj-11-jfypfh90 & nmdc:MetagenomeAnnotation & NA & NA\\\\\n",
       "\\end{tabular}\n"
      ],
      "text/markdown": [
       "\n",
       "A tibble: 6 × 16\n",
       "\n",
       "| biosample_id &lt;chr&gt; | soil_horizon &lt;chr&gt; | geo_loc_name &lt;chr&gt; | geo_loc_name_type &lt;chr&gt; | pooling_id &lt;chr&gt; | processed_sample_id &lt;chr&gt; | processed_sample_id2 &lt;chr&gt; | extraction_id &lt;chr&gt; | processed_sample_id3 &lt;chr&gt; | library_preparation_id &lt;chr&gt; | data_generation_id &lt;chr&gt; | metagenome_annotation_id &lt;chr&gt; | data_object_id &lt;chr&gt; | workflow_type &lt;chr&gt; | data_object_type &lt;chr&gt; | url &lt;chr&gt; |\n",
       "|---|---|---|---|---|---|---|---|---|---|---|---|---|---|---|---|\n",
       "| nmdc:bsm-11-00m15h97 | M horizon | USA: Colorado, Central Plains Experimental Range | nmdc:TextValue | nmdc:poolp-11-gxv2dy50 | nmdc:procsm-11-ytthx235 | nmdc:procsm-11-cd8pg312 | nmdc:extrp-11-c0kyyp83 | nmdc:procsm-11-jrykhg31 | nmdc:libprp-11-2szbj346 | nmdc:omprc-11-63ajbd04 | NA                        | NA                    | NA                        | NA | NA |\n",
       "| nmdc:bsm-11-06ta8e31 | M horizon | USA: Colorado, Central Plains Experimental Range | nmdc:TextValue | nmdc:poolp-11-5e2asm75 | nmdc:procsm-11-5s07gt34 | nmdc:procsm-11-edpstj65 | nmdc:extrp-11-76s2tz21 | nmdc:procsm-11-tq69qx97 | nmdc:libprp-11-pqjwcw60 | nmdc:omprc-11-769ab655 | NA                        | NA                    | NA                        | NA | NA |\n",
       "| nmdc:bsm-11-06tgpb52 | O horizon | USA: Colorado, Rocky Mountains                   | nmdc:TextValue | nmdc:poolp-11-qq41ss20 | nmdc:procsm-11-ez7edj21 | nmdc:procsm-11-p09rbx50 | nmdc:extrp-11-faz6a041 | nmdc:procsm-11-v7s6qh96 | nmdc:libprp-11-4qwse385 | nmdc:omprc-11-597mc608 | nmdc:wfmgan-11-3s20yk38.1 | nmdc:dobj-11-b96vap67 | nmdc:MetagenomeAnnotation | NA | NA |\n",
       "| nmdc:bsm-11-06tgpb52 | O horizon | USA: Colorado, Rocky Mountains                   | nmdc:TextValue | nmdc:poolp-11-qq41ss20 | nmdc:procsm-11-ez7edj21 | nmdc:procsm-11-p09rbx50 | nmdc:extrp-11-faz6a041 | nmdc:procsm-11-v7s6qh96 | nmdc:libprp-11-4qwse385 | nmdc:omprc-11-597mc608 | nmdc:wfmgan-11-3s20yk38.1 | nmdc:dobj-11-hkqqdt25 | nmdc:MetagenomeAnnotation | NA | NA |\n",
       "| nmdc:bsm-11-06tgpb52 | O horizon | USA: Colorado, Rocky Mountains                   | nmdc:TextValue | nmdc:poolp-11-qq41ss20 | nmdc:procsm-11-ez7edj21 | nmdc:procsm-11-p09rbx50 | nmdc:extrp-11-faz6a041 | nmdc:procsm-11-v7s6qh96 | nmdc:libprp-11-4qwse385 | nmdc:omprc-11-597mc608 | nmdc:wfmgan-11-3s20yk38.1 | nmdc:dobj-11-mn4z5956 | nmdc:MetagenomeAnnotation | NA | NA |\n",
       "| nmdc:bsm-11-06tgpb52 | O horizon | USA: Colorado, Rocky Mountains                   | nmdc:TextValue | nmdc:poolp-11-qq41ss20 | nmdc:procsm-11-ez7edj21 | nmdc:procsm-11-p09rbx50 | nmdc:extrp-11-faz6a041 | nmdc:procsm-11-v7s6qh96 | nmdc:libprp-11-4qwse385 | nmdc:omprc-11-597mc608 | nmdc:wfmgan-11-3s20yk38.1 | nmdc:dobj-11-jfypfh90 | nmdc:MetagenomeAnnotation | NA | NA |\n",
       "\n"
      ],
      "text/plain": [
       "  biosample_id         soil_horizon\n",
       "1 nmdc:bsm-11-00m15h97 M horizon   \n",
       "2 nmdc:bsm-11-06ta8e31 M horizon   \n",
       "3 nmdc:bsm-11-06tgpb52 O horizon   \n",
       "4 nmdc:bsm-11-06tgpb52 O horizon   \n",
       "5 nmdc:bsm-11-06tgpb52 O horizon   \n",
       "6 nmdc:bsm-11-06tgpb52 O horizon   \n",
       "  geo_loc_name                                     geo_loc_name_type\n",
       "1 USA: Colorado, Central Plains Experimental Range nmdc:TextValue   \n",
       "2 USA: Colorado, Central Plains Experimental Range nmdc:TextValue   \n",
       "3 USA: Colorado, Rocky Mountains                   nmdc:TextValue   \n",
       "4 USA: Colorado, Rocky Mountains                   nmdc:TextValue   \n",
       "5 USA: Colorado, Rocky Mountains                   nmdc:TextValue   \n",
       "6 USA: Colorado, Rocky Mountains                   nmdc:TextValue   \n",
       "  pooling_id             processed_sample_id     processed_sample_id2   \n",
       "1 nmdc:poolp-11-gxv2dy50 nmdc:procsm-11-ytthx235 nmdc:procsm-11-cd8pg312\n",
       "2 nmdc:poolp-11-5e2asm75 nmdc:procsm-11-5s07gt34 nmdc:procsm-11-edpstj65\n",
       "3 nmdc:poolp-11-qq41ss20 nmdc:procsm-11-ez7edj21 nmdc:procsm-11-p09rbx50\n",
       "4 nmdc:poolp-11-qq41ss20 nmdc:procsm-11-ez7edj21 nmdc:procsm-11-p09rbx50\n",
       "5 nmdc:poolp-11-qq41ss20 nmdc:procsm-11-ez7edj21 nmdc:procsm-11-p09rbx50\n",
       "6 nmdc:poolp-11-qq41ss20 nmdc:procsm-11-ez7edj21 nmdc:procsm-11-p09rbx50\n",
       "  extraction_id          processed_sample_id3    library_preparation_id \n",
       "1 nmdc:extrp-11-c0kyyp83 nmdc:procsm-11-jrykhg31 nmdc:libprp-11-2szbj346\n",
       "2 nmdc:extrp-11-76s2tz21 nmdc:procsm-11-tq69qx97 nmdc:libprp-11-pqjwcw60\n",
       "3 nmdc:extrp-11-faz6a041 nmdc:procsm-11-v7s6qh96 nmdc:libprp-11-4qwse385\n",
       "4 nmdc:extrp-11-faz6a041 nmdc:procsm-11-v7s6qh96 nmdc:libprp-11-4qwse385\n",
       "5 nmdc:extrp-11-faz6a041 nmdc:procsm-11-v7s6qh96 nmdc:libprp-11-4qwse385\n",
       "6 nmdc:extrp-11-faz6a041 nmdc:procsm-11-v7s6qh96 nmdc:libprp-11-4qwse385\n",
       "  data_generation_id     metagenome_annotation_id  data_object_id       \n",
       "1 nmdc:omprc-11-63ajbd04 NA                        NA                   \n",
       "2 nmdc:omprc-11-769ab655 NA                        NA                   \n",
       "3 nmdc:omprc-11-597mc608 nmdc:wfmgan-11-3s20yk38.1 nmdc:dobj-11-b96vap67\n",
       "4 nmdc:omprc-11-597mc608 nmdc:wfmgan-11-3s20yk38.1 nmdc:dobj-11-hkqqdt25\n",
       "5 nmdc:omprc-11-597mc608 nmdc:wfmgan-11-3s20yk38.1 nmdc:dobj-11-mn4z5956\n",
       "6 nmdc:omprc-11-597mc608 nmdc:wfmgan-11-3s20yk38.1 nmdc:dobj-11-jfypfh90\n",
       "  workflow_type             data_object_type url\n",
       "1 NA                        NA               NA \n",
       "2 NA                        NA               NA \n",
       "3 nmdc:MetagenomeAnnotation NA               NA \n",
       "4 nmdc:MetagenomeAnnotation NA               NA \n",
       "5 nmdc:MetagenomeAnnotation NA               NA \n",
       "6 nmdc:MetagenomeAnnotation NA               NA "
      ]
     },
     "metadata": {},
     "output_type": "display_data"
    }
   ],
   "source": [
    "biosample_df10 <- biosample_df9 %>%\n",
    "    rename(data_object_id = matagenome_annotation_has_output) %>%\n",
    "    left_join(data_object_df, by = join_by(data_object_id))\n",
    "head(biosample_df10)"
   ]
  },
  {
   "cell_type": "markdown",
   "id": "d56eedef-1f56-451d-99f6-9940ed6ba44e",
   "metadata": {},
   "source": [
    "## Clean up the combined results\n",
    "\n",
    "In the final step of retrieving and cleaning the data, we clean up the final merged data frame by removing all of the \"joining columns\" that are not needed in our final analysis. Because some of the biosamples were pooled, we only retain unique url results (and drop the `biosample_id` column). The only columns we retain are the `soil_horizon`, `geo_loc_name`, and the `url` to the tsv. The `final_df` is displayed."
   ]
  },
  {
   "cell_type": "code",
   "execution_count": 20,
   "id": "9444e91a-1305-4a15-ae8d-338ca54eb5e4",
   "metadata": {
    "metadata": {},
    "vscode": {
     "languageId": "r"
    }
   },
   "outputs": [
    {
     "data": {
      "text/html": [
       "<table class=\"dataframe\">\n",
       "<caption>A tibble: 6 × 6</caption>\n",
       "<thead>\n",
       "\t<tr><th scope=col>biosample_id</th><th scope=col>soil_horizon</th><th scope=col>geo_loc_name</th><th scope=col>data_object_id</th><th scope=col>data_object_type</th><th scope=col>url</th></tr>\n",
       "\t<tr><th scope=col>&lt;chr&gt;</th><th scope=col>&lt;chr&gt;</th><th scope=col>&lt;chr&gt;</th><th scope=col>&lt;chr&gt;</th><th scope=col>&lt;chr&gt;</th><th scope=col>&lt;chr&gt;</th></tr>\n",
       "</thead>\n",
       "<tbody>\n",
       "\t<tr><td>nmdc:bsm-11-06tgpb52</td><td>O horizon</td><td>USA: Colorado, Rocky Mountains</td><td>nmdc:dobj-11-jp45gr33</td><td>Scaffold Lineage tsv</td><td>https://data.microbiomedata.org/data/nmdc:omprc-11-597mc608/nmdc:wfmgan-11-3s20yk38.1/nmdc_wfmgan-11-3s20yk38.1_scaffold_lineage.tsv</td></tr>\n",
       "\t<tr><td>nmdc:bsm-11-06tgpb52</td><td>O horizon</td><td>USA: Colorado, Rocky Mountains</td><td>nmdc:dobj-11-mmv19z03</td><td>Scaffold Lineage tsv</td><td>https://data.microbiomedata.org/data/nmdc:omprc-11-597mc608/nmdc:wfmgan-11-3s20yk38.2/nmdc_wfmgan-11-3s20yk38.2_scaffold_lineage.tsv</td></tr>\n",
       "\t<tr><td>nmdc:bsm-11-0gmd9f09</td><td>M horizon</td><td>USA: Colorado, Niwot Ridge    </td><td>nmdc:dobj-11-xt9amn82</td><td>Scaffold Lineage tsv</td><td>https://data.microbiomedata.org/data/nmdc:omprc-11-gaptm502/nmdc:wfmgan-11-me7h8h69.1/nmdc_wfmgan-11-me7h8h69.1_scaffold_lineage.tsv</td></tr>\n",
       "\t<tr><td>nmdc:bsm-11-0hz4rd27</td><td>O horizon</td><td>USA: Colorado, Niwot Ridge    </td><td>nmdc:dobj-11-8ybd1f87</td><td>Scaffold Lineage tsv</td><td>https://data.microbiomedata.org/data/nmdc:omprc-11-t2fdcy08/nmdc:wfmgan-11-2a0ap078.1/nmdc_wfmgan-11-2a0ap078.1_scaffold_lineage.tsv</td></tr>\n",
       "\t<tr><td>nmdc:bsm-11-0qa78w81</td><td>M horizon</td><td>USA: Colorado, North Sterling </td><td>nmdc:dobj-11-wn5g7j41</td><td>Scaffold Lineage tsv</td><td>https://data.microbiomedata.org/data/nmdc:omprc-11-yt96hb84/nmdc:wfmgan-11-hv3nyk36.1/nmdc_wfmgan-11-hv3nyk36.1_scaffold_lineage.tsv</td></tr>\n",
       "\t<tr><td>nmdc:bsm-11-0yw1rj05</td><td>M horizon</td><td>USA: Colorado, North Sterling </td><td>nmdc:dobj-11-b6yhf780</td><td>Scaffold Lineage tsv</td><td>https://data.microbiomedata.org/data/nmdc:omprc-11-r5w9js52/nmdc:wfmgan-11-k5a19412.1/nmdc_wfmgan-11-k5a19412.1_scaffold_lineage.tsv</td></tr>\n",
       "</tbody>\n",
       "</table>\n"
      ],
      "text/latex": [
       "A tibble: 6 × 6\n",
       "\\begin{tabular}{llllll}\n",
       " biosample\\_id & soil\\_horizon & geo\\_loc\\_name & data\\_object\\_id & data\\_object\\_type & url\\\\\n",
       " <chr> & <chr> & <chr> & <chr> & <chr> & <chr>\\\\\n",
       "\\hline\n",
       "\t nmdc:bsm-11-06tgpb52 & O horizon & USA: Colorado, Rocky Mountains & nmdc:dobj-11-jp45gr33 & Scaffold Lineage tsv & https://data.microbiomedata.org/data/nmdc:omprc-11-597mc608/nmdc:wfmgan-11-3s20yk38.1/nmdc\\_wfmgan-11-3s20yk38.1\\_scaffold\\_lineage.tsv\\\\\n",
       "\t nmdc:bsm-11-06tgpb52 & O horizon & USA: Colorado, Rocky Mountains & nmdc:dobj-11-mmv19z03 & Scaffold Lineage tsv & https://data.microbiomedata.org/data/nmdc:omprc-11-597mc608/nmdc:wfmgan-11-3s20yk38.2/nmdc\\_wfmgan-11-3s20yk38.2\\_scaffold\\_lineage.tsv\\\\\n",
       "\t nmdc:bsm-11-0gmd9f09 & M horizon & USA: Colorado, Niwot Ridge     & nmdc:dobj-11-xt9amn82 & Scaffold Lineage tsv & https://data.microbiomedata.org/data/nmdc:omprc-11-gaptm502/nmdc:wfmgan-11-me7h8h69.1/nmdc\\_wfmgan-11-me7h8h69.1\\_scaffold\\_lineage.tsv\\\\\n",
       "\t nmdc:bsm-11-0hz4rd27 & O horizon & USA: Colorado, Niwot Ridge     & nmdc:dobj-11-8ybd1f87 & Scaffold Lineage tsv & https://data.microbiomedata.org/data/nmdc:omprc-11-t2fdcy08/nmdc:wfmgan-11-2a0ap078.1/nmdc\\_wfmgan-11-2a0ap078.1\\_scaffold\\_lineage.tsv\\\\\n",
       "\t nmdc:bsm-11-0qa78w81 & M horizon & USA: Colorado, North Sterling  & nmdc:dobj-11-wn5g7j41 & Scaffold Lineage tsv & https://data.microbiomedata.org/data/nmdc:omprc-11-yt96hb84/nmdc:wfmgan-11-hv3nyk36.1/nmdc\\_wfmgan-11-hv3nyk36.1\\_scaffold\\_lineage.tsv\\\\\n",
       "\t nmdc:bsm-11-0yw1rj05 & M horizon & USA: Colorado, North Sterling  & nmdc:dobj-11-b6yhf780 & Scaffold Lineage tsv & https://data.microbiomedata.org/data/nmdc:omprc-11-r5w9js52/nmdc:wfmgan-11-k5a19412.1/nmdc\\_wfmgan-11-k5a19412.1\\_scaffold\\_lineage.tsv\\\\\n",
       "\\end{tabular}\n"
      ],
      "text/markdown": [
       "\n",
       "A tibble: 6 × 6\n",
       "\n",
       "| biosample_id &lt;chr&gt; | soil_horizon &lt;chr&gt; | geo_loc_name &lt;chr&gt; | data_object_id &lt;chr&gt; | data_object_type &lt;chr&gt; | url &lt;chr&gt; |\n",
       "|---|---|---|---|---|---|\n",
       "| nmdc:bsm-11-06tgpb52 | O horizon | USA: Colorado, Rocky Mountains | nmdc:dobj-11-jp45gr33 | Scaffold Lineage tsv | https://data.microbiomedata.org/data/nmdc:omprc-11-597mc608/nmdc:wfmgan-11-3s20yk38.1/nmdc_wfmgan-11-3s20yk38.1_scaffold_lineage.tsv |\n",
       "| nmdc:bsm-11-06tgpb52 | O horizon | USA: Colorado, Rocky Mountains | nmdc:dobj-11-mmv19z03 | Scaffold Lineage tsv | https://data.microbiomedata.org/data/nmdc:omprc-11-597mc608/nmdc:wfmgan-11-3s20yk38.2/nmdc_wfmgan-11-3s20yk38.2_scaffold_lineage.tsv |\n",
       "| nmdc:bsm-11-0gmd9f09 | M horizon | USA: Colorado, Niwot Ridge     | nmdc:dobj-11-xt9amn82 | Scaffold Lineage tsv | https://data.microbiomedata.org/data/nmdc:omprc-11-gaptm502/nmdc:wfmgan-11-me7h8h69.1/nmdc_wfmgan-11-me7h8h69.1_scaffold_lineage.tsv |\n",
       "| nmdc:bsm-11-0hz4rd27 | O horizon | USA: Colorado, Niwot Ridge     | nmdc:dobj-11-8ybd1f87 | Scaffold Lineage tsv | https://data.microbiomedata.org/data/nmdc:omprc-11-t2fdcy08/nmdc:wfmgan-11-2a0ap078.1/nmdc_wfmgan-11-2a0ap078.1_scaffold_lineage.tsv |\n",
       "| nmdc:bsm-11-0qa78w81 | M horizon | USA: Colorado, North Sterling  | nmdc:dobj-11-wn5g7j41 | Scaffold Lineage tsv | https://data.microbiomedata.org/data/nmdc:omprc-11-yt96hb84/nmdc:wfmgan-11-hv3nyk36.1/nmdc_wfmgan-11-hv3nyk36.1_scaffold_lineage.tsv |\n",
       "| nmdc:bsm-11-0yw1rj05 | M horizon | USA: Colorado, North Sterling  | nmdc:dobj-11-b6yhf780 | Scaffold Lineage tsv | https://data.microbiomedata.org/data/nmdc:omprc-11-r5w9js52/nmdc:wfmgan-11-k5a19412.1/nmdc_wfmgan-11-k5a19412.1_scaffold_lineage.tsv |\n",
       "\n"
      ],
      "text/plain": [
       "  biosample_id         soil_horizon geo_loc_name                  \n",
       "1 nmdc:bsm-11-06tgpb52 O horizon    USA: Colorado, Rocky Mountains\n",
       "2 nmdc:bsm-11-06tgpb52 O horizon    USA: Colorado, Rocky Mountains\n",
       "3 nmdc:bsm-11-0gmd9f09 M horizon    USA: Colorado, Niwot Ridge    \n",
       "4 nmdc:bsm-11-0hz4rd27 O horizon    USA: Colorado, Niwot Ridge    \n",
       "5 nmdc:bsm-11-0qa78w81 M horizon    USA: Colorado, North Sterling \n",
       "6 nmdc:bsm-11-0yw1rj05 M horizon    USA: Colorado, North Sterling \n",
       "  data_object_id        data_object_type    \n",
       "1 nmdc:dobj-11-jp45gr33 Scaffold Lineage tsv\n",
       "2 nmdc:dobj-11-mmv19z03 Scaffold Lineage tsv\n",
       "3 nmdc:dobj-11-xt9amn82 Scaffold Lineage tsv\n",
       "4 nmdc:dobj-11-8ybd1f87 Scaffold Lineage tsv\n",
       "5 nmdc:dobj-11-wn5g7j41 Scaffold Lineage tsv\n",
       "6 nmdc:dobj-11-b6yhf780 Scaffold Lineage tsv\n",
       "  url                                                                                                                                 \n",
       "1 https://data.microbiomedata.org/data/nmdc:omprc-11-597mc608/nmdc:wfmgan-11-3s20yk38.1/nmdc_wfmgan-11-3s20yk38.1_scaffold_lineage.tsv\n",
       "2 https://data.microbiomedata.org/data/nmdc:omprc-11-597mc608/nmdc:wfmgan-11-3s20yk38.2/nmdc_wfmgan-11-3s20yk38.2_scaffold_lineage.tsv\n",
       "3 https://data.microbiomedata.org/data/nmdc:omprc-11-gaptm502/nmdc:wfmgan-11-me7h8h69.1/nmdc_wfmgan-11-me7h8h69.1_scaffold_lineage.tsv\n",
       "4 https://data.microbiomedata.org/data/nmdc:omprc-11-t2fdcy08/nmdc:wfmgan-11-2a0ap078.1/nmdc_wfmgan-11-2a0ap078.1_scaffold_lineage.tsv\n",
       "5 https://data.microbiomedata.org/data/nmdc:omprc-11-yt96hb84/nmdc:wfmgan-11-hv3nyk36.1/nmdc_wfmgan-11-hv3nyk36.1_scaffold_lineage.tsv\n",
       "6 https://data.microbiomedata.org/data/nmdc:omprc-11-r5w9js52/nmdc:wfmgan-11-k5a19412.1/nmdc_wfmgan-11-k5a19412.1_scaffold_lineage.tsv"
      ]
     },
     "metadata": {},
     "output_type": "display_data"
    }
   ],
   "source": [
    "biosample_df_final <- biosample_df10 %>%\n",
    "    select(biosample_id, soil_horizon, geo_loc_name, data_object_id, data_object_type, url) %>%\n",
    "    distinct() %>%\n",
    "    filter(!is.na(url))\n",
    "head(biosample_df_final)"
   ]
  },
  {
   "cell_type": "markdown",
   "id": "e8706411-d4ac-45df-b443-ae113d98421e",
   "metadata": {},
   "source": [
    "## Show how many results have M horizon vs. O horizon\n",
    "\n",
    "The `soil_horizon` column can be counted using the `count()` functionality. There are many more samples with associated Scaffold Lineage tsvs from a M horizon biosample than a O horizon."
   ]
  },
  {
   "cell_type": "code",
   "execution_count": 21,
   "id": "7521a8c4-7b02-4d4b-a0c4-4287bc814516",
   "metadata": {
    "metadata": {},
    "vscode": {
     "languageId": "r"
    }
   },
   "outputs": [
    {
     "data": {
      "text/html": [
       "<table class=\"dataframe\">\n",
       "<caption>A tibble: 2 × 2</caption>\n",
       "<thead>\n",
       "\t<tr><th scope=col>soil_horizon</th><th scope=col>n</th></tr>\n",
       "\t<tr><th scope=col>&lt;chr&gt;</th><th scope=col>&lt;int&gt;</th></tr>\n",
       "</thead>\n",
       "<tbody>\n",
       "\t<tr><td>M horizon</td><td>277</td></tr>\n",
       "\t<tr><td>O horizon</td><td> 61</td></tr>\n",
       "</tbody>\n",
       "</table>\n"
      ],
      "text/latex": [
       "A tibble: 2 × 2\n",
       "\\begin{tabular}{ll}\n",
       " soil\\_horizon & n\\\\\n",
       " <chr> & <int>\\\\\n",
       "\\hline\n",
       "\t M horizon & 277\\\\\n",
       "\t O horizon &  61\\\\\n",
       "\\end{tabular}\n"
      ],
      "text/markdown": [
       "\n",
       "A tibble: 2 × 2\n",
       "\n",
       "| soil_horizon &lt;chr&gt; | n &lt;int&gt; |\n",
       "|---|---|\n",
       "| M horizon | 277 |\n",
       "| O horizon |  61 |\n",
       "\n"
      ],
      "text/plain": [
       "  soil_horizon n  \n",
       "1 M horizon    277\n",
       "2 O horizon     61"
      ]
     },
     "metadata": {},
     "output_type": "display_data"
    }
   ],
   "source": [
    "biosample_df_final %>%\n",
    "    count(soil_horizon)"
   ]
  },
  {
   "cell_type": "markdown",
   "id": "59cfdca2-5d15-4f40-96e9-5a0454ac2d56",
   "metadata": {},
   "source": [
    "## Example of what the TSV contig taxa file looks like\n",
    "\n",
    "A snippet of the TSV file we need to iterate over to get the taxa abundance for the contigs is shown below. The third column is the initial count for the taxa, where each row is `1.0`. However, there are duplicate rows of taxa, meaning there are actually more than `1.0` for several taxa (though they appear as duplicate rows with `1.0` as the count`). We will take this into consideration when we calculate the relative abundance for each taxa."
   ]
  },
  {
   "cell_type": "code",
   "execution_count": 22,
   "id": "16c7457f-c1dc-4344-8049-581eee81ffd2",
   "metadata": {
    "metadata": {},
    "vscode": {
     "languageId": "r"
    }
   },
   "outputs": [
    {
     "data": {
      "text/html": [
       "<table class=\"dataframe\">\n",
       "<caption>A tibble: 6 × 3</caption>\n",
       "<thead>\n",
       "\t<tr><th scope=col>contig_id</th><th scope=col>taxa</th><th scope=col>initial_count</th></tr>\n",
       "\t<tr><th scope=col>&lt;chr&gt;</th><th scope=col>&lt;chr&gt;</th><th scope=col>&lt;dbl&gt;</th></tr>\n",
       "</thead>\n",
       "<tbody>\n",
       "\t<tr><td>nmdc:wfmgas-11-qdbye406.1_scf_10000_c1</td><td>Bacteria;Pseudomonadota;Alphaproteobacteria;Hyphomicrobiales;Nitrobacteraceae;Bradyrhizobium;Bradyrhizobium sp. KBS0725;Bradyrhizobium sp. KBS0725              </td><td>1</td></tr>\n",
       "\t<tr><td>nmdc:wfmgas-11-qdbye406.1_scf_10001_c1</td><td>Bacteria;Pseudomonadota;Alphaproteobacteria;Hyphomicrobiales;Propylenellaceae;Propylenella;Propylenella binzhouense;Propylenella binzhouense L72                </td><td>1</td></tr>\n",
       "\t<tr><td>nmdc:wfmgas-11-qdbye406.1_scf_10002_c1</td><td>Bacteria;Pseudomonadota;Alphaproteobacteria;Hyphomicrobiales;Nitrobacteraceae;Tardiphaga;Tardiphaga robiniae;Tardiphaga robiniae 1155                           </td><td>1</td></tr>\n",
       "\t<tr><td>nmdc:wfmgas-11-qdbye406.1_scf_10003_c1</td><td>Bacteria;Pseudomonadota;Alphaproteobacteria;Hyphomicrobiales;Nitrobacteraceae;Bradyrhizobium;Bradyrhizobium lablabi;Bradyrhizobium lablabi GAS165               </td><td>1</td></tr>\n",
       "\t<tr><td>nmdc:wfmgas-11-qdbye406.1_scf_10004_c1</td><td>Bacteria;Pseudomonadota;Alphaproteobacteria;Hyphomicrobiales;Nitrobacteraceae;Bradyrhizobium;Bradyrhizobium sp. SRL28;Bradyrhizobium sp. SRL28                  </td><td>1</td></tr>\n",
       "\t<tr><td>nmdc:wfmgas-11-qdbye406.1_scf_10005_c1</td><td>Bacteria;Pseudomonadota;Alphaproteobacteria;Hyphomicrobiales;Nitrobacteraceae;Bradyrhizobium;Bradyrhizobium sp. AUGA SZCCT0283;Bradyrhizobium sp. AUGA SZCCT0283</td><td>1</td></tr>\n",
       "</tbody>\n",
       "</table>\n"
      ],
      "text/latex": [
       "A tibble: 6 × 3\n",
       "\\begin{tabular}{lll}\n",
       " contig\\_id & taxa & initial\\_count\\\\\n",
       " <chr> & <chr> & <dbl>\\\\\n",
       "\\hline\n",
       "\t nmdc:wfmgas-11-qdbye406.1\\_scf\\_10000\\_c1 & Bacteria;Pseudomonadota;Alphaproteobacteria;Hyphomicrobiales;Nitrobacteraceae;Bradyrhizobium;Bradyrhizobium sp. KBS0725;Bradyrhizobium sp. KBS0725               & 1\\\\\n",
       "\t nmdc:wfmgas-11-qdbye406.1\\_scf\\_10001\\_c1 & Bacteria;Pseudomonadota;Alphaproteobacteria;Hyphomicrobiales;Propylenellaceae;Propylenella;Propylenella binzhouense;Propylenella binzhouense L72                 & 1\\\\\n",
       "\t nmdc:wfmgas-11-qdbye406.1\\_scf\\_10002\\_c1 & Bacteria;Pseudomonadota;Alphaproteobacteria;Hyphomicrobiales;Nitrobacteraceae;Tardiphaga;Tardiphaga robiniae;Tardiphaga robiniae 1155                            & 1\\\\\n",
       "\t nmdc:wfmgas-11-qdbye406.1\\_scf\\_10003\\_c1 & Bacteria;Pseudomonadota;Alphaproteobacteria;Hyphomicrobiales;Nitrobacteraceae;Bradyrhizobium;Bradyrhizobium lablabi;Bradyrhizobium lablabi GAS165                & 1\\\\\n",
       "\t nmdc:wfmgas-11-qdbye406.1\\_scf\\_10004\\_c1 & Bacteria;Pseudomonadota;Alphaproteobacteria;Hyphomicrobiales;Nitrobacteraceae;Bradyrhizobium;Bradyrhizobium sp. SRL28;Bradyrhizobium sp. SRL28                   & 1\\\\\n",
       "\t nmdc:wfmgas-11-qdbye406.1\\_scf\\_10005\\_c1 & Bacteria;Pseudomonadota;Alphaproteobacteria;Hyphomicrobiales;Nitrobacteraceae;Bradyrhizobium;Bradyrhizobium sp. AUGA SZCCT0283;Bradyrhizobium sp. AUGA SZCCT0283 & 1\\\\\n",
       "\\end{tabular}\n"
      ],
      "text/markdown": [
       "\n",
       "A tibble: 6 × 3\n",
       "\n",
       "| contig_id &lt;chr&gt; | taxa &lt;chr&gt; | initial_count &lt;dbl&gt; |\n",
       "|---|---|---|\n",
       "| nmdc:wfmgas-11-qdbye406.1_scf_10000_c1 | Bacteria;Pseudomonadota;Alphaproteobacteria;Hyphomicrobiales;Nitrobacteraceae;Bradyrhizobium;Bradyrhizobium sp. KBS0725;Bradyrhizobium sp. KBS0725               | 1 |\n",
       "| nmdc:wfmgas-11-qdbye406.1_scf_10001_c1 | Bacteria;Pseudomonadota;Alphaproteobacteria;Hyphomicrobiales;Propylenellaceae;Propylenella;Propylenella binzhouense;Propylenella binzhouense L72                 | 1 |\n",
       "| nmdc:wfmgas-11-qdbye406.1_scf_10002_c1 | Bacteria;Pseudomonadota;Alphaproteobacteria;Hyphomicrobiales;Nitrobacteraceae;Tardiphaga;Tardiphaga robiniae;Tardiphaga robiniae 1155                            | 1 |\n",
       "| nmdc:wfmgas-11-qdbye406.1_scf_10003_c1 | Bacteria;Pseudomonadota;Alphaproteobacteria;Hyphomicrobiales;Nitrobacteraceae;Bradyrhizobium;Bradyrhizobium lablabi;Bradyrhizobium lablabi GAS165                | 1 |\n",
       "| nmdc:wfmgas-11-qdbye406.1_scf_10004_c1 | Bacteria;Pseudomonadota;Alphaproteobacteria;Hyphomicrobiales;Nitrobacteraceae;Bradyrhizobium;Bradyrhizobium sp. SRL28;Bradyrhizobium sp. SRL28                   | 1 |\n",
       "| nmdc:wfmgas-11-qdbye406.1_scf_10005_c1 | Bacteria;Pseudomonadota;Alphaproteobacteria;Hyphomicrobiales;Nitrobacteraceae;Bradyrhizobium;Bradyrhizobium sp. AUGA SZCCT0283;Bradyrhizobium sp. AUGA SZCCT0283 | 1 |\n",
       "\n"
      ],
      "text/plain": [
       "  contig_id                             \n",
       "1 nmdc:wfmgas-11-qdbye406.1_scf_10000_c1\n",
       "2 nmdc:wfmgas-11-qdbye406.1_scf_10001_c1\n",
       "3 nmdc:wfmgas-11-qdbye406.1_scf_10002_c1\n",
       "4 nmdc:wfmgas-11-qdbye406.1_scf_10003_c1\n",
       "5 nmdc:wfmgas-11-qdbye406.1_scf_10004_c1\n",
       "6 nmdc:wfmgas-11-qdbye406.1_scf_10005_c1\n",
       "  taxa                                                                                                                                                            \n",
       "1 Bacteria;Pseudomonadota;Alphaproteobacteria;Hyphomicrobiales;Nitrobacteraceae;Bradyrhizobium;Bradyrhizobium sp. KBS0725;Bradyrhizobium sp. KBS0725              \n",
       "2 Bacteria;Pseudomonadota;Alphaproteobacteria;Hyphomicrobiales;Propylenellaceae;Propylenella;Propylenella binzhouense;Propylenella binzhouense L72                \n",
       "3 Bacteria;Pseudomonadota;Alphaproteobacteria;Hyphomicrobiales;Nitrobacteraceae;Tardiphaga;Tardiphaga robiniae;Tardiphaga robiniae 1155                           \n",
       "4 Bacteria;Pseudomonadota;Alphaproteobacteria;Hyphomicrobiales;Nitrobacteraceae;Bradyrhizobium;Bradyrhizobium lablabi;Bradyrhizobium lablabi GAS165               \n",
       "5 Bacteria;Pseudomonadota;Alphaproteobacteria;Hyphomicrobiales;Nitrobacteraceae;Bradyrhizobium;Bradyrhizobium sp. SRL28;Bradyrhizobium sp. SRL28                  \n",
       "6 Bacteria;Pseudomonadota;Alphaproteobacteria;Hyphomicrobiales;Nitrobacteraceae;Bradyrhizobium;Bradyrhizobium sp. AUGA SZCCT0283;Bradyrhizobium sp. AUGA SZCCT0283\n",
       "  initial_count\n",
       "1 1            \n",
       "2 1            \n",
       "3 1            \n",
       "4 1            \n",
       "5 1            \n",
       "6 1            "
      ]
     },
     "metadata": {},
     "output_type": "display_data"
    }
   ],
   "source": [
    "url <- biosample_df_final$url[1]\n",
    "\n",
    "# Read the TSV file\n",
    "contig_taxa_df <- read_tsv(url, col_names = FALSE, show_col_types = FALSE)\n",
    "\n",
    "# Add column names \n",
    "colnames(contig_taxa_df) <- c('contig_id', 'taxa', 'initial_count')\n",
    "\n",
    "# Show the first few rows\n",
    "head(contig_taxa_df)"
   ]
  },
  {
   "cell_type": "markdown",
   "id": "484d4ab1-bdf9-4d60-898f-e178daea0c42",
   "metadata": {},
   "source": [
    "## Iterate throught the TSVs to get the contig taxa information\n",
    "\n",
    "Using the readr's `read_tsv` function, the TSV urls can be iterated over gathering the taxa information. The TSVs are converted into dataframes where they are manipulated to suit the data structure needed. The columns are given names and the taxa column is split into a proper list (instead of a string of items separated by a semicolon ;). The third element from the list of taxa is retrieved to get only the phylum level information of the taxa (or unknown to the highest available taxon). A grouping function is performed on the `taxa` column and the `count()` functionality is used to calculate the count for how many times each taxa occurs, which is then used to calculate the relative abundance of each taxa for each sample. \n",
    "\n",
    "Any errors in requesting the TSV urls are collected as a dictionary, so we can either try to query them again, or look into why they were not able to be collected. "
   ]
  },
  {
   "cell_type": "code",
   "execution_count": 23,
   "id": "8a331e72-182c-4a55-b1e9-705908b6238d",
   "metadata": {
    "metadata": {},
    "vscode": {
     "languageId": "r"
    }
   },
   "outputs": [
    {
     "name": "stdout",
     "output_type": "stream",
     "text": [
      "[1] \"Processing 10 of 119\"\n",
      "[1] \"Processing 20 of 119\"\n",
      "[1] \"Processing 30 of 119\"\n",
      "[1] \"Processing 40 of 119\"\n",
      "[1] \"Processing 50 of 119\"\n",
      "[1] \"Processing 60 of 119\"\n",
      "[1] \"Processing 70 of 119\"\n",
      "[1] \"Processing 80 of 119\"\n",
      "[1] \"Processing 90 of 119\"\n",
      "[1] \"Processing 100 of 119\"\n",
      "[1] \"Processing 110 of 119\"\n"
     ]
    },
    {
     "data": {
      "text/html": [
       "<table class=\"dataframe\">\n",
       "<caption>A tibble: 6 × 4</caption>\n",
       "<thead>\n",
       "\t<tr><th scope=col>taxa</th><th scope=col>count</th><th scope=col>relative_abundance</th><th scope=col>url</th></tr>\n",
       "\t<tr><th scope=col>&lt;chr&gt;</th><th scope=col>&lt;int&gt;</th><th scope=col>&lt;dbl&gt;</th><th scope=col>&lt;chr&gt;</th></tr>\n",
       "</thead>\n",
       "<tbody>\n",
       "\t<tr><td>Acidimicrobiia     </td><td>  372</td><td>7.050796e-03</td><td>https://data.microbiomedata.org/data/nmdc:omprc-11-597mc608/nmdc:wfmgan-11-3s20yk38.1/nmdc_wfmgan-11-3s20yk38.1_scaffold_lineage.tsv</td></tr>\n",
       "\t<tr><td>Acidithiobacillia  </td><td>    5</td><td>9.476876e-05</td><td>https://data.microbiomedata.org/data/nmdc:omprc-11-597mc608/nmdc:wfmgan-11-3s20yk38.1/nmdc_wfmgan-11-3s20yk38.1_scaffold_lineage.tsv</td></tr>\n",
       "\t<tr><td>Actinomycetes      </td><td>18409</td><td>3.489196e-01</td><td>https://data.microbiomedata.org/data/nmdc:omprc-11-597mc608/nmdc:wfmgan-11-3s20yk38.1/nmdc_wfmgan-11-3s20yk38.1_scaffold_lineage.tsv</td></tr>\n",
       "\t<tr><td>Agaricomycetes     </td><td>  151</td><td>2.862017e-03</td><td>https://data.microbiomedata.org/data/nmdc:omprc-11-597mc608/nmdc:wfmgan-11-3s20yk38.1/nmdc_wfmgan-11-3s20yk38.1_scaffold_lineage.tsv</td></tr>\n",
       "\t<tr><td>Alphaproteobacteria</td><td>18355</td><td>3.478961e-01</td><td>https://data.microbiomedata.org/data/nmdc:omprc-11-597mc608/nmdc:wfmgan-11-3s20yk38.1/nmdc_wfmgan-11-3s20yk38.1_scaffold_lineage.tsv</td></tr>\n",
       "\t<tr><td>Anaerolineae       </td><td>   17</td><td>3.222138e-04</td><td>https://data.microbiomedata.org/data/nmdc:omprc-11-597mc608/nmdc:wfmgan-11-3s20yk38.1/nmdc_wfmgan-11-3s20yk38.1_scaffold_lineage.tsv</td></tr>\n",
       "</tbody>\n",
       "</table>\n"
      ],
      "text/latex": [
       "A tibble: 6 × 4\n",
       "\\begin{tabular}{llll}\n",
       " taxa & count & relative\\_abundance & url\\\\\n",
       " <chr> & <int> & <dbl> & <chr>\\\\\n",
       "\\hline\n",
       "\t Acidimicrobiia      &   372 & 7.050796e-03 & https://data.microbiomedata.org/data/nmdc:omprc-11-597mc608/nmdc:wfmgan-11-3s20yk38.1/nmdc\\_wfmgan-11-3s20yk38.1\\_scaffold\\_lineage.tsv\\\\\n",
       "\t Acidithiobacillia   &     5 & 9.476876e-05 & https://data.microbiomedata.org/data/nmdc:omprc-11-597mc608/nmdc:wfmgan-11-3s20yk38.1/nmdc\\_wfmgan-11-3s20yk38.1\\_scaffold\\_lineage.tsv\\\\\n",
       "\t Actinomycetes       & 18409 & 3.489196e-01 & https://data.microbiomedata.org/data/nmdc:omprc-11-597mc608/nmdc:wfmgan-11-3s20yk38.1/nmdc\\_wfmgan-11-3s20yk38.1\\_scaffold\\_lineage.tsv\\\\\n",
       "\t Agaricomycetes      &   151 & 2.862017e-03 & https://data.microbiomedata.org/data/nmdc:omprc-11-597mc608/nmdc:wfmgan-11-3s20yk38.1/nmdc\\_wfmgan-11-3s20yk38.1\\_scaffold\\_lineage.tsv\\\\\n",
       "\t Alphaproteobacteria & 18355 & 3.478961e-01 & https://data.microbiomedata.org/data/nmdc:omprc-11-597mc608/nmdc:wfmgan-11-3s20yk38.1/nmdc\\_wfmgan-11-3s20yk38.1\\_scaffold\\_lineage.tsv\\\\\n",
       "\t Anaerolineae        &    17 & 3.222138e-04 & https://data.microbiomedata.org/data/nmdc:omprc-11-597mc608/nmdc:wfmgan-11-3s20yk38.1/nmdc\\_wfmgan-11-3s20yk38.1\\_scaffold\\_lineage.tsv\\\\\n",
       "\\end{tabular}\n"
      ],
      "text/markdown": [
       "\n",
       "A tibble: 6 × 4\n",
       "\n",
       "| taxa &lt;chr&gt; | count &lt;int&gt; | relative_abundance &lt;dbl&gt; | url &lt;chr&gt; |\n",
       "|---|---|---|---|\n",
       "| Acidimicrobiia      |   372 | 7.050796e-03 | https://data.microbiomedata.org/data/nmdc:omprc-11-597mc608/nmdc:wfmgan-11-3s20yk38.1/nmdc_wfmgan-11-3s20yk38.1_scaffold_lineage.tsv |\n",
       "| Acidithiobacillia   |     5 | 9.476876e-05 | https://data.microbiomedata.org/data/nmdc:omprc-11-597mc608/nmdc:wfmgan-11-3s20yk38.1/nmdc_wfmgan-11-3s20yk38.1_scaffold_lineage.tsv |\n",
       "| Actinomycetes       | 18409 | 3.489196e-01 | https://data.microbiomedata.org/data/nmdc:omprc-11-597mc608/nmdc:wfmgan-11-3s20yk38.1/nmdc_wfmgan-11-3s20yk38.1_scaffold_lineage.tsv |\n",
       "| Agaricomycetes      |   151 | 2.862017e-03 | https://data.microbiomedata.org/data/nmdc:omprc-11-597mc608/nmdc:wfmgan-11-3s20yk38.1/nmdc_wfmgan-11-3s20yk38.1_scaffold_lineage.tsv |\n",
       "| Alphaproteobacteria | 18355 | 3.478961e-01 | https://data.microbiomedata.org/data/nmdc:omprc-11-597mc608/nmdc:wfmgan-11-3s20yk38.1/nmdc_wfmgan-11-3s20yk38.1_scaffold_lineage.tsv |\n",
       "| Anaerolineae        |    17 | 3.222138e-04 | https://data.microbiomedata.org/data/nmdc:omprc-11-597mc608/nmdc:wfmgan-11-3s20yk38.1/nmdc_wfmgan-11-3s20yk38.1_scaffold_lineage.tsv |\n",
       "\n"
      ],
      "text/plain": [
       "  taxa                count relative_abundance\n",
       "1 Acidimicrobiia        372 7.050796e-03      \n",
       "2 Acidithiobacillia       5 9.476876e-05      \n",
       "3 Actinomycetes       18409 3.489196e-01      \n",
       "4 Agaricomycetes        151 2.862017e-03      \n",
       "5 Alphaproteobacteria 18355 3.478961e-01      \n",
       "6 Anaerolineae           17 3.222138e-04      \n",
       "  url                                                                                                                                 \n",
       "1 https://data.microbiomedata.org/data/nmdc:omprc-11-597mc608/nmdc:wfmgan-11-3s20yk38.1/nmdc_wfmgan-11-3s20yk38.1_scaffold_lineage.tsv\n",
       "2 https://data.microbiomedata.org/data/nmdc:omprc-11-597mc608/nmdc:wfmgan-11-3s20yk38.1/nmdc_wfmgan-11-3s20yk38.1_scaffold_lineage.tsv\n",
       "3 https://data.microbiomedata.org/data/nmdc:omprc-11-597mc608/nmdc:wfmgan-11-3s20yk38.1/nmdc_wfmgan-11-3s20yk38.1_scaffold_lineage.tsv\n",
       "4 https://data.microbiomedata.org/data/nmdc:omprc-11-597mc608/nmdc:wfmgan-11-3s20yk38.1/nmdc_wfmgan-11-3s20yk38.1_scaffold_lineage.tsv\n",
       "5 https://data.microbiomedata.org/data/nmdc:omprc-11-597mc608/nmdc:wfmgan-11-3s20yk38.1/nmdc_wfmgan-11-3s20yk38.1_scaffold_lineage.tsv\n",
       "6 https://data.microbiomedata.org/data/nmdc:omprc-11-597mc608/nmdc:wfmgan-11-3s20yk38.1/nmdc_wfmgan-11-3s20yk38.1_scaffold_lineage.tsv"
      ]
     },
     "metadata": {},
     "output_type": "display_data"
    }
   ],
   "source": [
    "urls <- unique(biosample_df_final$url)\n",
    "results_list <- c()\n",
    "error_dict <- list()\n",
    "\n",
    "for (i in 1:length(urls)) {\n",
    "    # if i a factor of 100, print the progress\n",
    "    if (i %% 10 == 0) {\n",
    "        print(paste('Processing', i, 'of', length(urls)))\n",
    "    }\n",
    "    url <- urls[i]\n",
    "    tryCatch({\n",
    "        contig_taxa_df <- read_tsv(url, col_names = FALSE, show_col_types = FALSE)\n",
    "        colnames(contig_taxa_df) <- c('contig_id', 'taxa', 'initial_count')\n",
    "        \n",
    "        # Clean up the taxa column and deal with unknown taxa\n",
    "        contig_taxa_df$taxa_new <- contig_taxa_df$taxa\n",
    "        contig_taxa_df$taxa_new <- sapply(strsplit(contig_taxa_df$taxa_new, ';'), function(x) x[3])\n",
    "        contig_taxa_df$taxa_new <- ifelse(\n",
    "            is.na(contig_taxa_df$taxa_new), \n",
    "            paste('Unknown', sapply(strsplit(contig_taxa_df$taxa, ';'), function(x) x[2])), \n",
    "            contig_taxa_df$taxa_new)\n",
    "        contig_taxa_df$taxa_new <- ifelse(\n",
    "            contig_taxa_df$taxa_new == \"Unknown NA\", \n",
    "            paste('Unknown', sapply(strsplit(contig_taxa_df$taxa, ';'), function(x) x[1])), \n",
    "            contig_taxa_df$taxa_new)\n",
    "        contig_taxa_df$taxa <- contig_taxa_df$taxa_new\n",
    "\n",
    "        contig_taxa_df <- contig_taxa_df %>%\n",
    "            group_by(taxa) %>%\n",
    "            summarise(count = n()) %>%\n",
    "            mutate(relative_abundance = count / sum(count))\n",
    "\n",
    "        # Add the queried url to the dataframe for later joining\n",
    "        contig_taxa_df$url <- url\n",
    "        results_list[[i]] <- contig_taxa_df\n",
    "\n",
    "    }, error = function(e) {\n",
    "        error_dict[[i]] <- e\n",
    "    })\n",
    "}\n",
    "\n",
    "# Combine results into single dataframe\n",
    "contig_df <- bind_rows(results_list) \n",
    "\n",
    "head(contig_df)"
   ]
  },
  {
   "cell_type": "markdown",
   "id": "f425cddd-6a17-4ebb-bf0d-415df07f28ad",
   "metadata": {},
   "source": [
    "## Clean up the relative abundance data to fill in NAs with 0 for unobserved taxa"
   ]
  },
  {
   "cell_type": "code",
   "execution_count": 24,
   "id": "dae25f8c-ffb9-43a7-8b9b-9464d3e9b8b9",
   "metadata": {
    "metadata": {},
    "vscode": {
     "languageId": "r"
    }
   },
   "outputs": [],
   "source": [
    "# First merge to get the url for geo_loc_name and soil_horizon\n",
    "biosample_taxa_df <- biosample_df_final %>%\n",
    "    select(soil_horizon, geo_loc_name, url) %>%\n",
    "    distinct() %>%\n",
    "    right_join(contig_df, by = join_by(url))\n",
    "\n",
    "# Then pivot the table to fill in the relative abundance as zero for un-observed taxa\n",
    "biosample_taxa_df_wide <- biosample_taxa_df %>%\n",
    "    pivot_wider(id_cols = c(url, soil_horizon, geo_loc_name),\n",
    "        names_from = taxa, values_from = relative_abundance) %>%\n",
    "    replace(is.na(.), 0)\n",
    "\n",
    "# And unpivot the table to get the taxa relative abundance for each biosample\n",
    "biosample_taxa_df <- biosample_taxa_df_wide %>%\n",
    "    pivot_longer(cols = -c(url, soil_horizon, geo_loc_name), names_to = 'taxa', values_to = 'relative_abundance')"
   ]
  },
  {
   "cell_type": "markdown",
   "id": "b143ea72-6869-4d82-987b-8b7281fb3806",
   "metadata": {},
   "source": [
    "## Plot the average taxa abundance for all M and O horizon soil samples\n",
    "\n",
    "First calculate the average relative abundance for each taxa in each soil horizon.  Next, we'll pull out the top ten taxa and lump all others into an \"Other\" category for plotting purposes using the `forcats::fct_other` function.  Then we'll calculate the mean relative abundance of each taxa for each soil horizon. Finally, we'll choose an appropriate color palette for the plot, and plot the relative abundance of each taxa for each soil horizon at each location."
   ]
  },
  {
   "cell_type": "code",
   "execution_count": 25,
   "id": "460474ef-2d2e-4553-85fc-78dc5a756bf1",
   "metadata": {
    "metadata": {},
    "vscode": {
     "languageId": "r"
    }
   },
   "outputs": [
    {
     "data": {
      "image/png": "[encoded data removed]",
      "text/plain": [
       "plot without title"
      ]
     },
     "metadata": {
      "image/png": {
       "height": 875,
       "width": 875
      }
     },
     "output_type": "display_data"
    }
   ],
   "source": [
    "options(dplyr.summarise.inform = FALSE)\n",
    "horizon_taxa <- biosample_taxa_df %>%\n",
    "    group_by(soil_horizon, taxa) %>%\n",
    "    summarise(mean_relative_abundance = mean(relative_abundance))%>%\n",
    "    arrange(mean_relative_abundance) %>%\n",
    "    mutate(taxa = factor(taxa, levels = rev(unique(taxa)))) %>%\n",
    "    mutate(taxa_lump = forcats::fct_other(taxa, keep = levels(taxa)[1:15], other_level = 'Other')) \n",
    "           \n",
    "# Make color palette that is 9 colors long, and followed with grey\n",
    "color_pal <- c(RColorBrewer::brewer.pal(8, 'Set1'), RColorBrewer::brewer.pal(7, 'Set3'), 'grey')\n",
    "g <- ggplot(horizon_taxa, aes(x = soil_horizon, y = mean_relative_abundance, fill = taxa_lump)) +\n",
    "    geom_bar(stat = 'identity', color = NA) +\n",
    "    theme(axis.text.x = element_text(angle = 90, hjust = 1)) +\n",
    "    labs(title = 'Taxa abundance of M and O horizon soil samples',\n",
    "         x = 'Soil Horizon', y = 'Mean relative abundance', fill = NULL) +\n",
    "    scale_fill_manual(values = color_pal) +\n",
    "    theme_minimal() \n",
    "options(repr.plot.width = 7, repr.plot.height = 7, repr.plot.res = 250)\n",
    "g"
   ]
  },
  {
   "cell_type": "markdown",
   "id": "12922925-eabe-436c-ab87-37fbb734ca88",
   "metadata": {},
   "source": [
    "## Plot the taxa abundance of M and O horizon soil samples for each location\n",
    "First we'll pull out the top ten taxa and lump all others into an \"Other\" category for plotting purposes using the `forcats::fct_other` function.  Then we'll calculate the mean relative abundance of each taxa for each soil horizon for each location. Finally, we'll plot the relative abundance of each taxa for each soil horizon at each location (using the same color palette as above)."
   ]
  },
  {
   "cell_type": "code",
   "execution_count": 26,
   "id": "af8211c8-93cd-4be7-8fc5-1bbcc30187ab",
   "metadata": {
    "metadata": {},
    "vscode": {
     "languageId": "r"
    }
   },
   "outputs": [
    {
     "data": {
      "image/png": "[encoded data removed]",
      "text/plain": [
       "plot without title"
      ]
     },
     "metadata": {
      "image/png": {
       "height": 875,
       "width": 1125
      }
     },
     "output_type": "display_data"
    }
   ],
   "source": [
    "geo_taxa <- biosample_taxa_df %>%\n",
    "    group_by(geo_loc_name, soil_horizon, taxa) %>%\n",
    "    summarise(mean_relative_abundance = mean(relative_abundance)) %>%\n",
    "    arrange(mean_relative_abundance) %>%\n",
    "    mutate(taxa = factor(taxa, levels = rev(unique(taxa)))) %>%\n",
    "    mutate(taxa_lump = forcats::fct_other(taxa, keep = levels(taxa)[1:15], other_level = 'Other')) %>%\n",
    "    mutate(soil_horizon = factor(soil_horizon, levels = c('M horizon', 'O horizon'), labels = c('M', 'O')))\n",
    "\n",
    "g <- ggplot(geo_taxa, aes(x = soil_horizon, y = mean_relative_abundance, fill = taxa_lump)) +\n",
    "    geom_bar(stat = 'identity', color = NA) +\n",
    "    facet_wrap(~geo_loc_name, nrow = 1,labeller =  label_wrap_gen(width = 20, multi_line = TRUE)) +\n",
    "    labs(title = 'Taxa abundance of M and O horizon soil samples for each location',\n",
    "         x = 'Soil Horizon', y = 'Mean relative abundance', fill = NULL) +\n",
    "    scale_fill_manual(values = color_pal) +\n",
    "    theme_minimal()+\n",
    "    theme(axis.text.x = element_text(angle = 90, hjust = 1),\n",
    "          legend.position = \"bottom\") \n",
    "options(repr.plot.width = 9, repr.plot.height = 7, repr.plot.res = 250)\n",
    "g"
   ]
  }
 ],
 "metadata": {
  "kernelspec": {
   "display_name": "R",
   "language": "R",
   "name": "kernelspec"
  },
  "language_info": {
   "codemirror_mode": "r",
   "file_extension": ".r",
   "mimetype": "text/x-r-source",
   "name": "R",
   "pygments_lexer": "r",
   "version": "4.4.1"
  },
  "widgets": {
   "application/vnd.jupyter.widget-state+json": {
    "state": {},
    "version_major": 2,
    "version_minor": 0
   }
  }
 },
 "nbformat": 4,
 "nbformat_minor": 5
}
